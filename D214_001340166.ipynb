{
 "cells": [
  {
   "cell_type": "markdown",
   "metadata": {},
   "source": [
    "A. Research Question\n",
    "\n",
    "- The posed research question, \"To what extent does pre-release and early-release information such as platform, genre, developer, and initial reviews affect overall user ratings of a video game?\", is a justifiable catalyst for research within the context of the video game industry, which has significant cultural and economic impact. Understanding these factors can assist in optimizing resources and better planning for market strategies.Gaining predictive capability for a game’s reception based on early indicators can be highly beneficial to stakeholders in the industry. The hypothesis that pre-release and early-release information, such as platform, genre, developer, and initial reviews, significantly affect the overall user ratings of a video game supports the potential to achieve this predictive capability.\n",
    "\n",
    "B. Data Collection\n",
    "- The publicly available dataset sourced from Kaggle contains Metacritic review data, including game titles, genres, developers, release dates, platforms, ratings, and reviews. One advantage of the dataset is that it is fairly comprehensive and structured in a manner that does not require extensive preprocessing, which facilitates easier analysis and model creation. However, a disadvantage of the dataset is its lack of the most recent video game releases, which could affect the relevance and accuracy of the predictions. A challenge that was overcome involved ensuring the data's completeness and quality by performing thorough preprocessing and data cleaning to handle inconsistencies and missing values.\n",
    "\n",
    "C. Data Extraction and Preparation (Summary)\n",
    "- - The dataset was loaded using Dask for efficient parallel processing.\n",
    "- - Duplicate records were dropped and missing values were either imputed or dropped\n",
    "- - Where necessary, data types were converted to a usable number format, and additional features such as release year, quarter, month, week, day of the week, and day of the year were extracted from the release date.\n",
    "- - Review texts were preprocessed (stopwords removed, casing lowered, punctuation removed), and they were tokenized in padded sequences to ensure consistent shape for the model.\n",
    "- - Categorical variables such as genre, platforms, game developer, and product rating were binarized using MultiLabelBinarizer, ensuring consistent shape for the model.\n",
    "- - Numerical variables were scaled using StandardScaler.\n",
    "- - Tools: Python, Dask, Pandas, Numpy, TensorFlow, Keras, sklearn\n",
    "- - Techniques: Data cleaning, text preprocessing, feature extraction, tokenization, scaling\n",
    "- These tools and techniques justifiably offer efficiency and effectiveness in handling complex computations and large datasets. While Dask allows parallel processing for faster data handling, TensorFlow and Keras are suitable for building neural network models. One advantage of using these tools and techniques is the capability to quickly and efficiently process large quantities of data. A disadvantage is the complexity involved in setting up and managing these tools, particularly parallel processing (Dask), which requires a solid understanding of their functionality and potential pitfalls.\n",
    "\n",
    "D. Analysis (Summary)\n",
    "- For analysis, a neural network model using TensorFlow and Keras was created and incrementally trained. To comprehensively capture the data present in the metacritic reviews, the model architecture included separate branches for numerical and text inputs that were later concatenated and fed into dense layers for prediction. To evaluate the model’s performance, Mean Squared Error (MSE), Mean Absolute Error (MAE), and R-Squared (R2) were used. A neural network was justifiably selected for analysis due to its ability to effectively handle both numerical and text data to capture complex patterns. An advantage of using a neural network is its flexibility, while a disadvantage is the high time required and computational cost for training the model.\n",
    "\n",
    "C. Data Extraction and Preparation / D. Analysis (Detailed)\n",
    "- Regex, NLTK, LangDetect, and LangID were used for text preprocessing, stopword removal, and language detection.\n",
    "- Dask, Psutil were used for parallel processing of the dataset and memory usage optimization.\n",
    "- Pandas, Collections, and Numpy were used for data manipulation and numerical operations.\n",
    "- Tensflow and Keras were used for building and training the neural network model.\n",
    "- sklearn was used for processing and model evaluation\n",
    "- Pickle was used for saving and loading variables"
   ]
  },
  {
   "cell_type": "code",
   "execution_count": 3,
   "metadata": {},
   "outputs": [
    {
     "name": "stderr",
     "output_type": "stream",
     "text": [
      "[nltk_data] Downloading package stopwords to\n",
      "[nltk_data]     C:\\Users\\derek\\AppData\\Roaming\\nltk_data...\n",
      "[nltk_data]   Package stopwords is already up-to-date!\n"
     ]
    },
    {
     "data": {
      "text/plain": [
       "True"
      ]
     },
     "execution_count": 3,
     "metadata": {},
     "output_type": "execute_result"
    }
   ],
   "source": [
    "import re as regex\n",
    "import nltk as nltk\n",
    "import langdetect as ldetect\n",
    "import langid as lId\n",
    "import psutil as psutil\n",
    "import dask.dataframe as daskdf\n",
    "import dask.distributed as daskdist\n",
    "import dask.cache as DaskCache\n",
    "import pandas as pd\n",
    "import numpy as np\n",
    "import tensorflow as tf\n",
    "import tensorflow.keras.preprocessing as tfkpp\n",
    "import tensorflow.keras.models as tfkm\n",
    "import tensorflow.keras.layers as tfkl\n",
    "import tensorflow.keras.callbacks as tfkc\n",
    "import gc as gc\n",
    "import io as io\n",
    "import sklearn.preprocessing as skpp\n",
    "import sklearn.model_selection as skms\n",
    "import sklearn.metrics as skm\n",
    "import collections as colls\n",
    "import pickle as pkl\n",
    "\n",
    "nltk.download(\"stopwords\")"
   ]
  },
  {
   "cell_type": "markdown",
   "metadata": {},
   "source": [
    "- The GetUniqueLabels() function extracts the unique labels within the entire dataset for the categorical variables, Genre, Platforms, Game Developer, and Product Rating. While all unique labels are used for Genre, Platforms, and Product Rating, only Game Developers that are present within more than 100 records are kept as unique labels; this was done because the infrequent labels greatly increased the processed dataset size while not being very significant for training."
   ]
  },
  {
   "cell_type": "code",
   "execution_count": 4,
   "metadata": {},
   "outputs": [],
   "source": [
    "def GetUniqueLabels():\n",
    "    mcData = daskdf.read_csv(mcPath, low_memory = False, dtype = mcDaskDT)\n",
    "    mcData = mcData[[\"Genre\", \"Platforms\", \"Game Developer\", \"Product Rating\"]].dropna()\n",
    "    mcData[\"Genre\"] = mcData[\"Genre\"].str[9:]\n",
    "    devCounter = colls.Counter(list(mcData[\"Game Developer\"].str.split(\",\").explode().compute()))\n",
    "    devFilter = {dev for dev, c in devCounter.items() if c > 100}\n",
    "    return {\n",
    "        \"Genre\": list(mcData[\"Genre\"].str.split(\",\").explode().unique().compute()),\n",
    "        \"Platforms\": list(mcData[\"Platforms\"].str.split(\",\").explode().unique().compute()),\n",
    "        \"Game Developer\": list(devFilter),\n",
    "        \"Product Rating\": list(mcData[\"Product Rating\"].unique().compute())\n",
    "    }"
   ]
  },
  {
   "cell_type": "markdown",
   "metadata": {},
   "source": [
    "- The GetTokenVars() function calculates the length the sequences will be and extracts all unique english words within the entire dataset."
   ]
  },
  {
   "cell_type": "code",
   "execution_count": 5,
   "metadata": {},
   "outputs": [],
   "source": [
    "def GetTokenVars():\n",
    "    mcData = daskdf.read_csv(mcPath, low_memory = False, dtype = mcDaskDT)\n",
    "    mcData = mcData[\"Review Text\"].dropna()\n",
    "    def GetReviewLen(rev):\n",
    "        if pd.isna(rev) or not rev.strip():\n",
    "            return 0, []\n",
    "        rWords = regex.findall(r\"\\b\\w+\\b\", rev.lower())\n",
    "        rWords = [word for word in rWords if word not in langPro[\"nltkSW\"]]\n",
    "        if not rWords:\n",
    "            return 0, []\n",
    "        try:\n",
    "            jStr = (\" \".join(rWords))\n",
    "            langCheck1 = langPro[\"ldect\"](jStr)\n",
    "            langCheck2 = langPro[\"lId\"](jStr)[0]\n",
    "            if langCheck1 != \"en\" and langCheck2 != \"en\":\n",
    "                return 0, []\n",
    "        except:\n",
    "            return 0, []\n",
    "        return len(rWords), rWords\n",
    "    lensAndWords = mcData.apply(GetReviewLen, meta = pd.Series(dtype = object)).compute()\n",
    "    maxSeqLen = max(lensAndWords.map(lambda x: x[0]))\n",
    "    allWords = [word for words in lensAndWords.map(lambda x: x[1]) for word in words]\n",
    "    allWords = list(set(allWords))\n",
    "    return maxSeqLen, allWords\n"
   ]
  },
  {
   "cell_type": "markdown",
   "metadata": {},
   "source": [
    "- The ReviewTextPrep() function preprocesses review text by removing punctuation, lowering the casing, removing stopwords, and tokenzing, or it will mark review texts for removal if they are detected as non-english or are empty after preprocessing."
   ]
  },
  {
   "cell_type": "code",
   "execution_count": 6,
   "metadata": {},
   "outputs": [],
   "source": [
    "def ReviewTextPrep(rTxt, langPro, mcTokenizer, maxSeqLen):\n",
    "    try:\n",
    "        langCheck1 = langPro[\"ldect\"](rTxt)\n",
    "        langCheck2 = langPro[\"lId\"](rTxt)[0]\n",
    "        if langCheck1 == \"en\" or langCheck2 == \"en\":\n",
    "            rTxt = rTxt.lower()\n",
    "            rTxt = regex.sub(r\"[^\\w\\s]\", \"\", rTxt)\n",
    "            rTxt = regex.sub(r\"\\d+\", \"\", rTxt)\n",
    "            rTxt = rTxt.split()\n",
    "            rTxt = [word for word in rTxt if word not in langPro[\"nltkSW\"]]\n",
    "            if not rTxt:\n",
    "                return \"~NE~\"\n",
    "            rTxt = mcTokenizer.texts_to_sequences([rTxt])\n",
    "            rTxt = tfkpp.sequence.pad_sequences(rTxt, maxlen = maxSeqLen, padding = \"post\")\n",
    "            rTxt = np.clip(rTxt, 0, mcTokenizer.num_words - 1)\n",
    "            return rTxt[0]\n",
    "        else:\n",
    "            return \"~NE~\"\n",
    "    except:\n",
    "        return \"~NE~\""
   ]
  },
  {
   "cell_type": "markdown",
   "metadata": {},
   "source": [
    "- The PreprocessData() function proprocesses all non-text data for the current dataset chunk by performing the following: \n",
    "- - Drops duplicate records\n",
    "- - Drops missing value records for most columns (\"Review Text\", \"Overall User Rating\", \"Overall Metascore\", \"Game Developer\", \"Rating Given By The Reviewer\")\n",
    "- - Imputes \"Product Rating\" missing values with its mode\n",
    "- - Drops \"Overall User Rating\" values containing \"tbd\" rather than a numeric value, then coverts column to numeric format\n",
    "- - Feature engineers \"Game Release Date\" into \"Release Year\", \"Release Quarter\", \"Release Month\", \"Release Week\", \"Release DayOfWeek\", and \"Release DayOfYear\"\n",
    "- - Binarizes \"Genre\", \"Platforms\", \"Game Developer\", and \"Product Rating\" with Multilabel Binarizer to ensure consistent shape during one-hot encoding"
   ]
  },
  {
   "cell_type": "code",
   "execution_count": 7,
   "metadata": {},
   "outputs": [],
   "source": [
    "def PreprocessData(mcDataChunk, uniqueLabels):\n",
    "    allVars = [\"Game Release Date\", \"Game Developer\", \"Genre\", \"Platforms\", \"Product Rating\", \"Overall Metascore\", \"Overall User Rating\", \"Rating Given By The Reviewer\", \"Review Text\"]\n",
    "    mcDataChunk = mcDataChunk[allVars]\n",
    "    mcDataChunk = mcDataChunk.drop_duplicates()\n",
    "    mcDataChunk = mcDataChunk.dropna(subset = [\"Review Text\", \"Overall User Rating\", \"Overall Metascore\", \"Game Developer\", \"Rating Given By The Reviewer\"])\n",
    "    mcDataChunk[\"Product Rating\"] = mcDataChunk[\"Product Rating\"].fillna(mcDataChunk[\"Product Rating\"].mode().compute()[0])\n",
    "    mcDataChunk = mcDataChunk[mcDataChunk[\"Overall User Rating\"] != \"tbd\"]\n",
    "    mcDataChunk[\"Overall User Rating\"] = mcDataChunk[\"Overall User Rating\"].astype(np.float32)\n",
    "    mcDataChunk[\"Game Release Date\"] = daskdf.to_datetime(mcDataChunk[\"Game Release Date\"], format = \"%d-%b-%y\", errors = \"coerce\")\n",
    "    mcDataChunk = mcDataChunk.dropna(subset = [\"Game Release Date\"])\n",
    "    mcDataChunk[\"Release Year\"] = mcDataChunk[\"Game Release Date\"].dt.year\n",
    "    mcDataChunk[\"Release Quarter\"] = mcDataChunk[\"Game Release Date\"].dt.quarter\n",
    "    mcDataChunk[\"Release Month\"] = mcDataChunk[\"Game Release Date\"].dt.month\n",
    "    mcDataChunk[\"Release Week\"] = np.floor(mcDataChunk[\"Game Release Date\"].dt.day / 10).astype(int)\n",
    "    mcDataChunk[\"Release DayOfWeek\"] = mcDataChunk[\"Game Release Date\"].dt.day_of_week\n",
    "    mcDataChunk[\"Release DayOfYear\"] = mcDataChunk[\"Game Release Date\"].dt.day_of_year\n",
    "    mcDataChunk = mcDataChunk.drop([\"Game Release Date\"], axis = 1)\n",
    "    mcDataChunk[\"Genre\"] = mcDataChunk[\"Genre\"].str[9:]\n",
    "    mcDataChunk[\"Genre\"] = mcDataChunk[\"Genre\"].str.split(\",\")\n",
    "    mcDataChunk[\"Platforms\"] = mcDataChunk[\"Platforms\"].str.split(\",\")\n",
    "    mcDataChunk[\"Game Developer\"] = mcDataChunk[\"Game Developer\"].str.split(\",\")\n",
    "    mcDataChunk[\"Product Rating\"] = mcDataChunk[\"Product Rating\"].str.split(\",\")\n",
    "    mlbGenre = skpp.MultiLabelBinarizer(classes = uniqueLabels[\"Genre\"])\n",
    "    mlbPlatforms = skpp.MultiLabelBinarizer(classes = uniqueLabels[\"Platforms\"])\n",
    "    mlbDeveloper = skpp.MultiLabelBinarizer(classes = uniqueLabels[\"Game Developer\"])\n",
    "    mlbRating = skpp.MultiLabelBinarizer(classes = uniqueLabels[\"Product Rating\"])\n",
    "    mlbGenreData = mlbGenre.fit_transform(mcDataChunk[\"Genre\"].compute())\n",
    "    mlbPlatformsData = mlbPlatforms.fit_transform(mcDataChunk[\"Platforms\"].compute())\n",
    "    mlbDeveloperData = mlbDeveloper.fit_transform(mcDataChunk[\"Game Developer\"].compute())\n",
    "    mlbRatingData = mlbRating.fit_transform(mcDataChunk[\"Product Rating\"].compute())\n",
    "    genrePDF = pd.DataFrame(mlbGenreData, columns = mlbGenre.classes_, index = mcDataChunk.index.compute())\n",
    "    platformsPDF = pd.DataFrame(mlbPlatformsData, columns = mlbPlatforms.classes_, index = mcDataChunk.index.compute())\n",
    "    developerPDF = pd.DataFrame(mlbDeveloperData, columns = mlbDeveloper.classes_, index = mcDataChunk.index.compute())\n",
    "    ratingPDF = pd.DataFrame(mlbRatingData, columns = mlbRating.classes_, index = mcDataChunk.index.compute())\n",
    "    mcDataChunk = mcDataChunk.drop([\"Genre\", \"Platforms\", \"Game Developer\", \"Product Rating\"], axis = 1)\n",
    "    mcDataChunk = mcDataChunk.join(daskdf.from_pandas(genrePDF, npartitions = 1))\n",
    "    mcDataChunk = mcDataChunk.join(daskdf.from_pandas(platformsPDF, npartitions = 1))\n",
    "    mcDataChunk = mcDataChunk.join(daskdf.from_pandas(developerPDF, npartitions = 1))\n",
    "    mcDataChunk = mcDataChunk.join(daskdf.from_pandas(ratingPDF, npartitions = 1))\n",
    "    daskdist.wait(mcDataChunk)\n",
    "    del mlbGenre, mlbPlatforms, mlbDeveloper, mlbRating, mlbGenreData, mlbPlatformsData, mlbDeveloperData, mlbRatingData, genrePDF, platformsPDF, developerPDF, ratingPDF\n",
    "    gc.collect()\n",
    "    return mcDataChunk"
   ]
  },
  {
   "cell_type": "markdown",
   "metadata": {},
   "source": [
    "- The FinalPreprocessAndTrain() function completes the current dataset chunk preprocessing and starts model training by performing the following:\n",
    "- - Preprocessess \"Review Text\" into sequences using the ReviewTextPrep() function, then drops all records marked for removal by the function\n",
    "- - Scales numerical columns\n",
    "- - Splits dataset into training and testing sets\n",
    "- - Creates TensorFlow datasets for training and testing sets\n",
    "- - Fits model with TensorFlows datasets"
   ]
  },
  {
   "cell_type": "code",
   "execution_count": 8,
   "metadata": {},
   "outputs": [],
   "source": [
    "def FinalPreprocessAndTrain(mcDataChunk, langPro, mcMod, mcTokenizer, maxSeqLen, mcScaler):\n",
    "    mcDataChunk[\"Review Text\"] = mcDataChunk[\"Review Text\"].map_partitions(lambda mcDF: mcDF.apply(ReviewTextPrep, langPro = langPro, mcTokenizer = mcTokenizer, maxSeqLen = maxSeqLen), meta = pd.Series(dtype = \"object\", name = \"Review Text\"))\n",
    "    mcDataChunk = mcDataChunk[mcDataChunk[\"Review Text\"].apply(lambda x: \"~NE~\" not in x, meta = (\"Review Text\", \"bool\"))]\n",
    "    mcDataChunk = mcDataChunk.compute()\n",
    "    mcDataChunk = mcDataChunk.reset_index(drop = True)\n",
    "    mcSeqs = np.stack(mcDataChunk[\"Review Text\"].values)\n",
    "    mcDataChunk = mcDataChunk.drop([\"Review Text\"], axis = 1)\n",
    "    mcDataChunk = mcDataChunk.join(pd.DataFrame(mcSeqs, index = mcDataChunk.index))\n",
    "    mcY = mcDataChunk[\"Overall Metascore\"].copy().astype(np.float32)\n",
    "    mcX = mcDataChunk.copy().drop([\"Overall Metascore\"], axis = 1).astype(np.float32)\n",
    "    del mcSeqs, mcDataChunk\n",
    "    gc.collect()\n",
    "    mcXTrain, mcXTest, mcYTrain, mcYTest = skms.train_test_split(mcX, mcY, test_size = 0.2, random_state = 17)\n",
    "    numVars = [\"Overall User Rating\", \"Release Year\", \"Release Quarter\", \"Release Month\", \"Release Week\", \"Release DayOfWeek\", \"Release DayOfYear\"]\n",
    "    mcXTrain[numVars] = mcScaler.transform(mcXTrain[numVars])\n",
    "    mcXTest[numVars] = mcScaler.transform(mcXTest[numVars])\n",
    "    mcXTrain = mcXTrain.to_numpy()\n",
    "    mcXTest = mcXTest.to_numpy()\n",
    "    mcTFDataTrain = tf.data.Dataset.from_tensor_slices(((mcXTrain[:, -maxSeqLen:], mcXTrain[:, :-maxSeqLen]), mcYTrain.values)).batch(32)\n",
    "    mcTFDataTest = tf.data.Dataset.from_tensor_slices(((mcXTest[:, -maxSeqLen:], mcXTest[:, :-maxSeqLen]), mcYTest.values)).batch(32)\n",
    "    mcMod.fit(mcTFDataTrain, validation_data = mcTFDataTest, epochs = 20, callbacks = [tfkc.EarlyStopping(monitor = \"val_loss\", patience = 5, restore_best_weights = True)])\n",
    "    return mcMod"
   ]
  },
  {
   "cell_type": "markdown",
   "metadata": {},
   "source": [
    "- The SaveVar(), LoadVar(), SaveModVars(), and LoadModVars() functions are utility functions for saving and loading variables are .pkl files."
   ]
  },
  {
   "cell_type": "code",
   "execution_count": 9,
   "metadata": {},
   "outputs": [],
   "source": [
    "def SaveVar(var, fName):\n",
    "    with open(f\"intermediate/{fName}.pkl\", \"wb\") as wb:\n",
    "        pkl.dump(var, wb)\n",
    "\n",
    "def LoadVar(fName):\n",
    "    with open(f\"intermediate/{fName}.pkl\", \"rb\") as rb:\n",
    "        return pkl.load(rb)\n",
    "    \n",
    "def SaveModVars():\n",
    "    SaveVar(mcScaler, \"../mcScaler\")\n",
    "    SaveVar(mcTokenizer, \"../mcTokenizer\")\n",
    "    SaveVar(maxSeqLen, \"../maxSeqLen\")\n",
    "    SaveVar(uniqueLabels, \"../uniqueLabels\")\n",
    "\n",
    "def LoadModVars():\n",
    "    with open(\"mcScaler.pkl\", \"rb\") as rb:\n",
    "        mcScaler = pkl.load(rb)\n",
    "    with open(\"mcTokenizer.pkl\", \"rb\") as rb:\n",
    "        mcTokenizer = pkl.load(rb)\n",
    "    with open(\"maxSeqLen.pkl\", \"rb\") as rb:\n",
    "        maxSeqLen = pkl.load(rb)\n",
    "    with open(\"uniqueLabels.pkl\", \"rb\") as rb:\n",
    "        uniqueLabels = pkl.load(rb)\n",
    "    return mcScaler, mcTokenizer, maxSeqLen, uniqueLabels"
   ]
  },
  {
   "cell_type": "markdown",
   "metadata": {},
   "source": [
    "- The EvaluateMCModel() function generates MSE, MAE, and R2 values based on a sample of the dataset."
   ]
  },
  {
   "cell_type": "code",
   "execution_count": 10,
   "metadata": {},
   "outputs": [],
   "source": [
    "def EvaluateMCModel(mcMod, mcScaler, mcTokenizer, maxSeqLen, uniqueLabels):\n",
    "    mcDataChunk = daskdf.read_csv(mcPath, low_memory = False, dtype = mcDaskDT).sample(frac = 0.01)\n",
    "    mcDataChunk = PreprocessData(mcDataChunk, uniqueLabels)\n",
    "    mcDataChunk[\"Review Text\"] = mcDataChunk[\"Review Text\"].map_partitions(lambda mcDF: mcDF.apply(ReviewTextPrep, langPro = langPro, mcTokenizer = mcTokenizer, maxSeqLen = maxSeqLen), meta = pd.Series(dtype = \"object\", name = \"Review Text\"))\n",
    "    mcDataChunk = mcDataChunk[mcDataChunk[\"Review Text\"].apply(lambda x: \"~NE~\" not in x, meta = (\"Review Text\", \"bool\"))]\n",
    "    mcDataChunk = mcDataChunk.compute()\n",
    "    mcDataChunk = mcDataChunk.reset_index(drop = True)\n",
    "    mcSeqs = np.stack(mcDataChunk[\"Review Text\"].values)\n",
    "    mcDataChunk = mcDataChunk.drop([\"Review Text\"], axis = 1)\n",
    "    mcDataChunk = mcDataChunk.join(pd.DataFrame(mcSeqs, index = mcDataChunk.index))\n",
    "    numVars = [\"Overall User Rating\", \"Release Year\", \"Release Quarter\", \"Release Month\", \"Release Week\", \"Release DayOfWeek\", \"Release DayOfYear\"]\n",
    "    mcDataChunk[numVars] = mcScaler.transform(mcDataChunk[numVars])\n",
    "    mcY = mcDataChunk[\"Overall Metascore\"].copy().astype(np.float32).to_numpy()\n",
    "    mcX = mcDataChunk.copy().drop([\"Overall Metascore\"], axis = 1).astype(np.float32).to_numpy()\n",
    "    del mcSeqs, mcDataChunk\n",
    "    gc.collect()\n",
    "    mcTestText = mcX[:, -maxSeqLen:]\n",
    "    mcTestNum = mcX[:, :-maxSeqLen]\n",
    "    mcTestPreds = mcMod.predict([mcTestText, mcTestNum])\n",
    "    mcMSE = skm.mean_squared_error(mcY, mcTestPreds)\n",
    "    mcMAE = skm.mean_absolute_error(mcY, mcTestPreds)\n",
    "    mcR2 = skm.r2_score(mcY, mcTestPreds)\n",
    "    return mcMSE, mcMAE, mcR2"
   ]
  },
  {
   "cell_type": "markdown",
   "metadata": {},
   "source": [
    "- The PredictMetascore() function predicts an \"Overall Metascore\" value using the model."
   ]
  },
  {
   "cell_type": "code",
   "execution_count": 11,
   "metadata": {},
   "outputs": [],
   "source": [
    "def PredictMetascore(mcMod, mcTokenizer, mcScaler, maxSeqLen, inData):\n",
    "    inData = pd.DataFrame([inData])\n",
    "    inData = PreprocessData(daskdf.from_pandas(inData, npartitions = 1), uniqueLabels)\n",
    "    inData[\"Review Text\"] = inData[\"Review Text\"].map_partitions(lambda mcDF: mcDF.apply(ReviewTextPrep, langPro = langPro, mcTokenizer = mcTokenizer, maxSeqLen = maxSeqLen), meta = pd.Series(dtype = \"object\", name = \"Review Text\"))\n",
    "    inData = inData[inData[\"Review Text\"].apply(lambda x: \"~NE~\" not in x, meta = (\"Review Text\", \"bool\"))]\n",
    "    inData = inData.compute()\n",
    "    inData = inData.reset_index(drop = True)\n",
    "    mcSeqs = np.stack(inData[\"Review Text\"].values)\n",
    "    inData = inData.drop([\"Review Text\"], axis = 1)\n",
    "    inData = inData.join(pd.DataFrame(mcSeqs, index = inData.index))\n",
    "    numVars = [\"Overall User Rating\", \"Release Year\", \"Release Quarter\", \"Release Month\", \"Release Week\", \"Release DayOfWeek\", \"Release DayOfYear\"]\n",
    "    inData[numVars] = mcScaler.transform(inData[numVars])\n",
    "    inX = inData.copy().drop([\"Overall Metascore\"], axis = 1).astype(np.float32).to_numpy()\n",
    "    del mcSeqs, inData\n",
    "    gc.collect()\n",
    "    inText = inX[:, -maxSeqLen:]\n",
    "    inNum = inX[:, :-maxSeqLen]\n",
    "    mcPred = mcMod.predict([inText, inNum])\n",
    "    return mcPred"
   ]
  },
  {
   "cell_type": "markdown",
   "metadata": {},
   "source": [
    "- The langPro dictionary contains functions for detecting languages, as well as the set of English stopwords.\n",
    "- The mcDaskDT dictionary is used for reference for the dataset dtypes while creating dask dataframes."
   ]
  },
  {
   "cell_type": "code",
   "execution_count": 12,
   "metadata": {},
   "outputs": [],
   "source": [
    "ldetect.DetectorFactory.seed = 17\n",
    "langPro = {\n",
    "    \"ldect\": ldetect.detect,\n",
    "    \"lId\": lId.langid.classify,\n",
    "    \"nltkSW\": set(nltk.corpus.stopwords.words(\"english\"))\n",
    "}\n",
    "mcDaskDT = {\n",
    "    \"Review Date\": \"object\",\n",
    "    \"Overall User Rating\": \"object\"\n",
    "}"
   ]
  },
  {
   "cell_type": "markdown",
   "metadata": {},
   "source": [
    "- The number of records in the dataset is calculated and the headers are extracted"
   ]
  },
  {
   "cell_type": "code",
   "execution_count": 13,
   "metadata": {},
   "outputs": [],
   "source": [
    "mcPath = \"metacritic_pc_games.csv\"\n",
    "rootChunkSize = 10000\n",
    "with io.open(mcPath, \"r\", encoding = \"utf-8\", buffering = 1024**3) as mcFile:\n",
    "    mcHeaders = mcFile.readline().strip().split(\",\")\n",
    "    mcEntryCount = sum(1 for line in mcFile) - 1"
   ]
  },
  {
   "cell_type": "markdown",
   "metadata": {},
   "source": [
    "- Dask is initialized with a configuration optimized for initial dataset processing"
   ]
  },
  {
   "cell_type": "code",
   "execution_count": 14,
   "metadata": {},
   "outputs": [],
   "source": [
    "chunkCount = psutil.cpu_count()\n",
    "memUtil = 0.75\n",
    "daskCache = DaskCache.Cache(2e9)\n",
    "daskCache.register()\n",
    "daskClient = daskdist.Client(n_workers = 2, threads_per_worker = 4, memory_limit = f\"{int(psutil.virtual_memory().total / (1024 ** 2) * memUtil / 2)}MB\")"
   ]
  },
  {
   "cell_type": "markdown",
   "metadata": {},
   "source": [
    "- All unique English words are extracted from the entire dataset and the maximum sequence length is calculated."
   ]
  },
  {
   "cell_type": "code",
   "execution_count": 15,
   "metadata": {},
   "outputs": [],
   "source": [
    "maxSeqLen, allWords = GetTokenVars()\n",
    "SaveVar(maxSeqLen, \"maxSeqLen\")\n",
    "SaveVar(allWords, \"allWords\")"
   ]
  },
  {
   "cell_type": "markdown",
   "metadata": {},
   "source": [
    "- Dask is reinitialized with a configuration optimized for the remaining operations"
   ]
  },
  {
   "cell_type": "code",
   "execution_count": 16,
   "metadata": {},
   "outputs": [],
   "source": [
    "daskClient.shutdown()\n",
    "daskClient = daskdist.Client(n_workers = chunkCount, threads_per_worker = 2, memory_limit = f\"{int(psutil.virtual_memory().total / (1024 ** 2) * memUtil / chunkCount)}MB\")"
   ]
  },
  {
   "cell_type": "markdown",
   "metadata": {},
   "source": [
    "- Unique labels are extracted"
   ]
  },
  {
   "cell_type": "code",
   "execution_count": 17,
   "metadata": {},
   "outputs": [],
   "source": [
    "uniqueLabels = GetUniqueLabels()\n",
    "SaveVar(uniqueLabels, \"uniqueLabels\")"
   ]
  },
  {
   "cell_type": "markdown",
   "metadata": {},
   "source": [
    "- Scaler is initialized with the numerical data of a dataset sample"
   ]
  },
  {
   "cell_type": "code",
   "execution_count": 18,
   "metadata": {},
   "outputs": [
    {
     "name": "stderr",
     "output_type": "stream",
     "text": [
      "y:\\ML\\Anaconda\\envs\\TF-GPU\\lib\\site-packages\\sklearn\\preprocessing\\_label.py:876: UserWarning: unknown class(es) ['Text'] will be ignored\n",
      "  \"unknown class(es) {0} will be ignored\".format(sorted(unknown, key=str))\n",
      "y:\\ML\\Anaconda\\envs\\TF-GPU\\lib\\site-packages\\sklearn\\preprocessing\\_label.py:876: UserWarning: unknown class(es) [' 1C-Entertainment ', ' 1C:Ino-Co ', ' 343 Industries ', ' Arzest', ' Atlus ', ' Balan Company ', ' Beamdog', ' Bitworks ', ' Black Sea Games ', ' BlackMuffin Studio', ' Blitz Games ', ' Boss Key Productions ', ' Clover Bite ', ' Co. LTD ', ' Cognosphere ', ' Creative Business Unit III ', \" DON'T NOD \", ' Davit Andreasyan ', ' Digital Sun ', ' Dlala Studios ', ' Double Damage Games ', ' Drool ', ' EA Games ', ' EA Vancouver ', ' Easy Trigger Games ', ' Eighting ', ' Endnight Studios ', ' Flashback Games ', ' Florian Himsl ', ' Foreign Gnomes ', ' Goldhawk Interactive ', ' Gone North Games ', ' Grove Street Games ', ' Gun Interactive ', ' Hopoo Games ', ' Hotta Studio ', ' Infinite Interactive ', ' Jo-Mei Games ', ' Joshua Nuernberger ', ' Katuri Interactive ', ' Lab42 ', ' LandFall ', ' Ltd. ', ' ML Enterprises ', ' MONKEYCRAFT Co. Ltd. ', ' Mandel ArtPlains ', ' Mercenary Technologies ', ' Mobigame ', ' Monkey Moon ', ' Mossmouth ', ' Most Wanted Entertainment ', ' Nival ', ' Overhaul Games ', ' Planetary Annihilation Inc ', ' Polar Motion ', ' Question ', ' RA Images ', ' Rabbit & Bear Studios ', ' Red Winter Software ', ' Rockstar San Diego ', ' Russia ', ' SeithCG ', ' Slitherine Group', ' Soleil', ' Soleil Ltd. ', ' Splash Damage', ' Squad ', ' Stainless Steel Studios ', ' Sumo Digital Academy ', ' Team 6 Games Studio ', ' Team Ladybug ', ' Tribute Games Inc. ', ' Tyler Glaiel  ', ' Virtuos ', ' Voidpoint', ' WSS Playground', ' iNK Stories ', '11 bit studios', '110 Industries', '1C Entertainment', '258 Productions AB ', '2K Games ', '369 Interactive ', '3D Realms', '3D Realms ', '5 Lives Studios ', 'Aarne \"MekaSkull\" Hunziker ', 'Abbey Games ', 'Access Games ', 'Acid Nerve ', 'Act 3 Games', 'Action Forms Ltd. ', 'Aeternum Game Studios ', 'Alawar Premium ', 'Alientrap ', 'Almost Human ', 'Alt Shift ', 'Amanita Design ', 'Angel Studios', 'Antimatter Games ', 'Apeiron ', 'Aquiris Game Studio ', 'Arc System Works', 'Arcen Games', 'Arclight Creations ', 'Argonaut Games', 'Armature Studio ', 'Artdink', 'Artifice Studio ', 'Askiisoft ', 'AtomTeam ', 'Auran ', 'Auroch Digital ', 'AurumDust ', 'Awaceb ', 'Awfully Nice Studios ', 'Backwoods Entertainment ', 'Bandai Namco Games', 'Barking Dog ', 'BattleGoat Studios ', 'Bay 12 Games ', 'Beamdog ', 'Beard Envy ', 'Beau Blyth ', 'Benjamin Rivers ', 'BestGameEver.com ', 'BetaDwarf ', 'Biart ', 'Big Ant Studios ', 'Big Red Software ', 'Bit Blot ', 'Bkom ', 'Black Isle Studios', 'Black Lab Games ', 'Black Lion Studios ', 'Black Matter ', 'Black Mesa Modification Team ', 'Black Pants ', 'Black Sea Studios', 'Black Sea Studios ', 'Blackmill Games ', 'Blackpowder Games  ', 'Blue Castle Games ', 'Blue Manchu ', 'Bonus Level Entertainment ', 'BonusXP ', 'Borealys Games ', 'Boss Key', 'Bossa Studios ', 'Boxed Dream ', 'Brat Designs ', 'Brawsome ', 'BreakAway Games ', 'Bright Future GmbH ', 'Broken Rules ', 'Buckshot Software ', 'Bulkhead Interactive ', 'Burut Software ', 'Cadenza ', 'Caligari Games ', 'Camel 101 ', 'Campo Santo ', 'Capricia Productions ', 'Capy Games ', 'Cardboard Computer ', 'Carlos Coronado ', 'Casus Ludi ', 'Cat Daddy Games ', 'Cavedog Entertainment ', 'Cellar Door Games ', 'Chaos Concept ', 'Chaosmonger Studio ', 'Chasing Carrots ', 'Choice Provisions ', 'Chris Nordgren', 'Chromatic Games ', 'Chucklefish', 'Chucklefish ', 'Cinemax', 'Claeys Brothers Arts ', 'Click Entertainment ', 'Clifftop Games ', 'Cococucumber ', 'Coffee Stain North ', 'Coffee Stain Studios', 'Complex Games Inc. ', 'Connor Ullmann ', 'Convict Games ', 'Cornered Rat ', 'Cosmonaut Studios ', 'Cradle Games ', 'Cranberry Studios ', 'Crate Entertainment ', 'CrazyBunch ', 'Crea-ture Studios ', 'Creat Studios ', 'Creepy Jar ', 'Crunching Koalas ', 'CyberConnect2', 'Cyberlore Studios ', 'DNS Development ', 'DONTNOD Entertainment', 'Daniel Mullins Games ', 'Darkling Room ', 'Darkworks ', 'Data Becker ', 'Davey Wreden ', 'Deadpan Games ', 'Deconstructeam ', 'Deep Shadows ', 'Demruth ', 'Denki ', 'Derek Yu', 'Devolver Digital ', 'DigiFX Interactive ', 'Digital Dialect ', 'Digital Eclipse ', 'Digital Spray Studios', 'Digixart Entertainment ', 'Dim Bulb Games ', 'Dimps Corporation ', 'Double Damage Games', 'Double Stallion Games ', 'Dramatic Labs ', 'Draw Distance ', 'Draw Me A Pixel ', 'DrinkBox Studios ', 'Dual Effect ', 'EA Black Box ', 'EA Bright Light ', 'EA Pacific ', 'EA Seattle ', 'EA Sports', 'EKO Software ', 'EXOR Studios ', 'Ebb Software ', 'Edmund McMillen', 'EggNut ', 'Eidos Interactive ', 'Enigami ', 'Enlight Software', 'Erik Svedang ', 'FIX Korea', 'FYQD-Studio ', 'Facepunch Studios ', 'Failbetter Games ', 'Fever Pitch Studios ', 'Final Form Games', 'Final Strike Games ', 'Fireglow ', 'FishTankStudio ', 'Fishcow Studio ', 'Fizz Factor ', 'Flaming Fowl Studios ', 'Flying Lab Software ', 'Four Quarters ', 'Fourattic ', 'Freebird Games ', 'Funnel Entertainment', 'Funselektor Labs Inc. ', 'Fusionsphere Systems ', 'FuturLab ', 'Future Games ', 'GFI Russia ', 'Gabe Cuzzillo ', 'Gabriel Interactive ', 'Gaijin Games ', 'Galilea Multimedia ', 'Game Grumps ', 'Game-Labs ', 'GameCo ', 'Games Workshop ', 'Gamethunks', 'Gaming Minds Studios ', 'Gamious ', 'Gato Salvaje Studio ', 'Gazillion ', 'Geniaware ', 'Genius Slackers ', 'Gentlymad ', 'Ghost Ship Games ', 'Ghost of a Tale', 'Glass Bottom Games ', 'Gloomywood ', 'GlyphX Games ', 'GoodbyeWorld Games ', 'Graceful Decay ', 'Greenheart Games ', 'Grinding Gear Games ', 'Grip Games ', 'HAKAMA ', 'HD Interactive', 'Haggard Games ', 'Hammerfall Publishing ', 'Harebrained Schemes LLC ', 'Hasbro Interactive', 'Headfirst Productions ', 'Heavy Iron Studios', 'Heavy Iron Studios ', 'Hempuli Oy ', 'Heuristic Park ', 'Hi-Bit Studios ', 'High Moon Studios', 'House House ', 'House of Tales ', 'Housemarque ', 'Humongous Entertainment ', 'Hyperbolic Magnetism ', 'IF Games ', 'IGGYMOB ', 'ION LANDS ', 'ISOMETRICORP Games ', 'Iceberg Interactive', 'Idol FX ', 'IllFonic', 'Illusion Ray Studio ', 'Infogrames ', 'Innerloop ', 'Interdimensional Games Inc ', 'Inti Creates ', 'Invictus ', 'Ironward ', 'Italic Pig ', 'Ivy Games LLC ', 'Jacob Antonucci', 'Jacob Dzwinel ', 'Jagex Games Studio ', 'Jasozz Games ', 'Juggler Games ', 'Jumpship ', 'K-D Lab ', 'Kaizen Game Works ', 'Kaos Studios ', 'Katauri Interactive', 'Khaeon ', 'Kite Games ', 'Kitfox Games ', 'Kuju Entertainment ', 'LKA ', 'Lamplight Studios ', 'LandFall Games', 'Layopi Games ', 'League of Geeks ', 'Legend Entertainment ', 'Lesta Studio ', 'Level 5 ', 'Lexis Numerique ', 'Light Brick ', 'Little Green Men ', 'Lo-Fi Games ', 'Logic Artists ', 'Lucas Pope ', 'Lucky Pause ', 'LuckyHammers ', 'Ludeon Studios ', 'Luis Antonio ', 'Lukewarm Media ', 'Lumenox ehf ', 'Luxoflux', 'MINT ROCKET ', 'Mad Head Games ', 'MadMinute Games ', 'Maddy Makes Games ', 'Madruga Works ', 'Mandragora ', 'Marvelous Inc. ', 'Massive Damage', 'Matt Kap ', 'Matthias Linda ', 'MediaMobsters ', 'Mega Crit Games ', 'Metronomik ', 'MicroProse ', 'Midway', 'Midway ', 'Mighty Polygon ', 'Mindware Studios ', 'Mischief ', 'Misfits Attic ', 'Mist Land ', 'Mohawk Games ', 'Monster Games Inc. ', 'Moon Spider Studio ', 'Mooneye Studios ', 'Mossmouth', 'Most Wanted Entertainment ', 'Mothership Entertainment ', 'Motion Twin ', 'Mouldy Toof Studios ', 'Movie Games ', 'MuHa Games ', 'Mucky Foot Productions ', 'Murudai ', 'Muzzy Lane Software ', 'Mythic Entertainment ', 'N-Fusion Interactive Entertainment Corp.', 'NATSUME ATARI Inc.', 'NExT Studios ', 'NGD Studios ', 'Namco ', 'Namco Bandai Games ', 'Naughty Dog', 'Necrophone ', 'Neon Doctrine ', 'Neon Giant ', 'Nepos Games ', 'Nerial ', 'Neversoft Entertainment ', 'Nevrax ', 'New Blood Interactive ', 'Nfusion ', 'Nicalis ', 'Nicolas Intoxicate ', 'Night Dive Studios ', 'Nigoro ', 'Nihilistic ', 'Nival Interactive', 'No Brakes Games ', 'Nodding Heads Games ', 'Nolla Games ', 'Object ', 'Old Moon ', 'Old School Games ', 'Orann ', 'Orthogonal Games ', 'Osmotic Studios ', 'Ostrich Banditos ', 'OtherSide Entertainment ', 'Out Of The Park Developments ', 'OverBorder Studio ', 'Owlcat Games ', 'Owned by Gravity ', 'Paintbucket Games ', 'Paper Cult ', 'Paranoid Interactive ', 'Passtech Games ', 'Pathea Games ', 'Perfect World Entertainment ', 'Phantom 8 ', 'Phobia Game Studio ', 'Pieces Interactive ', 'Pinkerton Road Studio ', 'Pinokl Games ', 'Piranha Games ', 'Pixel Titans ', 'Pixpil ', 'Pocketwatch Games ', 'Positech Games ', 'PostMod Softworks ', 'Press Play ', 'Presto Studios ', 'Project Aces  ', 'Proxima Beta Europe B.V.', 'Proxy Studios ', 'Pterodon ', 'Pulse Entertainment ', 'Puzzling Dream ', 'QLOC ', 'Quantic Dream', 'Queasy Games ', 'Questionary', 'Quicksilver Software ', 'ROCKFISH Games ', 'Radiation Blue ', 'Radical Fish Games ', 'Radon Labs ', 'RailSimulator.com ', 'Rain Games ', 'Rare Ltd.', 'Raw Fury', 'Rayland Interactive ', 'Ready at Dawn ', 'Reakktor Media ', 'Rebel Act Studios ', 'Red Thread Games ', 'Red Winter Software Limited', 'Reflections Interactive ', 'Reflexive Entertainment ', 'Reikon Games ', 'Related Designs ', 'Render Cube ', 'Replay Games ', 'Replay Studios', 'Reply Game Studios ', 'Rewolf Software ', 'Robi Studios ', 'Rogue Factor ', 'Ron Gilbert and Gary Winnick ', 'Rooster Teeth Games ', 'Rotobee ', 'Route 59 Games ', 'Runewaker Entertainment ', 'Runner Duck ', 'Ryu ga Gotoku Studios', 'SEK Ost ', 'SKS Games', 'SQUADTeam', 'Sam Barlow ', 'Sandbox Interactive ', 'Santa Ragione ', 'Sanzaru ', 'Scientifically Proven ', 'Scott Cawthon ', 'Sectordub ', 'Sever ', 'ShadowRage ', 'Shanghai FantaBlade Network Technology Co.', 'Shining Pixel Studios ', 'Shining Rock Software ', 'Shiro Games ', 'Sigtrap Games ', 'Silverback Entertainment ', 'SimTex ', 'Skybound LLC', 'Skyshine Games ', 'Slant Six ', 'Slitherine', 'Slitherine ', 'Sloclap ', 'Sluggerfly ', 'Snapshot Games Inc. ', 'SoftWarWare ', 'Soldak Entertainment ', 'SomaSim ', 'Something Classic Games LLC ', 'Space Bullet Dynamics Corporation ', 'Spaces of Play ', 'Sperasoft ', 'Spidersoft', 'Spiderweb Software ', 'Spike Chunsoft ', 'Sports Mogul ', 'Squad ', 'Star Gem Inc. ', 'StarWraith ', 'Steel Mantis ', 'Stormind Games ', 'Stormling Studios ', 'Strangelite ', 'Strategic Studies Group ', 'Studio Drydock Pty Ltd ', 'Studio V ', 'Stunlock Studios ', 'Sukeban Games ', 'Sumo Digital', 'Sunstorm Interactive ', 'Surreal Software ', 'Swing Swing Submarine ', 'Swordtales ', 'Synetic ', 'System Era Softworks ', 'Tag of Joy ', 'Taito Corporation ', 'Taldren ', 'Tale of Tales ', 'Tamsoft ', 'Team Reptile ', 'Team Salvato ', 'Team6 Game Studios', 'Tendershoot ', 'Terry Cavanagh ', 'The Bitmap Brothers ', 'The Chinese Room ', 'The Collective ', 'The Fullbright Company ', 'The Lordz Games Studio', 'The Molasses Flood ', 'The Outsiders ', 'The Tiniest Shark ', 'The Wild Gentlemen ', 'Third Wave Games ', 'Thomas van den Berg ', 'Three Fields Entertainment ', 'Three Rings ', 'TicToc Games ', 'Tigon ', 'Tindalos Interactive ', 'Tom Francis ', 'Tom Happ ', 'TopWare Interactive ', 'Total Mayhem Games ', 'Toxic Games ', 'Toys for Bob ', 'Trepang Studios ', 'Tri Synergy ', 'Tribute Games', 'Tribute Games ', 'Triskell Interactive ', 'Triternion ', 'TurtleBlaze ', 'Tuxedo Labs ', 'Two Tribes', 'Two Tribes ', 'TwoPM Studios ', 'Typhoon Studios ', 'U.S. Army ', 'UBlart Montpellier ', 'Uber Entertainment', 'Uber Entertainment ', 'Ubisoft Blue Byte ', 'Ultimation Inc. ', 'Ultra Ultra ', 'Unicube ', 'Unigine Corp', 'Upper One Games ', 'Urban Games ', 'VRESKI ', 'Vanguard', 'Variable State ', 'Vblank Entertainment Inc. ', 'Vicarious Visions', 'Visai Games ', 'Visiware Studios ', 'Vlambeer ', 'Wadjet Eye Games', 'Wadjet Eye Games ', 'Wales Interactive ', 'We Create Stuff ', 'White Rabbit Interactive ', 'Why so serious?', 'Wide Games ', 'Wideload Games Inc. ', 'William Chyr Studio LLC ', 'Wings Simulations ', 'Wishfully ', 'Witch Beam ', 'Wizards of the Coast ', 'Wolcen Studio ', 'Wolf Brew Games ', 'Wolfeye Studios ', 'WorldForge ', 'Wormwood Studios ', 'Wube Software LTD. ', 'X1 Software ', 'Xilam ', 'Yippee Entertainment LTD ', \"Yuke's \", 'Zachtronics Industries ', 'Zeal Game Studios ', 'Zeboyd Games ', 'Zero Sum Games ', 'Zipper Interactive ', 'ZootFly ', 'Zuxxez ', '[bracket]games ', 'adamgryu ', 'animdude ', 'drool Games', 'h.a.n.d. Inc. ', 'miHoYo', 'nDreams ', 'roll7 ', 'rose-engine ', 'straka.studio ', 'tobyfox ', 'xii games '] will be ignored\n",
      "  \"unknown class(es) {0} will be ignored\".format(sorted(unknown, key=str))\n"
     ]
    }
   ],
   "source": [
    "initChunk = daskdf.read_csv(mcPath, low_memory = False, dtype = mcDaskDT)\n",
    "initChunk = PreprocessData(initChunk.sample(frac = 0.01), uniqueLabels)\n",
    "numVars = [\"Overall User Rating\", \"Release Year\", \"Release Quarter\", \"Release Month\", \"Release Week\", \"Release DayOfWeek\", \"Release DayOfYear\"]\n",
    "mcScaler = skpp.StandardScaler().fit(initChunk[numVars].compute())\n",
    "SaveVar(mcScaler, \"mcScaler\")"
   ]
  },
  {
   "cell_type": "markdown",
   "metadata": {},
   "source": [
    "- Tokenizer is initialized with all unique English words in dataset"
   ]
  },
  {
   "cell_type": "code",
   "execution_count": 19,
   "metadata": {},
   "outputs": [],
   "source": [
    "mcTokenizer = tfkpp.text.Tokenizer(num_words = len(allWords) + 1)\n",
    "mcTokenizer.fit_on_texts(allWords)\n",
    "SaveVar(mcTokenizer, \"mcTokenizer\")\n",
    "vocabSize = len(mcTokenizer.word_index) + 1"
   ]
  },
  {
   "cell_type": "markdown",
   "metadata": {},
   "source": [
    "- The model is built with an architecture consisting of two input branches (one text branch and one numeric branch) that are concatenated and fed into dense layers."
   ]
  },
  {
   "cell_type": "code",
   "execution_count": 20,
   "metadata": {},
   "outputs": [
    {
     "name": "stdout",
     "output_type": "stream",
     "text": [
      "Model: \"model\"\n",
      "__________________________________________________________________________________________________\n",
      "Layer (type)                    Output Shape         Param #     Connected to                     \n",
      "==================================================================================================\n",
      "textInLayer (InputLayer)        [(None, 2171)]       0                                            \n",
      "__________________________________________________________________________________________________\n",
      "embedding (Embedding)           (None, 2171, 128)    32820096    textInLayer[0][0]                \n",
      "__________________________________________________________________________________________________\n",
      "numInLayer (InputLayer)         [(None, 735)]        0                                            \n",
      "__________________________________________________________________________________________________\n",
      "lstm (LSTM)                     (None, 64)           49408       embedding[0][0]                  \n",
      "__________________________________________________________________________________________________\n",
      "dense (Dense)                   (None, 64)           47104       numInLayer[0][0]                 \n",
      "__________________________________________________________________________________________________\n",
      "dropout (Dropout)               (None, 64)           0           lstm[0][0]                       \n",
      "__________________________________________________________________________________________________\n",
      "dropout_1 (Dropout)             (None, 64)           0           dense[0][0]                      \n",
      "__________________________________________________________________________________________________\n",
      "concatenate (Concatenate)       (None, 128)          0           dropout[0][0]                    \n",
      "                                                                 dropout_1[0][0]                  \n",
      "__________________________________________________________________________________________________\n",
      "dense_1 (Dense)                 (None, 32)           4128        concatenate[0][0]                \n",
      "__________________________________________________________________________________________________\n",
      "dense_2 (Dense)                 (None, 1)            33          dense_1[0][0]                    \n",
      "==================================================================================================\n",
      "Total params: 32,920,769\n",
      "Trainable params: 32,920,769\n",
      "Non-trainable params: 0\n",
      "__________________________________________________________________________________________________\n"
     ]
    }
   ],
   "source": [
    "numShape = len(numVars) + initChunk.drop([\"Review Text\", \"Overall Metascore\"] + numVars, axis = 1).shape[1]\n",
    "inShape = maxSeqLen + numShape\n",
    "#text branch\n",
    "textInLayer = tfkl.Input(shape = (maxSeqLen,), name = \"textInLayer\")\n",
    "embedLayer = tfkl.Embedding(input_dim = vocabSize, output_dim = 128)(textInLayer)\n",
    "lstmLayer = tfkl.LSTM(64)(embedLayer)\n",
    "dropoutLayer = tfkl.Dropout(0.5)(lstmLayer)\n",
    "#numeric branch\n",
    "numInLayer = tfkl.Input(shape = (numShape,), name = \"numInLayer\")\n",
    "dense1Layer = tfkl.Dense(64, activation = \"relu\")(numInLayer)\n",
    "dropout1Layer = tfkl.Dropout(0.5)(dense1Layer)\n",
    "#concatenated output\n",
    "outLayerConcat = tfkl.concatenate([dropoutLayer, dropout1Layer])\n",
    "#dense layers\n",
    "dense2Layer = tfkl.Dense(32, activation = \"relu\")(outLayerConcat)\n",
    "outLayer = tfkl.Dense(1, activation = \"linear\")(dense2Layer)\n",
    "#compiling model\n",
    "mcMod = tfkm.Model(inputs=[textInLayer, numInLayer], outputs=outLayer)\n",
    "mcMod.compile(optimizer = \"adam\", loss = \"mean_squared_error\", metrics = [\"mae\"])\n",
    "mcMod.summary()"
   ]
  },
  {
   "cell_type": "markdown",
   "metadata": {},
   "source": [
    "- The model is incrementally trained in chunks of a maximum of 10,000 records at a time. The model is trained on the entire dataset 3 times, with early stopping implemented to avoid overfitting."
   ]
  },
  {
   "cell_type": "code",
   "execution_count": 21,
   "metadata": {},
   "outputs": [
    {
     "name": "stdout",
     "output_type": "stream",
     "text": [
      "Chunk 1/52 // 0.0% Complete // Cycle 1/3\n"
     ]
    },
    {
     "name": "stderr",
     "output_type": "stream",
     "text": [
      "y:\\ML\\Anaconda\\envs\\TF-GPU\\lib\\site-packages\\sklearn\\preprocessing\\_label.py:876: UserWarning: unknown class(es) [' Arzest', ' Atlantis Interactive Entertainment ', ' Avalanche Software ', ' Balan Company ', ' Bird Bath Games ', ' Cape Guy ', ' Dlala Studios ', ' Eurocom ', ' Forgotten Key ', ' Gone North Games ', ' Innersloth ', ' Massive Entertainment', ' Viva Media', ' bitComposer ', ' iNK Stories ', '2K Games ', '3000AD', '3D People ', 'A44 ', 'AGEOD ', 'AWE Games ', 'Accidental Queens ', 'Acclaim Studios Cheltenham ', 'Acme Gamestudio ', 'Aeternum Game Studios ', 'Alan Zucconi ', 'Alientrap ', 'Analgesic Productions ', 'Anarteam ', 'Arcen Games', 'Argonaut Games ', 'Armature Studio ', 'Artematica ', 'Artisan Studios ', 'Arxel Tribe ', 'Atlantis Interactive Entertainment\\t', 'AtomTeam ', 'Auran ', 'Auroch Digital ', 'Aurogon Shanghai ', 'AurumDust ', 'Balancing Monkey Games ', 'Bedtime Digital Games ', 'Benjamin Rivers ', 'BestGameEver.com ', 'Big Ant Studios ', 'Big Boat Interactive ', 'Bit Blot ', 'Black Element ', 'Black Lab Games ', 'Blackpowder Games  ', 'Blendo Games ', 'Bojan Brbora ', 'BreakAway Games ', 'Breaking Walls ', 'Broken Rules ', 'BumbleBeast ', 'CE-Asia ', 'Capy Games ', 'Cauldron Ltd. ', 'Causal Bit Games ', 'Centauri Production ', 'Charles University ', 'ClockStone Studio ', 'Cold Iron Studios ', 'Cosmo D Studios ', 'CreativeForge Games ', 'Cross-Product ', 'Cryo Interactive ', 'Daedalic Entertainment', 'Daniel Wynne', 'Data Becker ', 'Dejobaan Games ', 'Demruth ', 'Denki ', 'Digital Arrow ', 'Digital Eclipse ', 'Digital Fusion Inc. ', 'Digixart Entertainment ', 'Dreampainters ', 'E-Line Media ', 'Edelweiss ', 'EggNut ', 'Eidos Interactive ', 'Elden Pixels ', 'Emobi Games ', 'Etranges Libellules ', 'Eurocom Entertainment Software', 'Eutechnyx ', 'Exiin ', 'Exordium Games ', 'Fallen Tree Games ', 'FarmerGnome ', 'Fiction Factory Games ', 'FreakZone ', 'Freebird Games ', 'Funselektor Labs Inc. ', 'Future Games', 'GUTS Department ', 'Gabe Cuzzillo ', 'Gaijin Games ', 'GameDesignDan ', 'Gato Salvaje Studio ', 'Gloomywood ', 'GlyphX Games ', 'GoodbyeWorld Games ', 'Grundislav Games ', 'Gummy Cat ', 'Gust ', 'Halberd Studios ', 'Harebrained Schemes LLC ', 'Harmonix Music Systems ', 'Hazardous Software  ', 'Hempuli Oy ', 'Hi-Bit Studios ', 'Hiding Spot ', 'Himalaya Studios ', 'Hyperbolic Magnetism ', 'INTERIOR/NIGHT ', 'Iceberg Interactive ', 'Indefatigable ', 'Innerspace VR ', 'Investigate North ', 'Invictus ', 'Iridium Studios ', \"It's Anecdotal \", 'Jacob Antonucci', 'Jagex Games Studio ', 'Jankenteam ', 'Jutsu Games ', 'Khaeon ', \"Kiro'o Games \", 'Krams Design ', 'Kubat Software ', 'Lamplight Studios ', 'League of Geeks ', 'Lienzo ', 'Lightning Rod Games ', 'Lince Works ', 'Lost Toys ', 'LuckyHammers ', 'Lumenox ehf ', 'Lunar Great Wall Studios ', 'MadMinute Games ', 'Made by Kiddies ', 'Magnum Games ', 'Massive Development ', 'Max Inferno ', 'Maximum Games ', 'MidBoss ', 'Midway Studios - Austin ', 'Mischief ', 'Misfits Attic ', 'Mojiken Studio ', 'Mothership Entertainment ', 'MyDearest ', 'N-Fusion Interactive Entertainment Corp.', 'NExT Studios ', 'NHN Corporation ', 'NetDevil ', 'Nicolas Intoxicate ', 'Ntronium Games ', 'Overhype Studios ', 'Oxide Games ', 'Panther Games ', 'Pathos Interactive ', 'Pencil Test Studios ', 'Peter Stock ', 'Piccolo ', 'Pixel Crow ', 'Planet Moon Studios ', 'Plausible Concept ', 'Point 5 Projects  ', 'Primal Software ', 'Project Aces ', 'Project Aces  ', 'Pulse Entertainment ', 'Punch Punk Games ', 'Pure FPS ', 'RageSquid ', 'RainDance LX ', 'Rare Ltd.', 'Rayland Interactive ', 'Realtime Worlds ', 'Related Designs ', 'Resolution Games ', 'Revolution of Strategy ', 'Ritual Entertainment', 'Robot Gentleman ', 'Rogue Entertainment ', 'S&G Software ', 'Sandbox Interactive ', 'Sanzaru ', 'Schell Games', 'Shadow Tor Studios ', 'ShadowRage ', 'Shining Rock Software ', 'Shockwave Productions ', 'Sigma Team ', 'Silver Lining Studio ', 'Silvio & Gey Savarese ', 'Similis ', 'Sketchy Logic ', 'Skydance Interactive ', 'Sloclap ', 'Sobaka ', 'Spiderweb Software ', 'Spike Chunsoft ', 'Spiral House ', 'Sports Mogul ', 'Stormind Games ', 'Streko-Graphics Inc. ', 'Stunlock Studios ', 'Sunflowers Interactive ', 'System Era Softworks ', 'THE BROTHERHOOD ', 'Tale of Tales ', 'Tantalus ', 'Team Junkfish ', 'The Behemoth ', 'The Wandering Band LLC ', 'The Wandering Ben ', 'ThinkingStars ', 'Third Law Interactive ', 'Threaks ', 'Three One Zero ', 'Throw the Warped Code Out ', 'TicToc Games ', 'Tim Conkling ', 'Tindalos Interactive ', 'Tom Happ ', 'Treyarch', 'Tri Synergy ', 'Turmoil Games ', 'Twice Circled ', 'U.S. Army ', 'Ubisoft Bordeaux ', 'Ubisoft Singapore ', 'Ubisoft Sofia ', 'Unexpected ', 'Unspeakable Pixels ', 'Vagabond Dog ', 'Varsav Game Studios ', 'Vertigo Games ', 'Warsaw Film School Video Game & Film Production Studio ', 'Wayward Simulations ', 'Witch Beam ', 'WorldForge ', \"Yuke's \", 'Zeal Game Studios ', 'adamgryu ', 'bitComposer Games', 'idoz & phops ', 'inkle', 'tiger & squid ', 'ustwo '] will be ignored\n",
      "  \"unknown class(es) {0} will be ignored\".format(sorted(unknown, key=str))\n",
      "distributed.client - ERROR - Failed to reconnect to scheduler after 30.00 seconds, closing client\n"
     ]
    },
    {
     "name": "stdout",
     "output_type": "stream",
     "text": [
      "Epoch 1/20\n",
      "239/239 [==============================] - 28s 100ms/step - loss: 800.2854 - mae: 19.6956 - val_loss: 59.9708 - val_mae: 6.0429\n",
      "Epoch 2/20\n",
      "239/239 [==============================] - 24s 101ms/step - loss: 140.1887 - mae: 9.4075 - val_loss: 52.3805 - val_mae: 5.6460\n",
      "Epoch 3/20\n",
      "239/239 [==============================] - 24s 102ms/step - loss: 115.3553 - mae: 8.5566 - val_loss: 48.0988 - val_mae: 5.4418\n",
      "Epoch 4/20\n",
      "239/239 [==============================] - 24s 100ms/step - loss: 106.8944 - mae: 8.1932 - val_loss: 43.1095 - val_mae: 5.0839\n",
      "Epoch 5/20\n",
      "239/239 [==============================] - 24s 102ms/step - loss: 96.4165 - mae: 7.8114 - val_loss: 45.6866 - val_mae: 5.4084\n",
      "Epoch 6/20\n",
      "239/239 [==============================] - 25s 103ms/step - loss: 95.6736 - mae: 7.7754 - val_loss: 38.7117 - val_mae: 4.8660\n",
      "Epoch 7/20\n",
      "239/239 [==============================] - 24s 102ms/step - loss: 90.6066 - mae: 7.5681 - val_loss: 34.7035 - val_mae: 4.4379\n",
      "Epoch 8/20\n",
      "239/239 [==============================] - 24s 102ms/step - loss: 87.8945 - mae: 7.4112 - val_loss: 33.6542 - val_mae: 4.3663\n",
      "Epoch 9/20\n",
      "239/239 [==============================] - 23s 98ms/step - loss: 86.1758 - mae: 7.3937 - val_loss: 35.1090 - val_mae: 4.6605\n",
      "Epoch 10/20\n",
      "239/239 [==============================] - 24s 99ms/step - loss: 82.5571 - mae: 7.2182 - val_loss: 30.3475 - val_mae: 4.1857\n",
      "Epoch 11/20\n",
      "239/239 [==============================] - 23s 96ms/step - loss: 81.9458 - mae: 7.1892 - val_loss: 30.3391 - val_mae: 4.2664\n",
      "Epoch 12/20\n",
      "239/239 [==============================] - 23s 96ms/step - loss: 80.6644 - mae: 7.1147 - val_loss: 29.1546 - val_mae: 4.1012\n",
      "Epoch 13/20\n",
      "239/239 [==============================] - 24s 100ms/step - loss: 80.7401 - mae: 7.1282 - val_loss: 30.4192 - val_mae: 4.3590\n",
      "Epoch 14/20\n",
      "239/239 [==============================] - 24s 101ms/step - loss: 80.2604 - mae: 7.0860 - val_loss: 30.8625 - val_mae: 4.3993\n",
      "Epoch 15/20\n",
      "239/239 [==============================] - 24s 100ms/step - loss: 78.3768 - mae: 6.9936 - val_loss: 25.6368 - val_mae: 3.7801\n",
      "Epoch 16/20\n",
      "239/239 [==============================] - 24s 103ms/step - loss: 77.3179 - mae: 7.0001 - val_loss: 26.1292 - val_mae: 3.9228\n",
      "Epoch 17/20\n",
      "239/239 [==============================] - 25s 105ms/step - loss: 76.5317 - mae: 6.9271 - val_loss: 24.8415 - val_mae: 3.8094\n",
      "Epoch 18/20\n",
      "239/239 [==============================] - 24s 101ms/step - loss: 74.8025 - mae: 6.8447 - val_loss: 23.7000 - val_mae: 3.6590\n",
      "Epoch 19/20\n",
      "239/239 [==============================] - 24s 102ms/step - loss: 72.1421 - mae: 6.7558 - val_loss: 24.3199 - val_mae: 3.7695\n",
      "Epoch 20/20\n",
      "239/239 [==============================] - 24s 103ms/step - loss: 72.5328 - mae: 6.7470 - val_loss: 22.4457 - val_mae: 3.5059\n",
      "Chunk 2/52 // 1.92% Complete // Cycle 1/3\n"
     ]
    },
    {
     "name": "stderr",
     "output_type": "stream",
     "text": [
      "y:\\ML\\Anaconda\\envs\\TF-GPU\\lib\\site-packages\\sklearn\\preprocessing\\_label.py:876: UserWarning: unknown class(es) ['Application', 'Cricket', 'Trainer'] will be ignored\n",
      "  \"unknown class(es) {0} will be ignored\".format(sorted(unknown, key=str))\n",
      "y:\\ML\\Anaconda\\envs\\TF-GPU\\lib\\site-packages\\sklearn\\preprocessing\\_label.py:876: UserWarning: unknown class(es) [' 10tons ', ' Cranberry Production ', ' Deep Silver Fishlabs ', ' Digital Eclipse ', ' EA Games ', ' Elbow Rocket ', ' FAKT Software ', ' FireFly Studios ', ' Funatics ', ' Funatics Software', ' ICEBOX Studios ', ' LLC', ' LandFall ', ' Moonbyte Studios ', ' Navarre Corp ', ' Nival ', ' Out of the Blue Games S.L. ', ' Overflow Games ', ' Phosphor Games ', ' Polar Motion ', ' RA Images ', ' Reality Twist ', ' Relentless Studios ', ' S.L. ', ' Sega', ' Slitherine Group', ' Ste Curran ', '10tons Entertainment', '369 Interactive ', 'A Crowd of Monsters ', 'Aarne \"MekaSkull\" Hunziker ', 'Access Games ', 'Action Forms Ltd. ', 'Activision ', 'Alientrap ', 'Alt Shift ', 'Amanita Design ', 'Apeiron ', 'Argonaut Games', 'Artematica ', 'Ascension Studios', 'Asylum Entertainment ', 'Atomic Games ', 'Awe Interactive ', 'Backbone Entertainment ', 'Beautiful Game Studios ', 'Behold Studios ', 'Big Time Software ', 'Bigmoon Entertainment ', 'Black Mesa Modification Team ', 'Blooming Buds Studio ', 'Blue Manchu ', 'Blue Omega ', 'BootdiskRevolution ', 'Boxed Dream ', 'Brace Yourself Games ', 'Brat Designs ', 'BreakAway Games ', 'Butterscotch Shenanigans ', 'Bytten Studio ', 'Cardboard Utopia ', 'Casus Ludi ', 'Cavia Inc. ', 'Cinemax', 'ClockStone Studio ', 'Coilworks ', 'Convoy Games ', 'Corbie Games ', 'Cranberry Studios ', 'Crazy Rocks ', 'Creative Edge Software ', 'Cygnus Entertainment ', \"D'Avekki Studios Limited \", 'DANG! ', 'DTP Entertainment', 'Darkling Room ', 'Darkworks ', 'Data Realms ', 'Deep Shadows ', 'Destineer ', 'Dimfrost ', 'Discord Games ', 'Double Stallion Games ', 'Drama Drifters ', 'Dreams Uncorporated ', 'Dreamworks Games ', 'EA Bright Light ', 'EA Pacific ', 'EasyGameStation ', 'Eden Industries ', 'Elf Games ', 'Elseware Experience ', 'Erik Svedang ', 'Expansive Worlds ', 'Explosm ', 'Eyebrow Interactive ', 'FAKT Software ', 'FAKT Software GmBH', 'FYQD-Studio ', 'Fever Pitch Studios ', 'Firaxis Games', 'Fishlabs', 'Flying Cafe for Semianimals ', 'Focus Home Interactive ', 'Fourattic ', 'Free Lives ', 'Funatics Development GmbH', 'G5 Software ', 'Gaijin Games ', 'Gaslamp Games ', 'General Interactive Co. ', 'Greg Lobanov ', 'Gust ', 'Headfirst Productions ', 'Hibernian Workshop ', 'Hothouse Creations ', 'ION LANDS ', 'Ice-Pick Lodge ', 'InGame Studios ', 'Interceptor Entertainment ', 'Interdimensional Games Inc ', 'Inti Creates ', 'Investigate North Aps ', 'Invictus ', 'Jagex Games Studio ', 'Jason Oda ', 'Jasozz Games ', 'JoyMasher ', 'Jump Over The Age ', 'Kitfox Games ', 'Kraken Unleashed ', 'Krome Studios ', 'La Plata ', 'LandFall Games', 'Lazy 8 Studios ', 'Logic Artists ', 'Long Hat House ', 'MASA Group ', 'Mad Mimic ', 'Maddy Makes Games ', 'Mages. ', 'Marvelous First Studio ', 'Maschinen-Mensch ', 'Massive Monster ', 'Matt Kap ', 'Mattel ', 'Matthias Linda ', 'Midway Studios - Austin ', 'Mighty Kingdom ', 'Mighty Rabbit Studios ', 'Mindware Studios ', 'Momentum DMT ', 'Morteshka ', 'Mythic Entertainment ', 'NExT Studios ', 'Nerial ', 'Nival Interactive', 'Nova Production ', 'Original Fire Games ', 'Out of the Blue', 'Oxeye ', 'PETOONS STUDIO SL ', 'Paper Cult ', 'PaperSeven ', 'Paragon Studios ', 'Passtech Games ', 'Petri Purho ', 'Phobia Game Studio ', 'Phoenix Online Studios ', 'Phosphor Games Studio', 'Pixel Multimedia ', 'Playwing ', 'PortaPlay ', 'Psychodev ', 'Punchers Impact ', 'Puppy Punch Productions ', 'Puuba ', 'Pyramid ', 'Quotix Software ', 'Radical Fish Games ', 'Reality Twist GmbH', 'Rebel Act Studios ', 'RedRuins Softworks ', 'Replay Studios', 'Richard Hofmeier ', 'Robi Studios ', 'Ronimo Games ', 'RuneHeads ', 'Runner Duck ', 'Sand Sailor Studio ', 'Scientifically Proven ', 'Serious Brew ', 'Sierra Entertainment ', 'Skilltree Studios ', 'Slitherine', 'Snapshot Games Inc. ', 'SomaSim ', 'Sonalysts ', 'Spike Chunsoft ', 'Spotlightor Interactive ', 'Spry Fox ', 'Stellar Jockeys ', 'Stickmen Studios ', 'Still Alive Studios ', 'Storm in a Teacup ', 'Stormcloud Creations ', 'Stunlock Studios ', 'Sumo Digital', 'Sunhead Games ', 'Sunstorm Interactive ', 'SuperScarySnakes ', 'Swing Swing Submarine ', 'Sword & Axe LLC ', 'Synetic ', 'TRAGsoft ', 'Tag of Joy ', 'Targem Games ', 'Team Reptile ', 'Teku Studios  ', 'The Gentlebros ', 'The Moonwalls ', 'The Parasight ', 'The Pixel Hunt ', 'The Wild Gentlemen ', 'Thing Trunk ', 'Three Fields Entertainment ', 'Toge Productions ', 'Torus Games ', 'Toys for Bob ', 'Triangle Studios ', 'Troglobytes Games', 'Twistplay', 'Uppercut Games Pty Ltd ', 'V7 Entertainment Inc. ', 'Various ', 'Vicarious Visions', 'Vile Monarch ', 'Vogster ', 'Wadjet Eye Games', 'Weather Factory ', 'White Paper Games ', 'XXV Productions ', 'Yippee Entertainment LTD ', 'Zeboyd Games ', 'Zipper Interactive ', 'Zoetrope Interactive ', 'osao games ', 'stillalive studios '] will be ignored\n",
      "  \"unknown class(es) {0} will be ignored\".format(sorted(unknown, key=str))\n"
     ]
    },
    {
     "name": "stdout",
     "output_type": "stream",
     "text": [
      "Epoch 1/20\n",
      "238/238 [==============================] - 24s 100ms/step - loss: 94.3689 - mae: 7.7100 - val_loss: 39.3056 - val_mae: 4.9422\n",
      "Epoch 2/20\n",
      "238/238 [==============================] - 25s 103ms/step - loss: 84.3888 - mae: 7.3517 - val_loss: 36.7194 - val_mae: 4.7872\n",
      "Epoch 3/20\n",
      "238/238 [==============================] - 25s 104ms/step - loss: 81.8371 - mae: 7.2394 - val_loss: 38.8149 - val_mae: 5.0397\n",
      "Epoch 4/20\n",
      "238/238 [==============================] - 24s 102ms/step - loss: 75.5576 - mae: 6.8854 - val_loss: 31.9870 - val_mae: 4.3556\n",
      "Epoch 5/20\n",
      "238/238 [==============================] - 24s 101ms/step - loss: 76.7502 - mae: 6.9760 - val_loss: 34.3535 - val_mae: 4.6751\n",
      "Epoch 6/20\n",
      "238/238 [==============================] - 24s 101ms/step - loss: 74.0961 - mae: 6.8318 - val_loss: 30.0747 - val_mae: 4.2472\n",
      "Epoch 7/20\n",
      "238/238 [==============================] - 23s 98ms/step - loss: 69.2829 - mae: 6.6282 - val_loss: 31.1353 - val_mae: 4.3976\n",
      "Epoch 8/20\n",
      "238/238 [==============================] - 25s 104ms/step - loss: 71.4034 - mae: 6.7533 - val_loss: 27.1378 - val_mae: 3.9321\n",
      "Epoch 9/20\n",
      "238/238 [==============================] - 25s 104ms/step - loss: 69.8861 - mae: 6.6519 - val_loss: 30.4099 - val_mae: 4.3592\n",
      "Epoch 10/20\n",
      "238/238 [==============================] - 25s 104ms/step - loss: 69.3119 - mae: 6.5900 - val_loss: 28.4586 - val_mae: 4.1655\n",
      "Epoch 11/20\n",
      "238/238 [==============================] - 25s 103ms/step - loss: 67.1813 - mae: 6.5342 - val_loss: 31.5772 - val_mae: 4.5061\n",
      "Epoch 12/20\n",
      "238/238 [==============================] - 24s 103ms/step - loss: 66.7460 - mae: 6.4936 - val_loss: 28.2683 - val_mae: 4.1582\n",
      "Epoch 13/20\n",
      "238/238 [==============================] - 24s 102ms/step - loss: 64.2872 - mae: 6.3830 - val_loss: 25.2541 - val_mae: 3.6999\n",
      "Epoch 14/20\n",
      "238/238 [==============================] - 24s 102ms/step - loss: 61.5441 - mae: 6.2334 - val_loss: 23.5459 - val_mae: 3.6297\n",
      "Epoch 15/20\n",
      "238/238 [==============================] - 25s 105ms/step - loss: 60.5609 - mae: 6.1664 - val_loss: 23.4105 - val_mae: 3.5891\n",
      "Epoch 16/20\n",
      "238/238 [==============================] - 25s 103ms/step - loss: 59.8818 - mae: 6.1444 - val_loss: 22.5076 - val_mae: 3.5246\n",
      "Epoch 17/20\n",
      "238/238 [==============================] - 25s 104ms/step - loss: 58.8513 - mae: 6.1031 - val_loss: 23.5334 - val_mae: 3.6721\n",
      "Epoch 18/20\n",
      "238/238 [==============================] - 24s 102ms/step - loss: 59.2271 - mae: 6.1067 - val_loss: 23.8392 - val_mae: 3.7332\n",
      "Epoch 19/20\n",
      "238/238 [==============================] - 24s 99ms/step - loss: 57.7788 - mae: 6.0248 - val_loss: 21.9171 - val_mae: 3.4375\n",
      "Epoch 20/20\n",
      "238/238 [==============================] - 23s 97ms/step - loss: 54.8396 - mae: 5.8581 - val_loss: 21.7958 - val_mae: 3.4572\n",
      "Chunk 3/52 // 3.85% Complete // Cycle 1/3\n"
     ]
    },
    {
     "name": "stderr",
     "output_type": "stream",
     "text": [
      "y:\\ML\\Anaconda\\envs\\TF-GPU\\lib\\site-packages\\sklearn\\preprocessing\\_label.py:876: UserWarning: unknown class(es) ['Text'] will be ignored\n",
      "  \"unknown class(es) {0} will be ignored\".format(sorted(unknown, key=str))\n",
      "y:\\ML\\Anaconda\\envs\\TF-GPU\\lib\\site-packages\\sklearn\\preprocessing\\_label.py:876: UserWarning: unknown class(es) [' A Jolly Corpse ', ' Alex May ', ' Capcom Vancouver ', ' Digital Leisure ', ' Dose', ' Dreadlocks ', ' Eighting ', ' Eurocom ', ' Foreign Gnomes ', ' FunHouse ', ' Kitty', ' Koei Tecmo Games ', ' Live Wire ', ' Ltd. ', ' Mobigame ', ' Rabbit & Bear Studios ', ' Red Winter Software ', ' Sky Fallen', ' and JW ', '1C:Ino-Co ', '3D Realms ', '4Head Studios ', '5-Bits Games ', '7 Studios ', '8Monkey Labs ', 'Access Games ', 'Acid Nerve ', 'Acid Wizard Studio ', 'Afterburner Studios ', 'Allgraf ', 'Amaze Entertainment ', 'Ankama Games ', 'ArachnidGames ', 'Arc System Works', 'Artematica ', 'AtomicTorch ', 'Attention To Detail ', 'Avalanche Software ', 'Barking Dog ', 'Bay 12 Games ', 'Bedlam Games ', 'Ben Esposito ', 'Biart ', 'Bippinbits ', 'Bithell Games ', 'Black Salt Games ', 'Blue Castle Games ', 'Boston Animation ', 'BreakAway Games ', 'Buka Entertainment ', 'Byterunners Game Studio ', 'CCCP ', 'COWCAT ', 'Canal+ Multimedia ', 'Cave ', 'Chaosmonger Studio ', 'Chris Nordgren', 'Chromatic Games ', 'Code Force ', 'Coin Crew Games ', 'Cosmonaut Studios ', 'Critical Studio ', 'Ctrl Alt Ninja Ltd. ', 'Cube Roots ', 'DESTINYbit ', 'DNS Development ', 'Dancing Dragon games ', 'Dark Crystal Games ', 'Digital Confectioners ', 'Digital Happiness ', 'Digital Leisure Inc.', 'Digital Lode ', 'Digitalo Studios ', 'Dimps Corporation ', 'Disney Interactive Studios ', 'DoubleBear Productions ', 'Dreadlocks Ltd', 'Dykast Lubomir ', 'Eastshade Studios ', 'Elder Games ', 'Erik Svedang ', 'Eurocom Entertainment Software', 'Fabraz ', 'Fallen Flag Studio ', 'Fictiorama Studios ', 'Fireplace Games ', 'Fishing Cactus ', 'Foregone ', 'Frima Studio ', 'Frozen line ', 'Game Grumps ', 'Gameyus Interactive ', 'Gaslamp Games ', 'Gentlymad ', 'Ghost Ship Games ', 'Haggard Games ', 'Heavy Iron Studios', 'Herobeat Studios ', 'Heuristic Park ', 'Hitbox  ', 'Holospark ', 'Honig Studios ', 'HyperSloth ', 'Ikarion ', 'Illwinter Design Group ', 'Innonics ', 'Instant Kingdom ', 'Invader Studios ', 'Jesse Makkonen ', 'KUNO INTERACTIVE ', 'KillHouse Games ', 'Layopi Games ', 'Live Wire Films', 'Ludus future ', 'MINT ROCKET ', 'Madruga Works ', 'MagicalTimeBean ', 'Mantra ', 'Massive Work Studio ', 'Matias Schmied ', 'Midgar Studio ', 'Mike Studios ', 'Mindware Studios ', 'Minor Key Games ', 'Misfits Attic ', 'Moppin ', 'Most Wanted Entertainment ', 'Motion Twin ', 'Muro Studios Ltd. ', 'NATSUME ATARI Inc.', 'Namco ', 'Namco Bandai Games ', 'Nerve Software ', 'New Blood Interactive ', 'Nfusion ', 'Nippon Ichi Software ', 'Ocelot Society ', 'Omega Force', 'Oscar Brittain ', 'Outrage Games ', 'Owlchemy Labs ', 'PD Design Studio Pte Ltd ', 'Paleo Entertainment ', 'Parallax Software ', 'Pathea Games ', 'Piranha Games ', 'Pixel Night ', 'Pixpil ', 'Plastic Reality ', 'Pocket Trap ', 'Popcannibal ', 'Positech Games ', 'Propaganda Games ', 'QCF Design ', 'ROCKFISH Games ', 'Radon Labs ', 'Rage Software ', 'RageSquid ', 'Raspina Studio ', 'Ratbag ', 'Razorworks ', 'Red Candle Games ', 'Red Thread Games ', 'Red Winter Software Limited', 'Reflections Interactive ', 'Related Designs ', 'Resolution Games ', 'Rudolf Kremers', 'Runewaker Entertainment ', 'Scavengers Studio ', 'Seaven Studio ', 'Secret Base ', 'Shaba Games ', 'Silent Grove Studios ', 'Sirius Games ', 'Sixteen Tons Entertainment ', 'Sky Fallen ', 'Snowhound Games ', 'Soldak Entertainment ', 'Sorath ', 'Sourcenext ', 'Stickmen Studios ', 'Storm in a Teacup ', 'Stormfront Studios ', 'Streko-Graphics Inc. ', 'Studio V ', 'Sundae Month ', 'Sunstorm Interactive ', 'T19 Games ', 'Team Ninja', 'Team Salvato ', 'Tendershoot', 'Terri', 'Terry Cavanagh ', 'Tesseraction Games ', 'The Chinese Room ', 'Tindalos Interactive ', 'TopWare Interactive ', 'Toukana Interactive ', 'Twisted Pixel Games ', 'Two Tribes', 'Ubisoft Montreal', 'Ultimation Inc. ', 'Ultra Ultra ', 'Un Je Ne Sais Quoi ', 'Unfold Games ', 'V1 Interactive ', 'ValuSoft ', 'Vicious Cycle ', 'White Paper Games ', 'White Rabbit Interactive ', 'Z-Axis', 'Zachtronics Industries ', 'Zoetrope Interactive ', 'Zuxxez ', 'i-illusions '] will be ignored\n",
      "  \"unknown class(es) {0} will be ignored\".format(sorted(unknown, key=str))\n"
     ]
    },
    {
     "name": "stdout",
     "output_type": "stream",
     "text": [
      "Epoch 1/20\n",
      "238/238 [==============================] - 24s 98ms/step - loss: 81.5631 - mae: 7.1614 - val_loss: 44.7426 - val_mae: 4.9936\n",
      "Epoch 2/20\n",
      "238/238 [==============================] - 23s 98ms/step - loss: 69.8285 - mae: 6.6229 - val_loss: 34.2552 - val_mae: 4.3950\n",
      "Epoch 3/20\n",
      "238/238 [==============================] - 24s 100ms/step - loss: 64.8095 - mae: 6.3815 - val_loss: 32.5449 - val_mae: 4.2083\n",
      "Epoch 4/20\n",
      "238/238 [==============================] - 24s 102ms/step - loss: 61.3334 - mae: 6.2049 - val_loss: 29.4572 - val_mae: 4.0479\n",
      "Epoch 5/20\n",
      "238/238 [==============================] - 24s 102ms/step - loss: 57.9470 - mae: 6.0254 - val_loss: 30.4307 - val_mae: 4.0687\n",
      "Epoch 6/20\n",
      "238/238 [==============================] - 24s 101ms/step - loss: 56.2565 - mae: 5.9132 - val_loss: 27.0283 - val_mae: 3.8510\n",
      "Epoch 7/20\n",
      "238/238 [==============================] - 24s 100ms/step - loss: 55.6194 - mae: 5.8756 - val_loss: 25.8420 - val_mae: 3.7920\n",
      "Epoch 8/20\n",
      "238/238 [==============================] - 24s 103ms/step - loss: 52.4622 - mae: 5.7134 - val_loss: 26.3932 - val_mae: 3.7832\n",
      "Epoch 9/20\n",
      "238/238 [==============================] - 25s 106ms/step - loss: 50.2133 - mae: 5.5783 - val_loss: 28.3228 - val_mae: 3.9740\n",
      "Epoch 10/20\n",
      "238/238 [==============================] - 24s 102ms/step - loss: 48.8684 - mae: 5.5000 - val_loss: 24.5798 - val_mae: 3.6244\n",
      "Epoch 11/20\n",
      "238/238 [==============================] - 25s 104ms/step - loss: 47.4611 - mae: 5.3912 - val_loss: 23.3210 - val_mae: 3.5589\n",
      "Epoch 12/20\n",
      "238/238 [==============================] - 24s 103ms/step - loss: 46.1871 - mae: 5.3650 - val_loss: 22.4238 - val_mae: 3.4653\n",
      "Epoch 13/20\n",
      "238/238 [==============================] - 24s 101ms/step - loss: 44.9657 - mae: 5.2730 - val_loss: 23.0970 - val_mae: 3.5381\n",
      "Epoch 14/20\n",
      "238/238 [==============================] - 24s 101ms/step - loss: 43.1838 - mae: 5.1461 - val_loss: 22.3803 - val_mae: 3.4426\n",
      "Epoch 15/20\n",
      "238/238 [==============================] - 24s 101ms/step - loss: 40.9823 - mae: 5.0317 - val_loss: 21.6201 - val_mae: 3.4299\n",
      "Epoch 16/20\n",
      "238/238 [==============================] - 24s 103ms/step - loss: 40.5590 - mae: 4.9553 - val_loss: 22.2095 - val_mae: 3.4385\n",
      "Epoch 17/20\n",
      "238/238 [==============================] - 23s 99ms/step - loss: 39.3188 - mae: 4.8968 - val_loss: 20.8982 - val_mae: 3.3375\n",
      "Epoch 18/20\n",
      "238/238 [==============================] - 24s 103ms/step - loss: 37.6663 - mae: 4.7878 - val_loss: 23.9593 - val_mae: 3.6470\n",
      "Epoch 19/20\n",
      "238/238 [==============================] - 24s 102ms/step - loss: 37.5579 - mae: 4.7668 - val_loss: 21.7238 - val_mae: 3.5124\n",
      "Epoch 20/20\n",
      "238/238 [==============================] - 25s 103ms/step - loss: 37.0364 - mae: 4.7422 - val_loss: 23.2456 - val_mae: 3.5499\n",
      "Chunk 4/52 // 5.77% Complete // Cycle 1/3\n"
     ]
    },
    {
     "name": "stderr",
     "output_type": "stream",
     "text": [
      "y:\\ML\\Anaconda\\envs\\TF-GPU\\lib\\site-packages\\sklearn\\preprocessing\\_label.py:876: UserWarning: unknown class(es) [' 1C:Ino-Co ', ' Acclaim Studios Manchester ', ' Ankama ', ' Atari ', ' Atari SA ', ' Black Drakkar Games ', ' Blitz Games ', ' Buried Signal ', ' Calappa Games ', ' Clover Bite ', ' Creative Business Unit III ', ' Cyan', ' EA Vancouver ', ' Endlessfluff Games ', ' Grove Street Games ', ' Gun Interactive ', ' GungHo', ' Humble Games', ' Joshua Nuernberger ', ' LLC', ' Marvelous First Studio ', ' MicroProse', ' MicroProse ', ' Mixed Realms ', ' N-Game Studios ', ' Navegante Entertainment ', ' Phosphor Games ', ' PopCap ', ' SeithCG ', ' SkyBox Labs ', ' Splash Damage', ' Team 6 Games Studio ', ' TimeGate Studios ', '10 Chambers Collective ', '17-Bit ', '2By3 Games ', '4D Rulers ', '6 Eyes Studio ', '@unepic_fran ', 'AGEOD ', 'Abrakam SA ', 'Acclaim', 'Alkemi Games ', 'Ankama Games', 'Anshar Studios ', 'Antab Studio ', 'Astro Port ', 'Atari', 'Atelier Mimina ', 'Auran ', 'Autumn Moon ', 'Awesome Games Studio ', 'Axel Fox ', 'Bandai Namco Games', 'Barking Dog ', 'Beard Envy ', 'Bedtime Digital Games ', 'Behavior Studios ', 'BetaDwarf ', 'Bits & Beasts ', 'Bonus Level Entertainment ', 'Brain Candy ', 'Brendon Chung ', 'Bright Future GmbH ', 'Bromio', 'Byte Barrel ', 'Caged Element Inc. ', 'Camel 101 ', 'Campo Santo ', 'Cat Daddy Games ', 'Cellar Door Games ', 'ChessBase ', 'Chronic Logic ', 'Claeys Brothers Arts ', 'Clever Beans ', 'Codemasters Birmingham ', 'Coffee Stain North ', 'Covenant.dev ', 'Crate Entertainment ', 'Crazy Monkey Studios ', 'Creepy Jar ', 'Cyan Worlds', 'Cyber Rhino Studios ', 'Cypron Studios ', 'Daybreak Games ', 'Dead Mage Studio ', 'Demagog Studio ', 'Devolver Digital ', 'Doinksoft ', 'DrinkBox Studios ', 'EA Sports', 'Edge Case Games ', 'Exbleative ', 'Fallen Earth', 'Fallen Leaf', 'Feral Cat Den ', 'Fishcow Studio ', 'Fishlabs ', 'Flaming Fowl Studios ', 'Fort Triumph LTD ', 'Free Lives ', 'Freebird Games ', 'Freedom LLC ', 'Funnel Entertainment', 'GalaxyTrail ', 'Gambrinous ', 'Game Arts', 'Game Arts ', 'Gamepires ', 'Gaming Minds Studios ', 'Ghost of a Tale', 'Grace Bruxner ', 'Green Lava Studios ', 'Greenheart Games ', 'Ground Shatter Ltd. ', 'Gust ', 'Harmonix Music Systems ', 'Hasbro Interactive', 'Heatwave Interactive ', 'Heavy Iron Studios ', 'Hexagon Entertainment ', 'HopFrog ', 'Hothouse Creations ', 'Humble Bundle', 'IGGYMOB ', 'Idea Factory ', 'IllFonic', 'IllFonic ', 'Image Space Incorporated ', 'Interactive Stone ', 'IronOak Games ', 'Ivy Games LLC ', 'JC Entertainment ', 'Jason Roberts', 'Johnny Dale Lonack ', 'Kaos Studios ', 'Kong Orange ', 'Lazy Bear Games ', 'Lead Pursuit ', 'Lexis Numerique ', 'Logic Artists ', 'Lucid Games ', 'Lukas Navratil ', 'Mad Orange ', 'Massive Damage', 'MediaMobsters ', 'Metamorf Studios ', 'Mixed Realms Pte Ltd', 'Mode 7 Games ', 'Monolith Productions', 'Mopeful Games ', 'Motiga ', 'Muse Games ', 'Mutant Games ', 'Nemesys ', 'Neversoft Entertainment', 'Nival Interactive', 'Nussoft', 'Object ', 'Okomotive ', 'Old Moon ', 'Old School Games ', 'Orann ', 'Owned by Gravity ', 'Paranoid Interactive ', 'Perfect World Entertainment ', 'Phil Hassey ', 'Phosfiend Systems ', 'Phosphor Games Studio', 'Pinkerton Road Studio ', 'Planet Moon Studios ', 'PortaPlay ', 'Positech Games ', 'Prideful Sloth ', 'Proper Games ', 'Pulsatrix Studios ', 'Queasy Games ', 'R8 Games ', 'Radiation Blue ', 'Razorworks ', 'Rebelmind ', 'Red 5 Studios ', 'Red Redemption ', 'Refugium Games ', 'Rewolf Software ', 'Robotality ', 'Sassybot ', 'Scott Cawthon ', 'Shiro Games ', 'Sick Puppies ', 'Sierra Entertainment ', 'Silent Dreams ', 'Silver Style ', 'Slitherine ', 'Smudged Cat Games ', 'Spaces of Play ', 'Sports Mogul ', 'StarWraith ', 'Stormfront Studios ', 'Stuck In Attic ', 'Sushee ', 'TALEROCK ', 'TIGAMES ', 'Team2Bit ', 'Team6 Game Studios', 'The Chinese Room ', 'The Fullbright Company ', 'Throughline Games ', 'Tom Francis ', 'Tri Synergy ', 'Tribute Games ', 'Trine Games ', 'Under the Stairs ', 'Video System ', 'Vile Monarch ', 'W!Games ', 'Wadjet Eye Games', 'Warner Bros. Interactive Entertainment ', 'Whalebox Studio ', 'Whole Hog Games ', 'WideScreen Games ', 'WildTangent ', 'Wizarbox ', 'WorldForge ', 'Wube Software LTD. ', 'Yukitama Creative Industries ', 'Zoink! ', 'animdude '] will be ignored\n",
      "  \"unknown class(es) {0} will be ignored\".format(sorted(unknown, key=str))\n"
     ]
    },
    {
     "name": "stdout",
     "output_type": "stream",
     "text": [
      "Epoch 1/20\n",
      "240/240 [==============================] - 24s 97ms/step - loss: 54.5217 - mae: 5.7899 - val_loss: 29.2639 - val_mae: 4.0815\n",
      "Epoch 2/20\n",
      "240/240 [==============================] - 24s 100ms/step - loss: 42.6958 - mae: 5.1101 - val_loss: 24.3570 - val_mae: 3.6971\n",
      "Epoch 3/20\n",
      "240/240 [==============================] - 24s 99ms/step - loss: 38.8212 - mae: 4.8755 - val_loss: 25.9392 - val_mae: 4.0164\n",
      "Epoch 4/20\n",
      "240/240 [==============================] - 24s 100ms/step - loss: 35.8184 - mae: 4.6835 - val_loss: 20.1448 - val_mae: 3.3747\n",
      "Epoch 5/20\n",
      "240/240 [==============================] - 24s 102ms/step - loss: 35.1493 - mae: 4.6099 - val_loss: 18.2836 - val_mae: 3.2083\n",
      "Epoch 6/20\n",
      "240/240 [==============================] - 24s 101ms/step - loss: 32.1942 - mae: 4.4356 - val_loss: 17.4202 - val_mae: 3.1245\n",
      "Epoch 7/20\n",
      "240/240 [==============================] - 24s 101ms/step - loss: 30.8819 - mae: 4.2961 - val_loss: 16.6892 - val_mae: 3.0748\n",
      "Epoch 8/20\n",
      "240/240 [==============================] - 24s 101ms/step - loss: 29.8643 - mae: 4.1838 - val_loss: 15.5205 - val_mae: 2.9583\n",
      "Epoch 9/20\n",
      "240/240 [==============================] - 24s 102ms/step - loss: 27.7166 - mae: 4.0587 - val_loss: 14.9897 - val_mae: 2.9079\n",
      "Epoch 10/20\n",
      "240/240 [==============================] - 24s 99ms/step - loss: 26.6877 - mae: 3.9777 - val_loss: 13.9238 - val_mae: 2.7962\n",
      "Epoch 11/20\n",
      "240/240 [==============================] - 24s 102ms/step - loss: 26.1829 - mae: 3.9493 - val_loss: 13.3969 - val_mae: 2.7326\n",
      "Epoch 12/20\n",
      "240/240 [==============================] - 24s 102ms/step - loss: 24.3333 - mae: 3.8137 - val_loss: 13.1676 - val_mae: 2.7090\n",
      "Epoch 13/20\n",
      "240/240 [==============================] - 24s 102ms/step - loss: 23.5719 - mae: 3.7252 - val_loss: 13.2976 - val_mae: 2.7768\n",
      "Epoch 14/20\n",
      "240/240 [==============================] - 25s 103ms/step - loss: 24.9954 - mae: 3.8126 - val_loss: 13.0161 - val_mae: 2.6848\n",
      "Epoch 15/20\n",
      "240/240 [==============================] - 24s 99ms/step - loss: 24.3563 - mae: 3.7605 - val_loss: 12.6550 - val_mae: 2.7087\n",
      "Epoch 16/20\n",
      "240/240 [==============================] - 24s 100ms/step - loss: 22.8204 - mae: 3.6350 - val_loss: 14.8806 - val_mae: 2.9739\n",
      "Epoch 17/20\n",
      "240/240 [==============================] - 24s 99ms/step - loss: 22.8058 - mae: 3.6170 - val_loss: 11.9863 - val_mae: 2.5849\n",
      "Epoch 18/20\n",
      "240/240 [==============================] - 24s 101ms/step - loss: 20.9958 - mae: 3.4840 - val_loss: 11.8334 - val_mae: 2.6091\n",
      "Epoch 19/20\n",
      "240/240 [==============================] - 25s 103ms/step - loss: 21.8377 - mae: 3.5351 - val_loss: 10.8028 - val_mae: 2.4332\n",
      "Epoch 20/20\n",
      "240/240 [==============================] - 24s 101ms/step - loss: 20.7346 - mae: 3.4094 - val_loss: 10.8173 - val_mae: 2.4779\n",
      "Chunk 5/52 // 7.69% Complete // Cycle 1/3\n"
     ]
    },
    {
     "name": "stderr",
     "output_type": "stream",
     "text": [
      "y:\\ML\\Anaconda\\envs\\TF-GPU\\lib\\site-packages\\sklearn\\preprocessing\\_label.py:876: UserWarning: unknown class(es) ['Text'] will be ignored\n",
      "  \"unknown class(es) {0} will be ignored\".format(sorted(unknown, key=str))\n",
      "y:\\ML\\Anaconda\\envs\\TF-GPU\\lib\\site-packages\\sklearn\\preprocessing\\_label.py:876: UserWarning: unknown class(es) [' 1C-Entertainment ', ' 343 Industries ', ' Atari SA ', ' Beamdog', ' Black Sea Games ', ' Bloom Technology ', ' Blueside ', ' Boss Key Productions ', ' Cing ', ' Cognosphere ', ' Crema Games ', \" DON'T NOD \", ' Davit Andreasyan ', ' Deck Nine Games ', ' Easy Trigger Games ', ' Eerie Guest ', ' Hex Entertainment ', ' Ice Cold Games ', ' Infogrames', ' Jujubee S.A. ', ' Kaiko ', ' Katuri Interactive ', ' Konjak ', ' Ltd. ', ' M2H & BlackMill Games ', ' MONKEYCRAFT Co. Ltd. ', ' Melbourne House ', ' Most Wanted Entertainment ', ' Novacore Studios ', ' Novik & Co ', ' Overhaul Games ', ' Pine Scented Software ', ' PixelHive ', ' Psyop ', ' Slitherine Group ', ' Spike Chunsoft ', ' Squad ', ' Targem Games ', ' Team Reptile ', ' Transmission Games', ' UNKNOWN GAMES ', ' Vanguard Games ', ' Virtuos ', ' Voidpoint', ' Xaviant ', '1C Entertainment', '1C-Softclub ', '343 Industries', '3D People ', '3D Realms', '3DClouds ', '4X Studios ', 'Action Squad Studios ', 'Activision ', 'Almost Human ', 'Amanita Design ', 'Appaloosa Interactive ', 'Aquiris Game Studio ', 'Arclight Creations ', 'Arkedo Studio ', 'Artifact Entertainment ', 'Artifex Mundi ', 'Artificial Mind and Movement ', 'Ascendant Studios ', 'Askiisoft ', 'Atari', 'Aterdux Entertainment ', 'Bandai Namco Games', 'Barking Dog ', 'Behold Studios ', 'Benjamin \"ThingOnItsOwn\" Hauer ', 'Benjamin Rivers ', 'Berzerk Studio ', 'Big Red Software ', 'Big Sandwich Games', 'Bishop Games ', 'Bitbox Ltd. ', 'Black Isle Studios', 'Black Matter ', 'Black Sea Studios', 'Black Sea Studios ', 'Bleakmill ', 'Blue Tongue Entertainment ', 'Blyts ', 'Boss Key', 'Bossa Studios ', 'Brain Slap Studio ', 'Brawsome ', 'Buka Entertainment', 'Bulwark Studios ', 'Burut Software ', \"ByteRockers' Games \", 'Cardboard Computer ', 'Casey Donnellan Games LLC ', 'Cat Rabbit ', 'Cauldron Ltd. ', 'ChaosForge ', 'Choice Provisions ', 'Cingular mMode', 'Clever-Plays ', 'Clifftop Games ', 'ClockStone Studio ', 'Codo Games ', 'Coffee Stain Studios', 'Conifer Games ', 'Core Design Ltd. ', 'Cradle Games ', 'CrazyBunch ', 'Creat Studios ', 'CreativeForge Games ', 'CremaGames', 'Critique Gaming ', 'Cryptozoic Entertainment', 'DONTNOD Entertainment', 'Daniel Mullins Games ', 'Dark Energy Digital ', 'Defiant Development ', 'DigiFX Interactive ', 'Digital Arrow ', 'Dingaling ', 'Dirigo Games ', 'Dreadbit ', 'E-One Studio ', 'EA Bright Light ', 'EKO Software ', 'Elastic Games ', 'Empyrean ', 'Evan Todd ', 'Fiddlesticks Games ', 'Final Form Games', 'Fluent ', 'Foam Sword ', 'Foolish Mortals Games ', 'Forge Reply ', 'Four Quarters ', 'Freebird Games ', 'Fugitive Games ', 'Fuzzyeyes Studio ', 'GFI Russia ', 'Galilea Multimedia ', 'Gamious ', 'Geeta Games ', 'Geniaware ', 'Goblinz Studio ', 'Grasshopper Manufacture ', 'Grimbart Tales ', 'Grundislav Games ', 'HD Interactive', 'HandyGames ', 'Happy Ray Games ', 'Hato Moa ', 'Hidden Layer Games ', 'Hollow Ponds ', 'Hollow Ponds and Richard Hogg ', 'IMGN.PRO ', 'IR Gurus ', 'Ice Code Games', 'Ice-Pick Lodge ', 'Iceberg Interactive', 'Impressions Games ', 'In Utero ', 'Infinite Monkeys ', 'Innerloop ', 'Joakim Sandberg', 'Joel Mcdonald ', 'Juice Games ', 'Jujubee', 'Jump Over The Age ', 'Just A Pixel ', 'Kaiko ', 'Katauri Interactive', 'Koboldgames ', 'Kuma Reality Games ', 'Kyle Thompson ', 'Kyy Games ', 'L3O Interactive ', 'Lab Zero Games ', 'Left Behind Games ', 'Lichthund ', 'Light Brick ', 'Lion Shield', 'Lo-Fi Games ', 'Love Conquers All Games ', 'Lucky Mountain Games ', 'Lucky Pause ', 'M2', 'M2H', 'MONKEYCRAFT Co. Ltd. ', 'MadCat Interactive Software ', 'Magic Design Studios ', 'Master Creating ', 'Metropolis Software ', 'Micro Application ', 'Mirage Game Studios ', 'Mission Studios ', 'Modern Dream ', 'Mojo Bones ', 'Moon Spider Studio ', 'Moonlight Games ', 'Mosaic Mask ', 'NExT Studios ', 'NVYVE Studios ', 'Namco ', 'Necrophone ', 'Nemesys ', 'Neon Studios', 'NetDevil ', 'New World Computing ', 'Nfusion ', 'Nigoro ', 'Nival Interactive', 'No Brakes Games ', 'Northway Games ', 'Novarama ', 'Nullpointer Games ', 'Numantian Games ', 'Ovosonico ', 'Palindrome Interactive ', 'Parabole ', 'Particle Systems ', 'Paul Helman ', 'Phantagram', 'Pieces Interactive ', 'PolyKnight Games ', 'Primal Software ', 'Psyop Games', 'QLOC ', 'Quantic Dream', 'Rage Software ', 'Rapid Eye Entertainment ', 'Ratbag ', 'Ratloop Games Canada ', 'Razbor Studios ', 'Ready at Dawn ', 'Red Zero Games ', 'Reflexive Entertainment ', 'Replay Games ', 'Reptile', 'Robot Loves Kitty ', 'Rocket Bear Games ', 'SEMISOFT ', 'SQUADTeam', 'Saibot Studios ', 'Sam Barlow ', 'Seaven Studio ', 'Sega AM2 ', 'Shanghai FantaBlade Network Technology Co.', 'Silverback Entertainment ', 'Sir-Tech Software Inc. ', 'Size Five Games ', 'Skrollcat Studios ', 'Skyhook Games ', 'Slitherine', 'Slitherine ', 'Sluggerfly ', 'So Romantic ', 'Soft Enterprises ', 'Somnium Games d.o.o. ', 'Spike Chunsoft Co. Ltd.', 'Squad ', 'Square Enix Montreal ', 'Stage 2 Studios ', 'Straandlooper ', 'Studio Pixel ', 'Sumo Newcastle ', 'SumomGames ', 'Superbrothers', 'Tangrin ', 'Tate Multimedia ', 'Telepaths Tree ', 'Tendershoot ', 'Terri Vellimann ', 'The Chinese Room ', 'The Odd Gentlemen ', 'Third Law Interactive ', 'Thomas van den Berg ', 'Tokyo RPG Factory ', 'Tom Francis ', 'Tomorrow Corporation ', 'TreeFortress Games ', 'True Axis ', 'Tunnel Vision Games ', 'TurtleBlaze ', 'Typhoon Studios ', 'UndeadScout ', 'Unfrozen ', 'Vanguard', 'Variable State ', 'Velan Studios ', 'Visual Concepts ', 'Vox Game Studio', 'Wales Interactive ', 'Warpzone Studios ', 'We Create Stuff ', 'Wicked Studios ', 'X1 Software ', 'Xaviant Games', 'Yakov Butuzoff ', 'Zachtronics Industries ', 'dreamfeel ', 'eBrain Studio ', 'inkle ', 'miHoYo', 'straka.studio ', 'superflat games ', 'teedoubleuGAMES ', 'tinyBuild'] will be ignored\n",
      "  \"unknown class(es) {0} will be ignored\".format(sorted(unknown, key=str))\n"
     ]
    },
    {
     "name": "stdout",
     "output_type": "stream",
     "text": [
      "Epoch 1/20\n",
      "238/238 [==============================] - 24s 101ms/step - loss: 57.2971 - mae: 5.7904 - val_loss: 39.6976 - val_mae: 4.8870\n",
      "Epoch 2/20\n",
      "238/238 [==============================] - 24s 101ms/step - loss: 42.5690 - mae: 4.9742 - val_loss: 33.6738 - val_mae: 4.4024\n",
      "Epoch 3/20\n",
      "238/238 [==============================] - 24s 100ms/step - loss: 36.0277 - mae: 4.5875 - val_loss: 29.4486 - val_mae: 4.0840\n",
      "Epoch 4/20\n",
      "238/238 [==============================] - 24s 101ms/step - loss: 33.4967 - mae: 4.3875 - val_loss: 28.4318 - val_mae: 4.1316\n",
      "Epoch 5/20\n",
      "238/238 [==============================] - 24s 102ms/step - loss: 31.3011 - mae: 4.2246 - val_loss: 25.2451 - val_mae: 3.6765\n",
      "Epoch 6/20\n",
      "238/238 [==============================] - 24s 103ms/step - loss: 28.2677 - mae: 4.0051 - val_loss: 23.6275 - val_mae: 3.6091\n",
      "Epoch 7/20\n",
      "238/238 [==============================] - 24s 102ms/step - loss: 27.4132 - mae: 3.9269 - val_loss: 21.7045 - val_mae: 3.4168\n",
      "Epoch 8/20\n",
      "238/238 [==============================] - 25s 104ms/step - loss: 25.6632 - mae: 3.8022 - val_loss: 20.3459 - val_mae: 3.2916\n",
      "Epoch 9/20\n",
      "238/238 [==============================] - 24s 103ms/step - loss: 24.8937 - mae: 3.7320 - val_loss: 19.0180 - val_mae: 3.1545\n",
      "Epoch 10/20\n",
      "238/238 [==============================] - 25s 104ms/step - loss: 23.5233 - mae: 3.6206 - val_loss: 18.8604 - val_mae: 3.1466\n",
      "Epoch 11/20\n",
      "238/238 [==============================] - 25s 105ms/step - loss: 22.8219 - mae: 3.5786 - val_loss: 17.7591 - val_mae: 3.0597\n",
      "Epoch 12/20\n",
      "238/238 [==============================] - 25s 103ms/step - loss: 21.6050 - mae: 3.4687 - val_loss: 15.9337 - val_mae: 2.8054\n",
      "Epoch 13/20\n",
      "238/238 [==============================] - 24s 100ms/step - loss: 20.7251 - mae: 3.3879 - val_loss: 15.0799 - val_mae: 2.7611\n",
      "Epoch 14/20\n",
      "238/238 [==============================] - 24s 102ms/step - loss: 20.1569 - mae: 3.3290 - val_loss: 14.4518 - val_mae: 2.6614\n",
      "Epoch 15/20\n",
      "238/238 [==============================] - 24s 101ms/step - loss: 19.2078 - mae: 3.2481 - val_loss: 13.9981 - val_mae: 2.6238\n",
      "Epoch 16/20\n",
      "238/238 [==============================] - 24s 103ms/step - loss: 18.2815 - mae: 3.1570 - val_loss: 13.3267 - val_mae: 2.4989\n",
      "Epoch 17/20\n",
      "238/238 [==============================] - 25s 104ms/step - loss: 18.3460 - mae: 3.1668 - val_loss: 12.2948 - val_mae: 2.4384\n",
      "Epoch 18/20\n",
      "238/238 [==============================] - 24s 102ms/step - loss: 17.7727 - mae: 3.1001 - val_loss: 11.7915 - val_mae: 2.3384\n",
      "Epoch 19/20\n",
      "238/238 [==============================] - 24s 103ms/step - loss: 16.9000 - mae: 3.0259 - val_loss: 11.5723 - val_mae: 2.3982\n",
      "Epoch 20/20\n",
      "238/238 [==============================] - 24s 103ms/step - loss: 16.8872 - mae: 3.0340 - val_loss: 10.9600 - val_mae: 2.2369\n",
      "Chunk 6/52 // 9.62% Complete // Cycle 1/3\n"
     ]
    },
    {
     "name": "stderr",
     "output_type": "stream",
     "text": [
      "y:\\ML\\Anaconda\\envs\\TF-GPU\\lib\\site-packages\\sklearn\\preprocessing\\_label.py:876: UserWarning: unknown class(es) [' 10tons ', ' 1C', ' Application Systems Heidelberg ', ' BeautiFun Games ', ' BlackMuffin Studio', ' Bullets ', ' Centauri Production ', ' Char & Torfi ', ' Digital Sun ', ' Dreamworks Games ', ' EA Singapore ', ' Eyeguys ', ' Fair Play Labs ', ' French-Bread ', ' Funatics ', ' Funatics Software', ' General Arcade ', ' Honor Code', ' Immersion Software & Graphics ', ' Ino-Co', ' Ministry of Broadcast Studios ', ' Monkey Moon ', ' Movie Games ', ' Muutsch', ' Now Production', ' Playsport Games Ltd ', ' Pol', ' Ravenscourt', ' Rockstar San Diego ', ' Russia ', ' Soleil', ' Soleil Ltd. ', ' Studio Fizbin ', ' StudioInkyfox ', ' Team Reptile ', ' Thomas Brush ', ' Toylogic ', ' Tribute Games Inc. ', ' VIS Games ', ' Varkian Empire ', '10tons Entertainment', '11 bit studios', '1C-Softclub ', '24 Entertainment ', '3A Games ', 'Alcachofa Soft ', 'Altari Games ', 'Amanita Design ', 'Angel Studios', 'Anim-X ', 'Animation Arts ', 'Application Systems Heidelberg Software GmbH', 'Artificial Studios', 'Arxel Tribe ', 'Asteroid Base ', 'Avalon Style ', 'BEAUTIFUN GAMES SL', 'BLOODIOUS GAMES ', 'Beautiful Glitch ', 'Big Ape Productions ', 'Bit Byterz ', 'Black Mermaid ', 'Black Pants Studio ', 'Blastmode ', 'Blazing Bit Games ', 'Blazing Griffin ', 'Blue Bottle Games ', 'Bombservice ', 'Borealys Games ', 'Broken Rules ', 'BudCat ', 'Capricia Productions ', 'Carlos Coronado ', 'Chance Agency ', 'Charybdis ', 'Cinemax', 'Coffee Powered Machine ', 'Connor Ullmann ', 'Cornfox & Bros. ', 'Crunching Koalas ', 'CyberConnect2', 'Cyberlore Studios ', 'Deep Red ', 'Deibus Studios ', 'Delphine Software International ', 'Detalion ', 'Devolver Digital ', 'Die Gute Fabrik ', 'Digital Dialect ', 'Digital Eclipse ', 'Dinosaur Polo Club ', 'Diversions Entertainment ', 'DrinkBox Studios ', 'Duckbridge ', 'EA Black Box', 'EA Black Box ', 'EA LA', 'EA Seattle ', 'Ecole', 'Eutechnyx ', 'FASA Studio ', 'Finish Line Games ', 'Fizbin', 'From Software', 'Funatics Development GmbH', 'Future Games ', 'GameSourceStudio ', 'Gazillion ', 'Geography of Robots ', 'Gojira ', 'Graceful Decay ', 'Grip Digital ', 'Guru Games ', 'Half Asleep ', 'HappyJuice Games ', 'Harebrained Schemes LLC ', 'Hidden Fields ', 'Himalaya Studios ', 'Holistic Design', 'Homeless Unicorn', 'Housemarque ', 'Humongous Entertainment ', 'Hydravision ', 'ILCA', 'Idol FX ', 'In Utero ', 'Infinitap Games ', 'Infinite Fall ', 'InterServ International ', 'Interwave Studios ', 'Inti Creates ', 'IonFX ', 'Jacob Dzwinel ', 'John Szymanski ', 'Jonas Manke', 'Joon', 'Juggler Games ', 'Just Add Water ', 'KCEJ ', 'KDV Games ', 'Keen Software House ', 'Kitfox Games ', 'Kuju Entertainment ', 'LCB Game Studio ', 'LKA ', 'Lantern Studio ', 'Le Cartel Studio ', 'Leaping Lizard Software Inc. ', 'Level 5 ', 'Lexis Numerique ', 'Limasse Five ', 'Locomalito ', 'Lorenzo Redaelli', 'Ludosity Interactive', 'Max Mraz ', 'Mayhem Studios ', 'Messhof ', 'Metronomik ', 'Minor Key Games ', 'Mithis/HD Interactive ', 'Mohawk Games ', 'Monster Games Inc. ', 'Mooneye Studios ', 'Movie Games ', 'Movie Games S.A.', 'MuHa Games ', 'MumboJumbo ', 'Muzzy Lane Software ', 'NGD Studios ', 'NUDE MAKER', 'Narcosis Team', 'Neotro Inc. ', 'Nepos Games ', 'No Code ', 'Nolla Games ', 'NotGames ', 'Nowhere Studios ', 'Ocean Drive Studio ', 'Oddworld Inhabitants ', 'Oldblood ', 'Ossian Studios ', 'Ovid Works ', 'Panic Barn Ltd ', 'Papyrus ', 'Paradox North ', 'Passtech Games ', 'Pathea Games ', 'Phosphor Games Studio', 'Picaresque Studio ', 'Pieces Interactive ', 'Pinkerton Road Studio ', 'Piranha Games ', 'Pirita Studio ', 'Player First Games ', 'Playful Corp. ', 'Playsport Games', 'Pocketwatch Games ', 'Pollux Gamelabs ', 'Polypusher Studios ', 'Press Play ', 'Presto Studios ', 'Q-Games ', 'Quicksilver Software ', 'Rage Software ', 'Rainbow Studios ', 'Raw Fury', 'Reakktor Media ', 'Red Herring Labs ', 'Red Rocket Games ', 'Related Designs ', 'Render Cube ', 'Renegade Kid ', 'Reptile', 'Rock Pocket Games ', 'Rocket Science Games ', 'Rockstar San Diego ', 'Rogue Factor ', 'Route 59 Games ', 'SMG Studio ', 'Santa Ragione ', 'Sanzaru Games ', 'Saturn+ ', 'Secret Level ', 'Serenity Forge', 'Sharkbomb Studios ', 'Shiny Shoe ', 'Shiro Games ', 'Shiver Games ', 'Sileni Studios ', 'Silver Dollar Games ', 'Silverback Studios ', 'SimTex ', 'Skeleton Crew Studio ', 'Sketchbook Games ', 'Space Dust Studios', 'Spearhead Games ', 'State of Play Games ', 'Still Running ', 'Studio Koba ', 'Sunnyside Games ', 'Supersonic Software ', 'THQ', 'TKO Software ', 'TURBOGUN ', 'Tamsoft ', 'Team Shifty ', 'Termite Games ', 'The Outsiders ', 'Thomas Moon Kang ', 'Tokyo RPG Factory ', 'Tom Hegarty ', 'TopWare Interactive ', 'Toylogic Inc.', 'Tribute Games', 'Triple Eh? Ltd ', 'Triplevision Games ', 'Triternion ', 'Turbo Tape Games ', 'Twice Circled ', 'Uber Entertainment ', 'Unigine Corp', 'Untame ', 'Upper One Games ', 'Veewo Games ', 'Vile Monarch ', 'Virtuos ', 'Visual Concepts ', 'Visual Imagination Software', 'Vlambeer ', 'Wales Interactive ', 'White Birds Productions ', 'Wild Factor ', 'William Chyr Studio LLC ', 'Wizards of the Coast ', 'Y.K. ', 'ZANDEL MEDIA ', 'Zoink! ', 'Zono Inc. ', 'machineboy ', 'roll7 ', 'tiny Build GAMES'] will be ignored\n",
      "  \"unknown class(es) {0} will be ignored\".format(sorted(unknown, key=str))\n"
     ]
    },
    {
     "name": "stdout",
     "output_type": "stream",
     "text": [
      "Epoch 1/20\n",
      "237/237 [==============================] - 23s 97ms/step - loss: 50.2167 - mae: 5.4886 - val_loss: 33.8887 - val_mae: 4.4865\n",
      "Epoch 2/20\n",
      "237/237 [==============================] - 23s 99ms/step - loss: 36.6171 - mae: 4.6221 - val_loss: 25.5351 - val_mae: 3.7856\n",
      "Epoch 3/20\n",
      "237/237 [==============================] - 24s 100ms/step - loss: 30.0589 - mae: 4.1881 - val_loss: 20.9907 - val_mae: 3.4137\n",
      "Epoch 4/20\n",
      "237/237 [==============================] - 24s 102ms/step - loss: 27.1669 - mae: 3.9214 - val_loss: 19.1931 - val_mae: 3.2266\n",
      "Epoch 5/20\n",
      "237/237 [==============================] - 24s 102ms/step - loss: 24.5787 - mae: 3.7266 - val_loss: 16.3646 - val_mae: 2.9624\n",
      "Epoch 6/20\n",
      "237/237 [==============================] - 24s 102ms/step - loss: 22.1450 - mae: 3.5416 - val_loss: 15.0601 - val_mae: 2.8290\n",
      "Epoch 7/20\n",
      "237/237 [==============================] - 24s 101ms/step - loss: 22.4368 - mae: 3.5305 - val_loss: 13.9155 - val_mae: 2.7092\n",
      "Epoch 8/20\n",
      "237/237 [==============================] - 24s 101ms/step - loss: 20.7887 - mae: 3.4078 - val_loss: 13.2855 - val_mae: 2.6645\n",
      "Epoch 9/20\n",
      "237/237 [==============================] - 23s 98ms/step - loss: 19.5886 - mae: 3.3113 - val_loss: 12.3275 - val_mae: 2.5268\n",
      "Epoch 10/20\n",
      "237/237 [==============================] - 23s 98ms/step - loss: 19.1113 - mae: 3.2069 - val_loss: 11.7000 - val_mae: 2.4547\n",
      "Epoch 11/20\n",
      "237/237 [==============================] - 24s 102ms/step - loss: 17.8481 - mae: 3.1243 - val_loss: 11.3734 - val_mae: 2.3802\n",
      "Epoch 12/20\n",
      "237/237 [==============================] - 24s 103ms/step - loss: 17.9331 - mae: 3.1229 - val_loss: 10.6715 - val_mae: 2.3344\n",
      "Epoch 13/20\n",
      "237/237 [==============================] - 24s 102ms/step - loss: 16.8192 - mae: 3.0171 - val_loss: 10.2529 - val_mae: 2.2522\n",
      "Epoch 14/20\n",
      "237/237 [==============================] - 24s 101ms/step - loss: 16.5792 - mae: 2.9965 - val_loss: 9.5692 - val_mae: 2.1738\n",
      "Epoch 15/20\n",
      "237/237 [==============================] - 24s 100ms/step - loss: 15.9500 - mae: 2.9395 - val_loss: 9.1307 - val_mae: 2.1439\n",
      "Epoch 16/20\n",
      "237/237 [==============================] - 25s 104ms/step - loss: 15.2028 - mae: 2.8649 - val_loss: 8.5461 - val_mae: 2.0419\n",
      "Epoch 17/20\n",
      "237/237 [==============================] - 25s 104ms/step - loss: 15.5168 - mae: 2.8990 - val_loss: 8.8989 - val_mae: 2.0905\n",
      "Epoch 18/20\n",
      "237/237 [==============================] - 24s 100ms/step - loss: 14.7110 - mae: 2.8322 - val_loss: 7.8483 - val_mae: 1.9495\n",
      "Epoch 19/20\n",
      "237/237 [==============================] - 24s 100ms/step - loss: 14.4580 - mae: 2.7833 - val_loss: 7.7105 - val_mae: 1.9399\n",
      "Epoch 20/20\n",
      "237/237 [==============================] - 23s 97ms/step - loss: 14.8672 - mae: 2.8250 - val_loss: 7.2008 - val_mae: 1.8580\n",
      "Chunk 7/52 // 11.54% Complete // Cycle 1/3\n"
     ]
    },
    {
     "name": "stderr",
     "output_type": "stream",
     "text": [
      "y:\\ML\\Anaconda\\envs\\TF-GPU\\lib\\site-packages\\sklearn\\preprocessing\\_label.py:876: UserWarning: unknown class(es) ['Text'] will be ignored\n",
      "  \"unknown class(es) {0} will be ignored\".format(sorted(unknown, key=str))\n",
      "y:\\ML\\Anaconda\\envs\\TF-GPU\\lib\\site-packages\\sklearn\\preprocessing\\_label.py:876: UserWarning: unknown class(es) [' AGEOD ', ' Awesome Games Studio ', ' Bigben Games ', ' Bigben Interactive', ' Bounding Box Games ', ' Double Damage Games ', ' Gaming Minds Studios ', ' Hi Corp ', ' Hopoo Games ', ' KTX Software ', ' Leikir Studio ', ' MachineGames ', ' Minority Media Inc. ', ' Monstars Inc.', ' Omen ', ' Pixel Pi Games ', ' Planetary Annihilation Inc ', ' Q-Games ', ' Resonair ', ' Sproing ', ' Stainless Steel Studios ', ' Super Awesome Hyper Dimensional Mega Team ', ' Team Ladybug ', ' WSS Playground', ' Xeen ', '2 Dawn Games ', '34BigThings ', '7 Studios ', 'Abbey Games ', 'Abrakam SA ', 'Alter Games ', 'Antimatter Games ', 'Appeal', 'Arberth Studios ', 'Atomic Motion ', 'Atomic Planet Entertainment ', 'AwesomeGamesStudio', 'Beamdog ', 'Beatnik Games ', 'Big Star Games ', 'Black Rock Studio ', 'Black Shamrock ', 'Blendo Games ', 'Buckshot Software ', 'CCR', 'Cadenza ', 'Camouflaj', 'Cellar Door Games ', 'Chasing Carrots ', 'Chucklefish', 'Clever Plays ', 'Cloudhead Games ', 'Cococucumber ', 'Continuum ', 'Core Design Ltd. ', 'Creat Studios ', 'Creative Bytes ', 'CreativeForge Games ', 'Cyberlore Studios ', 'Daniel Mullins Games ', 'Dapper Penguin Studios ', 'Dark Seas Games ', 'Denby / Raze ', 'Digixart Entertainment', 'Digixart Entertainment ', 'Disney Online ', 'Doctor Entertainment ', 'Double Damage Games', 'Double Damage Games ', 'Double Eleven', 'Double Eleven ', 'DreamCatcher Interactive ', 'Dry Cactus ', 'EasyGameStation ', 'Ed Key and David Kanaga ', 'Fabled Game ', 'Final Strike Games ', 'Finji ', 'Flashback Games ', 'Flippfly ', 'Flying Lab Software ', 'Freeform Interactive LLC ', 'Frostwood Interactive ', 'FuturLab ', 'Gabriel Interactive ', 'Galilea Multimedia ', 'Gaming Minds Studios ', 'Ghost Town Games Ltd. ', 'Grayfax Software ', 'Grinding Gear Games ', 'Hemisphere Games ', 'Homegrown Games ', 'House of Tales ', 'Housemarque', 'Housemarque ', 'ION LANDS ', 'Ice Flames ', 'Ice-Pick Lodge ', 'IllFonic ', 'Impressions Games ', 'Infamous Quests ', 'Innerloop ', 'Interceptor Entertainment ', 'Ironward ', 'IzHard ', 'Jacob Janerka ', 'Jujubee S.A. ', 'K-D Lab ', 'Kaizen Game Works ', 'Koei ', 'Kuju Entertainment ', 'Laura Shigihara ', 'Lazy Bear Games ', 'Lesta Studio ', 'Lightbulb Crew ', 'Lionbite Games ', 'Lucas Pope ', 'Ludeon Studios ', 'Lukewarm Media ', 'Mad Head Games ', 'Mages. ', 'Magiko Gaming ', 'ManaVoid Entertainment Inc. ', 'Mark Healey ', 'Master Creating ', 'Mi-Clos Studio ', 'Midway', 'Might and Delight ', 'Mighty Polygon ', 'Mike and Jason', 'Mindfield Games ', 'Mindware Studios ', 'Minority', 'Mist Land ', 'NG:DEV.TEAM', 'Naked Sky Entertainment ', 'Namco Bandai Games ', 'Nerd Monkeys ', 'Nerial ', 'Nexus Game Studio ', 'Nicolas Meyssonnier ', 'No Goblin ', 'Nodding Heads Games ', 'Now Production', 'NuClearVision ', 'Nvizzio Creations ', 'Object ', 'Old School Games ', 'Osmotic Studios ', 'Out Of The Park Developments ', 'Outrage Games ', 'Owlcat Games ', 'Owlchemy Labs ', 'Paradox Interactive', 'Pasta Games ', 'Patrick Traynor ', 'Phantom 8 ', 'Phantom Compass ', 'Phantomery Interactive ', 'Phigames ', 'Pieces Interactive ', 'Pinokl Games ', 'Pixelated Milk ', 'Plastic Piranha ', 'PolyAmorous ', 'Polygon Treehouse ', 'Polyslash ', 'Proxy Studios ', 'Puppy Games ', 'R8 Games ', 'Radon Labs ', 'RailSimulator.com ', 'Recoil Games ', 'Red Ego Games ', 'Reikon Games ', 'Revival Productions', 'RichMakeGame ', 'Rival Interactive ', 'Robot House ', 'Robotality ', 'Running Dog ', 'SEK Ost ', 'SSI ', 'Screaming Games ', 'Sector D2 ', 'Sectordub ', 'Shining Pixel Studios ', 'Slant Six ', 'Snapshot Games Inc. ', 'Sobaka ', 'SoftWarWare ', 'Softlab-NSK ', 'SomaSim ', 'SouthPeak Games ', 'Spellbind Studios ', 'Sproing Interactive Media', 'Spry Fox ', 'Stormfront Studios ', 'Stormind Games ', 'Sundae Month ', 'Super Mega Team', 'Survios ', 'Tamsoft ', 'Team Oneshot ', 'Team Pixel Pi', 'The Artistocrats ', 'The Bae Team ', 'The Behemoth ', 'The Deep End Games ', 'The Lordz Games Studio ', 'The Tiniest Shark ', 'Thomas Brush ', 'Three Rings ', 'TickTock Games ', 'Tlon Studios ', 'Tomasz Waclawek ', 'Torched Hill ', 'Torus Games ', 'Tour De Pizza ', 'Toxic Games ', 'Tribute Games ', 'Triskell Interactive ', 'Twice Different ', 'Two Tribes ', 'UBlart Montpellier ', 'UGA', 'Uber Entertainment', 'Ultra Runaway Games ', 'Vblank Entertainment Inc. ', 'Vertical Robot ', 'Videocult ', 'Visiware Studios ', 'Vladimir Kudelka ', 'Volatile Games ', 'Voracious Games ', 'Wastelands Interactive ', 'White Birds Productions ', 'Why so serious?', 'Wishfully ', 'Wizarbox ', 'Wormwood Studios ', 'YCJY Games ', 'Yanim Studio ', 'Zeboyd Games ', 'ZootFly ', 'Zordix Racing ', 'comcept ', 'nDreams ', 'neoqb ', 'niceplay games ', 'roll7 ', 'xii games '] will be ignored\n",
      "  \"unknown class(es) {0} will be ignored\".format(sorted(unknown, key=str))\n"
     ]
    },
    {
     "name": "stdout",
     "output_type": "stream",
     "text": [
      "Epoch 1/20\n",
      "238/238 [==============================] - 24s 98ms/step - loss: 56.7914 - mae: 5.7058 - val_loss: 33.5355 - val_mae: 4.4217\n",
      "Epoch 2/20\n",
      "238/238 [==============================] - 24s 102ms/step - loss: 41.8745 - mae: 4.9241 - val_loss: 27.4724 - val_mae: 3.9883\n",
      "Epoch 3/20\n",
      "238/238 [==============================] - 25s 104ms/step - loss: 35.7858 - mae: 4.4948 - val_loss: 23.6319 - val_mae: 3.7146\n",
      "Epoch 4/20\n",
      "238/238 [==============================] - 25s 104ms/step - loss: 33.9529 - mae: 4.3777 - val_loss: 21.7952 - val_mae: 3.5223\n",
      "Epoch 5/20\n",
      "238/238 [==============================] - 25s 104ms/step - loss: 30.0642 - mae: 4.1254 - val_loss: 18.9256 - val_mae: 3.3278\n",
      "Epoch 6/20\n",
      "238/238 [==============================] - 24s 100ms/step - loss: 27.7470 - mae: 3.9083 - val_loss: 18.1309 - val_mae: 3.2312\n",
      "Epoch 7/20\n",
      "238/238 [==============================] - 23s 99ms/step - loss: 27.0670 - mae: 3.8636 - val_loss: 17.5720 - val_mae: 3.1848\n",
      "Epoch 8/20\n",
      "238/238 [==============================] - 23s 99ms/step - loss: 24.6667 - mae: 3.7031 - val_loss: 16.1772 - val_mae: 3.0244\n",
      "Epoch 9/20\n",
      "238/238 [==============================] - 24s 100ms/step - loss: 23.5392 - mae: 3.6052 - val_loss: 14.2765 - val_mae: 2.8595\n",
      "Epoch 10/20\n",
      "238/238 [==============================] - 24s 102ms/step - loss: 23.2220 - mae: 3.5782 - val_loss: 13.6787 - val_mae: 2.8231\n",
      "Epoch 11/20\n",
      "238/238 [==============================] - 24s 103ms/step - loss: 22.3933 - mae: 3.5065 - val_loss: 13.6060 - val_mae: 2.7415\n",
      "Epoch 12/20\n",
      "238/238 [==============================] - 25s 103ms/step - loss: 21.7944 - mae: 3.4422 - val_loss: 14.3752 - val_mae: 2.8736\n",
      "Epoch 13/20\n",
      "238/238 [==============================] - 24s 101ms/step - loss: 20.9369 - mae: 3.3916 - val_loss: 12.8606 - val_mae: 2.6721\n",
      "Epoch 14/20\n",
      "238/238 [==============================] - 24s 101ms/step - loss: 20.4389 - mae: 3.3309 - val_loss: 12.4727 - val_mae: 2.6376\n",
      "Epoch 15/20\n",
      "238/238 [==============================] - 24s 101ms/step - loss: 19.3795 - mae: 3.2164 - val_loss: 12.5048 - val_mae: 2.5515\n",
      "Epoch 16/20\n",
      "238/238 [==============================] - 24s 101ms/step - loss: 18.2370 - mae: 3.1808 - val_loss: 12.2404 - val_mae: 2.5868\n",
      "Epoch 17/20\n",
      "238/238 [==============================] - 24s 102ms/step - loss: 18.0061 - mae: 3.1072 - val_loss: 10.8004 - val_mae: 2.3850\n",
      "Epoch 18/20\n",
      "238/238 [==============================] - 24s 102ms/step - loss: 18.4780 - mae: 3.1459 - val_loss: 11.5609 - val_mae: 2.5985\n",
      "Epoch 19/20\n",
      "238/238 [==============================] - 24s 99ms/step - loss: 17.0328 - mae: 3.0413 - val_loss: 10.0787 - val_mae: 2.3601\n",
      "Epoch 20/20\n",
      "238/238 [==============================] - 24s 102ms/step - loss: 17.8307 - mae: 3.0701 - val_loss: 10.8195 - val_mae: 2.4360\n",
      "Chunk 8/52 // 13.46% Complete // Cycle 1/3\n"
     ]
    },
    {
     "name": "stderr",
     "output_type": "stream",
     "text": [
      "y:\\ML\\Anaconda\\envs\\TF-GPU\\lib\\site-packages\\sklearn\\preprocessing\\_label.py:876: UserWarning: unknown class(es) [' Animation Arts ', ' Atlus ', ' Bitworks ', ' Black Wing Foundation ', ' Cauldron Ltd. ', ' Cliffhanger Productions ', ' Coatsink Software ', ' Dead Mage ', ' Devoured Studios ', ' EA Redwood Shores ', ' Elemental Games', ' Engine Software ', ' Factor 5 ', ' Fire Face ', ' Gamasoft ', ' Games Farm s.r.o. ', ' Infinite Interactive ', ' Introversion Software ', ' Jo-Mei Games ', ' Just Add Water', ' Kaigan Games ', ' Krome Studios ', ' Marvelous AQL ', ' Mixed Realms ', ' Mossmouth ', ' Multiverse ', ' Project Soul ', ' Red Storm Entertainment ', ' Shaba Games ', ' Studio 369 ', ' Studio Fizbin ', ' Terri Vellmann & Doseone ', ' Vlambeer ', ' d3t Ltd ', '17-Bit ', '5 Lives Studios ', '5000ft Inc. ', '5TH Cell ', 'Activision', 'Alan Hazelden & Harry Lee ', 'Amanita Design ', 'Animation Arts ', 'Artdink', 'Artifice Studio ', 'Artificer ', 'Arxel Tribe ', 'Asymmetric Publications ', 'Bandai Namco Games', 'Beau Blyth ', 'Big Robot Ltd ', 'Black Element ', 'Black Lab Games ', 'Black Lion Studios ', 'Black Rock Studio ', 'Bloodirony ', 'Broken Rules ', 'Bullfrog Productions ', 'CBE software ', 'Cadenza ', 'Cat Daddy Games ', 'Choice Provisions ', 'Chucklefish ', 'Cliffhanger Productions', 'Cracked Heads Games ', 'Crackshell ', 'Crea-ture Studios ', 'Croteam', 'DAMAGE STATE LTD ', 'DarkStar Games ', 'Dead Mage Studio', 'Deep Red ', 'Den-Yu-Sha ', 'Derek Yu', 'Detalion ', 'DoubleDutch Games ', 'Douze Dixiemes ', 'Dramatic Labs ', 'Draw Distance ', 'Ebb Software ', 'Echodog Games ', 'Edelweiss ', 'Egidijus Bachur ', 'Enigami ', 'Enlight Software', 'Escape ', 'Extend Interactive ', 'FASA Studio ', 'FLOW COMBINE ', 'Facepunch Studios ', 'Finish Line Games ', 'FishTankStudio ', 'Fizbin', 'Fizz Factor ', 'Flying Oak Games ', 'Free Radical Design ', 'Free Reign Entertainment ', 'Fusionsphere Systems', 'Fusionsphere Systems ', 'Games Farm', 'Games Farm ', 'Garage 227 ', 'Genetic Anomalies ', 'Glass Bottom Games ', 'Greylock Studio ', 'Grimlore Games ', 'HAKAMA ', 'Harebrained Schemes LLC ', 'Human Head Studios', 'IMGN.PRO ', 'Infogrames ', 'Introversion', 'Ironward ', 'Italic Pig ', 'Jesse Makkonen ', 'Jumpship ', 'Jutsu Games ', 'Kaigan Games OU', 'LGK Games ', 'MPS Labs ', 'Mad Head Games ', 'MadLightStudio ', 'Malfador Machinations ', 'Mandragora ', 'Massive Damage', 'Maxis', 'Mega Crit Games ', 'Meridian4 ', 'Meteorise ', 'Metropolis Software ', 'Might and Delight ', 'Mimimi Games ', 'MinMax Games Ltd. ', 'Mind over Matter ', 'Minds-Eye Productions ', 'Mixed Realms Pte Ltd', \"Mommy's Best Games \", 'Monomi Park ', 'Morgondag ', 'Mossmouth', 'Multiverse Games', 'Murudai ', 'Mystic Box ', 'N-Game Studios', 'Naked Sky Entertainment ', 'Nexon ', 'Night Dive Studios ', 'Nucleosys ', 'Nyamakop ', 'Okugi Studio ', 'Oovee Game Studios ', 'Owen Deery', 'Owned by Gravity ', 'Passtech Games ', 'Protocol Games ', 'Provox Games ', 'Pulsetense Games ', 'Rebellion', 'Rebelmind ', 'Red Blue Games ', 'Redlock Studio ', 'Reflexive Entertainment ', 'Reply Game Studios ', 'Retro Affect ', 'Retro Forge ', 'Right Nice Games ', 'Rotobee ', 'Runecraft ', 'Runewaker Entertainment ', 'Runner Duck ', 'SEGA Racing Studio ', 'SNK Corporation ', 'Sabotage Studio ', 'Samurai Punk ', 'Santa Ragione ', 'Scavengers Studio ', 'Seamless Entertainment', 'Shed-Works ', 'Sidhe Interactive ', 'Silver Style ', 'Ska Studios', 'Skunkape Games ', 'Skyshine Games ', 'Slitherine ', 'Sloclap ', 'Sneaky Yak Studio ', 'Solar Sail Games ', 'Something Classic Games LLC ', 'SouthPAW Games ', 'Southend Interactive ', 'Space Bullet Dynamics Corporation ', 'Sperasoft ', 'Spiral Circus ', 'Splashteam ', 'Star Gem Inc. ', 'State of Play Games ', 'Survios ', 'Swing Swing Submarine ', 'Tactical Adventures ', 'Taito Corporation ', 'Taldren ', 'Tamsoft', 'Tamsoft ', 'Team Gotham ', 'Terri Vellimann', 'Totally Games ', 'Treyarch', 'Ultimation Inc. ', 'Unicube ', 'Uprising Studios ', 'VSTEP ', 'Valkyrie Studios ', 'Vblank Entertainment Inc. ', 'Vine ', 'Vivid Games ', 'Wadjet Eye Games ', 'Wales Interactive ', 'WayForward ', 'White Birds Productions ', 'Wings Simulations ', 'Wolf Brew Games ', 'Wolfpack Studios ', 'XYLA Entertainment ', 'Youxiland', 'Ysbryd Games ', 'Zachtronics Industries ', 'Zojoi Studios ', 'iFun4all ', 'inkle ', 'rose-engine ', 'stillalive studios '] will be ignored\n",
      "  \"unknown class(es) {0} will be ignored\".format(sorted(unknown, key=str))\n"
     ]
    },
    {
     "name": "stdout",
     "output_type": "stream",
     "text": [
      "Epoch 1/20\n",
      "242/242 [==============================] - 24s 98ms/step - loss: 47.3217 - mae: 5.3153 - val_loss: 29.1807 - val_mae: 4.1536\n",
      "Epoch 2/20\n",
      "242/242 [==============================] - 25s 102ms/step - loss: 33.1456 - mae: 4.4000 - val_loss: 23.1261 - val_mae: 3.6421\n",
      "Epoch 3/20\n",
      "242/242 [==============================] - 25s 102ms/step - loss: 27.6513 - mae: 4.0067 - val_loss: 19.4912 - val_mae: 3.2831\n",
      "Epoch 4/20\n",
      "242/242 [==============================] - 25s 104ms/step - loss: 25.2577 - mae: 3.7836 - val_loss: 17.6664 - val_mae: 3.1201\n",
      "Epoch 5/20\n",
      "242/242 [==============================] - 25s 105ms/step - loss: 23.2009 - mae: 3.6363 - val_loss: 16.0509 - val_mae: 2.9666\n",
      "Epoch 6/20\n",
      "242/242 [==============================] - 25s 105ms/step - loss: 22.1115 - mae: 3.4994 - val_loss: 15.8326 - val_mae: 2.9410\n",
      "Epoch 7/20\n",
      "242/242 [==============================] - 24s 101ms/step - loss: 20.5815 - mae: 3.4020 - val_loss: 14.5221 - val_mae: 2.8009\n",
      "Epoch 8/20\n",
      "242/242 [==============================] - 24s 100ms/step - loss: 19.6405 - mae: 3.3005 - val_loss: 12.8807 - val_mae: 2.5919\n",
      "Epoch 9/20\n",
      "242/242 [==============================] - 24s 100ms/step - loss: 18.9257 - mae: 3.2373 - val_loss: 12.4065 - val_mae: 2.5296\n",
      "Epoch 10/20\n",
      "242/242 [==============================] - 25s 103ms/step - loss: 18.0235 - mae: 3.1591 - val_loss: 12.4884 - val_mae: 2.6058\n",
      "Epoch 11/20\n",
      "242/242 [==============================] - 25s 102ms/step - loss: 17.7956 - mae: 3.1407 - val_loss: 11.9670 - val_mae: 2.4832\n",
      "Epoch 12/20\n",
      "242/242 [==============================] - 24s 100ms/step - loss: 16.8786 - mae: 3.0652 - val_loss: 12.4357 - val_mae: 2.5406\n",
      "Epoch 13/20\n",
      "242/242 [==============================] - 24s 100ms/step - loss: 17.0398 - mae: 3.0631 - val_loss: 10.6505 - val_mae: 2.3121\n",
      "Epoch 14/20\n",
      "242/242 [==============================] - 25s 103ms/step - loss: 16.0472 - mae: 2.9356 - val_loss: 11.3134 - val_mae: 2.4472\n",
      "Epoch 15/20\n",
      "242/242 [==============================] - 25s 103ms/step - loss: 15.0071 - mae: 2.8651 - val_loss: 9.8678 - val_mae: 2.1827\n",
      "Epoch 16/20\n",
      "242/242 [==============================] - 25s 103ms/step - loss: 15.3188 - mae: 2.8580 - val_loss: 10.1700 - val_mae: 2.2136\n",
      "Epoch 17/20\n",
      "242/242 [==============================] - 24s 101ms/step - loss: 14.1793 - mae: 2.7682 - val_loss: 9.1672 - val_mae: 2.1257\n",
      "Epoch 18/20\n",
      "242/242 [==============================] - 25s 103ms/step - loss: 14.4721 - mae: 2.8016 - val_loss: 8.9944 - val_mae: 2.1091\n",
      "Epoch 19/20\n",
      "242/242 [==============================] - 25s 102ms/step - loss: 14.3658 - mae: 2.8028 - val_loss: 9.1619 - val_mae: 2.1608\n",
      "Epoch 20/20\n",
      "242/242 [==============================] - 25s 102ms/step - loss: 13.9318 - mae: 2.7541 - val_loss: 8.4653 - val_mae: 1.9972\n",
      "Chunk 9/52 // 15.38% Complete // Cycle 1/3\n"
     ]
    },
    {
     "name": "stderr",
     "output_type": "stream",
     "text": [
      "y:\\ML\\Anaconda\\envs\\TF-GPU\\lib\\site-packages\\sklearn\\preprocessing\\_label.py:876: UserWarning: unknown class(es) ['Text', 'Trainer'] will be ignored\n",
      "  \"unknown class(es) {0} will be ignored\".format(sorted(unknown, key=str))\n",
      "y:\\ML\\Anaconda\\envs\\TF-GPU\\lib\\site-packages\\sklearn\\preprocessing\\_label.py:876: UserWarning: unknown class(es) [' Awaken Realms ', ' B.B.Studio ', ' Co. LTD ', ' Deck Nine Games ', ' Digital Eclipse ', ' Dire Wolf Digital ', ' Do My Best Games ', ' Endnight Studios ', ' Florian Himsl ', ' Fullbright ', ' Furious Bee ', ' Ishtar Games Inc. ', ' King Art Games ', ' Koalabs ', ' Point Blank ', ' Quasar ', ' Question ', ' Ragequit Corporation ', ' Skookum Arts ', ' Slitherine ', ' Splendy Games ', ' Studio Fizbin ', ' Super Awesome Hyper Dimensional Mega Team ', ' Tyler Glaiel  ', ' Uppercut Games Pty Ltd ', ' XPEC Entertainment Inc. ', ' YCJY Games ', '10tons ', '3D2 Entertainment ', '4Head Studios ', 'AGO Games ', 'ARS GOETIA ', 'Abstraction Games ', 'Abyss Gameworks ', 'Act 3 Games', 'Akabaka ', 'Akella', 'Arcen Games', 'Artefacts Studio ', 'Artificial Mind and Movement ', 'Arxel Tribe ', 'Ashdar Games ', 'Attention To Detail ', 'Awaceb ', 'Awaken Realms Digital', 'Awfully Nice Studios ', 'Bad Viking ', 'Banpresto', 'Baroque Decay ', 'BattleGoat Studios ', 'Beethoven & Dinosaur ', 'Bellular Studios ', 'Big Ant Studios ', 'Big Finish Games ', 'Bkom ', 'Blackmill Games ', 'Blue 52 ', 'Blue Tongue Entertainment ', 'BonusXP ', 'Bossa Studios ', 'Braingame ', 'Brainwash Gang ', 'CCCP', 'Caligari Games ', 'Camel 101 ', 'Capy Games ', 'Chasing Rats Games ', 'Chibig ', 'Choice Provisions ', 'Cloak and Dagger Games ', 'Cockroach Inc. ', 'Color Gray Games ', 'Convict Games ', 'Cosmo D Studios ', 'Cranberry Production ', 'Crema Games ', 'Cryo Interactive ', 'Cultic Games ', 'Curve Digital ', 'Curve Studios ', 'Daedalic Studio West ', 'Dancing Dragon games ', 'Daniel Benmergui ', 'Darkling Room ', 'Davey Wreden ', 'Deconstructeam ', 'Destroyer Studios ', 'Dialogue Design ', 'Digital Sun ', 'Dimps Corporation ', 'Dragon Slumber ', 'DreamCatcher Interactive ', 'Droqen ', 'Echo Chamber Games ', 'Eden Studios ', 'Edmund McMillen', 'Ellipse Studios ', 'Embers ', 'Empty Clip Studios ', 'Enhance Games ', 'Exakt ', 'FIX Korea', 'Failbetter Games ', 'Fairyship Games ', 'Fireglow ', 'Fizbin', 'Free Lives ', 'Fury Software ', 'Future Games ', 'Galilea Multimedia ', 'Game Freak ', 'GameCo ', 'Gaming Corps AB ', 'GhostShark Games ', 'GoldKnights Studio ', 'GolemLabs ', 'Grimorio of Games ', 'Grip Games ', 'Happy Volcano ', 'Harvester Games ', 'Headup Games ', 'House of Tales ', 'IF Games ', 'IMC Games ', 'Illusion Ray Studio ', 'Image & Form ', 'Inevitable Entertainment ', 'Iron Tower Studio ', 'James Interactive ', 'Jason Rohrer ', 'Joe Richardson ', 'Johamm Tael & Mihkel Tael ', 'KING Art', 'Kamehan Studios ', 'Kite Games ', 'Konami', 'Ladyluck Digital Media ', 'Leonard Menchiari ', 'Lexis Numerique ', \"Lion's Shade \", 'Little Green Men ', 'Locomalito ', 'M2 ', 'Magic Lantern ', 'Magitech ', 'Mana Games ', 'Marvelous Inc. ', \"Mi'pu'mi Games \", 'Microids', 'Midway ', 'Mighty Yell ', 'Minds-Eye Productions ', 'Modern Storyteller ', 'Monochrome Paris ', 'Mouldy Toof Studios ', 'Mucky Foot Productions ', 'Neon Doctrine ', 'Neon Giant ', 'Nicalis ', 'Night Dive Studios ', 'No Bull Intentions ', 'No Code ', 'Noumena Productions ', 'Numinous Games ', 'Odd Bug Studio ', 'Omni Creative Group ', 'Orthogonal Games ', 'Over The Moon ', 'Owl Cave ', 'Paranoid Productions ', 'Paul Cuisset ', 'Pewter Games Studios ', 'Pillow Castle Games ', 'Pixel Titans ', 'Pixelogic ', 'Plot Twist ', 'Point Blank Games', 'PostMod Softworks ', 'Power Struggle Games ', 'Psyche Studios ', 'Punk Notion ', 'Puuba ', 'Question ', 'Questionary', 'RLR Training Inc ', 'Rain Games ', 'Random Potion Oy ', 'Rebelmind ', 'Rival Games Ltd ', 'Rusty Lake ', 'SKS Games', 'Sabotage Studio ', 'Sam Barlow', 'Serellan LLC ', 'Serenity Forge ', 'Sever ', 'Shark Punch ', 'Sierra Entertainment ', 'Sigtrap Games ', 'Skookum Arts LLC', 'SkyBox Labs ', 'SkyGoblin ', 'Sleepless Clinic ', 'Sleepy Sentry ', 'Slendy Interactive', 'Slitherine Software', 'Smoking Car Productions ', 'Spearhead Games ', 'Spooky Doorway ', 'Strangelite ', 'Strike Vector Team', 'Stubby Games ', 'Studio Seufz ', 'Summerfall Studios ', 'Super Mega Team', 'Surreal Software ', 'Swing Swing Submarine ', 'THE BROTHERHOOD ', 'Taldren ', 'Tale of Tales ', 'Tate Multimedia ', 'Team Gotham ', 'Technocrat ', 'Teotl Studios ', 'The Artistocrats ', 'The Bitmap Brothers ', 'The Collective ', 'The Fullbright Company', 'The Molasses Flood ', 'The Odd Gentlemen ', 'The Voxel Agents ', 'Third Wire ', 'Thunkd ', 'Tomas Sala ', 'Torpor Games ', 'Tribute Games ', 'Tuxedo Labs ', 'Ty Taylor and Mario Castaneda ', 'Uber Entertainment ', 'Ubisoft Annecy ', 'Uppercut Games', 'Uppercut Games Pty Ltd ', 'VRESKI ', 'ValuSoft ', 'Vertex4 ', 'Wadjet Eye Games ', 'Wales Interactive ', 'White Owls ', 'White Paper Games ', 'Wideload Games Inc. ', 'Wonderstruck Games ', 'WorldForge ', 'Wormwood Studios ', 'Xilam ', 'Xpec', 'YCJY', 'Zenimax Online Studios ', 'Zenovia ', 'Zero Sum Games ', 'Zoink! ', 'eSim Games ', 'h.a.n.d. Inc. ', 'increpare ', 'mif2000 ', 'nDreams ', 'tinyBuild'] will be ignored\n",
      "  \"unknown class(es) {0} will be ignored\".format(sorted(unknown, key=str))\n"
     ]
    },
    {
     "name": "stdout",
     "output_type": "stream",
     "text": [
      "Epoch 1/20\n",
      "236/236 [==============================] - 24s 98ms/step - loss: 49.1906 - mae: 5.3095 - val_loss: 36.8335 - val_mae: 4.5070\n",
      "Epoch 2/20\n",
      "236/236 [==============================] - 24s 101ms/step - loss: 38.9104 - mae: 4.6815 - val_loss: 30.9271 - val_mae: 3.9711\n",
      "Epoch 3/20\n",
      "236/236 [==============================] - 24s 102ms/step - loss: 34.7474 - mae: 4.4157 - val_loss: 27.9009 - val_mae: 3.8251\n",
      "Epoch 4/20\n",
      "236/236 [==============================] - 24s 102ms/step - loss: 31.5765 - mae: 4.1869 - val_loss: 25.8391 - val_mae: 3.6939\n",
      "Epoch 5/20\n",
      "236/236 [==============================] - 24s 100ms/step - loss: 29.0197 - mae: 4.0097 - val_loss: 23.7180 - val_mae: 3.4528\n",
      "Epoch 6/20\n",
      "236/236 [==============================] - 24s 101ms/step - loss: 28.7526 - mae: 3.9472 - val_loss: 23.3865 - val_mae: 3.3763\n",
      "Epoch 7/20\n",
      "236/236 [==============================] - 23s 99ms/step - loss: 26.8674 - mae: 3.8346 - val_loss: 21.5708 - val_mae: 3.2535\n",
      "Epoch 8/20\n",
      "236/236 [==============================] - 24s 101ms/step - loss: 25.6082 - mae: 3.7202 - val_loss: 21.0473 - val_mae: 3.1925\n",
      "Epoch 9/20\n",
      "236/236 [==============================] - 24s 100ms/step - loss: 25.8317 - mae: 3.7271 - val_loss: 20.5496 - val_mae: 3.1796\n",
      "Epoch 10/20\n",
      "236/236 [==============================] - 23s 99ms/step - loss: 23.9093 - mae: 3.5704 - val_loss: 19.1651 - val_mae: 3.0321\n",
      "Epoch 11/20\n",
      "236/236 [==============================] - 24s 100ms/step - loss: 23.2737 - mae: 3.5381 - val_loss: 18.2782 - val_mae: 2.9271\n",
      "Epoch 12/20\n",
      "236/236 [==============================] - 24s 100ms/step - loss: 22.5063 - mae: 3.4462 - val_loss: 20.0721 - val_mae: 3.0842\n",
      "Epoch 13/20\n",
      "236/236 [==============================] - 24s 102ms/step - loss: 22.2107 - mae: 3.4264 - val_loss: 17.9979 - val_mae: 2.8992\n",
      "Epoch 14/20\n",
      "236/236 [==============================] - 24s 103ms/step - loss: 21.3335 - mae: 3.3560 - val_loss: 17.5634 - val_mae: 2.8831\n",
      "Epoch 15/20\n",
      "236/236 [==============================] - 24s 100ms/step - loss: 20.8854 - mae: 3.3191 - val_loss: 17.7880 - val_mae: 2.9000\n",
      "Epoch 16/20\n",
      "236/236 [==============================] - 24s 102ms/step - loss: 20.6735 - mae: 3.2858 - val_loss: 18.2988 - val_mae: 2.9293\n",
      "Epoch 17/20\n",
      "236/236 [==============================] - 24s 101ms/step - loss: 20.4620 - mae: 3.2444 - val_loss: 16.8865 - val_mae: 2.7902\n",
      "Epoch 18/20\n",
      "236/236 [==============================] - 23s 99ms/step - loss: 20.8147 - mae: 3.2624 - val_loss: 15.9495 - val_mae: 2.6897\n",
      "Epoch 19/20\n",
      "236/236 [==============================] - 23s 98ms/step - loss: 18.7818 - mae: 3.1114 - val_loss: 17.5779 - val_mae: 2.8455\n",
      "Epoch 20/20\n",
      "236/236 [==============================] - 24s 100ms/step - loss: 19.6387 - mae: 3.1750 - val_loss: 15.8015 - val_mae: 2.6852\n",
      "Chunk 10/52 // 17.31% Complete // Cycle 1/3\n"
     ]
    },
    {
     "name": "stderr",
     "output_type": "stream",
     "text": [
      "y:\\ML\\Anaconda\\envs\\TF-GPU\\lib\\site-packages\\sklearn\\preprocessing\\_label.py:876: UserWarning: unknown class(es) ['Text'] will be ignored\n",
      "  \"unknown class(es) {0} will be ignored\".format(sorted(unknown, key=str))\n",
      "y:\\ML\\Anaconda\\envs\\TF-GPU\\lib\\site-packages\\sklearn\\preprocessing\\_label.py:876: UserWarning: unknown class(es) [' 1C', ' 2K Sports ', ' Atlantis Interactive Entertainment ', ' CINIC Games ', ' Cavalier Game Studios ', ' Cherrymochi ', ' Crenetic Studios ', ' Crows Crows Crows ', ' Drool ', ' Duality Games ', ' Hotta Studio ', ' KRAFTON Inc. ', ' Kukouri Mobile Entertainment ', ' Mercenary Technologies ', ' ONEOONE GAMES ', ' Pieces Interactive ', ' Sumo Nottingham ', ' Supergonk ', ' Team Toro ', ' Ubisoft Paris ', ' Xeen ', ' btf ', '101%', '258 Productions AB ', '2By3 Games ', '2x2 Games ', '49Games ', 'AGEOD ', 'AREA35 ', 'Acid Nerve ', 'Adeline Software ', 'Alawar Premium ', 'Alien Pixel Studios ', 'Antagonist ', 'Ares Dragonis ', 'Artdink ', 'Aspyr', 'Atlantis Interactive Entertainment\\t', 'Auran ', 'Backwoods Entertainment ', 'Battlefront.com', 'Big Robot Ltd ', 'Black Pants ', 'Blendo Games ', 'BlueGiant Interactive ', 'Brainy Studio LLC ', 'BreakAway Games ', 'Bulkhead Interactive ', 'Burut Software ', 'C.I.N.I.C. Games', 'Camel 101 ', 'Can Explode ', 'Carbon Studio ', 'Cavedog Entertainment ', 'Chaos Concept ', 'Cinemaware ', 'Click Entertainment ', 'Colibri Games ', 'ComonGames ', 'Computer Artworks ', 'Core Design Ltd. ', 'Cowardly Creations ', 'DNS Development ', 'Dan Smith Studios ', 'Davey Wreden ', 'Daydream Software ', 'Deadline Games ', 'Deconstructeam ', 'Deep Red ', 'Double Zero One Zero ', 'Draw Me A Pixel ', 'Dual Effect ', 'Duality Studio', 'Dynamix ', 'EXOR Studios ', 'Echtra Games', 'Event Horizon Software ', 'Expansive Worlds ', 'Facepalm Games ', 'Falling Squirrel ', 'Feral Interactive ', 'Fireart Games ', 'Fireproof Games ', 'Flazm ', 'Freebird Games ', 'Frog City Software ', 'Frogwares', 'GRIN', 'Galactic Cafe', 'Game-Labs ', 'Gatling Goat Studios ', 'Gato Salvaje Studio ', 'Gigawatt Studios ', 'Grasshopper Manufacture ', 'Grip Games ', 'Gun Interactive', 'Headup Games', 'High Moon Studios', 'Humanature Studios ', 'HyperBole Studios ', 'ISOMETRICORP Games ', 'Ice-Pick Lodge ', 'Iceberg Interactive', 'Iridium Studios ', 'Iron Lore Entertainment', 'Ironward ', 'KT Racing ', 'Kite Games ', 'LEAP Game Studios ', 'LKA ', 'Luis Antonio ', 'Luxoflux', 'Maddy Thorson ', 'Minority Media Inc. ', 'Modern Dream ', 'Moonlight Kids ', 'Morbidware ', 'Most Wanted Entertainment ', 'MuHa Games ', 'Naughty Dog', 'Neversoft Entertainment ', 'Nevrax ', 'Nicely Crafted ', 'Night Dive Studios ', 'Norsfell ', 'Numantian Games ', 'OhNoo ', 'One Bit Beyond ', 'OtherSide Entertainment ', 'OverBorder Studio ', 'Paintbucket Games ', 'Pixwerk ', 'Playmestudio ', 'Pocketwatch Games ', 'Point of View ', 'Prograph ', 'Propaganda Games ', 'Proxima Beta Europe B.V.', 'Puuba ', 'Puzzling Dream ', 'Rat King Entertainment ', 'Red Storm Entertainment', 'Replay Studios', 'Rogue Sun ', 'Ron Gilbert and Gary Winnick ', 'SMAC Games ', 'Shifting Tides ', 'Size Five Games ', 'Skybound LLC', 'Skydance Interactive ', 'Something We Made ', 'SpectreVision ', 'Spidersoft', 'Splashteam ', 'Spooky Squid Games ', 'Stormling Studios ', 'Streko-Graphics Inc. ', 'Stygian Software ', 'SuperPAC ', 'SuperSexySoftware ', 'Supergonk Ltd.', 'Surreal Software ', 'Survios ', 'Swordtales ', 'Terrible Posture Games ', 'The Station ', 'Timeline Computer Entertainment ', 'Tin Man Games ', 'Tragnarion Studios ', 'Trecision ', 'Trepang Studios ', 'Two Tribes ', 'TwoPM Studios ', 'Ubisoft Blue Byte ', 'Ubisoft Milan ', 'Ubisoft Singapore ', 'Urban Games ', 'Urnique Studio ', 'Vicarious Visions ', 'Vitamin G Studios ', 'Wadjet Eye Games ', 'Whatboy Games ', 'Yukon Wainczak ', 'Zombie Cow Studios ', '[bracket]games ', 'btf GmbH', 'damiansommer ', 'dietzribi ', 'drool Games', 'fragOut Studio', 'neo Software ', 'tobyfox '] will be ignored\n",
      "  \"unknown class(es) {0} will be ignored\".format(sorted(unknown, key=str))\n"
     ]
    },
    {
     "name": "stdout",
     "output_type": "stream",
     "text": [
      "Epoch 1/20\n",
      "242/242 [==============================] - 24s 99ms/step - loss: 44.2604 - mae: 5.0101 - val_loss: 28.2274 - val_mae: 3.9710\n",
      "Epoch 2/20\n",
      "242/242 [==============================] - 25s 103ms/step - loss: 34.5026 - mae: 4.3896 - val_loss: 23.0067 - val_mae: 3.5102\n",
      "Epoch 3/20\n",
      "242/242 [==============================] - 24s 100ms/step - loss: 29.3555 - mae: 4.0764 - val_loss: 20.5658 - val_mae: 3.3079\n",
      "Epoch 4/20\n",
      "242/242 [==============================] - 24s 97ms/step - loss: 26.5313 - mae: 3.8531 - val_loss: 17.8839 - val_mae: 3.0889\n",
      "Epoch 5/20\n",
      "242/242 [==============================] - 24s 98ms/step - loss: 24.4844 - mae: 3.6783 - val_loss: 16.3504 - val_mae: 2.9685\n",
      "Epoch 6/20\n",
      "242/242 [==============================] - 24s 100ms/step - loss: 22.6628 - mae: 3.5368 - val_loss: 15.2236 - val_mae: 2.7850\n",
      "Epoch 7/20\n",
      "242/242 [==============================] - 24s 101ms/step - loss: 22.0901 - mae: 3.4872 - val_loss: 15.0545 - val_mae: 2.7988\n",
      "Epoch 8/20\n",
      "242/242 [==============================] - 24s 99ms/step - loss: 20.9579 - mae: 3.3767 - val_loss: 14.9306 - val_mae: 2.7963\n",
      "Epoch 9/20\n",
      "242/242 [==============================] - 24s 101ms/step - loss: 19.6595 - mae: 3.2873 - val_loss: 13.0113 - val_mae: 2.6304\n",
      "Epoch 10/20\n",
      "242/242 [==============================] - 24s 101ms/step - loss: 19.6441 - mae: 3.2795 - val_loss: 13.0431 - val_mae: 2.5841\n",
      "Epoch 11/20\n",
      "242/242 [==============================] - 25s 102ms/step - loss: 19.1817 - mae: 3.2603 - val_loss: 11.3338 - val_mae: 2.4511\n",
      "Epoch 12/20\n",
      "242/242 [==============================] - 24s 101ms/step - loss: 17.8966 - mae: 3.1238 - val_loss: 11.3437 - val_mae: 2.4476\n",
      "Epoch 13/20\n",
      "242/242 [==============================] - 25s 103ms/step - loss: 17.0890 - mae: 3.0491 - val_loss: 11.7209 - val_mae: 2.5181\n",
      "Epoch 14/20\n",
      "242/242 [==============================] - 25s 103ms/step - loss: 16.8616 - mae: 3.0087 - val_loss: 10.5872 - val_mae: 2.3337\n",
      "Epoch 15/20\n",
      "242/242 [==============================] - 25s 103ms/step - loss: 15.8344 - mae: 2.9465 - val_loss: 11.6703 - val_mae: 2.4992\n",
      "Epoch 16/20\n",
      "242/242 [==============================] - 25s 103ms/step - loss: 15.8371 - mae: 2.9205 - val_loss: 9.7760 - val_mae: 2.2689\n",
      "Epoch 17/20\n",
      "242/242 [==============================] - 25s 103ms/step - loss: 15.6577 - mae: 2.9145 - val_loss: 10.6031 - val_mae: 2.3694\n",
      "Epoch 18/20\n",
      "242/242 [==============================] - 25s 103ms/step - loss: 15.5184 - mae: 2.8965 - val_loss: 9.3660 - val_mae: 2.1974\n",
      "Epoch 19/20\n",
      "242/242 [==============================] - 25s 102ms/step - loss: 15.0804 - mae: 2.8418 - val_loss: 10.2992 - val_mae: 2.2983\n",
      "Epoch 20/20\n",
      "242/242 [==============================] - 25s 103ms/step - loss: 14.8277 - mae: 2.7978 - val_loss: 8.7227 - val_mae: 2.0303\n",
      "Chunk 11/52 // 19.23% Complete // Cycle 1/3\n"
     ]
    },
    {
     "name": "stderr",
     "output_type": "stream",
     "text": [
      "y:\\ML\\Anaconda\\envs\\TF-GPU\\lib\\site-packages\\sklearn\\preprocessing\\_label.py:876: UserWarning: unknown class(es) [' 3DClouds ', ' Avalanche Software ', ' Behaviour Interactive ', ' Blackmill Games ', ' Cape Guy ', ' Eurocom ', ' Flashback Games ', ' Forever Entertainment ', ' Goldhawk Interactive ', ' Gone North Games ', ' In Images ', ' KADOKAWA CORPORATION ', ' Lab42 ', ' ML Enterprises ', ' Mandel ArtPlains ', ' Persha Studia ', ' Reborn Games Inc. ', ' Revistronic ', ' Soleil Ltd. ', ' Sumo Digital Academy ', ' Talawa Games ', ' Toylogic ', ' Visual Concepts ', ' comcept ', ' iNK Stories ', '110 Industries', '1P2P ', '2x2 Games ', '3000AD', '3DClouds.it', '5 Lives Studios ', 'Accidental Queens ', 'Ackkstudios ', 'Acquire ', 'Action Button Entertainment ', 'Alientrap ', 'Arcen Games', 'Asymmetric Publications ', 'Auroch Digital ', 'B-Alive ', 'Baroque Decay ', 'Behaviour Interactive Inc.', 'Black Cactus ', 'Black Lab Games ', 'Black Sea Studios ', 'Blue Manchu ', 'Bojan Brbora ', 'Brave at Night ', 'BreakAway Games ', 'Bulwark Studios ', 'Celeris ', 'Chucklefish ', 'Clifftop Games ', 'Coldwood Interactive ', 'Complex Games Inc. ', 'Cordens Interactive ', 'Cornered Rat ', 'Crazy Viking Studios ', 'Crocodile Entertainment ', 'Deadline Games ', 'Deadpan Games ', 'Deep Red ', 'Dejobaan Games ', 'Devespresso Games ', 'Different Tales ', 'Digital Spray Studios', 'Digixart Entertainment ', 'Dim Bulb Games ', 'Direct Action Games ', 'DotEmu ', 'Draw Distance ', 'Dream Execution ', 'Dumb and Fat Games ', 'EVC ', 'EXOR Studios ', 'Eden Industries ', 'Emobi Games ', 'Endless Fluff ', 'Eurocom Entertainment Software', 'FarmerGnome ', 'Fast Travel Games ', 'Fatbot Games ', 'Fatshark AB ', 'Forever Entertainment S.A.', 'Fragment Production Ltd', 'Freebird Games ', 'Funomena ', 'G5 Software ', 'GabberGames ', 'GameDesignDan ', 'Gamedust ', 'Games Farm ', 'Games Workshop ', 'Gamethunks', 'Gameyus Interactive ', 'Gasket Games ', 'Genius Slackers ', 'Ghost Pattern ', 'Giant Sparrow ', 'Glass Heart Games ', 'Gloomywood ', 'GriN Multimedia ', 'Grundislav Games ', 'Guild Software ', 'Halberd Studios ', 'Hammerfall Publishing ', 'Heuristic Park ', 'Hi-Bit Studios ', 'House House ', 'Impressions Games ', 'Innerspace VR ', 'Invictus ', \"It's Anecdotal \", 'Jacob Antonucci', 'Jagex Games Studio ', 'Jason Oda ', 'Jellyvision ', 'JoyMasher ', 'Jutsu Games ', 'KT Racing ', 'Kadokawa', 'Knuist & Perzik ', 'Kuju Entertainment ', 'Legend Entertainment ', 'Lightning Rod Games ', 'Livesay Technologies ', 'Lumenox ehf ', 'M2H', 'Magic Design Studios ', 'Masque Publishing ', 'Max Inferno ', 'Mega Cat Studios ', 'MicroProse ', 'MidBoss ', 'Misfits Attic ', 'Mojiken Studio ', 'Monokel ', 'Moonbite Games ', 'Moonshark ', 'N-Fusion Interactive Entertainment Corp.', 'Night Light Interactive ', 'Nihilistic ', 'Nine Rocks Games ', 'NoClip ', 'OSome Studio ', 'Ostrich Banditos ', 'Ota Imon Studios ', 'Outsider Games ', 'Owlchemy Labs ', 'Paradox Interactive', 'Pixelated Milk ', 'PlayMagic Ltd ', 'Playwood Project ', 'Polyslash ', 'Prideful Sloth ', 'Project Aces ', 'Project Aces  ', 'Proxy Studios ', 'Pterodon ', 'Pyrodactyl Games ', 'Ratbag ', 'Reflexive Entertainment ', 'Related Designs ', 'Replay Studios', 'Revistonic', 'Rimlight Studios ', 'Ritual Entertainment', 'Robot Gentleman ', 'Rodeo Games ', 'Rooster Teeth Games ', 'Ruud Koorevaar ', 'Ryu ga Gotoku Studios', 'Sad Owl Studios ', 'SadSquare Studio ', 'Santa Ragione ', 'Shiro Games ', 'Silver Wish Games ', 'Silvio & Gey Savarese ', 'Simogo ', 'Sir-Tech Software Inc. ', 'Sky Machine Studios ', 'Sloclap ', 'Sneaky Bastards ', 'Snowed In Studios ', 'Sobaka ', 'Spark Unlimited', 'Spike Chunsoft ', 'Steel Mantis ', 'Strange Loop Games ', 'Strategic Studies Group ', 'Strayllight Entertainment ', 'Studio Drydock Pty Ltd ', 'Studio Pixel Punk ', 'Subterranean Games ', 'Sukeban Games ', 'Sumo Digital', 'Sunflowers Interactive ', 'Super X Studios ', 'Sylum Entertainment ', 'Synetic ', 'Take-Two Interactive', 'Tasharen Entertainment ', 'Tate Multimedia ', 'Team OFK ', 'Teotl Studios', 'Terry Cavanagh ', 'The Bitmap Brothers ', 'The Lordz Games Studio', 'The Wandering Ben ', 'Theta Division ', 'Third Wave Games ', 'Third Wire ', 'Tigon ', 'Total Mayhem Games ', 'Toylogic Inc.', 'Trapdoor ', 'Treyarch', 'Triband ', 'Triple Topping Games ', 'Twisted Pixel Games ', 'Unicorn Games Studio ', 'Upstream Arcade ', 'Variable State ', 'Vile Monarch ', 'Villa Gorilla ', 'Visai Games ', 'WXP ', 'Warcave ', 'Wastelands Interactive ', 'Whale Rock Games ', 'Wide Games ', 'Winning Streak Games ', 'Witch Beam ', 'Wolcen Studio ', 'Wolfeye Studios ', 'Worldwalker Games ', 'Zeal Game Studios ', 'Zuxxez', 'adamgryu ', 'frecle ApS ', 'imaginarylab ', 'inkle', 'poncle ', 'timesymmetry '] will be ignored\n",
      "  \"unknown class(es) {0} will be ignored\".format(sorted(unknown, key=str))\n"
     ]
    },
    {
     "name": "stdout",
     "output_type": "stream",
     "text": [
      "Epoch 1/20\n",
      "234/234 [==============================] - 23s 99ms/step - loss: 42.4547 - mae: 4.8498 - val_loss: 29.0241 - val_mae: 3.7816\n",
      "Epoch 2/20\n",
      "234/234 [==============================] - 24s 103ms/step - loss: 30.9583 - mae: 4.0646 - val_loss: 23.2097 - val_mae: 3.3563\n",
      "Epoch 3/20\n",
      "234/234 [==============================] - 23s 98ms/step - loss: 27.2493 - mae: 3.8178 - val_loss: 19.9414 - val_mae: 3.1360\n",
      "Epoch 4/20\n",
      "234/234 [==============================] - 24s 103ms/step - loss: 25.1334 - mae: 3.6383 - val_loss: 17.8114 - val_mae: 2.9503\n",
      "Epoch 5/20\n",
      "234/234 [==============================] - 24s 103ms/step - loss: 22.7109 - mae: 3.4372 - val_loss: 17.2970 - val_mae: 2.8537\n",
      "Epoch 6/20\n",
      "234/234 [==============================] - 24s 101ms/step - loss: 20.9881 - mae: 3.3129 - val_loss: 16.3851 - val_mae: 2.8079\n",
      "Epoch 7/20\n",
      "234/234 [==============================] - 24s 103ms/step - loss: 20.1893 - mae: 3.2377 - val_loss: 15.5619 - val_mae: 2.7672\n",
      "Epoch 8/20\n",
      "234/234 [==============================] - 24s 104ms/step - loss: 19.1902 - mae: 3.1560 - val_loss: 15.0092 - val_mae: 2.6822\n",
      "Epoch 9/20\n",
      "234/234 [==============================] - 24s 103ms/step - loss: 18.8495 - mae: 3.1348 - val_loss: 13.5049 - val_mae: 2.5735\n",
      "Epoch 10/20\n",
      "234/234 [==============================] - 24s 104ms/step - loss: 17.9744 - mae: 3.0448 - val_loss: 13.4250 - val_mae: 2.5697\n",
      "Epoch 11/20\n",
      "234/234 [==============================] - 24s 105ms/step - loss: 17.0952 - mae: 2.9709 - val_loss: 12.2128 - val_mae: 2.3954\n",
      "Epoch 12/20\n",
      "234/234 [==============================] - 23s 100ms/step - loss: 16.9868 - mae: 2.9381 - val_loss: 12.5877 - val_mae: 2.4652\n",
      "Epoch 13/20\n",
      "234/234 [==============================] - 24s 101ms/step - loss: 16.8351 - mae: 2.9174 - val_loss: 11.8208 - val_mae: 2.3819\n",
      "Epoch 14/20\n",
      "234/234 [==============================] - 24s 101ms/step - loss: 16.0354 - mae: 2.8645 - val_loss: 14.8534 - val_mae: 2.6730\n",
      "Epoch 15/20\n",
      "234/234 [==============================] - 24s 102ms/step - loss: 15.9720 - mae: 2.8398 - val_loss: 11.5540 - val_mae: 2.3587\n",
      "Epoch 16/20\n",
      "234/234 [==============================] - 24s 101ms/step - loss: 14.6330 - mae: 2.7408 - val_loss: 11.9210 - val_mae: 2.3762\n",
      "Epoch 17/20\n",
      "234/234 [==============================] - 24s 104ms/step - loss: 15.1760 - mae: 2.7505 - val_loss: 10.7494 - val_mae: 2.2542\n",
      "Epoch 18/20\n",
      "234/234 [==============================] - 24s 104ms/step - loss: 14.4580 - mae: 2.6878 - val_loss: 10.7154 - val_mae: 2.2579\n",
      "Epoch 19/20\n",
      "234/234 [==============================] - 24s 101ms/step - loss: 15.0314 - mae: 2.7099 - val_loss: 11.1020 - val_mae: 2.3364\n",
      "Epoch 20/20\n",
      "234/234 [==============================] - 24s 101ms/step - loss: 13.5927 - mae: 2.6232 - val_loss: 10.1175 - val_mae: 2.1981\n",
      "Chunk 12/52 // 21.15% Complete // Cycle 1/3\n"
     ]
    },
    {
     "name": "stderr",
     "output_type": "stream",
     "text": [
      "y:\\ML\\Anaconda\\envs\\TF-GPU\\lib\\site-packages\\sklearn\\preprocessing\\_label.py:876: UserWarning: unknown class(es) [' Forgotten Key ', ' Innersloth ', ' Viva Media', ' bitComposer ', 'AWE Games ', 'Acclaim Studios Cheltenham ', 'Aeternum Game Studios ', 'Alientrap ', 'Analgesic Productions ', 'Anarteam ', 'Arcen Games', 'Arxel Tribe ', 'Auroch Digital ', 'Aurogon Shanghai ', 'Big Ant Studios ', 'Bit Blot ', 'Black Element ', 'Broken Rules ', 'Centauri Production ', 'Cold Iron Studios ', 'CreativeForge Games ', 'Cross-Product ', 'Daedalic Entertainment', 'Data Becker ', 'Demruth ', 'Digital Arrow ', 'Dreampainters ', 'Elden Pixels ', 'Fallen Tree Games ', 'Fiction Factory Games ', 'FreakZone ', 'Future Games', 'GUTS Department ', 'Gabe Cuzzillo ', 'Gato Salvaje Studio ', 'GlyphX Games ', 'Hazardous Software  ', 'Himalaya Studios ', 'Iceberg Interactive ', 'Indefatigable ', 'Investigate North ', 'Jagex Games Studio ', 'Jankenteam ', 'Khaeon ', 'Krams Design ', 'Kubat Software ', 'Lince Works ', 'MadMinute Games ', 'Made by Kiddies ', 'Massive Development ', 'Maximum Games ', 'Mischief ', 'MyDearest ', 'Nicolas Intoxicate ', 'Panther Games ', 'Piccolo ', 'Punch Punk Games ', 'Pure FPS ', 'RageSquid ', 'Realtime Worlds ', 'Resolution Games ', 'Revolution of Strategy ', 'Rogue Entertainment ', 'S&G Software ', 'Sandbox Interactive ', 'Schell Games', 'Sigma Team ', 'Skydance Interactive ', 'Spike Chunsoft ', 'Spiral House ', 'Tantalus ', 'The Wandering Band LLC ', 'ThinkingStars ', 'Third Law Interactive ', 'Three One Zero ', 'TicToc Games ', 'Tim Conkling ', 'Tindalos Interactive ', 'Turmoil Games ', 'U.S. Army ', 'Vagabond Dog ', 'Vertigo Games ', 'WorldForge ', \"Yuke's \", 'bitComposer Games', 'ustwo '] will be ignored\n",
      "  \"unknown class(es) {0} will be ignored\".format(sorted(unknown, key=str))\n"
     ]
    },
    {
     "name": "stdout",
     "output_type": "stream",
     "text": [
      "Epoch 1/20\n",
      "230/230 [==============================] - 23s 98ms/step - loss: 32.5294 - mae: 3.7731 - val_loss: 15.1013 - val_mae: 2.1571\n",
      "Epoch 2/20\n",
      "230/230 [==============================] - 24s 103ms/step - loss: 17.3351 - mae: 2.6530 - val_loss: 12.5820 - val_mae: 1.9623\n",
      "Epoch 3/20\n",
      "230/230 [==============================] - 23s 102ms/step - loss: 13.9858 - mae: 2.3350 - val_loss: 11.6995 - val_mae: 1.8647\n",
      "Epoch 4/20\n",
      "230/230 [==============================] - 23s 101ms/step - loss: 11.9626 - mae: 2.1558 - val_loss: 11.2966 - val_mae: 1.9204\n",
      "Epoch 5/20\n",
      "230/230 [==============================] - 23s 102ms/step - loss: 10.3176 - mae: 1.9522 - val_loss: 10.5670 - val_mae: 1.8063\n",
      "Epoch 6/20\n",
      "230/230 [==============================] - 24s 103ms/step - loss: 9.6660 - mae: 1.8533 - val_loss: 10.5430 - val_mae: 1.8314\n",
      "Epoch 7/20\n",
      "230/230 [==============================] - 23s 100ms/step - loss: 8.1414 - mae: 1.7376 - val_loss: 10.0839 - val_mae: 1.7435\n",
      "Epoch 8/20\n",
      "230/230 [==============================] - 23s 102ms/step - loss: 7.5996 - mae: 1.6497 - val_loss: 10.4597 - val_mae: 1.8321\n",
      "Epoch 9/20\n",
      "230/230 [==============================] - 23s 100ms/step - loss: 7.5409 - mae: 1.6497 - val_loss: 9.7392 - val_mae: 1.7593\n",
      "Epoch 10/20\n",
      "230/230 [==============================] - 23s 102ms/step - loss: 6.6642 - mae: 1.5275 - val_loss: 9.8574 - val_mae: 1.7159\n",
      "Epoch 11/20\n",
      "230/230 [==============================] - 24s 103ms/step - loss: 6.2981 - mae: 1.4932 - val_loss: 10.4275 - val_mae: 1.7817\n",
      "Epoch 12/20\n",
      "230/230 [==============================] - 24s 103ms/step - loss: 6.4893 - mae: 1.4564 - val_loss: 10.4302 - val_mae: 1.8187\n",
      "Epoch 13/20\n",
      "230/230 [==============================] - 23s 100ms/step - loss: 5.7024 - mae: 1.4197 - val_loss: 9.2427 - val_mae: 1.6195\n",
      "Epoch 14/20\n",
      "230/230 [==============================] - 23s 100ms/step - loss: 5.3855 - mae: 1.3793 - val_loss: 9.9351 - val_mae: 1.7701\n",
      "Epoch 15/20\n",
      "230/230 [==============================] - 24s 105ms/step - loss: 5.1324 - mae: 1.3358 - val_loss: 9.5948 - val_mae: 1.6542\n",
      "Epoch 16/20\n",
      "230/230 [==============================] - 24s 105ms/step - loss: 5.0819 - mae: 1.3018 - val_loss: 9.6034 - val_mae: 1.6686\n",
      "Epoch 17/20\n",
      "230/230 [==============================] - 23s 102ms/step - loss: 5.1060 - mae: 1.2815 - val_loss: 9.9643 - val_mae: 1.7990\n",
      "Epoch 18/20\n",
      "230/230 [==============================] - 24s 105ms/step - loss: 4.9696 - mae: 1.2850 - val_loss: 10.1746 - val_mae: 1.8153\n",
      "Chunk 13/52 // 23.08% Complete // Cycle 1/3\n"
     ]
    },
    {
     "name": "stderr",
     "output_type": "stream",
     "text": [
      "y:\\ML\\Anaconda\\envs\\TF-GPU\\lib\\site-packages\\sklearn\\preprocessing\\_label.py:876: UserWarning: unknown class(es) [' Atlantis Interactive Entertainment ', ' Bird Bath Games ', ' Massive Entertainment', '3D People ', 'A44 ', 'Acme Gamestudio ', 'Artisan Studios ', 'Atlantis Interactive Entertainment\\t', 'AtomTeam ', 'AurumDust ', 'BestGameEver.com ', 'Blendo Games ', 'Breaking Walls ', 'Charles University ', 'ClockStone Studio ', 'Daniel Wynne', 'Denki ', 'Digital Eclipse ', 'Edelweiss ', 'Etranges Libellules ', 'Exiin ', 'Funselektor Labs Inc. ', 'Gust ', 'Hempuli Oy ', 'INTERIOR/NIGHT ', \"Kiro'o Games \", 'League of Geeks ', 'Lienzo ', 'LuckyHammers ', 'Midway Studios - Austin ', 'Mothership Entertainment ', 'NHN Corporation ', 'NetDevil ', 'Ntronium Games ', 'Pencil Test Studios ', 'Peter Stock ', 'Piccolo ', 'Planet Moon Studios ', 'Sanzaru ', 'Sketchy Logic ', 'Spiderweb Software ', 'Streko-Graphics Inc. ', 'System Era Softworks ', 'Team Junkfish ', 'Tom Happ ', 'Ubisoft Bordeaux ', 'Ubisoft Singapore ', 'Ubisoft Sofia ', 'Unexpected ', 'Wayward Simulations ', 'Witch Beam ', 'idoz & phops '] will be ignored\n",
      "  \"unknown class(es) {0} will be ignored\".format(sorted(unknown, key=str))\n"
     ]
    },
    {
     "name": "stdout",
     "output_type": "stream",
     "text": [
      "Epoch 1/20\n",
      "213/213 [==============================] - 22s 103ms/step - loss: 15.3421 - mae: 2.4414 - val_loss: 4.7341 - val_mae: 1.4088\n",
      "Epoch 2/20\n",
      "213/213 [==============================] - 22s 106ms/step - loss: 7.3530 - mae: 1.5603 - val_loss: 3.5083 - val_mae: 1.2708\n",
      "Epoch 3/20\n",
      "213/213 [==============================] - 22s 104ms/step - loss: 6.3179 - mae: 1.4237 - val_loss: 3.2821 - val_mae: 1.1342\n",
      "Epoch 4/20\n",
      "213/213 [==============================] - 22s 105ms/step - loss: 5.8427 - mae: 1.3290 - val_loss: 3.5341 - val_mae: 1.2833\n",
      "Epoch 5/20\n",
      "213/213 [==============================] - 22s 103ms/step - loss: 5.4418 - mae: 1.2721 - val_loss: 3.0474 - val_mae: 1.0709\n",
      "Epoch 6/20\n",
      "213/213 [==============================] - 22s 103ms/step - loss: 4.7299 - mae: 1.1788 - val_loss: 3.2276 - val_mae: 1.1264\n",
      "Epoch 7/20\n",
      "213/213 [==============================] - 22s 104ms/step - loss: 4.1098 - mae: 1.1468 - val_loss: 2.7549 - val_mae: 0.9566\n",
      "Epoch 8/20\n",
      "213/213 [==============================] - 22s 103ms/step - loss: 4.2671 - mae: 1.1562 - val_loss: 2.6186 - val_mae: 0.9656\n",
      "Epoch 9/20\n",
      "213/213 [==============================] - 22s 104ms/step - loss: 4.0651 - mae: 1.1051 - val_loss: 2.8047 - val_mae: 1.0123\n",
      "Epoch 10/20\n",
      "213/213 [==============================] - 21s 100ms/step - loss: 3.7738 - mae: 1.0384 - val_loss: 2.9120 - val_mae: 1.0158\n",
      "Epoch 11/20\n",
      "213/213 [==============================] - 21s 101ms/step - loss: 3.8508 - mae: 1.0230 - val_loss: 2.8005 - val_mae: 0.9952\n",
      "Epoch 12/20\n",
      "213/213 [==============================] - 21s 101ms/step - loss: 3.5901 - mae: 1.0011 - val_loss: 2.9039 - val_mae: 1.0029\n",
      "Epoch 13/20\n",
      "213/213 [==============================] - 22s 105ms/step - loss: 3.1983 - mae: 0.9408 - val_loss: 3.0647 - val_mae: 1.0192\n",
      "Chunk 14/52 // 25.0% Complete // Cycle 1/3\n"
     ]
    },
    {
     "name": "stderr",
     "output_type": "stream",
     "text": [
      "y:\\ML\\Anaconda\\envs\\TF-GPU\\lib\\site-packages\\sklearn\\preprocessing\\_label.py:876: UserWarning: unknown class(es) [' Arzest', ' Balan Company ', '3000AD', 'Armature Studio ', 'Bedtime Digital Games ', 'CE-Asia ', 'Cauldron Ltd. ', 'Causal Bit Games ', 'EggNut ', 'Lost Toys ', 'Overhype Studios ', 'Pathos Interactive ', 'Plausible Concept ', 'Point 5 Projects  ', 'Pulse Entertainment ', 'Rayland Interactive ', 'Shadow Tor Studios ', 'Shining Rock Software ', 'Shockwave Productions ', 'Sports Mogul ', 'Stormind Games ', 'The Behemoth ', 'Throw the Warped Code Out ', 'Unspeakable Pixels '] will be ignored\n",
      "  \"unknown class(es) {0} will be ignored\".format(sorted(unknown, key=str))\n"
     ]
    },
    {
     "name": "stdout",
     "output_type": "stream",
     "text": [
      "Epoch 1/20\n",
      "225/225 [==============================] - 23s 100ms/step - loss: 17.0627 - mae: 2.3670 - val_loss: 7.7789 - val_mae: 1.3154\n",
      "Epoch 2/20\n",
      "225/225 [==============================] - 23s 103ms/step - loss: 6.9870 - mae: 1.4533 - val_loss: 6.7221 - val_mae: 1.3761\n",
      "Epoch 3/20\n",
      "225/225 [==============================] - 23s 102ms/step - loss: 5.6713 - mae: 1.2500 - val_loss: 6.4335 - val_mae: 1.3464\n",
      "Epoch 4/20\n",
      "225/225 [==============================] - 23s 103ms/step - loss: 6.5360 - mae: 1.2310 - val_loss: 6.1967 - val_mae: 1.4522\n",
      "Epoch 5/20\n",
      "225/225 [==============================] - 23s 103ms/step - loss: 4.7458 - mae: 1.1089 - val_loss: 6.0004 - val_mae: 1.3506\n",
      "Epoch 6/20\n",
      "225/225 [==============================] - 23s 101ms/step - loss: 4.1298 - mae: 0.9958 - val_loss: 6.4227 - val_mae: 1.3381\n",
      "Epoch 7/20\n",
      "225/225 [==============================] - 23s 100ms/step - loss: 4.9933 - mae: 1.0341 - val_loss: 6.8717 - val_mae: 1.4208\n",
      "Epoch 8/20\n",
      "225/225 [==============================] - 23s 101ms/step - loss: 4.7284 - mae: 0.9919 - val_loss: 7.1228 - val_mae: 1.4717\n",
      "Epoch 9/20\n",
      "225/225 [==============================] - 24s 105ms/step - loss: 4.6030 - mae: 0.9471 - val_loss: 7.4349 - val_mae: 1.5823\n",
      "Epoch 10/20\n",
      "225/225 [==============================] - 23s 104ms/step - loss: 4.6912 - mae: 0.9189 - val_loss: 7.1291 - val_mae: 1.4427\n",
      "Chunk 15/52 // 26.92% Complete // Cycle 1/3\n"
     ]
    },
    {
     "name": "stderr",
     "output_type": "stream",
     "text": [
      "y:\\ML\\Anaconda\\envs\\TF-GPU\\lib\\site-packages\\sklearn\\preprocessing\\_label.py:876: UserWarning: unknown class(es) [' Dlala Studios ', ' Eurocom ', 'Argonaut Games ', 'Artematica ', 'Auran ', 'Balancing Monkey Games ', 'Big Boat Interactive ', 'Black Lab Games ', 'Blackpowder Games  ', 'BumbleBeast ', 'Capy Games ', 'Cryo Interactive ', 'Digital Fusion Inc. ', 'Eidos Interactive ', 'Eurocom Entertainment Software', 'Eutechnyx ', 'GoodbyeWorld Games ', 'Gummy Cat ', 'Harebrained Schemes LLC ', 'Hiding Spot ', 'Hyperbolic Magnetism ', 'Iridium Studios ', 'Magnum Games ', 'Pixel Crow ', 'Rare Ltd.', 'ShadowRage ', 'Silver Lining Studio ', 'Similis ', 'Stunlock Studios ', 'THE BROTHERHOOD ', 'Tale of Tales ', 'Threaks ', 'Tindalos Interactive ', 'Tri Synergy ', 'Twice Circled ', 'Varsav Game Studios ', 'Warsaw Film School Video Game & Film Production Studio ', 'tiger & squid '] will be ignored\n",
      "  \"unknown class(es) {0} will be ignored\".format(sorted(unknown, key=str))\n"
     ]
    },
    {
     "name": "stdout",
     "output_type": "stream",
     "text": [
      "Epoch 1/20\n",
      "228/228 [==============================] - 23s 102ms/step - loss: 17.1018 - mae: 2.4383 - val_loss: 10.6457 - val_mae: 1.8385\n",
      "Epoch 2/20\n",
      "228/228 [==============================] - 23s 103ms/step - loss: 9.7557 - mae: 1.7543 - val_loss: 10.2405 - val_mae: 1.8111\n",
      "Epoch 3/20\n",
      "228/228 [==============================] - 23s 102ms/step - loss: 8.7246 - mae: 1.5909 - val_loss: 8.1747 - val_mae: 1.5733\n",
      "Epoch 4/20\n",
      "228/228 [==============================] - 24s 104ms/step - loss: 7.2724 - mae: 1.4272 - val_loss: 7.9547 - val_mae: 1.6966\n",
      "Epoch 5/20\n",
      "228/228 [==============================] - 24s 104ms/step - loss: 6.7323 - mae: 1.3569 - val_loss: 7.1128 - val_mae: 1.5393\n",
      "Epoch 6/20\n",
      "228/228 [==============================] - 24s 104ms/step - loss: 5.7852 - mae: 1.2759 - val_loss: 6.9733 - val_mae: 1.5644\n",
      "Epoch 7/20\n",
      "228/228 [==============================] - 24s 104ms/step - loss: 5.5015 - mae: 1.2607 - val_loss: 6.8359 - val_mae: 1.4549\n",
      "Epoch 8/20\n",
      "228/228 [==============================] - 23s 102ms/step - loss: 5.6095 - mae: 1.2039 - val_loss: 7.2579 - val_mae: 1.5112\n",
      "Epoch 9/20\n",
      "228/228 [==============================] - 24s 103ms/step - loss: 4.9376 - mae: 1.1789 - val_loss: 6.7618 - val_mae: 1.4885\n",
      "Epoch 10/20\n",
      "228/228 [==============================] - 23s 103ms/step - loss: 4.1714 - mae: 1.0868 - val_loss: 6.5996 - val_mae: 1.4757\n",
      "Epoch 11/20\n",
      "228/228 [==============================] - 24s 103ms/step - loss: 4.2812 - mae: 1.0714 - val_loss: 6.5512 - val_mae: 1.4285\n",
      "Epoch 12/20\n",
      "228/228 [==============================] - 23s 101ms/step - loss: 3.5961 - mae: 1.0037 - val_loss: 6.7443 - val_mae: 1.4803\n",
      "Epoch 13/20\n",
      "228/228 [==============================] - 23s 102ms/step - loss: 4.4446 - mae: 1.0540 - val_loss: 6.8513 - val_mae: 1.5535\n",
      "Epoch 14/20\n",
      "228/228 [==============================] - 23s 99ms/step - loss: 3.8466 - mae: 1.0073 - val_loss: 7.5439 - val_mae: 1.6148\n",
      "Epoch 15/20\n",
      "228/228 [==============================] - 24s 105ms/step - loss: 3.3054 - mae: 0.9431 - val_loss: 6.4765 - val_mae: 1.5047\n",
      "Epoch 16/20\n",
      "228/228 [==============================] - 24s 105ms/step - loss: 3.8974 - mae: 0.9611 - val_loss: 6.2097 - val_mae: 1.4611\n",
      "Epoch 17/20\n",
      "228/228 [==============================] - 24s 105ms/step - loss: 3.0506 - mae: 0.8978 - val_loss: 6.3919 - val_mae: 1.5131\n",
      "Epoch 18/20\n",
      "228/228 [==============================] - 23s 103ms/step - loss: 3.2287 - mae: 0.8990 - val_loss: 6.1949 - val_mae: 1.4272\n",
      "Epoch 19/20\n",
      "228/228 [==============================] - 24s 106ms/step - loss: 3.1925 - mae: 0.8626 - val_loss: 5.8955 - val_mae: 1.4347\n",
      "Epoch 20/20\n",
      "228/228 [==============================] - 23s 101ms/step - loss: 2.6747 - mae: 0.8187 - val_loss: 5.9692 - val_mae: 1.5064\n",
      "Chunk 16/52 // 28.85% Complete // Cycle 1/3\n"
     ]
    },
    {
     "name": "stderr",
     "output_type": "stream",
     "text": [
      "y:\\ML\\Anaconda\\envs\\TF-GPU\\lib\\site-packages\\sklearn\\preprocessing\\_label.py:876: UserWarning: unknown class(es) ['Cricket'] will be ignored\n",
      "  \"unknown class(es) {0} will be ignored\".format(sorted(unknown, key=str))\n",
      "y:\\ML\\Anaconda\\envs\\TF-GPU\\lib\\site-packages\\sklearn\\preprocessing\\_label.py:876: UserWarning: unknown class(es) [' Cranberry Production ', ' Digital Eclipse ', ' Nival ', ' Polar Motion ', ' S.L. ', ' Slitherine Group', '2K Games ', 'A Crowd of Monsters ', 'AGEOD ', 'Amanita Design ', 'Apeiron ', 'Atomic Games ', 'Awe Interactive ', 'Black Mesa Modification Team ', 'Blooming Buds Studio ', 'BootdiskRevolution ', 'Brat Designs ', 'Cavia Inc. ', 'ClockStone Studio ', 'Corbie Games ', 'Cranberry Studios ', 'DANG! ', 'DTP Entertainment', 'Deep Shadows ', 'Dimfrost ', 'Drama Drifters ', 'Elseware Experience ', 'Erik Svedang ', 'FYQD-Studio ', 'Free Lives ', 'Gaijin Games ', 'Gust ', 'Headfirst Productions ', 'Interceptor Entertainment ', 'Inti Creates ', 'Jagex Games Studio ', 'JoyMasher ', 'Kitfox Games ', 'Krome Studios ', 'La Plata ', 'Midway Studios - Austin ', 'Mighty Rabbit Studios ', 'Morteshka ', 'NExT Studios ', 'Nival Interactive', 'Nova Production ', 'Paper Cult ', 'PaperSeven ', 'Pixel Multimedia ', 'PortaPlay ', 'Quotix Software ', 'Rebel Act Studios ', 'RedRuins Softworks ', 'Robi Studios ', 'Runner Duck ', 'Sand Sailor Studio ', 'Scientifically Proven ', 'Slitherine', 'Stellar Jockeys ', 'Stickmen Studios ', 'Still Alive Studios ', 'Stunlock Studios ', 'SuperScarySnakes ', 'Swing Swing Submarine ', 'Targem Games ', 'Team Reptile ', 'The Moonwalls ', 'The Parasight ', 'The Pixel Hunt ', 'Thing Trunk ', 'Troglobytes Games', 'V7 Entertainment Inc. ', 'stillalive studios '] will be ignored\n",
      "  \"unknown class(es) {0} will be ignored\".format(sorted(unknown, key=str))\n"
     ]
    },
    {
     "name": "stdout",
     "output_type": "stream",
     "text": [
      "Epoch 1/20\n",
      "224/224 [==============================] - 23s 104ms/step - loss: 26.8284 - mae: 3.2308 - val_loss: 14.3471 - val_mae: 2.0695\n",
      "Epoch 2/20\n",
      "224/224 [==============================] - 23s 105ms/step - loss: 16.2755 - mae: 2.3298 - val_loss: 11.6729 - val_mae: 1.9401\n",
      "Epoch 3/20\n",
      "224/224 [==============================] - 23s 104ms/step - loss: 12.3595 - mae: 2.0141 - val_loss: 10.4549 - val_mae: 1.8551\n",
      "Epoch 4/20\n",
      "224/224 [==============================] - 23s 101ms/step - loss: 11.9457 - mae: 1.8971 - val_loss: 9.6488 - val_mae: 1.9129\n",
      "Epoch 5/20\n",
      "224/224 [==============================] - 23s 101ms/step - loss: 10.3135 - mae: 1.7733 - val_loss: 9.3192 - val_mae: 1.7677\n",
      "Epoch 6/20\n",
      "224/224 [==============================] - 23s 104ms/step - loss: 9.2847 - mae: 1.6552 - val_loss: 9.0987 - val_mae: 1.8588\n",
      "Epoch 7/20\n",
      "224/224 [==============================] - 24s 105ms/step - loss: 8.9856 - mae: 1.6129 - val_loss: 9.5278 - val_mae: 1.9131\n",
      "Epoch 8/20\n",
      "224/224 [==============================] - 23s 102ms/step - loss: 8.1807 - mae: 1.5014 - val_loss: 9.8054 - val_mae: 1.9507\n",
      "Epoch 9/20\n",
      "224/224 [==============================] - 23s 101ms/step - loss: 8.5791 - mae: 1.5543 - val_loss: 9.5161 - val_mae: 1.9091\n",
      "Epoch 10/20\n",
      "224/224 [==============================] - 23s 102ms/step - loss: 7.9897 - mae: 1.4898 - val_loss: 9.3983 - val_mae: 1.9766\n",
      "Epoch 11/20\n",
      "224/224 [==============================] - 23s 101ms/step - loss: 7.7514 - mae: 1.4599 - val_loss: 10.3146 - val_mae: 2.0490\n",
      "Chunk 17/52 // 30.77% Complete // Cycle 1/3\n"
     ]
    },
    {
     "name": "stderr",
     "output_type": "stream",
     "text": [
      "y:\\ML\\Anaconda\\envs\\TF-GPU\\lib\\site-packages\\sklearn\\preprocessing\\_label.py:876: UserWarning: unknown class(es) ['Trainer'] will be ignored\n",
      "  \"unknown class(es) {0} will be ignored\".format(sorted(unknown, key=str))\n",
      "y:\\ML\\Anaconda\\envs\\TF-GPU\\lib\\site-packages\\sklearn\\preprocessing\\_label.py:876: UserWarning: unknown class(es) [' Out of the Blue Games S.L. ', 'Action Forms Ltd. ', 'Activision ', 'Alientrap ', 'Blue Manchu ', 'Bytten Studio ', 'Expansive Worlds ', 'Hothouse Creations ', 'Ice-Pick Lodge ', 'Matt Kap ', 'Nerial ', 'Out of the Blue', 'Phobia Game Studio ', 'Richard Hofmeier ', 'Serious Brew ', 'Sierra Entertainment ', 'Spotlightor Interactive ', 'Sunhead Games ', 'Sunstorm Interactive ', 'Teku Studios  ', 'Torus Games '] will be ignored\n",
      "  \"unknown class(es) {0} will be ignored\".format(sorted(unknown, key=str))\n"
     ]
    },
    {
     "name": "stdout",
     "output_type": "stream",
     "text": [
      "Epoch 1/20\n",
      "220/220 [==============================] - 23s 101ms/step - loss: 17.8681 - mae: 2.9014 - val_loss: 7.7494 - val_mae: 1.8019\n",
      "Epoch 2/20\n",
      "220/220 [==============================] - 23s 104ms/step - loss: 8.1155 - mae: 1.8953 - val_loss: 6.7668 - val_mae: 1.7907\n",
      "Epoch 3/20\n",
      "220/220 [==============================] - 22s 102ms/step - loss: 6.4367 - mae: 1.6433 - val_loss: 6.4040 - val_mae: 1.8528\n",
      "Epoch 4/20\n",
      "220/220 [==============================] - 22s 101ms/step - loss: 5.5066 - mae: 1.4399 - val_loss: 6.2193 - val_mae: 1.8296\n",
      "Epoch 5/20\n",
      "220/220 [==============================] - 22s 101ms/step - loss: 4.5139 - mae: 1.3145 - val_loss: 5.2464 - val_mae: 1.7133\n",
      "Epoch 6/20\n",
      "220/220 [==============================] - 23s 105ms/step - loss: 4.2880 - mae: 1.2246 - val_loss: 5.8551 - val_mae: 1.8385\n",
      "Epoch 7/20\n",
      "220/220 [==============================] - 23s 103ms/step - loss: 4.0603 - mae: 1.1548 - val_loss: 5.9309 - val_mae: 1.8711\n",
      "Epoch 8/20\n",
      "220/220 [==============================] - 21s 98ms/step - loss: 3.4704 - mae: 1.0926 - val_loss: 5.3062 - val_mae: 1.7570\n",
      "Epoch 9/20\n",
      "220/220 [==============================] - 22s 101ms/step - loss: 3.2401 - mae: 1.0166 - val_loss: 4.8066 - val_mae: 1.6754\n",
      "Epoch 10/20\n",
      "220/220 [==============================] - 22s 99ms/step - loss: 2.7888 - mae: 0.9556 - val_loss: 6.1234 - val_mae: 1.9015\n",
      "Epoch 11/20\n",
      "220/220 [==============================] - 23s 103ms/step - loss: 3.1113 - mae: 0.9498 - val_loss: 5.4535 - val_mae: 1.8155\n",
      "Epoch 12/20\n",
      "220/220 [==============================] - 22s 101ms/step - loss: 2.6782 - mae: 0.9008 - val_loss: 5.2852 - val_mae: 1.7332\n",
      "Epoch 13/20\n",
      "220/220 [==============================] - 22s 102ms/step - loss: 2.4012 - mae: 0.8500 - val_loss: 6.2183 - val_mae: 1.9477\n",
      "Epoch 14/20\n",
      "220/220 [==============================] - 22s 102ms/step - loss: 2.4616 - mae: 0.8484 - val_loss: 5.9191 - val_mae: 1.8997\n",
      "Chunk 18/52 // 32.69% Complete // Cycle 1/3\n"
     ]
    },
    {
     "name": "stderr",
     "output_type": "stream",
     "text": [
      "y:\\ML\\Anaconda\\envs\\TF-GPU\\lib\\site-packages\\sklearn\\preprocessing\\_label.py:876: UserWarning: unknown class(es) ['Application', 'Trainer'] will be ignored\n",
      "  \"unknown class(es) {0} will be ignored\".format(sorted(unknown, key=str))\n",
      "y:\\ML\\Anaconda\\envs\\TF-GPU\\lib\\site-packages\\sklearn\\preprocessing\\_label.py:876: UserWarning: unknown class(es) [' Deep Silver Fishlabs ', ' EA Games ', ' FireFly Studios ', ' LLC', ' LandFall ', ' Navarre Corp ', ' Overflow Games ', ' Phosphor Games ', ' Reality Twist ', ' Sega', ' Ste Curran ', 'Amanita Design ', 'Argonaut Games', 'Ascension Studios', 'Atomic Games ', 'Backbone Entertainment ', 'Beautiful Game Studios ', 'Behold Studios ', 'Big Time Software ', 'Boxed Dream ', 'BreakAway Games ', 'Convoy Games ', 'Crazy Rocks ', 'Cygnus Entertainment ', 'Darkworks ', 'Data Realms ', 'Destineer ', 'Discord Games ', 'Double Stallion Games ', 'Dreamworks Games ', 'EA Pacific ', 'EasyGameStation ', 'Eden Industries ', 'Elf Games ', 'Eyebrow Interactive ', 'Fever Pitch Studios ', 'Firaxis Games', 'Fishlabs', 'Focus Home Interactive ', 'Gaslamp Games ', 'Greg Lobanov ', 'ION LANDS ', 'Interdimensional Games Inc ', 'Investigate North Aps ', 'Jason Oda ', 'Jump Over The Age ', 'LandFall Games', 'Lazy 8 Studios ', 'Logic Artists ', 'MASA Group ', 'Maddy Makes Games ', 'Mages. ', 'Matthias Linda ', 'Mighty Kingdom ', 'Mindware Studios ', 'Original Fire Games ', 'Oxeye ', 'Paragon Studios ', 'Phoenix Online Studios ', 'Phosphor Games Studio', 'Playwing ', 'Puuba ', 'Reality Twist GmbH', 'Snapshot Games Inc. ', 'SomaSim ', 'Storm in a Teacup ', 'TRAGsoft ', 'The Gentlebros ', 'The Wild Gentlemen ', 'Toge Productions ', 'Twistplay', 'Two Star Games ', 'Uppercut Games Pty Ltd ', 'Various ', 'White Paper Games ', 'Yippee Entertainment LTD ', 'Zeboyd Games ', 'Zoetrope Interactive ', 'osao games '] will be ignored\n",
      "  \"unknown class(es) {0} will be ignored\".format(sorted(unknown, key=str))\n"
     ]
    },
    {
     "name": "stdout",
     "output_type": "stream",
     "text": [
      "Epoch 1/20\n",
      "224/224 [==============================] - 23s 102ms/step - loss: 29.3828 - mae: 3.4635 - val_loss: 18.7413 - val_mae: 2.5206\n",
      "Epoch 2/20\n",
      "224/224 [==============================] - 23s 103ms/step - loss: 15.9760 - mae: 2.3326 - val_loss: 15.5941 - val_mae: 2.3593\n",
      "Epoch 3/20\n",
      "224/224 [==============================] - 24s 107ms/step - loss: 12.8633 - mae: 2.0644 - val_loss: 14.9164 - val_mae: 2.4273\n",
      "Epoch 4/20\n",
      "224/224 [==============================] - 23s 104ms/step - loss: 11.3993 - mae: 1.8794 - val_loss: 13.8755 - val_mae: 2.2340\n",
      "Epoch 5/20\n",
      "224/224 [==============================] - 23s 105ms/step - loss: 10.3400 - mae: 1.8017 - val_loss: 14.8856 - val_mae: 2.3907\n",
      "Epoch 6/20\n",
      "224/224 [==============================] - 23s 102ms/step - loss: 9.5625 - mae: 1.6781 - val_loss: 14.2265 - val_mae: 2.2817\n",
      "Epoch 7/20\n",
      "224/224 [==============================] - 23s 105ms/step - loss: 9.6021 - mae: 1.6486 - val_loss: 14.2530 - val_mae: 2.3605\n",
      "Epoch 8/20\n",
      "224/224 [==============================] - 23s 105ms/step - loss: 8.6655 - mae: 1.5842 - val_loss: 14.4818 - val_mae: 2.3401\n",
      "Epoch 9/20\n",
      "224/224 [==============================] - 24s 107ms/step - loss: 7.6509 - mae: 1.4998 - val_loss: 15.0514 - val_mae: 2.4587\n",
      "Chunk 19/52 // 34.62% Complete // Cycle 1/3\n"
     ]
    },
    {
     "name": "stderr",
     "output_type": "stream",
     "text": [
      "y:\\ML\\Anaconda\\envs\\TF-GPU\\lib\\site-packages\\sklearn\\preprocessing\\_label.py:876: UserWarning: unknown class(es) [' 10tons ', ' Elbow Rocket ', ' FAKT Software ', ' Funatics ', ' Funatics Software', ' Moonbyte Studios ', ' Relentless Studios ', '10tons Entertainment', '369 Interactive ', 'Aarne \"MekaSkull\" Hunziker ', 'Action Forms Ltd. ', 'Alt Shift ', 'Amanita Design ', 'Artematica ', 'Asylum Entertainment ', 'Brace Yourself Games ', 'Butterscotch Shenanigans ', 'Dreams Uncorporated ', 'EA Bright Light ', 'Explosm ', 'FAKT Software ', 'FAKT Software GmBH', 'Flying Cafe for Semianimals ', 'Fourattic ', 'Funatics Development GmbH', 'G5 Software ', 'InGame Studios ', 'Invictus ', 'Jasozz Games ', 'Kraken Unleashed ', 'Maschinen-Mensch ', 'Massive Monster ', 'Momentum DMT ', 'NExT Studios ', 'PETOONS STUDIO SL ', 'Passtech Games ', 'Petri Purho ', 'Punchers Impact ', 'Radical Fish Games ', 'Replay Studios', 'Skilltree Studios ', 'Spry Fox ', 'Sumo Digital', 'Tag of Joy ', 'Toys for Bob ', 'Triangle Studios ', 'Vicarious Visions', 'Vile Monarch ', 'Vogster ', 'Weather Factory ', 'Zipper Interactive '] will be ignored\n",
      "  \"unknown class(es) {0} will be ignored\".format(sorted(unknown, key=str))\n"
     ]
    },
    {
     "name": "stdout",
     "output_type": "stream",
     "text": [
      "Epoch 1/20\n",
      "209/209 [==============================] - 22s 103ms/step - loss: 13.5237 - mae: 1.9088 - val_loss: 7.3108 - val_mae: 0.8775\n",
      "Epoch 2/20\n",
      "209/209 [==============================] - 22s 105ms/step - loss: 7.8708 - mae: 1.2074 - val_loss: 6.2060 - val_mae: 0.7895\n",
      "Epoch 3/20\n",
      "209/209 [==============================] - 22s 105ms/step - loss: 7.0851 - mae: 1.0869 - val_loss: 5.9192 - val_mae: 0.6981\n",
      "Epoch 4/20\n",
      "209/209 [==============================] - 22s 106ms/step - loss: 6.3836 - mae: 0.9865 - val_loss: 5.5513 - val_mae: 0.6398\n",
      "Epoch 5/20\n",
      "209/209 [==============================] - 22s 106ms/step - loss: 6.6646 - mae: 0.9997 - val_loss: 5.5297 - val_mae: 0.6176\n",
      "Epoch 6/20\n",
      "209/209 [==============================] - 23s 108ms/step - loss: 6.0768 - mae: 0.9128 - val_loss: 5.0128 - val_mae: 0.6385\n",
      "Epoch 7/20\n",
      "209/209 [==============================] - 22s 107ms/step - loss: 5.4183 - mae: 0.8161 - val_loss: 5.0829 - val_mae: 0.6352\n",
      "Epoch 8/20\n",
      "209/209 [==============================] - 22s 105ms/step - loss: 5.1039 - mae: 0.7948 - val_loss: 4.7988 - val_mae: 0.6515\n",
      "Epoch 9/20\n",
      "209/209 [==============================] - 21s 102ms/step - loss: 5.3257 - mae: 0.7975 - val_loss: 5.0191 - val_mae: 0.6382\n",
      "Epoch 10/20\n",
      "209/209 [==============================] - 21s 99ms/step - loss: 5.1414 - mae: 0.7727 - val_loss: 4.8503 - val_mae: 0.5351\n",
      "Epoch 11/20\n",
      "209/209 [==============================] - 21s 101ms/step - loss: 4.9542 - mae: 0.7507 - val_loss: 4.6900 - val_mae: 0.5627\n",
      "Epoch 12/20\n",
      "209/209 [==============================] - 21s 103ms/step - loss: 4.2189 - mae: 0.7251 - val_loss: 2.8915 - val_mae: 0.5997\n",
      "Epoch 13/20\n",
      "209/209 [==============================] - 22s 103ms/step - loss: 3.8835 - mae: 0.6917 - val_loss: 2.5040 - val_mae: 0.4794\n",
      "Epoch 14/20\n",
      "209/209 [==============================] - 21s 101ms/step - loss: 3.9046 - mae: 0.6552 - val_loss: 2.3146 - val_mae: 0.4840\n",
      "Epoch 15/20\n",
      "209/209 [==============================] - 22s 103ms/step - loss: 3.3416 - mae: 0.6161 - val_loss: 2.5758 - val_mae: 0.4992\n",
      "Epoch 16/20\n",
      "209/209 [==============================] - 22s 105ms/step - loss: 3.1232 - mae: 0.5741 - val_loss: 2.4278 - val_mae: 0.4802\n",
      "Epoch 17/20\n",
      "209/209 [==============================] - 22s 103ms/step - loss: 3.5822 - mae: 0.6182 - val_loss: 2.3964 - val_mae: 0.5352\n",
      "Epoch 18/20\n",
      "209/209 [==============================] - 22s 104ms/step - loss: 3.2978 - mae: 0.5802 - val_loss: 2.2792 - val_mae: 0.4647\n",
      "Epoch 19/20\n",
      "209/209 [==============================] - 22s 104ms/step - loss: 2.9452 - mae: 0.5632 - val_loss: 2.0584 - val_mae: 0.4940\n",
      "Epoch 20/20\n",
      "209/209 [==============================] - 22s 103ms/step - loss: 2.5253 - mae: 0.5899 - val_loss: 2.3892 - val_mae: 0.4678\n",
      "Chunk 20/52 // 36.54% Complete // Cycle 1/3\n"
     ]
    },
    {
     "name": "stderr",
     "output_type": "stream",
     "text": [
      "y:\\ML\\Anaconda\\envs\\TF-GPU\\lib\\site-packages\\sklearn\\preprocessing\\_label.py:876: UserWarning: unknown class(es) [' ICEBOX Studios ', ' RA Images ', 'Access Games ', 'Bigmoon Entertainment ', 'Blue Omega ', 'Cinemax', 'Creative Edge Software ', \"D'Avekki Studios Limited \", 'Darkling Room ', 'Hibernian Workshop ', 'Long Hat House ', 'Mad Mimic ', 'Marvelous First Studio ', 'Mythic Entertainment ', 'Namco Bandai Games ', 'Pyramid ', 'Sonalysts ', 'Spike Chunsoft ', 'Sword & Axe LLC ', 'Three Fields Entertainment ', 'Wadjet Eye Games', 'XXV Productions '] will be ignored\n",
      "  \"unknown class(es) {0} will be ignored\".format(sorted(unknown, key=str))\n"
     ]
    },
    {
     "name": "stdout",
     "output_type": "stream",
     "text": [
      "Epoch 1/20\n",
      "203/203 [==============================] - 21s 103ms/step - loss: 6.5149 - mae: 0.9862 - val_loss: 3.1868 - val_mae: 0.5751\n",
      "Epoch 2/20\n",
      "203/203 [==============================] - 21s 103ms/step - loss: 3.1612 - mae: 0.6774 - val_loss: 3.3284 - val_mae: 0.7409\n",
      "Epoch 3/20\n",
      "203/203 [==============================] - 21s 103ms/step - loss: 2.2316 - mae: 0.6005 - val_loss: 2.9822 - val_mae: 0.6237\n",
      "Epoch 4/20\n",
      "203/203 [==============================] - 20s 101ms/step - loss: 1.9484 - mae: 0.5235 - val_loss: 3.1448 - val_mae: 0.6307\n",
      "Epoch 5/20\n",
      "203/203 [==============================] - 20s 99ms/step - loss: 1.9422 - mae: 0.5110 - val_loss: 3.0118 - val_mae: 0.6832\n",
      "Epoch 6/20\n",
      "203/203 [==============================] - 21s 104ms/step - loss: 1.7848 - mae: 0.4968 - val_loss: 3.1636 - val_mae: 0.6790\n",
      "Epoch 7/20\n",
      "203/203 [==============================] - 21s 105ms/step - loss: 1.5412 - mae: 0.4231 - val_loss: 3.2015 - val_mae: 0.6583\n",
      "Epoch 8/20\n",
      "203/203 [==============================] - 21s 104ms/step - loss: 1.3640 - mae: 0.4214 - val_loss: 3.6002 - val_mae: 0.6824\n",
      "Chunk 21/52 // 38.46% Complete // Cycle 1/3\n"
     ]
    },
    {
     "name": "stderr",
     "output_type": "stream",
     "text": [
      "y:\\ML\\Anaconda\\envs\\TF-GPU\\lib\\site-packages\\sklearn\\preprocessing\\_label.py:876: UserWarning: unknown class(es) [' Capcom Vancouver ', ' Koei Tecmo Games ', ' Ltd. ', ' Sky Fallen', '5-Bits Games ', '8Monkey Labs ', 'Access Games ', 'Acid Nerve ', 'Acid Wizard Studio ', 'Allgraf ', 'Biart ', 'Blue Castle Games ', 'Boston Animation ', 'CCCP ', 'COWCAT ', 'Cave ', 'DNS Development ', 'Digital Confectioners ', 'DoubleBear Productions ', 'Dykast Lubomir ', 'Fabraz ', 'Fictiorama Studios ', 'Frozen line ', 'Ghost Ship Games ', 'Haggard Games ', 'Ikarion ', 'Invader Studios ', 'KUNO INTERACTIVE ', 'Ludus future ', 'MINT ROCKET ', 'Madruga Works ', 'Most Wanted Entertainment ', 'Motion Twin ', 'Nfusion ', 'Oscar Brittain ', 'Outrage Games ', 'Parallax Software ', 'Positech Games ', 'QCF Design ', 'RageSquid ', 'Related Designs ', 'Resolution Games ', 'Scavengers Studio ', 'Silent Grove Studios ', 'Sky Fallen ', 'Snowhound Games ', 'Streko-Graphics Inc. ', 'Team Ninja', 'The Chinese Room ', 'Twisted Pixel Games ', 'Unfold Games ', 'White Rabbit Interactive ', 'Z-Axis', 'Zoetrope Interactive '] will be ignored\n",
      "  \"unknown class(es) {0} will be ignored\".format(sorted(unknown, key=str))\n"
     ]
    },
    {
     "name": "stdout",
     "output_type": "stream",
     "text": [
      "Epoch 1/20\n",
      "224/224 [==============================] - 23s 101ms/step - loss: 26.9024 - mae: 3.4847 - val_loss: 19.2758 - val_mae: 2.9848\n",
      "Epoch 2/20\n",
      "224/224 [==============================] - 23s 103ms/step - loss: 15.2336 - mae: 2.4340 - val_loss: 15.9077 - val_mae: 2.6737\n",
      "Epoch 3/20\n",
      "224/224 [==============================] - 23s 104ms/step - loss: 12.6308 - mae: 2.1341 - val_loss: 15.6565 - val_mae: 2.6123\n",
      "Epoch 4/20\n",
      "224/224 [==============================] - 23s 104ms/step - loss: 12.2426 - mae: 2.0134 - val_loss: 14.2156 - val_mae: 2.5978\n",
      "Epoch 5/20\n",
      "224/224 [==============================] - 23s 103ms/step - loss: 10.4687 - mae: 1.8508 - val_loss: 14.7686 - val_mae: 2.7129\n",
      "Epoch 6/20\n",
      "224/224 [==============================] - 24s 106ms/step - loss: 9.5241 - mae: 1.7083 - val_loss: 14.3369 - val_mae: 2.6048\n",
      "Epoch 7/20\n",
      "224/224 [==============================] - 24s 106ms/step - loss: 9.1730 - mae: 1.6785 - val_loss: 13.8631 - val_mae: 2.6154\n",
      "Epoch 8/20\n",
      "224/224 [==============================] - 23s 101ms/step - loss: 8.6935 - mae: 1.6217 - val_loss: 14.1485 - val_mae: 2.6921\n",
      "Epoch 9/20\n",
      "224/224 [==============================] - 24s 106ms/step - loss: 8.7076 - mae: 1.6099 - val_loss: 13.7515 - val_mae: 2.6187\n",
      "Epoch 10/20\n",
      "224/224 [==============================] - 24s 106ms/step - loss: 8.0548 - mae: 1.5156 - val_loss: 14.4223 - val_mae: 2.6736\n",
      "Epoch 11/20\n",
      "224/224 [==============================] - 23s 104ms/step - loss: 7.9123 - mae: 1.4819 - val_loss: 15.1743 - val_mae: 2.7142\n",
      "Epoch 12/20\n",
      "224/224 [==============================] - 23s 105ms/step - loss: 8.5286 - mae: 1.5157 - val_loss: 14.9755 - val_mae: 2.7212\n",
      "Epoch 13/20\n",
      "224/224 [==============================] - 23s 105ms/step - loss: 7.4450 - mae: 1.4374 - val_loss: 16.1086 - val_mae: 2.8923\n",
      "Epoch 14/20\n",
      "224/224 [==============================] - 23s 104ms/step - loss: 7.4418 - mae: 1.4107 - val_loss: 15.5096 - val_mae: 2.8085\n",
      "Chunk 22/52 // 40.38% Complete // Cycle 1/3\n"
     ]
    },
    {
     "name": "stderr",
     "output_type": "stream",
     "text": [
      "y:\\ML\\Anaconda\\envs\\TF-GPU\\lib\\site-packages\\sklearn\\preprocessing\\_label.py:876: UserWarning: unknown class(es) [' Dreadlocks ', 'Digitalo Studios ', 'Dreadlocks Ltd', 'Foregone ', 'Layopi Games ', 'Red Candle Games ', 'Sorath ', 'Sourcenext ', 'Ultimation Inc. '] will be ignored\n",
      "  \"unknown class(es) {0} will be ignored\".format(sorted(unknown, key=str))\n"
     ]
    },
    {
     "name": "stdout",
     "output_type": "stream",
     "text": [
      "Epoch 1/20\n",
      "231/231 [==============================] - 24s 100ms/step - loss: 22.6419 - mae: 2.5920 - val_loss: 15.4531 - val_mae: 2.8806\n",
      "Epoch 2/20\n",
      "231/231 [==============================] - 24s 106ms/step - loss: 7.9665 - mae: 1.3739 - val_loss: 14.0545 - val_mae: 2.9332\n",
      "Epoch 3/20\n",
      "231/231 [==============================] - 25s 106ms/step - loss: 5.5762 - mae: 1.1268 - val_loss: 13.1866 - val_mae: 2.9399\n",
      "Epoch 4/20\n",
      "231/231 [==============================] - 24s 104ms/step - loss: 5.9269 - mae: 1.0540 - val_loss: 12.0311 - val_mae: 2.8597\n",
      "Epoch 5/20\n",
      "231/231 [==============================] - 24s 103ms/step - loss: 4.7221 - mae: 0.9624 - val_loss: 12.9502 - val_mae: 3.0348\n",
      "Epoch 6/20\n",
      "231/231 [==============================] - 24s 103ms/step - loss: 3.5240 - mae: 0.8314 - val_loss: 12.7662 - val_mae: 3.0604\n",
      "Epoch 7/20\n",
      "231/231 [==============================] - 24s 104ms/step - loss: 3.3151 - mae: 0.7560 - val_loss: 12.8731 - val_mae: 3.1182\n",
      "Epoch 8/20\n",
      "231/231 [==============================] - 24s 103ms/step - loss: 3.1275 - mae: 0.7030 - val_loss: 13.9982 - val_mae: 3.2370\n",
      "Epoch 9/20\n",
      "231/231 [==============================] - 24s 103ms/step - loss: 3.0391 - mae: 0.7035 - val_loss: 13.6067 - val_mae: 3.1998\n",
      "Chunk 23/52 // 42.31% Complete // Cycle 1/3\n"
     ]
    },
    {
     "name": "stderr",
     "output_type": "stream",
     "text": [
      "y:\\ML\\Anaconda\\envs\\TF-GPU\\lib\\site-packages\\sklearn\\preprocessing\\_label.py:876: UserWarning: unknown class(es) [' Dose', ' Kitty', ' and JW ', 'ArachnidGames ', 'AtomicTorch ', 'DESTINYbit ', 'Frima Studio ', 'Innonics ', 'Nippon Ichi Software ', 'Piranha Games ', 'Ratbag ', 'Soldak Entertainment ', 'Sundae Month ', 'Terri', 'Terry Cavanagh ', 'V1 Interactive '] will be ignored\n",
      "  \"unknown class(es) {0} will be ignored\".format(sorted(unknown, key=str))\n"
     ]
    },
    {
     "name": "stdout",
     "output_type": "stream",
     "text": [
      "Epoch 1/20\n",
      "231/231 [==============================] - 23s 99ms/step - loss: 11.2066 - mae: 1.7411 - val_loss: 12.5196 - val_mae: 2.3070\n",
      "Epoch 2/20\n",
      "231/231 [==============================] - 23s 101ms/step - loss: 5.4546 - mae: 1.1578 - val_loss: 10.0797 - val_mae: 2.0727\n",
      "Epoch 3/20\n",
      "231/231 [==============================] - 24s 105ms/step - loss: 5.4560 - mae: 1.0988 - val_loss: 9.7852 - val_mae: 2.0986\n",
      "Epoch 4/20\n",
      "231/231 [==============================] - 24s 105ms/step - loss: 3.9850 - mae: 0.9536 - val_loss: 8.4657 - val_mae: 2.0015\n",
      "Epoch 5/20\n",
      "231/231 [==============================] - 24s 105ms/step - loss: 3.8245 - mae: 0.9007 - val_loss: 8.0139 - val_mae: 1.9254\n",
      "Epoch 6/20\n",
      "231/231 [==============================] - 24s 106ms/step - loss: 3.7809 - mae: 0.8837 - val_loss: 6.8112 - val_mae: 1.8175\n",
      "Epoch 7/20\n",
      "231/231 [==============================] - 24s 104ms/step - loss: 3.3555 - mae: 0.8202 - val_loss: 6.8631 - val_mae: 1.8658\n",
      "Epoch 8/20\n",
      "231/231 [==============================] - 23s 102ms/step - loss: 2.5392 - mae: 0.7700 - val_loss: 6.9950 - val_mae: 1.9498\n",
      "Epoch 9/20\n",
      "231/231 [==============================] - 25s 107ms/step - loss: 3.6786 - mae: 0.8250 - val_loss: 7.0992 - val_mae: 1.8839\n",
      "Epoch 10/20\n",
      "231/231 [==============================] - 24s 106ms/step - loss: 3.4068 - mae: 0.8331 - val_loss: 6.1389 - val_mae: 1.7199\n",
      "Epoch 11/20\n",
      "231/231 [==============================] - 24s 104ms/step - loss: 2.0194 - mae: 0.6798 - val_loss: 6.4679 - val_mae: 1.8124\n",
      "Epoch 12/20\n",
      "231/231 [==============================] - 24s 103ms/step - loss: 2.4164 - mae: 0.7028 - val_loss: 6.6059 - val_mae: 1.8657\n",
      "Epoch 13/20\n",
      "231/231 [==============================] - 24s 103ms/step - loss: 2.6472 - mae: 0.7017 - val_loss: 6.3115 - val_mae: 1.7540\n",
      "Epoch 14/20\n",
      "231/231 [==============================] - 24s 103ms/step - loss: 2.3256 - mae: 0.6971 - val_loss: 7.3509 - val_mae: 1.9400\n",
      "Epoch 15/20\n",
      "231/231 [==============================] - 24s 103ms/step - loss: 2.0012 - mae: 0.6451 - val_loss: 6.2171 - val_mae: 1.7604\n",
      "Chunk 24/52 // 44.23% Complete // Cycle 1/3\n"
     ]
    },
    {
     "name": "stderr",
     "output_type": "stream",
     "text": [
      "y:\\ML\\Anaconda\\envs\\TF-GPU\\lib\\site-packages\\sklearn\\preprocessing\\_label.py:876: UserWarning: unknown class(es) [' Digital Leisure ', ' Eighting ', ' Eurocom ', 'Ankama Games ', 'Arc System Works', 'Avalanche Software ', 'Barking Dog ', 'Ben Esposito ', 'Bippinbits ', 'Canal+ Multimedia ', 'Code Force ', 'Digital Leisure Inc.', 'Disney Interactive Studios ', 'Eurocom Entertainment Software', 'Heavy Iron Studios', 'Illwinter Design Group ', 'Jesse Makkonen ', 'KillHouse Games ', 'Massive Work Studio ', 'Moppin ', 'Muro Studios Ltd. ', 'Nerve Software ', 'Pocket Trap ', 'Propaganda Games ', 'Secret Base ', 'Stickmen Studios ', 'Team Salvato ', 'Toukana Interactive ', 'Un Je Ne Sais Quoi ', 'V1 Interactive '] will be ignored\n",
      "  \"unknown class(es) {0} will be ignored\".format(sorted(unknown, key=str))\n"
     ]
    },
    {
     "name": "stdout",
     "output_type": "stream",
     "text": [
      "Epoch 1/20\n",
      "212/212 [==============================] - 22s 100ms/step - loss: 11.2563 - mae: 1.8150 - val_loss: 5.1178 - val_mae: 1.1886\n",
      "Epoch 2/20\n",
      "212/212 [==============================] - 22s 102ms/step - loss: 5.2815 - mae: 1.1863 - val_loss: 4.5297 - val_mae: 0.9160\n",
      "Epoch 3/20\n",
      "212/212 [==============================] - 22s 104ms/step - loss: 3.9007 - mae: 1.0143 - val_loss: 3.9096 - val_mae: 0.8294\n",
      "Epoch 4/20\n",
      "212/212 [==============================] - 22s 105ms/step - loss: 3.4459 - mae: 0.9194 - val_loss: 3.8714 - val_mae: 0.9066\n",
      "Epoch 5/20\n",
      "212/212 [==============================] - 22s 106ms/step - loss: 3.5267 - mae: 0.9163 - val_loss: 3.8026 - val_mae: 0.8648\n",
      "Epoch 6/20\n",
      "212/212 [==============================] - 22s 103ms/step - loss: 3.0501 - mae: 0.8035 - val_loss: 3.3738 - val_mae: 0.8261\n",
      "Epoch 7/20\n",
      "212/212 [==============================] - 22s 103ms/step - loss: 2.3860 - mae: 0.7692 - val_loss: 3.3122 - val_mae: 0.8416\n",
      "Epoch 8/20\n",
      "212/212 [==============================] - 22s 104ms/step - loss: 2.6154 - mae: 0.7387 - val_loss: 3.0723 - val_mae: 0.8021\n",
      "Epoch 9/20\n",
      "212/212 [==============================] - 22s 106ms/step - loss: 2.3399 - mae: 0.7406 - val_loss: 3.0845 - val_mae: 0.8334\n",
      "Epoch 10/20\n",
      "212/212 [==============================] - 21s 102ms/step - loss: 1.9973 - mae: 0.6681 - val_loss: 3.1582 - val_mae: 0.8336\n",
      "Epoch 11/20\n",
      "212/212 [==============================] - 22s 103ms/step - loss: 1.9993 - mae: 0.6805 - val_loss: 3.4431 - val_mae: 0.9251\n",
      "Epoch 12/20\n",
      "212/212 [==============================] - 21s 101ms/step - loss: 2.2459 - mae: 0.6607 - val_loss: 3.3276 - val_mae: 0.8338\n",
      "Epoch 13/20\n",
      "212/212 [==============================] - 22s 105ms/step - loss: 1.7025 - mae: 0.6012 - val_loss: 3.0291 - val_mae: 0.8318\n",
      "Epoch 14/20\n",
      "212/212 [==============================] - 22s 104ms/step - loss: 1.5606 - mae: 0.5964 - val_loss: 3.0756 - val_mae: 0.8440\n",
      "Epoch 15/20\n",
      "212/212 [==============================] - 22s 105ms/step - loss: 1.6104 - mae: 0.5841 - val_loss: 3.2761 - val_mae: 0.8879\n",
      "Epoch 16/20\n",
      "212/212 [==============================] - 22s 106ms/step - loss: 1.7545 - mae: 0.6051 - val_loss: 3.5960 - val_mae: 0.8627\n",
      "Epoch 17/20\n",
      "212/212 [==============================] - 22s 105ms/step - loss: 2.4024 - mae: 0.6985 - val_loss: 3.5175 - val_mae: 0.9849\n",
      "Epoch 18/20\n",
      "212/212 [==============================] - 22s 104ms/step - loss: 1.9269 - mae: 0.6254 - val_loss: 3.4739 - val_mae: 0.9075\n",
      "Chunk 25/52 // 46.15% Complete // Cycle 1/3\n"
     ]
    },
    {
     "name": "stderr",
     "output_type": "stream",
     "text": [
      "y:\\ML\\Anaconda\\envs\\TF-GPU\\lib\\site-packages\\sklearn\\preprocessing\\_label.py:876: UserWarning: unknown class(es) [' A Jolly Corpse ', ' FunHouse ', ' Koei Tecmo Games ', ' Mobigame ', ' Rabbit & Bear Studios ', ' Red Winter Software ', '3D Realms ', '7 Studios ', 'Afterburner Studios ', 'Amaze Entertainment ', 'Artematica ', 'Bay 12 Games ', 'Bedlam Games ', 'Black Salt Games ', 'Buka Entertainment ', 'Byterunners Game Studio ', 'Critical Studio ', 'Ctrl Alt Ninja Ltd. ', 'Cube Roots ', 'Dancing Dragon games ', 'Digital Happiness ', 'Dimps Corporation ', 'Eastshade Studios ', 'Game Grumps ', 'Gaslamp Games ', 'Heuristic Park ', 'Hitbox  ', 'Holospark ', 'Honig Studios ', 'HyperSloth ', 'Instant Kingdom ', 'Midgar Studio ', 'Mike Studios ', 'Mindware Studios ', 'Misfits Attic ', 'NATSUME ATARI Inc.', 'New Blood Interactive ', 'Omega Force', 'Owlchemy Labs ', 'PD Design Studio Pte Ltd ', 'Paleo Entertainment ', 'Pixpil ', 'Plastic Reality ', 'Radon Labs ', 'Raspina Studio ', 'Red Thread Games ', 'Red Winter Software Limited', 'Reflections Interactive ', 'Runewaker Entertainment ', 'Snowbird Game Studios ', 'Soldak Entertainment ', 'Studio V ', 'Sunstorm Interactive ', 'T19 Games ', 'Tendershoot', 'TopWare Interactive ', 'Two Tribes', 'Ubisoft Montreal', 'Ultra Ultra ', 'Vicious Cycle ', 'Zuxxez '] will be ignored\n",
      "  \"unknown class(es) {0} will be ignored\".format(sorted(unknown, key=str))\n"
     ]
    },
    {
     "name": "stdout",
     "output_type": "stream",
     "text": [
      "Epoch 1/20\n",
      "232/232 [==============================] - 24s 100ms/step - loss: 28.5175 - mae: 3.2585 - val_loss: 24.2852 - val_mae: 3.9613\n",
      "Epoch 2/20\n",
      "232/232 [==============================] - 24s 102ms/step - loss: 15.8997 - mae: 2.3143 - val_loss: 23.2486 - val_mae: 3.7960\n",
      "Epoch 3/20\n",
      "232/232 [==============================] - 24s 103ms/step - loss: 13.5411 - mae: 2.0682 - val_loss: 23.1653 - val_mae: 3.7655\n",
      "Epoch 4/20\n",
      "232/232 [==============================] - 24s 103ms/step - loss: 10.6727 - mae: 1.8666 - val_loss: 22.4772 - val_mae: 3.7375\n",
      "Epoch 5/20\n",
      "232/232 [==============================] - 24s 102ms/step - loss: 9.2641 - mae: 1.6534 - val_loss: 25.6197 - val_mae: 4.0572\n",
      "Epoch 6/20\n",
      "232/232 [==============================] - 24s 102ms/step - loss: 8.3017 - mae: 1.5424 - val_loss: 23.9993 - val_mae: 3.8176\n",
      "Epoch 7/20\n",
      "232/232 [==============================] - 24s 106ms/step - loss: 8.0256 - mae: 1.5336 - val_loss: 25.7847 - val_mae: 3.9164\n",
      "Epoch 8/20\n",
      "232/232 [==============================] - 24s 102ms/step - loss: 7.5614 - mae: 1.4452 - val_loss: 25.1738 - val_mae: 3.9492\n",
      "Epoch 9/20\n",
      "232/232 [==============================] - 24s 105ms/step - loss: 7.6330 - mae: 1.4110 - val_loss: 24.7624 - val_mae: 3.8398\n",
      "Chunk 26/52 // 48.08% Complete // Cycle 1/3\n"
     ]
    },
    {
     "name": "stderr",
     "output_type": "stream",
     "text": [
      "y:\\ML\\Anaconda\\envs\\TF-GPU\\lib\\site-packages\\sklearn\\preprocessing\\_label.py:876: UserWarning: unknown class(es) ['Text'] will be ignored\n",
      "  \"unknown class(es) {0} will be ignored\".format(sorted(unknown, key=str))\n",
      "y:\\ML\\Anaconda\\envs\\TF-GPU\\lib\\site-packages\\sklearn\\preprocessing\\_label.py:876: UserWarning: unknown class(es) [' Alex May ', ' Endlessfluff Games ', ' Foreign Gnomes ', ' Humble Games', ' Live Wire ', ' MicroProse ', ' TimeGate Studios ', '1C:Ino-Co ', '4Head Studios ', 'Abrakam SA ', 'Atari', 'BreakAway Games ', 'Chaosmonger Studio ', 'Chris Nordgren', 'Codemasters Birmingham ', 'Coin Crew Games ', 'DESTINYbit ', 'Dark Crystal Games ', 'Digital Lode ', 'Elder Games ', 'Erik Svedang ', 'Exbleative ', 'Fallen Earth', 'Fallen Flag Studio ', 'Fireplace Games ', 'Fishing Cactus ', 'Gameyus Interactive ', 'Gentlymad ', 'Gust ', 'Heavy Iron Studios ', 'Herobeat Studios ', 'Humble Bundle', 'Idea Factory ', 'Image Space Incorporated ', 'Lead Pursuit ', 'Lexis Numerique ', 'Live Wire Films', 'Logic Artists ', 'Mad Orange ', 'MagicalTimeBean ', 'Mantra ', 'Matias Schmied ', 'Minor Key Games ', 'Monolith Productions', 'Nfusion ', 'Ocelot Society ', 'Pathea Games ', 'Popcannibal ', 'Queasy Games ', 'ROCKFISH Games ', 'Rage Software ', 'Razorworks ', 'Rudolf Kremers', 'Shiro Games ', 'Sixteen Tons Entertainment ', 'StarWraith ', 'Storm in a Teacup ', 'Stormfront Studios ', 'TIGAMES ', 'Tesseraction Games ', 'The Chinese Room ', 'Tindalos Interactive ', 'ValuSoft ', 'Video System ', 'White Paper Games ', 'Wube Software LTD. ', 'Zachtronics Industries ', 'i-illusions '] will be ignored\n",
      "  \"unknown class(es) {0} will be ignored\".format(sorted(unknown, key=str))\n"
     ]
    },
    {
     "name": "stdout",
     "output_type": "stream",
     "text": [
      "Epoch 1/20\n",
      "229/229 [==============================] - 23s 101ms/step - loss: 34.7249 - mae: 4.0932 - val_loss: 24.2078 - val_mae: 3.6833\n",
      "Epoch 2/20\n",
      "229/229 [==============================] - 23s 103ms/step - loss: 20.8789 - mae: 2.9944 - val_loss: 22.2421 - val_mae: 3.6115\n",
      "Epoch 3/20\n",
      "229/229 [==============================] - 23s 102ms/step - loss: 18.7939 - mae: 2.6881 - val_loss: 21.6504 - val_mae: 3.5086\n",
      "Epoch 4/20\n",
      "229/229 [==============================] - 23s 101ms/step - loss: 15.6172 - mae: 2.4122 - val_loss: 21.1296 - val_mae: 3.5204\n",
      "Epoch 5/20\n",
      "229/229 [==============================] - 24s 105ms/step - loss: 13.1572 - mae: 2.1537 - val_loss: 19.6238 - val_mae: 3.3442\n",
      "Epoch 6/20\n",
      "229/229 [==============================] - 24s 106ms/step - loss: 12.6978 - mae: 2.0869 - val_loss: 18.7882 - val_mae: 3.2528\n",
      "Epoch 7/20\n",
      "229/229 [==============================] - 24s 104ms/step - loss: 11.8291 - mae: 1.9785 - val_loss: 18.9351 - val_mae: 3.3110\n",
      "Epoch 8/20\n",
      "229/229 [==============================] - 24s 104ms/step - loss: 11.3221 - mae: 1.9318 - val_loss: 18.6434 - val_mae: 3.3072\n",
      "Epoch 9/20\n",
      "229/229 [==============================] - 24s 106ms/step - loss: 10.5269 - mae: 1.8130 - val_loss: 18.4993 - val_mae: 3.3248\n",
      "Epoch 10/20\n",
      "229/229 [==============================] - 24s 105ms/step - loss: 10.5405 - mae: 1.7700 - val_loss: 19.2185 - val_mae: 3.4578\n",
      "Epoch 11/20\n",
      "229/229 [==============================] - 24s 105ms/step - loss: 10.4278 - mae: 1.7478 - val_loss: 18.5605 - val_mae: 3.4125\n",
      "Epoch 12/20\n",
      "229/229 [==============================] - 24s 105ms/step - loss: 9.5387 - mae: 1.6703 - val_loss: 18.5753 - val_mae: 3.4240\n",
      "Epoch 13/20\n",
      "229/229 [==============================] - 24s 104ms/step - loss: 9.9062 - mae: 1.6895 - val_loss: 19.5097 - val_mae: 3.5141\n",
      "Epoch 14/20\n",
      "229/229 [==============================] - 24s 105ms/step - loss: 8.9570 - mae: 1.6001 - val_loss: 18.2389 - val_mae: 3.3804\n",
      "Epoch 15/20\n",
      "229/229 [==============================] - 24s 104ms/step - loss: 9.1598 - mae: 1.5957 - val_loss: 19.0783 - val_mae: 3.4656\n",
      "Epoch 16/20\n",
      "229/229 [==============================] - 24s 106ms/step - loss: 9.0613 - mae: 1.5677 - val_loss: 19.7156 - val_mae: 3.5378\n",
      "Epoch 17/20\n",
      "229/229 [==============================] - 24s 105ms/step - loss: 9.3338 - mae: 1.5967 - val_loss: 19.2860 - val_mae: 3.5294\n",
      "Epoch 18/20\n",
      "229/229 [==============================] - 24s 106ms/step - loss: 8.5984 - mae: 1.5360 - val_loss: 18.1137 - val_mae: 3.3739\n",
      "Epoch 19/20\n",
      "229/229 [==============================] - 24s 103ms/step - loss: 8.8350 - mae: 1.5467 - val_loss: 17.9248 - val_mae: 3.4000\n",
      "Epoch 20/20\n",
      "229/229 [==============================] - 24s 106ms/step - loss: 8.7279 - mae: 1.5046 - val_loss: 18.7137 - val_mae: 3.4194\n",
      "Chunk 27/52 // 50.0% Complete // Cycle 1/3\n"
     ]
    },
    {
     "name": "stderr",
     "output_type": "stream",
     "text": [
      "y:\\ML\\Anaconda\\envs\\TF-GPU\\lib\\site-packages\\sklearn\\preprocessing\\_label.py:876: UserWarning: unknown class(es) [' 1C:Ino-Co ', 'Owned by Gravity '] will be ignored\n",
      "  \"unknown class(es) {0} will be ignored\".format(sorted(unknown, key=str))\n"
     ]
    },
    {
     "name": "stdout",
     "output_type": "stream",
     "text": [
      "Epoch 1/20\n",
      "224/224 [==============================] - 23s 103ms/step - loss: 11.9393 - mae: 2.2772 - val_loss: 30.7445 - val_mae: 4.2489\n",
      "Epoch 2/20\n",
      "224/224 [==============================] - 23s 104ms/step - loss: 5.6562 - mae: 1.5844 - val_loss: 31.7672 - val_mae: 4.1263\n",
      "Epoch 3/20\n",
      "224/224 [==============================] - 23s 104ms/step - loss: 4.4378 - mae: 1.3538 - val_loss: 32.1262 - val_mae: 4.2316\n",
      "Epoch 4/20\n",
      "224/224 [==============================] - 24s 107ms/step - loss: 3.6420 - mae: 1.2243 - val_loss: 31.5768 - val_mae: 4.1599\n",
      "Epoch 5/20\n",
      "224/224 [==============================] - 24s 105ms/step - loss: 3.0490 - mae: 1.1262 - val_loss: 32.4347 - val_mae: 4.1592\n",
      "Epoch 6/20\n",
      "224/224 [==============================] - 23s 105ms/step - loss: 3.3713 - mae: 1.0859 - val_loss: 35.0757 - val_mae: 4.3845\n",
      "Chunk 28/52 // 51.92% Complete // Cycle 1/3\n"
     ]
    },
    {
     "name": "stderr",
     "output_type": "stream",
     "text": [
      "y:\\ML\\Anaconda\\envs\\TF-GPU\\lib\\site-packages\\sklearn\\preprocessing\\_label.py:876: UserWarning: unknown class(es) [' Ankama ', ' Black Drakkar Games ', ' Blitz Games ', ' Calappa Games ', ' Creative Business Unit III ', ' Cyan', ' EA Vancouver ', ' Gun Interactive ', ' Team 6 Games Studio ', '17-Bit ', '2By3 Games ', '6 Eyes Studio ', 'AGEOD ', 'Ankama Games', 'Anshar Studios ', 'Antab Studio ', 'Auran ', 'Awesome Games Studio ', 'Axel Fox ', 'Beard Envy ', 'Bedtime Digital Games ', 'BetaDwarf ', 'Bits & Beasts ', 'Bonus Level Entertainment ', 'Brain Candy ', 'Brendon Chung ', 'Bright Future GmbH ', 'Byte Barrel ', 'Campo Santo ', 'Cellar Door Games ', 'ChessBase ', 'Cyan Worlds', 'Dead Mage Studio ', 'EA Sports', 'Edge Case Games ', 'Fallen Leaf', 'Fishlabs ', 'Fort Triumph LTD ', 'Freebird Games ', 'Freedom LLC ', 'GalaxyTrail ', 'Gamepires ', 'Grace Bruxner ', 'Green Lava Studios ', 'Greenheart Games ', 'Ground Shatter Ltd. ', 'Harmonix Music Systems ', 'Hasbro Interactive', 'Hexagon Entertainment ', 'HopFrog ', 'Hothouse Creations ', 'IllFonic', 'IronOak Games ', 'JC Entertainment ', 'Kaos Studios ', 'Kong Orange ', 'Lukas Navratil ', 'MediaMobsters ', 'Mode 7 Games ', 'Mopeful Games ', 'Mutant Games ', 'Nemesys ', 'Nussoft', 'Object ', 'Okomotive ', 'Paranoid Interactive ', 'Perfect World Entertainment ', 'Phil Hassey ', 'Phosfiend Systems ', 'Pinkerton Road Studio ', 'Proper Games ', 'Pulsatrix Studios ', 'R8 Games ', 'Razorworks ', 'Red 5 Studios ', 'Red Redemption ', 'Sassybot ', 'Scott Cawthon ', 'Sierra Entertainment ', 'Spaces of Play ', 'Sports Mogul ', 'Stormfront Studios ', 'Sushee ', 'Team2Bit ', 'Team6 Game Studios', 'Throughline Games ', 'Tri Synergy ', 'Tribute Games ', 'Vile Monarch ', 'Whole Hog Games ', 'WideScreen Games ', 'WildTangent ', 'Zoink! ', 'animdude '] will be ignored\n",
      "  \"unknown class(es) {0} will be ignored\".format(sorted(unknown, key=str))\n"
     ]
    },
    {
     "name": "stdout",
     "output_type": "stream",
     "text": [
      "Epoch 1/20\n",
      "225/225 [==============================] - 23s 101ms/step - loss: 30.6332 - mae: 3.7253 - val_loss: 23.9556 - val_mae: 3.4519\n",
      "Epoch 2/20\n",
      "225/225 [==============================] - 24s 105ms/step - loss: 14.4798 - mae: 2.5015 - val_loss: 23.1798 - val_mae: 3.3573\n",
      "Epoch 3/20\n",
      "225/225 [==============================] - 23s 104ms/step - loss: 12.6592 - mae: 2.2557 - val_loss: 21.7977 - val_mae: 3.2741\n",
      "Epoch 4/20\n",
      "225/225 [==============================] - 24s 106ms/step - loss: 11.4816 - mae: 2.1322 - val_loss: 21.9393 - val_mae: 3.2489\n",
      "Epoch 5/20\n",
      "225/225 [==============================] - 23s 102ms/step - loss: 10.0085 - mae: 2.0064 - val_loss: 20.6226 - val_mae: 3.1524\n",
      "Epoch 6/20\n",
      "225/225 [==============================] - 24s 105ms/step - loss: 8.9419 - mae: 1.9077 - val_loss: 23.2854 - val_mae: 3.3337\n",
      "Epoch 7/20\n",
      "225/225 [==============================] - 24s 105ms/step - loss: 8.6766 - mae: 1.8283 - val_loss: 22.6033 - val_mae: 3.2550\n",
      "Epoch 8/20\n",
      "225/225 [==============================] - 24s 105ms/step - loss: 7.5789 - mae: 1.7152 - val_loss: 22.4959 - val_mae: 3.3156\n",
      "Epoch 9/20\n",
      "225/225 [==============================] - 24s 107ms/step - loss: 7.5195 - mae: 1.6987 - val_loss: 19.9219 - val_mae: 3.1642\n",
      "Epoch 10/20\n",
      "225/225 [==============================] - 23s 102ms/step - loss: 6.9666 - mae: 1.6535 - val_loss: 22.1193 - val_mae: 3.1730\n",
      "Epoch 11/20\n",
      "225/225 [==============================] - 23s 102ms/step - loss: 6.9339 - mae: 1.6274 - val_loss: 20.2204 - val_mae: 3.1687\n",
      "Epoch 12/20\n",
      "225/225 [==============================] - 24s 105ms/step - loss: 7.0129 - mae: 1.6027 - val_loss: 20.6502 - val_mae: 3.1462\n",
      "Epoch 13/20\n",
      "225/225 [==============================] - 23s 103ms/step - loss: 6.7047 - mae: 1.5755 - val_loss: 20.9209 - val_mae: 3.1571\n",
      "Epoch 14/20\n",
      "225/225 [==============================] - 23s 104ms/step - loss: 6.5669 - mae: 1.5652 - val_loss: 20.5075 - val_mae: 3.0393\n",
      "Chunk 29/52 // 53.85% Complete // Cycle 1/3\n"
     ]
    },
    {
     "name": "stderr",
     "output_type": "stream",
     "text": [
      "y:\\ML\\Anaconda\\envs\\TF-GPU\\lib\\site-packages\\sklearn\\preprocessing\\_label.py:876: UserWarning: unknown class(es) [' Acclaim Studios Manchester ', ' Atari ', ' Atari SA ', ' Buried Signal ', ' Grove Street Games ', ' Joshua Nuernberger ', ' LLC', ' Marvelous First Studio ', ' MicroProse', ' Mixed Realms ', ' Phosphor Games ', ' SeithCG ', ' Splash Damage', '4D Rulers ', '@unepic_fran ', 'Acclaim', 'AggroCrab ', 'Astro Port ', 'Atari', 'Atelier Mimina ', 'Bandai Namco Games', 'Barking Dog ', 'Behavior Studios ', 'Camel 101 ', 'Cat Daddy Games ', 'Chronic Logic ', 'Clever Beans ', 'Coffee Stain North ', 'Covenant.dev ', 'Cypron Studios ', 'Demagog Studio ', 'Devolver Digital ', 'Doinksoft ', 'Feral Cat Den ', 'Fishcow Studio ', 'Flaming Fowl Studios ', 'Free Lives ', 'Gamepires ', 'Gaming Minds Studios ', 'Ghost of a Tale', 'Hasbro Interactive', 'Heatwave Interactive ', 'IllFonic ', 'Jason Roberts', 'Lucid Games ', 'Metamorf Studios ', 'Mixed Realms Pte Ltd', 'Motiga ', 'Old Moon ', 'Old School Games ', 'Phosphor Games Studio', 'Planet Moon Studios ', 'PortaPlay ', 'Radiation Blue ', 'Sick Puppies ', 'Silver Style ', 'Smudged Cat Games ', 'Stuck In Attic ', 'Sushee ', 'The Fullbright Company ', 'Trine Games ', 'Wadjet Eye Games', 'Warner Bros. Interactive Entertainment ', 'Whalebox Studio '] will be ignored\n",
      "  \"unknown class(es) {0} will be ignored\".format(sorted(unknown, key=str))\n"
     ]
    },
    {
     "name": "stdout",
     "output_type": "stream",
     "text": [
      "Epoch 1/20\n",
      "210/210 [==============================] - 21s 97ms/step - loss: 36.2109 - mae: 4.0613 - val_loss: 33.2583 - val_mae: 4.4705\n",
      "Epoch 2/20\n",
      "210/210 [==============================] - 21s 101ms/step - loss: 17.2227 - mae: 2.6602 - val_loss: 32.2733 - val_mae: 4.5100\n",
      "Epoch 3/20\n",
      "210/210 [==============================] - 21s 101ms/step - loss: 13.6552 - mae: 2.3127 - val_loss: 31.1071 - val_mae: 4.4678\n",
      "Epoch 4/20\n",
      "210/210 [==============================] - 21s 102ms/step - loss: 12.9689 - mae: 2.1568 - val_loss: 31.6575 - val_mae: 4.4814\n",
      "Epoch 5/20\n",
      "210/210 [==============================] - 22s 103ms/step - loss: 11.3987 - mae: 1.9900 - val_loss: 31.0917 - val_mae: 4.4238\n",
      "Epoch 6/20\n",
      "210/210 [==============================] - 21s 100ms/step - loss: 10.8979 - mae: 1.8780 - val_loss: 31.3235 - val_mae: 4.4497\n",
      "Epoch 7/20\n",
      "210/210 [==============================] - 22s 105ms/step - loss: 10.9329 - mae: 1.8270 - val_loss: 32.2584 - val_mae: 4.4996\n",
      "Epoch 8/20\n",
      "210/210 [==============================] - 22s 105ms/step - loss: 11.3251 - mae: 1.8167 - val_loss: 33.4876 - val_mae: 4.6299\n",
      "Epoch 9/20\n",
      "210/210 [==============================] - 21s 102ms/step - loss: 10.5988 - mae: 1.7448 - val_loss: 33.8766 - val_mae: 4.6663\n",
      "Epoch 10/20\n",
      "210/210 [==============================] - 21s 102ms/step - loss: 8.4575 - mae: 1.5710 - val_loss: 31.4710 - val_mae: 4.4617\n",
      "Chunk 30/52 // 55.77% Complete // Cycle 1/3\n"
     ]
    },
    {
     "name": "stderr",
     "output_type": "stream",
     "text": [
      "y:\\ML\\Anaconda\\envs\\TF-GPU\\lib\\site-packages\\sklearn\\preprocessing\\_label.py:876: UserWarning: unknown class(es) [' Clover Bite ', ' Grove Street Games ', ' GungHo', ' Navegante Entertainment ', ' PopCap ', ' SkyBox Labs ', '10 Chambers Collective ', 'Bromio', 'Caged Element Inc. ', 'Claeys Brothers Arts ', 'Crate Entertainment ', 'Crazy Monkey Studios ', 'Creepy Jar ', 'Cyber Rhino Studios ', 'Daybreak Games ', 'DrinkBox Studios ', 'Funnel Entertainment', 'Gambrinous ', 'Game Arts', 'Game Arts ', 'IGGYMOB ', 'Interactive Stone ', 'Ivy Games LLC ', 'Johnny Dale Lonack ', 'Lazy Bear Games ', 'Massive Damage', 'Muse Games ', 'Neversoft Entertainment', 'Orann ', 'Positech Games ', 'Prideful Sloth ', 'Rebelmind ', 'Rewolf Software ', 'Silent Dreams ', 'TALEROCK ', 'Tom Francis ', 'W!Games ', 'Wizarbox ', 'WorldForge ', 'Yukitama Creative Industries '] will be ignored\n",
      "  \"unknown class(es) {0} will be ignored\".format(sorted(unknown, key=str))\n"
     ]
    },
    {
     "name": "stdout",
     "output_type": "stream",
     "text": [
      "Epoch 1/20\n",
      "221/221 [==============================] - 22s 100ms/step - loss: 13.7385 - mae: 2.5208 - val_loss: 24.7661 - val_mae: 3.7897\n",
      "Epoch 2/20\n",
      "221/221 [==============================] - 23s 102ms/step - loss: 7.4114 - mae: 1.7666 - val_loss: 25.9700 - val_mae: 3.9950\n",
      "Epoch 3/20\n",
      "221/221 [==============================] - 23s 104ms/step - loss: 6.1698 - mae: 1.5958 - val_loss: 26.2123 - val_mae: 4.0368\n",
      "Epoch 4/20\n",
      "221/221 [==============================] - 23s 104ms/step - loss: 5.7867 - mae: 1.5108 - val_loss: 24.9008 - val_mae: 3.8133\n",
      "Epoch 5/20\n",
      "221/221 [==============================] - 23s 103ms/step - loss: 5.0703 - mae: 1.4182 - val_loss: 25.2988 - val_mae: 3.9002\n",
      "Epoch 6/20\n",
      "221/221 [==============================] - 23s 105ms/step - loss: 4.4946 - mae: 1.3452 - val_loss: 24.8875 - val_mae: 3.8655\n",
      "Chunk 31/52 // 57.69% Complete // Cycle 1/3\n"
     ]
    },
    {
     "name": "stderr",
     "output_type": "stream",
     "text": [
      "y:\\ML\\Anaconda\\envs\\TF-GPU\\lib\\site-packages\\sklearn\\preprocessing\\_label.py:876: UserWarning: unknown class(es) [' 343 Industries ', ' Atari SA ', ' Cognosphere ', \" DON'T NOD \", ' Eerie Guest ', ' Hex Entertainment ', ' Ice Cold Games ', ' Novik & Co ', ' Psyop ', ' Targem Games ', ' Transmission Games', ' Vanguard Games ', ' Virtuos ', '343 Industries', '3D People ', 'Amanita Design ', 'Aquiris Game Studio ', 'Arclight Creations ', 'Arkedo Studio ', 'Atari', 'Barking Dog ', 'Benjamin \"ThingOnItsOwn\" Hauer ', 'Benjamin Rivers ', 'Big Sandwich Games', 'Black Matter ', 'Brain Slap Studio ', 'Buka Entertainment', 'Burut Software ', 'Cat Rabbit ', 'Choice Provisions ', 'Cradle Games ', 'CreativeForge Games ', 'Cryptozoic Entertainment', 'DONTNOD Entertainment', 'Defiant Development ', 'DigiFX Interactive ', 'E-One Studio ', 'EA Bright Light ', 'GFI Russia ', 'Hato Moa ', 'IR Gurus ', 'Ice Code Games', 'Joel Mcdonald ', 'Lucky Pause ', 'Magic Design Studios ', 'Moon Spider Studio ', 'Mosaic Mask ', 'New World Computing ', 'Nival Interactive', 'Paul Helman ', 'Psyop Games', 'Quantic Dream', 'Red Zero Games ', 'Robotality ', 'Saibot Studios ', 'Sam Barlow ', 'Sega AM2 ', 'Silverback Entertainment ', 'Skrollcat Studios ', 'Sluggerfly ', 'Soft Enterprises ', 'Square Enix Montreal ', 'Straandlooper ', 'Sumo Newcastle ', 'Terri Vellimann ', 'Tom Francis ', 'Vanguard', 'Warpzone Studios ', 'inkle ', 'miHoYo', 'tinyBuild'] will be ignored\n",
      "  \"unknown class(es) {0} will be ignored\".format(sorted(unknown, key=str))\n"
     ]
    },
    {
     "name": "stdout",
     "output_type": "stream",
     "text": [
      "Epoch 1/20\n",
      "216/216 [==============================] - 22s 100ms/step - loss: 34.0748 - mae: 3.8100 - val_loss: 20.1077 - val_mae: 3.1303\n",
      "Epoch 2/20\n",
      "216/216 [==============================] - 22s 104ms/step - loss: 15.1673 - mae: 2.5094 - val_loss: 18.9270 - val_mae: 3.0572\n",
      "Epoch 3/20\n",
      "216/216 [==============================] - 22s 103ms/step - loss: 13.3896 - mae: 2.2594 - val_loss: 20.0358 - val_mae: 3.0650\n",
      "Epoch 4/20\n",
      "216/216 [==============================] - 22s 103ms/step - loss: 12.3246 - mae: 2.1374 - val_loss: 20.7189 - val_mae: 3.1594\n",
      "Epoch 5/20\n",
      "216/216 [==============================] - 22s 101ms/step - loss: 9.9550 - mae: 1.9381 - val_loss: 20.1977 - val_mae: 3.1896\n",
      "Epoch 6/20\n",
      "216/216 [==============================] - 22s 102ms/step - loss: 10.8903 - mae: 1.9049 - val_loss: 21.4241 - val_mae: 3.1571\n",
      "Epoch 7/20\n",
      "216/216 [==============================] - 22s 102ms/step - loss: 10.1998 - mae: 1.8117 - val_loss: 21.1122 - val_mae: 3.2170\n",
      "Chunk 32/52 // 59.62% Complete // Cycle 1/3\n"
     ]
    },
    {
     "name": "stderr",
     "output_type": "stream",
     "text": [
      "y:\\ML\\Anaconda\\envs\\TF-GPU\\lib\\site-packages\\sklearn\\preprocessing\\_label.py:876: UserWarning: unknown class(es) [' 1C-Entertainment ', ' Beamdog', ' Bloom Technology ', ' Blueside ', ' Crema Games ', ' Davit Andreasyan ', ' Easy Trigger Games ', ' Katuri Interactive ', ' Konjak ', ' Ltd. ', ' M2H & BlackMill Games ', ' Most Wanted Entertainment ', ' Overhaul Games ', ' Pine Scented Software ', ' PixelHive ', ' Spike Chunsoft ', ' Squad ', ' Voidpoint', '1C Entertainment', '1C-Softclub ', '3D Realms', '4X Studios ', 'Action Squad Studios ', 'Appaloosa Interactive ', 'Artifact Entertainment ', 'Artifex Mundi ', 'Artificial Mind and Movement ', 'Ascendant Studios ', 'Askiisoft ', 'Berzerk Studio ', 'Big Red Software ', 'Black Isle Studios', 'Bleakmill ', 'Blue Tongue Entertainment ', 'Blyts ', 'Bossa Studios ', 'Brawsome ', 'Bulwark Studios ', \"ByteRockers' Games \", 'Cardboard Box Entertainment ', 'Cardboard Computer ', 'Casey Donnellan Games LLC ', 'ChaosForge ', 'Clifftop Games ', 'Coffee Stain Studios', 'Conifer Games ', 'CremaGames', 'Critique Gaming ', 'Daniel Mullins Games ', 'Dark Energy Digital ', 'Digital Arrow ', 'Dirigo Games ', 'Dreadbit ', 'EKO Software ', 'Empyrean ', 'Fiddlesticks Games ', 'Final Form Games', 'Foolish Mortals Games ', 'Forge Reply ', 'Freebird Games ', 'Fugitive Games ', 'Fuzzyeyes Studio ', 'Galilea Multimedia ', 'Grasshopper Manufacture ', 'Grimbart Tales ', 'HD Interactive', 'HandyGames ', 'Happy Ray Games ', 'Hidden Layer Games ', 'Hollow Ponds and Richard Hogg ', 'IMGN.PRO ', 'Iceberg Interactive', 'In Utero ', 'Innerloop ', 'Joakim Sandberg', 'Juice Games ', 'Jump Over The Age ', 'Kaiko ', 'Katauri Interactive', 'Koboldgames ', 'Kyle Thompson ', 'L3O Interactive ', 'Lab Zero Games ', 'Lion Shield', 'Lo-Fi Games ', 'Lucky Mountain Games ', 'M2H', 'MONKEYCRAFT Co. Ltd. ', 'Metropolis Software ', 'Micro Application ', 'Mission Studios ', 'Mojo Bones ', 'Moonlight Games ', 'NExT Studios ', 'Namco ', 'Necrophone ', 'Nemesys ', 'No Brakes Games ', 'Northway Games ', 'Nullpointer Games ', 'Palindrome Interactive ', 'Particle Systems ', 'Phantagram', 'PolyKnight Games ', 'Primal Software ', 'QLOC ', 'Rage Software ', 'Rocket Bear Games ', 'SQUADTeam', 'Sam Barlow ', 'Shanghai FantaBlade Network Technology Co.', 'Sir-Tech Software Inc. ', 'So Romantic ', 'Somnium Games d.o.o. ', 'Spike Chunsoft Co. Ltd.', 'Squad ', 'Studio Pixel ', 'SumomGames ', 'Superbrothers', 'Tate Multimedia ', 'Telepaths Tree ', 'Tendershoot ', 'The Odd Gentlemen ', 'Tokyo RPG Factory ', 'Tomorrow Corporation ', 'TreeFortress Games ', 'True Axis ', 'Typhoon Studios ', 'UndeadScout ', 'Unfrozen ', 'Vox Game Studio', 'We Create Stuff ', 'Wicked Studios ', 'X1 Software ', 'Zachtronics Industries ', 'dreamfeel '] will be ignored\n",
      "  \"unknown class(es) {0} will be ignored\".format(sorted(unknown, key=str))\n"
     ]
    },
    {
     "name": "stdout",
     "output_type": "stream",
     "text": [
      "Epoch 1/20\n",
      "225/225 [==============================] - 23s 99ms/step - loss: 36.9336 - mae: 4.0628 - val_loss: 63.0580 - val_mae: 5.6249\n",
      "Epoch 2/20\n",
      "225/225 [==============================] - 23s 104ms/step - loss: 20.3105 - mae: 2.8912 - val_loss: 56.3120 - val_mae: 5.3808\n",
      "Epoch 3/20\n",
      "225/225 [==============================] - 23s 104ms/step - loss: 16.1967 - mae: 2.5474 - val_loss: 58.6155 - val_mae: 5.4093\n",
      "Epoch 4/20\n",
      "225/225 [==============================] - 23s 104ms/step - loss: 14.3224 - mae: 2.3088 - val_loss: 63.5447 - val_mae: 5.5990\n",
      "Epoch 5/20\n",
      "225/225 [==============================] - 24s 107ms/step - loss: 12.2628 - mae: 2.1410 - val_loss: 63.8703 - val_mae: 5.6551\n",
      "Epoch 6/20\n",
      "225/225 [==============================] - 23s 104ms/step - loss: 11.3550 - mae: 2.0068 - val_loss: 65.6537 - val_mae: 5.7912\n",
      "Epoch 7/20\n",
      "225/225 [==============================] - 23s 102ms/step - loss: 11.4504 - mae: 1.9937 - val_loss: 68.2773 - val_mae: 5.8694\n",
      "Chunk 33/52 // 61.54% Complete // Cycle 1/3\n"
     ]
    },
    {
     "name": "stderr",
     "output_type": "stream",
     "text": [
      "y:\\ML\\Anaconda\\envs\\TF-GPU\\lib\\site-packages\\sklearn\\preprocessing\\_label.py:876: UserWarning: unknown class(es) ['Text'] will be ignored\n",
      "  \"unknown class(es) {0} will be ignored\".format(sorted(unknown, key=str))\n",
      "y:\\ML\\Anaconda\\envs\\TF-GPU\\lib\\site-packages\\sklearn\\preprocessing\\_label.py:876: UserWarning: unknown class(es) [' Black Sea Games ', ' Boss Key Productions ', ' Deck Nine Games ', ' Infogrames', ' Jujubee S.A. ', ' Kaiko ', ' MONKEYCRAFT Co. Ltd. ', ' Melbourne House ', ' Movie Games ', ' Novacore Studios ', ' Slitherine Group ', ' Team Reptile ', ' UNKNOWN GAMES ', ' Xaviant ', 'Activision ', 'Almost Human ', 'Altari Games ', 'Amanita Design ', 'Animation Arts ', 'Asteroid Base ', 'Atari', 'Aterdux Entertainment ', 'BLOODIOUS GAMES ', 'Bandai Namco Games', 'Behold Studios ', 'Bishop Games ', 'Bitbox Ltd. ', 'Black Sea Studios', 'Black Sea Studios ', 'Boss Key', 'BudCat ', 'Cauldron Ltd. ', 'Clever-Plays ', 'ClockStone Studio ', 'Codo Games ', 'Core Design Ltd. ', 'CrazyBunch ', 'DONTNOD Entertainment', 'Dingaling ', 'Duckbridge ', 'Elastic Games ', 'Evan Todd ', 'Foam Sword ', 'Four Quarters ', 'Gamious ', 'Geeta Games ', 'Geniaware ', 'Goblinz Studio ', 'Grundislav Games ', 'HappyJuice Games ', 'Hollow Ponds ', 'Ice-Pick Lodge ', 'Impressions Games ', 'Infinite Monkeys ', 'Jujubee', 'Just A Pixel ', 'KDV Games ', 'Kuma Reality Games ', 'Kyy Games ', 'Lantern Studio ', 'Left Behind Games ', 'Lichthund ', 'Light Brick ', 'Love Conquers All Games ', 'M2', 'Master Creating ', 'Mirage Game Studios ', 'Modern Dream ', 'Mooneye Studios ', 'Movie Games ', 'Movie Games S.A.', 'Neon Studios', 'NetDevil ', 'Nfusion ', 'Nigoro ', 'Numantian Games ', 'Ocean Drive Studio ', 'Ovosonico ', 'Parabole ', 'Pieces Interactive ', 'Playful Corp. ', 'Pollux Gamelabs ', 'Rapid Eye Entertainment ', 'Ratbag ', 'Ratloop Games Canada ', 'Razbor Studios ', 'Ready at Dawn ', 'Reflexive Entertainment ', 'Replay Games ', 'Reptile', 'Robot Loves Kitty ', 'SEMISOFT ', 'Shiver Games ', 'Silverback Studios ', 'Size Five Games ', 'Sketchbook Games ', 'Skyhook Games ', 'Slitherine', 'Slitherine ', 'Stage 2 Studios ', 'State of Play Games ', 'Tangrin ', 'The Chinese Room ', 'Third Law Interactive ', 'Thomas van den Berg ', 'Tokyo RPG Factory ', 'Tomorrow Corporation ', 'Triple Eh? Ltd ', 'Triplevision Games ', 'Tunnel Vision Games ', 'TurtleBlaze ', 'Variable State ', 'Velan Studios ', 'Visual Concepts ', 'Vlambeer ', 'Wild Factor ', 'Xaviant Games', 'Yakov Butuzoff ', 'Zoink! ', 'eBrain Studio ', 'straka.studio ', 'superflat games '] will be ignored\n",
      "  \"unknown class(es) {0} will be ignored\".format(sorted(unknown, key=str))\n"
     ]
    },
    {
     "name": "stdout",
     "output_type": "stream",
     "text": [
      "Epoch 1/20\n",
      "220/220 [==============================] - 22s 98ms/step - loss: 32.9506 - mae: 3.6824 - val_loss: 26.8696 - val_mae: 3.5824\n",
      "Epoch 2/20\n",
      "220/220 [==============================] - 22s 100ms/step - loss: 21.2816 - mae: 2.8083 - val_loss: 23.9101 - val_mae: 3.2996\n",
      "Epoch 3/20\n",
      "220/220 [==============================] - 23s 103ms/step - loss: 17.3394 - mae: 2.4408 - val_loss: 23.8253 - val_mae: 3.4212\n",
      "Epoch 4/20\n",
      "220/220 [==============================] - 23s 103ms/step - loss: 15.4008 - mae: 2.2795 - val_loss: 21.1802 - val_mae: 3.2778\n",
      "Epoch 5/20\n",
      "220/220 [==============================] - 22s 101ms/step - loss: 14.1167 - mae: 2.1610 - val_loss: 21.1266 - val_mae: 3.2489\n",
      "Epoch 6/20\n",
      "220/220 [==============================] - 22s 102ms/step - loss: 12.9069 - mae: 2.0289 - val_loss: 19.8605 - val_mae: 3.1673\n",
      "Epoch 7/20\n",
      "220/220 [==============================] - 23s 103ms/step - loss: 12.1091 - mae: 1.9396 - val_loss: 19.4815 - val_mae: 3.1933\n",
      "Epoch 8/20\n",
      "220/220 [==============================] - 23s 103ms/step - loss: 11.7015 - mae: 1.8638 - val_loss: 19.7455 - val_mae: 3.1456\n",
      "Epoch 9/20\n",
      "220/220 [==============================] - 23s 102ms/step - loss: 11.6111 - mae: 1.8487 - val_loss: 19.9252 - val_mae: 3.1966\n",
      "Epoch 10/20\n",
      "220/220 [==============================] - 23s 103ms/step - loss: 10.8523 - mae: 1.7724 - val_loss: 19.7954 - val_mae: 3.2330\n",
      "Epoch 11/20\n",
      "220/220 [==============================] - 22s 101ms/step - loss: 10.4807 - mae: 1.7226 - val_loss: 19.0672 - val_mae: 3.0788\n",
      "Epoch 12/20\n",
      "220/220 [==============================] - 23s 103ms/step - loss: 9.4696 - mae: 1.6603 - val_loss: 17.9351 - val_mae: 3.0192\n",
      "Epoch 13/20\n",
      "220/220 [==============================] - 23s 103ms/step - loss: 10.1144 - mae: 1.6814 - val_loss: 19.1605 - val_mae: 3.1544\n",
      "Epoch 14/20\n",
      "220/220 [==============================] - 23s 104ms/step - loss: 9.2073 - mae: 1.6084 - val_loss: 19.5154 - val_mae: 3.1980\n",
      "Epoch 15/20\n",
      "220/220 [==============================] - 22s 100ms/step - loss: 9.8220 - mae: 1.6586 - val_loss: 19.4919 - val_mae: 3.2128\n",
      "Epoch 16/20\n",
      "220/220 [==============================] - 22s 101ms/step - loss: 9.1351 - mae: 1.5948 - val_loss: 18.2097 - val_mae: 3.0672\n",
      "Epoch 17/20\n",
      "220/220 [==============================] - 22s 100ms/step - loss: 8.7947 - mae: 1.5655 - val_loss: 18.6583 - val_mae: 3.1174\n",
      "Chunk 34/52 // 63.46% Complete // Cycle 1/3\n"
     ]
    },
    {
     "name": "stderr",
     "output_type": "stream",
     "text": [
      "y:\\ML\\Anaconda\\envs\\TF-GPU\\lib\\site-packages\\sklearn\\preprocessing\\_label.py:876: UserWarning: unknown class(es) [' Ino-Co', 'Anim-X ', 'Borealys Games ', 'Charybdis ', 'Cyberlore Studios ', 'FASA Studio ', 'Finish Line Games ', 'GameSourceStudio ', 'Gazillion ', 'Graceful Decay ', 'Guru Games ', 'Himalaya Studios ', 'Holistic Design', 'InterServ International ', 'LKA ', 'Leaping Lizard Software Inc. ', 'Locomalito ', 'MuHa Games ', 'Muzzy Lane Software ', 'NGD Studios ', 'Oldblood ', 'Paradox North ', 'Passtech Games ', 'Pieces Interactive ', 'Piranha Games ', 'Press Play ', 'Quicksilver Software ', 'Sanzaru Games ', 'Secret Level ', 'Sileni Studios ', 'SimTex ', 'Wales Interactive ', 'William Chyr Studio LLC ', 'Wizards of the Coast '] will be ignored\n",
      "  \"unknown class(es) {0} will be ignored\".format(sorted(unknown, key=str))\n"
     ]
    },
    {
     "name": "stdout",
     "output_type": "stream",
     "text": [
      "Epoch 1/20\n",
      "227/227 [==============================] - 23s 99ms/step - loss: 30.7530 - mae: 3.6126 - val_loss: 18.2053 - val_mae: 3.2496\n",
      "Epoch 2/20\n",
      "227/227 [==============================] - 24s 104ms/step - loss: 17.4162 - mae: 2.3827 - val_loss: 17.1390 - val_mae: 3.1483\n",
      "Epoch 3/20\n",
      "227/227 [==============================] - 24s 104ms/step - loss: 16.3058 - mae: 2.1550 - val_loss: 15.1810 - val_mae: 3.0348\n",
      "Epoch 4/20\n",
      "227/227 [==============================] - 24s 105ms/step - loss: 14.4949 - mae: 2.0073 - val_loss: 14.7972 - val_mae: 3.1063\n",
      "Epoch 5/20\n",
      "227/227 [==============================] - 23s 102ms/step - loss: 13.3278 - mae: 1.8598 - val_loss: 14.0803 - val_mae: 3.0380\n",
      "Epoch 6/20\n",
      "227/227 [==============================] - 23s 100ms/step - loss: 12.4376 - mae: 1.7655 - val_loss: 13.2749 - val_mae: 2.9826\n",
      "Epoch 7/20\n",
      "227/227 [==============================] - 23s 99ms/step - loss: 12.2001 - mae: 1.7238 - val_loss: 12.4963 - val_mae: 2.9185\n",
      "Epoch 8/20\n",
      "227/227 [==============================] - 23s 101ms/step - loss: 12.5311 - mae: 1.7006 - val_loss: 12.7676 - val_mae: 2.9235\n",
      "Epoch 9/20\n",
      "227/227 [==============================] - 23s 101ms/step - loss: 11.2661 - mae: 1.5923 - val_loss: 12.9066 - val_mae: 2.9788\n",
      "Epoch 10/20\n",
      "227/227 [==============================] - 24s 104ms/step - loss: 11.3687 - mae: 1.5742 - val_loss: 11.9485 - val_mae: 2.8282\n",
      "Epoch 11/20\n",
      "227/227 [==============================] - 24s 105ms/step - loss: 11.6379 - mae: 1.5694 - val_loss: 13.2462 - val_mae: 2.9813\n",
      "Epoch 12/20\n",
      "227/227 [==============================] - 23s 101ms/step - loss: 10.8033 - mae: 1.4749 - val_loss: 13.5480 - val_mae: 3.0977\n",
      "Epoch 13/20\n",
      "227/227 [==============================] - 24s 104ms/step - loss: 11.3083 - mae: 1.4944 - val_loss: 12.7653 - val_mae: 3.0106\n",
      "Epoch 14/20\n",
      "227/227 [==============================] - 23s 100ms/step - loss: 10.0649 - mae: 1.3750 - val_loss: 12.6285 - val_mae: 3.0120\n",
      "Epoch 15/20\n",
      "227/227 [==============================] - 23s 102ms/step - loss: 10.3078 - mae: 1.3648 - val_loss: 12.3169 - val_mae: 2.9772\n",
      "Chunk 35/52 // 65.38% Complete // Cycle 1/3\n"
     ]
    },
    {
     "name": "stderr",
     "output_type": "stream",
     "text": [
      "y:\\ML\\Anaconda\\envs\\TF-GPU\\lib\\site-packages\\sklearn\\preprocessing\\_label.py:876: UserWarning: unknown class(es) [' 1C', ' Bullets ', ' Centauri Production ', ' Dreamworks Games ', ' Eyeguys ', ' French-Bread ', ' General Arcade ', ' Ministry of Broadcast Studios ', ' Now Production', ' Rockstar San Diego ', ' Studio Fizbin ', ' Team Reptile ', ' Tribute Games Inc. ', '1C-Softclub ', 'Angel Studios', 'Bit Byterz ', 'Blastmode ', 'Bombservice ', 'Carlos Coronado ', 'Cinemax', 'Devolver Digital ', 'Digital Dialect ', 'Digital Eclipse ', 'Dinosaur Polo Club ', 'EA LA', 'Ecole', 'Fizbin', 'From Software', 'Half Asleep ', 'Homeless Unicorn', 'Inti Creates ', 'IonFX ', 'Jacob Dzwinel ', 'KCEJ ', 'Keen Software House ', 'Kuju Entertainment ', 'Lorenzo Redaelli', 'Piranha Games ', 'Red Rocket Games ', 'Render Cube ', 'Reptile', 'Rockstar San Diego ', 'Saturn+ ', 'Supersonic Software ', 'THQ', 'TKO Software ', 'The Outsiders ', 'Tribute Games', 'Twice Circled ', 'Virtuos ', 'Zono Inc. '] will be ignored\n",
      "  \"unknown class(es) {0} will be ignored\".format(sorted(unknown, key=str))\n"
     ]
    },
    {
     "name": "stdout",
     "output_type": "stream",
     "text": [
      "Epoch 1/20\n",
      "210/210 [==============================] - 21s 96ms/step - loss: 23.3054 - mae: 3.3439 - val_loss: 17.5568 - val_mae: 3.0349\n",
      "Epoch 2/20\n",
      "210/210 [==============================] - 21s 99ms/step - loss: 11.1852 - mae: 2.1745 - val_loss: 16.2713 - val_mae: 2.9295\n",
      "Epoch 3/20\n",
      "210/210 [==============================] - 21s 102ms/step - loss: 8.5398 - mae: 1.8553 - val_loss: 17.7510 - val_mae: 3.0900\n",
      "Epoch 4/20\n",
      "210/210 [==============================] - 22s 103ms/step - loss: 8.0407 - mae: 1.7037 - val_loss: 17.1718 - val_mae: 3.1983\n",
      "Epoch 5/20\n",
      "210/210 [==============================] - 21s 100ms/step - loss: 6.7044 - mae: 1.5745 - val_loss: 18.8241 - val_mae: 3.3185\n",
      "Epoch 6/20\n",
      "210/210 [==============================] - 21s 101ms/step - loss: 6.1959 - mae: 1.4934 - val_loss: 17.9689 - val_mae: 3.1591\n",
      "Epoch 7/20\n",
      "210/210 [==============================] - 21s 101ms/step - loss: 6.1853 - mae: 1.4626 - val_loss: 17.9441 - val_mae: 3.1541\n",
      "Chunk 36/52 // 67.31% Complete // Cycle 1/3\n"
     ]
    },
    {
     "name": "stderr",
     "output_type": "stream",
     "text": [
      "y:\\ML\\Anaconda\\envs\\TF-GPU\\lib\\site-packages\\sklearn\\preprocessing\\_label.py:876: UserWarning: unknown class(es) [' 10tons ', ' Application Systems Heidelberg ', ' Awesome Games Studio ', ' BeautiFun Games ', ' BlackMuffin Studio', ' Char & Torfi ', ' Digital Sun ', ' EA Singapore ', ' Fair Play Labs ', ' Funatics ', ' Funatics Software', ' Honor Code', ' Immersion Software & Graphics ', ' Monkey Moon ', ' Muutsch', ' Playsport Games Ltd ', ' Pol', ' Russia ', ' Soleil', ' Soleil Ltd. ', ' StudioInkyfox ', ' Thomas Brush ', ' Toylogic ', ' Varkian Empire ', '10tons Entertainment', '11 bit studios', '24 Entertainment ', '3A Games ', 'Alcachofa Soft ', 'Application Systems Heidelberg Software GmbH', 'Artificial Studios', 'Arxel Tribe ', 'Avalon Style ', 'AwesomeGamesStudio', 'BEAUTIFUN GAMES SL', 'Beautiful Glitch ', 'Big Ape Productions ', 'Black Mermaid ', 'Black Pants Studio ', 'Blazing Bit Games ', 'Blazing Griffin ', 'Blue Bottle Games ', 'Broken Rules ', 'Capricia Productions ', 'Chance Agency ', 'Coffee Powered Machine ', 'Connor Ullmann ', 'Cornfox & Bros. ', 'Crunching Koalas ', 'CyberConnect2', 'Deep Red ', 'Delphine Software International ', 'Detalion ', 'Die Gute Fabrik ', 'Diversions Entertainment ', 'DrinkBox Studios ', 'EA Black Box', 'EA Seattle ', 'Eutechnyx ', 'Funatics Development GmbH', 'Future Games ', 'Geography of Robots ', 'Gojira ', 'Grip Digital ', 'Harebrained Schemes LLC ', 'Hidden Fields ', 'Housemarque ', 'Humongous Entertainment ', 'Hydravision ', 'ILCA', 'Idol FX ', 'In Utero ', 'Infinitap Games ', 'Infinite Fall ', 'Interwave Studios ', 'John Szymanski ', 'Jonas Manke', 'Joon', 'Juggler Games ', 'Just Add Water ', 'Kitfox Games ', 'Kuju Entertainment ', 'LCB Game Studio ', 'Le Cartel Studio ', 'Level 5 ', 'Lexis Numerique ', 'Limasse Five ', 'Ludosity Interactive', 'Max Mraz ', 'Mayhem Studios ', 'Messhof ', 'Metronomik ', 'Mithis/HD Interactive ', 'Mohawk Games ', 'Monster Games Inc. ', 'NUDE MAKER', 'Narcosis Team', 'Neotro Inc. ', 'Nepos Games ', 'No Code ', 'Nolla Games ', 'NotGames ', 'Nowhere Studios ', 'Oddworld Inhabitants ', 'Ossian Studios ', 'Panic Barn Ltd ', 'Papyrus ', 'Pathea Games ', 'Phosphor Games Studio', 'Picaresque Studio ', 'Pinkerton Road Studio ', 'Player First Games ', 'Playsport Games', 'Pocketwatch Games ', 'Polypusher Studios ', 'Presto Studios ', 'Rage Software ', 'Rainbow Studios ', 'Raw Fury', 'Red Herring Labs ', 'Related Designs ', 'Renegade Kid ', 'Rock Pocket Games ', 'Rocket Science Games ', 'Rogue Factor ', 'Route 59 Games ', 'SMG Studio ', 'Santa Ragione ', 'Screaming Games ', 'Serenity Forge', 'Sharkbomb Studios ', 'Shiny Shoe ', 'Shiro Games ', 'Silver Dollar Games ', 'Skeleton Crew Studio ', 'Space Dust Studios', 'Spearhead Games ', 'Still Running ', 'Studio Koba ', 'Sunnyside Games ', 'Tamsoft ', 'Team Oneshot ', 'Team Shifty ', 'Termite Games ', 'Thomas Moon Kang ', 'Tom Hegarty ', 'TopWare Interactive ', 'Toylogic Inc.', 'Triternion ', 'Turbo Tape Games ', 'Uber Entertainment ', 'Unigine Corp', 'Untame ', 'Upper One Games ', 'Veewo Games ', 'Vile Monarch ', 'Visual Concepts ', 'Vlambeer ', 'White Birds Productions ', 'Y.K. ', 'ZANDEL MEDIA ', 'roll7 ', 'tiny Build GAMES'] will be ignored\n",
      "  \"unknown class(es) {0} will be ignored\".format(sorted(unknown, key=str))\n"
     ]
    },
    {
     "name": "stdout",
     "output_type": "stream",
     "text": [
      "Epoch 1/20\n",
      "220/220 [==============================] - 21s 93ms/step - loss: 39.0130 - mae: 4.3640 - val_loss: 34.8679 - val_mae: 4.4173\n",
      "Epoch 2/20\n",
      "220/220 [==============================] - 21s 98ms/step - loss: 22.6509 - mae: 3.1753 - val_loss: 26.9957 - val_mae: 3.8571\n",
      "Epoch 3/20\n",
      "220/220 [==============================] - 22s 99ms/step - loss: 18.8849 - mae: 2.8333 - val_loss: 25.5098 - val_mae: 3.7429\n",
      "Epoch 4/20\n",
      "220/220 [==============================] - 21s 95ms/step - loss: 16.8032 - mae: 2.5905 - val_loss: 23.7667 - val_mae: 3.6218\n",
      "Epoch 5/20\n",
      "220/220 [==============================] - 22s 98ms/step - loss: 14.7568 - mae: 2.4130 - val_loss: 23.4192 - val_mae: 3.5985\n",
      "Epoch 6/20\n",
      "220/220 [==============================] - 21s 95ms/step - loss: 14.0533 - mae: 2.3223 - val_loss: 22.6745 - val_mae: 3.5843\n",
      "Epoch 7/20\n",
      "220/220 [==============================] - 21s 97ms/step - loss: 13.2633 - mae: 2.2151 - val_loss: 20.7847 - val_mae: 3.4012\n",
      "Epoch 8/20\n",
      "220/220 [==============================] - 21s 95ms/step - loss: 11.7514 - mae: 2.0885 - val_loss: 22.0365 - val_mae: 3.4977\n",
      "Epoch 9/20\n",
      "220/220 [==============================] - 20s 92ms/step - loss: 11.5961 - mae: 2.0459 - val_loss: 22.0590 - val_mae: 3.5238\n",
      "Epoch 10/20\n",
      "220/220 [==============================] - 21s 96ms/step - loss: 11.8473 - mae: 2.0346 - val_loss: 22.0259 - val_mae: 3.4996\n",
      "Epoch 11/20\n",
      "220/220 [==============================] - 22s 98ms/step - loss: 11.2200 - mae: 1.9695 - val_loss: 22.0205 - val_mae: 3.4779\n",
      "Epoch 12/20\n",
      "220/220 [==============================] - 21s 97ms/step - loss: 10.6804 - mae: 1.9181 - val_loss: 20.9228 - val_mae: 3.4263\n",
      "Chunk 37/52 // 69.23% Complete // Cycle 1/3\n"
     ]
    },
    {
     "name": "stderr",
     "output_type": "stream",
     "text": [
      "y:\\ML\\Anaconda\\envs\\TF-GPU\\lib\\site-packages\\sklearn\\preprocessing\\_label.py:876: UserWarning: unknown class(es) [' Bigben Games ', ' Bigben Interactive', ' Minority Media Inc. ', ' Sproing ', ' Xeen ', 'Alter Games ', 'Appeal', 'Black Shamrock ', 'Clever Plays ', 'Continuum ', 'Finji ', 'Flashback Games ', 'Galilea Multimedia ', 'Gaming Minds Studios ', 'Ghost Town Games Ltd. ', 'Grayfax Software ', 'Grinding Gear Games ', 'Hemisphere Games ', 'Homegrown Games ', 'House of Tales ', 'Housemarque', 'Ice-Pick Lodge ', 'IzHard ', 'Jacob Janerka ', 'Kaizen Game Works ', 'Lesta Studio ', 'Lightbulb Crew ', 'Lucas Pope ', 'Mad Head Games ', 'Mi-Clos Studio ', 'Mindfield Games ', 'Mindware Studios ', 'Minority', 'Mist Land ', 'Namco Bandai Games ', 'Nerd Monkeys ', 'Nerial ', 'Now Production', 'Osmotic Studios ', 'Out Of The Park Developments ', 'Owlcat Games ', 'Patrick Traynor ', 'Phantom 8 ', 'Phantomery Interactive ', 'Pinokl Games ', 'PolyAmorous ', 'Proxy Studios ', 'R8 Games ', 'Revival Productions', 'Robotality ', 'SEK Ost ', 'SSI ', 'Shining Pixel Studios ', 'Sproing Interactive Media', 'The Artistocrats ', 'The Lordz Games Studio ', 'Tribute Games ', 'Ultra Runaway Games ', 'White Birds Productions ', 'Zordix Racing '] will be ignored\n",
      "  \"unknown class(es) {0} will be ignored\".format(sorted(unknown, key=str))\n"
     ]
    },
    {
     "name": "stdout",
     "output_type": "stream",
     "text": [
      "Epoch 1/20\n",
      "223/223 [==============================] - 22s 99ms/step - loss: 30.5064 - mae: 3.2107 - val_loss: 16.0518 - val_mae: 2.7656\n",
      "Epoch 2/20\n",
      "223/223 [==============================] - 23s 103ms/step - loss: 12.5183 - mae: 1.8838 - val_loss: 17.0261 - val_mae: 2.8121\n",
      "Epoch 3/20\n",
      "223/223 [==============================] - 23s 103ms/step - loss: 11.4557 - mae: 1.7208 - val_loss: 16.1506 - val_mae: 2.6648\n",
      "Epoch 4/20\n",
      "223/223 [==============================] - 23s 105ms/step - loss: 8.5204 - mae: 1.5249 - val_loss: 16.3998 - val_mae: 2.7865\n",
      "Epoch 5/20\n",
      "223/223 [==============================] - 23s 105ms/step - loss: 8.6544 - mae: 1.4975 - val_loss: 17.0956 - val_mae: 2.8543\n",
      "Epoch 6/20\n",
      "223/223 [==============================] - 23s 105ms/step - loss: 8.1878 - mae: 1.4039 - val_loss: 17.9368 - val_mae: 2.9820\n"
     ]
    },
    {
     "name": "stderr",
     "output_type": "stream",
     "text": [
      "distributed.utils_perf - WARNING - full garbage collections took 10% CPU time recently (threshold: 10%)\n"
     ]
    },
    {
     "name": "stdout",
     "output_type": "stream",
     "text": [
      "Chunk 38/52 // 71.15% Complete // Cycle 1/3\n"
     ]
    },
    {
     "name": "stderr",
     "output_type": "stream",
     "text": [
      "y:\\ML\\Anaconda\\envs\\TF-GPU\\lib\\site-packages\\sklearn\\preprocessing\\_label.py:876: UserWarning: unknown class(es) [' AGEOD ', ' Gaming Minds Studios ', ' Planetary Annihilation Inc ', ' Q-Games ', '7 Studios ', 'Adrian Lazar ', 'Beamdog ', 'Beatnik Games ', 'Chasing Carrots ', 'Cloudhead Games ', 'CreativeForge Games ', 'Cyberlore Studios ', 'Daniel Mullins Games ', 'Disney Online ', 'Double Eleven', 'Double Eleven ', 'Dry Cactus ', 'Fabled Game ', 'Flying Lab Software ', 'FuturLab ', 'Gaming Minds Studios ', 'ION LANDS ', 'IllFonic ', 'Impressions Games ', 'K-D Lab ', 'Lukewarm Media ', 'Mages. ', 'Might and Delight ', 'Object ', 'Paradox Interactive', 'Pasta Games ', 'Polyslash ', 'RichMakeGame ', 'Running Dog ', 'Sectordub ', 'Snapshot Games Inc. ', 'SoftWarWare ', 'Stormfront Studios ', 'The Behemoth ', 'The Deep End Games ', 'Thomas Brush ', 'Tlon Studios ', 'Torus Games ', 'Tour De Pizza ', 'Triskell Interactive ', 'Uber Entertainment', 'Visiware Studios ', 'Voracious Games ', 'Wastelands Interactive ', 'Wishfully ', 'Wormwood Studios ', 'YCJY Games ', 'Zeboyd Games ', 'ZootFly ', 'nDreams ', 'niceplay games '] will be ignored\n",
      "  \"unknown class(es) {0} will be ignored\".format(sorted(unknown, key=str))\n",
      "distributed.utils_perf - WARNING - full garbage collections took 10% CPU time recently (threshold: 10%)\n",
      "distributed.utils_perf - WARNING - full garbage collections took 10% CPU time recently (threshold: 10%)\n"
     ]
    },
    {
     "name": "stdout",
     "output_type": "stream",
     "text": [
      "Epoch 1/20\n",
      "230/230 [==============================] - 23s 101ms/step - loss: 28.2344 - mae: 3.1882 - val_loss: 20.3338 - val_mae: 3.0237\n",
      "Epoch 2/20\n",
      "230/230 [==============================] - 24s 105ms/step - loss: 17.2184 - mae: 2.3816 - val_loss: 17.4881 - val_mae: 2.8129\n",
      "Epoch 3/20\n",
      "230/230 [==============================] - 24s 103ms/step - loss: 15.8469 - mae: 2.1533 - val_loss: 17.6120 - val_mae: 3.0366\n",
      "Epoch 4/20\n",
      "230/230 [==============================] - 23s 102ms/step - loss: 14.3369 - mae: 1.9861 - val_loss: 19.9540 - val_mae: 3.2109\n",
      "Epoch 5/20\n",
      "230/230 [==============================] - 23s 100ms/step - loss: 13.3039 - mae: 1.8725 - val_loss: 19.3740 - val_mae: 3.1562\n",
      "Epoch 6/20\n",
      "230/230 [==============================] - 23s 100ms/step - loss: 10.5538 - mae: 1.7418 - val_loss: 19.5792 - val_mae: 3.1823\n",
      "Epoch 7/20\n",
      "230/230 [==============================] - 23s 99ms/step - loss: 10.1308 - mae: 1.6637 - val_loss: 21.2997 - val_mae: 3.4015\n"
     ]
    },
    {
     "name": "stderr",
     "output_type": "stream",
     "text": [
      "distributed.utils_perf - WARNING - full garbage collections took 10% CPU time recently (threshold: 10%)\n"
     ]
    },
    {
     "name": "stdout",
     "output_type": "stream",
     "text": [
      "Chunk 39/52 // 73.08% Complete // Cycle 1/3\n"
     ]
    },
    {
     "name": "stderr",
     "output_type": "stream",
     "text": [
      "y:\\ML\\Anaconda\\envs\\TF-GPU\\lib\\site-packages\\sklearn\\preprocessing\\_label.py:876: UserWarning: unknown class(es) ['Text'] will be ignored\n",
      "  \"unknown class(es) {0} will be ignored\".format(sorted(unknown, key=str))\n",
      "y:\\ML\\Anaconda\\envs\\TF-GPU\\lib\\site-packages\\sklearn\\preprocessing\\_label.py:876: UserWarning: unknown class(es) [' Bounding Box Games ', ' Double Damage Games ', ' Hi Corp ', ' KTX Software ', ' MachineGames ', ' Pixel Pi Games ', ' Team Ladybug ', ' WSS Playground', '2 Dawn Games ', '34BigThings ', 'Abbey Games ', 'Atomic Motion ', 'Big Star Games ', 'Black Rock Studio ', 'Blendo Games ', 'Buckshot Software ', 'Camouflaj', 'Cococucumber ', 'Core Design Ltd. ', 'Creat Studios ', 'Doctor Entertainment ', 'Double Damage Games', 'Double Damage Games ', 'EasyGameStation ', 'Ed Key and David Kanaga ', 'Flippfly ', 'Flying Lab Software ', 'Freeform Interactive LLC ', 'Frostwood Interactive ', 'Gaming Minds Studios ', 'Ice Flames ', 'Infamous Quests ', 'Innerloop ', 'Interceptor Entertainment ', 'Ironward ', 'Jujubee S.A. ', 'Kuju Entertainment ', 'Laura Shigihara ', 'Lazy Bear Games ', 'Lionbite Games ', 'ManaVoid Entertainment Inc. ', 'Mark Healey ', 'Mighty Polygon ', 'Mike and Jason', 'NG:DEV.TEAM', 'Nerial ', 'Nexus Game Studio ', 'Nicolas Meyssonnier ', 'Nodding Heads Games ', 'NuClearVision ', 'Old School Games ', 'Outrage Games ', 'Phigames ', 'Pixelated Milk ', 'Plastic Piranha ', 'Radon Labs ', 'RailSimulator.com ', 'Rival Interactive ', 'Sector D2 ', 'Sobaka ', 'SomaSim ', 'Stormind Games ', 'Sundae Month ', 'Survios ', 'Team Pixel Pi', 'The Bae Team ', 'The Tiniest Shark ', 'Three Rings ', 'Toxic Games ', 'UBlart Montpellier ', 'Vertical Robot ', 'Videocult ', 'Vladimir Kudelka ', 'Volatile Games ', 'Why so serious?', 'Wizarbox ', 'Yanim Studio ', 'comcept '] will be ignored\n",
      "  \"unknown class(es) {0} will be ignored\".format(sorted(unknown, key=str))\n",
      "distributed.utils_perf - WARNING - full garbage collections took 10% CPU time recently (threshold: 10%)\n",
      "distributed.utils_perf - WARNING - full garbage collections took 10% CPU time recently (threshold: 10%)\n"
     ]
    },
    {
     "name": "stdout",
     "output_type": "stream",
     "text": [
      "Epoch 1/20\n",
      "212/212 [==============================] - 21s 97ms/step - loss: 34.1440 - mae: 3.7876 - val_loss: 23.3266 - val_mae: 3.2944\n",
      "Epoch 2/20\n",
      "212/212 [==============================] - 21s 101ms/step - loss: 20.2770 - mae: 2.6976 - val_loss: 20.9543 - val_mae: 2.9863\n",
      "Epoch 3/20\n",
      "212/212 [==============================] - 22s 102ms/step - loss: 16.1165 - mae: 2.3047 - val_loss: 20.8885 - val_mae: 3.1980\n",
      "Epoch 4/20\n",
      "212/212 [==============================] - 22s 103ms/step - loss: 14.5947 - mae: 2.1533 - val_loss: 19.6151 - val_mae: 3.0462\n",
      "Epoch 5/20\n",
      "212/212 [==============================] - 21s 101ms/step - loss: 13.6360 - mae: 2.0418 - val_loss: 19.9710 - val_mae: 3.1637\n",
      "Epoch 6/20\n",
      "212/212 [==============================] - 22s 103ms/step - loss: 13.2518 - mae: 2.0323 - val_loss: 20.9183 - val_mae: 3.2577\n",
      "Epoch 7/20\n",
      "212/212 [==============================] - 21s 101ms/step - loss: 10.5618 - mae: 1.7986 - val_loss: 19.3329 - val_mae: 3.2068\n",
      "Epoch 8/20\n",
      "212/212 [==============================] - 21s 100ms/step - loss: 9.1787 - mae: 1.6824 - val_loss: 19.8285 - val_mae: 3.2636\n",
      "Epoch 9/20\n",
      "212/212 [==============================] - 21s 100ms/step - loss: 9.8818 - mae: 1.7069 - val_loss: 18.6851 - val_mae: 3.1296\n",
      "Epoch 10/20\n",
      "212/212 [==============================] - 21s 98ms/step - loss: 9.1182 - mae: 1.6369 - val_loss: 20.1569 - val_mae: 3.3173\n",
      "Epoch 11/20\n",
      "212/212 [==============================] - 21s 99ms/step - loss: 9.2703 - mae: 1.6488 - val_loss: 21.3386 - val_mae: 3.3274\n",
      "Epoch 12/20\n",
      "212/212 [==============================] - 21s 99ms/step - loss: 7.9947 - mae: 1.5322 - val_loss: 20.8570 - val_mae: 3.3294\n",
      "Epoch 13/20\n",
      "212/212 [==============================] - 21s 101ms/step - loss: 8.9803 - mae: 1.5805 - val_loss: 20.7295 - val_mae: 3.3185\n",
      "Epoch 14/20\n",
      "212/212 [==============================] - 21s 98ms/step - loss: 8.4691 - mae: 1.5043 - val_loss: 20.5987 - val_mae: 3.3458\n"
     ]
    },
    {
     "name": "stderr",
     "output_type": "stream",
     "text": [
      "distributed.utils_perf - WARNING - full garbage collections took 10% CPU time recently (threshold: 10%)\n"
     ]
    },
    {
     "name": "stdout",
     "output_type": "stream",
     "text": [
      "Chunk 40/52 // 75.0% Complete // Cycle 1/3\n"
     ]
    },
    {
     "name": "stderr",
     "output_type": "stream",
     "text": [
      "y:\\ML\\Anaconda\\envs\\TF-GPU\\lib\\site-packages\\sklearn\\preprocessing\\_label.py:876: UserWarning: unknown class(es) [' Animation Arts ', ' Devoured Studios ', ' Engine Software ', ' Gamasoft ', ' Hopoo Games ', ' Introversion Software ', ' Jo-Mei Games ', ' Leikir Studio ', ' Mixed Realms ', ' Monstars Inc.', ' Omen ', ' Resonair ', ' Stainless Steel Studios ', ' Studio 369 ', ' Studio Fizbin ', ' Super Awesome Hyper Dimensional Mega Team ', '5 Lives Studios ', '5TH Cell ', 'Abbey Games ', 'Abrakam SA ', 'Amanita Design ', 'Animation Arts ', 'Antimatter Games ', 'Arberth Studios ', 'Artifice Studio ', 'Atomic Planet Entertainment ', 'Beau Blyth ', 'Broken Rules ', 'CCR', 'Cadenza ', 'Cellar Door Games ', 'Chucklefish', 'Creative Bytes ', 'DAMAGE STATE LTD ', 'Dapper Penguin Studios ', 'Dark Seas Games ', 'Denby / Raze ', 'Digixart Entertainment', 'Digixart Entertainment ', 'DreamCatcher Interactive ', 'Ebb Software ', 'Edelweiss ', 'Egidijus Bachur ', 'Facepunch Studios ', 'Final Strike Games ', 'Fizbin', 'Flying Oak Games ', 'Free Radical Design ', 'Fusionsphere Systems', 'Fusionsphere Systems ', 'Gabriel Interactive ', 'HAKAMA ', 'Housemarque ', 'Human Head Studios', 'Introversion', 'Italic Pig ', 'Jutsu Games ', 'Koei ', 'LGK Games ', 'Lucas Pope ', 'Ludeon Studios ', 'Mad Head Games ', 'Master Creating ', 'Midway', 'Mixed Realms Pte Ltd', 'Morgondag ', 'Mystic Box ', 'Naked Sky Entertainment ', 'No Goblin ', 'Nucleosys ', 'Nvizzio Creations ', 'Owlchemy Labs ', 'Phantom Compass ', 'Polygon Treehouse ', 'Puppy Games ', 'Recoil Games ', 'Red Ego Games ', 'Reikon Games ', 'Robot House ', 'Runewaker Entertainment ', 'SNK Corporation ', 'Sabotage Studio ', 'Samurai Punk ', 'Santa Ragione ', 'Scavengers Studio ', 'Shed-Works ', 'Ska Studios', 'Skunkape Games ', 'Slant Six ', 'Softlab-NSK ', 'SouthPeak Games ', 'Southend Interactive ', 'Spellbind Studios ', 'Sperasoft ', 'Spry Fox ', 'Super Mega Team', 'Swing Swing Submarine ', 'TickTock Games ', 'Tomasz Waclawek ', 'Torched Hill ', 'Totally Games ', 'Twice Different ', 'Two Tribes ', 'UGA', 'Uprising Studios ', 'Vblank Entertainment Inc. ', 'XYLA Entertainment ', 'Youxiland', 'neoqb ', 'roll7 ', 'xii games '] will be ignored\n",
      "  \"unknown class(es) {0} will be ignored\".format(sorted(unknown, key=str))\n",
      "distributed.utils_perf - WARNING - full garbage collections took 10% CPU time recently (threshold: 10%)\n",
      "distributed.utils_perf - WARNING - full garbage collections took 10% CPU time recently (threshold: 10%)\n"
     ]
    },
    {
     "name": "stdout",
     "output_type": "stream",
     "text": [
      "Epoch 1/20\n",
      "221/221 [==============================] - 22s 97ms/step - loss: 37.0091 - mae: 4.1649 - val_loss: 38.1869 - val_mae: 4.2294\n",
      "Epoch 2/20\n",
      "221/221 [==============================] - 22s 99ms/step - loss: 21.6966 - mae: 3.0587 - val_loss: 33.0750 - val_mae: 3.9920\n",
      "Epoch 3/20\n",
      "221/221 [==============================] - 22s 99ms/step - loss: 16.6290 - mae: 2.6420 - val_loss: 32.6502 - val_mae: 3.8457\n",
      "Epoch 4/20\n",
      "221/221 [==============================] - 22s 98ms/step - loss: 15.4273 - mae: 2.4844 - val_loss: 29.9683 - val_mae: 3.8909\n",
      "Epoch 5/20\n",
      "221/221 [==============================] - 22s 99ms/step - loss: 13.7028 - mae: 2.3419 - val_loss: 29.5232 - val_mae: 3.7957\n",
      "Epoch 6/20\n",
      "221/221 [==============================] - 22s 100ms/step - loss: 12.3045 - mae: 2.2341 - val_loss: 29.2848 - val_mae: 3.8121\n",
      "Epoch 7/20\n",
      "221/221 [==============================] - 23s 103ms/step - loss: 10.3520 - mae: 2.0875 - val_loss: 28.0853 - val_mae: 3.7876\n",
      "Epoch 8/20\n",
      "221/221 [==============================] - 22s 100ms/step - loss: 11.2645 - mae: 2.0584 - val_loss: 28.0066 - val_mae: 3.6416\n",
      "Epoch 9/20\n",
      "221/221 [==============================] - 23s 103ms/step - loss: 9.6785 - mae: 1.9704 - val_loss: 28.5991 - val_mae: 3.6959\n",
      "Epoch 10/20\n",
      "221/221 [==============================] - 22s 102ms/step - loss: 9.8283 - mae: 1.9338 - val_loss: 26.3934 - val_mae: 3.6117\n",
      "Epoch 11/20\n",
      "221/221 [==============================] - 22s 102ms/step - loss: 9.3257 - mae: 1.8980 - val_loss: 28.6465 - val_mae: 3.7259\n",
      "Epoch 12/20\n",
      "221/221 [==============================] - 23s 104ms/step - loss: 8.3405 - mae: 1.7936 - val_loss: 27.9098 - val_mae: 3.6114\n",
      "Epoch 13/20\n",
      "221/221 [==============================] - 23s 102ms/step - loss: 9.6484 - mae: 1.8598 - val_loss: 30.5849 - val_mae: 3.8225\n",
      "Epoch 14/20\n",
      "221/221 [==============================] - 23s 104ms/step - loss: 8.6531 - mae: 1.7964 - val_loss: 31.0364 - val_mae: 3.8070\n",
      "Epoch 15/20\n",
      "221/221 [==============================] - 23s 104ms/step - loss: 8.4200 - mae: 1.7692 - val_loss: 28.4182 - val_mae: 3.7003\n"
     ]
    },
    {
     "name": "stderr",
     "output_type": "stream",
     "text": [
      "distributed.utils_perf - WARNING - full garbage collections took 10% CPU time recently (threshold: 10%)\n"
     ]
    },
    {
     "name": "stdout",
     "output_type": "stream",
     "text": [
      "Chunk 41/52 // 76.92% Complete // Cycle 1/3\n"
     ]
    },
    {
     "name": "stderr",
     "output_type": "stream",
     "text": [
      "y:\\ML\\Anaconda\\envs\\TF-GPU\\lib\\site-packages\\sklearn\\preprocessing\\_label.py:876: UserWarning: unknown class(es) [' Cliffhanger Productions ', ' Dead Mage ', ' Games Farm s.r.o. ', ' Infinite Interactive ', ' Kaigan Games ', ' Marvelous AQL ', ' Multiverse ', ' Terri Vellmann & Doseone ', ' Vlambeer ', ' d3t Ltd ', 'Artificer ', 'Arxel Tribe ', 'Asymmetric Publications ', 'Big Robot Ltd ', 'Black Element ', 'Black Lion Studios ', 'Bloodirony ', 'Cliffhanger Productions', 'Cracked Heads Games ', 'Crackshell ', 'Crea-ture Studios ', 'Croteam', 'DarkStar Games ', 'Dead Mage Studio', 'Den-Yu-Sha ', 'Detalion ', 'Douze Dixiemes ', 'Draw Distance ', 'Echodog Games ', 'Enigami ', 'Enlight Software', 'FASA Studio ', 'Finish Line Games ', 'FishTankStudio ', 'Free Reign Entertainment ', 'Games Farm', 'Games Farm ', 'Garage 227 ', 'Glass Bottom Games ', 'Greylock Studio ', 'Harebrained Schemes LLC ', 'IMGN.PRO ', 'Jesse Makkonen ', 'Kaigan Games OU', 'MPS Labs ', 'MadLightStudio ', 'Mandragora ', 'Mega Crit Games ', 'Meteorise ', 'Might and Delight ', 'Mimimi Games ', 'Minds-Eye Productions ', \"Mommy's Best Games \", 'Monomi Park ', 'Multiverse Games', 'Nexon ', 'Night Dive Studios ', 'Okugi Studio ', 'Redlock Studio ', 'Right Nice Games ', 'Rotobee ', 'Runecraft ', 'SEGA Racing Studio ', 'Sidhe Interactive ', 'Skyshine Games ', 'Sloclap ', 'Something Classic Games LLC ', 'SouthPAW Games ', 'Space Bullet Dynamics Corporation ', 'Spiral Circus ', 'Tamsoft', 'Tamsoft ', 'Terri Vellimann', 'Ultimation Inc. ', 'Unicube ', 'VSTEP ', 'Valkyrie Studios ', 'Vblank Entertainment Inc. ', 'Vine ', 'Wadjet Eye Games ', 'WayForward ', 'White Birds Productions ', 'Wolf Brew Games ', 'Wolfpack Studios ', 'Ysbryd Games ', 'Zojoi Studios ', 'iFun4all ', 'rose-engine '] will be ignored\n",
      "  \"unknown class(es) {0} will be ignored\".format(sorted(unknown, key=str))\n",
      "distributed.utils_perf - WARNING - full garbage collections took 10% CPU time recently (threshold: 10%)\n",
      "distributed.utils_perf - WARNING - full garbage collections took 10% CPU time recently (threshold: 10%)\n"
     ]
    },
    {
     "name": "stdout",
     "output_type": "stream",
     "text": [
      "Epoch 1/20\n",
      "232/232 [==============================] - 24s 100ms/step - loss: 23.1270 - mae: 3.1766 - val_loss: 22.9531 - val_mae: 3.6050\n",
      "Epoch 2/20\n",
      "232/232 [==============================] - 24s 105ms/step - loss: 12.1791 - mae: 2.2167 - val_loss: 20.7497 - val_mae: 3.5138\n",
      "Epoch 3/20\n",
      "232/232 [==============================] - 24s 103ms/step - loss: 10.4472 - mae: 1.9943 - val_loss: 18.0737 - val_mae: 3.2873\n",
      "Epoch 4/20\n",
      "232/232 [==============================] - 25s 106ms/step - loss: 8.5617 - mae: 1.8031 - val_loss: 17.7045 - val_mae: 3.2453\n",
      "Epoch 5/20\n",
      "232/232 [==============================] - 24s 106ms/step - loss: 7.6420 - mae: 1.6912 - val_loss: 18.0516 - val_mae: 3.3339\n",
      "Epoch 6/20\n",
      "232/232 [==============================] - 24s 104ms/step - loss: 8.0381 - mae: 1.6688 - val_loss: 17.8858 - val_mae: 3.2599\n",
      "Epoch 7/20\n",
      "232/232 [==============================] - 24s 103ms/step - loss: 7.2183 - mae: 1.6011 - val_loss: 16.5955 - val_mae: 3.1989\n",
      "Epoch 8/20\n",
      "232/232 [==============================] - 24s 102ms/step - loss: 6.9623 - mae: 1.5250 - val_loss: 18.0895 - val_mae: 3.3832\n",
      "Epoch 9/20\n",
      "232/232 [==============================] - 23s 98ms/step - loss: 6.6316 - mae: 1.4956 - val_loss: 17.7480 - val_mae: 3.3484\n",
      "Epoch 10/20\n",
      "232/232 [==============================] - 22s 95ms/step - loss: 5.9886 - mae: 1.4131 - val_loss: 16.7827 - val_mae: 3.3285\n",
      "Epoch 11/20\n",
      "232/232 [==============================] - 23s 100ms/step - loss: 6.0789 - mae: 1.4047 - val_loss: 18.2751 - val_mae: 3.4542\n",
      "Epoch 12/20\n",
      "232/232 [==============================] - 22s 96ms/step - loss: 6.2438 - mae: 1.3937 - val_loss: 17.1895 - val_mae: 3.3572\n",
      "Chunk 42/52 // 78.85% Complete // Cycle 1/3\n"
     ]
    },
    {
     "name": "stderr",
     "output_type": "stream",
     "text": [
      "y:\\ML\\Anaconda\\envs\\TF-GPU\\lib\\site-packages\\sklearn\\preprocessing\\_label.py:876: UserWarning: unknown class(es) [' Atlus ', ' Bitworks ', ' Black Wing Foundation ', ' Cauldron Ltd. ', ' Coatsink Software ', ' EA Redwood Shores ', ' Elemental Games', ' Factor 5 ', ' Fire Face ', ' Just Add Water', ' Krome Studios ', ' Mossmouth ', ' Project Soul ', ' Red Storm Entertainment ', ' Shaba Games ', ' Terri Vellmann & Doseone ', '17-Bit ', '5000ft Inc. ', 'Activision', 'Alan Hazelden & Harry Lee ', 'Artdink', 'Bandai Namco Games', 'Black Lab Games ', 'Black Rock Studio ', 'CBE software ', 'Cadenza ', 'Cat Daddy Games ', 'Deep Red ', 'Derek Yu', 'DoubleDutch Games ', 'Dramatic Labs ', 'Escape ', 'Extend Interactive ', 'Fizz Factor ', 'Grimlore Games ', 'Infogrames ', 'Ironward ', 'Jumpship ', 'Malfador Machinations ', 'Massive Damage', 'Maxis', 'Meridian4 ', 'Metropolis Software ', 'MinMax Games Ltd. ', 'Mind over Matter ', 'Mossmouth', 'Murudai ', 'N-Game Studios', 'Naked Sky Entertainment ', 'Oovee Game Studios ', 'Owen Deery', 'Owned by Gravity ', 'Panic Barn Ltd ', 'Passtech Games ', 'Protocol Games ', 'Provox Games ', 'Pulsetense Games ', 'Rebellion', 'Rebelmind ', 'Reflexive Entertainment ', 'Reply Game Studios ', 'Retro Affect ', 'Retro Forge ', 'Runner Duck ', 'Seamless Entertainment', 'Silver Style ', 'Slitherine ', 'Sneaky Yak Studio ', 'Splashteam ', 'Star Gem Inc. ', 'State of Play Games ', 'Survios ', 'Tactical Adventures ', 'Taldren ', 'Terri Vellimann', 'Totally Games ', 'Treyarch', 'Vivid Games ', 'Wales Interactive ', 'Wings Simulations ', 'Zachtronics Industries ', 'inkle ', 'stillalive studios '] will be ignored\n",
      "  \"unknown class(es) {0} will be ignored\".format(sorted(unknown, key=str))\n"
     ]
    },
    {
     "name": "stdout",
     "output_type": "stream",
     "text": [
      "Epoch 1/20\n",
      "224/224 [==============================] - 22s 97ms/step - loss: 33.0670 - mae: 3.9383 - val_loss: 24.0220 - val_mae: 3.1009\n",
      "Epoch 2/20\n",
      "224/224 [==============================] - 22s 100ms/step - loss: 18.7782 - mae: 2.8268 - val_loss: 19.9250 - val_mae: 3.1031\n",
      "Epoch 3/20\n",
      "224/224 [==============================] - 22s 100ms/step - loss: 14.7615 - mae: 2.4278 - val_loss: 19.7535 - val_mae: 2.9933\n",
      "Epoch 4/20\n",
      "224/224 [==============================] - 23s 101ms/step - loss: 12.6654 - mae: 2.1575 - val_loss: 19.7896 - val_mae: 3.0616\n",
      "Epoch 5/20\n",
      "224/224 [==============================] - 23s 101ms/step - loss: 12.2840 - mae: 2.1317 - val_loss: 19.2224 - val_mae: 3.0096\n",
      "Epoch 6/20\n",
      "224/224 [==============================] - 22s 96ms/step - loss: 11.1970 - mae: 1.9794 - val_loss: 18.9852 - val_mae: 2.9978\n",
      "Epoch 7/20\n",
      "224/224 [==============================] - 22s 100ms/step - loss: 9.9166 - mae: 1.8635 - val_loss: 19.0174 - val_mae: 2.9558\n",
      "Epoch 8/20\n",
      "224/224 [==============================] - 22s 99ms/step - loss: 10.1699 - mae: 1.8358 - val_loss: 16.9517 - val_mae: 2.7633\n",
      "Epoch 9/20\n",
      "224/224 [==============================] - 22s 97ms/step - loss: 9.5478 - mae: 1.7711 - val_loss: 17.9819 - val_mae: 2.9072\n",
      "Epoch 10/20\n",
      "224/224 [==============================] - 22s 98ms/step - loss: 8.8080 - mae: 1.7217 - val_loss: 18.6706 - val_mae: 3.0117\n",
      "Epoch 11/20\n",
      "224/224 [==============================] - 22s 100ms/step - loss: 8.3186 - mae: 1.6387 - val_loss: 19.2031 - val_mae: 3.0856\n",
      "Epoch 12/20\n",
      "224/224 [==============================] - 22s 99ms/step - loss: 8.1796 - mae: 1.5983 - val_loss: 18.4176 - val_mae: 3.0293\n",
      "Epoch 13/20\n",
      "224/224 [==============================] - 21s 95ms/step - loss: 7.8773 - mae: 1.5648 - val_loss: 18.3130 - val_mae: 3.0221\n",
      "Chunk 43/52 // 80.77% Complete // Cycle 1/3\n"
     ]
    },
    {
     "name": "stderr",
     "output_type": "stream",
     "text": [
      "y:\\ML\\Anaconda\\envs\\TF-GPU\\lib\\site-packages\\sklearn\\preprocessing\\_label.py:876: UserWarning: unknown class(es) ['Text'] will be ignored\n",
      "  \"unknown class(es) {0} will be ignored\".format(sorted(unknown, key=str))\n",
      "y:\\ML\\Anaconda\\envs\\TF-GPU\\lib\\site-packages\\sklearn\\preprocessing\\_label.py:876: UserWarning: unknown class(es) [' Awaken Realms ', ' B.B.Studio ', ' Co. LTD ', ' Fullbright ', ' Koalabs ', ' Point Blank ', ' Quasar ', ' Ragequit Corporation ', ' Uppercut Games Pty Ltd ', 'Akabaka ', 'Akella', 'Ashdar Games ', 'Attention To Detail ', 'Awaceb ', 'Awaken Realms Digital', 'Bad Viking ', 'Banpresto', 'BattleGoat Studios ', 'Bkom ', 'Blackmill Games ', 'Blue 52 ', 'Blue Tongue Entertainment ', 'Bossa Studios ', 'Camel 101 ', 'Capy Games ', 'Chasing Rats Games ', 'Chibig ', 'Chucklefish ', 'Cosmo D Studios ', 'Cultic Games ', 'Curve Digital ', 'Curve Studios ', 'Dancing Dragon games ', 'Daniel Benmergui ', 'Destroyer Studios ', 'Dialogue Design ', 'Dimps Corporation ', 'Droqen ', 'Echo Chamber Games ', 'Ellipse Studios ', 'Embers ', 'Empty Clip Studios ', 'Exakt ', 'FIX Korea', 'Failbetter Games ', 'Fireglow ', 'Fury Software ', 'GameCo ', 'GolemLabs ', 'IMC Games ', 'Image & Form ', 'Kamehan Studios ', 'Kite Games ', 'Little Green Men ', 'M2 ', 'Magic Lantern ', 'Marvelous Inc. ', 'Microids', 'Midway ', 'Minds-Eye Productions ', 'Monochrome Paris ', 'Mucky Foot Productions ', 'Night Dive Studios ', 'No Bull Intentions ', 'No Code ', 'Odd Bug Studio ', 'Paul Cuisset ', 'Pillow Castle Games ', 'Pixel Titans ', 'Point Blank Games', 'Psyche Studios ', 'RLR Training Inc ', 'Serellan LLC ', 'Sierra Entertainment ', 'Sigtrap Games ', 'SkyBox Labs ', 'Sleepless Clinic ', 'Sleepy Sentry ', 'Spearhead Games ', 'Strangelite ', 'Strike Vector Team', 'Summerfall Studios ', 'THE BROTHERHOOD ', 'Taldren ', 'Tale of Tales ', 'Tate Multimedia ', 'The Artistocrats ', 'The Bitmap Brothers ', 'The Fullbright Company', 'Third Wire ', 'Torpor Games ', 'Uber Entertainment ', 'Ubisoft Annecy ', 'Uppercut Games', 'Uppercut Games Pty Ltd ', 'Vertex4 ', 'Wideload Games Inc. ', 'Wormwood Studios ', 'Xilam ', 'Zenovia ', 'Zero Sum Games ', 'Zoink! ', 'eSim Games ', 'increpare '] will be ignored\n",
      "  \"unknown class(es) {0} will be ignored\".format(sorted(unknown, key=str))\n"
     ]
    },
    {
     "name": "stdout",
     "output_type": "stream",
     "text": [
      "Epoch 1/20\n",
      "231/231 [==============================] - 21s 90ms/step - loss: 39.1932 - mae: 4.1049 - val_loss: 34.9221 - val_mae: 4.1760\n",
      "Epoch 2/20\n",
      "231/231 [==============================] - 22s 94ms/step - loss: 24.6690 - mae: 3.0785 - val_loss: 29.7593 - val_mae: 3.7456\n",
      "Epoch 3/20\n",
      "231/231 [==============================] - 22s 94ms/step - loss: 21.0954 - mae: 2.7963 - val_loss: 28.9565 - val_mae: 3.8943\n",
      "Epoch 4/20\n",
      "231/231 [==============================] - 23s 98ms/step - loss: 18.0539 - mae: 2.5660 - val_loss: 27.5147 - val_mae: 3.6565\n",
      "Epoch 5/20\n",
      "231/231 [==============================] - 23s 98ms/step - loss: 15.8358 - mae: 2.3737 - val_loss: 26.4460 - val_mae: 3.6642\n",
      "Epoch 6/20\n",
      "231/231 [==============================] - 22s 96ms/step - loss: 14.4116 - mae: 2.2078 - val_loss: 22.6965 - val_mae: 3.4059\n",
      "Epoch 7/20\n",
      "231/231 [==============================] - 22s 97ms/step - loss: 13.9976 - mae: 2.1495 - val_loss: 25.5169 - val_mae: 3.6974\n",
      "Epoch 8/20\n",
      "231/231 [==============================] - 22s 97ms/step - loss: 12.5667 - mae: 2.0359 - val_loss: 24.8236 - val_mae: 3.6044\n",
      "Epoch 9/20\n",
      "231/231 [==============================] - 23s 99ms/step - loss: 13.2183 - mae: 2.0591 - val_loss: 24.4332 - val_mae: 3.5868\n",
      "Epoch 10/20\n",
      "231/231 [==============================] - 23s 98ms/step - loss: 12.0415 - mae: 1.9529 - val_loss: 24.6975 - val_mae: 3.7350\n",
      "Epoch 11/20\n",
      "231/231 [==============================] - 23s 98ms/step - loss: 12.4005 - mae: 1.9365 - val_loss: 25.6121 - val_mae: 3.6895\n",
      "Chunk 44/52 // 82.69% Complete // Cycle 1/3\n"
     ]
    },
    {
     "name": "stderr",
     "output_type": "stream",
     "text": [
      "y:\\ML\\Anaconda\\envs\\TF-GPU\\lib\\site-packages\\sklearn\\preprocessing\\_label.py:876: UserWarning: unknown class(es) ['Text', 'Trainer'] will be ignored\n",
      "  \"unknown class(es) {0} will be ignored\".format(sorted(unknown, key=str))\n",
      "y:\\ML\\Anaconda\\envs\\TF-GPU\\lib\\site-packages\\sklearn\\preprocessing\\_label.py:876: UserWarning: unknown class(es) [' Digital Eclipse ', ' Florian Himsl ', ' Furious Bee ', ' King Art Games ', ' Lancarse ', ' Splendy Games ', ' YCJY Games ', '3D2 Entertainment ', 'AGO Games ', 'ARS GOETIA ', 'Abstraction Games ', 'Artefacts Studio ', 'Awfully Nice Studios ', 'Baroque Decay ', 'Beethoven & Dinosaur ', 'Big Ant Studios ', 'Big Finish Games ', 'BonusXP ', 'Bossa Studios ', 'Choice Provisions ', 'Cockroach Inc. ', 'Color Gray Games ', 'Crema Games ', 'Cryo Interactive ', 'Davey Wreden ', 'Deconstructeam ', 'Dragon Slumber ', 'DreamCatcher Interactive ', 'Eden Studios ', 'Edmund McMillen', 'Enhance Games ', 'Fairyship Games ', 'Free Lives ', 'Future Games ', 'Galilea Multimedia ', 'Game Freak ', 'Gaming Corps AB ', 'Harvester Games ', 'Illusion Ray Studio ', 'Iron Tower Studio ', 'Jason Rohrer ', 'Johamm Tael & Mihkel Tael ', 'KING Art', 'Konami', 'Ladyluck Digital Media ', \"Lion's Shade \", 'Mighty Yell ', 'Neon Giant ', 'Nicalis ', 'Noumena Productions ', 'Numinous Games ', 'Owl Cave ', 'Question ', 'Rain Games ', 'Random Potion Oy ', 'Rebelmind ', 'Rival Games Ltd ', 'Sam Barlow', 'Slendy Interactive', 'Spooky Doorway ', 'Swing Swing Submarine ', 'Technocrat ', 'Teotl Studios ', 'The Collective ', 'Tribute Games ', 'Tuxedo Labs ', 'Ty Taylor and Mario Castaneda ', 'Wadjet Eye Games ', 'Wales Interactive ', 'YCJY', 'Zenimax Online Studios ', 'h.a.n.d. Inc. ', 'nDreams '] will be ignored\n",
      "  \"unknown class(es) {0} will be ignored\".format(sorted(unknown, key=str))\n"
     ]
    },
    {
     "name": "stdout",
     "output_type": "stream",
     "text": [
      "Epoch 1/20\n",
      "232/232 [==============================] - 22s 94ms/step - loss: 18.7861 - mae: 2.6874 - val_loss: 14.1088 - val_mae: 3.2102\n",
      "Epoch 2/20\n",
      "232/232 [==============================] - 23s 100ms/step - loss: 11.2320 - mae: 1.9208 - val_loss: 14.2489 - val_mae: 3.1942\n",
      "Epoch 3/20\n",
      "232/232 [==============================] - 23s 100ms/step - loss: 10.0058 - mae: 1.7491 - val_loss: 11.6193 - val_mae: 2.9117\n",
      "Epoch 4/20\n",
      "232/232 [==============================] - 23s 101ms/step - loss: 8.9471 - mae: 1.6366 - val_loss: 11.8135 - val_mae: 2.9460\n",
      "Epoch 5/20\n",
      "232/232 [==============================] - 23s 99ms/step - loss: 7.6782 - mae: 1.5033 - val_loss: 11.1745 - val_mae: 2.8395\n",
      "Epoch 6/20\n",
      "232/232 [==============================] - 22s 97ms/step - loss: 7.9385 - mae: 1.4795 - val_loss: 11.5111 - val_mae: 2.9292\n",
      "Epoch 7/20\n",
      "232/232 [==============================] - 23s 99ms/step - loss: 7.3729 - mae: 1.4188 - val_loss: 10.9655 - val_mae: 2.8382\n",
      "Epoch 8/20\n",
      "232/232 [==============================] - 23s 99ms/step - loss: 6.6394 - mae: 1.3537 - val_loss: 11.8679 - val_mae: 3.0451\n",
      "Epoch 9/20\n",
      "232/232 [==============================] - 23s 98ms/step - loss: 6.9343 - mae: 1.3781 - val_loss: 12.2757 - val_mae: 3.1346\n",
      "Epoch 10/20\n",
      "232/232 [==============================] - 23s 100ms/step - loss: 6.8996 - mae: 1.3417 - val_loss: 11.9118 - val_mae: 3.0343\n",
      "Epoch 11/20\n",
      "232/232 [==============================] - 23s 101ms/step - loss: 6.6706 - mae: 1.3287 - val_loss: 11.2856 - val_mae: 2.9256\n",
      "Epoch 12/20\n",
      "232/232 [==============================] - 23s 99ms/step - loss: 6.2211 - mae: 1.2750 - val_loss: 11.4467 - val_mae: 2.9781\n"
     ]
    },
    {
     "name": "stderr",
     "output_type": "stream",
     "text": [
      "distributed.utils_perf - WARNING - full garbage collections took 10% CPU time recently (threshold: 10%)\n"
     ]
    },
    {
     "name": "stdout",
     "output_type": "stream",
     "text": [
      "Chunk 45/52 // 84.62% Complete // Cycle 1/3\n"
     ]
    },
    {
     "name": "stderr",
     "output_type": "stream",
     "text": [
      "y:\\ML\\Anaconda\\envs\\TF-GPU\\lib\\site-packages\\sklearn\\preprocessing\\_label.py:876: UserWarning: unknown class(es) ['Text'] will be ignored\n",
      "  \"unknown class(es) {0} will be ignored\".format(sorted(unknown, key=str))\n",
      "y:\\ML\\Anaconda\\envs\\TF-GPU\\lib\\site-packages\\sklearn\\preprocessing\\_label.py:876: UserWarning: unknown class(es) [' Cavalier Game Studios ', ' Crows Crows Crows ', ' Deck Nine Games ', ' Dire Wolf Digital ', ' Do My Best Games ', ' Endnight Studios ', ' Ishtar Games Inc. ', ' ONEOONE GAMES ', ' Question ', ' Skookum Arts ', ' Slitherine ', ' Studio Fizbin ', ' Sumo Nottingham ', ' Super Awesome Hyper Dimensional Mega Team ', ' Tyler Glaiel  ', '101%', '4Head Studios ', 'Act 3 Games', 'Arcen Games', 'Ares Dragonis ', 'Arxel Tribe ', 'Bellular Studios ', 'Big Robot Ltd ', 'Braingame ', 'Brainwash Gang ', 'Bulkhead Interactive ', 'CCCP', 'Caligari Games ', 'Cloak and Dagger Games ', 'Colibri Games ', 'Computer Artworks ', 'Daedalic Studio West ', 'Dan Smith Studios ', 'Darkling Room ', 'Davey Wreden ', 'Deconstructeam ', 'Digital Sun ', 'EXOR Studios ', 'Edmund McMillen', 'Facepalm Games ', 'Fireproof Games ', 'Fizbin', 'Frogwares', 'Galactic Cafe', 'GoldKnights Studio ', 'Grasshopper Manufacture ', 'Grip Games ', 'Gun Interactive', 'Headup Games ', 'House of Tales ', 'IF Games ', 'Image & Form ', 'Inevitable Entertainment ', 'Ironward ', 'James Interactive ', 'Joe Richardson ', 'LKA ', 'Leonard Menchiari ', 'Lexis Numerique ', 'Mana Games ', \"Mi'pu'mi Games \", 'Modern Storyteller ', 'Morbidware ', 'Mouldy Toof Studios ', 'Neon Doctrine ', 'Nevrax ', 'Omni Creative Group ', 'One Bit Beyond ', 'Orthogonal Games ', 'Over The Moon ', 'Pewter Games Studios ', 'Pixelogic ', 'Playmestudio ', 'Plot Twist ', 'Point of View ', 'PostMod Softworks ', 'Power Struggle Games ', 'Puuba ', 'Questionary', 'Rusty Lake ', 'SKS Games', 'Sabotage Studio ', 'Serenity Forge ', 'Sever ', 'Shark Punch ', 'Shifting Tides ', 'Size Five Games ', 'Skookum Arts LLC', 'SkyGoblin ', 'Slitherine Software', 'Smoking Car Productions ', 'Spidersoft', 'Streko-Graphics Inc. ', 'Stubby Games ', 'Studio Seufz ', 'Super Mega Team', 'SuperSexySoftware ', 'Surreal Software ', 'Tale of Tales ', 'Team Gotham ', 'The Molasses Flood ', 'The Odd Gentlemen ', 'The Station ', 'The Voxel Agents ', 'Thunkd ', 'Tomas Sala ', 'Tragnarion Studios ', 'TwoPM Studios ', 'Ubisoft Blue Byte ', 'VRESKI ', 'ValuSoft ', 'White Owls ', 'White Paper Games ', 'Wonderstruck Games ', 'mif2000 ', 'neo Software ', 'tinyBuild'] will be ignored\n",
      "  \"unknown class(es) {0} will be ignored\".format(sorted(unknown, key=str))\n",
      "distributed.utils_perf - WARNING - full garbage collections took 10% CPU time recently (threshold: 10%)\n",
      "distributed.utils_perf - WARNING - full garbage collections took 10% CPU time recently (threshold: 10%)\n"
     ]
    },
    {
     "name": "stdout",
     "output_type": "stream",
     "text": [
      "Epoch 1/20\n",
      "224/224 [==============================] - 22s 96ms/step - loss: 26.9039 - mae: 3.5020 - val_loss: 23.7659 - val_mae: 3.5740\n",
      "Epoch 2/20\n",
      "224/224 [==============================] - 22s 97ms/step - loss: 17.9510 - mae: 2.6994 - val_loss: 21.7842 - val_mae: 3.4016\n",
      "Epoch 3/20\n",
      "224/224 [==============================] - 21s 95ms/step - loss: 14.7278 - mae: 2.3265 - val_loss: 19.8973 - val_mae: 3.2205\n",
      "Epoch 4/20\n",
      "224/224 [==============================] - 21s 94ms/step - loss: 12.2355 - mae: 2.1318 - val_loss: 20.0185 - val_mae: 3.3085\n",
      "Epoch 5/20\n",
      "224/224 [==============================] - 21s 94ms/step - loss: 12.0763 - mae: 2.0606 - val_loss: 20.7422 - val_mae: 3.3715\n",
      "Epoch 6/20\n",
      "224/224 [==============================] - 21s 94ms/step - loss: 11.8867 - mae: 1.9565 - val_loss: 19.6000 - val_mae: 3.2751\n",
      "Epoch 7/20\n",
      "224/224 [==============================] - 22s 97ms/step - loss: 10.5375 - mae: 1.9182 - val_loss: 19.3919 - val_mae: 3.1757\n",
      "Epoch 8/20\n",
      "224/224 [==============================] - 22s 97ms/step - loss: 9.8690 - mae: 1.8407 - val_loss: 19.4403 - val_mae: 3.2778\n",
      "Epoch 9/20\n",
      "224/224 [==============================] - 22s 97ms/step - loss: 9.3850 - mae: 1.7869 - val_loss: 19.4523 - val_mae: 3.2999\n",
      "Epoch 10/20\n",
      "224/224 [==============================] - 21s 95ms/step - loss: 9.4663 - mae: 1.7728 - val_loss: 19.1294 - val_mae: 3.2440\n",
      "Epoch 11/20\n",
      "224/224 [==============================] - 21s 95ms/step - loss: 9.4507 - mae: 1.7463 - val_loss: 18.4251 - val_mae: 3.2563\n",
      "Epoch 12/20\n",
      "224/224 [==============================] - 21s 96ms/step - loss: 7.9799 - mae: 1.6396 - val_loss: 18.9294 - val_mae: 3.2833\n",
      "Epoch 13/20\n",
      "224/224 [==============================] - 22s 97ms/step - loss: 8.2952 - mae: 1.6369 - val_loss: 18.3115 - val_mae: 3.2099\n",
      "Epoch 14/20\n",
      "224/224 [==============================] - 21s 95ms/step - loss: 8.5358 - mae: 1.6304 - val_loss: 18.8987 - val_mae: 3.3374\n",
      "Epoch 15/20\n",
      "224/224 [==============================] - 21s 94ms/step - loss: 8.2566 - mae: 1.6185 - val_loss: 18.4208 - val_mae: 3.2621\n",
      "Epoch 16/20\n",
      "224/224 [==============================] - 22s 96ms/step - loss: 8.1399 - mae: 1.5760 - val_loss: 19.3567 - val_mae: 3.3409\n",
      "Epoch 17/20\n",
      "224/224 [==============================] - 21s 94ms/step - loss: 7.5466 - mae: 1.5592 - val_loss: 18.6587 - val_mae: 3.2739\n",
      "Epoch 18/20\n",
      "224/224 [==============================] - 21s 92ms/step - loss: 7.6586 - mae: 1.5334 - val_loss: 18.4714 - val_mae: 3.2912\n",
      "Chunk 46/52 // 86.54% Complete // Cycle 1/3\n"
     ]
    },
    {
     "name": "stderr",
     "output_type": "stream",
     "text": [
      "y:\\ML\\Anaconda\\envs\\TF-GPU\\lib\\site-packages\\sklearn\\preprocessing\\_label.py:876: UserWarning: unknown class(es) ['Text'] will be ignored\n",
      "  \"unknown class(es) {0} will be ignored\".format(sorted(unknown, key=str))\n",
      "y:\\ML\\Anaconda\\envs\\TF-GPU\\lib\\site-packages\\sklearn\\preprocessing\\_label.py:876: UserWarning: unknown class(es) [' 1C', ' CINIC Games ', ' Drool ', ' KRAFTON Inc. ', ' Kukouri Mobile Entertainment ', 'AREA35 ', 'Adeline Software ', 'Alawar Premium ', 'Antagonist ', 'Battlefront.com', 'Black Pants ', 'Blendo Games ', 'Bulkhead Interactive ', 'C.I.N.I.C. Games', 'Camel 101 ', 'Can Explode ', 'Carbon Studio ', 'Click Entertainment ', 'ComonGames ', 'Double Zero One Zero ', 'Draw Me A Pixel ', 'Expansive Worlds ', 'Falling Squirrel ', 'Flazm ', 'Gato Salvaje Studio ', 'HyperBole Studios ', 'Ice-Pick Lodge ', 'Iceberg Interactive', 'Iridium Studios ', 'Kite Games ', 'Minority Media Inc. ', 'Modern Dream ', 'Moonlight Kids ', 'Most Wanted Entertainment ', 'MuHa Games ', 'Numantian Games ', 'OverBorder Studio ', 'Paintbucket Games ', 'Puuba ', 'Puzzling Dream ', 'Rogue Sun ', 'Ron Gilbert and Gary Winnick ', 'Skybound LLC', 'Skydance Interactive ', 'Splashteam ', 'Spooky Squid Games ', 'SuperPAC ', 'Tin Man Games ', 'Trecision ', 'Urnique Studio ', 'Zombie Cow Studios ', '[bracket]games ', 'damiansommer ', 'drool Games', 'fragOut Studio'] will be ignored\n",
      "  \"unknown class(es) {0} will be ignored\".format(sorted(unknown, key=str))\n"
     ]
    },
    {
     "name": "stdout",
     "output_type": "stream",
     "text": [
      "Epoch 1/20\n",
      "222/222 [==============================] - 20s 90ms/step - loss: 14.5283 - mae: 2.4405 - val_loss: 10.1765 - val_mae: 2.0781\n",
      "Epoch 2/20\n",
      "222/222 [==============================] - 20s 92ms/step - loss: 8.4462 - mae: 1.7889 - val_loss: 9.8795 - val_mae: 2.2102\n",
      "Epoch 3/20\n",
      "222/222 [==============================] - 21s 93ms/step - loss: 7.0642 - mae: 1.5953 - val_loss: 9.4026 - val_mae: 2.1417\n",
      "Epoch 4/20\n",
      "222/222 [==============================] - 20s 91ms/step - loss: 6.0192 - mae: 1.4694 - val_loss: 9.3802 - val_mae: 2.2842\n",
      "Epoch 5/20\n",
      "222/222 [==============================] - 21s 93ms/step - loss: 5.6029 - mae: 1.3990 - val_loss: 8.9256 - val_mae: 2.2435\n",
      "Epoch 6/20\n",
      "222/222 [==============================] - 21s 93ms/step - loss: 5.2096 - mae: 1.3183 - val_loss: 9.7753 - val_mae: 2.4391\n",
      "Epoch 7/20\n",
      "222/222 [==============================] - 20s 92ms/step - loss: 4.7171 - mae: 1.2084 - val_loss: 8.8092 - val_mae: 2.2288\n",
      "Epoch 8/20\n",
      "222/222 [==============================] - 20s 92ms/step - loss: 4.7380 - mae: 1.2098 - val_loss: 8.7582 - val_mae: 2.2036\n",
      "Epoch 9/20\n",
      "222/222 [==============================] - 21s 94ms/step - loss: 4.5144 - mae: 1.1853 - val_loss: 9.3276 - val_mae: 2.3485\n",
      "Epoch 10/20\n",
      "222/222 [==============================] - 20s 92ms/step - loss: 4.1991 - mae: 1.1381 - val_loss: 9.9500 - val_mae: 2.4700\n",
      "Epoch 11/20\n",
      "222/222 [==============================] - 21s 93ms/step - loss: 3.9583 - mae: 1.0986 - val_loss: 10.0942 - val_mae: 2.4987\n",
      "Epoch 12/20\n",
      "222/222 [==============================] - 21s 93ms/step - loss: 3.6758 - mae: 1.0574 - val_loss: 9.5626 - val_mae: 2.4167\n",
      "Epoch 13/20\n",
      "222/222 [==============================] - 21s 94ms/step - loss: 3.9973 - mae: 1.0609 - val_loss: 10.5444 - val_mae: 2.5910\n",
      "Chunk 47/52 // 88.46% Complete // Cycle 1/3\n"
     ]
    },
    {
     "name": "stderr",
     "output_type": "stream",
     "text": [
      "y:\\ML\\Anaconda\\envs\\TF-GPU\\lib\\site-packages\\sklearn\\preprocessing\\_label.py:876: UserWarning: unknown class(es) [' 2K Sports ', ' Cherrymochi ', ' Pieces Interactive ', ' Ubisoft Paris ', '49Games ', 'AGEOD ', 'Acid Nerve ', 'Aspyr', 'Cavedog Entertainment ', 'Cinemaware ', 'Core Design Ltd. ', 'Deadline Games ', 'Dual Effect ', 'Echtra Games', 'Fireart Games ', 'Freebird Games ', 'GRIN', 'Humanature Studios ', 'Iron Lore Entertainment', 'Neversoft Entertainment ', 'OhNoo ', 'Pocketwatch Games ', 'Red Storm Entertainment', 'SMAC Games ', 'Something We Made ', 'Swordtales ', 'Two Tribes ', 'Ubisoft Milan ', 'Ubisoft Singapore ', 'Vicarious Visions ', 'dietzribi '] will be ignored\n",
      "  \"unknown class(es) {0} will be ignored\".format(sorted(unknown, key=str))\n"
     ]
    },
    {
     "name": "stdout",
     "output_type": "stream",
     "text": [
      "Epoch 1/20\n",
      "228/228 [==============================] - 20s 88ms/step - loss: 23.0345 - mae: 3.0200 - val_loss: 18.2092 - val_mae: 3.0397\n",
      "Epoch 2/20\n",
      "228/228 [==============================] - 20s 90ms/step - loss: 9.5433 - mae: 1.7670 - val_loss: 15.7885 - val_mae: 2.8483\n",
      "Epoch 3/20\n",
      "228/228 [==============================] - 21s 91ms/step - loss: 8.8883 - mae: 1.5668 - val_loss: 15.0115 - val_mae: 2.8264\n",
      "Epoch 4/20\n",
      "228/228 [==============================] - 20s 89ms/step - loss: 7.9431 - mae: 1.4456 - val_loss: 15.3495 - val_mae: 2.8996\n",
      "Epoch 5/20\n",
      "228/228 [==============================] - 21s 90ms/step - loss: 7.0226 - mae: 1.3497 - val_loss: 14.7390 - val_mae: 2.8858\n",
      "Epoch 6/20\n",
      "228/228 [==============================] - 21s 91ms/step - loss: 6.4075 - mae: 1.2376 - val_loss: 14.1398 - val_mae: 2.7958\n",
      "Epoch 7/20\n",
      "228/228 [==============================] - 21s 92ms/step - loss: 5.7281 - mae: 1.1513 - val_loss: 14.3833 - val_mae: 2.8411\n",
      "Epoch 8/20\n",
      "228/228 [==============================] - 20s 90ms/step - loss: 5.6683 - mae: 1.1173 - val_loss: 14.6832 - val_mae: 2.8834\n",
      "Epoch 9/20\n",
      "228/228 [==============================] - 20s 89ms/step - loss: 5.4775 - mae: 1.1216 - val_loss: 14.0068 - val_mae: 2.8356\n",
      "Epoch 10/20\n",
      "228/228 [==============================] - 20s 90ms/step - loss: 4.8220 - mae: 1.0392 - val_loss: 14.2024 - val_mae: 2.9099\n",
      "Epoch 11/20\n",
      "228/228 [==============================] - 20s 89ms/step - loss: 5.2513 - mae: 1.0481 - val_loss: 13.8298 - val_mae: 2.8304\n",
      "Epoch 12/20\n",
      "228/228 [==============================] - 20s 89ms/step - loss: 5.0304 - mae: 1.0096 - val_loss: 13.9232 - val_mae: 2.8751\n",
      "Epoch 13/20\n",
      "228/228 [==============================] - 21s 91ms/step - loss: 4.7464 - mae: 0.9834 - val_loss: 14.6320 - val_mae: 2.9383\n",
      "Epoch 14/20\n",
      "228/228 [==============================] - 21s 91ms/step - loss: 4.5405 - mae: 0.9662 - val_loss: 14.6476 - val_mae: 2.9674\n",
      "Epoch 15/20\n",
      "228/228 [==============================] - 20s 88ms/step - loss: 4.4863 - mae: 0.9566 - val_loss: 14.3304 - val_mae: 2.9283\n",
      "Epoch 16/20\n",
      "228/228 [==============================] - 21s 92ms/step - loss: 4.2913 - mae: 0.9573 - val_loss: 14.6422 - val_mae: 2.9754\n",
      "Chunk 48/52 // 90.38% Complete // Cycle 1/3\n"
     ]
    },
    {
     "name": "stderr",
     "output_type": "stream",
     "text": [
      "y:\\ML\\Anaconda\\envs\\TF-GPU\\lib\\site-packages\\sklearn\\preprocessing\\_label.py:876: UserWarning: unknown class(es) [' Blackmill Games ', ' Crenetic Studios ', ' Duality Games ', ' Eurocom ', ' Forever Entertainment ', ' Hotta Studio ', ' ML Enterprises ', ' Mercenary Technologies ', ' Reborn Games Inc. ', ' Revistronic ', ' Soleil Ltd. ', ' Supergonk ', ' Talawa Games ', ' Team Toro ', ' Xeen ', ' btf ', '110 Industries', '258 Productions AB ', '2By3 Games ', '2x2 Games ', '3000AD', 'Action Button Entertainment ', 'Alien Pixel Studios ', 'Artdink ', 'Auran ', 'Backwoods Entertainment ', 'Blue Manchu ', 'BlueGiant Interactive ', 'Brainy Studio LLC ', 'BreakAway Games ', 'Burut Software ', 'Celeris ', 'Chaos Concept ', 'Coldwood Interactive ', 'Cordens Interactive ', 'Cowardly Creations ', 'Crazy Viking Studios ', 'DNS Development ', 'Daydream Software ', 'Deep Red ', 'Devespresso Games ', 'Draw Distance ', 'Duality Studio', 'Dumb and Fat Games ', 'Dynamix ', 'Endless Fluff ', 'Eurocom Entertainment Software', 'Event Horizon Software ', 'Fatbot Games ', 'Feral Interactive ', 'Forever Entertainment S.A.', 'Fragment Production Ltd', 'Frog City Software ', 'Game-Labs ', 'Games Farm ', 'Gatling Goat Studios ', 'Gigawatt Studios ', 'Glass Heart Games ', 'Guild Software ', 'Headup Games', 'High Moon Studios', 'House House ', 'ISOMETRICORP Games ', 'JoyMasher ', 'KT Racing ', 'LEAP Game Studios ', 'Legend Entertainment ', 'Luis Antonio ', 'Luxoflux', 'M2H', 'Maddy Thorson ', 'Magic Design Studios ', 'Naughty Dog', 'Night Dive Studios ', 'Nihilistic ', 'Norsfell ', 'OhNoo ', 'OtherSide Entertainment ', 'Outsider Games ', 'Owlchemy Labs ', 'Pixwerk ', 'Propaganda Games ', 'Proxima Beta Europe B.V.', 'Pterodon ', 'Pyrodactyl Games ', 'Rat King Entertainment ', 'Replay Studios', 'Revistonic', 'Rooster Teeth Games ', 'Sad Owl Studios ', 'SadSquare Studio ', 'SpectreVision ', 'Steel Mantis ', 'Stormling Studios ', 'Strange Loop Games ', 'Studio Pixel Punk ', 'Stygian Software ', 'Subterranean Games ', 'Sukeban Games ', 'Supergonk Ltd.', 'Tate Multimedia ', 'Teotl Studios', 'Terrible Posture Games ', 'Terry Cavanagh ', 'Theta Division ', 'Trepang Studios ', 'Urban Games ', 'Variable State ', 'Visai Games ', 'Wadjet Eye Games ', 'Whatboy Games ', 'Witch Beam ', 'Yukon Wainczak ', 'btf GmbH', 'poncle ', 'timesymmetry ', 'tobyfox '] will be ignored\n",
      "  \"unknown class(es) {0} will be ignored\".format(sorted(unknown, key=str))\n"
     ]
    },
    {
     "name": "stdout",
     "output_type": "stream",
     "text": [
      "Epoch 1/20\n",
      "224/224 [==============================] - 19s 84ms/step - loss: 29.3631 - mae: 3.6445 - val_loss: 20.0853 - val_mae: 2.9576\n",
      "Epoch 2/20\n",
      "224/224 [==============================] - 20s 89ms/step - loss: 16.7056 - mae: 2.5979 - val_loss: 16.4096 - val_mae: 2.6667\n",
      "Epoch 3/20\n",
      "224/224 [==============================] - 20s 90ms/step - loss: 13.8591 - mae: 2.3301 - val_loss: 16.2444 - val_mae: 2.7408\n",
      "Epoch 4/20\n",
      "224/224 [==============================] - 20s 88ms/step - loss: 12.1709 - mae: 2.1345 - val_loss: 17.4564 - val_mae: 2.8877\n",
      "Epoch 5/20\n",
      "224/224 [==============================] - 20s 89ms/step - loss: 10.5678 - mae: 1.9736 - val_loss: 16.9609 - val_mae: 2.9567\n",
      "Epoch 6/20\n",
      "224/224 [==============================] - 20s 88ms/step - loss: 9.4854 - mae: 1.8251 - val_loss: 16.7395 - val_mae: 2.9513\n",
      "Epoch 7/20\n",
      "224/224 [==============================] - 19s 87ms/step - loss: 8.5620 - mae: 1.7435 - val_loss: 17.2356 - val_mae: 3.0474\n",
      "Epoch 8/20\n",
      "224/224 [==============================] - 20s 88ms/step - loss: 8.6668 - mae: 1.6995 - val_loss: 17.0190 - val_mae: 3.0286\n",
      "Chunk 49/52 // 92.31% Complete // Cycle 1/3\n"
     ]
    },
    {
     "name": "stderr",
     "output_type": "stream",
     "text": [
      "y:\\ML\\Anaconda\\envs\\TF-GPU\\lib\\site-packages\\sklearn\\preprocessing\\_label.py:876: UserWarning: unknown class(es) ['Dream Execution ', 'Fatshark AB ', 'GabberGames ', 'Third Wave Games '] will be ignored\n",
      "  \"unknown class(es) {0} will be ignored\".format(sorted(unknown, key=str))\n"
     ]
    },
    {
     "name": "stdout",
     "output_type": "stream",
     "text": [
      "Epoch 1/20\n",
      "212/212 [==============================] - 18s 84ms/step - loss: 10.2845 - mae: 1.6578 - val_loss: 59.6892 - val_mae: 7.4697\n",
      "Epoch 2/20\n",
      "212/212 [==============================] - 18s 86ms/step - loss: 3.9350 - mae: 0.8968 - val_loss: 57.8926 - val_mae: 7.4536\n",
      "Epoch 3/20\n",
      "212/212 [==============================] - 19s 87ms/step - loss: 3.4999 - mae: 0.7879 - val_loss: 61.1658 - val_mae: 7.6714\n",
      "Epoch 4/20\n",
      "212/212 [==============================] - 18s 87ms/step - loss: 3.6152 - mae: 0.7246 - val_loss: 62.4964 - val_mae: 7.7611\n",
      "Epoch 5/20\n",
      "212/212 [==============================] - 19s 88ms/step - loss: 3.0850 - mae: 0.6347 - val_loss: 61.9917 - val_mae: 7.7153\n",
      "Epoch 6/20\n",
      "212/212 [==============================] - 19s 89ms/step - loss: 3.2284 - mae: 0.5926 - val_loss: 65.1766 - val_mae: 7.9305\n",
      "Epoch 7/20\n",
      "212/212 [==============================] - 18s 87ms/step - loss: 3.2298 - mae: 0.5501 - val_loss: 68.1084 - val_mae: 8.1198\n",
      "Chunk 50/52 // 94.23% Complete // Cycle 1/3\n"
     ]
    },
    {
     "name": "stderr",
     "output_type": "stream",
     "text": [
      "y:\\ML\\Anaconda\\envs\\TF-GPU\\lib\\site-packages\\sklearn\\preprocessing\\_label.py:876: UserWarning: unknown class(es) [' Behaviour Interactive ', ' Flashback Games ', ' Toylogic ', 'Auroch Digital ', 'Behaviour Interactive Inc.', 'Black Cactus ', 'Black Lab Games ', 'Bulwark Studios ', 'Chucklefish ', 'Complex Games Inc. ', 'Games Workshop ', 'Gasket Games ', 'Hammerfall Publishing ', 'Kuju Entertainment ', 'Paradox Interactive', 'Pixelated Milk ', 'Playwood Project ', 'Proxy Studios ', 'Rodeo Games ', 'Shiro Games ', 'Strategic Studies Group ', 'Strayllight Entertainment ', 'The Lordz Games Studio', 'Toylogic Inc.', 'Trapdoor '] will be ignored\n",
      "  \"unknown class(es) {0} will be ignored\".format(sorted(unknown, key=str))\n"
     ]
    },
    {
     "name": "stdout",
     "output_type": "stream",
     "text": [
      "Epoch 1/20\n",
      "213/213 [==============================] - 18s 83ms/step - loss: 9.5232 - mae: 1.7084 - val_loss: 36.2917 - val_mae: 5.0338\n",
      "Epoch 2/20\n",
      "213/213 [==============================] - 18s 86ms/step - loss: 4.3980 - mae: 1.1036 - val_loss: 34.3926 - val_mae: 4.8087\n",
      "Epoch 3/20\n",
      "213/213 [==============================] - 17s 82ms/step - loss: 3.4941 - mae: 0.9545 - val_loss: 34.2906 - val_mae: 4.8204\n",
      "Epoch 4/20\n",
      "213/213 [==============================] - 18s 86ms/step - loss: 3.3032 - mae: 0.9106 - val_loss: 34.7235 - val_mae: 4.8916\n",
      "Epoch 5/20\n",
      "213/213 [==============================] - 18s 84ms/step - loss: 2.9892 - mae: 0.8334 - val_loss: 35.4342 - val_mae: 4.9111\n",
      "Epoch 6/20\n",
      "213/213 [==============================] - 19s 88ms/step - loss: 3.0219 - mae: 0.8296 - val_loss: 35.7207 - val_mae: 4.9281\n",
      "Epoch 7/20\n",
      "213/213 [==============================] - 19s 88ms/step - loss: 2.9044 - mae: 0.8001 - val_loss: 36.5207 - val_mae: 5.0247\n",
      "Epoch 8/20\n",
      "213/213 [==============================] - 18s 85ms/step - loss: 2.8846 - mae: 0.8075 - val_loss: 35.0051 - val_mae: 4.9111\n",
      "Chunk 51/52 // 96.15% Complete // Cycle 1/3\n"
     ]
    },
    {
     "name": "stderr",
     "output_type": "stream",
     "text": [
      "y:\\ML\\Anaconda\\envs\\TF-GPU\\lib\\site-packages\\sklearn\\preprocessing\\_label.py:876: UserWarning: unknown class(es) [' In Images ', ' Persha Studia ', ' Visual Concepts ', '5 Lives Studios ', 'Alientrap ', 'Asymmetric Publications ', 'B-Alive ', 'Clifftop Games ', 'Cornered Rat ', 'Deadline Games ', 'Deadpan Games ', 'Different Tales ', 'Dim Bulb Games ', 'Direct Action Games ', 'DotEmu ', 'EVC ', 'Eden Industries ', 'Fast Travel Games ', 'Funomena ', 'G5 Software ', 'Gameyus Interactive ', 'Genius Slackers ', 'Ghost Pattern ', 'Giant Sparrow ', 'GriN Multimedia ', 'Heuristic Park ', 'KT Racing ', 'Knuist & Perzik ', 'Masque Publishing ', 'Mega Cat Studios ', 'Mojiken Studio ', 'Monokel ', 'Moonshark ', 'Night Light Interactive ', 'Nine Rocks Games ', 'OSome Studio ', 'Ostrich Banditos ', 'Ota Imon Studios ', 'Polyslash ', 'Ratbag ', 'Santa Ragione ', 'Silver Wish Games ', 'Sir-Tech Software Inc. ', 'Sneaky Bastards ', 'Snowed In Studios ', 'Studio Drydock Pty Ltd ', 'Synetic ', 'Take-Two Interactive', 'Tasharen Entertainment ', 'The Bitmap Brothers ', 'Third Wire ', 'Tigon ', 'Total Mayhem Games ', 'Triband ', 'Triple Topping Games ', 'Twisted Pixel Games ', 'Upstream Arcade ', 'Vile Monarch ', 'Wastelands Interactive ', 'Whale Rock Games ', 'Wide Games ', 'Winning Streak Games ', 'Wolcen Studio ', 'Wolfeye Studios ', 'Worldwalker Games ', 'Zuxxez', 'imaginarylab '] will be ignored\n",
      "  \"unknown class(es) {0} will be ignored\".format(sorted(unknown, key=str))\n"
     ]
    },
    {
     "name": "stdout",
     "output_type": "stream",
     "text": [
      "Epoch 1/20\n",
      "228/228 [==============================] - 19s 81ms/step - loss: 24.7611 - mae: 3.2592 - val_loss: 19.9282 - val_mae: 3.2007\n",
      "Epoch 2/20\n",
      "228/228 [==============================] - 19s 81ms/step - loss: 13.8782 - mae: 2.3191 - val_loss: 18.8241 - val_mae: 3.1562\n",
      "Epoch 3/20\n",
      "228/228 [==============================] - 19s 82ms/step - loss: 11.1718 - mae: 2.0352 - val_loss: 19.8323 - val_mae: 3.1974\n",
      "Epoch 4/20\n",
      "228/228 [==============================] - 19s 81ms/step - loss: 10.3389 - mae: 1.9257 - val_loss: 17.4181 - val_mae: 3.0849\n",
      "Epoch 5/20\n",
      "228/228 [==============================] - 19s 82ms/step - loss: 9.4484 - mae: 1.8267 - val_loss: 18.2032 - val_mae: 3.1628\n",
      "Epoch 6/20\n",
      "228/228 [==============================] - 19s 81ms/step - loss: 8.9509 - mae: 1.7382 - val_loss: 18.2729 - val_mae: 3.2286\n",
      "Epoch 7/20\n",
      "228/228 [==============================] - 18s 79ms/step - loss: 7.7062 - mae: 1.6284 - val_loss: 18.5628 - val_mae: 3.2445\n",
      "Epoch 8/20\n",
      "228/228 [==============================] - 18s 80ms/step - loss: 7.1181 - mae: 1.5658 - val_loss: 18.8094 - val_mae: 3.2685\n",
      "Epoch 9/20\n",
      "228/228 [==============================] - 18s 80ms/step - loss: 7.7153 - mae: 1.5601 - val_loss: 18.8883 - val_mae: 3.2946\n",
      "Chunk 52/52 // 98.08% Complete // Cycle 1/3\n"
     ]
    },
    {
     "name": "stderr",
     "output_type": "stream",
     "text": [
      "y:\\ML\\Anaconda\\envs\\TF-GPU\\lib\\site-packages\\sklearn\\preprocessing\\_label.py:876: UserWarning: unknown class(es) [' Goldhawk Interactive ', ' KADOKAWA CORPORATION ', ' Lab42 ', ' Mandel ArtPlains ', ' Sumo Digital Academy ', ' comcept ', '1P2P ', 'Ackkstudios ', 'Baroque Decay ', 'Brave at Night ', 'Crocodile Entertainment ', 'Digital Spray Studios', 'EXOR Studios ', 'Gamedust ', 'Gamethunks', 'Impressions Games ', 'Jellyvision ', 'Kadokawa', 'Livesay Technologies ', 'MicroProse ', 'Moonbite Games ', 'NoClip ', 'PlayMagic Ltd ', 'Prideful Sloth ', 'Rimlight Studios ', 'Ruud Koorevaar ', 'Ryu ga Gotoku Studios', 'Simogo ', 'Spark Unlimited', 'Spike Chunsoft ', 'Sumo Digital', 'Unicorn Games Studio ', 'Villa Gorilla ', 'WXP ', 'frecle ApS '] will be ignored\n",
      "  \"unknown class(es) {0} will be ignored\".format(sorted(unknown, key=str))\n"
     ]
    },
    {
     "name": "stdout",
     "output_type": "stream",
     "text": [
      "Epoch 1/20\n",
      "77/77 [==============================] - 7s 82ms/step - loss: 36.3095 - mae: 3.5955 - val_loss: 54.0826 - val_mae: 5.2537\n",
      "Epoch 2/20\n",
      "77/77 [==============================] - 6s 82ms/step - loss: 20.8335 - mae: 2.5803 - val_loss: 49.0664 - val_mae: 5.0302\n",
      "Epoch 3/20\n",
      "77/77 [==============================] - 6s 79ms/step - loss: 21.3664 - mae: 2.4760 - val_loss: 45.6960 - val_mae: 4.9295\n",
      "Epoch 4/20\n",
      "77/77 [==============================] - 6s 82ms/step - loss: 15.4885 - mae: 2.2594 - val_loss: 48.4645 - val_mae: 5.1834\n",
      "Epoch 5/20\n",
      "77/77 [==============================] - 6s 81ms/step - loss: 11.1403 - mae: 1.8713 - val_loss: 48.0068 - val_mae: 5.2155\n",
      "Epoch 6/20\n",
      "77/77 [==============================] - 6s 79ms/step - loss: 12.7592 - mae: 1.9331 - val_loss: 48.0492 - val_mae: 4.9769\n",
      "Epoch 7/20\n",
      "77/77 [==============================] - 6s 80ms/step - loss: 12.1077 - mae: 1.8325 - val_loss: 47.3631 - val_mae: 5.1321\n",
      "Epoch 8/20\n",
      "77/77 [==============================] - 6s 83ms/step - loss: 11.2719 - mae: 1.7643 - val_loss: 45.5230 - val_mae: 4.9532\n",
      "Epoch 9/20\n",
      "77/77 [==============================] - 6s 83ms/step - loss: 9.8534 - mae: 1.6292 - val_loss: 47.0752 - val_mae: 5.0555\n",
      "Epoch 10/20\n",
      "77/77 [==============================] - 6s 81ms/step - loss: 8.4849 - mae: 1.5636 - val_loss: 45.7811 - val_mae: 5.0012\n",
      "Epoch 11/20\n",
      "77/77 [==============================] - 6s 79ms/step - loss: 10.3808 - mae: 1.6134 - val_loss: 47.7151 - val_mae: 5.0757\n",
      "Epoch 12/20\n",
      "77/77 [==============================] - 6s 78ms/step - loss: 10.6863 - mae: 1.6497 - val_loss: 46.9306 - val_mae: 4.9453\n",
      "Epoch 13/20\n",
      "77/77 [==============================] - 6s 81ms/step - loss: 10.5763 - mae: 1.5526 - val_loss: 47.1458 - val_mae: 5.0797\n",
      "Chunk 1/52 // 0.0% Complete // Cycle 2/3\n"
     ]
    },
    {
     "name": "stderr",
     "output_type": "stream",
     "text": [
      "y:\\ML\\Anaconda\\envs\\TF-GPU\\lib\\site-packages\\sklearn\\preprocessing\\_label.py:876: UserWarning: unknown class(es) [' Arzest', ' Atlantis Interactive Entertainment ', ' Avalanche Software ', ' Balan Company ', ' Bird Bath Games ', ' Cape Guy ', ' Dlala Studios ', ' Eurocom ', ' Forgotten Key ', ' Gone North Games ', ' Innersloth ', ' Massive Entertainment', ' Viva Media', ' bitComposer ', ' iNK Stories ', '2K Games ', '3000AD', '3D People ', 'A44 ', 'AGEOD ', 'AWE Games ', 'Accidental Queens ', 'Acclaim Studios Cheltenham ', 'Acme Gamestudio ', 'Aeternum Game Studios ', 'Alan Zucconi ', 'Alientrap ', 'Analgesic Productions ', 'Anarteam ', 'Arcen Games', 'Argonaut Games ', 'Armature Studio ', 'Artematica ', 'Artisan Studios ', 'Arxel Tribe ', 'Atlantis Interactive Entertainment\\t', 'AtomTeam ', 'Auran ', 'Auroch Digital ', 'Aurogon Shanghai ', 'AurumDust ', 'Balancing Monkey Games ', 'Bedtime Digital Games ', 'Benjamin Rivers ', 'BestGameEver.com ', 'Big Ant Studios ', 'Big Boat Interactive ', 'Bit Blot ', 'Black Element ', 'Black Lab Games ', 'Blackpowder Games  ', 'Blendo Games ', 'Bojan Brbora ', 'BreakAway Games ', 'Breaking Walls ', 'Broken Rules ', 'BumbleBeast ', 'CE-Asia ', 'Capy Games ', 'Cauldron Ltd. ', 'Causal Bit Games ', 'Centauri Production ', 'Charles University ', 'ClockStone Studio ', 'Cold Iron Studios ', 'Cosmo D Studios ', 'CreativeForge Games ', 'Cross-Product ', 'Cryo Interactive ', 'Daedalic Entertainment', 'Daniel Wynne', 'Data Becker ', 'Dejobaan Games ', 'Demruth ', 'Denki ', 'Digital Arrow ', 'Digital Eclipse ', 'Digital Fusion Inc. ', 'Digixart Entertainment ', 'Dreampainters ', 'E-Line Media ', 'Edelweiss ', 'EggNut ', 'Eidos Interactive ', 'Elden Pixels ', 'Emobi Games ', 'Etranges Libellules ', 'Eurocom Entertainment Software', 'Eutechnyx ', 'Exiin ', 'Exordium Games ', 'Fallen Tree Games ', 'FarmerGnome ', 'Fiction Factory Games ', 'FreakZone ', 'Freebird Games ', 'Funselektor Labs Inc. ', 'Future Games', 'GUTS Department ', 'Gabe Cuzzillo ', 'Gaijin Games ', 'GameDesignDan ', 'Gato Salvaje Studio ', 'Gloomywood ', 'GlyphX Games ', 'GoodbyeWorld Games ', 'Grundislav Games ', 'Gummy Cat ', 'Gust ', 'Halberd Studios ', 'Harebrained Schemes LLC ', 'Harmonix Music Systems ', 'Hazardous Software  ', 'Hempuli Oy ', 'Hi-Bit Studios ', 'Hiding Spot ', 'Himalaya Studios ', 'Hyperbolic Magnetism ', 'INTERIOR/NIGHT ', 'Iceberg Interactive ', 'Indefatigable ', 'Innerspace VR ', 'Investigate North ', 'Invictus ', 'Iridium Studios ', \"It's Anecdotal \", 'Jacob Antonucci', 'Jagex Games Studio ', 'Jankenteam ', 'Jutsu Games ', 'Khaeon ', \"Kiro'o Games \", 'Krams Design ', 'Kubat Software ', 'Lamplight Studios ', 'League of Geeks ', 'Lienzo ', 'Lightning Rod Games ', 'Lince Works ', 'Lost Toys ', 'LuckyHammers ', 'Lumenox ehf ', 'Lunar Great Wall Studios ', 'MadMinute Games ', 'Made by Kiddies ', 'Magnum Games ', 'Massive Development ', 'Max Inferno ', 'Maximum Games ', 'MidBoss ', 'Midway Studios - Austin ', 'Mischief ', 'Misfits Attic ', 'Mojiken Studio ', 'Mothership Entertainment ', 'MyDearest ', 'N-Fusion Interactive Entertainment Corp.', 'NExT Studios ', 'NHN Corporation ', 'NetDevil ', 'Nicolas Intoxicate ', 'Ntronium Games ', 'Overhype Studios ', 'Oxide Games ', 'Panther Games ', 'Pathos Interactive ', 'Pencil Test Studios ', 'Peter Stock ', 'Piccolo ', 'Pixel Crow ', 'Planet Moon Studios ', 'Plausible Concept ', 'Point 5 Projects  ', 'Primal Software ', 'Project Aces ', 'Project Aces  ', 'Pulse Entertainment ', 'Punch Punk Games ', 'Pure FPS ', 'RageSquid ', 'RainDance LX ', 'Rare Ltd.', 'Rayland Interactive ', 'Realtime Worlds ', 'Related Designs ', 'Resolution Games ', 'Revolution of Strategy ', 'Ritual Entertainment', 'Robot Gentleman ', 'Rogue Entertainment ', 'S&G Software ', 'Sandbox Interactive ', 'Sanzaru ', 'Schell Games', 'Shadow Tor Studios ', 'ShadowRage ', 'Shining Rock Software ', 'Shockwave Productions ', 'Sigma Team ', 'Silver Lining Studio ', 'Silvio & Gey Savarese ', 'Similis ', 'Sketchy Logic ', 'Skydance Interactive ', 'Sloclap ', 'Sobaka ', 'Spiderweb Software ', 'Spike Chunsoft ', 'Spiral House ', 'Sports Mogul ', 'Stormind Games ', 'Streko-Graphics Inc. ', 'Stunlock Studios ', 'Sunflowers Interactive ', 'System Era Softworks ', 'THE BROTHERHOOD ', 'Tale of Tales ', 'Tantalus ', 'Team Junkfish ', 'The Behemoth ', 'The Wandering Band LLC ', 'The Wandering Ben ', 'ThinkingStars ', 'Third Law Interactive ', 'Threaks ', 'Three One Zero ', 'Throw the Warped Code Out ', 'TicToc Games ', 'Tim Conkling ', 'Tindalos Interactive ', 'Tom Happ ', 'Treyarch', 'Tri Synergy ', 'Turmoil Games ', 'Twice Circled ', 'U.S. Army ', 'Ubisoft Bordeaux ', 'Ubisoft Singapore ', 'Ubisoft Sofia ', 'Unexpected ', 'Unspeakable Pixels ', 'Vagabond Dog ', 'Varsav Game Studios ', 'Vertigo Games ', 'Warsaw Film School Video Game & Film Production Studio ', 'Wayward Simulations ', 'Witch Beam ', 'WorldForge ', \"Yuke's \", 'Zeal Game Studios ', 'adamgryu ', 'bitComposer Games', 'idoz & phops ', 'inkle', 'tiger & squid ', 'ustwo '] will be ignored\n",
      "  \"unknown class(es) {0} will be ignored\".format(sorted(unknown, key=str))\n"
     ]
    },
    {
     "name": "stdout",
     "output_type": "stream",
     "text": [
      "Epoch 1/20\n",
      "239/239 [==============================] - 19s 78ms/step - loss: 61.1549 - mae: 5.8510 - val_loss: 41.6913 - val_mae: 4.8846\n",
      "Epoch 2/20\n",
      "239/239 [==============================] - 19s 79ms/step - loss: 43.2347 - mae: 4.9803 - val_loss: 38.9529 - val_mae: 4.6095\n",
      "Epoch 3/20\n",
      "239/239 [==============================] - 19s 80ms/step - loss: 37.8453 - mae: 4.6886 - val_loss: 33.8180 - val_mae: 4.4344\n",
      "Epoch 4/20\n",
      "239/239 [==============================] - 19s 80ms/step - loss: 34.4377 - mae: 4.4584 - val_loss: 29.2589 - val_mae: 4.0159\n",
      "Epoch 5/20\n",
      "239/239 [==============================] - 19s 81ms/step - loss: 33.4366 - mae: 4.3357 - val_loss: 28.8330 - val_mae: 4.0721\n",
      "Epoch 6/20\n",
      "239/239 [==============================] - 19s 79ms/step - loss: 32.1656 - mae: 4.2796 - val_loss: 29.3981 - val_mae: 3.9545\n",
      "Epoch 7/20\n",
      "239/239 [==============================] - 19s 79ms/step - loss: 30.0705 - mae: 4.1033 - val_loss: 28.7495 - val_mae: 3.9074\n",
      "Epoch 8/20\n",
      "239/239 [==============================] - 19s 79ms/step - loss: 28.2111 - mae: 3.9692 - val_loss: 29.0266 - val_mae: 3.9299\n",
      "Epoch 9/20\n",
      "239/239 [==============================] - 19s 81ms/step - loss: 28.4239 - mae: 3.9673 - val_loss: 29.5166 - val_mae: 3.9755\n",
      "Epoch 10/20\n",
      "239/239 [==============================] - 19s 80ms/step - loss: 26.7442 - mae: 3.8278 - val_loss: 26.5298 - val_mae: 3.7642\n",
      "Epoch 11/20\n",
      "239/239 [==============================] - 19s 78ms/step - loss: 26.5034 - mae: 3.8278 - val_loss: 27.2156 - val_mae: 3.7983\n",
      "Epoch 12/20\n",
      "239/239 [==============================] - 19s 78ms/step - loss: 25.6950 - mae: 3.7559 - val_loss: 27.0608 - val_mae: 3.8034\n",
      "Epoch 13/20\n",
      "239/239 [==============================] - 19s 81ms/step - loss: 24.7968 - mae: 3.6821 - val_loss: 26.5926 - val_mae: 3.7724\n",
      "Epoch 14/20\n",
      "239/239 [==============================] - 19s 80ms/step - loss: 24.0580 - mae: 3.5734 - val_loss: 25.5145 - val_mae: 3.6164\n",
      "Epoch 15/20\n",
      "239/239 [==============================] - 19s 80ms/step - loss: 24.0435 - mae: 3.6261 - val_loss: 24.7606 - val_mae: 3.5992\n",
      "Epoch 16/20\n",
      "239/239 [==============================] - 19s 79ms/step - loss: 24.3351 - mae: 3.5948 - val_loss: 25.9180 - val_mae: 3.6770\n",
      "Epoch 17/20\n",
      "239/239 [==============================] - 19s 81ms/step - loss: 22.9687 - mae: 3.4885 - val_loss: 24.8171 - val_mae: 3.6327\n",
      "Epoch 18/20\n",
      "239/239 [==============================] - 18s 77ms/step - loss: 21.9387 - mae: 3.4322 - val_loss: 26.9010 - val_mae: 3.7193\n",
      "Epoch 19/20\n",
      "239/239 [==============================] - 19s 81ms/step - loss: 21.6837 - mae: 3.4203 - val_loss: 24.6366 - val_mae: 3.6682\n",
      "Epoch 20/20\n",
      "239/239 [==============================] - 19s 78ms/step - loss: 20.6008 - mae: 3.3337 - val_loss: 22.8247 - val_mae: 3.3666\n",
      "Chunk 2/52 // 1.92% Complete // Cycle 2/3\n"
     ]
    },
    {
     "name": "stderr",
     "output_type": "stream",
     "text": [
      "y:\\ML\\Anaconda\\envs\\TF-GPU\\lib\\site-packages\\sklearn\\preprocessing\\_label.py:876: UserWarning: unknown class(es) ['Application', 'Cricket', 'Trainer'] will be ignored\n",
      "  \"unknown class(es) {0} will be ignored\".format(sorted(unknown, key=str))\n",
      "y:\\ML\\Anaconda\\envs\\TF-GPU\\lib\\site-packages\\sklearn\\preprocessing\\_label.py:876: UserWarning: unknown class(es) [' 10tons ', ' Cranberry Production ', ' Deep Silver Fishlabs ', ' Digital Eclipse ', ' EA Games ', ' Elbow Rocket ', ' FAKT Software ', ' FireFly Studios ', ' Funatics ', ' Funatics Software', ' ICEBOX Studios ', ' LLC', ' LandFall ', ' Moonbyte Studios ', ' Navarre Corp ', ' Nival ', ' Out of the Blue Games S.L. ', ' Overflow Games ', ' Phosphor Games ', ' Polar Motion ', ' RA Images ', ' Reality Twist ', ' Relentless Studios ', ' S.L. ', ' Sega', ' Slitherine Group', ' Ste Curran ', '10tons Entertainment', '369 Interactive ', 'A Crowd of Monsters ', 'Aarne \"MekaSkull\" Hunziker ', 'Access Games ', 'Action Forms Ltd. ', 'Activision ', 'Alientrap ', 'Alt Shift ', 'Amanita Design ', 'Apeiron ', 'Argonaut Games', 'Artematica ', 'Ascension Studios', 'Asylum Entertainment ', 'Atomic Games ', 'Awe Interactive ', 'Backbone Entertainment ', 'Beautiful Game Studios ', 'Behold Studios ', 'Big Time Software ', 'Bigmoon Entertainment ', 'Black Mesa Modification Team ', 'Blooming Buds Studio ', 'Blue Manchu ', 'Blue Omega ', 'BootdiskRevolution ', 'Boxed Dream ', 'Brace Yourself Games ', 'Brat Designs ', 'BreakAway Games ', 'Butterscotch Shenanigans ', 'Bytten Studio ', 'Cardboard Utopia ', 'Casus Ludi ', 'Cavia Inc. ', 'Cinemax', 'ClockStone Studio ', 'Coilworks ', 'Convoy Games ', 'Corbie Games ', 'Cranberry Studios ', 'Crazy Rocks ', 'Creative Edge Software ', 'Cygnus Entertainment ', \"D'Avekki Studios Limited \", 'DANG! ', 'DTP Entertainment', 'Darkling Room ', 'Darkworks ', 'Data Realms ', 'Deep Shadows ', 'Destineer ', 'Dimfrost ', 'Discord Games ', 'Double Stallion Games ', 'Drama Drifters ', 'Dreams Uncorporated ', 'Dreamworks Games ', 'EA Bright Light ', 'EA Pacific ', 'EasyGameStation ', 'Eden Industries ', 'Elf Games ', 'Elseware Experience ', 'Erik Svedang ', 'Expansive Worlds ', 'Explosm ', 'Eyebrow Interactive ', 'FAKT Software ', 'FAKT Software GmBH', 'FYQD-Studio ', 'Fever Pitch Studios ', 'Firaxis Games', 'Fishlabs', 'Flying Cafe for Semianimals ', 'Focus Home Interactive ', 'Fourattic ', 'Free Lives ', 'Funatics Development GmbH', 'G5 Software ', 'Gaijin Games ', 'Gaslamp Games ', 'General Interactive Co. ', 'Greg Lobanov ', 'Gust ', 'Headfirst Productions ', 'Hibernian Workshop ', 'Hothouse Creations ', 'ION LANDS ', 'Ice-Pick Lodge ', 'InGame Studios ', 'Interceptor Entertainment ', 'Interdimensional Games Inc ', 'Inti Creates ', 'Investigate North Aps ', 'Invictus ', 'Jagex Games Studio ', 'Jason Oda ', 'Jasozz Games ', 'JoyMasher ', 'Jump Over The Age ', 'Kitfox Games ', 'Kraken Unleashed ', 'Krome Studios ', 'La Plata ', 'LandFall Games', 'Lazy 8 Studios ', 'Logic Artists ', 'Long Hat House ', 'MASA Group ', 'Mad Mimic ', 'Maddy Makes Games ', 'Mages. ', 'Marvelous First Studio ', 'Maschinen-Mensch ', 'Massive Monster ', 'Matt Kap ', 'Mattel ', 'Matthias Linda ', 'Midway Studios - Austin ', 'Mighty Kingdom ', 'Mighty Rabbit Studios ', 'Mindware Studios ', 'Momentum DMT ', 'Morteshka ', 'Mythic Entertainment ', 'NExT Studios ', 'Nerial ', 'Nival Interactive', 'Nova Production ', 'Original Fire Games ', 'Out of the Blue', 'Oxeye ', 'PETOONS STUDIO SL ', 'Paper Cult ', 'PaperSeven ', 'Paragon Studios ', 'Passtech Games ', 'Petri Purho ', 'Phobia Game Studio ', 'Phoenix Online Studios ', 'Phosphor Games Studio', 'Pixel Multimedia ', 'Playwing ', 'PortaPlay ', 'Psychodev ', 'Punchers Impact ', 'Puppy Punch Productions ', 'Puuba ', 'Pyramid ', 'Quotix Software ', 'Radical Fish Games ', 'Reality Twist GmbH', 'Rebel Act Studios ', 'RedRuins Softworks ', 'Replay Studios', 'Richard Hofmeier ', 'Robi Studios ', 'Ronimo Games ', 'RuneHeads ', 'Runner Duck ', 'Sand Sailor Studio ', 'Scientifically Proven ', 'Serious Brew ', 'Sierra Entertainment ', 'Skilltree Studios ', 'Slitherine', 'Snapshot Games Inc. ', 'SomaSim ', 'Sonalysts ', 'Spike Chunsoft ', 'Spotlightor Interactive ', 'Spry Fox ', 'Stellar Jockeys ', 'Stickmen Studios ', 'Still Alive Studios ', 'Storm in a Teacup ', 'Stormcloud Creations ', 'Stunlock Studios ', 'Sumo Digital', 'Sunhead Games ', 'Sunstorm Interactive ', 'SuperScarySnakes ', 'Swing Swing Submarine ', 'Sword & Axe LLC ', 'Synetic ', 'TRAGsoft ', 'Tag of Joy ', 'Targem Games ', 'Team Reptile ', 'Teku Studios  ', 'The Gentlebros ', 'The Moonwalls ', 'The Parasight ', 'The Pixel Hunt ', 'The Wild Gentlemen ', 'Thing Trunk ', 'Three Fields Entertainment ', 'Toge Productions ', 'Torus Games ', 'Toys for Bob ', 'Triangle Studios ', 'Troglobytes Games', 'Twistplay', 'Uppercut Games Pty Ltd ', 'V7 Entertainment Inc. ', 'Various ', 'Vicarious Visions', 'Vile Monarch ', 'Vogster ', 'Wadjet Eye Games', 'Weather Factory ', 'White Paper Games ', 'XXV Productions ', 'Yippee Entertainment LTD ', 'Zeboyd Games ', 'Zipper Interactive ', 'Zoetrope Interactive ', 'osao games ', 'stillalive studios '] will be ignored\n",
      "  \"unknown class(es) {0} will be ignored\".format(sorted(unknown, key=str))\n"
     ]
    },
    {
     "name": "stdout",
     "output_type": "stream",
     "text": [
      "Epoch 1/20\n",
      "238/238 [==============================] - 19s 79ms/step - loss: 44.5365 - mae: 5.1600 - val_loss: 43.7520 - val_mae: 5.3897\n",
      "Epoch 2/20\n",
      "238/238 [==============================] - 19s 80ms/step - loss: 35.9184 - mae: 4.6446 - val_loss: 38.1270 - val_mae: 5.0025\n",
      "Epoch 3/20\n",
      "238/238 [==============================] - 19s 81ms/step - loss: 32.7898 - mae: 4.3585 - val_loss: 34.9062 - val_mae: 4.7813\n",
      "Epoch 4/20\n",
      "238/238 [==============================] - 19s 80ms/step - loss: 30.7624 - mae: 4.2304 - val_loss: 33.2317 - val_mae: 4.6183\n",
      "Epoch 5/20\n",
      "238/238 [==============================] - 19s 80ms/step - loss: 28.9082 - mae: 4.0679 - val_loss: 30.7268 - val_mae: 4.4867\n",
      "Epoch 6/20\n",
      "238/238 [==============================] - 19s 79ms/step - loss: 26.8626 - mae: 3.9207 - val_loss: 30.2847 - val_mae: 4.3650\n",
      "Epoch 7/20\n",
      "238/238 [==============================] - 19s 81ms/step - loss: 26.0631 - mae: 3.8338 - val_loss: 26.6506 - val_mae: 4.0878\n",
      "Epoch 8/20\n",
      "238/238 [==============================] - 19s 81ms/step - loss: 24.7624 - mae: 3.7348 - val_loss: 25.6017 - val_mae: 3.9618\n",
      "Epoch 9/20\n",
      "238/238 [==============================] - 19s 80ms/step - loss: 25.4125 - mae: 3.7466 - val_loss: 27.1093 - val_mae: 4.1093\n",
      "Epoch 10/20\n",
      "238/238 [==============================] - 18s 78ms/step - loss: 23.9058 - mae: 3.6592 - val_loss: 25.4731 - val_mae: 3.9950\n",
      "Epoch 11/20\n",
      "238/238 [==============================] - 19s 80ms/step - loss: 22.8390 - mae: 3.5617 - val_loss: 23.3165 - val_mae: 3.7424\n",
      "Epoch 12/20\n",
      "238/238 [==============================] - 19s 79ms/step - loss: 21.5052 - mae: 3.4541 - val_loss: 22.9192 - val_mae: 3.7944\n",
      "Epoch 13/20\n",
      "238/238 [==============================] - 19s 79ms/step - loss: 21.3243 - mae: 3.4368 - val_loss: 22.7897 - val_mae: 3.7402\n",
      "Epoch 14/20\n",
      "238/238 [==============================] - 18s 77ms/step - loss: 21.1128 - mae: 3.4089 - val_loss: 23.2444 - val_mae: 3.7554\n",
      "Epoch 15/20\n",
      "238/238 [==============================] - 19s 79ms/step - loss: 21.3118 - mae: 3.4368 - val_loss: 22.1657 - val_mae: 3.6555\n",
      "Epoch 16/20\n",
      "238/238 [==============================] - 19s 79ms/step - loss: 20.1476 - mae: 3.3165 - val_loss: 20.9137 - val_mae: 3.4943\n",
      "Epoch 17/20\n",
      "238/238 [==============================] - 19s 79ms/step - loss: 19.2618 - mae: 3.2434 - val_loss: 21.6227 - val_mae: 3.6482\n",
      "Epoch 18/20\n",
      "238/238 [==============================] - 19s 79ms/step - loss: 19.1799 - mae: 3.2376 - val_loss: 22.1776 - val_mae: 3.6415\n",
      "Epoch 19/20\n",
      "238/238 [==============================] - 19s 78ms/step - loss: 19.1511 - mae: 3.2217 - val_loss: 20.9458 - val_mae: 3.5540\n",
      "Epoch 20/20\n",
      "238/238 [==============================] - 19s 78ms/step - loss: 18.8927 - mae: 3.2188 - val_loss: 21.4840 - val_mae: 3.5919\n",
      "Chunk 3/52 // 3.85% Complete // Cycle 2/3\n"
     ]
    },
    {
     "name": "stderr",
     "output_type": "stream",
     "text": [
      "y:\\ML\\Anaconda\\envs\\TF-GPU\\lib\\site-packages\\sklearn\\preprocessing\\_label.py:876: UserWarning: unknown class(es) ['Text'] will be ignored\n",
      "  \"unknown class(es) {0} will be ignored\".format(sorted(unknown, key=str))\n",
      "y:\\ML\\Anaconda\\envs\\TF-GPU\\lib\\site-packages\\sklearn\\preprocessing\\_label.py:876: UserWarning: unknown class(es) [' A Jolly Corpse ', ' Alex May ', ' Capcom Vancouver ', ' Digital Leisure ', ' Dose', ' Dreadlocks ', ' Eighting ', ' Eurocom ', ' Foreign Gnomes ', ' FunHouse ', ' Kitty', ' Koei Tecmo Games ', ' Live Wire ', ' Ltd. ', ' Mobigame ', ' Rabbit & Bear Studios ', ' Red Winter Software ', ' Sky Fallen', ' and JW ', '1C:Ino-Co ', '3D Realms ', '4Head Studios ', '5-Bits Games ', '7 Studios ', '8Monkey Labs ', 'Access Games ', 'Acid Nerve ', 'Acid Wizard Studio ', 'Afterburner Studios ', 'Allgraf ', 'Amaze Entertainment ', 'Ankama Games ', 'ArachnidGames ', 'Arc System Works', 'Artematica ', 'AtomicTorch ', 'Attention To Detail ', 'Avalanche Software ', 'Barking Dog ', 'Bay 12 Games ', 'Bedlam Games ', 'Ben Esposito ', 'Biart ', 'Bippinbits ', 'Bithell Games ', 'Black Salt Games ', 'Blue Castle Games ', 'Boston Animation ', 'BreakAway Games ', 'Buka Entertainment ', 'Byterunners Game Studio ', 'CCCP ', 'COWCAT ', 'Canal+ Multimedia ', 'Cave ', 'Chaosmonger Studio ', 'Chris Nordgren', 'Chromatic Games ', 'Code Force ', 'Coin Crew Games ', 'Cosmonaut Studios ', 'Critical Studio ', 'Ctrl Alt Ninja Ltd. ', 'Cube Roots ', 'DESTINYbit ', 'DNS Development ', 'Dancing Dragon games ', 'Dark Crystal Games ', 'Digital Confectioners ', 'Digital Happiness ', 'Digital Leisure Inc.', 'Digital Lode ', 'Digitalo Studios ', 'Dimps Corporation ', 'Disney Interactive Studios ', 'DoubleBear Productions ', 'Dreadlocks Ltd', 'Dykast Lubomir ', 'Eastshade Studios ', 'Elder Games ', 'Erik Svedang ', 'Eurocom Entertainment Software', 'Fabraz ', 'Fallen Flag Studio ', 'Fictiorama Studios ', 'Fireplace Games ', 'Fishing Cactus ', 'Foregone ', 'Frima Studio ', 'Frozen line ', 'Game Grumps ', 'Gameyus Interactive ', 'Gaslamp Games ', 'Gentlymad ', 'Ghost Ship Games ', 'Haggard Games ', 'Heavy Iron Studios', 'Herobeat Studios ', 'Heuristic Park ', 'Hitbox  ', 'Holospark ', 'Honig Studios ', 'HyperSloth ', 'Ikarion ', 'Illwinter Design Group ', 'Innonics ', 'Instant Kingdom ', 'Invader Studios ', 'Jesse Makkonen ', 'KUNO INTERACTIVE ', 'KillHouse Games ', 'Layopi Games ', 'Live Wire Films', 'Ludus future ', 'MINT ROCKET ', 'Madruga Works ', 'MagicalTimeBean ', 'Mantra ', 'Massive Work Studio ', 'Matias Schmied ', 'Midgar Studio ', 'Mike Studios ', 'Mindware Studios ', 'Minor Key Games ', 'Misfits Attic ', 'Moppin ', 'Most Wanted Entertainment ', 'Motion Twin ', 'Muro Studios Ltd. ', 'NATSUME ATARI Inc.', 'Namco ', 'Namco Bandai Games ', 'Nerve Software ', 'New Blood Interactive ', 'Nfusion ', 'Nippon Ichi Software ', 'Ocelot Society ', 'Omega Force', 'Oscar Brittain ', 'Outrage Games ', 'Owlchemy Labs ', 'PD Design Studio Pte Ltd ', 'Paleo Entertainment ', 'Parallax Software ', 'Pathea Games ', 'Piranha Games ', 'Pixel Night ', 'Pixpil ', 'Plastic Reality ', 'Pocket Trap ', 'Popcannibal ', 'Positech Games ', 'Propaganda Games ', 'QCF Design ', 'ROCKFISH Games ', 'Radon Labs ', 'Rage Software ', 'RageSquid ', 'Raspina Studio ', 'Ratbag ', 'Razorworks ', 'Red Candle Games ', 'Red Thread Games ', 'Red Winter Software Limited', 'Reflections Interactive ', 'Related Designs ', 'Resolution Games ', 'Rudolf Kremers', 'Runewaker Entertainment ', 'Scavengers Studio ', 'Seaven Studio ', 'Secret Base ', 'Shaba Games ', 'Silent Grove Studios ', 'Sirius Games ', 'Sixteen Tons Entertainment ', 'Sky Fallen ', 'Snowhound Games ', 'Soldak Entertainment ', 'Sorath ', 'Sourcenext ', 'Stickmen Studios ', 'Storm in a Teacup ', 'Stormfront Studios ', 'Streko-Graphics Inc. ', 'Studio V ', 'Sundae Month ', 'Sunstorm Interactive ', 'T19 Games ', 'Team Ninja', 'Team Salvato ', 'Tendershoot', 'Terri', 'Terry Cavanagh ', 'Tesseraction Games ', 'The Chinese Room ', 'Tindalos Interactive ', 'TopWare Interactive ', 'Toukana Interactive ', 'Twisted Pixel Games ', 'Two Tribes', 'Ubisoft Montreal', 'Ultimation Inc. ', 'Ultra Ultra ', 'Un Je Ne Sais Quoi ', 'Unfold Games ', 'V1 Interactive ', 'ValuSoft ', 'Vicious Cycle ', 'White Paper Games ', 'White Rabbit Interactive ', 'Z-Axis', 'Zachtronics Industries ', 'Zoetrope Interactive ', 'Zuxxez ', 'i-illusions '] will be ignored\n",
      "  \"unknown class(es) {0} will be ignored\".format(sorted(unknown, key=str))\n"
     ]
    },
    {
     "name": "stdout",
     "output_type": "stream",
     "text": [
      "Epoch 1/20\n",
      "238/238 [==============================] - 19s 77ms/step - loss: 47.0155 - mae: 5.2068 - val_loss: 49.0509 - val_mae: 5.6263\n",
      "Epoch 2/20\n",
      "238/238 [==============================] - 19s 78ms/step - loss: 38.6563 - mae: 4.6966 - val_loss: 42.8730 - val_mae: 5.1945\n",
      "Epoch 3/20\n",
      "238/238 [==============================] - 19s 80ms/step - loss: 35.0634 - mae: 4.4523 - val_loss: 39.4760 - val_mae: 5.0525\n",
      "Epoch 4/20\n",
      "238/238 [==============================] - 21s 90ms/step - loss: 32.7364 - mae: 4.2780 - val_loss: 42.3225 - val_mae: 5.3092\n",
      "Epoch 5/20\n",
      "238/238 [==============================] - 19s 78ms/step - loss: 30.7464 - mae: 4.1034 - val_loss: 35.4016 - val_mae: 4.7871\n",
      "Epoch 6/20\n",
      "238/238 [==============================] - 19s 79ms/step - loss: 29.9847 - mae: 4.0671 - val_loss: 37.7903 - val_mae: 4.9815\n",
      "Epoch 7/20\n",
      "238/238 [==============================] - 18s 78ms/step - loss: 28.0453 - mae: 3.9172 - val_loss: 33.7120 - val_mae: 4.5889\n",
      "Epoch 8/20\n",
      "238/238 [==============================] - 19s 79ms/step - loss: 27.3650 - mae: 3.8413 - val_loss: 33.0576 - val_mae: 4.6459\n",
      "Epoch 9/20\n",
      "238/238 [==============================] - 19s 78ms/step - loss: 25.7683 - mae: 3.7681 - val_loss: 33.7237 - val_mae: 4.6869\n",
      "Epoch 10/20\n",
      "238/238 [==============================] - 18s 77ms/step - loss: 24.9401 - mae: 3.6836 - val_loss: 32.1622 - val_mae: 4.5456\n",
      "Epoch 11/20\n",
      "238/238 [==============================] - 19s 79ms/step - loss: 24.0809 - mae: 3.5973 - val_loss: 30.8950 - val_mae: 4.4479\n",
      "Epoch 12/20\n",
      "238/238 [==============================] - 18s 77ms/step - loss: 24.4840 - mae: 3.6223 - val_loss: 30.3301 - val_mae: 4.3891\n",
      "Epoch 13/20\n",
      "238/238 [==============================] - 19s 78ms/step - loss: 22.9167 - mae: 3.4932 - val_loss: 32.7740 - val_mae: 4.5828\n",
      "Epoch 14/20\n",
      "238/238 [==============================] - 19s 78ms/step - loss: 22.5206 - mae: 3.4630 - val_loss: 30.9296 - val_mae: 4.4128\n",
      "Epoch 15/20\n",
      "238/238 [==============================] - 18s 77ms/step - loss: 22.1896 - mae: 3.4135 - val_loss: 28.2384 - val_mae: 4.2714\n",
      "Epoch 16/20\n",
      "238/238 [==============================] - 18s 76ms/step - loss: 22.2491 - mae: 3.4439 - val_loss: 28.5687 - val_mae: 4.2658\n",
      "Epoch 17/20\n",
      "238/238 [==============================] - 18s 76ms/step - loss: 22.0741 - mae: 3.4042 - val_loss: 31.7794 - val_mae: 4.5330\n",
      "Epoch 18/20\n",
      "238/238 [==============================] - 19s 78ms/step - loss: 21.3805 - mae: 3.3582 - val_loss: 31.4272 - val_mae: 4.5526\n",
      "Epoch 19/20\n",
      "238/238 [==============================] - 19s 79ms/step - loss: 22.0155 - mae: 3.4089 - val_loss: 30.4132 - val_mae: 4.3342\n",
      "Epoch 20/20\n",
      "238/238 [==============================] - 18s 78ms/step - loss: 20.3787 - mae: 3.2869 - val_loss: 28.7512 - val_mae: 4.3274\n",
      "Chunk 4/52 // 5.77% Complete // Cycle 2/3\n"
     ]
    },
    {
     "name": "stderr",
     "output_type": "stream",
     "text": [
      "y:\\ML\\Anaconda\\envs\\TF-GPU\\lib\\site-packages\\sklearn\\preprocessing\\_label.py:876: UserWarning: unknown class(es) [' 1C:Ino-Co ', ' Acclaim Studios Manchester ', ' Ankama ', ' Atari ', ' Atari SA ', ' Black Drakkar Games ', ' Blitz Games ', ' Buried Signal ', ' Calappa Games ', ' Clover Bite ', ' Creative Business Unit III ', ' Cyan', ' EA Vancouver ', ' Endlessfluff Games ', ' Grove Street Games ', ' Gun Interactive ', ' GungHo', ' Humble Games', ' Joshua Nuernberger ', ' LLC', ' Marvelous First Studio ', ' MicroProse', ' MicroProse ', ' Mixed Realms ', ' N-Game Studios ', ' Navegante Entertainment ', ' Phosphor Games ', ' PopCap ', ' SeithCG ', ' SkyBox Labs ', ' Splash Damage', ' Team 6 Games Studio ', ' TimeGate Studios ', '10 Chambers Collective ', '17-Bit ', '2By3 Games ', '4D Rulers ', '6 Eyes Studio ', '@unepic_fran ', 'AGEOD ', 'Abrakam SA ', 'Acclaim', 'Alkemi Games ', 'Ankama Games', 'Anshar Studios ', 'Antab Studio ', 'Astro Port ', 'Atari', 'Atelier Mimina ', 'Auran ', 'Autumn Moon ', 'Awesome Games Studio ', 'Axel Fox ', 'Bandai Namco Games', 'Barking Dog ', 'Beard Envy ', 'Bedtime Digital Games ', 'Behavior Studios ', 'BetaDwarf ', 'Bits & Beasts ', 'Bonus Level Entertainment ', 'Brain Candy ', 'Brendon Chung ', 'Bright Future GmbH ', 'Bromio', 'Byte Barrel ', 'Caged Element Inc. ', 'Camel 101 ', 'Campo Santo ', 'Cat Daddy Games ', 'Cellar Door Games ', 'ChessBase ', 'Chronic Logic ', 'Claeys Brothers Arts ', 'Clever Beans ', 'Codemasters Birmingham ', 'Coffee Stain North ', 'Covenant.dev ', 'Crate Entertainment ', 'Crazy Monkey Studios ', 'Creepy Jar ', 'Cyan Worlds', 'Cyber Rhino Studios ', 'Cypron Studios ', 'Daybreak Games ', 'Dead Mage Studio ', 'Demagog Studio ', 'Devolver Digital ', 'Doinksoft ', 'DrinkBox Studios ', 'EA Sports', 'Edge Case Games ', 'Exbleative ', 'Fallen Earth', 'Fallen Leaf', 'Feral Cat Den ', 'Fishcow Studio ', 'Fishlabs ', 'Flaming Fowl Studios ', 'Fort Triumph LTD ', 'Free Lives ', 'Freebird Games ', 'Freedom LLC ', 'Funnel Entertainment', 'GalaxyTrail ', 'Gambrinous ', 'Game Arts', 'Game Arts ', 'Gamepires ', 'Gaming Minds Studios ', 'Ghost of a Tale', 'Grace Bruxner ', 'Green Lava Studios ', 'Greenheart Games ', 'Ground Shatter Ltd. ', 'Gust ', 'Harmonix Music Systems ', 'Hasbro Interactive', 'Heatwave Interactive ', 'Heavy Iron Studios ', 'Hexagon Entertainment ', 'HopFrog ', 'Hothouse Creations ', 'Humble Bundle', 'IGGYMOB ', 'Idea Factory ', 'IllFonic', 'IllFonic ', 'Image Space Incorporated ', 'Interactive Stone ', 'IronOak Games ', 'Ivy Games LLC ', 'JC Entertainment ', 'Jason Roberts', 'Johnny Dale Lonack ', 'Kaos Studios ', 'Kong Orange ', 'Lazy Bear Games ', 'Lead Pursuit ', 'Lexis Numerique ', 'Logic Artists ', 'Lucid Games ', 'Lukas Navratil ', 'Mad Orange ', 'Massive Damage', 'MediaMobsters ', 'Metamorf Studios ', 'Mixed Realms Pte Ltd', 'Mode 7 Games ', 'Monolith Productions', 'Mopeful Games ', 'Motiga ', 'Muse Games ', 'Mutant Games ', 'Nemesys ', 'Neversoft Entertainment', 'Nival Interactive', 'Nussoft', 'Object ', 'Okomotive ', 'Old Moon ', 'Old School Games ', 'Orann ', 'Owned by Gravity ', 'Paranoid Interactive ', 'Perfect World Entertainment ', 'Phil Hassey ', 'Phosfiend Systems ', 'Phosphor Games Studio', 'Pinkerton Road Studio ', 'Planet Moon Studios ', 'PortaPlay ', 'Positech Games ', 'Prideful Sloth ', 'Proper Games ', 'Pulsatrix Studios ', 'Queasy Games ', 'R8 Games ', 'Radiation Blue ', 'Razorworks ', 'Rebelmind ', 'Red 5 Studios ', 'Red Redemption ', 'Refugium Games ', 'Rewolf Software ', 'Robotality ', 'Sassybot ', 'Scott Cawthon ', 'Shiro Games ', 'Sick Puppies ', 'Sierra Entertainment ', 'Silent Dreams ', 'Silver Style ', 'Slitherine ', 'Smudged Cat Games ', 'Spaces of Play ', 'Sports Mogul ', 'StarWraith ', 'Stormfront Studios ', 'Stuck In Attic ', 'Sushee ', 'TALEROCK ', 'TIGAMES ', 'Team2Bit ', 'Team6 Game Studios', 'The Chinese Room ', 'The Fullbright Company ', 'Throughline Games ', 'Tom Francis ', 'Tri Synergy ', 'Tribute Games ', 'Trine Games ', 'Under the Stairs ', 'Video System ', 'Vile Monarch ', 'W!Games ', 'Wadjet Eye Games', 'Warner Bros. Interactive Entertainment ', 'Whalebox Studio ', 'Whole Hog Games ', 'WideScreen Games ', 'WildTangent ', 'Wizarbox ', 'WorldForge ', 'Wube Software LTD. ', 'Yukitama Creative Industries ', 'Zoink! ', 'animdude '] will be ignored\n",
      "  \"unknown class(es) {0} will be ignored\".format(sorted(unknown, key=str))\n"
     ]
    },
    {
     "name": "stdout",
     "output_type": "stream",
     "text": [
      "Epoch 1/20\n",
      "240/240 [==============================] - 19s 78ms/step - loss: 36.7330 - mae: 4.6342 - val_loss: 39.3627 - val_mae: 5.1244\n",
      "Epoch 2/20\n",
      "240/240 [==============================] - 19s 78ms/step - loss: 30.7498 - mae: 4.1914 - val_loss: 44.1867 - val_mae: 5.5648\n",
      "Epoch 3/20\n",
      "240/240 [==============================] - 18s 77ms/step - loss: 29.0968 - mae: 4.0453 - val_loss: 36.8108 - val_mae: 4.9936\n",
      "Epoch 4/20\n",
      "240/240 [==============================] - 19s 78ms/step - loss: 26.6972 - mae: 3.8816 - val_loss: 38.6574 - val_mae: 5.2103\n",
      "Epoch 5/20\n",
      "240/240 [==============================] - 19s 78ms/step - loss: 23.7434 - mae: 3.6459 - val_loss: 32.7333 - val_mae: 4.7240\n",
      "Epoch 6/20\n",
      "240/240 [==============================] - 19s 78ms/step - loss: 22.5753 - mae: 3.5713 - val_loss: 33.5527 - val_mae: 4.8572\n",
      "Epoch 7/20\n",
      "240/240 [==============================] - 18s 77ms/step - loss: 22.4199 - mae: 3.5433 - val_loss: 29.4277 - val_mae: 4.4693\n",
      "Epoch 8/20\n",
      "240/240 [==============================] - 18s 76ms/step - loss: 20.8903 - mae: 3.4228 - val_loss: 31.7850 - val_mae: 4.6488\n",
      "Epoch 9/20\n",
      "240/240 [==============================] - 18s 77ms/step - loss: 20.7260 - mae: 3.4040 - val_loss: 30.2704 - val_mae: 4.5156\n",
      "Epoch 10/20\n",
      "240/240 [==============================] - 18s 76ms/step - loss: 19.2601 - mae: 3.2651 - val_loss: 24.9325 - val_mae: 4.0481\n",
      "Epoch 11/20\n",
      "240/240 [==============================] - 18s 76ms/step - loss: 19.4624 - mae: 3.2505 - val_loss: 29.3298 - val_mae: 4.4041\n",
      "Epoch 12/20\n",
      "240/240 [==============================] - 19s 79ms/step - loss: 18.9125 - mae: 3.2280 - val_loss: 26.1317 - val_mae: 4.1783\n",
      "Epoch 13/20\n",
      "240/240 [==============================] - 19s 78ms/step - loss: 18.3209 - mae: 3.1571 - val_loss: 25.4188 - val_mae: 4.0752\n",
      "Epoch 14/20\n",
      "240/240 [==============================] - 19s 78ms/step - loss: 17.9647 - mae: 3.1355 - val_loss: 29.7276 - val_mae: 4.5102\n",
      "Epoch 15/20\n",
      "240/240 [==============================] - 19s 78ms/step - loss: 17.7065 - mae: 3.1172 - val_loss: 25.7229 - val_mae: 4.0736\n",
      "Chunk 5/52 // 7.69% Complete // Cycle 2/3\n"
     ]
    },
    {
     "name": "stderr",
     "output_type": "stream",
     "text": [
      "y:\\ML\\Anaconda\\envs\\TF-GPU\\lib\\site-packages\\sklearn\\preprocessing\\_label.py:876: UserWarning: unknown class(es) ['Text'] will be ignored\n",
      "  \"unknown class(es) {0} will be ignored\".format(sorted(unknown, key=str))\n",
      "y:\\ML\\Anaconda\\envs\\TF-GPU\\lib\\site-packages\\sklearn\\preprocessing\\_label.py:876: UserWarning: unknown class(es) [' 1C-Entertainment ', ' 343 Industries ', ' Atari SA ', ' Beamdog', ' Black Sea Games ', ' Bloom Technology ', ' Blueside ', ' Boss Key Productions ', ' Cing ', ' Cognosphere ', ' Crema Games ', \" DON'T NOD \", ' Davit Andreasyan ', ' Deck Nine Games ', ' Easy Trigger Games ', ' Eerie Guest ', ' Hex Entertainment ', ' Ice Cold Games ', ' Infogrames', ' Jujubee S.A. ', ' Kaiko ', ' Katuri Interactive ', ' Konjak ', ' Ltd. ', ' M2H & BlackMill Games ', ' MONKEYCRAFT Co. Ltd. ', ' Melbourne House ', ' Most Wanted Entertainment ', ' Novacore Studios ', ' Novik & Co ', ' Overhaul Games ', ' Pine Scented Software ', ' PixelHive ', ' Psyop ', ' Slitherine Group ', ' Spike Chunsoft ', ' Squad ', ' Targem Games ', ' Team Reptile ', ' Transmission Games', ' UNKNOWN GAMES ', ' Vanguard Games ', ' Virtuos ', ' Voidpoint', ' Xaviant ', '1C Entertainment', '1C-Softclub ', '343 Industries', '3D People ', '3D Realms', '3DClouds ', '4X Studios ', 'Action Squad Studios ', 'Activision ', 'Almost Human ', 'Amanita Design ', 'Appaloosa Interactive ', 'Aquiris Game Studio ', 'Arclight Creations ', 'Arkedo Studio ', 'Artifact Entertainment ', 'Artifex Mundi ', 'Artificial Mind and Movement ', 'Ascendant Studios ', 'Askiisoft ', 'Atari', 'Aterdux Entertainment ', 'Bandai Namco Games', 'Barking Dog ', 'Behold Studios ', 'Benjamin \"ThingOnItsOwn\" Hauer ', 'Benjamin Rivers ', 'Berzerk Studio ', 'Big Red Software ', 'Big Sandwich Games', 'Bishop Games ', 'Bitbox Ltd. ', 'Black Isle Studios', 'Black Matter ', 'Black Sea Studios', 'Black Sea Studios ', 'Bleakmill ', 'Blue Tongue Entertainment ', 'Blyts ', 'Boss Key', 'Bossa Studios ', 'Brain Slap Studio ', 'Brawsome ', 'Buka Entertainment', 'Bulwark Studios ', 'Burut Software ', \"ByteRockers' Games \", 'Cardboard Computer ', 'Casey Donnellan Games LLC ', 'Cat Rabbit ', 'Cauldron Ltd. ', 'ChaosForge ', 'Choice Provisions ', 'Cingular mMode', 'Clever-Plays ', 'Clifftop Games ', 'ClockStone Studio ', 'Codo Games ', 'Coffee Stain Studios', 'Conifer Games ', 'Core Design Ltd. ', 'Cradle Games ', 'CrazyBunch ', 'Creat Studios ', 'CreativeForge Games ', 'CremaGames', 'Critique Gaming ', 'Cryptozoic Entertainment', 'DONTNOD Entertainment', 'Daniel Mullins Games ', 'Dark Energy Digital ', 'Defiant Development ', 'DigiFX Interactive ', 'Digital Arrow ', 'Dingaling ', 'Dirigo Games ', 'Dreadbit ', 'E-One Studio ', 'EA Bright Light ', 'EKO Software ', 'Elastic Games ', 'Empyrean ', 'Evan Todd ', 'Fiddlesticks Games ', 'Final Form Games', 'Fluent ', 'Foam Sword ', 'Foolish Mortals Games ', 'Forge Reply ', 'Four Quarters ', 'Freebird Games ', 'Fugitive Games ', 'Fuzzyeyes Studio ', 'GFI Russia ', 'Galilea Multimedia ', 'Gamious ', 'Geeta Games ', 'Geniaware ', 'Goblinz Studio ', 'Grasshopper Manufacture ', 'Grimbart Tales ', 'Grundislav Games ', 'HD Interactive', 'HandyGames ', 'Happy Ray Games ', 'Hato Moa ', 'Hidden Layer Games ', 'Hollow Ponds ', 'Hollow Ponds and Richard Hogg ', 'IMGN.PRO ', 'IR Gurus ', 'Ice Code Games', 'Ice-Pick Lodge ', 'Iceberg Interactive', 'Impressions Games ', 'In Utero ', 'Infinite Monkeys ', 'Innerloop ', 'Joakim Sandberg', 'Joel Mcdonald ', 'Juice Games ', 'Jujubee', 'Jump Over The Age ', 'Just A Pixel ', 'Kaiko ', 'Katauri Interactive', 'Koboldgames ', 'Kuma Reality Games ', 'Kyle Thompson ', 'Kyy Games ', 'L3O Interactive ', 'Lab Zero Games ', 'Left Behind Games ', 'Lichthund ', 'Light Brick ', 'Lion Shield', 'Lo-Fi Games ', 'Love Conquers All Games ', 'Lucky Mountain Games ', 'Lucky Pause ', 'M2', 'M2H', 'MONKEYCRAFT Co. Ltd. ', 'MadCat Interactive Software ', 'Magic Design Studios ', 'Master Creating ', 'Metropolis Software ', 'Micro Application ', 'Mirage Game Studios ', 'Mission Studios ', 'Modern Dream ', 'Mojo Bones ', 'Moon Spider Studio ', 'Moonlight Games ', 'Mosaic Mask ', 'NExT Studios ', 'NVYVE Studios ', 'Namco ', 'Necrophone ', 'Nemesys ', 'Neon Studios', 'NetDevil ', 'New World Computing ', 'Nfusion ', 'Nigoro ', 'Nival Interactive', 'No Brakes Games ', 'Northway Games ', 'Novarama ', 'Nullpointer Games ', 'Numantian Games ', 'Ovosonico ', 'Palindrome Interactive ', 'Parabole ', 'Particle Systems ', 'Paul Helman ', 'Phantagram', 'Pieces Interactive ', 'PolyKnight Games ', 'Primal Software ', 'Psyop Games', 'QLOC ', 'Quantic Dream', 'Rage Software ', 'Rapid Eye Entertainment ', 'Ratbag ', 'Ratloop Games Canada ', 'Razbor Studios ', 'Ready at Dawn ', 'Red Zero Games ', 'Reflexive Entertainment ', 'Replay Games ', 'Reptile', 'Robot Loves Kitty ', 'Rocket Bear Games ', 'SEMISOFT ', 'SQUADTeam', 'Saibot Studios ', 'Sam Barlow ', 'Seaven Studio ', 'Sega AM2 ', 'Shanghai FantaBlade Network Technology Co.', 'Silverback Entertainment ', 'Sir-Tech Software Inc. ', 'Size Five Games ', 'Skrollcat Studios ', 'Skyhook Games ', 'Slitherine', 'Slitherine ', 'Sluggerfly ', 'So Romantic ', 'Soft Enterprises ', 'Somnium Games d.o.o. ', 'Spike Chunsoft Co. Ltd.', 'Squad ', 'Square Enix Montreal ', 'Stage 2 Studios ', 'Straandlooper ', 'Studio Pixel ', 'Sumo Newcastle ', 'SumomGames ', 'Superbrothers', 'Tangrin ', 'Tate Multimedia ', 'Telepaths Tree ', 'Tendershoot ', 'Terri Vellimann ', 'The Chinese Room ', 'The Odd Gentlemen ', 'Third Law Interactive ', 'Thomas van den Berg ', 'Tokyo RPG Factory ', 'Tom Francis ', 'Tomorrow Corporation ', 'TreeFortress Games ', 'True Axis ', 'Tunnel Vision Games ', 'TurtleBlaze ', 'Typhoon Studios ', 'UndeadScout ', 'Unfrozen ', 'Vanguard', 'Variable State ', 'Velan Studios ', 'Visual Concepts ', 'Vox Game Studio', 'Wales Interactive ', 'Warpzone Studios ', 'We Create Stuff ', 'Wicked Studios ', 'X1 Software ', 'Xaviant Games', 'Yakov Butuzoff ', 'Zachtronics Industries ', 'dreamfeel ', 'eBrain Studio ', 'inkle ', 'miHoYo', 'straka.studio ', 'superflat games ', 'teedoubleuGAMES ', 'tinyBuild'] will be ignored\n",
      "  \"unknown class(es) {0} will be ignored\".format(sorted(unknown, key=str))\n"
     ]
    },
    {
     "name": "stdout",
     "output_type": "stream",
     "text": [
      "Epoch 1/20\n",
      "238/238 [==============================] - 19s 77ms/step - loss: 47.5962 - mae: 5.2209 - val_loss: 52.4565 - val_mae: 5.9000\n",
      "Epoch 2/20\n",
      "238/238 [==============================] - 18s 76ms/step - loss: 40.4239 - mae: 4.8129 - val_loss: 48.8692 - val_mae: 5.7381\n",
      "Epoch 3/20\n",
      "238/238 [==============================] - 18s 77ms/step - loss: 36.8051 - mae: 4.5718 - val_loss: 42.8114 - val_mae: 5.3062\n",
      "Epoch 4/20\n",
      "238/238 [==============================] - 18s 77ms/step - loss: 33.6128 - mae: 4.3441 - val_loss: 39.4185 - val_mae: 5.0537\n",
      "Epoch 5/20\n",
      "238/238 [==============================] - 18s 77ms/step - loss: 32.0268 - mae: 4.2571 - val_loss: 39.3741 - val_mae: 5.0765\n",
      "Epoch 6/20\n",
      "238/238 [==============================] - 18s 76ms/step - loss: 30.9343 - mae: 4.1413 - val_loss: 35.3703 - val_mae: 4.7566\n",
      "Epoch 7/20\n",
      "238/238 [==============================] - 18s 77ms/step - loss: 29.1964 - mae: 4.0393 - val_loss: 36.4667 - val_mae: 4.8697\n",
      "Epoch 8/20\n",
      "238/238 [==============================] - 18s 76ms/step - loss: 27.9421 - mae: 3.9302 - val_loss: 35.6512 - val_mae: 4.7930\n",
      "Epoch 9/20\n",
      "238/238 [==============================] - 18s 77ms/step - loss: 26.9628 - mae: 3.8844 - val_loss: 33.0685 - val_mae: 4.5569\n",
      "Epoch 10/20\n",
      "238/238 [==============================] - 19s 78ms/step - loss: 26.7962 - mae: 3.8901 - val_loss: 33.7212 - val_mae: 4.6575\n",
      "Epoch 11/20\n",
      "238/238 [==============================] - 18s 77ms/step - loss: 26.2803 - mae: 3.8232 - val_loss: 35.2188 - val_mae: 4.8149\n",
      "Epoch 12/20\n",
      "238/238 [==============================] - 19s 78ms/step - loss: 25.4178 - mae: 3.7756 - val_loss: 35.8400 - val_mae: 4.8553\n",
      "Epoch 13/20\n",
      "238/238 [==============================] - 18s 77ms/step - loss: 25.8315 - mae: 3.7838 - val_loss: 32.6924 - val_mae: 4.5958\n",
      "Epoch 14/20\n",
      "238/238 [==============================] - 19s 79ms/step - loss: 25.4554 - mae: 3.7392 - val_loss: 30.5377 - val_mae: 4.4214\n",
      "Epoch 15/20\n",
      "238/238 [==============================] - 19s 79ms/step - loss: 23.1406 - mae: 3.5892 - val_loss: 32.7373 - val_mae: 4.6180\n",
      "Epoch 16/20\n",
      "238/238 [==============================] - 18s 78ms/step - loss: 23.7058 - mae: 3.6170 - val_loss: 32.8806 - val_mae: 4.6795\n",
      "Epoch 17/20\n",
      "238/238 [==============================] - 18s 77ms/step - loss: 23.1885 - mae: 3.5621 - val_loss: 32.4623 - val_mae: 4.5661\n",
      "Epoch 18/20\n",
      "238/238 [==============================] - 18s 76ms/step - loss: 22.8748 - mae: 3.5226 - val_loss: 29.1363 - val_mae: 4.2441\n",
      "Epoch 19/20\n",
      "238/238 [==============================] - 18s 78ms/step - loss: 21.4724 - mae: 3.4204 - val_loss: 29.2115 - val_mae: 4.2969\n",
      "Epoch 20/20\n",
      "238/238 [==============================] - 18s 77ms/step - loss: 21.9076 - mae: 3.4554 - val_loss: 30.7490 - val_mae: 4.4873\n",
      "Chunk 6/52 // 9.62% Complete // Cycle 2/3\n"
     ]
    },
    {
     "name": "stderr",
     "output_type": "stream",
     "text": [
      "y:\\ML\\Anaconda\\envs\\TF-GPU\\lib\\site-packages\\sklearn\\preprocessing\\_label.py:876: UserWarning: unknown class(es) [' 10tons ', ' 1C', ' Application Systems Heidelberg ', ' BeautiFun Games ', ' BlackMuffin Studio', ' Bullets ', ' Centauri Production ', ' Char & Torfi ', ' Digital Sun ', ' Dreamworks Games ', ' EA Singapore ', ' Eyeguys ', ' Fair Play Labs ', ' French-Bread ', ' Funatics ', ' Funatics Software', ' General Arcade ', ' Honor Code', ' Immersion Software & Graphics ', ' Ino-Co', ' Ministry of Broadcast Studios ', ' Monkey Moon ', ' Movie Games ', ' Muutsch', ' Now Production', ' Playsport Games Ltd ', ' Pol', ' Ravenscourt', ' Rockstar San Diego ', ' Russia ', ' Soleil', ' Soleil Ltd. ', ' Studio Fizbin ', ' StudioInkyfox ', ' Team Reptile ', ' Thomas Brush ', ' Toylogic ', ' Tribute Games Inc. ', ' VIS Games ', ' Varkian Empire ', '10tons Entertainment', '11 bit studios', '1C-Softclub ', '24 Entertainment ', '3A Games ', 'Alcachofa Soft ', 'Altari Games ', 'Amanita Design ', 'Angel Studios', 'Anim-X ', 'Animation Arts ', 'Application Systems Heidelberg Software GmbH', 'Artificial Studios', 'Arxel Tribe ', 'Asteroid Base ', 'Avalon Style ', 'BEAUTIFUN GAMES SL', 'BLOODIOUS GAMES ', 'Beautiful Glitch ', 'Big Ape Productions ', 'Bit Byterz ', 'Black Mermaid ', 'Black Pants Studio ', 'Blastmode ', 'Blazing Bit Games ', 'Blazing Griffin ', 'Blue Bottle Games ', 'Bombservice ', 'Borealys Games ', 'Broken Rules ', 'BudCat ', 'Capricia Productions ', 'Carlos Coronado ', 'Chance Agency ', 'Charybdis ', 'Cinemax', 'Coffee Powered Machine ', 'Connor Ullmann ', 'Cornfox & Bros. ', 'Crunching Koalas ', 'CyberConnect2', 'Cyberlore Studios ', 'Deep Red ', 'Deibus Studios ', 'Delphine Software International ', 'Detalion ', 'Devolver Digital ', 'Die Gute Fabrik ', 'Digital Dialect ', 'Digital Eclipse ', 'Dinosaur Polo Club ', 'Diversions Entertainment ', 'DrinkBox Studios ', 'Duckbridge ', 'EA Black Box', 'EA Black Box ', 'EA LA', 'EA Seattle ', 'Ecole', 'Eutechnyx ', 'FASA Studio ', 'Finish Line Games ', 'Fizbin', 'From Software', 'Funatics Development GmbH', 'Future Games ', 'GameSourceStudio ', 'Gazillion ', 'Geography of Robots ', 'Gojira ', 'Graceful Decay ', 'Grip Digital ', 'Guru Games ', 'Half Asleep ', 'HappyJuice Games ', 'Harebrained Schemes LLC ', 'Hidden Fields ', 'Himalaya Studios ', 'Holistic Design', 'Homeless Unicorn', 'Housemarque ', 'Humongous Entertainment ', 'Hydravision ', 'ILCA', 'Idol FX ', 'In Utero ', 'Infinitap Games ', 'Infinite Fall ', 'InterServ International ', 'Interwave Studios ', 'Inti Creates ', 'IonFX ', 'Jacob Dzwinel ', 'John Szymanski ', 'Jonas Manke', 'Joon', 'Juggler Games ', 'Just Add Water ', 'KCEJ ', 'KDV Games ', 'Keen Software House ', 'Kitfox Games ', 'Kuju Entertainment ', 'LCB Game Studio ', 'LKA ', 'Lantern Studio ', 'Le Cartel Studio ', 'Leaping Lizard Software Inc. ', 'Level 5 ', 'Lexis Numerique ', 'Limasse Five ', 'Locomalito ', 'Lorenzo Redaelli', 'Ludosity Interactive', 'Max Mraz ', 'Mayhem Studios ', 'Messhof ', 'Metronomik ', 'Minor Key Games ', 'Mithis/HD Interactive ', 'Mohawk Games ', 'Monster Games Inc. ', 'Mooneye Studios ', 'Movie Games ', 'Movie Games S.A.', 'MuHa Games ', 'MumboJumbo ', 'Muzzy Lane Software ', 'NGD Studios ', 'NUDE MAKER', 'Narcosis Team', 'Neotro Inc. ', 'Nepos Games ', 'No Code ', 'Nolla Games ', 'NotGames ', 'Nowhere Studios ', 'Ocean Drive Studio ', 'Oddworld Inhabitants ', 'Oldblood ', 'Ossian Studios ', 'Ovid Works ', 'Panic Barn Ltd ', 'Papyrus ', 'Paradox North ', 'Passtech Games ', 'Pathea Games ', 'Phosphor Games Studio', 'Picaresque Studio ', 'Pieces Interactive ', 'Pinkerton Road Studio ', 'Piranha Games ', 'Pirita Studio ', 'Player First Games ', 'Playful Corp. ', 'Playsport Games', 'Pocketwatch Games ', 'Pollux Gamelabs ', 'Polypusher Studios ', 'Press Play ', 'Presto Studios ', 'Q-Games ', 'Quicksilver Software ', 'Rage Software ', 'Rainbow Studios ', 'Raw Fury', 'Reakktor Media ', 'Red Herring Labs ', 'Red Rocket Games ', 'Related Designs ', 'Render Cube ', 'Renegade Kid ', 'Reptile', 'Rock Pocket Games ', 'Rocket Science Games ', 'Rockstar San Diego ', 'Rogue Factor ', 'Route 59 Games ', 'SMG Studio ', 'Santa Ragione ', 'Sanzaru Games ', 'Saturn+ ', 'Secret Level ', 'Serenity Forge', 'Sharkbomb Studios ', 'Shiny Shoe ', 'Shiro Games ', 'Shiver Games ', 'Sileni Studios ', 'Silver Dollar Games ', 'Silverback Studios ', 'SimTex ', 'Skeleton Crew Studio ', 'Sketchbook Games ', 'Space Dust Studios', 'Spearhead Games ', 'State of Play Games ', 'Still Running ', 'Studio Koba ', 'Sunnyside Games ', 'Supersonic Software ', 'THQ', 'TKO Software ', 'TURBOGUN ', 'Tamsoft ', 'Team Shifty ', 'Termite Games ', 'The Outsiders ', 'Thomas Moon Kang ', 'Tokyo RPG Factory ', 'Tom Hegarty ', 'TopWare Interactive ', 'Toylogic Inc.', 'Tribute Games', 'Triple Eh? Ltd ', 'Triplevision Games ', 'Triternion ', 'Turbo Tape Games ', 'Twice Circled ', 'Uber Entertainment ', 'Unigine Corp', 'Untame ', 'Upper One Games ', 'Veewo Games ', 'Vile Monarch ', 'Virtuos ', 'Visual Concepts ', 'Visual Imagination Software', 'Vlambeer ', 'Wales Interactive ', 'White Birds Productions ', 'Wild Factor ', 'William Chyr Studio LLC ', 'Wizards of the Coast ', 'Y.K. ', 'ZANDEL MEDIA ', 'Zoink! ', 'Zono Inc. ', 'machineboy ', 'roll7 ', 'tiny Build GAMES'] will be ignored\n",
      "  \"unknown class(es) {0} will be ignored\".format(sorted(unknown, key=str))\n"
     ]
    },
    {
     "name": "stdout",
     "output_type": "stream",
     "text": [
      "Epoch 1/20\n",
      "237/237 [==============================] - 18s 76ms/step - loss: 44.1028 - mae: 5.0137 - val_loss: 62.5561 - val_mae: 6.6304\n",
      "Epoch 2/20\n",
      "237/237 [==============================] - 18s 78ms/step - loss: 35.6519 - mae: 4.5280 - val_loss: 54.8916 - val_mae: 6.2241\n",
      "Epoch 3/20\n",
      "237/237 [==============================] - 18s 76ms/step - loss: 32.0790 - mae: 4.2366 - val_loss: 61.5002 - val_mae: 6.6896\n",
      "Epoch 4/20\n",
      "237/237 [==============================] - 18s 75ms/step - loss: 30.4148 - mae: 4.1258 - val_loss: 54.5509 - val_mae: 6.2638\n",
      "Epoch 5/20\n",
      "237/237 [==============================] - 18s 77ms/step - loss: 28.3898 - mae: 3.9726 - val_loss: 54.7458 - val_mae: 6.3741\n",
      "Epoch 6/20\n",
      "237/237 [==============================] - 18s 77ms/step - loss: 26.9707 - mae: 3.8432 - val_loss: 51.5754 - val_mae: 6.1846\n",
      "Epoch 7/20\n",
      "237/237 [==============================] - 18s 77ms/step - loss: 25.8123 - mae: 3.7518 - val_loss: 50.3703 - val_mae: 6.0742\n",
      "Epoch 8/20\n",
      "237/237 [==============================] - 18s 77ms/step - loss: 25.5400 - mae: 3.7374 - val_loss: 45.0711 - val_mae: 5.6283\n",
      "Epoch 9/20\n",
      "237/237 [==============================] - 18s 77ms/step - loss: 24.0669 - mae: 3.6293 - val_loss: 42.2409 - val_mae: 5.4765\n",
      "Epoch 10/20\n",
      "237/237 [==============================] - 18s 76ms/step - loss: 23.5066 - mae: 3.5345 - val_loss: 42.0616 - val_mae: 5.5017\n",
      "Epoch 11/20\n",
      "237/237 [==============================] - 18s 77ms/step - loss: 23.3839 - mae: 3.5739 - val_loss: 38.7607 - val_mae: 5.2380\n",
      "Epoch 12/20\n",
      "237/237 [==============================] - 18s 77ms/step - loss: 22.5826 - mae: 3.4848 - val_loss: 39.2530 - val_mae: 5.3162\n",
      "Epoch 13/20\n",
      "237/237 [==============================] - 18s 77ms/step - loss: 21.4757 - mae: 3.4245 - val_loss: 43.5052 - val_mae: 5.6012\n",
      "Epoch 14/20\n",
      "237/237 [==============================] - 18s 77ms/step - loss: 21.8834 - mae: 3.4022 - val_loss: 41.0750 - val_mae: 5.4651\n",
      "Epoch 15/20\n",
      "237/237 [==============================] - 18s 77ms/step - loss: 22.0078 - mae: 3.4247 - val_loss: 45.0914 - val_mae: 5.7036\n",
      "Epoch 16/20\n",
      "237/237 [==============================] - 18s 76ms/step - loss: 20.9951 - mae: 3.3232 - val_loss: 38.0154 - val_mae: 5.2219\n",
      "Epoch 17/20\n",
      "237/237 [==============================] - 18s 76ms/step - loss: 20.8445 - mae: 3.3336 - val_loss: 36.8256 - val_mae: 5.1403\n",
      "Epoch 18/20\n",
      "237/237 [==============================] - 18s 77ms/step - loss: 20.5325 - mae: 3.3096 - val_loss: 37.0479 - val_mae: 5.0823\n",
      "Epoch 19/20\n",
      "237/237 [==============================] - 18s 77ms/step - loss: 20.4925 - mae: 3.2912 - val_loss: 41.4115 - val_mae: 5.5509\n",
      "Epoch 20/20\n",
      "237/237 [==============================] - 18s 76ms/step - loss: 19.9417 - mae: 3.2443 - val_loss: 31.7686 - val_mae: 4.7581\n",
      "Chunk 7/52 // 11.54% Complete // Cycle 2/3\n"
     ]
    },
    {
     "name": "stderr",
     "output_type": "stream",
     "text": [
      "y:\\ML\\Anaconda\\envs\\TF-GPU\\lib\\site-packages\\sklearn\\preprocessing\\_label.py:876: UserWarning: unknown class(es) ['Text'] will be ignored\n",
      "  \"unknown class(es) {0} will be ignored\".format(sorted(unknown, key=str))\n",
      "y:\\ML\\Anaconda\\envs\\TF-GPU\\lib\\site-packages\\sklearn\\preprocessing\\_label.py:876: UserWarning: unknown class(es) [' AGEOD ', ' Awesome Games Studio ', ' Bigben Games ', ' Bigben Interactive', ' Bounding Box Games ', ' Double Damage Games ', ' Gaming Minds Studios ', ' Hi Corp ', ' Hopoo Games ', ' KTX Software ', ' Leikir Studio ', ' MachineGames ', ' Minority Media Inc. ', ' Monstars Inc.', ' Omen ', ' Pixel Pi Games ', ' Planetary Annihilation Inc ', ' Q-Games ', ' Resonair ', ' Sproing ', ' Stainless Steel Studios ', ' Super Awesome Hyper Dimensional Mega Team ', ' Team Ladybug ', ' WSS Playground', ' Xeen ', '2 Dawn Games ', '34BigThings ', '7 Studios ', 'Abbey Games ', 'Abrakam SA ', 'Alter Games ', 'Antimatter Games ', 'Appeal', 'Arberth Studios ', 'Atomic Motion ', 'Atomic Planet Entertainment ', 'AwesomeGamesStudio', 'Beamdog ', 'Beatnik Games ', 'Big Star Games ', 'Black Rock Studio ', 'Black Shamrock ', 'Blendo Games ', 'Buckshot Software ', 'CCR', 'Cadenza ', 'Camouflaj', 'Cellar Door Games ', 'Chasing Carrots ', 'Chucklefish', 'Clever Plays ', 'Cloudhead Games ', 'Cococucumber ', 'Continuum ', 'Core Design Ltd. ', 'Creat Studios ', 'Creative Bytes ', 'CreativeForge Games ', 'Cyberlore Studios ', 'Daniel Mullins Games ', 'Dapper Penguin Studios ', 'Dark Seas Games ', 'Denby / Raze ', 'Digixart Entertainment', 'Digixart Entertainment ', 'Disney Online ', 'Doctor Entertainment ', 'Double Damage Games', 'Double Damage Games ', 'Double Eleven', 'Double Eleven ', 'DreamCatcher Interactive ', 'Dry Cactus ', 'EasyGameStation ', 'Ed Key and David Kanaga ', 'Fabled Game ', 'Final Strike Games ', 'Finji ', 'Flashback Games ', 'Flippfly ', 'Flying Lab Software ', 'Freeform Interactive LLC ', 'Frostwood Interactive ', 'FuturLab ', 'Gabriel Interactive ', 'Galilea Multimedia ', 'Gaming Minds Studios ', 'Ghost Town Games Ltd. ', 'Grayfax Software ', 'Grinding Gear Games ', 'Hemisphere Games ', 'Homegrown Games ', 'House of Tales ', 'Housemarque', 'Housemarque ', 'ION LANDS ', 'Ice Flames ', 'Ice-Pick Lodge ', 'IllFonic ', 'Impressions Games ', 'Infamous Quests ', 'Innerloop ', 'Interceptor Entertainment ', 'Ironward ', 'IzHard ', 'Jacob Janerka ', 'Jujubee S.A. ', 'K-D Lab ', 'Kaizen Game Works ', 'Koei ', 'Kuju Entertainment ', 'Laura Shigihara ', 'Lazy Bear Games ', 'Lesta Studio ', 'Lightbulb Crew ', 'Lionbite Games ', 'Lucas Pope ', 'Ludeon Studios ', 'Lukewarm Media ', 'Mad Head Games ', 'Mages. ', 'Magiko Gaming ', 'ManaVoid Entertainment Inc. ', 'Mark Healey ', 'Master Creating ', 'Mi-Clos Studio ', 'Midway', 'Might and Delight ', 'Mighty Polygon ', 'Mike and Jason', 'Mindfield Games ', 'Mindware Studios ', 'Minority', 'Mist Land ', 'NG:DEV.TEAM', 'Naked Sky Entertainment ', 'Namco Bandai Games ', 'Nerd Monkeys ', 'Nerial ', 'Nexus Game Studio ', 'Nicolas Meyssonnier ', 'No Goblin ', 'Nodding Heads Games ', 'Now Production', 'NuClearVision ', 'Nvizzio Creations ', 'Object ', 'Old School Games ', 'Osmotic Studios ', 'Out Of The Park Developments ', 'Outrage Games ', 'Owlcat Games ', 'Owlchemy Labs ', 'Paradox Interactive', 'Pasta Games ', 'Patrick Traynor ', 'Phantom 8 ', 'Phantom Compass ', 'Phantomery Interactive ', 'Phigames ', 'Pieces Interactive ', 'Pinokl Games ', 'Pixelated Milk ', 'Plastic Piranha ', 'PolyAmorous ', 'Polygon Treehouse ', 'Polyslash ', 'Proxy Studios ', 'Puppy Games ', 'R8 Games ', 'Radon Labs ', 'RailSimulator.com ', 'Recoil Games ', 'Red Ego Games ', 'Reikon Games ', 'Revival Productions', 'RichMakeGame ', 'Rival Interactive ', 'Robot House ', 'Robotality ', 'Running Dog ', 'SEK Ost ', 'SSI ', 'Screaming Games ', 'Sector D2 ', 'Sectordub ', 'Shining Pixel Studios ', 'Slant Six ', 'Snapshot Games Inc. ', 'Sobaka ', 'SoftWarWare ', 'Softlab-NSK ', 'SomaSim ', 'SouthPeak Games ', 'Spellbind Studios ', 'Sproing Interactive Media', 'Spry Fox ', 'Stormfront Studios ', 'Stormind Games ', 'Sundae Month ', 'Super Mega Team', 'Survios ', 'Tamsoft ', 'Team Oneshot ', 'Team Pixel Pi', 'The Artistocrats ', 'The Bae Team ', 'The Behemoth ', 'The Deep End Games ', 'The Lordz Games Studio ', 'The Tiniest Shark ', 'Thomas Brush ', 'Three Rings ', 'TickTock Games ', 'Tlon Studios ', 'Tomasz Waclawek ', 'Torched Hill ', 'Torus Games ', 'Tour De Pizza ', 'Toxic Games ', 'Tribute Games ', 'Triskell Interactive ', 'Twice Different ', 'Two Tribes ', 'UBlart Montpellier ', 'UGA', 'Uber Entertainment', 'Ultra Runaway Games ', 'Vblank Entertainment Inc. ', 'Vertical Robot ', 'Videocult ', 'Visiware Studios ', 'Vladimir Kudelka ', 'Volatile Games ', 'Voracious Games ', 'Wastelands Interactive ', 'White Birds Productions ', 'Why so serious?', 'Wishfully ', 'Wizarbox ', 'Wormwood Studios ', 'YCJY Games ', 'Yanim Studio ', 'Zeboyd Games ', 'ZootFly ', 'Zordix Racing ', 'comcept ', 'nDreams ', 'neoqb ', 'niceplay games ', 'roll7 ', 'xii games '] will be ignored\n",
      "  \"unknown class(es) {0} will be ignored\".format(sorted(unknown, key=str))\n"
     ]
    },
    {
     "name": "stdout",
     "output_type": "stream",
     "text": [
      "Epoch 1/20\n",
      "238/238 [==============================] - 18s 76ms/step - loss: 47.2078 - mae: 5.1035 - val_loss: 73.3070 - val_mae: 7.3419\n",
      "Epoch 2/20\n",
      "238/238 [==============================] - 18s 77ms/step - loss: 40.1709 - mae: 4.6959 - val_loss: 64.3891 - val_mae: 6.8853\n",
      "Epoch 3/20\n",
      "238/238 [==============================] - 18s 76ms/step - loss: 36.6427 - mae: 4.4974 - val_loss: 67.4417 - val_mae: 7.1165\n",
      "Epoch 4/20\n",
      "238/238 [==============================] - 18s 77ms/step - loss: 34.0056 - mae: 4.3648 - val_loss: 69.3825 - val_mae: 7.2454\n",
      "Epoch 5/20\n",
      "238/238 [==============================] - 18s 77ms/step - loss: 31.4706 - mae: 4.1676 - val_loss: 63.9328 - val_mae: 6.9576\n",
      "Epoch 6/20\n",
      "238/238 [==============================] - 18s 76ms/step - loss: 30.5185 - mae: 4.0719 - val_loss: 70.3037 - val_mae: 7.3650\n",
      "Epoch 7/20\n",
      "238/238 [==============================] - 18s 77ms/step - loss: 29.9823 - mae: 4.0439 - val_loss: 61.0103 - val_mae: 6.7901\n",
      "Epoch 8/20\n",
      "238/238 [==============================] - 18s 76ms/step - loss: 29.1383 - mae: 4.0029 - val_loss: 62.3051 - val_mae: 6.7840\n",
      "Epoch 9/20\n",
      "238/238 [==============================] - 18s 76ms/step - loss: 27.5508 - mae: 3.8906 - val_loss: 62.6890 - val_mae: 6.7944\n",
      "Epoch 10/20\n",
      "238/238 [==============================] - 18s 76ms/step - loss: 26.7343 - mae: 3.8011 - val_loss: 56.8808 - val_mae: 6.5142\n",
      "Epoch 11/20\n",
      "238/238 [==============================] - 18s 77ms/step - loss: 25.0713 - mae: 3.6918 - val_loss: 60.3954 - val_mae: 6.6650\n",
      "Epoch 12/20\n",
      "238/238 [==============================] - 18s 76ms/step - loss: 25.0140 - mae: 3.6677 - val_loss: 57.7759 - val_mae: 6.6260\n",
      "Epoch 13/20\n",
      "238/238 [==============================] - 18s 77ms/step - loss: 24.5025 - mae: 3.6340 - val_loss: 60.9710 - val_mae: 6.7552\n",
      "Epoch 14/20\n",
      "238/238 [==============================] - 18s 77ms/step - loss: 24.3381 - mae: 3.5977 - val_loss: 50.7074 - val_mae: 6.0866\n",
      "Epoch 15/20\n",
      "238/238 [==============================] - 18s 77ms/step - loss: 23.3895 - mae: 3.5469 - val_loss: 53.6663 - val_mae: 6.2774\n",
      "Epoch 16/20\n",
      "238/238 [==============================] - 18s 76ms/step - loss: 23.5880 - mae: 3.5325 - val_loss: 56.6863 - val_mae: 6.4774\n",
      "Epoch 17/20\n",
      "238/238 [==============================] - 18s 76ms/step - loss: 23.1132 - mae: 3.5072 - val_loss: 52.7406 - val_mae: 6.1732\n",
      "Epoch 18/20\n",
      "238/238 [==============================] - 18s 76ms/step - loss: 22.0640 - mae: 3.4073 - val_loss: 57.4329 - val_mae: 6.5649\n",
      "Epoch 19/20\n",
      "238/238 [==============================] - 18s 76ms/step - loss: 21.5818 - mae: 3.3486 - val_loss: 51.2815 - val_mae: 6.1198\n",
      "Chunk 8/52 // 13.46% Complete // Cycle 2/3\n"
     ]
    },
    {
     "name": "stderr",
     "output_type": "stream",
     "text": [
      "y:\\ML\\Anaconda\\envs\\TF-GPU\\lib\\site-packages\\sklearn\\preprocessing\\_label.py:876: UserWarning: unknown class(es) [' Animation Arts ', ' Atlus ', ' Bitworks ', ' Black Wing Foundation ', ' Cauldron Ltd. ', ' Cliffhanger Productions ', ' Coatsink Software ', ' Dead Mage ', ' Devoured Studios ', ' EA Redwood Shores ', ' Elemental Games', ' Engine Software ', ' Factor 5 ', ' Fire Face ', ' Gamasoft ', ' Games Farm s.r.o. ', ' Infinite Interactive ', ' Introversion Software ', ' Jo-Mei Games ', ' Just Add Water', ' Kaigan Games ', ' Krome Studios ', ' Marvelous AQL ', ' Mixed Realms ', ' Mossmouth ', ' Multiverse ', ' Project Soul ', ' Red Storm Entertainment ', ' Shaba Games ', ' Studio 369 ', ' Studio Fizbin ', ' Terri Vellmann & Doseone ', ' Vlambeer ', ' d3t Ltd ', '17-Bit ', '5 Lives Studios ', '5000ft Inc. ', '5TH Cell ', 'Activision', 'Alan Hazelden & Harry Lee ', 'Amanita Design ', 'Animation Arts ', 'Artdink', 'Artifice Studio ', 'Artificer ', 'Arxel Tribe ', 'Asymmetric Publications ', 'Bandai Namco Games', 'Beau Blyth ', 'Big Robot Ltd ', 'Black Element ', 'Black Lab Games ', 'Black Lion Studios ', 'Black Rock Studio ', 'Bloodirony ', 'Broken Rules ', 'Bullfrog Productions ', 'CBE software ', 'Cadenza ', 'Cat Daddy Games ', 'Choice Provisions ', 'Chucklefish ', 'Cliffhanger Productions', 'Cracked Heads Games ', 'Crackshell ', 'Crea-ture Studios ', 'Croteam', 'DAMAGE STATE LTD ', 'DarkStar Games ', 'Dead Mage Studio', 'Deep Red ', 'Den-Yu-Sha ', 'Derek Yu', 'Detalion ', 'DoubleDutch Games ', 'Douze Dixiemes ', 'Dramatic Labs ', 'Draw Distance ', 'Ebb Software ', 'Echodog Games ', 'Edelweiss ', 'Egidijus Bachur ', 'Enigami ', 'Enlight Software', 'Escape ', 'Extend Interactive ', 'FASA Studio ', 'FLOW COMBINE ', 'Facepunch Studios ', 'Finish Line Games ', 'FishTankStudio ', 'Fizbin', 'Fizz Factor ', 'Flying Oak Games ', 'Free Radical Design ', 'Free Reign Entertainment ', 'Fusionsphere Systems', 'Fusionsphere Systems ', 'Games Farm', 'Games Farm ', 'Garage 227 ', 'Genetic Anomalies ', 'Glass Bottom Games ', 'Greylock Studio ', 'Grimlore Games ', 'HAKAMA ', 'Harebrained Schemes LLC ', 'Human Head Studios', 'IMGN.PRO ', 'Infogrames ', 'Introversion', 'Ironward ', 'Italic Pig ', 'Jesse Makkonen ', 'Jumpship ', 'Jutsu Games ', 'Kaigan Games OU', 'LGK Games ', 'MPS Labs ', 'Mad Head Games ', 'MadLightStudio ', 'Malfador Machinations ', 'Mandragora ', 'Massive Damage', 'Maxis', 'Mega Crit Games ', 'Meridian4 ', 'Meteorise ', 'Metropolis Software ', 'Might and Delight ', 'Mimimi Games ', 'MinMax Games Ltd. ', 'Mind over Matter ', 'Minds-Eye Productions ', 'Mixed Realms Pte Ltd', \"Mommy's Best Games \", 'Monomi Park ', 'Morgondag ', 'Mossmouth', 'Multiverse Games', 'Murudai ', 'Mystic Box ', 'N-Game Studios', 'Naked Sky Entertainment ', 'Nexon ', 'Night Dive Studios ', 'Nucleosys ', 'Nyamakop ', 'Okugi Studio ', 'Oovee Game Studios ', 'Owen Deery', 'Owned by Gravity ', 'Passtech Games ', 'Protocol Games ', 'Provox Games ', 'Pulsetense Games ', 'Rebellion', 'Rebelmind ', 'Red Blue Games ', 'Redlock Studio ', 'Reflexive Entertainment ', 'Reply Game Studios ', 'Retro Affect ', 'Retro Forge ', 'Right Nice Games ', 'Rotobee ', 'Runecraft ', 'Runewaker Entertainment ', 'Runner Duck ', 'SEGA Racing Studio ', 'SNK Corporation ', 'Sabotage Studio ', 'Samurai Punk ', 'Santa Ragione ', 'Scavengers Studio ', 'Seamless Entertainment', 'Shed-Works ', 'Sidhe Interactive ', 'Silver Style ', 'Ska Studios', 'Skunkape Games ', 'Skyshine Games ', 'Slitherine ', 'Sloclap ', 'Sneaky Yak Studio ', 'Solar Sail Games ', 'Something Classic Games LLC ', 'SouthPAW Games ', 'Southend Interactive ', 'Space Bullet Dynamics Corporation ', 'Sperasoft ', 'Spiral Circus ', 'Splashteam ', 'Star Gem Inc. ', 'State of Play Games ', 'Survios ', 'Swing Swing Submarine ', 'Tactical Adventures ', 'Taito Corporation ', 'Taldren ', 'Tamsoft', 'Tamsoft ', 'Team Gotham ', 'Terri Vellimann', 'Totally Games ', 'Treyarch', 'Ultimation Inc. ', 'Unicube ', 'Uprising Studios ', 'VSTEP ', 'Valkyrie Studios ', 'Vblank Entertainment Inc. ', 'Vine ', 'Vivid Games ', 'Wadjet Eye Games ', 'Wales Interactive ', 'WayForward ', 'White Birds Productions ', 'Wings Simulations ', 'Wolf Brew Games ', 'Wolfpack Studios ', 'XYLA Entertainment ', 'Youxiland', 'Ysbryd Games ', 'Zachtronics Industries ', 'Zojoi Studios ', 'iFun4all ', 'inkle ', 'rose-engine ', 'stillalive studios '] will be ignored\n",
      "  \"unknown class(es) {0} will be ignored\".format(sorted(unknown, key=str))\n"
     ]
    },
    {
     "name": "stdout",
     "output_type": "stream",
     "text": [
      "Epoch 1/20\n",
      "242/242 [==============================] - 19s 76ms/step - loss: 38.7907 - mae: 4.8167 - val_loss: 70.3543 - val_mae: 7.1670\n",
      "Epoch 2/20\n",
      "242/242 [==============================] - 18s 76ms/step - loss: 32.0641 - mae: 4.3408 - val_loss: 63.1414 - val_mae: 6.8142\n",
      "Epoch 3/20\n",
      "242/242 [==============================] - 19s 77ms/step - loss: 28.9428 - mae: 4.1062 - val_loss: 61.8341 - val_mae: 6.7121\n",
      "Epoch 4/20\n",
      "242/242 [==============================] - 19s 77ms/step - loss: 26.5133 - mae: 3.8847 - val_loss: 57.9647 - val_mae: 6.5350\n",
      "Epoch 5/20\n",
      "242/242 [==============================] - 18s 76ms/step - loss: 24.9097 - mae: 3.7695 - val_loss: 55.3476 - val_mae: 6.2870\n",
      "Epoch 6/20\n",
      "242/242 [==============================] - 19s 77ms/step - loss: 23.7172 - mae: 3.6562 - val_loss: 56.6204 - val_mae: 6.4003\n",
      "Epoch 7/20\n",
      "242/242 [==============================] - 18s 76ms/step - loss: 22.5701 - mae: 3.5664 - val_loss: 50.3764 - val_mae: 6.0328\n",
      "Epoch 8/20\n",
      "242/242 [==============================] - 18s 76ms/step - loss: 21.2705 - mae: 3.4378 - val_loss: 49.3058 - val_mae: 5.9862\n",
      "Epoch 9/20\n",
      "242/242 [==============================] - 19s 77ms/step - loss: 20.3555 - mae: 3.3575 - val_loss: 46.4052 - val_mae: 5.7620\n",
      "Epoch 10/20\n",
      "242/242 [==============================] - 18s 76ms/step - loss: 19.7592 - mae: 3.3203 - val_loss: 44.8576 - val_mae: 5.6799\n",
      "Epoch 11/20\n",
      "242/242 [==============================] - 18s 76ms/step - loss: 19.3984 - mae: 3.2743 - val_loss: 45.4093 - val_mae: 5.7229\n",
      "Epoch 12/20\n",
      "242/242 [==============================] - 19s 77ms/step - loss: 18.9737 - mae: 3.2347 - val_loss: 39.0722 - val_mae: 5.2209\n",
      "Epoch 13/20\n",
      "242/242 [==============================] - 18s 76ms/step - loss: 17.8926 - mae: 3.1386 - val_loss: 39.7182 - val_mae: 5.2843\n",
      "Epoch 14/20\n",
      "242/242 [==============================] - 19s 77ms/step - loss: 17.7885 - mae: 3.0924 - val_loss: 36.3413 - val_mae: 5.0233\n",
      "Epoch 15/20\n",
      "242/242 [==============================] - 18s 76ms/step - loss: 17.4350 - mae: 3.0542 - val_loss: 35.4743 - val_mae: 4.9333\n",
      "Epoch 16/20\n",
      "242/242 [==============================] - 19s 78ms/step - loss: 17.1428 - mae: 3.0278 - val_loss: 36.4819 - val_mae: 5.0740\n",
      "Epoch 17/20\n",
      "242/242 [==============================] - 19s 77ms/step - loss: 17.3243 - mae: 3.0506 - val_loss: 30.0597 - val_mae: 4.4741\n",
      "Epoch 18/20\n",
      "242/242 [==============================] - 18s 76ms/step - loss: 16.8227 - mae: 2.9757 - val_loss: 36.6970 - val_mae: 5.0279\n",
      "Epoch 19/20\n",
      "242/242 [==============================] - 19s 77ms/step - loss: 15.8888 - mae: 2.9287 - val_loss: 31.9376 - val_mae: 4.7199\n",
      "Epoch 20/20\n",
      "242/242 [==============================] - 18s 75ms/step - loss: 16.2967 - mae: 2.9570 - val_loss: 36.0497 - val_mae: 5.0405\n",
      "Chunk 9/52 // 15.38% Complete // Cycle 2/3\n"
     ]
    },
    {
     "name": "stderr",
     "output_type": "stream",
     "text": [
      "y:\\ML\\Anaconda\\envs\\TF-GPU\\lib\\site-packages\\sklearn\\preprocessing\\_label.py:876: UserWarning: unknown class(es) ['Text', 'Trainer'] will be ignored\n",
      "  \"unknown class(es) {0} will be ignored\".format(sorted(unknown, key=str))\n",
      "y:\\ML\\Anaconda\\envs\\TF-GPU\\lib\\site-packages\\sklearn\\preprocessing\\_label.py:876: UserWarning: unknown class(es) [' Awaken Realms ', ' B.B.Studio ', ' Co. LTD ', ' Deck Nine Games ', ' Digital Eclipse ', ' Dire Wolf Digital ', ' Do My Best Games ', ' Endnight Studios ', ' Florian Himsl ', ' Fullbright ', ' Furious Bee ', ' Ishtar Games Inc. ', ' King Art Games ', ' Koalabs ', ' Point Blank ', ' Quasar ', ' Question ', ' Ragequit Corporation ', ' Skookum Arts ', ' Slitherine ', ' Splendy Games ', ' Studio Fizbin ', ' Super Awesome Hyper Dimensional Mega Team ', ' Tyler Glaiel  ', ' Uppercut Games Pty Ltd ', ' XPEC Entertainment Inc. ', ' YCJY Games ', '10tons ', '3D2 Entertainment ', '4Head Studios ', 'AGO Games ', 'ARS GOETIA ', 'Abstraction Games ', 'Abyss Gameworks ', 'Act 3 Games', 'Akabaka ', 'Akella', 'Arcen Games', 'Artefacts Studio ', 'Artificial Mind and Movement ', 'Arxel Tribe ', 'Ashdar Games ', 'Attention To Detail ', 'Awaceb ', 'Awaken Realms Digital', 'Awfully Nice Studios ', 'Bad Viking ', 'Banpresto', 'Baroque Decay ', 'BattleGoat Studios ', 'Beethoven & Dinosaur ', 'Bellular Studios ', 'Big Ant Studios ', 'Big Finish Games ', 'Bkom ', 'Blackmill Games ', 'Blue 52 ', 'Blue Tongue Entertainment ', 'BonusXP ', 'Bossa Studios ', 'Braingame ', 'Brainwash Gang ', 'CCCP', 'Caligari Games ', 'Camel 101 ', 'Capy Games ', 'Chasing Rats Games ', 'Chibig ', 'Choice Provisions ', 'Cloak and Dagger Games ', 'Cockroach Inc. ', 'Color Gray Games ', 'Convict Games ', 'Cosmo D Studios ', 'Cranberry Production ', 'Crema Games ', 'Cryo Interactive ', 'Cultic Games ', 'Curve Digital ', 'Curve Studios ', 'Daedalic Studio West ', 'Dancing Dragon games ', 'Daniel Benmergui ', 'Darkling Room ', 'Davey Wreden ', 'Deconstructeam ', 'Destroyer Studios ', 'Dialogue Design ', 'Digital Sun ', 'Dimps Corporation ', 'Dragon Slumber ', 'DreamCatcher Interactive ', 'Droqen ', 'Echo Chamber Games ', 'Eden Studios ', 'Edmund McMillen', 'Ellipse Studios ', 'Embers ', 'Empty Clip Studios ', 'Enhance Games ', 'Exakt ', 'FIX Korea', 'Failbetter Games ', 'Fairyship Games ', 'Fireglow ', 'Fizbin', 'Free Lives ', 'Fury Software ', 'Future Games ', 'Galilea Multimedia ', 'Game Freak ', 'GameCo ', 'Gaming Corps AB ', 'GhostShark Games ', 'GoldKnights Studio ', 'GolemLabs ', 'Grimorio of Games ', 'Grip Games ', 'Happy Volcano ', 'Harvester Games ', 'Headup Games ', 'House of Tales ', 'IF Games ', 'IMC Games ', 'Illusion Ray Studio ', 'Image & Form ', 'Inevitable Entertainment ', 'Iron Tower Studio ', 'James Interactive ', 'Jason Rohrer ', 'Joe Richardson ', 'Johamm Tael & Mihkel Tael ', 'KING Art', 'Kamehan Studios ', 'Kite Games ', 'Konami', 'Ladyluck Digital Media ', 'Leonard Menchiari ', 'Lexis Numerique ', \"Lion's Shade \", 'Little Green Men ', 'Locomalito ', 'M2 ', 'Magic Lantern ', 'Magitech ', 'Mana Games ', 'Marvelous Inc. ', \"Mi'pu'mi Games \", 'Microids', 'Midway ', 'Mighty Yell ', 'Minds-Eye Productions ', 'Modern Storyteller ', 'Monochrome Paris ', 'Mouldy Toof Studios ', 'Mucky Foot Productions ', 'Neon Doctrine ', 'Neon Giant ', 'Nicalis ', 'Night Dive Studios ', 'No Bull Intentions ', 'No Code ', 'Noumena Productions ', 'Numinous Games ', 'Odd Bug Studio ', 'Omni Creative Group ', 'Orthogonal Games ', 'Over The Moon ', 'Owl Cave ', 'Paranoid Productions ', 'Paul Cuisset ', 'Pewter Games Studios ', 'Pillow Castle Games ', 'Pixel Titans ', 'Pixelogic ', 'Plot Twist ', 'Point Blank Games', 'PostMod Softworks ', 'Power Struggle Games ', 'Psyche Studios ', 'Punk Notion ', 'Puuba ', 'Question ', 'Questionary', 'RLR Training Inc ', 'Rain Games ', 'Random Potion Oy ', 'Rebelmind ', 'Rival Games Ltd ', 'Rusty Lake ', 'SKS Games', 'Sabotage Studio ', 'Sam Barlow', 'Serellan LLC ', 'Serenity Forge ', 'Sever ', 'Shark Punch ', 'Sierra Entertainment ', 'Sigtrap Games ', 'Skookum Arts LLC', 'SkyBox Labs ', 'SkyGoblin ', 'Sleepless Clinic ', 'Sleepy Sentry ', 'Slendy Interactive', 'Slitherine Software', 'Smoking Car Productions ', 'Spearhead Games ', 'Spooky Doorway ', 'Strangelite ', 'Strike Vector Team', 'Stubby Games ', 'Studio Seufz ', 'Summerfall Studios ', 'Super Mega Team', 'Surreal Software ', 'Swing Swing Submarine ', 'THE BROTHERHOOD ', 'Taldren ', 'Tale of Tales ', 'Tate Multimedia ', 'Team Gotham ', 'Technocrat ', 'Teotl Studios ', 'The Artistocrats ', 'The Bitmap Brothers ', 'The Collective ', 'The Fullbright Company', 'The Molasses Flood ', 'The Odd Gentlemen ', 'The Voxel Agents ', 'Third Wire ', 'Thunkd ', 'Tomas Sala ', 'Torpor Games ', 'Tribute Games ', 'Tuxedo Labs ', 'Ty Taylor and Mario Castaneda ', 'Uber Entertainment ', 'Ubisoft Annecy ', 'Uppercut Games', 'Uppercut Games Pty Ltd ', 'VRESKI ', 'ValuSoft ', 'Vertex4 ', 'Wadjet Eye Games ', 'Wales Interactive ', 'White Owls ', 'White Paper Games ', 'Wideload Games Inc. ', 'Wonderstruck Games ', 'WorldForge ', 'Wormwood Studios ', 'Xilam ', 'Xpec', 'YCJY', 'Zenimax Online Studios ', 'Zenovia ', 'Zero Sum Games ', 'Zoink! ', 'eSim Games ', 'h.a.n.d. Inc. ', 'increpare ', 'mif2000 ', 'nDreams ', 'tinyBuild'] will be ignored\n",
      "  \"unknown class(es) {0} will be ignored\".format(sorted(unknown, key=str))\n"
     ]
    },
    {
     "name": "stdout",
     "output_type": "stream",
     "text": [
      "Epoch 1/20\n",
      "236/236 [==============================] - 18s 76ms/step - loss: 42.2504 - mae: 4.8257 - val_loss: 65.1929 - val_mae: 6.8000\n",
      "Epoch 2/20\n",
      "236/236 [==============================] - 18s 75ms/step - loss: 36.1643 - mae: 4.4506 - val_loss: 56.7945 - val_mae: 6.3442\n",
      "Epoch 3/20\n",
      "236/236 [==============================] - 18s 76ms/step - loss: 33.9191 - mae: 4.2852 - val_loss: 59.0650 - val_mae: 6.5146\n",
      "Epoch 4/20\n",
      "236/236 [==============================] - 18s 76ms/step - loss: 32.2962 - mae: 4.1787 - val_loss: 60.3421 - val_mae: 6.6701\n",
      "Epoch 5/20\n",
      "236/236 [==============================] - 18s 76ms/step - loss: 30.7357 - mae: 4.0966 - val_loss: 60.5925 - val_mae: 6.6654\n",
      "Epoch 6/20\n",
      "236/236 [==============================] - 18s 76ms/step - loss: 29.1512 - mae: 3.9911 - val_loss: 66.0227 - val_mae: 7.0200\n",
      "Epoch 7/20\n",
      "236/236 [==============================] - 18s 76ms/step - loss: 28.0070 - mae: 3.9073 - val_loss: 55.7188 - val_mae: 6.3601\n",
      "Epoch 8/20\n",
      "236/236 [==============================] - 18s 75ms/step - loss: 27.1685 - mae: 3.8402 - val_loss: 52.3428 - val_mae: 6.1452\n",
      "Epoch 9/20\n",
      "236/236 [==============================] - 18s 77ms/step - loss: 26.2249 - mae: 3.7663 - val_loss: 49.8060 - val_mae: 5.9489\n",
      "Epoch 10/20\n",
      "236/236 [==============================] - 18s 76ms/step - loss: 26.6972 - mae: 3.7790 - val_loss: 52.5113 - val_mae: 6.1659\n",
      "Epoch 11/20\n",
      "236/236 [==============================] - 18s 76ms/step - loss: 25.2135 - mae: 3.6733 - val_loss: 53.1874 - val_mae: 6.2235\n",
      "Epoch 12/20\n",
      "236/236 [==============================] - 18s 76ms/step - loss: 25.0234 - mae: 3.6450 - val_loss: 46.5049 - val_mae: 5.7376\n",
      "Epoch 13/20\n",
      "236/236 [==============================] - 18s 76ms/step - loss: 25.0099 - mae: 3.6359 - val_loss: 45.7289 - val_mae: 5.7009\n",
      "Epoch 14/20\n",
      "236/236 [==============================] - 18s 76ms/step - loss: 25.0165 - mae: 3.6297 - val_loss: 43.4850 - val_mae: 5.4950\n",
      "Epoch 15/20\n",
      "236/236 [==============================] - 18s 76ms/step - loss: 24.2760 - mae: 3.5637 - val_loss: 52.4499 - val_mae: 6.1917\n",
      "Epoch 16/20\n",
      "236/236 [==============================] - 18s 75ms/step - loss: 24.3300 - mae: 3.5459 - val_loss: 43.4841 - val_mae: 5.5427\n",
      "Epoch 17/20\n",
      "236/236 [==============================] - 18s 77ms/step - loss: 22.8036 - mae: 3.4353 - val_loss: 44.0515 - val_mae: 5.5950\n",
      "Epoch 18/20\n",
      "236/236 [==============================] - 18s 75ms/step - loss: 21.6095 - mae: 3.3870 - val_loss: 44.4452 - val_mae: 5.6165\n",
      "Epoch 19/20\n",
      "236/236 [==============================] - 18s 76ms/step - loss: 21.8935 - mae: 3.3819 - val_loss: 43.4188 - val_mae: 5.5829\n",
      "Epoch 20/20\n",
      "236/236 [==============================] - 18s 76ms/step - loss: 22.8013 - mae: 3.4411 - val_loss: 46.6174 - val_mae: 5.7571\n",
      "Chunk 10/52 // 17.31% Complete // Cycle 2/3\n"
     ]
    },
    {
     "name": "stderr",
     "output_type": "stream",
     "text": [
      "y:\\ML\\Anaconda\\envs\\TF-GPU\\lib\\site-packages\\sklearn\\preprocessing\\_label.py:876: UserWarning: unknown class(es) ['Text'] will be ignored\n",
      "  \"unknown class(es) {0} will be ignored\".format(sorted(unknown, key=str))\n",
      "y:\\ML\\Anaconda\\envs\\TF-GPU\\lib\\site-packages\\sklearn\\preprocessing\\_label.py:876: UserWarning: unknown class(es) [' 1C', ' 2K Sports ', ' Atlantis Interactive Entertainment ', ' CINIC Games ', ' Cavalier Game Studios ', ' Cherrymochi ', ' Crenetic Studios ', ' Crows Crows Crows ', ' Drool ', ' Duality Games ', ' Hotta Studio ', ' KRAFTON Inc. ', ' Kukouri Mobile Entertainment ', ' Mercenary Technologies ', ' ONEOONE GAMES ', ' Pieces Interactive ', ' Sumo Nottingham ', ' Supergonk ', ' Team Toro ', ' Ubisoft Paris ', ' Xeen ', ' btf ', '101%', '258 Productions AB ', '2By3 Games ', '2x2 Games ', '49Games ', 'AGEOD ', 'AREA35 ', 'Acid Nerve ', 'Adeline Software ', 'Alawar Premium ', 'Alien Pixel Studios ', 'Antagonist ', 'Ares Dragonis ', 'Artdink ', 'Aspyr', 'Atlantis Interactive Entertainment\\t', 'Auran ', 'Backwoods Entertainment ', 'Battlefront.com', 'Big Robot Ltd ', 'Black Pants ', 'Blendo Games ', 'BlueGiant Interactive ', 'Brainy Studio LLC ', 'BreakAway Games ', 'Bulkhead Interactive ', 'Burut Software ', 'C.I.N.I.C. Games', 'Camel 101 ', 'Can Explode ', 'Carbon Studio ', 'Cavedog Entertainment ', 'Chaos Concept ', 'Cinemaware ', 'Click Entertainment ', 'Colibri Games ', 'ComonGames ', 'Computer Artworks ', 'Core Design Ltd. ', 'Cowardly Creations ', 'DNS Development ', 'Dan Smith Studios ', 'Davey Wreden ', 'Daydream Software ', 'Deadline Games ', 'Deconstructeam ', 'Deep Red ', 'Double Zero One Zero ', 'Draw Me A Pixel ', 'Dual Effect ', 'Duality Studio', 'Dynamix ', 'EXOR Studios ', 'Echtra Games', 'Event Horizon Software ', 'Expansive Worlds ', 'Facepalm Games ', 'Falling Squirrel ', 'Feral Interactive ', 'Fireart Games ', 'Fireproof Games ', 'Flazm ', 'Freebird Games ', 'Frog City Software ', 'Frogwares', 'GRIN', 'Galactic Cafe', 'Game-Labs ', 'Gatling Goat Studios ', 'Gato Salvaje Studio ', 'Gigawatt Studios ', 'Grasshopper Manufacture ', 'Grip Games ', 'Gun Interactive', 'Headup Games', 'High Moon Studios', 'Humanature Studios ', 'HyperBole Studios ', 'ISOMETRICORP Games ', 'Ice-Pick Lodge ', 'Iceberg Interactive', 'Iridium Studios ', 'Iron Lore Entertainment', 'Ironward ', 'KT Racing ', 'Kite Games ', 'LEAP Game Studios ', 'LKA ', 'Luis Antonio ', 'Luxoflux', 'Maddy Thorson ', 'Minority Media Inc. ', 'Modern Dream ', 'Moonlight Kids ', 'Morbidware ', 'Most Wanted Entertainment ', 'MuHa Games ', 'Naughty Dog', 'Neversoft Entertainment ', 'Nevrax ', 'Nicely Crafted ', 'Night Dive Studios ', 'Norsfell ', 'Numantian Games ', 'OhNoo ', 'One Bit Beyond ', 'OtherSide Entertainment ', 'OverBorder Studio ', 'Paintbucket Games ', 'Pixwerk ', 'Playmestudio ', 'Pocketwatch Games ', 'Point of View ', 'Prograph ', 'Propaganda Games ', 'Proxima Beta Europe B.V.', 'Puuba ', 'Puzzling Dream ', 'Rat King Entertainment ', 'Red Storm Entertainment', 'Replay Studios', 'Rogue Sun ', 'Ron Gilbert and Gary Winnick ', 'SMAC Games ', 'Shifting Tides ', 'Size Five Games ', 'Skybound LLC', 'Skydance Interactive ', 'Something We Made ', 'SpectreVision ', 'Spidersoft', 'Splashteam ', 'Spooky Squid Games ', 'Stormling Studios ', 'Streko-Graphics Inc. ', 'Stygian Software ', 'SuperPAC ', 'SuperSexySoftware ', 'Supergonk Ltd.', 'Surreal Software ', 'Survios ', 'Swordtales ', 'Terrible Posture Games ', 'The Station ', 'Timeline Computer Entertainment ', 'Tin Man Games ', 'Tragnarion Studios ', 'Trecision ', 'Trepang Studios ', 'Two Tribes ', 'TwoPM Studios ', 'Ubisoft Blue Byte ', 'Ubisoft Milan ', 'Ubisoft Singapore ', 'Urban Games ', 'Urnique Studio ', 'Vicarious Visions ', 'Vitamin G Studios ', 'Wadjet Eye Games ', 'Whatboy Games ', 'Yukon Wainczak ', 'Zombie Cow Studios ', '[bracket]games ', 'btf GmbH', 'damiansommer ', 'dietzribi ', 'drool Games', 'fragOut Studio', 'neo Software ', 'tobyfox '] will be ignored\n",
      "  \"unknown class(es) {0} will be ignored\".format(sorted(unknown, key=str))\n"
     ]
    },
    {
     "name": "stdout",
     "output_type": "stream",
     "text": [
      "Epoch 1/20\n",
      "242/242 [==============================] - 19s 76ms/step - loss: 38.3587 - mae: 4.6944 - val_loss: 74.4005 - val_mae: 7.4992\n",
      "Epoch 2/20\n",
      "242/242 [==============================] - 18s 75ms/step - loss: 31.2096 - mae: 4.2288 - val_loss: 66.8306 - val_mae: 7.1207\n",
      "Epoch 3/20\n",
      "242/242 [==============================] - 18s 76ms/step - loss: 28.7885 - mae: 4.0233 - val_loss: 61.2050 - val_mae: 6.8493\n",
      "Epoch 4/20\n",
      "242/242 [==============================] - 18s 75ms/step - loss: 26.3527 - mae: 3.8422 - val_loss: 60.2695 - val_mae: 6.7781\n",
      "Epoch 5/20\n",
      "242/242 [==============================] - 18s 76ms/step - loss: 26.2362 - mae: 3.8096 - val_loss: 55.2848 - val_mae: 6.4834\n",
      "Epoch 6/20\n",
      "242/242 [==============================] - 18s 76ms/step - loss: 24.4471 - mae: 3.6653 - val_loss: 57.2190 - val_mae: 6.6472\n",
      "Epoch 7/20\n",
      "242/242 [==============================] - 18s 76ms/step - loss: 23.3928 - mae: 3.5659 - val_loss: 52.1755 - val_mae: 6.3260\n",
      "Epoch 8/20\n",
      "242/242 [==============================] - 19s 77ms/step - loss: 22.1461 - mae: 3.4809 - val_loss: 54.3579 - val_mae: 6.4684\n",
      "Epoch 9/20\n",
      "242/242 [==============================] - 18s 76ms/step - loss: 21.9427 - mae: 3.4415 - val_loss: 57.1890 - val_mae: 6.6864\n",
      "Epoch 10/20\n",
      "242/242 [==============================] - 19s 77ms/step - loss: 21.2509 - mae: 3.3974 - val_loss: 52.6523 - val_mae: 6.3709\n",
      "Epoch 11/20\n",
      "242/242 [==============================] - 19s 77ms/step - loss: 20.9706 - mae: 3.3382 - val_loss: 52.0653 - val_mae: 6.3907\n",
      "Epoch 12/20\n",
      "242/242 [==============================] - 19s 78ms/step - loss: 20.0926 - mae: 3.2899 - val_loss: 50.9397 - val_mae: 6.2944\n",
      "Epoch 13/20\n",
      "242/242 [==============================] - 18s 75ms/step - loss: 19.3954 - mae: 3.2117 - val_loss: 51.4427 - val_mae: 6.3649\n",
      "Epoch 14/20\n",
      "242/242 [==============================] - 18s 75ms/step - loss: 18.3029 - mae: 3.1379 - val_loss: 47.0739 - val_mae: 6.0551\n",
      "Epoch 15/20\n",
      "242/242 [==============================] - 19s 77ms/step - loss: 18.3106 - mae: 3.1362 - val_loss: 50.7528 - val_mae: 6.3045\n",
      "Epoch 16/20\n",
      "242/242 [==============================] - 19s 77ms/step - loss: 18.3518 - mae: 3.1041 - val_loss: 50.9085 - val_mae: 6.3700\n",
      "Epoch 17/20\n",
      "242/242 [==============================] - 19s 77ms/step - loss: 18.4373 - mae: 3.1001 - val_loss: 49.6662 - val_mae: 6.2704\n",
      "Epoch 18/20\n",
      "242/242 [==============================] - 18s 76ms/step - loss: 18.3620 - mae: 3.1187 - val_loss: 50.3544 - val_mae: 6.3162\n",
      "Epoch 19/20\n",
      "242/242 [==============================] - 18s 76ms/step - loss: 18.0497 - mae: 3.0821 - val_loss: 49.0783 - val_mae: 6.2458\n",
      "Chunk 11/52 // 19.23% Complete // Cycle 2/3\n"
     ]
    },
    {
     "name": "stderr",
     "output_type": "stream",
     "text": [
      "y:\\ML\\Anaconda\\envs\\TF-GPU\\lib\\site-packages\\sklearn\\preprocessing\\_label.py:876: UserWarning: unknown class(es) [' 3DClouds ', ' Avalanche Software ', ' Behaviour Interactive ', ' Blackmill Games ', ' Cape Guy ', ' Eurocom ', ' Flashback Games ', ' Forever Entertainment ', ' Goldhawk Interactive ', ' Gone North Games ', ' In Images ', ' KADOKAWA CORPORATION ', ' Lab42 ', ' ML Enterprises ', ' Mandel ArtPlains ', ' Persha Studia ', ' Reborn Games Inc. ', ' Revistronic ', ' Soleil Ltd. ', ' Sumo Digital Academy ', ' Talawa Games ', ' Toylogic ', ' Visual Concepts ', ' comcept ', ' iNK Stories ', '110 Industries', '1P2P ', '2x2 Games ', '3000AD', '3DClouds.it', '5 Lives Studios ', 'Accidental Queens ', 'Ackkstudios ', 'Acquire ', 'Action Button Entertainment ', 'Alientrap ', 'Arcen Games', 'Asymmetric Publications ', 'Auroch Digital ', 'B-Alive ', 'Baroque Decay ', 'Behaviour Interactive Inc.', 'Black Cactus ', 'Black Lab Games ', 'Black Sea Studios ', 'Blue Manchu ', 'Bojan Brbora ', 'Brave at Night ', 'BreakAway Games ', 'Bulwark Studios ', 'Celeris ', 'Chucklefish ', 'Clifftop Games ', 'Coldwood Interactive ', 'Complex Games Inc. ', 'Cordens Interactive ', 'Cornered Rat ', 'Crazy Viking Studios ', 'Crocodile Entertainment ', 'Deadline Games ', 'Deadpan Games ', 'Deep Red ', 'Dejobaan Games ', 'Devespresso Games ', 'Different Tales ', 'Digital Spray Studios', 'Digixart Entertainment ', 'Dim Bulb Games ', 'Direct Action Games ', 'DotEmu ', 'Draw Distance ', 'Dream Execution ', 'Dumb and Fat Games ', 'EVC ', 'EXOR Studios ', 'Eden Industries ', 'Emobi Games ', 'Endless Fluff ', 'Eurocom Entertainment Software', 'FarmerGnome ', 'Fast Travel Games ', 'Fatbot Games ', 'Fatshark AB ', 'Forever Entertainment S.A.', 'Fragment Production Ltd', 'Freebird Games ', 'Funomena ', 'G5 Software ', 'GabberGames ', 'GameDesignDan ', 'Gamedust ', 'Games Farm ', 'Games Workshop ', 'Gamethunks', 'Gameyus Interactive ', 'Gasket Games ', 'Genius Slackers ', 'Ghost Pattern ', 'Giant Sparrow ', 'Glass Heart Games ', 'Gloomywood ', 'GriN Multimedia ', 'Grundislav Games ', 'Guild Software ', 'Halberd Studios ', 'Hammerfall Publishing ', 'Heuristic Park ', 'Hi-Bit Studios ', 'House House ', 'Impressions Games ', 'Innerspace VR ', 'Invictus ', \"It's Anecdotal \", 'Jacob Antonucci', 'Jagex Games Studio ', 'Jason Oda ', 'Jellyvision ', 'JoyMasher ', 'Jutsu Games ', 'KT Racing ', 'Kadokawa', 'Knuist & Perzik ', 'Kuju Entertainment ', 'Legend Entertainment ', 'Lightning Rod Games ', 'Livesay Technologies ', 'Lumenox ehf ', 'M2H', 'Magic Design Studios ', 'Masque Publishing ', 'Max Inferno ', 'Mega Cat Studios ', 'MicroProse ', 'MidBoss ', 'Misfits Attic ', 'Mojiken Studio ', 'Monokel ', 'Moonbite Games ', 'Moonshark ', 'N-Fusion Interactive Entertainment Corp.', 'Night Light Interactive ', 'Nihilistic ', 'Nine Rocks Games ', 'NoClip ', 'OSome Studio ', 'Ostrich Banditos ', 'Ota Imon Studios ', 'Outsider Games ', 'Owlchemy Labs ', 'Paradox Interactive', 'Pixelated Milk ', 'PlayMagic Ltd ', 'Playwood Project ', 'Polyslash ', 'Prideful Sloth ', 'Project Aces ', 'Project Aces  ', 'Proxy Studios ', 'Pterodon ', 'Pyrodactyl Games ', 'Ratbag ', 'Reflexive Entertainment ', 'Related Designs ', 'Replay Studios', 'Revistonic', 'Rimlight Studios ', 'Ritual Entertainment', 'Robot Gentleman ', 'Rodeo Games ', 'Rooster Teeth Games ', 'Ruud Koorevaar ', 'Ryu ga Gotoku Studios', 'Sad Owl Studios ', 'SadSquare Studio ', 'Santa Ragione ', 'Shiro Games ', 'Silver Wish Games ', 'Silvio & Gey Savarese ', 'Simogo ', 'Sir-Tech Software Inc. ', 'Sky Machine Studios ', 'Sloclap ', 'Sneaky Bastards ', 'Snowed In Studios ', 'Sobaka ', 'Spark Unlimited', 'Spike Chunsoft ', 'Steel Mantis ', 'Strange Loop Games ', 'Strategic Studies Group ', 'Strayllight Entertainment ', 'Studio Drydock Pty Ltd ', 'Studio Pixel Punk ', 'Subterranean Games ', 'Sukeban Games ', 'Sumo Digital', 'Sunflowers Interactive ', 'Super X Studios ', 'Sylum Entertainment ', 'Synetic ', 'Take-Two Interactive', 'Tasharen Entertainment ', 'Tate Multimedia ', 'Team OFK ', 'Teotl Studios', 'Terry Cavanagh ', 'The Bitmap Brothers ', 'The Lordz Games Studio', 'The Wandering Ben ', 'Theta Division ', 'Third Wave Games ', 'Third Wire ', 'Tigon ', 'Total Mayhem Games ', 'Toylogic Inc.', 'Trapdoor ', 'Treyarch', 'Triband ', 'Triple Topping Games ', 'Twisted Pixel Games ', 'Unicorn Games Studio ', 'Upstream Arcade ', 'Variable State ', 'Vile Monarch ', 'Villa Gorilla ', 'Visai Games ', 'WXP ', 'Warcave ', 'Wastelands Interactive ', 'Whale Rock Games ', 'Wide Games ', 'Winning Streak Games ', 'Witch Beam ', 'Wolcen Studio ', 'Wolfeye Studios ', 'Worldwalker Games ', 'Zeal Game Studios ', 'Zuxxez', 'adamgryu ', 'frecle ApS ', 'imaginarylab ', 'inkle', 'poncle ', 'timesymmetry '] will be ignored\n",
      "  \"unknown class(es) {0} will be ignored\".format(sorted(unknown, key=str))\n"
     ]
    },
    {
     "name": "stdout",
     "output_type": "stream",
     "text": [
      "Epoch 1/20\n",
      "234/234 [==============================] - 18s 77ms/step - loss: 41.4967 - mae: 4.7956 - val_loss: 46.0341 - val_mae: 5.4660\n",
      "Epoch 2/20\n",
      "234/234 [==============================] - 18s 77ms/step - loss: 31.8437 - mae: 4.1373 - val_loss: 39.1008 - val_mae: 5.0506\n",
      "Epoch 3/20\n",
      "234/234 [==============================] - 18s 75ms/step - loss: 28.0426 - mae: 3.8807 - val_loss: 37.6674 - val_mae: 4.8784\n",
      "Epoch 4/20\n",
      "234/234 [==============================] - 17s 75ms/step - loss: 26.1871 - mae: 3.7152 - val_loss: 34.1312 - val_mae: 4.6236\n",
      "Epoch 5/20\n",
      "234/234 [==============================] - 18s 76ms/step - loss: 23.9341 - mae: 3.5087 - val_loss: 32.5082 - val_mae: 4.4554\n",
      "Epoch 6/20\n",
      "234/234 [==============================] - 18s 76ms/step - loss: 23.3280 - mae: 3.4755 - val_loss: 34.0426 - val_mae: 4.7075\n",
      "Epoch 7/20\n",
      "234/234 [==============================] - 18s 76ms/step - loss: 21.8767 - mae: 3.3367 - val_loss: 30.1564 - val_mae: 4.3216\n",
      "Epoch 8/20\n",
      "234/234 [==============================] - 18s 77ms/step - loss: 21.6514 - mae: 3.3470 - val_loss: 31.6636 - val_mae: 4.3882\n",
      "Epoch 9/20\n",
      "234/234 [==============================] - 18s 75ms/step - loss: 20.7074 - mae: 3.2465 - val_loss: 28.2221 - val_mae: 4.1335\n",
      "Epoch 10/20\n",
      "234/234 [==============================] - 18s 76ms/step - loss: 19.9860 - mae: 3.1649 - val_loss: 27.5417 - val_mae: 4.1466\n",
      "Epoch 11/20\n",
      "234/234 [==============================] - 18s 75ms/step - loss: 20.3633 - mae: 3.2141 - val_loss: 26.5859 - val_mae: 4.0310\n",
      "Epoch 12/20\n",
      "234/234 [==============================] - 18s 76ms/step - loss: 19.3518 - mae: 3.1210 - val_loss: 29.5969 - val_mae: 4.3802\n",
      "Epoch 13/20\n",
      "234/234 [==============================] - 18s 76ms/step - loss: 17.7748 - mae: 2.9900 - val_loss: 26.6488 - val_mae: 4.1237\n",
      "Epoch 14/20\n",
      "234/234 [==============================] - 18s 77ms/step - loss: 18.8186 - mae: 3.0881 - val_loss: 27.9497 - val_mae: 4.2308\n",
      "Epoch 15/20\n",
      "234/234 [==============================] - 18s 76ms/step - loss: 17.0434 - mae: 2.9513 - val_loss: 25.8434 - val_mae: 3.9963\n",
      "Epoch 16/20\n",
      "234/234 [==============================] - 18s 77ms/step - loss: 17.1408 - mae: 2.9172 - val_loss: 26.4823 - val_mae: 4.1416\n",
      "Epoch 17/20\n",
      "234/234 [==============================] - 18s 76ms/step - loss: 17.7105 - mae: 2.9511 - val_loss: 28.3919 - val_mae: 4.3095\n",
      "Epoch 18/20\n",
      "234/234 [==============================] - 18s 76ms/step - loss: 17.6028 - mae: 2.9320 - val_loss: 24.1072 - val_mae: 3.8899\n",
      "Epoch 19/20\n",
      "234/234 [==============================] - 18s 76ms/step - loss: 15.9833 - mae: 2.8122 - val_loss: 30.0535 - val_mae: 4.4062\n",
      "Epoch 20/20\n",
      "234/234 [==============================] - 17s 75ms/step - loss: 16.4386 - mae: 2.8270 - val_loss: 24.7109 - val_mae: 3.9688\n",
      "Chunk 12/52 // 21.15% Complete // Cycle 2/3\n"
     ]
    },
    {
     "name": "stderr",
     "output_type": "stream",
     "text": [
      "y:\\ML\\Anaconda\\envs\\TF-GPU\\lib\\site-packages\\sklearn\\preprocessing\\_label.py:876: UserWarning: unknown class(es) [' Forgotten Key ', ' Innersloth ', ' Viva Media', ' bitComposer ', 'AWE Games ', 'Acclaim Studios Cheltenham ', 'Aeternum Game Studios ', 'Alientrap ', 'Analgesic Productions ', 'Anarteam ', 'Arcen Games', 'Arxel Tribe ', 'Auroch Digital ', 'Aurogon Shanghai ', 'Big Ant Studios ', 'Bit Blot ', 'Black Element ', 'Broken Rules ', 'Centauri Production ', 'Cold Iron Studios ', 'CreativeForge Games ', 'Cross-Product ', 'Daedalic Entertainment', 'Data Becker ', 'Demruth ', 'Digital Arrow ', 'Dreampainters ', 'Elden Pixels ', 'Fallen Tree Games ', 'Fiction Factory Games ', 'FreakZone ', 'Future Games', 'GUTS Department ', 'Gabe Cuzzillo ', 'Gato Salvaje Studio ', 'GlyphX Games ', 'Hazardous Software  ', 'Himalaya Studios ', 'Iceberg Interactive ', 'Indefatigable ', 'Investigate North ', 'Jagex Games Studio ', 'Jankenteam ', 'Khaeon ', 'Krams Design ', 'Kubat Software ', 'Lince Works ', 'MadMinute Games ', 'Made by Kiddies ', 'Massive Development ', 'Maximum Games ', 'Mischief ', 'MyDearest ', 'Nicolas Intoxicate ', 'Panther Games ', 'Piccolo ', 'Punch Punk Games ', 'Pure FPS ', 'RageSquid ', 'Realtime Worlds ', 'Resolution Games ', 'Revolution of Strategy ', 'Rogue Entertainment ', 'S&G Software ', 'Sandbox Interactive ', 'Schell Games', 'Sigma Team ', 'Skydance Interactive ', 'Spike Chunsoft ', 'Spiral House ', 'Tantalus ', 'The Wandering Band LLC ', 'ThinkingStars ', 'Third Law Interactive ', 'Three One Zero ', 'TicToc Games ', 'Tim Conkling ', 'Tindalos Interactive ', 'Turmoil Games ', 'U.S. Army ', 'Vagabond Dog ', 'Vertigo Games ', 'WorldForge ', \"Yuke's \", 'bitComposer Games', 'ustwo '] will be ignored\n",
      "  \"unknown class(es) {0} will be ignored\".format(sorted(unknown, key=str))\n"
     ]
    },
    {
     "name": "stdout",
     "output_type": "stream",
     "text": [
      "Epoch 1/20\n",
      "230/230 [==============================] - 18s 77ms/step - loss: 35.1173 - mae: 4.1525 - val_loss: 28.9241 - val_mae: 3.9793\n",
      "Epoch 2/20\n",
      "230/230 [==============================] - 17s 76ms/step - loss: 19.3511 - mae: 2.8872 - val_loss: 27.4379 - val_mae: 4.0138\n",
      "Epoch 3/20\n",
      "230/230 [==============================] - 18s 77ms/step - loss: 15.3378 - mae: 2.4859 - val_loss: 25.0444 - val_mae: 3.8588\n",
      "Epoch 4/20\n",
      "230/230 [==============================] - 18s 76ms/step - loss: 14.3702 - mae: 2.3437 - val_loss: 24.9164 - val_mae: 3.8619\n",
      "Epoch 5/20\n",
      "230/230 [==============================] - 17s 76ms/step - loss: 11.7656 - mae: 2.0955 - val_loss: 24.7961 - val_mae: 3.8726\n",
      "Epoch 6/20\n",
      "230/230 [==============================] - 17s 76ms/step - loss: 10.9727 - mae: 2.0005 - val_loss: 23.3449 - val_mae: 3.8515\n",
      "Epoch 7/20\n",
      "230/230 [==============================] - 17s 76ms/step - loss: 10.1859 - mae: 1.9016 - val_loss: 24.0776 - val_mae: 3.8761\n",
      "Epoch 8/20\n",
      "230/230 [==============================] - 17s 75ms/step - loss: 8.9066 - mae: 1.7612 - val_loss: 24.9664 - val_mae: 3.9198\n",
      "Epoch 9/20\n",
      "230/230 [==============================] - 18s 77ms/step - loss: 8.5657 - mae: 1.7298 - val_loss: 24.5365 - val_mae: 3.8631\n",
      "Epoch 10/20\n",
      "230/230 [==============================] - 18s 76ms/step - loss: 8.3951 - mae: 1.6935 - val_loss: 23.7582 - val_mae: 3.8504\n",
      "Epoch 11/20\n",
      "230/230 [==============================] - 17s 75ms/step - loss: 8.3436 - mae: 1.6365 - val_loss: 22.8720 - val_mae: 3.7693\n",
      "Epoch 12/20\n",
      "230/230 [==============================] - 17s 75ms/step - loss: 8.0660 - mae: 1.6037 - val_loss: 24.4335 - val_mae: 3.9060\n",
      "Epoch 13/20\n",
      "230/230 [==============================] - 17s 76ms/step - loss: 7.5774 - mae: 1.5463 - val_loss: 24.5237 - val_mae: 3.9569\n",
      "Epoch 14/20\n",
      "230/230 [==============================] - 17s 75ms/step - loss: 7.7479 - mae: 1.5283 - val_loss: 25.1748 - val_mae: 3.9193\n",
      "Epoch 15/20\n",
      "230/230 [==============================] - 18s 76ms/step - loss: 7.6156 - mae: 1.5558 - val_loss: 26.8318 - val_mae: 4.0875\n",
      "Epoch 16/20\n",
      "230/230 [==============================] - 17s 75ms/step - loss: 7.3480 - mae: 1.5199 - val_loss: 25.4856 - val_mae: 3.9946\n",
      "Chunk 13/52 // 23.08% Complete // Cycle 2/3\n"
     ]
    },
    {
     "name": "stderr",
     "output_type": "stream",
     "text": [
      "y:\\ML\\Anaconda\\envs\\TF-GPU\\lib\\site-packages\\sklearn\\preprocessing\\_label.py:876: UserWarning: unknown class(es) [' Atlantis Interactive Entertainment ', ' Bird Bath Games ', ' Massive Entertainment', '3D People ', 'A44 ', 'Acme Gamestudio ', 'Artisan Studios ', 'Atlantis Interactive Entertainment\\t', 'AtomTeam ', 'AurumDust ', 'BestGameEver.com ', 'Blendo Games ', 'Breaking Walls ', 'Charles University ', 'ClockStone Studio ', 'Daniel Wynne', 'Denki ', 'Digital Eclipse ', 'Edelweiss ', 'Etranges Libellules ', 'Exiin ', 'Funselektor Labs Inc. ', 'Gust ', 'Hempuli Oy ', 'INTERIOR/NIGHT ', \"Kiro'o Games \", 'League of Geeks ', 'Lienzo ', 'LuckyHammers ', 'Midway Studios - Austin ', 'Mothership Entertainment ', 'NHN Corporation ', 'NetDevil ', 'Ntronium Games ', 'Pencil Test Studios ', 'Peter Stock ', 'Piccolo ', 'Planet Moon Studios ', 'Sanzaru ', 'Sketchy Logic ', 'Spiderweb Software ', 'Streko-Graphics Inc. ', 'System Era Softworks ', 'Team Junkfish ', 'Tom Happ ', 'Ubisoft Bordeaux ', 'Ubisoft Singapore ', 'Ubisoft Sofia ', 'Unexpected ', 'Wayward Simulations ', 'Witch Beam ', 'idoz & phops '] will be ignored\n",
      "  \"unknown class(es) {0} will be ignored\".format(sorted(unknown, key=str))\n"
     ]
    },
    {
     "name": "stdout",
     "output_type": "stream",
     "text": [
      "Epoch 1/20\n",
      "213/213 [==============================] - 17s 76ms/step - loss: 16.9966 - mae: 2.6519 - val_loss: 12.0721 - val_mae: 2.6013\n",
      "Epoch 2/20\n",
      "213/213 [==============================] - 16s 76ms/step - loss: 9.3096 - mae: 1.8118 - val_loss: 9.1889 - val_mae: 2.2224\n",
      "Epoch 3/20\n",
      "213/213 [==============================] - 16s 76ms/step - loss: 7.6273 - mae: 1.6133 - val_loss: 8.6088 - val_mae: 2.1988\n",
      "Epoch 4/20\n",
      "213/213 [==============================] - 16s 77ms/step - loss: 6.3810 - mae: 1.4756 - val_loss: 7.6089 - val_mae: 2.0419\n",
      "Epoch 5/20\n",
      "213/213 [==============================] - 16s 77ms/step - loss: 6.3844 - mae: 1.4344 - val_loss: 8.3248 - val_mae: 2.1743\n",
      "Epoch 6/20\n",
      "213/213 [==============================] - 16s 76ms/step - loss: 5.6967 - mae: 1.3383 - val_loss: 8.9910 - val_mae: 2.3572\n",
      "Epoch 7/20\n",
      "213/213 [==============================] - 16s 77ms/step - loss: 5.4654 - mae: 1.2693 - val_loss: 8.6595 - val_mae: 2.2155\n",
      "Epoch 8/20\n",
      "213/213 [==============================] - 16s 75ms/step - loss: 5.1633 - mae: 1.2444 - val_loss: 8.1212 - val_mae: 2.1617\n",
      "Epoch 9/20\n",
      "213/213 [==============================] - 16s 77ms/step - loss: 4.8359 - mae: 1.1697 - val_loss: 8.8898 - val_mae: 2.2013\n",
      "Chunk 14/52 // 25.0% Complete // Cycle 2/3\n"
     ]
    },
    {
     "name": "stderr",
     "output_type": "stream",
     "text": [
      "y:\\ML\\Anaconda\\envs\\TF-GPU\\lib\\site-packages\\sklearn\\preprocessing\\_label.py:876: UserWarning: unknown class(es) [' Arzest', ' Balan Company ', '3000AD', 'Armature Studio ', 'Bedtime Digital Games ', 'CE-Asia ', 'Cauldron Ltd. ', 'Causal Bit Games ', 'EggNut ', 'Lost Toys ', 'Overhype Studios ', 'Pathos Interactive ', 'Plausible Concept ', 'Point 5 Projects  ', 'Pulse Entertainment ', 'Rayland Interactive ', 'Shadow Tor Studios ', 'Shining Rock Software ', 'Shockwave Productions ', 'Sports Mogul ', 'Stormind Games ', 'The Behemoth ', 'Throw the Warped Code Out ', 'Unspeakable Pixels '] will be ignored\n",
      "  \"unknown class(es) {0} will be ignored\".format(sorted(unknown, key=str))\n"
     ]
    },
    {
     "name": "stdout",
     "output_type": "stream",
     "text": [
      "Epoch 1/20\n",
      "225/225 [==============================] - 17s 76ms/step - loss: 19.0587 - mae: 2.6620 - val_loss: 10.1444 - val_mae: 2.0631\n",
      "Epoch 2/20\n",
      "225/225 [==============================] - 17s 76ms/step - loss: 9.6121 - mae: 1.7350 - val_loss: 9.1047 - val_mae: 2.0850\n",
      "Epoch 3/20\n",
      "225/225 [==============================] - 17s 75ms/step - loss: 6.7042 - mae: 1.4627 - val_loss: 9.8766 - val_mae: 2.2988\n",
      "Epoch 4/20\n",
      "225/225 [==============================] - 17s 76ms/step - loss: 5.4102 - mae: 1.2800 - val_loss: 8.8264 - val_mae: 2.1316\n",
      "Epoch 5/20\n",
      "225/225 [==============================] - 17s 76ms/step - loss: 6.0076 - mae: 1.2297 - val_loss: 10.4930 - val_mae: 2.4491\n",
      "Epoch 6/20\n",
      "225/225 [==============================] - 17s 77ms/step - loss: 5.6082 - mae: 1.1727 - val_loss: 11.6074 - val_mae: 2.6741\n",
      "Epoch 7/20\n",
      "225/225 [==============================] - 17s 76ms/step - loss: 4.8989 - mae: 1.0908 - val_loss: 11.2490 - val_mae: 2.6747\n",
      "Epoch 8/20\n",
      "225/225 [==============================] - 17s 76ms/step - loss: 5.5201 - mae: 1.0644 - val_loss: 11.4349 - val_mae: 2.6994\n",
      "Epoch 9/20\n",
      "225/225 [==============================] - 17s 77ms/step - loss: 4.9922 - mae: 1.0021 - val_loss: 13.0142 - val_mae: 2.9592\n",
      "Chunk 15/52 // 26.92% Complete // Cycle 2/3\n"
     ]
    },
    {
     "name": "stderr",
     "output_type": "stream",
     "text": [
      "y:\\ML\\Anaconda\\envs\\TF-GPU\\lib\\site-packages\\sklearn\\preprocessing\\_label.py:876: UserWarning: unknown class(es) [' Dlala Studios ', ' Eurocom ', 'Argonaut Games ', 'Artematica ', 'Auran ', 'Balancing Monkey Games ', 'Big Boat Interactive ', 'Black Lab Games ', 'Blackpowder Games  ', 'BumbleBeast ', 'Capy Games ', 'Cryo Interactive ', 'Digital Fusion Inc. ', 'Eidos Interactive ', 'Eurocom Entertainment Software', 'Eutechnyx ', 'GoodbyeWorld Games ', 'Gummy Cat ', 'Harebrained Schemes LLC ', 'Hiding Spot ', 'Hyperbolic Magnetism ', 'Iridium Studios ', 'Magnum Games ', 'Pixel Crow ', 'Rare Ltd.', 'ShadowRage ', 'Silver Lining Studio ', 'Similis ', 'Stunlock Studios ', 'THE BROTHERHOOD ', 'Tale of Tales ', 'Threaks ', 'Tindalos Interactive ', 'Tri Synergy ', 'Twice Circled ', 'Varsav Game Studios ', 'Warsaw Film School Video Game & Film Production Studio ', 'tiger & squid '] will be ignored\n",
      "  \"unknown class(es) {0} will be ignored\".format(sorted(unknown, key=str))\n"
     ]
    },
    {
     "name": "stdout",
     "output_type": "stream",
     "text": [
      "Epoch 1/20\n",
      "228/228 [==============================] - 18s 76ms/step - loss: 18.6809 - mae: 2.7088 - val_loss: 13.9907 - val_mae: 2.8739\n",
      "Epoch 2/20\n",
      "228/228 [==============================] - 17s 76ms/step - loss: 10.2687 - mae: 1.8691 - val_loss: 12.9900 - val_mae: 2.8303\n",
      "Epoch 3/20\n",
      "228/228 [==============================] - 18s 77ms/step - loss: 8.9879 - mae: 1.6975 - val_loss: 12.0437 - val_mae: 2.6628\n",
      "Epoch 4/20\n",
      "228/228 [==============================] - 17s 76ms/step - loss: 8.9658 - mae: 1.6475 - val_loss: 12.4492 - val_mae: 2.5929\n",
      "Epoch 5/20\n",
      "228/228 [==============================] - 17s 76ms/step - loss: 7.4098 - mae: 1.5006 - val_loss: 11.4739 - val_mae: 2.5771\n",
      "Epoch 6/20\n",
      "228/228 [==============================] - 17s 75ms/step - loss: 7.5611 - mae: 1.4510 - val_loss: 11.7657 - val_mae: 2.7043\n",
      "Epoch 7/20\n",
      "228/228 [==============================] - 17s 75ms/step - loss: 6.6726 - mae: 1.3525 - val_loss: 11.0824 - val_mae: 2.5843\n",
      "Epoch 8/20\n",
      "228/228 [==============================] - 17s 75ms/step - loss: 6.4730 - mae: 1.3427 - val_loss: 11.1765 - val_mae: 2.6028\n",
      "Epoch 9/20\n",
      "228/228 [==============================] - 17s 76ms/step - loss: 5.9073 - mae: 1.2694 - val_loss: 10.7239 - val_mae: 2.5355\n",
      "Epoch 10/20\n",
      "228/228 [==============================] - 17s 77ms/step - loss: 5.6841 - mae: 1.2456 - val_loss: 10.7535 - val_mae: 2.5836\n",
      "Epoch 11/20\n",
      "228/228 [==============================] - 17s 76ms/step - loss: 6.2824 - mae: 1.2872 - val_loss: 10.6274 - val_mae: 2.5674\n",
      "Epoch 12/20\n",
      "228/228 [==============================] - 17s 75ms/step - loss: 5.3010 - mae: 1.1897 - val_loss: 10.5401 - val_mae: 2.4980\n",
      "Epoch 13/20\n",
      "228/228 [==============================] - 17s 75ms/step - loss: 5.7844 - mae: 1.2381 - val_loss: 10.1256 - val_mae: 2.4498\n",
      "Epoch 14/20\n",
      "228/228 [==============================] - 17s 76ms/step - loss: 5.9235 - mae: 1.2381 - val_loss: 10.4257 - val_mae: 2.5574\n",
      "Epoch 15/20\n",
      "228/228 [==============================] - 17s 75ms/step - loss: 4.7584 - mae: 1.1287 - val_loss: 9.9718 - val_mae: 2.4962\n",
      "Epoch 16/20\n",
      "228/228 [==============================] - 17s 76ms/step - loss: 4.7132 - mae: 1.1037 - val_loss: 10.3618 - val_mae: 2.5643\n",
      "Epoch 17/20\n",
      "228/228 [==============================] - 18s 77ms/step - loss: 5.1963 - mae: 1.1305 - val_loss: 10.7412 - val_mae: 2.6629\n",
      "Epoch 18/20\n",
      "228/228 [==============================] - 17s 76ms/step - loss: 5.2080 - mae: 1.1023 - val_loss: 10.3574 - val_mae: 2.5772\n",
      "Epoch 19/20\n",
      "228/228 [==============================] - 17s 76ms/step - loss: 4.8062 - mae: 1.0885 - val_loss: 10.4034 - val_mae: 2.5819\n",
      "Epoch 20/20\n",
      "228/228 [==============================] - 17s 75ms/step - loss: 5.0814 - mae: 1.1162 - val_loss: 9.9553 - val_mae: 2.5288\n",
      "Chunk 16/52 // 28.85% Complete // Cycle 2/3\n"
     ]
    },
    {
     "name": "stderr",
     "output_type": "stream",
     "text": [
      "y:\\ML\\Anaconda\\envs\\TF-GPU\\lib\\site-packages\\sklearn\\preprocessing\\_label.py:876: UserWarning: unknown class(es) ['Cricket'] will be ignored\n",
      "  \"unknown class(es) {0} will be ignored\".format(sorted(unknown, key=str))\n",
      "y:\\ML\\Anaconda\\envs\\TF-GPU\\lib\\site-packages\\sklearn\\preprocessing\\_label.py:876: UserWarning: unknown class(es) [' Cranberry Production ', ' Digital Eclipse ', ' Nival ', ' Polar Motion ', ' S.L. ', ' Slitherine Group', '2K Games ', 'A Crowd of Monsters ', 'AGEOD ', 'Amanita Design ', 'Apeiron ', 'Atomic Games ', 'Awe Interactive ', 'Black Mesa Modification Team ', 'Blooming Buds Studio ', 'BootdiskRevolution ', 'Brat Designs ', 'Cavia Inc. ', 'ClockStone Studio ', 'Corbie Games ', 'Cranberry Studios ', 'DANG! ', 'DTP Entertainment', 'Deep Shadows ', 'Dimfrost ', 'Drama Drifters ', 'Elseware Experience ', 'Erik Svedang ', 'FYQD-Studio ', 'Free Lives ', 'Gaijin Games ', 'Gust ', 'Headfirst Productions ', 'Interceptor Entertainment ', 'Inti Creates ', 'Jagex Games Studio ', 'JoyMasher ', 'Kitfox Games ', 'Krome Studios ', 'La Plata ', 'Midway Studios - Austin ', 'Mighty Rabbit Studios ', 'Morteshka ', 'NExT Studios ', 'Nival Interactive', 'Nova Production ', 'Paper Cult ', 'PaperSeven ', 'Pixel Multimedia ', 'PortaPlay ', 'Quotix Software ', 'Rebel Act Studios ', 'RedRuins Softworks ', 'Robi Studios ', 'Runner Duck ', 'Sand Sailor Studio ', 'Scientifically Proven ', 'Slitherine', 'Stellar Jockeys ', 'Stickmen Studios ', 'Still Alive Studios ', 'Stunlock Studios ', 'SuperScarySnakes ', 'Swing Swing Submarine ', 'Targem Games ', 'Team Reptile ', 'The Moonwalls ', 'The Parasight ', 'The Pixel Hunt ', 'Thing Trunk ', 'Troglobytes Games', 'V7 Entertainment Inc. ', 'stillalive studios '] will be ignored\n",
      "  \"unknown class(es) {0} will be ignored\".format(sorted(unknown, key=str))\n"
     ]
    },
    {
     "name": "stdout",
     "output_type": "stream",
     "text": [
      "Epoch 1/20\n",
      "224/224 [==============================] - 17s 77ms/step - loss: 25.5147 - mae: 3.2111 - val_loss: 15.6723 - val_mae: 2.6344\n",
      "Epoch 2/20\n",
      "224/224 [==============================] - 17s 76ms/step - loss: 14.8147 - mae: 2.3652 - val_loss: 13.2854 - val_mae: 2.5931\n",
      "Epoch 3/20\n",
      "224/224 [==============================] - 17s 76ms/step - loss: 13.0980 - mae: 2.1230 - val_loss: 12.4203 - val_mae: 2.5176\n",
      "Epoch 4/20\n",
      "224/224 [==============================] - 17s 75ms/step - loss: 10.5426 - mae: 1.8444 - val_loss: 11.8767 - val_mae: 2.4855\n",
      "Epoch 5/20\n",
      "224/224 [==============================] - 17s 75ms/step - loss: 9.7448 - mae: 1.7997 - val_loss: 11.3450 - val_mae: 2.5416\n",
      "Epoch 6/20\n",
      "224/224 [==============================] - 17s 75ms/step - loss: 10.5171 - mae: 1.7854 - val_loss: 11.9336 - val_mae: 2.5641\n",
      "Epoch 7/20\n",
      "224/224 [==============================] - 17s 75ms/step - loss: 8.6358 - mae: 1.6417 - val_loss: 12.2029 - val_mae: 2.7302\n",
      "Epoch 8/20\n",
      "224/224 [==============================] - 17s 75ms/step - loss: 9.2789 - mae: 1.6624 - val_loss: 12.2667 - val_mae: 2.6909\n",
      "Epoch 9/20\n",
      "224/224 [==============================] - 17s 76ms/step - loss: 8.1685 - mae: 1.5588 - val_loss: 12.0841 - val_mae: 2.7731\n",
      "Epoch 10/20\n",
      "224/224 [==============================] - 17s 76ms/step - loss: 7.7582 - mae: 1.4772 - val_loss: 12.1584 - val_mae: 2.6979\n",
      "Chunk 17/52 // 30.77% Complete // Cycle 2/3\n"
     ]
    },
    {
     "name": "stderr",
     "output_type": "stream",
     "text": [
      "y:\\ML\\Anaconda\\envs\\TF-GPU\\lib\\site-packages\\sklearn\\preprocessing\\_label.py:876: UserWarning: unknown class(es) ['Trainer'] will be ignored\n",
      "  \"unknown class(es) {0} will be ignored\".format(sorted(unknown, key=str))\n",
      "y:\\ML\\Anaconda\\envs\\TF-GPU\\lib\\site-packages\\sklearn\\preprocessing\\_label.py:876: UserWarning: unknown class(es) [' Out of the Blue Games S.L. ', 'Action Forms Ltd. ', 'Activision ', 'Alientrap ', 'Blue Manchu ', 'Bytten Studio ', 'Expansive Worlds ', 'Hothouse Creations ', 'Ice-Pick Lodge ', 'Matt Kap ', 'Nerial ', 'Out of the Blue', 'Phobia Game Studio ', 'Richard Hofmeier ', 'Serious Brew ', 'Sierra Entertainment ', 'Spotlightor Interactive ', 'Sunhead Games ', 'Sunstorm Interactive ', 'Teku Studios  ', 'Torus Games '] will be ignored\n",
      "  \"unknown class(es) {0} will be ignored\".format(sorted(unknown, key=str))\n"
     ]
    },
    {
     "name": "stdout",
     "output_type": "stream",
     "text": [
      "Epoch 1/20\n",
      "220/220 [==============================] - 17s 76ms/step - loss: 24.6264 - mae: 3.3364 - val_loss: 15.4953 - val_mae: 3.0617\n",
      "Epoch 2/20\n",
      "220/220 [==============================] - 17s 76ms/step - loss: 10.1061 - mae: 2.0511 - val_loss: 15.4492 - val_mae: 3.0671\n",
      "Epoch 3/20\n",
      "220/220 [==============================] - 17s 77ms/step - loss: 8.4690 - mae: 1.8371 - val_loss: 14.2709 - val_mae: 2.9492\n",
      "Epoch 4/20\n",
      "220/220 [==============================] - 17s 76ms/step - loss: 6.0465 - mae: 1.5466 - val_loss: 12.6270 - val_mae: 2.7372\n",
      "Epoch 5/20\n",
      "220/220 [==============================] - 17s 76ms/step - loss: 6.5265 - mae: 1.4856 - val_loss: 12.6507 - val_mae: 2.8331\n",
      "Epoch 6/20\n",
      "220/220 [==============================] - 17s 77ms/step - loss: 5.3662 - mae: 1.3597 - val_loss: 13.6806 - val_mae: 2.9062\n",
      "Epoch 7/20\n",
      "220/220 [==============================] - 17s 76ms/step - loss: 5.1575 - mae: 1.3052 - val_loss: 13.3785 - val_mae: 2.8933\n",
      "Epoch 8/20\n",
      "220/220 [==============================] - 17s 75ms/step - loss: 4.7282 - mae: 1.2503 - val_loss: 13.2260 - val_mae: 2.9178\n",
      "Epoch 9/20\n",
      "220/220 [==============================] - 17s 77ms/step - loss: 4.7164 - mae: 1.2151 - val_loss: 12.9295 - val_mae: 2.8640\n",
      "Chunk 18/52 // 32.69% Complete // Cycle 2/3\n"
     ]
    },
    {
     "name": "stderr",
     "output_type": "stream",
     "text": [
      "y:\\ML\\Anaconda\\envs\\TF-GPU\\lib\\site-packages\\sklearn\\preprocessing\\_label.py:876: UserWarning: unknown class(es) ['Application', 'Trainer'] will be ignored\n",
      "  \"unknown class(es) {0} will be ignored\".format(sorted(unknown, key=str))\n",
      "y:\\ML\\Anaconda\\envs\\TF-GPU\\lib\\site-packages\\sklearn\\preprocessing\\_label.py:876: UserWarning: unknown class(es) [' Deep Silver Fishlabs ', ' EA Games ', ' FireFly Studios ', ' LLC', ' LandFall ', ' Navarre Corp ', ' Overflow Games ', ' Phosphor Games ', ' Reality Twist ', ' Sega', ' Ste Curran ', 'Amanita Design ', 'Argonaut Games', 'Ascension Studios', 'Atomic Games ', 'Backbone Entertainment ', 'Beautiful Game Studios ', 'Behold Studios ', 'Big Time Software ', 'Boxed Dream ', 'BreakAway Games ', 'Convoy Games ', 'Crazy Rocks ', 'Cygnus Entertainment ', 'Darkworks ', 'Data Realms ', 'Destineer ', 'Discord Games ', 'Double Stallion Games ', 'Dreamworks Games ', 'EA Pacific ', 'EasyGameStation ', 'Eden Industries ', 'Elf Games ', 'Eyebrow Interactive ', 'Fever Pitch Studios ', 'Firaxis Games', 'Fishlabs', 'Focus Home Interactive ', 'Gaslamp Games ', 'Greg Lobanov ', 'ION LANDS ', 'Interdimensional Games Inc ', 'Investigate North Aps ', 'Jason Oda ', 'Jump Over The Age ', 'LandFall Games', 'Lazy 8 Studios ', 'Logic Artists ', 'MASA Group ', 'Maddy Makes Games ', 'Mages. ', 'Matthias Linda ', 'Mighty Kingdom ', 'Mindware Studios ', 'Original Fire Games ', 'Oxeye ', 'Paragon Studios ', 'Phoenix Online Studios ', 'Phosphor Games Studio', 'Playwing ', 'Puuba ', 'Reality Twist GmbH', 'Snapshot Games Inc. ', 'SomaSim ', 'Storm in a Teacup ', 'TRAGsoft ', 'The Gentlebros ', 'The Wild Gentlemen ', 'Toge Productions ', 'Twistplay', 'Two Star Games ', 'Uppercut Games Pty Ltd ', 'Various ', 'White Paper Games ', 'Yippee Entertainment LTD ', 'Zeboyd Games ', 'Zoetrope Interactive ', 'osao games '] will be ignored\n",
      "  \"unknown class(es) {0} will be ignored\".format(sorted(unknown, key=str))\n"
     ]
    },
    {
     "name": "stdout",
     "output_type": "stream",
     "text": [
      "Epoch 1/20\n",
      "224/224 [==============================] - 18s 76ms/step - loss: 32.4693 - mae: 3.6370 - val_loss: 23.3536 - val_mae: 3.2784\n",
      "Epoch 2/20\n",
      "224/224 [==============================] - 17s 77ms/step - loss: 18.7122 - mae: 2.5921 - val_loss: 18.9239 - val_mae: 2.9514\n",
      "Epoch 3/20\n",
      "224/224 [==============================] - 17s 75ms/step - loss: 16.3255 - mae: 2.3658 - val_loss: 18.3993 - val_mae: 3.0020\n",
      "Epoch 4/20\n",
      "224/224 [==============================] - 17s 77ms/step - loss: 14.8143 - mae: 2.2026 - val_loss: 17.5858 - val_mae: 3.0690\n",
      "Epoch 5/20\n",
      "224/224 [==============================] - 17s 75ms/step - loss: 13.9620 - mae: 2.0810 - val_loss: 16.9553 - val_mae: 2.9437\n",
      "Epoch 6/20\n",
      "224/224 [==============================] - 17s 77ms/step - loss: 12.5502 - mae: 1.9602 - val_loss: 16.5140 - val_mae: 3.0101\n",
      "Epoch 7/20\n",
      "224/224 [==============================] - 17s 76ms/step - loss: 11.9983 - mae: 1.8955 - val_loss: 15.0002 - val_mae: 2.8108\n",
      "Epoch 8/20\n",
      "224/224 [==============================] - 17s 76ms/step - loss: 12.1874 - mae: 1.8921 - val_loss: 14.9639 - val_mae: 2.8722\n",
      "Epoch 9/20\n",
      "224/224 [==============================] - 17s 75ms/step - loss: 11.1505 - mae: 1.7820 - val_loss: 15.3427 - val_mae: 2.9114\n",
      "Epoch 10/20\n",
      "224/224 [==============================] - 17s 76ms/step - loss: 11.5788 - mae: 1.8025 - val_loss: 14.6394 - val_mae: 2.8425\n",
      "Epoch 11/20\n",
      "224/224 [==============================] - 17s 76ms/step - loss: 10.4013 - mae: 1.7169 - val_loss: 14.0923 - val_mae: 2.7732\n",
      "Epoch 12/20\n",
      "224/224 [==============================] - 17s 76ms/step - loss: 10.1649 - mae: 1.6841 - val_loss: 13.6805 - val_mae: 2.7138\n",
      "Epoch 13/20\n",
      "224/224 [==============================] - 17s 75ms/step - loss: 9.5252 - mae: 1.6155 - val_loss: 14.0173 - val_mae: 2.8144\n",
      "Epoch 14/20\n",
      "224/224 [==============================] - 17s 77ms/step - loss: 10.5042 - mae: 1.6335 - val_loss: 13.9748 - val_mae: 2.7127\n",
      "Epoch 15/20\n",
      "224/224 [==============================] - 17s 76ms/step - loss: 10.2749 - mae: 1.6637 - val_loss: 14.0548 - val_mae: 2.7180\n",
      "Epoch 16/20\n",
      "224/224 [==============================] - 17s 75ms/step - loss: 9.1441 - mae: 1.5243 - val_loss: 12.8928 - val_mae: 2.6117\n",
      "Epoch 17/20\n",
      "224/224 [==============================] - 17s 76ms/step - loss: 8.6364 - mae: 1.5053 - val_loss: 14.2175 - val_mae: 2.7272\n",
      "Epoch 18/20\n",
      "224/224 [==============================] - 17s 76ms/step - loss: 9.3406 - mae: 1.5422 - val_loss: 13.5267 - val_mae: 2.6808\n",
      "Epoch 19/20\n",
      "224/224 [==============================] - 17s 76ms/step - loss: 8.5479 - mae: 1.4798 - val_loss: 13.4571 - val_mae: 2.6348\n",
      "Epoch 20/20\n",
      "224/224 [==============================] - 17s 76ms/step - loss: 8.2859 - mae: 1.4298 - val_loss: 13.5749 - val_mae: 2.6871\n",
      "Chunk 19/52 // 34.62% Complete // Cycle 2/3\n"
     ]
    },
    {
     "name": "stderr",
     "output_type": "stream",
     "text": [
      "y:\\ML\\Anaconda\\envs\\TF-GPU\\lib\\site-packages\\sklearn\\preprocessing\\_label.py:876: UserWarning: unknown class(es) [' 10tons ', ' Elbow Rocket ', ' FAKT Software ', ' Funatics ', ' Funatics Software', ' Moonbyte Studios ', ' Relentless Studios ', '10tons Entertainment', '369 Interactive ', 'Aarne \"MekaSkull\" Hunziker ', 'Action Forms Ltd. ', 'Alt Shift ', 'Amanita Design ', 'Artematica ', 'Asylum Entertainment ', 'Brace Yourself Games ', 'Butterscotch Shenanigans ', 'Dreams Uncorporated ', 'EA Bright Light ', 'Explosm ', 'FAKT Software ', 'FAKT Software GmBH', 'Flying Cafe for Semianimals ', 'Fourattic ', 'Funatics Development GmbH', 'G5 Software ', 'InGame Studios ', 'Invictus ', 'Jasozz Games ', 'Kraken Unleashed ', 'Maschinen-Mensch ', 'Massive Monster ', 'Momentum DMT ', 'NExT Studios ', 'PETOONS STUDIO SL ', 'Passtech Games ', 'Petri Purho ', 'Punchers Impact ', 'Radical Fish Games ', 'Replay Studios', 'Skilltree Studios ', 'Spry Fox ', 'Sumo Digital', 'Tag of Joy ', 'Toys for Bob ', 'Triangle Studios ', 'Vicarious Visions', 'Vile Monarch ', 'Vogster ', 'Weather Factory ', 'Zipper Interactive '] will be ignored\n",
      "  \"unknown class(es) {0} will be ignored\".format(sorted(unknown, key=str))\n"
     ]
    },
    {
     "name": "stdout",
     "output_type": "stream",
     "text": [
      "Epoch 1/20\n",
      "209/209 [==============================] - 16s 76ms/step - loss: 11.5199 - mae: 1.8000 - val_loss: 9.4969 - val_mae: 2.0606\n",
      "Epoch 2/20\n",
      "209/209 [==============================] - 16s 77ms/step - loss: 7.0034 - mae: 1.2169 - val_loss: 8.8433 - val_mae: 2.1474\n",
      "Epoch 3/20\n",
      "209/209 [==============================] - 16s 76ms/step - loss: 5.3012 - mae: 1.0794 - val_loss: 8.1717 - val_mae: 2.1342\n",
      "Epoch 4/20\n",
      "209/209 [==============================] - 16s 75ms/step - loss: 4.6401 - mae: 0.9438 - val_loss: 7.0963 - val_mae: 2.1301\n",
      "Epoch 5/20\n",
      "209/209 [==============================] - 16s 76ms/step - loss: 4.5581 - mae: 0.9234 - val_loss: 6.8933 - val_mae: 2.0262\n",
      "Epoch 6/20\n",
      "209/209 [==============================] - 16s 75ms/step - loss: 3.7104 - mae: 0.8818 - val_loss: 6.6599 - val_mae: 2.0138\n",
      "Epoch 7/20\n",
      "209/209 [==============================] - 16s 76ms/step - loss: 3.5105 - mae: 0.8397 - val_loss: 6.8853 - val_mae: 2.0621\n",
      "Epoch 8/20\n",
      "209/209 [==============================] - 16s 77ms/step - loss: 3.0642 - mae: 0.7763 - val_loss: 6.2960 - val_mae: 1.9692\n",
      "Epoch 9/20\n",
      "209/209 [==============================] - 16s 76ms/step - loss: 3.3039 - mae: 0.7943 - val_loss: 6.1345 - val_mae: 1.9078\n",
      "Epoch 10/20\n",
      "209/209 [==============================] - 16s 75ms/step - loss: 3.4791 - mae: 0.7748 - val_loss: 6.0639 - val_mae: 1.9111\n",
      "Epoch 11/20\n",
      "209/209 [==============================] - 16s 77ms/step - loss: 3.0067 - mae: 0.7547 - val_loss: 6.1205 - val_mae: 1.9591\n",
      "Epoch 12/20\n",
      "209/209 [==============================] - 16s 76ms/step - loss: 2.7176 - mae: 0.7176 - val_loss: 6.5593 - val_mae: 2.0529\n",
      "Epoch 13/20\n",
      "209/209 [==============================] - 16s 76ms/step - loss: 2.2691 - mae: 0.6855 - val_loss: 6.0838 - val_mae: 1.9510\n",
      "Epoch 14/20\n",
      "209/209 [==============================] - 16s 75ms/step - loss: 2.8641 - mae: 0.7396 - val_loss: 6.2018 - val_mae: 1.9331\n",
      "Epoch 15/20\n",
      "209/209 [==============================] - 16s 75ms/step - loss: 2.4131 - mae: 0.6960 - val_loss: 6.1060 - val_mae: 1.9720\n",
      "Chunk 20/52 // 36.54% Complete // Cycle 2/3\n"
     ]
    },
    {
     "name": "stderr",
     "output_type": "stream",
     "text": [
      "y:\\ML\\Anaconda\\envs\\TF-GPU\\lib\\site-packages\\sklearn\\preprocessing\\_label.py:876: UserWarning: unknown class(es) [' ICEBOX Studios ', ' RA Images ', 'Access Games ', 'Bigmoon Entertainment ', 'Blue Omega ', 'Cinemax', 'Creative Edge Software ', \"D'Avekki Studios Limited \", 'Darkling Room ', 'Hibernian Workshop ', 'Long Hat House ', 'Mad Mimic ', 'Marvelous First Studio ', 'Mythic Entertainment ', 'Namco Bandai Games ', 'Pyramid ', 'Sonalysts ', 'Spike Chunsoft ', 'Sword & Axe LLC ', 'Three Fields Entertainment ', 'Wadjet Eye Games', 'XXV Productions '] will be ignored\n",
      "  \"unknown class(es) {0} will be ignored\".format(sorted(unknown, key=str))\n"
     ]
    },
    {
     "name": "stdout",
     "output_type": "stream",
     "text": [
      "Epoch 1/20\n",
      "203/203 [==============================] - 16s 75ms/step - loss: 9.0027 - mae: 1.4889 - val_loss: 10.3075 - val_mae: 2.9858\n",
      "Epoch 2/20\n",
      "203/203 [==============================] - 15s 75ms/step - loss: 4.7895 - mae: 1.0556 - val_loss: 11.3024 - val_mae: 3.1143\n",
      "Epoch 3/20\n",
      "203/203 [==============================] - 15s 76ms/step - loss: 4.1348 - mae: 0.9069 - val_loss: 11.8503 - val_mae: 3.2508\n",
      "Epoch 4/20\n",
      "203/203 [==============================] - 15s 75ms/step - loss: 3.8683 - mae: 0.8384 - val_loss: 12.7125 - val_mae: 3.4132\n",
      "Epoch 5/20\n",
      "203/203 [==============================] - 16s 76ms/step - loss: 3.2279 - mae: 0.7536 - val_loss: 11.8802 - val_mae: 3.2510\n",
      "Epoch 6/20\n",
      "203/203 [==============================] - 15s 76ms/step - loss: 2.9749 - mae: 0.6956 - val_loss: 11.6377 - val_mae: 3.2255\n",
      "Chunk 21/52 // 38.46% Complete // Cycle 2/3\n"
     ]
    },
    {
     "name": "stderr",
     "output_type": "stream",
     "text": [
      "y:\\ML\\Anaconda\\envs\\TF-GPU\\lib\\site-packages\\sklearn\\preprocessing\\_label.py:876: UserWarning: unknown class(es) [' Capcom Vancouver ', ' Koei Tecmo Games ', ' Ltd. ', ' Sky Fallen', '5-Bits Games ', '8Monkey Labs ', 'Access Games ', 'Acid Nerve ', 'Acid Wizard Studio ', 'Allgraf ', 'Biart ', 'Blue Castle Games ', 'Boston Animation ', 'CCCP ', 'COWCAT ', 'Cave ', 'DNS Development ', 'Digital Confectioners ', 'DoubleBear Productions ', 'Dykast Lubomir ', 'Fabraz ', 'Fictiorama Studios ', 'Frozen line ', 'Ghost Ship Games ', 'Haggard Games ', 'Ikarion ', 'Invader Studios ', 'KUNO INTERACTIVE ', 'Ludus future ', 'MINT ROCKET ', 'Madruga Works ', 'Most Wanted Entertainment ', 'Motion Twin ', 'Nfusion ', 'Oscar Brittain ', 'Outrage Games ', 'Parallax Software ', 'Positech Games ', 'QCF Design ', 'RageSquid ', 'Related Designs ', 'Resolution Games ', 'Scavengers Studio ', 'Silent Grove Studios ', 'Sky Fallen ', 'Snowhound Games ', 'Streko-Graphics Inc. ', 'Team Ninja', 'The Chinese Room ', 'Twisted Pixel Games ', 'Unfold Games ', 'White Rabbit Interactive ', 'Z-Axis', 'Zoetrope Interactive '] will be ignored\n",
      "  \"unknown class(es) {0} will be ignored\".format(sorted(unknown, key=str))\n"
     ]
    },
    {
     "name": "stdout",
     "output_type": "stream",
     "text": [
      "Epoch 1/20\n",
      "224/224 [==============================] - 17s 76ms/step - loss: 28.0254 - mae: 3.6523 - val_loss: 18.6920 - val_mae: 2.9684\n",
      "Epoch 2/20\n",
      "224/224 [==============================] - 17s 76ms/step - loss: 17.8224 - mae: 2.6759 - val_loss: 15.4178 - val_mae: 2.6932\n",
      "Epoch 3/20\n",
      "224/224 [==============================] - 17s 76ms/step - loss: 13.7683 - mae: 2.3219 - val_loss: 14.4862 - val_mae: 2.5154\n",
      "Epoch 4/20\n",
      "224/224 [==============================] - 17s 76ms/step - loss: 12.2682 - mae: 2.0944 - val_loss: 13.3731 - val_mae: 2.4063\n",
      "Epoch 5/20\n",
      "224/224 [==============================] - 17s 76ms/step - loss: 12.0481 - mae: 2.0113 - val_loss: 12.0644 - val_mae: 2.2923\n",
      "Epoch 6/20\n",
      "224/224 [==============================] - 17s 75ms/step - loss: 10.3397 - mae: 1.8639 - val_loss: 12.0356 - val_mae: 2.2512\n",
      "Epoch 7/20\n",
      "224/224 [==============================] - 17s 77ms/step - loss: 10.3861 - mae: 1.8197 - val_loss: 12.0733 - val_mae: 2.1924\n",
      "Epoch 8/20\n",
      "224/224 [==============================] - 17s 76ms/step - loss: 9.8113 - mae: 1.7805 - val_loss: 12.0532 - val_mae: 2.2803\n",
      "Epoch 9/20\n",
      "224/224 [==============================] - 17s 76ms/step - loss: 9.4452 - mae: 1.7100 - val_loss: 12.5940 - val_mae: 2.3658\n",
      "Epoch 10/20\n",
      "224/224 [==============================] - 17s 76ms/step - loss: 9.7095 - mae: 1.7274 - val_loss: 12.1820 - val_mae: 2.2150\n",
      "Epoch 11/20\n",
      "224/224 [==============================] - 17s 77ms/step - loss: 8.8709 - mae: 1.6690 - val_loss: 12.6134 - val_mae: 2.3052\n",
      "Chunk 22/52 // 40.38% Complete // Cycle 2/3\n"
     ]
    },
    {
     "name": "stderr",
     "output_type": "stream",
     "text": [
      "y:\\ML\\Anaconda\\envs\\TF-GPU\\lib\\site-packages\\sklearn\\preprocessing\\_label.py:876: UserWarning: unknown class(es) [' Dreadlocks ', 'Digitalo Studios ', 'Dreadlocks Ltd', 'Foregone ', 'Layopi Games ', 'Red Candle Games ', 'Sorath ', 'Sourcenext ', 'Ultimation Inc. '] will be ignored\n",
      "  \"unknown class(es) {0} will be ignored\".format(sorted(unknown, key=str))\n"
     ]
    },
    {
     "name": "stdout",
     "output_type": "stream",
     "text": [
      "Epoch 1/20\n",
      "231/231 [==============================] - 18s 75ms/step - loss: 15.0540 - mae: 2.2541 - val_loss: 9.4637 - val_mae: 1.7201\n",
      "Epoch 2/20\n",
      "231/231 [==============================] - 17s 75ms/step - loss: 6.5568 - mae: 1.3235 - val_loss: 8.0211 - val_mae: 1.6520\n",
      "Epoch 3/20\n",
      "231/231 [==============================] - 17s 75ms/step - loss: 5.9931 - mae: 1.1475 - val_loss: 8.0733 - val_mae: 1.7284\n",
      "Epoch 4/20\n",
      "231/231 [==============================] - 17s 75ms/step - loss: 4.4949 - mae: 1.0128 - val_loss: 8.0697 - val_mae: 1.8050\n",
      "Epoch 5/20\n",
      "231/231 [==============================] - 18s 76ms/step - loss: 4.7488 - mae: 0.9658 - val_loss: 7.4526 - val_mae: 1.7920\n",
      "Epoch 6/20\n",
      "231/231 [==============================] - 18s 76ms/step - loss: 4.1114 - mae: 0.8790 - val_loss: 8.0400 - val_mae: 1.8607\n",
      "Epoch 7/20\n",
      "231/231 [==============================] - 18s 76ms/step - loss: 4.1626 - mae: 0.8552 - val_loss: 7.2531 - val_mae: 1.8017\n",
      "Epoch 8/20\n",
      "231/231 [==============================] - 17s 75ms/step - loss: 3.6198 - mae: 0.7810 - val_loss: 8.4594 - val_mae: 1.9998\n",
      "Epoch 9/20\n",
      "231/231 [==============================] - 18s 76ms/step - loss: 3.8039 - mae: 0.7638 - val_loss: 8.5735 - val_mae: 1.9792\n",
      "Epoch 10/20\n",
      "231/231 [==============================] - 17s 75ms/step - loss: 3.6323 - mae: 0.7278 - val_loss: 8.5143 - val_mae: 2.0942\n",
      "Epoch 11/20\n",
      "231/231 [==============================] - 17s 75ms/step - loss: 4.0640 - mae: 0.7241 - val_loss: 7.9175 - val_mae: 2.0152\n",
      "Epoch 12/20\n",
      "231/231 [==============================] - 18s 76ms/step - loss: 3.5591 - mae: 0.6980 - val_loss: 7.7344 - val_mae: 1.9750\n",
      "Chunk 23/52 // 42.31% Complete // Cycle 2/3\n"
     ]
    },
    {
     "name": "stderr",
     "output_type": "stream",
     "text": [
      "y:\\ML\\Anaconda\\envs\\TF-GPU\\lib\\site-packages\\sklearn\\preprocessing\\_label.py:876: UserWarning: unknown class(es) [' Dose', ' Kitty', ' and JW ', 'ArachnidGames ', 'AtomicTorch ', 'DESTINYbit ', 'Frima Studio ', 'Innonics ', 'Nippon Ichi Software ', 'Piranha Games ', 'Ratbag ', 'Soldak Entertainment ', 'Sundae Month ', 'Terri', 'Terry Cavanagh ', 'V1 Interactive '] will be ignored\n",
      "  \"unknown class(es) {0} will be ignored\".format(sorted(unknown, key=str))\n"
     ]
    },
    {
     "name": "stdout",
     "output_type": "stream",
     "text": [
      "Epoch 1/20\n",
      "231/231 [==============================] - 18s 75ms/step - loss: 9.8167 - mae: 1.6710 - val_loss: 22.2369 - val_mae: 3.0842\n",
      "Epoch 2/20\n",
      "231/231 [==============================] - 18s 76ms/step - loss: 6.2642 - mae: 1.2458 - val_loss: 20.4890 - val_mae: 2.9557\n",
      "Epoch 3/20\n",
      "231/231 [==============================] - 17s 75ms/step - loss: 4.9328 - mae: 1.1107 - val_loss: 19.1733 - val_mae: 2.9559\n",
      "Epoch 4/20\n",
      "231/231 [==============================] - 17s 75ms/step - loss: 3.9758 - mae: 0.9456 - val_loss: 18.9821 - val_mae: 3.0520\n",
      "Epoch 5/20\n",
      "231/231 [==============================] - 17s 75ms/step - loss: 3.4530 - mae: 0.8698 - val_loss: 19.0228 - val_mae: 2.9491\n",
      "Epoch 6/20\n",
      "231/231 [==============================] - 17s 75ms/step - loss: 3.7697 - mae: 0.8147 - val_loss: 20.1386 - val_mae: 3.1341\n",
      "Epoch 7/20\n",
      "231/231 [==============================] - 17s 76ms/step - loss: 4.2082 - mae: 0.8298 - val_loss: 20.2860 - val_mae: 3.1599\n",
      "Epoch 8/20\n",
      "231/231 [==============================] - 17s 76ms/step - loss: 3.0281 - mae: 0.7463 - val_loss: 19.4761 - val_mae: 3.0749\n",
      "Epoch 9/20\n",
      "231/231 [==============================] - 17s 76ms/step - loss: 3.2455 - mae: 0.7169 - val_loss: 20.8482 - val_mae: 3.1417\n",
      "Chunk 24/52 // 44.23% Complete // Cycle 2/3\n"
     ]
    },
    {
     "name": "stderr",
     "output_type": "stream",
     "text": [
      "y:\\ML\\Anaconda\\envs\\TF-GPU\\lib\\site-packages\\sklearn\\preprocessing\\_label.py:876: UserWarning: unknown class(es) [' Digital Leisure ', ' Eighting ', ' Eurocom ', 'Ankama Games ', 'Arc System Works', 'Avalanche Software ', 'Barking Dog ', 'Ben Esposito ', 'Bippinbits ', 'Canal+ Multimedia ', 'Code Force ', 'Digital Leisure Inc.', 'Disney Interactive Studios ', 'Eurocom Entertainment Software', 'Heavy Iron Studios', 'Illwinter Design Group ', 'Jesse Makkonen ', 'KillHouse Games ', 'Massive Work Studio ', 'Moppin ', 'Muro Studios Ltd. ', 'Nerve Software ', 'Pocket Trap ', 'Propaganda Games ', 'Secret Base ', 'Stickmen Studios ', 'Team Salvato ', 'Toukana Interactive ', 'Un Je Ne Sais Quoi ', 'V1 Interactive '] will be ignored\n",
      "  \"unknown class(es) {0} will be ignored\".format(sorted(unknown, key=str))\n"
     ]
    },
    {
     "name": "stdout",
     "output_type": "stream",
     "text": [
      "Epoch 1/20\n",
      "212/212 [==============================] - 16s 75ms/step - loss: 12.3614 - mae: 1.9865 - val_loss: 14.5356 - val_mae: 3.0575\n",
      "Epoch 2/20\n",
      "212/212 [==============================] - 16s 76ms/step - loss: 7.1485 - mae: 1.3719 - val_loss: 14.6123 - val_mae: 3.0671\n",
      "Epoch 3/20\n",
      "212/212 [==============================] - 16s 76ms/step - loss: 6.5473 - mae: 1.2231 - val_loss: 14.6662 - val_mae: 3.1464\n",
      "Epoch 4/20\n",
      "212/212 [==============================] - 16s 76ms/step - loss: 5.8089 - mae: 1.0995 - val_loss: 14.5902 - val_mae: 3.1347\n",
      "Epoch 5/20\n",
      "212/212 [==============================] - 16s 76ms/step - loss: 5.9230 - mae: 1.1011 - val_loss: 14.6405 - val_mae: 3.2166\n",
      "Epoch 6/20\n",
      "212/212 [==============================] - 16s 75ms/step - loss: 4.6570 - mae: 0.9544 - val_loss: 14.3143 - val_mae: 3.2304\n",
      "Epoch 7/20\n",
      "212/212 [==============================] - 16s 75ms/step - loss: 3.9928 - mae: 0.8883 - val_loss: 13.4775 - val_mae: 3.1611\n",
      "Epoch 8/20\n",
      "212/212 [==============================] - 16s 76ms/step - loss: 3.9446 - mae: 0.8943 - val_loss: 12.8804 - val_mae: 3.0757\n",
      "Epoch 9/20\n",
      "212/212 [==============================] - 16s 76ms/step - loss: 3.9357 - mae: 0.8462 - val_loss: 13.0651 - val_mae: 3.1280\n",
      "Epoch 10/20\n",
      "212/212 [==============================] - 16s 75ms/step - loss: 3.6913 - mae: 0.8160 - val_loss: 13.9624 - val_mae: 3.3248\n",
      "Epoch 11/20\n",
      "212/212 [==============================] - 16s 75ms/step - loss: 4.0404 - mae: 0.8653 - val_loss: 14.5114 - val_mae: 3.3984\n",
      "Epoch 12/20\n",
      "212/212 [==============================] - 16s 75ms/step - loss: 3.9857 - mae: 0.8290 - val_loss: 14.4296 - val_mae: 3.3963\n",
      "Epoch 13/20\n",
      "212/212 [==============================] - 16s 76ms/step - loss: 3.8214 - mae: 0.7576 - val_loss: 14.6192 - val_mae: 3.4287\n",
      "Chunk 25/52 // 46.15% Complete // Cycle 2/3\n"
     ]
    },
    {
     "name": "stderr",
     "output_type": "stream",
     "text": [
      "y:\\ML\\Anaconda\\envs\\TF-GPU\\lib\\site-packages\\sklearn\\preprocessing\\_label.py:876: UserWarning: unknown class(es) [' A Jolly Corpse ', ' FunHouse ', ' Koei Tecmo Games ', ' Mobigame ', ' Rabbit & Bear Studios ', ' Red Winter Software ', '3D Realms ', '7 Studios ', 'Afterburner Studios ', 'Amaze Entertainment ', 'Artematica ', 'Bay 12 Games ', 'Bedlam Games ', 'Black Salt Games ', 'Buka Entertainment ', 'Byterunners Game Studio ', 'Critical Studio ', 'Ctrl Alt Ninja Ltd. ', 'Cube Roots ', 'Dancing Dragon games ', 'Digital Happiness ', 'Dimps Corporation ', 'Eastshade Studios ', 'Game Grumps ', 'Gaslamp Games ', 'Heuristic Park ', 'Hitbox  ', 'Holospark ', 'Honig Studios ', 'HyperSloth ', 'Instant Kingdom ', 'Midgar Studio ', 'Mike Studios ', 'Mindware Studios ', 'Misfits Attic ', 'NATSUME ATARI Inc.', 'New Blood Interactive ', 'Omega Force', 'Owlchemy Labs ', 'PD Design Studio Pte Ltd ', 'Paleo Entertainment ', 'Pixpil ', 'Plastic Reality ', 'Radon Labs ', 'Raspina Studio ', 'Red Thread Games ', 'Red Winter Software Limited', 'Reflections Interactive ', 'Runewaker Entertainment ', 'Snowbird Game Studios ', 'Soldak Entertainment ', 'Studio V ', 'Sunstorm Interactive ', 'T19 Games ', 'Tendershoot', 'TopWare Interactive ', 'Two Tribes', 'Ubisoft Montreal', 'Ultra Ultra ', 'Vicious Cycle ', 'Zuxxez '] will be ignored\n",
      "  \"unknown class(es) {0} will be ignored\".format(sorted(unknown, key=str))\n"
     ]
    },
    {
     "name": "stdout",
     "output_type": "stream",
     "text": [
      "Epoch 1/20\n",
      "232/232 [==============================] - 18s 76ms/step - loss: 23.5495 - mae: 2.9233 - val_loss: 21.5691 - val_mae: 3.4205\n",
      "Epoch 2/20\n",
      "232/232 [==============================] - 17s 75ms/step - loss: 12.7254 - mae: 2.0028 - val_loss: 21.5021 - val_mae: 3.4933\n",
      "Epoch 3/20\n",
      "232/232 [==============================] - 18s 76ms/step - loss: 12.0205 - mae: 1.7930 - val_loss: 21.6655 - val_mae: 3.6185\n",
      "Epoch 4/20\n",
      "232/232 [==============================] - 18s 76ms/step - loss: 10.8270 - mae: 1.6013 - val_loss: 21.2783 - val_mae: 3.4924\n",
      "Epoch 5/20\n",
      "232/232 [==============================] - 18s 76ms/step - loss: 9.3165 - mae: 1.4963 - val_loss: 19.5710 - val_mae: 3.2613\n",
      "Epoch 6/20\n",
      "232/232 [==============================] - 18s 77ms/step - loss: 8.1978 - mae: 1.4319 - val_loss: 19.1591 - val_mae: 3.3565\n",
      "Epoch 7/20\n",
      "232/232 [==============================] - 18s 76ms/step - loss: 7.7485 - mae: 1.3443 - val_loss: 20.2388 - val_mae: 3.4358\n",
      "Epoch 8/20\n",
      "232/232 [==============================] - 18s 77ms/step - loss: 6.8800 - mae: 1.3358 - val_loss: 19.8491 - val_mae: 3.3433\n",
      "Epoch 9/20\n",
      "232/232 [==============================] - 18s 76ms/step - loss: 6.9209 - mae: 1.2073 - val_loss: 19.6685 - val_mae: 3.4718\n",
      "Epoch 10/20\n",
      "232/232 [==============================] - 17s 75ms/step - loss: 6.4543 - mae: 1.1598 - val_loss: 20.4469 - val_mae: 3.4080\n",
      "Epoch 11/20\n",
      "232/232 [==============================] - 18s 76ms/step - loss: 6.9450 - mae: 1.1854 - val_loss: 20.3277 - val_mae: 3.4244\n",
      "Chunk 26/52 // 48.08% Complete // Cycle 2/3\n"
     ]
    },
    {
     "name": "stderr",
     "output_type": "stream",
     "text": [
      "y:\\ML\\Anaconda\\envs\\TF-GPU\\lib\\site-packages\\sklearn\\preprocessing\\_label.py:876: UserWarning: unknown class(es) ['Text'] will be ignored\n",
      "  \"unknown class(es) {0} will be ignored\".format(sorted(unknown, key=str))\n",
      "y:\\ML\\Anaconda\\envs\\TF-GPU\\lib\\site-packages\\sklearn\\preprocessing\\_label.py:876: UserWarning: unknown class(es) [' Alex May ', ' Endlessfluff Games ', ' Foreign Gnomes ', ' Humble Games', ' Live Wire ', ' MicroProse ', ' TimeGate Studios ', '1C:Ino-Co ', '4Head Studios ', 'Abrakam SA ', 'Atari', 'BreakAway Games ', 'Chaosmonger Studio ', 'Chris Nordgren', 'Codemasters Birmingham ', 'Coin Crew Games ', 'DESTINYbit ', 'Dark Crystal Games ', 'Digital Lode ', 'Elder Games ', 'Erik Svedang ', 'Exbleative ', 'Fallen Earth', 'Fallen Flag Studio ', 'Fireplace Games ', 'Fishing Cactus ', 'Gameyus Interactive ', 'Gentlymad ', 'Gust ', 'Heavy Iron Studios ', 'Herobeat Studios ', 'Humble Bundle', 'Idea Factory ', 'Image Space Incorporated ', 'Lead Pursuit ', 'Lexis Numerique ', 'Live Wire Films', 'Logic Artists ', 'Mad Orange ', 'MagicalTimeBean ', 'Mantra ', 'Matias Schmied ', 'Minor Key Games ', 'Monolith Productions', 'Nfusion ', 'Ocelot Society ', 'Pathea Games ', 'Popcannibal ', 'Queasy Games ', 'ROCKFISH Games ', 'Rage Software ', 'Razorworks ', 'Rudolf Kremers', 'Shiro Games ', 'Sixteen Tons Entertainment ', 'StarWraith ', 'Storm in a Teacup ', 'Stormfront Studios ', 'TIGAMES ', 'Tesseraction Games ', 'The Chinese Room ', 'Tindalos Interactive ', 'ValuSoft ', 'Video System ', 'White Paper Games ', 'Wube Software LTD. ', 'Zachtronics Industries ', 'i-illusions '] will be ignored\n",
      "  \"unknown class(es) {0} will be ignored\".format(sorted(unknown, key=str))\n"
     ]
    },
    {
     "name": "stdout",
     "output_type": "stream",
     "text": [
      "Epoch 1/20\n",
      "229/229 [==============================] - 18s 77ms/step - loss: 30.1364 - mae: 3.6890 - val_loss: 27.2577 - val_mae: 3.9129\n",
      "Epoch 2/20\n",
      "229/229 [==============================] - 17s 76ms/step - loss: 19.7471 - mae: 2.7023 - val_loss: 25.3953 - val_mae: 3.9324\n",
      "Epoch 3/20\n",
      "229/229 [==============================] - 17s 75ms/step - loss: 16.7228 - mae: 2.4229 - val_loss: 24.1648 - val_mae: 3.8886\n",
      "Epoch 4/20\n",
      "229/229 [==============================] - 17s 75ms/step - loss: 14.4332 - mae: 2.1971 - val_loss: 24.8392 - val_mae: 3.9159\n",
      "Epoch 5/20\n",
      "229/229 [==============================] - 17s 75ms/step - loss: 13.9257 - mae: 2.1237 - val_loss: 24.4338 - val_mae: 3.8784\n",
      "Epoch 6/20\n",
      "229/229 [==============================] - 17s 75ms/step - loss: 13.1096 - mae: 2.0996 - val_loss: 22.6750 - val_mae: 3.6276\n",
      "Epoch 7/20\n",
      "229/229 [==============================] - 17s 75ms/step - loss: 12.3643 - mae: 1.9627 - val_loss: 22.4335 - val_mae: 3.6927\n",
      "Epoch 8/20\n",
      "229/229 [==============================] - 17s 76ms/step - loss: 11.8665 - mae: 1.9560 - val_loss: 22.9889 - val_mae: 3.7089\n",
      "Epoch 9/20\n",
      "229/229 [==============================] - 17s 75ms/step - loss: 12.1748 - mae: 1.9699 - val_loss: 23.9946 - val_mae: 3.7476\n",
      "Epoch 10/20\n",
      "229/229 [==============================] - 17s 76ms/step - loss: 11.1592 - mae: 1.8375 - val_loss: 24.1869 - val_mae: 3.8850\n",
      "Epoch 11/20\n",
      "229/229 [==============================] - 17s 75ms/step - loss: 11.5269 - mae: 1.8721 - val_loss: 22.6380 - val_mae: 3.6855\n",
      "Epoch 12/20\n",
      "229/229 [==============================] - 17s 76ms/step - loss: 11.3791 - mae: 1.8134 - val_loss: 23.3392 - val_mae: 3.6986\n",
      "Chunk 27/52 // 50.0% Complete // Cycle 2/3\n"
     ]
    },
    {
     "name": "stderr",
     "output_type": "stream",
     "text": [
      "y:\\ML\\Anaconda\\envs\\TF-GPU\\lib\\site-packages\\sklearn\\preprocessing\\_label.py:876: UserWarning: unknown class(es) [' 1C:Ino-Co ', 'Owned by Gravity '] will be ignored\n",
      "  \"unknown class(es) {0} will be ignored\".format(sorted(unknown, key=str))\n"
     ]
    },
    {
     "name": "stdout",
     "output_type": "stream",
     "text": [
      "Epoch 1/20\n",
      "224/224 [==============================] - 17s 76ms/step - loss: 15.4276 - mae: 2.3203 - val_loss: 31.4885 - val_mae: 4.5407\n",
      "Epoch 2/20\n",
      "224/224 [==============================] - 17s 76ms/step - loss: 8.3756 - mae: 1.5452 - val_loss: 29.0649 - val_mae: 4.3219\n",
      "Epoch 3/20\n",
      "224/224 [==============================] - 17s 75ms/step - loss: 7.4710 - mae: 1.4069 - val_loss: 30.3713 - val_mae: 4.4305\n",
      "Epoch 4/20\n",
      "224/224 [==============================] - 17s 76ms/step - loss: 7.3081 - mae: 1.3173 - val_loss: 29.1199 - val_mae: 4.3751\n",
      "Epoch 5/20\n",
      "224/224 [==============================] - 17s 75ms/step - loss: 6.4885 - mae: 1.2372 - val_loss: 29.5703 - val_mae: 4.3376\n",
      "Epoch 6/20\n",
      "224/224 [==============================] - 17s 75ms/step - loss: 5.7457 - mae: 1.1457 - val_loss: 30.0885 - val_mae: 4.4025\n",
      "Epoch 7/20\n",
      "224/224 [==============================] - 17s 75ms/step - loss: 6.0664 - mae: 1.1351 - val_loss: 28.9721 - val_mae: 4.2861\n",
      "Epoch 8/20\n",
      "224/224 [==============================] - 17s 76ms/step - loss: 5.6170 - mae: 1.0869 - val_loss: 29.7686 - val_mae: 4.3573\n",
      "Epoch 9/20\n",
      "224/224 [==============================] - 17s 75ms/step - loss: 6.6085 - mae: 1.1113 - val_loss: 30.4885 - val_mae: 4.4007\n",
      "Epoch 10/20\n",
      "224/224 [==============================] - 17s 75ms/step - loss: 6.5236 - mae: 1.0891 - val_loss: 28.3408 - val_mae: 4.2695\n",
      "Epoch 11/20\n",
      "224/224 [==============================] - 17s 75ms/step - loss: 5.0847 - mae: 0.9974 - val_loss: 30.5939 - val_mae: 4.3998\n",
      "Epoch 12/20\n",
      "224/224 [==============================] - 17s 76ms/step - loss: 5.7839 - mae: 1.0135 - val_loss: 29.7002 - val_mae: 4.2855\n",
      "Epoch 13/20\n",
      "224/224 [==============================] - 17s 76ms/step - loss: 5.2209 - mae: 0.9648 - val_loss: 29.0318 - val_mae: 4.2514\n",
      "Epoch 14/20\n",
      "224/224 [==============================] - 17s 76ms/step - loss: 6.0478 - mae: 0.9899 - val_loss: 28.9244 - val_mae: 4.2617\n",
      "Epoch 15/20\n",
      "224/224 [==============================] - 17s 75ms/step - loss: 5.1374 - mae: 0.9180 - val_loss: 29.9204 - val_mae: 4.3354\n",
      "Chunk 28/52 // 51.92% Complete // Cycle 2/3\n"
     ]
    },
    {
     "name": "stderr",
     "output_type": "stream",
     "text": [
      "y:\\ML\\Anaconda\\envs\\TF-GPU\\lib\\site-packages\\sklearn\\preprocessing\\_label.py:876: UserWarning: unknown class(es) [' Ankama ', ' Black Drakkar Games ', ' Blitz Games ', ' Calappa Games ', ' Creative Business Unit III ', ' Cyan', ' EA Vancouver ', ' Gun Interactive ', ' Team 6 Games Studio ', '17-Bit ', '2By3 Games ', '6 Eyes Studio ', 'AGEOD ', 'Ankama Games', 'Anshar Studios ', 'Antab Studio ', 'Auran ', 'Awesome Games Studio ', 'Axel Fox ', 'Beard Envy ', 'Bedtime Digital Games ', 'BetaDwarf ', 'Bits & Beasts ', 'Bonus Level Entertainment ', 'Brain Candy ', 'Brendon Chung ', 'Bright Future GmbH ', 'Byte Barrel ', 'Campo Santo ', 'Cellar Door Games ', 'ChessBase ', 'Cyan Worlds', 'Dead Mage Studio ', 'EA Sports', 'Edge Case Games ', 'Fallen Leaf', 'Fishlabs ', 'Fort Triumph LTD ', 'Freebird Games ', 'Freedom LLC ', 'GalaxyTrail ', 'Gamepires ', 'Grace Bruxner ', 'Green Lava Studios ', 'Greenheart Games ', 'Ground Shatter Ltd. ', 'Harmonix Music Systems ', 'Hasbro Interactive', 'Hexagon Entertainment ', 'HopFrog ', 'Hothouse Creations ', 'IllFonic', 'IronOak Games ', 'JC Entertainment ', 'Kaos Studios ', 'Kong Orange ', 'Lukas Navratil ', 'MediaMobsters ', 'Mode 7 Games ', 'Mopeful Games ', 'Mutant Games ', 'Nemesys ', 'Nussoft', 'Object ', 'Okomotive ', 'Paranoid Interactive ', 'Perfect World Entertainment ', 'Phil Hassey ', 'Phosfiend Systems ', 'Pinkerton Road Studio ', 'Proper Games ', 'Pulsatrix Studios ', 'R8 Games ', 'Razorworks ', 'Red 5 Studios ', 'Red Redemption ', 'Sassybot ', 'Scott Cawthon ', 'Sierra Entertainment ', 'Spaces of Play ', 'Sports Mogul ', 'Stormfront Studios ', 'Sushee ', 'Team2Bit ', 'Team6 Game Studios', 'Throughline Games ', 'Tri Synergy ', 'Tribute Games ', 'Vile Monarch ', 'Whole Hog Games ', 'WideScreen Games ', 'WildTangent ', 'Zoink! ', 'animdude '] will be ignored\n",
      "  \"unknown class(es) {0} will be ignored\".format(sorted(unknown, key=str))\n"
     ]
    },
    {
     "name": "stdout",
     "output_type": "stream",
     "text": [
      "Epoch 1/20\n",
      "225/225 [==============================] - 17s 76ms/step - loss: 30.9630 - mae: 3.8328 - val_loss: 25.5748 - val_mae: 3.7724\n",
      "Epoch 2/20\n",
      "225/225 [==============================] - 17s 77ms/step - loss: 16.2546 - mae: 2.6117 - val_loss: 23.2761 - val_mae: 3.5429\n",
      "Epoch 3/20\n",
      "225/225 [==============================] - 17s 76ms/step - loss: 12.6503 - mae: 2.3024 - val_loss: 23.0228 - val_mae: 3.4258\n",
      "Epoch 4/20\n",
      "225/225 [==============================] - 17s 77ms/step - loss: 10.9876 - mae: 2.0771 - val_loss: 22.1054 - val_mae: 3.3495\n",
      "Epoch 5/20\n",
      "225/225 [==============================] - 17s 76ms/step - loss: 9.1895 - mae: 1.9313 - val_loss: 21.2173 - val_mae: 3.3267\n",
      "Epoch 6/20\n",
      "225/225 [==============================] - 17s 77ms/step - loss: 9.1888 - mae: 1.8961 - val_loss: 21.2504 - val_mae: 3.3352\n",
      "Epoch 7/20\n",
      "225/225 [==============================] - 17s 75ms/step - loss: 8.6753 - mae: 1.8406 - val_loss: 22.8347 - val_mae: 3.4081\n",
      "Epoch 8/20\n",
      "225/225 [==============================] - 17s 76ms/step - loss: 8.3521 - mae: 1.7761 - val_loss: 20.3732 - val_mae: 3.1656\n",
      "Epoch 9/20\n",
      "225/225 [==============================] - 17s 76ms/step - loss: 7.9153 - mae: 1.7464 - val_loss: 20.7305 - val_mae: 3.2832\n",
      "Epoch 10/20\n",
      "225/225 [==============================] - 17s 76ms/step - loss: 7.7715 - mae: 1.6917 - val_loss: 21.5979 - val_mae: 3.3186\n",
      "Epoch 11/20\n",
      "225/225 [==============================] - 17s 75ms/step - loss: 7.4310 - mae: 1.6369 - val_loss: 21.3402 - val_mae: 3.3537\n",
      "Epoch 12/20\n",
      "225/225 [==============================] - 17s 75ms/step - loss: 7.2705 - mae: 1.6347 - val_loss: 21.0588 - val_mae: 3.2143\n",
      "Epoch 13/20\n",
      "225/225 [==============================] - 17s 76ms/step - loss: 6.9886 - mae: 1.5810 - val_loss: 21.0836 - val_mae: 3.2488\n",
      "Chunk 29/52 // 53.85% Complete // Cycle 2/3\n"
     ]
    },
    {
     "name": "stderr",
     "output_type": "stream",
     "text": [
      "y:\\ML\\Anaconda\\envs\\TF-GPU\\lib\\site-packages\\sklearn\\preprocessing\\_label.py:876: UserWarning: unknown class(es) [' Acclaim Studios Manchester ', ' Atari ', ' Atari SA ', ' Buried Signal ', ' Grove Street Games ', ' Joshua Nuernberger ', ' LLC', ' Marvelous First Studio ', ' MicroProse', ' Mixed Realms ', ' Phosphor Games ', ' SeithCG ', ' Splash Damage', '4D Rulers ', '@unepic_fran ', 'Acclaim', 'AggroCrab ', 'Astro Port ', 'Atari', 'Atelier Mimina ', 'Bandai Namco Games', 'Barking Dog ', 'Behavior Studios ', 'Camel 101 ', 'Cat Daddy Games ', 'Chronic Logic ', 'Clever Beans ', 'Coffee Stain North ', 'Covenant.dev ', 'Cypron Studios ', 'Demagog Studio ', 'Devolver Digital ', 'Doinksoft ', 'Feral Cat Den ', 'Fishcow Studio ', 'Flaming Fowl Studios ', 'Free Lives ', 'Gamepires ', 'Gaming Minds Studios ', 'Ghost of a Tale', 'Hasbro Interactive', 'Heatwave Interactive ', 'IllFonic ', 'Jason Roberts', 'Lucid Games ', 'Metamorf Studios ', 'Mixed Realms Pte Ltd', 'Motiga ', 'Old Moon ', 'Old School Games ', 'Phosphor Games Studio', 'Planet Moon Studios ', 'PortaPlay ', 'Radiation Blue ', 'Sick Puppies ', 'Silver Style ', 'Smudged Cat Games ', 'Stuck In Attic ', 'Sushee ', 'The Fullbright Company ', 'Trine Games ', 'Wadjet Eye Games', 'Warner Bros. Interactive Entertainment ', 'Whalebox Studio '] will be ignored\n",
      "  \"unknown class(es) {0} will be ignored\".format(sorted(unknown, key=str))\n"
     ]
    },
    {
     "name": "stdout",
     "output_type": "stream",
     "text": [
      "Epoch 1/20\n",
      "210/210 [==============================] - 16s 76ms/step - loss: 36.6633 - mae: 4.0946 - val_loss: 39.6744 - val_mae: 4.8453\n",
      "Epoch 2/20\n",
      "210/210 [==============================] - 16s 76ms/step - loss: 22.0169 - mae: 2.8342 - val_loss: 43.4290 - val_mae: 5.2706\n",
      "Epoch 3/20\n",
      "210/210 [==============================] - 16s 75ms/step - loss: 18.6245 - mae: 2.4763 - val_loss: 44.8137 - val_mae: 5.4928\n",
      "Epoch 4/20\n",
      "210/210 [==============================] - 16s 75ms/step - loss: 15.6685 - mae: 2.2406 - val_loss: 44.9931 - val_mae: 5.2842\n",
      "Epoch 5/20\n",
      "210/210 [==============================] - 16s 77ms/step - loss: 14.7666 - mae: 2.0600 - val_loss: 48.1937 - val_mae: 5.6255\n",
      "Epoch 6/20\n",
      "210/210 [==============================] - 16s 76ms/step - loss: 15.3123 - mae: 2.0690 - val_loss: 48.7602 - val_mae: 5.7829\n",
      "Chunk 30/52 // 55.77% Complete // Cycle 2/3\n"
     ]
    },
    {
     "name": "stderr",
     "output_type": "stream",
     "text": [
      "y:\\ML\\Anaconda\\envs\\TF-GPU\\lib\\site-packages\\sklearn\\preprocessing\\_label.py:876: UserWarning: unknown class(es) [' Clover Bite ', ' Grove Street Games ', ' GungHo', ' Navegante Entertainment ', ' PopCap ', ' SkyBox Labs ', '10 Chambers Collective ', 'Bromio', 'Caged Element Inc. ', 'Claeys Brothers Arts ', 'Crate Entertainment ', 'Crazy Monkey Studios ', 'Creepy Jar ', 'Cyber Rhino Studios ', 'Daybreak Games ', 'DrinkBox Studios ', 'Funnel Entertainment', 'Gambrinous ', 'Game Arts', 'Game Arts ', 'IGGYMOB ', 'Interactive Stone ', 'Ivy Games LLC ', 'Johnny Dale Lonack ', 'Lazy Bear Games ', 'Massive Damage', 'Muse Games ', 'Neversoft Entertainment', 'Orann ', 'Positech Games ', 'Prideful Sloth ', 'Rebelmind ', 'Rewolf Software ', 'Silent Dreams ', 'TALEROCK ', 'Tom Francis ', 'W!Games ', 'Wizarbox ', 'WorldForge ', 'Yukitama Creative Industries '] will be ignored\n",
      "  \"unknown class(es) {0} will be ignored\".format(sorted(unknown, key=str))\n"
     ]
    },
    {
     "name": "stdout",
     "output_type": "stream",
     "text": [
      "Epoch 1/20\n",
      "221/221 [==============================] - 17s 76ms/step - loss: 18.1283 - mae: 2.9718 - val_loss: 32.9132 - val_mae: 4.0529\n",
      "Epoch 2/20\n",
      "221/221 [==============================] - 17s 75ms/step - loss: 9.5112 - mae: 2.0865 - val_loss: 39.0300 - val_mae: 4.6481\n",
      "Epoch 3/20\n",
      "221/221 [==============================] - 17s 76ms/step - loss: 8.2433 - mae: 1.8245 - val_loss: 41.5597 - val_mae: 4.8349\n",
      "Epoch 4/20\n",
      "221/221 [==============================] - 17s 76ms/step - loss: 6.3257 - mae: 1.6086 - val_loss: 41.1418 - val_mae: 4.9188\n",
      "Epoch 5/20\n",
      "221/221 [==============================] - 17s 76ms/step - loss: 6.3742 - mae: 1.5258 - val_loss: 42.6595 - val_mae: 4.9236\n",
      "Epoch 6/20\n",
      "221/221 [==============================] - 17s 77ms/step - loss: 5.8739 - mae: 1.4361 - val_loss: 43.9943 - val_mae: 5.0788\n",
      "Chunk 31/52 // 57.69% Complete // Cycle 2/3\n"
     ]
    },
    {
     "name": "stderr",
     "output_type": "stream",
     "text": [
      "y:\\ML\\Anaconda\\envs\\TF-GPU\\lib\\site-packages\\sklearn\\preprocessing\\_label.py:876: UserWarning: unknown class(es) [' 343 Industries ', ' Atari SA ', ' Cognosphere ', \" DON'T NOD \", ' Eerie Guest ', ' Hex Entertainment ', ' Ice Cold Games ', ' Novik & Co ', ' Psyop ', ' Targem Games ', ' Transmission Games', ' Vanguard Games ', ' Virtuos ', '343 Industries', '3D People ', 'Amanita Design ', 'Aquiris Game Studio ', 'Arclight Creations ', 'Arkedo Studio ', 'Atari', 'Barking Dog ', 'Benjamin \"ThingOnItsOwn\" Hauer ', 'Benjamin Rivers ', 'Big Sandwich Games', 'Black Matter ', 'Brain Slap Studio ', 'Buka Entertainment', 'Burut Software ', 'Cat Rabbit ', 'Choice Provisions ', 'Cradle Games ', 'CreativeForge Games ', 'Cryptozoic Entertainment', 'DONTNOD Entertainment', 'Defiant Development ', 'DigiFX Interactive ', 'E-One Studio ', 'EA Bright Light ', 'GFI Russia ', 'Hato Moa ', 'IR Gurus ', 'Ice Code Games', 'Joel Mcdonald ', 'Lucky Pause ', 'Magic Design Studios ', 'Moon Spider Studio ', 'Mosaic Mask ', 'New World Computing ', 'Nival Interactive', 'Paul Helman ', 'Psyop Games', 'Quantic Dream', 'Red Zero Games ', 'Robotality ', 'Saibot Studios ', 'Sam Barlow ', 'Sega AM2 ', 'Silverback Entertainment ', 'Skrollcat Studios ', 'Sluggerfly ', 'Soft Enterprises ', 'Square Enix Montreal ', 'Straandlooper ', 'Sumo Newcastle ', 'Terri Vellimann ', 'Tom Francis ', 'Vanguard', 'Warpzone Studios ', 'inkle ', 'miHoYo', 'tinyBuild'] will be ignored\n",
      "  \"unknown class(es) {0} will be ignored\".format(sorted(unknown, key=str))\n"
     ]
    },
    {
     "name": "stdout",
     "output_type": "stream",
     "text": [
      "Epoch 1/20\n",
      "216/216 [==============================] - 17s 76ms/step - loss: 33.4931 - mae: 3.7399 - val_loss: 25.8747 - val_mae: 3.6927\n",
      "Epoch 2/20\n",
      "216/216 [==============================] - 17s 76ms/step - loss: 20.1112 - mae: 2.7430 - val_loss: 22.0248 - val_mae: 3.3924\n",
      "Epoch 3/20\n",
      "216/216 [==============================] - 16s 76ms/step - loss: 18.6239 - mae: 2.4824 - val_loss: 22.6432 - val_mae: 3.4880\n",
      "Epoch 4/20\n",
      "216/216 [==============================] - 16s 76ms/step - loss: 15.4319 - mae: 2.2464 - val_loss: 22.3915 - val_mae: 3.5691\n",
      "Epoch 5/20\n",
      "216/216 [==============================] - 16s 75ms/step - loss: 15.0282 - mae: 2.1431 - val_loss: 22.7539 - val_mae: 3.5128\n",
      "Epoch 6/20\n",
      "216/216 [==============================] - 16s 76ms/step - loss: 13.4345 - mae: 2.0060 - val_loss: 23.5006 - val_mae: 3.7239\n",
      "Epoch 7/20\n",
      "216/216 [==============================] - 16s 76ms/step - loss: 14.0053 - mae: 1.9881 - val_loss: 21.8191 - val_mae: 3.4377\n",
      "Epoch 8/20\n",
      "216/216 [==============================] - 16s 75ms/step - loss: 13.7317 - mae: 1.9373 - val_loss: 24.0376 - val_mae: 3.7659\n",
      "Epoch 9/20\n",
      "216/216 [==============================] - 16s 75ms/step - loss: 12.6434 - mae: 1.8076 - val_loss: 24.9450 - val_mae: 3.8731\n",
      "Epoch 10/20\n",
      "216/216 [==============================] - 16s 76ms/step - loss: 11.8363 - mae: 1.7606 - val_loss: 24.4853 - val_mae: 3.8944\n",
      "Epoch 11/20\n",
      "216/216 [==============================] - 16s 76ms/step - loss: 10.8858 - mae: 1.7079 - val_loss: 24.3063 - val_mae: 3.8163\n",
      "Epoch 12/20\n",
      "216/216 [==============================] - 16s 76ms/step - loss: 11.7841 - mae: 1.7362 - val_loss: 24.2167 - val_mae: 3.8274\n",
      "Chunk 32/52 // 59.62% Complete // Cycle 2/3\n"
     ]
    },
    {
     "name": "stderr",
     "output_type": "stream",
     "text": [
      "y:\\ML\\Anaconda\\envs\\TF-GPU\\lib\\site-packages\\sklearn\\preprocessing\\_label.py:876: UserWarning: unknown class(es) [' 1C-Entertainment ', ' Beamdog', ' Bloom Technology ', ' Blueside ', ' Crema Games ', ' Davit Andreasyan ', ' Easy Trigger Games ', ' Katuri Interactive ', ' Konjak ', ' Ltd. ', ' M2H & BlackMill Games ', ' Most Wanted Entertainment ', ' Overhaul Games ', ' Pine Scented Software ', ' PixelHive ', ' Spike Chunsoft ', ' Squad ', ' Voidpoint', '1C Entertainment', '1C-Softclub ', '3D Realms', '4X Studios ', 'Action Squad Studios ', 'Appaloosa Interactive ', 'Artifact Entertainment ', 'Artifex Mundi ', 'Artificial Mind and Movement ', 'Ascendant Studios ', 'Askiisoft ', 'Berzerk Studio ', 'Big Red Software ', 'Black Isle Studios', 'Bleakmill ', 'Blue Tongue Entertainment ', 'Blyts ', 'Bossa Studios ', 'Brawsome ', 'Bulwark Studios ', \"ByteRockers' Games \", 'Cardboard Box Entertainment ', 'Cardboard Computer ', 'Casey Donnellan Games LLC ', 'ChaosForge ', 'Clifftop Games ', 'Coffee Stain Studios', 'Conifer Games ', 'CremaGames', 'Critique Gaming ', 'Daniel Mullins Games ', 'Dark Energy Digital ', 'Digital Arrow ', 'Dirigo Games ', 'Dreadbit ', 'EKO Software ', 'Empyrean ', 'Fiddlesticks Games ', 'Final Form Games', 'Foolish Mortals Games ', 'Forge Reply ', 'Freebird Games ', 'Fugitive Games ', 'Fuzzyeyes Studio ', 'Galilea Multimedia ', 'Grasshopper Manufacture ', 'Grimbart Tales ', 'HD Interactive', 'HandyGames ', 'Happy Ray Games ', 'Hidden Layer Games ', 'Hollow Ponds and Richard Hogg ', 'IMGN.PRO ', 'Iceberg Interactive', 'In Utero ', 'Innerloop ', 'Joakim Sandberg', 'Juice Games ', 'Jump Over The Age ', 'Kaiko ', 'Katauri Interactive', 'Koboldgames ', 'Kyle Thompson ', 'L3O Interactive ', 'Lab Zero Games ', 'Lion Shield', 'Lo-Fi Games ', 'Lucky Mountain Games ', 'M2H', 'MONKEYCRAFT Co. Ltd. ', 'Metropolis Software ', 'Micro Application ', 'Mission Studios ', 'Mojo Bones ', 'Moonlight Games ', 'NExT Studios ', 'Namco ', 'Necrophone ', 'Nemesys ', 'No Brakes Games ', 'Northway Games ', 'Nullpointer Games ', 'Palindrome Interactive ', 'Particle Systems ', 'Phantagram', 'PolyKnight Games ', 'Primal Software ', 'QLOC ', 'Rage Software ', 'Rocket Bear Games ', 'SQUADTeam', 'Sam Barlow ', 'Shanghai FantaBlade Network Technology Co.', 'Sir-Tech Software Inc. ', 'So Romantic ', 'Somnium Games d.o.o. ', 'Spike Chunsoft Co. Ltd.', 'Squad ', 'Studio Pixel ', 'SumomGames ', 'Superbrothers', 'Tate Multimedia ', 'Telepaths Tree ', 'Tendershoot ', 'The Odd Gentlemen ', 'Tokyo RPG Factory ', 'Tomorrow Corporation ', 'TreeFortress Games ', 'True Axis ', 'Typhoon Studios ', 'UndeadScout ', 'Unfrozen ', 'Vox Game Studio', 'We Create Stuff ', 'Wicked Studios ', 'X1 Software ', 'Zachtronics Industries ', 'dreamfeel '] will be ignored\n",
      "  \"unknown class(es) {0} will be ignored\".format(sorted(unknown, key=str))\n"
     ]
    },
    {
     "name": "stdout",
     "output_type": "stream",
     "text": [
      "Epoch 1/20\n",
      "225/225 [==============================] - 18s 77ms/step - loss: 36.2867 - mae: 4.0853 - val_loss: 57.4792 - val_mae: 5.5512\n",
      "Epoch 2/20\n",
      "225/225 [==============================] - 17s 76ms/step - loss: 21.0722 - mae: 2.9949 - val_loss: 61.0886 - val_mae: 5.6283\n",
      "Epoch 3/20\n",
      "225/225 [==============================] - 17s 76ms/step - loss: 17.9824 - mae: 2.7142 - val_loss: 61.9226 - val_mae: 5.6982\n",
      "Epoch 4/20\n",
      "225/225 [==============================] - 17s 76ms/step - loss: 15.8732 - mae: 2.5432 - val_loss: 64.1494 - val_mae: 5.7219\n",
      "Epoch 5/20\n",
      "225/225 [==============================] - 17s 76ms/step - loss: 16.3045 - mae: 2.4577 - val_loss: 62.7967 - val_mae: 5.6548\n",
      "Epoch 6/20\n",
      "225/225 [==============================] - 17s 75ms/step - loss: 15.6703 - mae: 2.3528 - val_loss: 63.5966 - val_mae: 5.7056\n"
     ]
    },
    {
     "name": "stderr",
     "output_type": "stream",
     "text": [
      "distributed.utils_perf - WARNING - full garbage collections took 10% CPU time recently (threshold: 10%)\n"
     ]
    },
    {
     "name": "stdout",
     "output_type": "stream",
     "text": [
      "Chunk 33/52 // 61.54% Complete // Cycle 2/3\n"
     ]
    },
    {
     "name": "stderr",
     "output_type": "stream",
     "text": [
      "y:\\ML\\Anaconda\\envs\\TF-GPU\\lib\\site-packages\\sklearn\\preprocessing\\_label.py:876: UserWarning: unknown class(es) ['Text'] will be ignored\n",
      "  \"unknown class(es) {0} will be ignored\".format(sorted(unknown, key=str))\n",
      "y:\\ML\\Anaconda\\envs\\TF-GPU\\lib\\site-packages\\sklearn\\preprocessing\\_label.py:876: UserWarning: unknown class(es) [' Black Sea Games ', ' Boss Key Productions ', ' Deck Nine Games ', ' Infogrames', ' Jujubee S.A. ', ' Kaiko ', ' MONKEYCRAFT Co. Ltd. ', ' Melbourne House ', ' Movie Games ', ' Novacore Studios ', ' Slitherine Group ', ' Team Reptile ', ' UNKNOWN GAMES ', ' Xaviant ', 'Activision ', 'Almost Human ', 'Altari Games ', 'Amanita Design ', 'Animation Arts ', 'Asteroid Base ', 'Atari', 'Aterdux Entertainment ', 'BLOODIOUS GAMES ', 'Bandai Namco Games', 'Behold Studios ', 'Bishop Games ', 'Bitbox Ltd. ', 'Black Sea Studios', 'Black Sea Studios ', 'Boss Key', 'BudCat ', 'Cauldron Ltd. ', 'Clever-Plays ', 'ClockStone Studio ', 'Codo Games ', 'Core Design Ltd. ', 'CrazyBunch ', 'DONTNOD Entertainment', 'Dingaling ', 'Duckbridge ', 'Elastic Games ', 'Evan Todd ', 'Foam Sword ', 'Four Quarters ', 'Gamious ', 'Geeta Games ', 'Geniaware ', 'Goblinz Studio ', 'Grundislav Games ', 'HappyJuice Games ', 'Hollow Ponds ', 'Ice-Pick Lodge ', 'Impressions Games ', 'Infinite Monkeys ', 'Jujubee', 'Just A Pixel ', 'KDV Games ', 'Kuma Reality Games ', 'Kyy Games ', 'Lantern Studio ', 'Left Behind Games ', 'Lichthund ', 'Light Brick ', 'Love Conquers All Games ', 'M2', 'Master Creating ', 'Mirage Game Studios ', 'Modern Dream ', 'Mooneye Studios ', 'Movie Games ', 'Movie Games S.A.', 'Neon Studios', 'NetDevil ', 'Nfusion ', 'Nigoro ', 'Numantian Games ', 'Ocean Drive Studio ', 'Ovosonico ', 'Parabole ', 'Pieces Interactive ', 'Playful Corp. ', 'Pollux Gamelabs ', 'Rapid Eye Entertainment ', 'Ratbag ', 'Ratloop Games Canada ', 'Razbor Studios ', 'Ready at Dawn ', 'Reflexive Entertainment ', 'Replay Games ', 'Reptile', 'Robot Loves Kitty ', 'SEMISOFT ', 'Shiver Games ', 'Silverback Studios ', 'Size Five Games ', 'Sketchbook Games ', 'Skyhook Games ', 'Slitherine', 'Slitherine ', 'Stage 2 Studios ', 'State of Play Games ', 'Tangrin ', 'The Chinese Room ', 'Third Law Interactive ', 'Thomas van den Berg ', 'Tokyo RPG Factory ', 'Tomorrow Corporation ', 'Triple Eh? Ltd ', 'Triplevision Games ', 'Tunnel Vision Games ', 'TurtleBlaze ', 'Variable State ', 'Velan Studios ', 'Visual Concepts ', 'Vlambeer ', 'Wild Factor ', 'Xaviant Games', 'Yakov Butuzoff ', 'Zoink! ', 'eBrain Studio ', 'straka.studio ', 'superflat games '] will be ignored\n",
      "  \"unknown class(es) {0} will be ignored\".format(sorted(unknown, key=str))\n",
      "distributed.utils_perf - WARNING - full garbage collections took 10% CPU time recently (threshold: 10%)\n",
      "distributed.utils_perf - WARNING - full garbage collections took 10% CPU time recently (threshold: 10%)\n"
     ]
    },
    {
     "name": "stdout",
     "output_type": "stream",
     "text": [
      "Epoch 1/20\n",
      "220/220 [==============================] - 17s 75ms/step - loss: 32.6904 - mae: 3.6904 - val_loss: 29.7953 - val_mae: 4.2400\n",
      "Epoch 2/20\n",
      "220/220 [==============================] - 17s 76ms/step - loss: 22.7474 - mae: 2.9237 - val_loss: 28.3252 - val_mae: 4.2041\n",
      "Epoch 3/20\n",
      "220/220 [==============================] - 17s 77ms/step - loss: 19.5149 - mae: 2.6412 - val_loss: 27.0805 - val_mae: 4.1625\n",
      "Epoch 4/20\n",
      "220/220 [==============================] - 17s 76ms/step - loss: 18.2117 - mae: 2.4582 - val_loss: 26.2811 - val_mae: 4.1435\n",
      "Epoch 5/20\n",
      "220/220 [==============================] - 17s 75ms/step - loss: 17.1360 - mae: 2.3556 - val_loss: 25.9670 - val_mae: 4.0967\n",
      "Epoch 6/20\n",
      "220/220 [==============================] - 17s 75ms/step - loss: 15.4993 - mae: 2.2412 - val_loss: 25.2457 - val_mae: 4.0959\n",
      "Epoch 7/20\n",
      "220/220 [==============================] - 17s 76ms/step - loss: 15.4011 - mae: 2.2011 - val_loss: 25.6263 - val_mae: 4.1045\n",
      "Epoch 8/20\n",
      "220/220 [==============================] - 17s 76ms/step - loss: 14.0062 - mae: 2.0957 - val_loss: 24.9562 - val_mae: 4.1391\n",
      "Epoch 9/20\n",
      "220/220 [==============================] - 17s 77ms/step - loss: 13.4843 - mae: 2.0544 - val_loss: 24.3364 - val_mae: 4.0299\n",
      "Epoch 10/20\n",
      "220/220 [==============================] - 17s 75ms/step - loss: 13.4092 - mae: 1.9998 - val_loss: 23.6186 - val_mae: 3.9013\n",
      "Epoch 11/20\n",
      "220/220 [==============================] - 17s 75ms/step - loss: 13.6278 - mae: 2.0110 - val_loss: 24.2479 - val_mae: 4.0542\n",
      "Epoch 12/20\n",
      "220/220 [==============================] - 17s 77ms/step - loss: 12.6151 - mae: 1.9493 - val_loss: 23.4617 - val_mae: 3.9656\n",
      "Epoch 13/20\n",
      "220/220 [==============================] - 17s 75ms/step - loss: 12.6180 - mae: 1.9083 - val_loss: 22.8736 - val_mae: 3.8839\n",
      "Epoch 14/20\n",
      "220/220 [==============================] - 17s 76ms/step - loss: 12.0919 - mae: 1.8751 - val_loss: 22.3465 - val_mae: 3.8518\n",
      "Epoch 15/20\n",
      "220/220 [==============================] - 16s 75ms/step - loss: 11.2318 - mae: 1.8037 - val_loss: 23.1647 - val_mae: 3.9025\n",
      "Epoch 16/20\n",
      "220/220 [==============================] - 16s 75ms/step - loss: 11.8025 - mae: 1.8032 - val_loss: 22.1017 - val_mae: 3.8379\n",
      "Epoch 17/20\n",
      "220/220 [==============================] - 17s 76ms/step - loss: 11.5917 - mae: 1.7879 - val_loss: 22.2780 - val_mae: 3.8539\n",
      "Epoch 18/20\n",
      "220/220 [==============================] - 17s 76ms/step - loss: 10.7093 - mae: 1.7116 - val_loss: 20.0512 - val_mae: 3.6246\n",
      "Epoch 19/20\n",
      "220/220 [==============================] - 17s 75ms/step - loss: 9.8966 - mae: 1.6444 - val_loss: 21.7321 - val_mae: 3.7942\n",
      "Epoch 20/20\n",
      "220/220 [==============================] - 17s 76ms/step - loss: 10.9995 - mae: 1.7176 - val_loss: 21.3182 - val_mae: 3.7619\n",
      "Chunk 34/52 // 63.46% Complete // Cycle 2/3\n"
     ]
    },
    {
     "name": "stderr",
     "output_type": "stream",
     "text": [
      "y:\\ML\\Anaconda\\envs\\TF-GPU\\lib\\site-packages\\sklearn\\preprocessing\\_label.py:876: UserWarning: unknown class(es) [' Ino-Co', 'Anim-X ', 'Borealys Games ', 'Charybdis ', 'Cyberlore Studios ', 'FASA Studio ', 'Finish Line Games ', 'GameSourceStudio ', 'Gazillion ', 'Graceful Decay ', 'Guru Games ', 'Himalaya Studios ', 'Holistic Design', 'InterServ International ', 'LKA ', 'Leaping Lizard Software Inc. ', 'Locomalito ', 'MuHa Games ', 'Muzzy Lane Software ', 'NGD Studios ', 'Oldblood ', 'Paradox North ', 'Passtech Games ', 'Pieces Interactive ', 'Piranha Games ', 'Press Play ', 'Quicksilver Software ', 'Sanzaru Games ', 'Secret Level ', 'Sileni Studios ', 'SimTex ', 'Wales Interactive ', 'William Chyr Studio LLC ', 'Wizards of the Coast '] will be ignored\n",
      "  \"unknown class(es) {0} will be ignored\".format(sorted(unknown, key=str))\n"
     ]
    },
    {
     "name": "stdout",
     "output_type": "stream",
     "text": [
      "Epoch 1/20\n",
      "227/227 [==============================] - 17s 75ms/step - loss: 29.2934 - mae: 3.4257 - val_loss: 21.2205 - val_mae: 3.9563\n",
      "Epoch 2/20\n",
      "227/227 [==============================] - 17s 75ms/step - loss: 17.1838 - mae: 2.3465 - val_loss: 19.3599 - val_mae: 3.8085\n",
      "Epoch 3/20\n",
      "227/227 [==============================] - 17s 76ms/step - loss: 14.2801 - mae: 2.0196 - val_loss: 18.1456 - val_mae: 3.7532\n",
      "Epoch 4/20\n",
      "227/227 [==============================] - 17s 76ms/step - loss: 13.7210 - mae: 1.8729 - val_loss: 17.4661 - val_mae: 3.6472\n",
      "Epoch 5/20\n",
      "227/227 [==============================] - 17s 77ms/step - loss: 13.0063 - mae: 1.7788 - val_loss: 17.0276 - val_mae: 3.6068\n",
      "Epoch 6/20\n",
      "227/227 [==============================] - 17s 76ms/step - loss: 13.6537 - mae: 1.7633 - val_loss: 16.4927 - val_mae: 3.4906\n",
      "Epoch 7/20\n",
      "227/227 [==============================] - 17s 75ms/step - loss: 12.0931 - mae: 1.6565 - val_loss: 17.1670 - val_mae: 3.6127\n",
      "Epoch 8/20\n",
      "227/227 [==============================] - 17s 75ms/step - loss: 11.9258 - mae: 1.5674 - val_loss: 17.4651 - val_mae: 3.6318\n",
      "Epoch 9/20\n",
      "227/227 [==============================] - 17s 75ms/step - loss: 12.1284 - mae: 1.5892 - val_loss: 16.6303 - val_mae: 3.5279\n",
      "Epoch 10/20\n",
      "227/227 [==============================] - 17s 76ms/step - loss: 12.1354 - mae: 1.5921 - val_loss: 15.9737 - val_mae: 3.4056\n",
      "Epoch 11/20\n",
      "227/227 [==============================] - 17s 75ms/step - loss: 12.7790 - mae: 1.6063 - val_loss: 16.2335 - val_mae: 3.4468\n",
      "Epoch 12/20\n",
      "227/227 [==============================] - 17s 76ms/step - loss: 10.7824 - mae: 1.4608 - val_loss: 15.9559 - val_mae: 3.3473\n",
      "Epoch 13/20\n",
      "227/227 [==============================] - 17s 76ms/step - loss: 11.6307 - mae: 1.4910 - val_loss: 15.7566 - val_mae: 3.3844\n",
      "Epoch 14/20\n",
      "227/227 [==============================] - 17s 75ms/step - loss: 11.4872 - mae: 1.4559 - val_loss: 14.9189 - val_mae: 3.2770\n",
      "Epoch 15/20\n",
      "227/227 [==============================] - 17s 75ms/step - loss: 12.0988 - mae: 1.4745 - val_loss: 15.6432 - val_mae: 3.4237\n",
      "Epoch 16/20\n",
      "227/227 [==============================] - 17s 75ms/step - loss: 11.7905 - mae: 1.4809 - val_loss: 15.8135 - val_mae: 3.3391\n",
      "Epoch 17/20\n",
      "227/227 [==============================] - 17s 75ms/step - loss: 11.2715 - mae: 1.4283 - val_loss: 15.0141 - val_mae: 3.2743\n",
      "Epoch 18/20\n",
      "227/227 [==============================] - 17s 75ms/step - loss: 10.9338 - mae: 1.4032 - val_loss: 16.5242 - val_mae: 3.4151\n",
      "Epoch 19/20\n",
      "227/227 [==============================] - 17s 75ms/step - loss: 10.6986 - mae: 1.3848 - val_loss: 16.7747 - val_mae: 3.4772\n",
      "Chunk 35/52 // 65.38% Complete // Cycle 2/3\n"
     ]
    },
    {
     "name": "stderr",
     "output_type": "stream",
     "text": [
      "y:\\ML\\Anaconda\\envs\\TF-GPU\\lib\\site-packages\\sklearn\\preprocessing\\_label.py:876: UserWarning: unknown class(es) [' 1C', ' Bullets ', ' Centauri Production ', ' Dreamworks Games ', ' Eyeguys ', ' French-Bread ', ' General Arcade ', ' Ministry of Broadcast Studios ', ' Now Production', ' Rockstar San Diego ', ' Studio Fizbin ', ' Team Reptile ', ' Tribute Games Inc. ', '1C-Softclub ', 'Angel Studios', 'Bit Byterz ', 'Blastmode ', 'Bombservice ', 'Carlos Coronado ', 'Cinemax', 'Devolver Digital ', 'Digital Dialect ', 'Digital Eclipse ', 'Dinosaur Polo Club ', 'EA LA', 'Ecole', 'Fizbin', 'From Software', 'Half Asleep ', 'Homeless Unicorn', 'Inti Creates ', 'IonFX ', 'Jacob Dzwinel ', 'KCEJ ', 'Keen Software House ', 'Kuju Entertainment ', 'Lorenzo Redaelli', 'Piranha Games ', 'Red Rocket Games ', 'Render Cube ', 'Reptile', 'Rockstar San Diego ', 'Saturn+ ', 'Supersonic Software ', 'THQ', 'TKO Software ', 'The Outsiders ', 'Tribute Games', 'Twice Circled ', 'Virtuos ', 'Zono Inc. '] will be ignored\n",
      "  \"unknown class(es) {0} will be ignored\".format(sorted(unknown, key=str))\n"
     ]
    },
    {
     "name": "stdout",
     "output_type": "stream",
     "text": [
      "Epoch 1/20\n",
      "210/210 [==============================] - 16s 75ms/step - loss: 19.1958 - mae: 2.9257 - val_loss: 16.6982 - val_mae: 3.3257\n",
      "Epoch 2/20\n",
      "210/210 [==============================] - 16s 75ms/step - loss: 10.3853 - mae: 2.0180 - val_loss: 17.3685 - val_mae: 3.5216\n",
      "Epoch 3/20\n",
      "210/210 [==============================] - 16s 75ms/step - loss: 8.2728 - mae: 1.7326 - val_loss: 18.1751 - val_mae: 3.5346\n",
      "Epoch 4/20\n",
      "210/210 [==============================] - 16s 76ms/step - loss: 7.1689 - mae: 1.5413 - val_loss: 17.5075 - val_mae: 3.4806\n",
      "Epoch 5/20\n",
      "210/210 [==============================] - 16s 75ms/step - loss: 6.8569 - mae: 1.4627 - val_loss: 17.7300 - val_mae: 3.5546\n",
      "Epoch 6/20\n",
      "210/210 [==============================] - 16s 76ms/step - loss: 6.7511 - mae: 1.4149 - val_loss: 17.9455 - val_mae: 3.5181\n",
      "Chunk 36/52 // 67.31% Complete // Cycle 2/3\n"
     ]
    },
    {
     "name": "stderr",
     "output_type": "stream",
     "text": [
      "y:\\ML\\Anaconda\\envs\\TF-GPU\\lib\\site-packages\\sklearn\\preprocessing\\_label.py:876: UserWarning: unknown class(es) [' 10tons ', ' Application Systems Heidelberg ', ' Awesome Games Studio ', ' BeautiFun Games ', ' BlackMuffin Studio', ' Char & Torfi ', ' Digital Sun ', ' EA Singapore ', ' Fair Play Labs ', ' Funatics ', ' Funatics Software', ' Honor Code', ' Immersion Software & Graphics ', ' Monkey Moon ', ' Muutsch', ' Playsport Games Ltd ', ' Pol', ' Russia ', ' Soleil', ' Soleil Ltd. ', ' StudioInkyfox ', ' Thomas Brush ', ' Toylogic ', ' Varkian Empire ', '10tons Entertainment', '11 bit studios', '24 Entertainment ', '3A Games ', 'Alcachofa Soft ', 'Application Systems Heidelberg Software GmbH', 'Artificial Studios', 'Arxel Tribe ', 'Avalon Style ', 'AwesomeGamesStudio', 'BEAUTIFUN GAMES SL', 'Beautiful Glitch ', 'Big Ape Productions ', 'Black Mermaid ', 'Black Pants Studio ', 'Blazing Bit Games ', 'Blazing Griffin ', 'Blue Bottle Games ', 'Broken Rules ', 'Capricia Productions ', 'Chance Agency ', 'Coffee Powered Machine ', 'Connor Ullmann ', 'Cornfox & Bros. ', 'Crunching Koalas ', 'CyberConnect2', 'Deep Red ', 'Delphine Software International ', 'Detalion ', 'Die Gute Fabrik ', 'Diversions Entertainment ', 'DrinkBox Studios ', 'EA Black Box', 'EA Seattle ', 'Eutechnyx ', 'Funatics Development GmbH', 'Future Games ', 'Geography of Robots ', 'Gojira ', 'Grip Digital ', 'Harebrained Schemes LLC ', 'Hidden Fields ', 'Housemarque ', 'Humongous Entertainment ', 'Hydravision ', 'ILCA', 'Idol FX ', 'In Utero ', 'Infinitap Games ', 'Infinite Fall ', 'Interwave Studios ', 'John Szymanski ', 'Jonas Manke', 'Joon', 'Juggler Games ', 'Just Add Water ', 'Kitfox Games ', 'Kuju Entertainment ', 'LCB Game Studio ', 'Le Cartel Studio ', 'Level 5 ', 'Lexis Numerique ', 'Limasse Five ', 'Ludosity Interactive', 'Max Mraz ', 'Mayhem Studios ', 'Messhof ', 'Metronomik ', 'Mithis/HD Interactive ', 'Mohawk Games ', 'Monster Games Inc. ', 'NUDE MAKER', 'Narcosis Team', 'Neotro Inc. ', 'Nepos Games ', 'No Code ', 'Nolla Games ', 'NotGames ', 'Nowhere Studios ', 'Oddworld Inhabitants ', 'Ossian Studios ', 'Panic Barn Ltd ', 'Papyrus ', 'Pathea Games ', 'Phosphor Games Studio', 'Picaresque Studio ', 'Pinkerton Road Studio ', 'Player First Games ', 'Playsport Games', 'Pocketwatch Games ', 'Polypusher Studios ', 'Presto Studios ', 'Rage Software ', 'Rainbow Studios ', 'Raw Fury', 'Red Herring Labs ', 'Related Designs ', 'Renegade Kid ', 'Rock Pocket Games ', 'Rocket Science Games ', 'Rogue Factor ', 'Route 59 Games ', 'SMG Studio ', 'Santa Ragione ', 'Screaming Games ', 'Serenity Forge', 'Sharkbomb Studios ', 'Shiny Shoe ', 'Shiro Games ', 'Silver Dollar Games ', 'Skeleton Crew Studio ', 'Space Dust Studios', 'Spearhead Games ', 'Still Running ', 'Studio Koba ', 'Sunnyside Games ', 'Tamsoft ', 'Team Oneshot ', 'Team Shifty ', 'Termite Games ', 'Thomas Moon Kang ', 'Tom Hegarty ', 'TopWare Interactive ', 'Toylogic Inc.', 'Triternion ', 'Turbo Tape Games ', 'Uber Entertainment ', 'Unigine Corp', 'Untame ', 'Upper One Games ', 'Veewo Games ', 'Vile Monarch ', 'Visual Concepts ', 'Vlambeer ', 'White Birds Productions ', 'Y.K. ', 'ZANDEL MEDIA ', 'roll7 ', 'tiny Build GAMES'] will be ignored\n",
      "  \"unknown class(es) {0} will be ignored\".format(sorted(unknown, key=str))\n"
     ]
    },
    {
     "name": "stdout",
     "output_type": "stream",
     "text": [
      "Epoch 1/20\n",
      "220/220 [==============================] - 17s 76ms/step - loss: 32.8850 - mae: 3.9869 - val_loss: 29.2054 - val_mae: 4.2657\n",
      "Epoch 2/20\n",
      "220/220 [==============================] - 17s 76ms/step - loss: 22.1940 - mae: 3.1718 - val_loss: 25.8302 - val_mae: 3.9581\n",
      "Epoch 3/20\n",
      "220/220 [==============================] - 17s 76ms/step - loss: 19.0207 - mae: 2.8597 - val_loss: 24.5280 - val_mae: 3.8456\n",
      "Epoch 4/20\n",
      "220/220 [==============================] - 17s 75ms/step - loss: 16.6370 - mae: 2.6755 - val_loss: 24.2017 - val_mae: 3.7999\n",
      "Epoch 5/20\n",
      "220/220 [==============================] - 17s 75ms/step - loss: 14.8499 - mae: 2.4963 - val_loss: 23.1550 - val_mae: 3.7496\n",
      "Epoch 6/20\n",
      "220/220 [==============================] - 17s 75ms/step - loss: 13.8587 - mae: 2.3570 - val_loss: 21.4052 - val_mae: 3.5763\n",
      "Epoch 7/20\n",
      "220/220 [==============================] - 17s 76ms/step - loss: 13.2269 - mae: 2.2648 - val_loss: 22.7301 - val_mae: 3.6497\n",
      "Epoch 8/20\n",
      "220/220 [==============================] - 16s 75ms/step - loss: 13.0653 - mae: 2.2227 - val_loss: 22.7706 - val_mae: 3.7155\n",
      "Epoch 9/20\n",
      "220/220 [==============================] - 16s 75ms/step - loss: 12.3654 - mae: 2.2094 - val_loss: 22.7098 - val_mae: 3.6873\n",
      "Epoch 10/20\n",
      "220/220 [==============================] - 17s 75ms/step - loss: 13.6425 - mae: 2.2166 - val_loss: 22.8360 - val_mae: 3.7314\n",
      "Epoch 11/20\n",
      "220/220 [==============================] - 17s 75ms/step - loss: 11.6213 - mae: 2.0714 - val_loss: 22.4147 - val_mae: 3.6395\n",
      "Chunk 37/52 // 69.23% Complete // Cycle 2/3\n"
     ]
    },
    {
     "name": "stderr",
     "output_type": "stream",
     "text": [
      "y:\\ML\\Anaconda\\envs\\TF-GPU\\lib\\site-packages\\sklearn\\preprocessing\\_label.py:876: UserWarning: unknown class(es) [' Bigben Games ', ' Bigben Interactive', ' Minority Media Inc. ', ' Sproing ', ' Xeen ', 'Alter Games ', 'Appeal', 'Black Shamrock ', 'Clever Plays ', 'Continuum ', 'Finji ', 'Flashback Games ', 'Galilea Multimedia ', 'Gaming Minds Studios ', 'Ghost Town Games Ltd. ', 'Grayfax Software ', 'Grinding Gear Games ', 'Hemisphere Games ', 'Homegrown Games ', 'House of Tales ', 'Housemarque', 'Ice-Pick Lodge ', 'IzHard ', 'Jacob Janerka ', 'Kaizen Game Works ', 'Lesta Studio ', 'Lightbulb Crew ', 'Lucas Pope ', 'Mad Head Games ', 'Mi-Clos Studio ', 'Mindfield Games ', 'Mindware Studios ', 'Minority', 'Mist Land ', 'Namco Bandai Games ', 'Nerd Monkeys ', 'Nerial ', 'Now Production', 'Osmotic Studios ', 'Out Of The Park Developments ', 'Owlcat Games ', 'Patrick Traynor ', 'Phantom 8 ', 'Phantomery Interactive ', 'Pinokl Games ', 'PolyAmorous ', 'Proxy Studios ', 'R8 Games ', 'Revival Productions', 'Robotality ', 'SEK Ost ', 'SSI ', 'Shining Pixel Studios ', 'Sproing Interactive Media', 'The Artistocrats ', 'The Lordz Games Studio ', 'Tribute Games ', 'Ultra Runaway Games ', 'White Birds Productions ', 'Zordix Racing '] will be ignored\n",
      "  \"unknown class(es) {0} will be ignored\".format(sorted(unknown, key=str))\n"
     ]
    },
    {
     "name": "stdout",
     "output_type": "stream",
     "text": [
      "Epoch 1/20\n",
      "223/223 [==============================] - 17s 76ms/step - loss: 24.0535 - mae: 2.8668 - val_loss: 18.4385 - val_mae: 2.9101\n",
      "Epoch 2/20\n",
      "223/223 [==============================] - 17s 75ms/step - loss: 12.5538 - mae: 1.9583 - val_loss: 16.9838 - val_mae: 2.8027\n",
      "Epoch 3/20\n",
      "223/223 [==============================] - 17s 76ms/step - loss: 9.7986 - mae: 1.7055 - val_loss: 16.2188 - val_mae: 2.8841\n",
      "Epoch 4/20\n",
      "223/223 [==============================] - 17s 75ms/step - loss: 8.4127 - mae: 1.5344 - val_loss: 17.7451 - val_mae: 2.8843\n",
      "Epoch 5/20\n",
      "223/223 [==============================] - 17s 75ms/step - loss: 7.4901 - mae: 1.4126 - val_loss: 17.3586 - val_mae: 2.9655\n",
      "Epoch 6/20\n",
      "223/223 [==============================] - 17s 76ms/step - loss: 7.0197 - mae: 1.3220 - val_loss: 17.6161 - val_mae: 2.9407\n",
      "Epoch 7/20\n",
      "223/223 [==============================] - 17s 75ms/step - loss: 6.7963 - mae: 1.3073 - val_loss: 17.1905 - val_mae: 2.9090\n",
      "Epoch 8/20\n",
      "223/223 [==============================] - 17s 75ms/step - loss: 6.2665 - mae: 1.2512 - val_loss: 16.7825 - val_mae: 2.8916\n"
     ]
    },
    {
     "name": "stderr",
     "output_type": "stream",
     "text": [
      "distributed.utils_perf - WARNING - full garbage collections took 10% CPU time recently (threshold: 10%)\n"
     ]
    },
    {
     "name": "stdout",
     "output_type": "stream",
     "text": [
      "Chunk 38/52 // 71.15% Complete // Cycle 2/3\n"
     ]
    },
    {
     "name": "stderr",
     "output_type": "stream",
     "text": [
      "y:\\ML\\Anaconda\\envs\\TF-GPU\\lib\\site-packages\\sklearn\\preprocessing\\_label.py:876: UserWarning: unknown class(es) [' AGEOD ', ' Gaming Minds Studios ', ' Planetary Annihilation Inc ', ' Q-Games ', '7 Studios ', 'Adrian Lazar ', 'Beamdog ', 'Beatnik Games ', 'Chasing Carrots ', 'Cloudhead Games ', 'CreativeForge Games ', 'Cyberlore Studios ', 'Daniel Mullins Games ', 'Disney Online ', 'Double Eleven', 'Double Eleven ', 'Dry Cactus ', 'Fabled Game ', 'Flying Lab Software ', 'FuturLab ', 'Gaming Minds Studios ', 'ION LANDS ', 'IllFonic ', 'Impressions Games ', 'K-D Lab ', 'Lukewarm Media ', 'Mages. ', 'Might and Delight ', 'Object ', 'Paradox Interactive', 'Pasta Games ', 'Polyslash ', 'RichMakeGame ', 'Running Dog ', 'Sectordub ', 'Snapshot Games Inc. ', 'SoftWarWare ', 'Stormfront Studios ', 'The Behemoth ', 'The Deep End Games ', 'Thomas Brush ', 'Tlon Studios ', 'Torus Games ', 'Tour De Pizza ', 'Triskell Interactive ', 'Uber Entertainment', 'Visiware Studios ', 'Voracious Games ', 'Wastelands Interactive ', 'Wishfully ', 'Wormwood Studios ', 'YCJY Games ', 'Zeboyd Games ', 'ZootFly ', 'nDreams ', 'niceplay games '] will be ignored\n",
      "  \"unknown class(es) {0} will be ignored\".format(sorted(unknown, key=str))\n",
      "distributed.utils_perf - WARNING - full garbage collections took 10% CPU time recently (threshold: 10%)\n",
      "distributed.utils_perf - WARNING - full garbage collections took 10% CPU time recently (threshold: 10%)\n"
     ]
    },
    {
     "name": "stdout",
     "output_type": "stream",
     "text": [
      "Epoch 1/20\n",
      "230/230 [==============================] - 18s 77ms/step - loss: 25.8715 - mae: 3.1304 - val_loss: 23.0633 - val_mae: 3.3892\n",
      "Epoch 2/20\n",
      "230/230 [==============================] - 17s 75ms/step - loss: 15.0349 - mae: 2.1399 - val_loss: 24.0324 - val_mae: 3.8549\n",
      "Epoch 3/20\n",
      "230/230 [==============================] - 17s 76ms/step - loss: 12.1276 - mae: 1.9042 - val_loss: 24.7124 - val_mae: 3.9444\n",
      "Epoch 4/20\n",
      "230/230 [==============================] - 17s 76ms/step - loss: 10.8525 - mae: 1.7973 - val_loss: 24.4485 - val_mae: 3.9422\n",
      "Epoch 5/20\n",
      "230/230 [==============================] - 17s 74ms/step - loss: 9.6000 - mae: 1.6801 - val_loss: 23.7984 - val_mae: 3.9944\n",
      "Epoch 6/20\n",
      "230/230 [==============================] - 17s 76ms/step - loss: 9.4174 - mae: 1.5886 - val_loss: 23.1121 - val_mae: 3.9997\n"
     ]
    },
    {
     "name": "stderr",
     "output_type": "stream",
     "text": [
      "distributed.utils_perf - WARNING - full garbage collections took 10% CPU time recently (threshold: 10%)\n"
     ]
    },
    {
     "name": "stdout",
     "output_type": "stream",
     "text": [
      "Chunk 39/52 // 73.08% Complete // Cycle 2/3\n"
     ]
    },
    {
     "name": "stderr",
     "output_type": "stream",
     "text": [
      "y:\\ML\\Anaconda\\envs\\TF-GPU\\lib\\site-packages\\sklearn\\preprocessing\\_label.py:876: UserWarning: unknown class(es) ['Text'] will be ignored\n",
      "  \"unknown class(es) {0} will be ignored\".format(sorted(unknown, key=str))\n",
      "y:\\ML\\Anaconda\\envs\\TF-GPU\\lib\\site-packages\\sklearn\\preprocessing\\_label.py:876: UserWarning: unknown class(es) [' Bounding Box Games ', ' Double Damage Games ', ' Hi Corp ', ' KTX Software ', ' MachineGames ', ' Pixel Pi Games ', ' Team Ladybug ', ' WSS Playground', '2 Dawn Games ', '34BigThings ', 'Abbey Games ', 'Atomic Motion ', 'Big Star Games ', 'Black Rock Studio ', 'Blendo Games ', 'Buckshot Software ', 'Camouflaj', 'Cococucumber ', 'Core Design Ltd. ', 'Creat Studios ', 'Doctor Entertainment ', 'Double Damage Games', 'Double Damage Games ', 'EasyGameStation ', 'Ed Key and David Kanaga ', 'Flippfly ', 'Flying Lab Software ', 'Freeform Interactive LLC ', 'Frostwood Interactive ', 'Gaming Minds Studios ', 'Ice Flames ', 'Infamous Quests ', 'Innerloop ', 'Interceptor Entertainment ', 'Ironward ', 'Jujubee S.A. ', 'Kuju Entertainment ', 'Laura Shigihara ', 'Lazy Bear Games ', 'Lionbite Games ', 'ManaVoid Entertainment Inc. ', 'Mark Healey ', 'Mighty Polygon ', 'Mike and Jason', 'NG:DEV.TEAM', 'Nerial ', 'Nexus Game Studio ', 'Nicolas Meyssonnier ', 'Nodding Heads Games ', 'NuClearVision ', 'Old School Games ', 'Outrage Games ', 'Phigames ', 'Pixelated Milk ', 'Plastic Piranha ', 'Radon Labs ', 'RailSimulator.com ', 'Rival Interactive ', 'Sector D2 ', 'Sobaka ', 'SomaSim ', 'Stormind Games ', 'Sundae Month ', 'Survios ', 'Team Pixel Pi', 'The Bae Team ', 'The Tiniest Shark ', 'Three Rings ', 'Toxic Games ', 'UBlart Montpellier ', 'Vertical Robot ', 'Videocult ', 'Vladimir Kudelka ', 'Volatile Games ', 'Why so serious?', 'Wizarbox ', 'Yanim Studio ', 'comcept '] will be ignored\n",
      "  \"unknown class(es) {0} will be ignored\".format(sorted(unknown, key=str))\n",
      "distributed.utils_perf - WARNING - full garbage collections took 10% CPU time recently (threshold: 10%)\n",
      "distributed.utils_perf - WARNING - full garbage collections took 10% CPU time recently (threshold: 10%)\n"
     ]
    },
    {
     "name": "stdout",
     "output_type": "stream",
     "text": [
      "Epoch 1/20\n",
      "212/212 [==============================] - 16s 76ms/step - loss: 30.2932 - mae: 3.5739 - val_loss: 23.8039 - val_mae: 3.5248\n",
      "Epoch 2/20\n",
      "212/212 [==============================] - 16s 75ms/step - loss: 18.5467 - mae: 2.6924 - val_loss: 19.0998 - val_mae: 3.1413\n",
      "Epoch 3/20\n",
      "212/212 [==============================] - 16s 75ms/step - loss: 16.1652 - mae: 2.3551 - val_loss: 17.6320 - val_mae: 2.8958\n",
      "Epoch 4/20\n",
      "212/212 [==============================] - 16s 76ms/step - loss: 13.2682 - mae: 2.1362 - val_loss: 19.8518 - val_mae: 3.2894\n",
      "Epoch 5/20\n",
      "212/212 [==============================] - 16s 76ms/step - loss: 11.7066 - mae: 1.9128 - val_loss: 17.7455 - val_mae: 3.1284\n",
      "Epoch 6/20\n",
      "212/212 [==============================] - 16s 76ms/step - loss: 10.8026 - mae: 1.8041 - val_loss: 17.5395 - val_mae: 3.1003\n",
      "Epoch 7/20\n",
      "212/212 [==============================] - 16s 75ms/step - loss: 10.7172 - mae: 1.7696 - val_loss: 18.4042 - val_mae: 3.2501\n",
      "Epoch 8/20\n",
      "212/212 [==============================] - 16s 76ms/step - loss: 9.2409 - mae: 1.6473 - val_loss: 18.6105 - val_mae: 3.2435\n",
      "Epoch 9/20\n",
      "212/212 [==============================] - 16s 77ms/step - loss: 9.1375 - mae: 1.6076 - val_loss: 16.1127 - val_mae: 3.0011\n",
      "Epoch 10/20\n",
      "212/212 [==============================] - 16s 75ms/step - loss: 8.9816 - mae: 1.5986 - val_loss: 17.4686 - val_mae: 3.0942\n",
      "Epoch 11/20\n",
      "212/212 [==============================] - 16s 75ms/step - loss: 8.9481 - mae: 1.5562 - val_loss: 17.2961 - val_mae: 3.1134\n",
      "Epoch 12/20\n",
      "212/212 [==============================] - 16s 76ms/step - loss: 7.7905 - mae: 1.4821 - val_loss: 15.9176 - val_mae: 2.9723\n",
      "Epoch 13/20\n",
      "212/212 [==============================] - 16s 75ms/step - loss: 8.4274 - mae: 1.5309 - val_loss: 17.1555 - val_mae: 3.1265\n",
      "Epoch 14/20\n",
      "212/212 [==============================] - 16s 76ms/step - loss: 8.0223 - mae: 1.4565 - val_loss: 17.0057 - val_mae: 3.1905\n",
      "Epoch 15/20\n",
      "212/212 [==============================] - 16s 76ms/step - loss: 6.9581 - mae: 1.3985 - val_loss: 17.9038 - val_mae: 3.2478\n",
      "Epoch 16/20\n",
      "212/212 [==============================] - 16s 75ms/step - loss: 7.0743 - mae: 1.3777 - val_loss: 18.0687 - val_mae: 3.2454\n",
      "Epoch 17/20\n",
      "212/212 [==============================] - 16s 75ms/step - loss: 7.0169 - mae: 1.3849 - val_loss: 18.4976 - val_mae: 3.2439\n"
     ]
    },
    {
     "name": "stderr",
     "output_type": "stream",
     "text": [
      "distributed.utils_perf - WARNING - full garbage collections took 10% CPU time recently (threshold: 10%)\n"
     ]
    },
    {
     "name": "stdout",
     "output_type": "stream",
     "text": [
      "Chunk 40/52 // 75.0% Complete // Cycle 2/3\n"
     ]
    },
    {
     "name": "stderr",
     "output_type": "stream",
     "text": [
      "y:\\ML\\Anaconda\\envs\\TF-GPU\\lib\\site-packages\\sklearn\\preprocessing\\_label.py:876: UserWarning: unknown class(es) [' Animation Arts ', ' Devoured Studios ', ' Engine Software ', ' Gamasoft ', ' Hopoo Games ', ' Introversion Software ', ' Jo-Mei Games ', ' Leikir Studio ', ' Mixed Realms ', ' Monstars Inc.', ' Omen ', ' Resonair ', ' Stainless Steel Studios ', ' Studio 369 ', ' Studio Fizbin ', ' Super Awesome Hyper Dimensional Mega Team ', '5 Lives Studios ', '5TH Cell ', 'Abbey Games ', 'Abrakam SA ', 'Amanita Design ', 'Animation Arts ', 'Antimatter Games ', 'Arberth Studios ', 'Artifice Studio ', 'Atomic Planet Entertainment ', 'Beau Blyth ', 'Broken Rules ', 'CCR', 'Cadenza ', 'Cellar Door Games ', 'Chucklefish', 'Creative Bytes ', 'DAMAGE STATE LTD ', 'Dapper Penguin Studios ', 'Dark Seas Games ', 'Denby / Raze ', 'Digixart Entertainment', 'Digixart Entertainment ', 'DreamCatcher Interactive ', 'Ebb Software ', 'Edelweiss ', 'Egidijus Bachur ', 'Facepunch Studios ', 'Final Strike Games ', 'Fizbin', 'Flying Oak Games ', 'Free Radical Design ', 'Fusionsphere Systems', 'Fusionsphere Systems ', 'Gabriel Interactive ', 'HAKAMA ', 'Housemarque ', 'Human Head Studios', 'Introversion', 'Italic Pig ', 'Jutsu Games ', 'Koei ', 'LGK Games ', 'Lucas Pope ', 'Ludeon Studios ', 'Mad Head Games ', 'Master Creating ', 'Midway', 'Mixed Realms Pte Ltd', 'Morgondag ', 'Mystic Box ', 'Naked Sky Entertainment ', 'No Goblin ', 'Nucleosys ', 'Nvizzio Creations ', 'Owlchemy Labs ', 'Phantom Compass ', 'Polygon Treehouse ', 'Puppy Games ', 'Recoil Games ', 'Red Ego Games ', 'Reikon Games ', 'Robot House ', 'Runewaker Entertainment ', 'SNK Corporation ', 'Sabotage Studio ', 'Samurai Punk ', 'Santa Ragione ', 'Scavengers Studio ', 'Shed-Works ', 'Ska Studios', 'Skunkape Games ', 'Slant Six ', 'Softlab-NSK ', 'SouthPeak Games ', 'Southend Interactive ', 'Spellbind Studios ', 'Sperasoft ', 'Spry Fox ', 'Super Mega Team', 'Swing Swing Submarine ', 'TickTock Games ', 'Tomasz Waclawek ', 'Torched Hill ', 'Totally Games ', 'Twice Different ', 'Two Tribes ', 'UGA', 'Uprising Studios ', 'Vblank Entertainment Inc. ', 'XYLA Entertainment ', 'Youxiland', 'neoqb ', 'roll7 ', 'xii games '] will be ignored\n",
      "  \"unknown class(es) {0} will be ignored\".format(sorted(unknown, key=str))\n",
      "distributed.utils_perf - WARNING - full garbage collections took 10% CPU time recently (threshold: 10%)\n",
      "distributed.utils_perf - WARNING - full garbage collections took 10% CPU time recently (threshold: 10%)\n"
     ]
    },
    {
     "name": "stdout",
     "output_type": "stream",
     "text": [
      "Epoch 1/20\n",
      "221/221 [==============================] - 17s 76ms/step - loss: 31.8752 - mae: 3.9094 - val_loss: 29.2675 - val_mae: 4.0163\n",
      "Epoch 2/20\n",
      "221/221 [==============================] - 17s 76ms/step - loss: 20.4190 - mae: 2.9792 - val_loss: 27.7541 - val_mae: 4.0439\n",
      "Epoch 3/20\n",
      "221/221 [==============================] - 16s 74ms/step - loss: 18.1993 - mae: 2.7260 - val_loss: 25.8905 - val_mae: 3.8383\n",
      "Epoch 4/20\n",
      "221/221 [==============================] - 17s 76ms/step - loss: 15.3487 - mae: 2.4763 - val_loss: 23.6607 - val_mae: 3.5902\n",
      "Epoch 5/20\n",
      "221/221 [==============================] - 17s 76ms/step - loss: 15.5386 - mae: 2.4185 - val_loss: 23.7624 - val_mae: 3.6213\n",
      "Epoch 6/20\n",
      "221/221 [==============================] - 17s 75ms/step - loss: 13.8299 - mae: 2.2933 - val_loss: 22.6064 - val_mae: 3.6201\n",
      "Epoch 7/20\n",
      "221/221 [==============================] - 17s 75ms/step - loss: 12.7990 - mae: 2.2013 - val_loss: 24.4646 - val_mae: 3.6594\n",
      "Epoch 8/20\n",
      "221/221 [==============================] - 17s 76ms/step - loss: 12.8331 - mae: 2.1814 - val_loss: 24.3556 - val_mae: 3.8174\n",
      "Epoch 9/20\n",
      "221/221 [==============================] - 17s 75ms/step - loss: 11.8753 - mae: 2.0979 - val_loss: 21.7623 - val_mae: 3.5368\n",
      "Epoch 10/20\n",
      "221/221 [==============================] - 16s 74ms/step - loss: 12.6065 - mae: 2.1102 - val_loss: 22.5269 - val_mae: 3.5888\n",
      "Epoch 11/20\n",
      "221/221 [==============================] - 17s 75ms/step - loss: 11.9669 - mae: 2.0156 - val_loss: 22.5920 - val_mae: 3.6193\n",
      "Epoch 12/20\n",
      "221/221 [==============================] - 17s 76ms/step - loss: 11.1030 - mae: 2.0347 - val_loss: 23.9609 - val_mae: 3.7655\n",
      "Epoch 13/20\n",
      "221/221 [==============================] - 17s 76ms/step - loss: 10.3573 - mae: 1.9346 - val_loss: 22.9531 - val_mae: 3.6826\n",
      "Epoch 14/20\n",
      "221/221 [==============================] - 17s 75ms/step - loss: 10.5352 - mae: 1.9279 - val_loss: 23.1078 - val_mae: 3.6757\n",
      "Chunk 41/52 // 76.92% Complete // Cycle 2/3\n"
     ]
    },
    {
     "name": "stderr",
     "output_type": "stream",
     "text": [
      "y:\\ML\\Anaconda\\envs\\TF-GPU\\lib\\site-packages\\sklearn\\preprocessing\\_label.py:876: UserWarning: unknown class(es) [' Cliffhanger Productions ', ' Dead Mage ', ' Games Farm s.r.o. ', ' Infinite Interactive ', ' Kaigan Games ', ' Marvelous AQL ', ' Multiverse ', ' Terri Vellmann & Doseone ', ' Vlambeer ', ' d3t Ltd ', 'Artificer ', 'Arxel Tribe ', 'Asymmetric Publications ', 'Big Robot Ltd ', 'Black Element ', 'Black Lion Studios ', 'Bloodirony ', 'Cliffhanger Productions', 'Cracked Heads Games ', 'Crackshell ', 'Crea-ture Studios ', 'Croteam', 'DarkStar Games ', 'Dead Mage Studio', 'Den-Yu-Sha ', 'Detalion ', 'Douze Dixiemes ', 'Draw Distance ', 'Echodog Games ', 'Enigami ', 'Enlight Software', 'FASA Studio ', 'Finish Line Games ', 'FishTankStudio ', 'Free Reign Entertainment ', 'Games Farm', 'Games Farm ', 'Garage 227 ', 'Glass Bottom Games ', 'Greylock Studio ', 'Harebrained Schemes LLC ', 'IMGN.PRO ', 'Jesse Makkonen ', 'Kaigan Games OU', 'MPS Labs ', 'MadLightStudio ', 'Mandragora ', 'Mega Crit Games ', 'Meteorise ', 'Might and Delight ', 'Mimimi Games ', 'Minds-Eye Productions ', \"Mommy's Best Games \", 'Monomi Park ', 'Multiverse Games', 'Nexon ', 'Night Dive Studios ', 'Okugi Studio ', 'Redlock Studio ', 'Right Nice Games ', 'Rotobee ', 'Runecraft ', 'SEGA Racing Studio ', 'Sidhe Interactive ', 'Skyshine Games ', 'Sloclap ', 'Something Classic Games LLC ', 'SouthPAW Games ', 'Space Bullet Dynamics Corporation ', 'Spiral Circus ', 'Tamsoft', 'Tamsoft ', 'Terri Vellimann', 'Ultimation Inc. ', 'Unicube ', 'VSTEP ', 'Valkyrie Studios ', 'Vblank Entertainment Inc. ', 'Vine ', 'Wadjet Eye Games ', 'WayForward ', 'White Birds Productions ', 'Wolf Brew Games ', 'Wolfpack Studios ', 'Ysbryd Games ', 'Zojoi Studios ', 'iFun4all ', 'rose-engine '] will be ignored\n",
      "  \"unknown class(es) {0} will be ignored\".format(sorted(unknown, key=str))\n"
     ]
    },
    {
     "name": "stdout",
     "output_type": "stream",
     "text": [
      "Epoch 1/20\n",
      "232/232 [==============================] - 18s 75ms/step - loss: 23.5397 - mae: 3.3164 - val_loss: 30.6118 - val_mae: 4.5283\n",
      "Epoch 2/20\n",
      "232/232 [==============================] - 18s 75ms/step - loss: 13.3977 - mae: 2.2761 - val_loss: 29.4196 - val_mae: 4.6703\n",
      "Epoch 3/20\n",
      "232/232 [==============================] - 18s 76ms/step - loss: 11.0919 - mae: 2.0561 - val_loss: 27.5365 - val_mae: 4.4576\n",
      "Epoch 4/20\n",
      "232/232 [==============================] - 17s 74ms/step - loss: 9.9569 - mae: 1.9031 - val_loss: 26.7323 - val_mae: 4.4520\n",
      "Epoch 5/20\n",
      "232/232 [==============================] - 18s 76ms/step - loss: 8.7117 - mae: 1.7638 - val_loss: 25.5028 - val_mae: 4.2829\n",
      "Epoch 6/20\n",
      "232/232 [==============================] - 17s 75ms/step - loss: 8.8310 - mae: 1.7248 - val_loss: 26.3053 - val_mae: 4.4294\n",
      "Epoch 7/20\n",
      "232/232 [==============================] - 17s 75ms/step - loss: 8.4935 - mae: 1.6673 - val_loss: 26.3097 - val_mae: 4.4129\n",
      "Epoch 8/20\n",
      "232/232 [==============================] - 18s 76ms/step - loss: 7.5117 - mae: 1.5693 - val_loss: 26.1699 - val_mae: 4.4109\n",
      "Epoch 9/20\n",
      "232/232 [==============================] - 17s 75ms/step - loss: 7.7166 - mae: 1.5801 - val_loss: 25.7701 - val_mae: 4.3540\n",
      "Epoch 10/20\n",
      "232/232 [==============================] - 17s 75ms/step - loss: 8.1011 - mae: 1.5630 - val_loss: 26.6681 - val_mae: 4.4766\n",
      "Chunk 42/52 // 78.85% Complete // Cycle 2/3\n"
     ]
    },
    {
     "name": "stderr",
     "output_type": "stream",
     "text": [
      "y:\\ML\\Anaconda\\envs\\TF-GPU\\lib\\site-packages\\sklearn\\preprocessing\\_label.py:876: UserWarning: unknown class(es) [' Atlus ', ' Bitworks ', ' Black Wing Foundation ', ' Cauldron Ltd. ', ' Coatsink Software ', ' EA Redwood Shores ', ' Elemental Games', ' Factor 5 ', ' Fire Face ', ' Just Add Water', ' Krome Studios ', ' Mossmouth ', ' Project Soul ', ' Red Storm Entertainment ', ' Shaba Games ', ' Terri Vellmann & Doseone ', '17-Bit ', '5000ft Inc. ', 'Activision', 'Alan Hazelden & Harry Lee ', 'Artdink', 'Bandai Namco Games', 'Black Lab Games ', 'Black Rock Studio ', 'CBE software ', 'Cadenza ', 'Cat Daddy Games ', 'Deep Red ', 'Derek Yu', 'DoubleDutch Games ', 'Dramatic Labs ', 'Escape ', 'Extend Interactive ', 'Fizz Factor ', 'Grimlore Games ', 'Infogrames ', 'Ironward ', 'Jumpship ', 'Malfador Machinations ', 'Massive Damage', 'Maxis', 'Meridian4 ', 'Metropolis Software ', 'MinMax Games Ltd. ', 'Mind over Matter ', 'Mossmouth', 'Murudai ', 'N-Game Studios', 'Naked Sky Entertainment ', 'Oovee Game Studios ', 'Owen Deery', 'Owned by Gravity ', 'Panic Barn Ltd ', 'Passtech Games ', 'Protocol Games ', 'Provox Games ', 'Pulsetense Games ', 'Rebellion', 'Rebelmind ', 'Reflexive Entertainment ', 'Reply Game Studios ', 'Retro Affect ', 'Retro Forge ', 'Runner Duck ', 'Seamless Entertainment', 'Silver Style ', 'Slitherine ', 'Sneaky Yak Studio ', 'Splashteam ', 'Star Gem Inc. ', 'State of Play Games ', 'Survios ', 'Tactical Adventures ', 'Taldren ', 'Terri Vellimann', 'Totally Games ', 'Treyarch', 'Vivid Games ', 'Wales Interactive ', 'Wings Simulations ', 'Zachtronics Industries ', 'inkle ', 'stillalive studios '] will be ignored\n",
      "  \"unknown class(es) {0} will be ignored\".format(sorted(unknown, key=str))\n"
     ]
    },
    {
     "name": "stdout",
     "output_type": "stream",
     "text": [
      "Epoch 1/20\n",
      "224/224 [==============================] - 17s 75ms/step - loss: 31.4882 - mae: 3.8207 - val_loss: 22.9471 - val_mae: 3.3996\n",
      "Epoch 2/20\n",
      "224/224 [==============================] - 17s 75ms/step - loss: 18.3808 - mae: 2.7139 - val_loss: 22.0785 - val_mae: 3.5022\n",
      "Epoch 3/20\n",
      "224/224 [==============================] - 17s 74ms/step - loss: 15.3226 - mae: 2.4734 - val_loss: 19.5444 - val_mae: 3.3943\n",
      "Epoch 4/20\n",
      "224/224 [==============================] - 17s 76ms/step - loss: 13.2242 - mae: 2.2371 - val_loss: 17.4891 - val_mae: 3.2606\n",
      "Epoch 5/20\n",
      "224/224 [==============================] - 17s 74ms/step - loss: 12.0639 - mae: 2.0839 - val_loss: 18.5907 - val_mae: 3.3951\n",
      "Epoch 6/20\n",
      "224/224 [==============================] - 17s 76ms/step - loss: 11.2402 - mae: 1.9345 - val_loss: 18.2164 - val_mae: 3.3726\n",
      "Epoch 7/20\n",
      "224/224 [==============================] - 17s 75ms/step - loss: 10.2910 - mae: 1.8359 - val_loss: 17.8575 - val_mae: 3.3252\n",
      "Epoch 8/20\n",
      "224/224 [==============================] - 17s 74ms/step - loss: 9.7619 - mae: 1.8096 - val_loss: 17.2476 - val_mae: 3.2773\n",
      "Epoch 9/20\n",
      "224/224 [==============================] - 17s 75ms/step - loss: 9.2395 - mae: 1.7710 - val_loss: 17.6442 - val_mae: 3.3338\n",
      "Epoch 10/20\n",
      "224/224 [==============================] - 17s 74ms/step - loss: 9.0387 - mae: 1.6968 - val_loss: 17.2226 - val_mae: 3.2942\n",
      "Epoch 11/20\n",
      "224/224 [==============================] - 17s 76ms/step - loss: 9.1789 - mae: 1.6843 - val_loss: 17.6987 - val_mae: 3.3158\n",
      "Epoch 12/20\n",
      "224/224 [==============================] - 17s 75ms/step - loss: 8.4143 - mae: 1.6313 - val_loss: 17.7986 - val_mae: 3.3612\n",
      "Epoch 13/20\n",
      "224/224 [==============================] - 17s 75ms/step - loss: 7.9645 - mae: 1.6015 - val_loss: 16.8656 - val_mae: 3.2127\n",
      "Epoch 14/20\n",
      "224/224 [==============================] - 17s 75ms/step - loss: 8.2951 - mae: 1.5847 - val_loss: 16.9878 - val_mae: 3.2697\n",
      "Epoch 15/20\n",
      "224/224 [==============================] - 17s 75ms/step - loss: 7.1079 - mae: 1.4744 - val_loss: 17.3027 - val_mae: 3.3234\n",
      "Epoch 16/20\n",
      "224/224 [==============================] - 17s 74ms/step - loss: 7.5863 - mae: 1.5054 - val_loss: 17.3412 - val_mae: 3.3389\n",
      "Epoch 17/20\n",
      "224/224 [==============================] - 17s 74ms/step - loss: 7.1511 - mae: 1.4650 - val_loss: 16.9543 - val_mae: 3.3080\n",
      "Epoch 18/20\n",
      "224/224 [==============================] - 17s 76ms/step - loss: 6.9791 - mae: 1.4169 - val_loss: 17.8158 - val_mae: 3.3874\n",
      "Chunk 43/52 // 80.77% Complete // Cycle 2/3\n"
     ]
    },
    {
     "name": "stderr",
     "output_type": "stream",
     "text": [
      "y:\\ML\\Anaconda\\envs\\TF-GPU\\lib\\site-packages\\sklearn\\preprocessing\\_label.py:876: UserWarning: unknown class(es) ['Text'] will be ignored\n",
      "  \"unknown class(es) {0} will be ignored\".format(sorted(unknown, key=str))\n",
      "y:\\ML\\Anaconda\\envs\\TF-GPU\\lib\\site-packages\\sklearn\\preprocessing\\_label.py:876: UserWarning: unknown class(es) [' Awaken Realms ', ' B.B.Studio ', ' Co. LTD ', ' Fullbright ', ' Koalabs ', ' Point Blank ', ' Quasar ', ' Ragequit Corporation ', ' Uppercut Games Pty Ltd ', 'Akabaka ', 'Akella', 'Ashdar Games ', 'Attention To Detail ', 'Awaceb ', 'Awaken Realms Digital', 'Bad Viking ', 'Banpresto', 'BattleGoat Studios ', 'Bkom ', 'Blackmill Games ', 'Blue 52 ', 'Blue Tongue Entertainment ', 'Bossa Studios ', 'Camel 101 ', 'Capy Games ', 'Chasing Rats Games ', 'Chibig ', 'Chucklefish ', 'Cosmo D Studios ', 'Cultic Games ', 'Curve Digital ', 'Curve Studios ', 'Dancing Dragon games ', 'Daniel Benmergui ', 'Destroyer Studios ', 'Dialogue Design ', 'Dimps Corporation ', 'Droqen ', 'Echo Chamber Games ', 'Ellipse Studios ', 'Embers ', 'Empty Clip Studios ', 'Exakt ', 'FIX Korea', 'Failbetter Games ', 'Fireglow ', 'Fury Software ', 'GameCo ', 'GolemLabs ', 'IMC Games ', 'Image & Form ', 'Kamehan Studios ', 'Kite Games ', 'Little Green Men ', 'M2 ', 'Magic Lantern ', 'Marvelous Inc. ', 'Microids', 'Midway ', 'Minds-Eye Productions ', 'Monochrome Paris ', 'Mucky Foot Productions ', 'Night Dive Studios ', 'No Bull Intentions ', 'No Code ', 'Odd Bug Studio ', 'Paul Cuisset ', 'Pillow Castle Games ', 'Pixel Titans ', 'Point Blank Games', 'Psyche Studios ', 'RLR Training Inc ', 'Serellan LLC ', 'Sierra Entertainment ', 'Sigtrap Games ', 'SkyBox Labs ', 'Sleepless Clinic ', 'Sleepy Sentry ', 'Spearhead Games ', 'Strangelite ', 'Strike Vector Team', 'Summerfall Studios ', 'THE BROTHERHOOD ', 'Taldren ', 'Tale of Tales ', 'Tate Multimedia ', 'The Artistocrats ', 'The Bitmap Brothers ', 'The Fullbright Company', 'Third Wire ', 'Torpor Games ', 'Uber Entertainment ', 'Ubisoft Annecy ', 'Uppercut Games', 'Uppercut Games Pty Ltd ', 'Vertex4 ', 'Wideload Games Inc. ', 'Wormwood Studios ', 'Xilam ', 'Zenovia ', 'Zero Sum Games ', 'Zoink! ', 'eSim Games ', 'increpare '] will be ignored\n",
      "  \"unknown class(es) {0} will be ignored\".format(sorted(unknown, key=str))\n"
     ]
    },
    {
     "name": "stdout",
     "output_type": "stream",
     "text": [
      "Epoch 1/20\n",
      "231/231 [==============================] - 18s 75ms/step - loss: 32.3466 - mae: 3.7202 - val_loss: 31.5919 - val_mae: 4.4437\n",
      "Epoch 2/20\n",
      "231/231 [==============================] - 17s 75ms/step - loss: 19.3598 - mae: 2.7337 - val_loss: 27.2632 - val_mae: 4.2280\n",
      "Epoch 3/20\n",
      "231/231 [==============================] - 17s 75ms/step - loss: 16.5351 - mae: 2.4520 - val_loss: 28.0237 - val_mae: 4.3038\n",
      "Epoch 4/20\n",
      "231/231 [==============================] - 17s 75ms/step - loss: 14.3609 - mae: 2.2488 - val_loss: 26.2160 - val_mae: 4.1183\n",
      "Epoch 5/20\n",
      "231/231 [==============================] - 17s 74ms/step - loss: 13.7423 - mae: 2.1727 - val_loss: 25.8182 - val_mae: 4.1807\n",
      "Epoch 6/20\n",
      "231/231 [==============================] - 17s 75ms/step - loss: 12.3131 - mae: 2.0630 - val_loss: 25.5955 - val_mae: 4.0698\n",
      "Epoch 7/20\n",
      "231/231 [==============================] - 17s 74ms/step - loss: 11.7874 - mae: 1.9887 - val_loss: 25.2769 - val_mae: 4.0614\n",
      "Epoch 8/20\n",
      "231/231 [==============================] - 17s 75ms/step - loss: 11.5727 - mae: 1.9179 - val_loss: 25.1867 - val_mae: 4.1081\n",
      "Epoch 9/20\n",
      "231/231 [==============================] - 17s 75ms/step - loss: 11.7131 - mae: 1.9358 - val_loss: 25.8164 - val_mae: 4.1315\n",
      "Epoch 10/20\n",
      "231/231 [==============================] - 17s 75ms/step - loss: 10.1561 - mae: 1.8275 - val_loss: 24.1407 - val_mae: 3.9947\n",
      "Epoch 11/20\n",
      "231/231 [==============================] - 17s 75ms/step - loss: 11.0911 - mae: 1.8282 - val_loss: 23.4598 - val_mae: 3.9411\n",
      "Epoch 12/20\n",
      "231/231 [==============================] - 17s 75ms/step - loss: 10.0969 - mae: 1.7631 - val_loss: 24.4134 - val_mae: 4.0390\n",
      "Epoch 13/20\n",
      "231/231 [==============================] - 18s 76ms/step - loss: 9.9737 - mae: 1.7569 - val_loss: 23.4737 - val_mae: 3.9322\n",
      "Epoch 14/20\n",
      "231/231 [==============================] - 17s 75ms/step - loss: 9.6175 - mae: 1.7289 - val_loss: 22.1588 - val_mae: 3.7858\n",
      "Epoch 15/20\n",
      "231/231 [==============================] - 17s 75ms/step - loss: 10.0892 - mae: 1.7568 - val_loss: 24.2280 - val_mae: 4.0326\n",
      "Epoch 16/20\n",
      "231/231 [==============================] - 17s 75ms/step - loss: 9.7573 - mae: 1.7105 - val_loss: 23.9071 - val_mae: 3.9632\n",
      "Epoch 17/20\n",
      "231/231 [==============================] - 18s 76ms/step - loss: 9.2497 - mae: 1.6639 - val_loss: 24.0493 - val_mae: 4.0123\n",
      "Epoch 18/20\n",
      "231/231 [==============================] - 17s 75ms/step - loss: 9.1532 - mae: 1.6554 - val_loss: 24.5699 - val_mae: 4.0279\n",
      "Epoch 19/20\n",
      "231/231 [==============================] - 17s 75ms/step - loss: 9.1545 - mae: 1.6462 - val_loss: 23.5493 - val_mae: 4.0021\n",
      "Chunk 44/52 // 82.69% Complete // Cycle 2/3\n"
     ]
    },
    {
     "name": "stderr",
     "output_type": "stream",
     "text": [
      "y:\\ML\\Anaconda\\envs\\TF-GPU\\lib\\site-packages\\sklearn\\preprocessing\\_label.py:876: UserWarning: unknown class(es) ['Text', 'Trainer'] will be ignored\n",
      "  \"unknown class(es) {0} will be ignored\".format(sorted(unknown, key=str))\n",
      "y:\\ML\\Anaconda\\envs\\TF-GPU\\lib\\site-packages\\sklearn\\preprocessing\\_label.py:876: UserWarning: unknown class(es) [' Digital Eclipse ', ' Florian Himsl ', ' Furious Bee ', ' King Art Games ', ' Lancarse ', ' Splendy Games ', ' YCJY Games ', '3D2 Entertainment ', 'AGO Games ', 'ARS GOETIA ', 'Abstraction Games ', 'Artefacts Studio ', 'Awfully Nice Studios ', 'Baroque Decay ', 'Beethoven & Dinosaur ', 'Big Ant Studios ', 'Big Finish Games ', 'BonusXP ', 'Bossa Studios ', 'Choice Provisions ', 'Cockroach Inc. ', 'Color Gray Games ', 'Crema Games ', 'Cryo Interactive ', 'Davey Wreden ', 'Deconstructeam ', 'Dragon Slumber ', 'DreamCatcher Interactive ', 'Eden Studios ', 'Edmund McMillen', 'Enhance Games ', 'Fairyship Games ', 'Free Lives ', 'Future Games ', 'Galilea Multimedia ', 'Game Freak ', 'Gaming Corps AB ', 'Harvester Games ', 'Illusion Ray Studio ', 'Iron Tower Studio ', 'Jason Rohrer ', 'Johamm Tael & Mihkel Tael ', 'KING Art', 'Konami', 'Ladyluck Digital Media ', \"Lion's Shade \", 'Mighty Yell ', 'Neon Giant ', 'Nicalis ', 'Noumena Productions ', 'Numinous Games ', 'Owl Cave ', 'Question ', 'Rain Games ', 'Random Potion Oy ', 'Rebelmind ', 'Rival Games Ltd ', 'Sam Barlow', 'Slendy Interactive', 'Spooky Doorway ', 'Swing Swing Submarine ', 'Technocrat ', 'Teotl Studios ', 'The Collective ', 'Tribute Games ', 'Tuxedo Labs ', 'Ty Taylor and Mario Castaneda ', 'Wadjet Eye Games ', 'Wales Interactive ', 'YCJY', 'Zenimax Online Studios ', 'h.a.n.d. Inc. ', 'nDreams '] will be ignored\n",
      "  \"unknown class(es) {0} will be ignored\".format(sorted(unknown, key=str))\n"
     ]
    },
    {
     "name": "stdout",
     "output_type": "stream",
     "text": [
      "Epoch 1/20\n",
      "232/232 [==============================] - 18s 75ms/step - loss: 17.8585 - mae: 2.4875 - val_loss: 19.3693 - val_mae: 3.6282\n",
      "Epoch 2/20\n",
      "232/232 [==============================] - 17s 75ms/step - loss: 12.2991 - mae: 1.9744 - val_loss: 19.9093 - val_mae: 3.8082\n",
      "Epoch 3/20\n",
      "232/232 [==============================] - 17s 75ms/step - loss: 10.7285 - mae: 1.7447 - val_loss: 20.3740 - val_mae: 3.8995\n",
      "Epoch 4/20\n",
      "232/232 [==============================] - 17s 75ms/step - loss: 8.6071 - mae: 1.6151 - val_loss: 17.3265 - val_mae: 3.5822\n",
      "Epoch 5/20\n",
      "232/232 [==============================] - 17s 75ms/step - loss: 7.9375 - mae: 1.5266 - val_loss: 18.3247 - val_mae: 3.6777\n",
      "Epoch 6/20\n",
      "232/232 [==============================] - 18s 76ms/step - loss: 7.5753 - mae: 1.4657 - val_loss: 18.3582 - val_mae: 3.6921\n",
      "Epoch 7/20\n",
      "232/232 [==============================] - 17s 75ms/step - loss: 7.4713 - mae: 1.4046 - val_loss: 17.7223 - val_mae: 3.6516\n",
      "Epoch 8/20\n",
      "232/232 [==============================] - 18s 76ms/step - loss: 7.2609 - mae: 1.3777 - val_loss: 19.7765 - val_mae: 3.8905\n",
      "Epoch 9/20\n",
      "232/232 [==============================] - 17s 75ms/step - loss: 6.6916 - mae: 1.2930 - val_loss: 17.9226 - val_mae: 3.6686\n",
      "Chunk 45/52 // 84.62% Complete // Cycle 2/3\n"
     ]
    },
    {
     "name": "stderr",
     "output_type": "stream",
     "text": [
      "y:\\ML\\Anaconda\\envs\\TF-GPU\\lib\\site-packages\\sklearn\\preprocessing\\_label.py:876: UserWarning: unknown class(es) ['Text'] will be ignored\n",
      "  \"unknown class(es) {0} will be ignored\".format(sorted(unknown, key=str))\n",
      "y:\\ML\\Anaconda\\envs\\TF-GPU\\lib\\site-packages\\sklearn\\preprocessing\\_label.py:876: UserWarning: unknown class(es) [' Cavalier Game Studios ', ' Crows Crows Crows ', ' Deck Nine Games ', ' Dire Wolf Digital ', ' Do My Best Games ', ' Endnight Studios ', ' Ishtar Games Inc. ', ' ONEOONE GAMES ', ' Question ', ' Skookum Arts ', ' Slitherine ', ' Studio Fizbin ', ' Sumo Nottingham ', ' Super Awesome Hyper Dimensional Mega Team ', ' Tyler Glaiel  ', '101%', '4Head Studios ', 'Act 3 Games', 'Arcen Games', 'Ares Dragonis ', 'Arxel Tribe ', 'Bellular Studios ', 'Big Robot Ltd ', 'Braingame ', 'Brainwash Gang ', 'Bulkhead Interactive ', 'CCCP', 'Caligari Games ', 'Cloak and Dagger Games ', 'Colibri Games ', 'Computer Artworks ', 'Daedalic Studio West ', 'Dan Smith Studios ', 'Darkling Room ', 'Davey Wreden ', 'Deconstructeam ', 'Digital Sun ', 'EXOR Studios ', 'Edmund McMillen', 'Facepalm Games ', 'Fireproof Games ', 'Fizbin', 'Frogwares', 'Galactic Cafe', 'GoldKnights Studio ', 'Grasshopper Manufacture ', 'Grip Games ', 'Gun Interactive', 'Headup Games ', 'House of Tales ', 'IF Games ', 'Image & Form ', 'Inevitable Entertainment ', 'Ironward ', 'James Interactive ', 'Joe Richardson ', 'LKA ', 'Leonard Menchiari ', 'Lexis Numerique ', 'Mana Games ', \"Mi'pu'mi Games \", 'Modern Storyteller ', 'Morbidware ', 'Mouldy Toof Studios ', 'Neon Doctrine ', 'Nevrax ', 'Omni Creative Group ', 'One Bit Beyond ', 'Orthogonal Games ', 'Over The Moon ', 'Pewter Games Studios ', 'Pixelogic ', 'Playmestudio ', 'Plot Twist ', 'Point of View ', 'PostMod Softworks ', 'Power Struggle Games ', 'Puuba ', 'Questionary', 'Rusty Lake ', 'SKS Games', 'Sabotage Studio ', 'Serenity Forge ', 'Sever ', 'Shark Punch ', 'Shifting Tides ', 'Size Five Games ', 'Skookum Arts LLC', 'SkyGoblin ', 'Slitherine Software', 'Smoking Car Productions ', 'Spidersoft', 'Streko-Graphics Inc. ', 'Stubby Games ', 'Studio Seufz ', 'Super Mega Team', 'SuperSexySoftware ', 'Surreal Software ', 'Tale of Tales ', 'Team Gotham ', 'The Molasses Flood ', 'The Odd Gentlemen ', 'The Station ', 'The Voxel Agents ', 'Thunkd ', 'Tomas Sala ', 'Tragnarion Studios ', 'TwoPM Studios ', 'Ubisoft Blue Byte ', 'VRESKI ', 'ValuSoft ', 'White Owls ', 'White Paper Games ', 'Wonderstruck Games ', 'mif2000 ', 'neo Software ', 'tinyBuild'] will be ignored\n",
      "  \"unknown class(es) {0} will be ignored\".format(sorted(unknown, key=str))\n"
     ]
    },
    {
     "name": "stdout",
     "output_type": "stream",
     "text": [
      "Epoch 1/20\n",
      "224/224 [==============================] - 17s 75ms/step - loss: 32.3915 - mae: 3.9577 - val_loss: 23.6790 - val_mae: 3.8189\n",
      "Epoch 2/20\n",
      "224/224 [==============================] - 17s 75ms/step - loss: 18.6566 - mae: 2.8235 - val_loss: 20.8350 - val_mae: 3.5341\n",
      "Epoch 3/20\n",
      "224/224 [==============================] - 17s 74ms/step - loss: 15.9975 - mae: 2.5005 - val_loss: 21.1714 - val_mae: 3.6448\n",
      "Epoch 4/20\n",
      "224/224 [==============================] - 17s 74ms/step - loss: 14.0689 - mae: 2.2948 - val_loss: 20.3638 - val_mae: 3.5711\n",
      "Epoch 5/20\n",
      "224/224 [==============================] - 17s 76ms/step - loss: 12.6694 - mae: 2.1533 - val_loss: 19.7391 - val_mae: 3.5134\n",
      "Epoch 6/20\n",
      "224/224 [==============================] - 17s 76ms/step - loss: 12.6426 - mae: 2.0990 - val_loss: 20.8809 - val_mae: 3.6774\n",
      "Epoch 7/20\n",
      "224/224 [==============================] - 17s 74ms/step - loss: 11.7790 - mae: 1.9897 - val_loss: 19.9919 - val_mae: 3.6642\n",
      "Epoch 8/20\n",
      "224/224 [==============================] - 17s 74ms/step - loss: 10.4778 - mae: 1.9010 - val_loss: 20.4296 - val_mae: 3.6594\n",
      "Epoch 9/20\n",
      "224/224 [==============================] - 17s 75ms/step - loss: 10.6578 - mae: 1.8792 - val_loss: 20.8923 - val_mae: 3.7067\n",
      "Epoch 10/20\n",
      "224/224 [==============================] - 17s 75ms/step - loss: 10.0411 - mae: 1.8285 - val_loss: 18.9912 - val_mae: 3.4529\n",
      "Epoch 11/20\n",
      "224/224 [==============================] - 17s 75ms/step - loss: 10.4592 - mae: 1.8344 - val_loss: 20.0089 - val_mae: 3.5833\n",
      "Epoch 12/20\n",
      "224/224 [==============================] - 17s 75ms/step - loss: 9.7623 - mae: 1.7718 - val_loss: 20.3679 - val_mae: 3.6255\n",
      "Epoch 13/20\n",
      "224/224 [==============================] - 17s 75ms/step - loss: 9.1911 - mae: 1.7132 - val_loss: 19.5629 - val_mae: 3.5778\n",
      "Epoch 14/20\n",
      "224/224 [==============================] - 17s 75ms/step - loss: 9.3404 - mae: 1.7242 - val_loss: 18.5163 - val_mae: 3.4743\n",
      "Epoch 15/20\n",
      "224/224 [==============================] - 17s 75ms/step - loss: 9.1841 - mae: 1.7104 - val_loss: 21.1001 - val_mae: 3.8296\n",
      "Epoch 16/20\n",
      "224/224 [==============================] - 17s 74ms/step - loss: 9.0767 - mae: 1.6862 - val_loss: 21.2552 - val_mae: 3.7770\n",
      "Epoch 17/20\n",
      "224/224 [==============================] - 17s 75ms/step - loss: 9.3585 - mae: 1.6847 - val_loss: 20.0685 - val_mae: 3.5845\n",
      "Epoch 18/20\n",
      "224/224 [==============================] - 17s 76ms/step - loss: 9.3423 - mae: 1.7177 - val_loss: 20.1334 - val_mae: 3.6179\n",
      "Epoch 19/20\n",
      "224/224 [==============================] - 17s 75ms/step - loss: 8.3282 - mae: 1.6246 - val_loss: 19.1012 - val_mae: 3.5270\n",
      "Chunk 46/52 // 86.54% Complete // Cycle 2/3\n"
     ]
    },
    {
     "name": "stderr",
     "output_type": "stream",
     "text": [
      "y:\\ML\\Anaconda\\envs\\TF-GPU\\lib\\site-packages\\sklearn\\preprocessing\\_label.py:876: UserWarning: unknown class(es) ['Text'] will be ignored\n",
      "  \"unknown class(es) {0} will be ignored\".format(sorted(unknown, key=str))\n",
      "y:\\ML\\Anaconda\\envs\\TF-GPU\\lib\\site-packages\\sklearn\\preprocessing\\_label.py:876: UserWarning: unknown class(es) [' 1C', ' CINIC Games ', ' Drool ', ' KRAFTON Inc. ', ' Kukouri Mobile Entertainment ', 'AREA35 ', 'Adeline Software ', 'Alawar Premium ', 'Antagonist ', 'Battlefront.com', 'Black Pants ', 'Blendo Games ', 'Bulkhead Interactive ', 'C.I.N.I.C. Games', 'Camel 101 ', 'Can Explode ', 'Carbon Studio ', 'Click Entertainment ', 'ComonGames ', 'Double Zero One Zero ', 'Draw Me A Pixel ', 'Expansive Worlds ', 'Falling Squirrel ', 'Flazm ', 'Gato Salvaje Studio ', 'HyperBole Studios ', 'Ice-Pick Lodge ', 'Iceberg Interactive', 'Iridium Studios ', 'Kite Games ', 'Minority Media Inc. ', 'Modern Dream ', 'Moonlight Kids ', 'Most Wanted Entertainment ', 'MuHa Games ', 'Numantian Games ', 'OverBorder Studio ', 'Paintbucket Games ', 'Puuba ', 'Puzzling Dream ', 'Rogue Sun ', 'Ron Gilbert and Gary Winnick ', 'Skybound LLC', 'Skydance Interactive ', 'Splashteam ', 'Spooky Squid Games ', 'SuperPAC ', 'Tin Man Games ', 'Trecision ', 'Urnique Studio ', 'Zombie Cow Studios ', '[bracket]games ', 'damiansommer ', 'drool Games', 'fragOut Studio'] will be ignored\n",
      "  \"unknown class(es) {0} will be ignored\".format(sorted(unknown, key=str))\n"
     ]
    },
    {
     "name": "stdout",
     "output_type": "stream",
     "text": [
      "Epoch 1/20\n",
      "222/222 [==============================] - 17s 76ms/step - loss: 16.7608 - mae: 2.6173 - val_loss: 26.2241 - val_mae: 4.6096\n",
      "Epoch 2/20\n",
      "222/222 [==============================] - 17s 75ms/step - loss: 10.7697 - mae: 1.9550 - val_loss: 22.9717 - val_mae: 4.2971\n",
      "Epoch 3/20\n",
      "222/222 [==============================] - 17s 75ms/step - loss: 8.8551 - mae: 1.7055 - val_loss: 24.0800 - val_mae: 4.4331\n",
      "Epoch 4/20\n",
      "222/222 [==============================] - 17s 76ms/step - loss: 8.2403 - mae: 1.5819 - val_loss: 23.5288 - val_mae: 4.4179\n",
      "Epoch 5/20\n",
      "222/222 [==============================] - 17s 76ms/step - loss: 7.9548 - mae: 1.5009 - val_loss: 23.0307 - val_mae: 4.3686\n",
      "Epoch 6/20\n",
      "222/222 [==============================] - 17s 75ms/step - loss: 6.8918 - mae: 1.4047 - val_loss: 22.0711 - val_mae: 4.2783\n",
      "Epoch 7/20\n",
      "222/222 [==============================] - 17s 75ms/step - loss: 6.6390 - mae: 1.3703 - val_loss: 20.9503 - val_mae: 4.1670\n",
      "Epoch 8/20\n",
      "222/222 [==============================] - 17s 75ms/step - loss: 6.1513 - mae: 1.3355 - val_loss: 21.8607 - val_mae: 4.3189\n",
      "Epoch 9/20\n",
      "222/222 [==============================] - 17s 75ms/step - loss: 5.6563 - mae: 1.3129 - val_loss: 23.0808 - val_mae: 4.4709\n",
      "Epoch 10/20\n",
      "222/222 [==============================] - 17s 75ms/step - loss: 6.0764 - mae: 1.3215 - val_loss: 21.4944 - val_mae: 4.2800\n",
      "Epoch 11/20\n",
      "222/222 [==============================] - 17s 76ms/step - loss: 6.0286 - mae: 1.3191 - val_loss: 23.7273 - val_mae: 4.5358\n",
      "Epoch 12/20\n",
      "222/222 [==============================] - 17s 75ms/step - loss: 5.6729 - mae: 1.2737 - val_loss: 21.9279 - val_mae: 4.3412\n",
      "Chunk 47/52 // 88.46% Complete // Cycle 2/3\n"
     ]
    },
    {
     "name": "stderr",
     "output_type": "stream",
     "text": [
      "y:\\ML\\Anaconda\\envs\\TF-GPU\\lib\\site-packages\\sklearn\\preprocessing\\_label.py:876: UserWarning: unknown class(es) [' 2K Sports ', ' Cherrymochi ', ' Pieces Interactive ', ' Ubisoft Paris ', '49Games ', 'AGEOD ', 'Acid Nerve ', 'Aspyr', 'Cavedog Entertainment ', 'Cinemaware ', 'Core Design Ltd. ', 'Deadline Games ', 'Dual Effect ', 'Echtra Games', 'Fireart Games ', 'Freebird Games ', 'GRIN', 'Humanature Studios ', 'Iron Lore Entertainment', 'Neversoft Entertainment ', 'OhNoo ', 'Pocketwatch Games ', 'Red Storm Entertainment', 'SMAC Games ', 'Something We Made ', 'Swordtales ', 'Two Tribes ', 'Ubisoft Milan ', 'Ubisoft Singapore ', 'Vicarious Visions ', 'dietzribi '] will be ignored\n",
      "  \"unknown class(es) {0} will be ignored\".format(sorted(unknown, key=str))\n"
     ]
    },
    {
     "name": "stdout",
     "output_type": "stream",
     "text": [
      "Epoch 1/20\n",
      "228/228 [==============================] - 17s 75ms/step - loss: 19.4308 - mae: 2.8193 - val_loss: 20.1126 - val_mae: 3.8444\n",
      "Epoch 2/20\n",
      "228/228 [==============================] - 17s 75ms/step - loss: 8.7486 - mae: 1.7931 - val_loss: 17.2954 - val_mae: 3.5777\n",
      "Epoch 3/20\n",
      "228/228 [==============================] - 17s 75ms/step - loss: 7.2203 - mae: 1.5659 - val_loss: 17.2968 - val_mae: 3.5843\n",
      "Epoch 4/20\n",
      "228/228 [==============================] - 17s 75ms/step - loss: 6.6484 - mae: 1.4523 - val_loss: 15.7815 - val_mae: 3.4350\n",
      "Epoch 5/20\n",
      "228/228 [==============================] - 17s 75ms/step - loss: 6.2539 - mae: 1.3610 - val_loss: 16.0121 - val_mae: 3.4613\n",
      "Epoch 6/20\n",
      "228/228 [==============================] - 17s 75ms/step - loss: 5.6504 - mae: 1.2712 - val_loss: 16.3485 - val_mae: 3.5256\n",
      "Epoch 7/20\n",
      "228/228 [==============================] - 17s 75ms/step - loss: 5.3452 - mae: 1.1928 - val_loss: 16.3179 - val_mae: 3.5303\n",
      "Epoch 8/20\n",
      "228/228 [==============================] - 17s 74ms/step - loss: 5.4566 - mae: 1.1734 - val_loss: 16.5408 - val_mae: 3.5773\n",
      "Epoch 9/20\n",
      "228/228 [==============================] - 17s 75ms/step - loss: 5.1995 - mae: 1.1203 - val_loss: 16.9504 - val_mae: 3.6262\n",
      "Chunk 48/52 // 90.38% Complete // Cycle 2/3\n"
     ]
    },
    {
     "name": "stderr",
     "output_type": "stream",
     "text": [
      "y:\\ML\\Anaconda\\envs\\TF-GPU\\lib\\site-packages\\sklearn\\preprocessing\\_label.py:876: UserWarning: unknown class(es) [' Blackmill Games ', ' Crenetic Studios ', ' Duality Games ', ' Eurocom ', ' Forever Entertainment ', ' Hotta Studio ', ' ML Enterprises ', ' Mercenary Technologies ', ' Reborn Games Inc. ', ' Revistronic ', ' Soleil Ltd. ', ' Supergonk ', ' Talawa Games ', ' Team Toro ', ' Xeen ', ' btf ', '110 Industries', '258 Productions AB ', '2By3 Games ', '2x2 Games ', '3000AD', 'Action Button Entertainment ', 'Alien Pixel Studios ', 'Artdink ', 'Auran ', 'Backwoods Entertainment ', 'Blue Manchu ', 'BlueGiant Interactive ', 'Brainy Studio LLC ', 'BreakAway Games ', 'Burut Software ', 'Celeris ', 'Chaos Concept ', 'Coldwood Interactive ', 'Cordens Interactive ', 'Cowardly Creations ', 'Crazy Viking Studios ', 'DNS Development ', 'Daydream Software ', 'Deep Red ', 'Devespresso Games ', 'Draw Distance ', 'Duality Studio', 'Dumb and Fat Games ', 'Dynamix ', 'Endless Fluff ', 'Eurocom Entertainment Software', 'Event Horizon Software ', 'Fatbot Games ', 'Feral Interactive ', 'Forever Entertainment S.A.', 'Fragment Production Ltd', 'Frog City Software ', 'Game-Labs ', 'Games Farm ', 'Gatling Goat Studios ', 'Gigawatt Studios ', 'Glass Heart Games ', 'Guild Software ', 'Headup Games', 'High Moon Studios', 'House House ', 'ISOMETRICORP Games ', 'JoyMasher ', 'KT Racing ', 'LEAP Game Studios ', 'Legend Entertainment ', 'Luis Antonio ', 'Luxoflux', 'M2H', 'Maddy Thorson ', 'Magic Design Studios ', 'Naughty Dog', 'Night Dive Studios ', 'Nihilistic ', 'Norsfell ', 'OhNoo ', 'OtherSide Entertainment ', 'Outsider Games ', 'Owlchemy Labs ', 'Pixwerk ', 'Propaganda Games ', 'Proxima Beta Europe B.V.', 'Pterodon ', 'Pyrodactyl Games ', 'Rat King Entertainment ', 'Replay Studios', 'Revistonic', 'Rooster Teeth Games ', 'Sad Owl Studios ', 'SadSquare Studio ', 'SpectreVision ', 'Steel Mantis ', 'Stormling Studios ', 'Strange Loop Games ', 'Studio Pixel Punk ', 'Stygian Software ', 'Subterranean Games ', 'Sukeban Games ', 'Supergonk Ltd.', 'Tate Multimedia ', 'Teotl Studios', 'Terrible Posture Games ', 'Terry Cavanagh ', 'Theta Division ', 'Trepang Studios ', 'Urban Games ', 'Variable State ', 'Visai Games ', 'Wadjet Eye Games ', 'Whatboy Games ', 'Witch Beam ', 'Yukon Wainczak ', 'btf GmbH', 'poncle ', 'timesymmetry ', 'tobyfox '] will be ignored\n",
      "  \"unknown class(es) {0} will be ignored\".format(sorted(unknown, key=str))\n"
     ]
    },
    {
     "name": "stdout",
     "output_type": "stream",
     "text": [
      "Epoch 1/20\n",
      "224/224 [==============================] - 17s 75ms/step - loss: 23.7510 - mae: 3.2908 - val_loss: 24.7118 - val_mae: 4.2873\n",
      "Epoch 2/20\n",
      "224/224 [==============================] - 17s 74ms/step - loss: 14.7430 - mae: 2.4436 - val_loss: 23.8738 - val_mae: 4.2682\n",
      "Epoch 3/20\n",
      "224/224 [==============================] - 17s 76ms/step - loss: 13.4024 - mae: 2.2176 - val_loss: 23.8933 - val_mae: 4.2647\n",
      "Epoch 4/20\n",
      "224/224 [==============================] - 17s 75ms/step - loss: 11.9455 - mae: 2.0970 - val_loss: 21.7748 - val_mae: 4.0679\n",
      "Epoch 5/20\n",
      "224/224 [==============================] - 17s 74ms/step - loss: 10.9319 - mae: 1.9505 - val_loss: 23.2879 - val_mae: 4.2456\n",
      "Epoch 6/20\n",
      "224/224 [==============================] - 17s 76ms/step - loss: 10.1427 - mae: 1.8761 - val_loss: 22.1694 - val_mae: 4.1154\n",
      "Epoch 7/20\n",
      "224/224 [==============================] - 17s 76ms/step - loss: 10.1767 - mae: 1.8479 - val_loss: 22.6354 - val_mae: 4.1427\n",
      "Epoch 8/20\n",
      "224/224 [==============================] - 17s 75ms/step - loss: 9.2553 - mae: 1.7445 - val_loss: 20.5177 - val_mae: 3.9238\n",
      "Epoch 9/20\n",
      "224/224 [==============================] - 17s 74ms/step - loss: 8.9923 - mae: 1.7192 - val_loss: 20.5199 - val_mae: 3.9295\n",
      "Epoch 10/20\n",
      "224/224 [==============================] - 17s 76ms/step - loss: 8.5480 - mae: 1.6732 - val_loss: 19.8602 - val_mae: 3.8644\n",
      "Epoch 11/20\n",
      "224/224 [==============================] - 17s 76ms/step - loss: 8.4697 - mae: 1.6382 - val_loss: 19.5781 - val_mae: 3.8476\n",
      "Epoch 12/20\n",
      "224/224 [==============================] - 17s 76ms/step - loss: 8.5943 - mae: 1.6227 - val_loss: 20.7439 - val_mae: 3.9781\n",
      "Epoch 13/20\n",
      "224/224 [==============================] - 17s 75ms/step - loss: 8.2632 - mae: 1.6112 - val_loss: 19.9199 - val_mae: 3.8686\n",
      "Epoch 14/20\n",
      "224/224 [==============================] - 17s 75ms/step - loss: 8.6499 - mae: 1.6279 - val_loss: 20.1507 - val_mae: 3.9079\n",
      "Epoch 15/20\n",
      "224/224 [==============================] - 17s 75ms/step - loss: 8.2658 - mae: 1.6159 - val_loss: 19.5388 - val_mae: 3.8359\n",
      "Epoch 16/20\n",
      "224/224 [==============================] - 17s 75ms/step - loss: 8.0096 - mae: 1.5679 - val_loss: 21.2315 - val_mae: 4.0280\n",
      "Epoch 17/20\n",
      "224/224 [==============================] - 17s 75ms/step - loss: 8.0189 - mae: 1.5942 - val_loss: 19.3275 - val_mae: 3.7412\n",
      "Epoch 18/20\n",
      "224/224 [==============================] - 17s 74ms/step - loss: 8.0275 - mae: 1.5991 - val_loss: 19.2883 - val_mae: 3.7634\n",
      "Epoch 19/20\n",
      "224/224 [==============================] - 17s 75ms/step - loss: 8.5641 - mae: 1.6246 - val_loss: 18.8392 - val_mae: 3.7706\n",
      "Epoch 20/20\n",
      "224/224 [==============================] - 17s 75ms/step - loss: 7.5597 - mae: 1.5480 - val_loss: 18.4673 - val_mae: 3.6894\n",
      "Chunk 49/52 // 92.31% Complete // Cycle 2/3\n"
     ]
    },
    {
     "name": "stderr",
     "output_type": "stream",
     "text": [
      "y:\\ML\\Anaconda\\envs\\TF-GPU\\lib\\site-packages\\sklearn\\preprocessing\\_label.py:876: UserWarning: unknown class(es) ['Dream Execution ', 'Fatshark AB ', 'GabberGames ', 'Third Wave Games '] will be ignored\n",
      "  \"unknown class(es) {0} will be ignored\".format(sorted(unknown, key=str))\n"
     ]
    },
    {
     "name": "stdout",
     "output_type": "stream",
     "text": [
      "Epoch 1/20\n",
      "212/212 [==============================] - 16s 75ms/step - loss: 6.9997 - mae: 1.7953 - val_loss: 11.0738 - val_mae: 3.2222\n",
      "Epoch 2/20\n",
      "212/212 [==============================] - 16s 75ms/step - loss: 2.8594 - mae: 1.0582 - val_loss: 13.7961 - val_mae: 3.5695\n",
      "Epoch 3/20\n",
      "212/212 [==============================] - 16s 74ms/step - loss: 1.8433 - mae: 0.8148 - val_loss: 15.5301 - val_mae: 3.7520\n",
      "Epoch 4/20\n",
      "212/212 [==============================] - 16s 74ms/step - loss: 2.0275 - mae: 0.7285 - val_loss: 15.9375 - val_mae: 3.8307\n",
      "Epoch 5/20\n",
      "212/212 [==============================] - 16s 75ms/step - loss: 1.3814 - mae: 0.5883 - val_loss: 16.4842 - val_mae: 3.8726\n",
      "Epoch 6/20\n",
      "212/212 [==============================] - 16s 75ms/step - loss: 1.8189 - mae: 0.5836 - val_loss: 16.4830 - val_mae: 3.8847\n",
      "Chunk 50/52 // 94.23% Complete // Cycle 2/3\n"
     ]
    },
    {
     "name": "stderr",
     "output_type": "stream",
     "text": [
      "y:\\ML\\Anaconda\\envs\\TF-GPU\\lib\\site-packages\\sklearn\\preprocessing\\_label.py:876: UserWarning: unknown class(es) [' Behaviour Interactive ', ' Flashback Games ', ' Toylogic ', 'Auroch Digital ', 'Behaviour Interactive Inc.', 'Black Cactus ', 'Black Lab Games ', 'Bulwark Studios ', 'Chucklefish ', 'Complex Games Inc. ', 'Games Workshop ', 'Gasket Games ', 'Hammerfall Publishing ', 'Kuju Entertainment ', 'Paradox Interactive', 'Pixelated Milk ', 'Playwood Project ', 'Proxy Studios ', 'Rodeo Games ', 'Shiro Games ', 'Strategic Studies Group ', 'Strayllight Entertainment ', 'The Lordz Games Studio', 'Toylogic Inc.', 'Trapdoor '] will be ignored\n",
      "  \"unknown class(es) {0} will be ignored\".format(sorted(unknown, key=str))\n"
     ]
    },
    {
     "name": "stdout",
     "output_type": "stream",
     "text": [
      "Epoch 1/20\n",
      "213/213 [==============================] - 16s 75ms/step - loss: 12.3822 - mae: 2.2929 - val_loss: 20.8180 - val_mae: 4.1498\n",
      "Epoch 2/20\n",
      "213/213 [==============================] - 16s 75ms/step - loss: 7.8052 - mae: 1.7442 - val_loss: 20.3105 - val_mae: 4.1447\n",
      "Epoch 3/20\n",
      "213/213 [==============================] - 16s 76ms/step - loss: 6.5522 - mae: 1.5338 - val_loss: 19.8789 - val_mae: 4.2268\n",
      "Epoch 4/20\n",
      "213/213 [==============================] - 16s 75ms/step - loss: 5.0004 - mae: 1.3050 - val_loss: 18.3883 - val_mae: 4.0050\n",
      "Epoch 5/20\n",
      "213/213 [==============================] - 16s 75ms/step - loss: 4.4555 - mae: 1.1880 - val_loss: 19.7107 - val_mae: 4.1550\n",
      "Epoch 6/20\n",
      "213/213 [==============================] - 16s 74ms/step - loss: 3.8804 - mae: 1.1192 - val_loss: 20.2900 - val_mae: 4.2568\n",
      "Epoch 7/20\n",
      "213/213 [==============================] - 16s 75ms/step - loss: 3.2506 - mae: 1.0699 - val_loss: 19.7046 - val_mae: 4.2033\n",
      "Epoch 8/20\n",
      "213/213 [==============================] - 16s 75ms/step - loss: 3.6410 - mae: 1.0479 - val_loss: 19.8189 - val_mae: 4.1947\n",
      "Epoch 9/20\n",
      "213/213 [==============================] - 16s 74ms/step - loss: 3.2932 - mae: 0.9992 - val_loss: 19.6602 - val_mae: 4.2069\n",
      "Chunk 51/52 // 96.15% Complete // Cycle 2/3\n"
     ]
    },
    {
     "name": "stderr",
     "output_type": "stream",
     "text": [
      "y:\\ML\\Anaconda\\envs\\TF-GPU\\lib\\site-packages\\sklearn\\preprocessing\\_label.py:876: UserWarning: unknown class(es) [' In Images ', ' Persha Studia ', ' Visual Concepts ', '5 Lives Studios ', 'Alientrap ', 'Asymmetric Publications ', 'B-Alive ', 'Clifftop Games ', 'Cornered Rat ', 'Deadline Games ', 'Deadpan Games ', 'Different Tales ', 'Dim Bulb Games ', 'Direct Action Games ', 'DotEmu ', 'EVC ', 'Eden Industries ', 'Fast Travel Games ', 'Funomena ', 'G5 Software ', 'Gameyus Interactive ', 'Genius Slackers ', 'Ghost Pattern ', 'Giant Sparrow ', 'GriN Multimedia ', 'Heuristic Park ', 'KT Racing ', 'Knuist & Perzik ', 'Masque Publishing ', 'Mega Cat Studios ', 'Mojiken Studio ', 'Monokel ', 'Moonshark ', 'Night Light Interactive ', 'Nine Rocks Games ', 'OSome Studio ', 'Ostrich Banditos ', 'Ota Imon Studios ', 'Polyslash ', 'Ratbag ', 'Santa Ragione ', 'Silver Wish Games ', 'Sir-Tech Software Inc. ', 'Sneaky Bastards ', 'Snowed In Studios ', 'Studio Drydock Pty Ltd ', 'Synetic ', 'Take-Two Interactive', 'Tasharen Entertainment ', 'The Bitmap Brothers ', 'Third Wire ', 'Tigon ', 'Total Mayhem Games ', 'Triband ', 'Triple Topping Games ', 'Twisted Pixel Games ', 'Upstream Arcade ', 'Vile Monarch ', 'Wastelands Interactive ', 'Whale Rock Games ', 'Wide Games ', 'Winning Streak Games ', 'Wolcen Studio ', 'Wolfeye Studios ', 'Worldwalker Games ', 'Zuxxez', 'imaginarylab '] will be ignored\n",
      "  \"unknown class(es) {0} will be ignored\".format(sorted(unknown, key=str))\n"
     ]
    },
    {
     "name": "stdout",
     "output_type": "stream",
     "text": [
      "Epoch 1/20\n",
      "228/228 [==============================] - 17s 76ms/step - loss: 23.2431 - mae: 3.1349 - val_loss: 28.5262 - val_mae: 4.8088\n",
      "Epoch 2/20\n",
      "228/228 [==============================] - 17s 75ms/step - loss: 13.0945 - mae: 2.2926 - val_loss: 30.0225 - val_mae: 4.9215\n",
      "Epoch 3/20\n",
      "228/228 [==============================] - 17s 75ms/step - loss: 11.4225 - mae: 2.0385 - val_loss: 27.4261 - val_mae: 4.6261\n",
      "Epoch 4/20\n",
      "228/228 [==============================] - 17s 74ms/step - loss: 10.3929 - mae: 1.9255 - val_loss: 29.7866 - val_mae: 4.8723\n",
      "Epoch 5/20\n",
      "228/228 [==============================] - 17s 74ms/step - loss: 9.8072 - mae: 1.8125 - val_loss: 28.4374 - val_mae: 4.7634\n",
      "Epoch 6/20\n",
      "228/228 [==============================] - 17s 75ms/step - loss: 9.1943 - mae: 1.7442 - val_loss: 27.1443 - val_mae: 4.6598\n",
      "Epoch 7/20\n",
      "228/228 [==============================] - 17s 74ms/step - loss: 8.5434 - mae: 1.6602 - val_loss: 30.9794 - val_mae: 5.0185\n",
      "Epoch 8/20\n",
      "228/228 [==============================] - 17s 74ms/step - loss: 8.2459 - mae: 1.6185 - val_loss: 26.6254 - val_mae: 4.5532\n",
      "Epoch 9/20\n",
      "228/228 [==============================] - 17s 76ms/step - loss: 7.4480 - mae: 1.4942 - val_loss: 27.9871 - val_mae: 4.7307\n",
      "Epoch 10/20\n",
      "228/228 [==============================] - 17s 75ms/step - loss: 7.6614 - mae: 1.5160 - val_loss: 27.9873 - val_mae: 4.6999\n",
      "Epoch 11/20\n",
      "228/228 [==============================] - 17s 75ms/step - loss: 7.2406 - mae: 1.4907 - val_loss: 29.6260 - val_mae: 4.8664\n",
      "Epoch 12/20\n",
      "228/228 [==============================] - 17s 76ms/step - loss: 7.8111 - mae: 1.5091 - val_loss: 30.4987 - val_mae: 4.9307\n",
      "Epoch 13/20\n",
      "228/228 [==============================] - 17s 75ms/step - loss: 6.8889 - mae: 1.4363 - val_loss: 28.3101 - val_mae: 4.6702\n",
      "Chunk 52/52 // 98.08% Complete // Cycle 2/3\n"
     ]
    },
    {
     "name": "stderr",
     "output_type": "stream",
     "text": [
      "y:\\ML\\Anaconda\\envs\\TF-GPU\\lib\\site-packages\\sklearn\\preprocessing\\_label.py:876: UserWarning: unknown class(es) [' Goldhawk Interactive ', ' KADOKAWA CORPORATION ', ' Lab42 ', ' Mandel ArtPlains ', ' Sumo Digital Academy ', ' comcept ', '1P2P ', 'Ackkstudios ', 'Baroque Decay ', 'Brave at Night ', 'Crocodile Entertainment ', 'Digital Spray Studios', 'EXOR Studios ', 'Gamedust ', 'Gamethunks', 'Impressions Games ', 'Jellyvision ', 'Kadokawa', 'Livesay Technologies ', 'MicroProse ', 'Moonbite Games ', 'NoClip ', 'PlayMagic Ltd ', 'Prideful Sloth ', 'Rimlight Studios ', 'Ruud Koorevaar ', 'Ryu ga Gotoku Studios', 'Simogo ', 'Spark Unlimited', 'Spike Chunsoft ', 'Sumo Digital', 'Unicorn Games Studio ', 'Villa Gorilla ', 'WXP ', 'frecle ApS '] will be ignored\n",
      "  \"unknown class(es) {0} will be ignored\".format(sorted(unknown, key=str))\n"
     ]
    },
    {
     "name": "stdout",
     "output_type": "stream",
     "text": [
      "Epoch 1/20\n",
      "77/77 [==============================] - 6s 75ms/step - loss: 26.4947 - mae: 3.3488 - val_loss: 36.6111 - val_mae: 4.9702\n",
      "Epoch 2/20\n",
      "77/77 [==============================] - 6s 76ms/step - loss: 17.1611 - mae: 2.4446 - val_loss: 32.0547 - val_mae: 4.7269\n",
      "Epoch 3/20\n",
      "77/77 [==============================] - 6s 76ms/step - loss: 14.7496 - mae: 2.1320 - val_loss: 30.9184 - val_mae: 4.6119\n",
      "Epoch 4/20\n",
      "77/77 [==============================] - 6s 74ms/step - loss: 11.4764 - mae: 1.9468 - val_loss: 31.0917 - val_mae: 4.7220\n",
      "Epoch 5/20\n",
      "77/77 [==============================] - 6s 76ms/step - loss: 11.6532 - mae: 1.9368 - val_loss: 30.8890 - val_mae: 4.6842\n",
      "Epoch 6/20\n",
      "77/77 [==============================] - 6s 75ms/step - loss: 10.8384 - mae: 1.7658 - val_loss: 31.7106 - val_mae: 4.7612\n",
      "Epoch 7/20\n",
      "77/77 [==============================] - 6s 75ms/step - loss: 10.1843 - mae: 1.7222 - val_loss: 30.9337 - val_mae: 4.7252\n",
      "Epoch 8/20\n",
      "77/77 [==============================] - 6s 75ms/step - loss: 8.7353 - mae: 1.6080 - val_loss: 31.6796 - val_mae: 4.7731\n",
      "Epoch 9/20\n",
      "77/77 [==============================] - 6s 75ms/step - loss: 9.2010 - mae: 1.5914 - val_loss: 31.5925 - val_mae: 4.7801\n",
      "Epoch 10/20\n",
      "77/77 [==============================] - 6s 77ms/step - loss: 10.9188 - mae: 1.6880 - val_loss: 31.7105 - val_mae: 4.8276\n",
      "Chunk 1/52 // 0.0% Complete // Cycle 3/3\n"
     ]
    },
    {
     "name": "stderr",
     "output_type": "stream",
     "text": [
      "y:\\ML\\Anaconda\\envs\\TF-GPU\\lib\\site-packages\\sklearn\\preprocessing\\_label.py:876: UserWarning: unknown class(es) [' Arzest', ' Atlantis Interactive Entertainment ', ' Avalanche Software ', ' Balan Company ', ' Bird Bath Games ', ' Cape Guy ', ' Dlala Studios ', ' Eurocom ', ' Forgotten Key ', ' Gone North Games ', ' Innersloth ', ' Massive Entertainment', ' Viva Media', ' bitComposer ', ' iNK Stories ', '2K Games ', '3000AD', '3D People ', 'A44 ', 'AGEOD ', 'AWE Games ', 'Accidental Queens ', 'Acclaim Studios Cheltenham ', 'Acme Gamestudio ', 'Aeternum Game Studios ', 'Alan Zucconi ', 'Alientrap ', 'Analgesic Productions ', 'Anarteam ', 'Arcen Games', 'Argonaut Games ', 'Armature Studio ', 'Artematica ', 'Artisan Studios ', 'Arxel Tribe ', 'Atlantis Interactive Entertainment\\t', 'AtomTeam ', 'Auran ', 'Auroch Digital ', 'Aurogon Shanghai ', 'AurumDust ', 'Balancing Monkey Games ', 'Bedtime Digital Games ', 'Benjamin Rivers ', 'BestGameEver.com ', 'Big Ant Studios ', 'Big Boat Interactive ', 'Bit Blot ', 'Black Element ', 'Black Lab Games ', 'Blackpowder Games  ', 'Blendo Games ', 'Bojan Brbora ', 'BreakAway Games ', 'Breaking Walls ', 'Broken Rules ', 'BumbleBeast ', 'CE-Asia ', 'Capy Games ', 'Cauldron Ltd. ', 'Causal Bit Games ', 'Centauri Production ', 'Charles University ', 'ClockStone Studio ', 'Cold Iron Studios ', 'Cosmo D Studios ', 'CreativeForge Games ', 'Cross-Product ', 'Cryo Interactive ', 'Daedalic Entertainment', 'Daniel Wynne', 'Data Becker ', 'Dejobaan Games ', 'Demruth ', 'Denki ', 'Digital Arrow ', 'Digital Eclipse ', 'Digital Fusion Inc. ', 'Digixart Entertainment ', 'Dreampainters ', 'E-Line Media ', 'Edelweiss ', 'EggNut ', 'Eidos Interactive ', 'Elden Pixels ', 'Emobi Games ', 'Etranges Libellules ', 'Eurocom Entertainment Software', 'Eutechnyx ', 'Exiin ', 'Exordium Games ', 'Fallen Tree Games ', 'FarmerGnome ', 'Fiction Factory Games ', 'FreakZone ', 'Freebird Games ', 'Funselektor Labs Inc. ', 'Future Games', 'GUTS Department ', 'Gabe Cuzzillo ', 'Gaijin Games ', 'GameDesignDan ', 'Gato Salvaje Studio ', 'Gloomywood ', 'GlyphX Games ', 'GoodbyeWorld Games ', 'Grundislav Games ', 'Gummy Cat ', 'Gust ', 'Halberd Studios ', 'Harebrained Schemes LLC ', 'Harmonix Music Systems ', 'Hazardous Software  ', 'Hempuli Oy ', 'Hi-Bit Studios ', 'Hiding Spot ', 'Himalaya Studios ', 'Hyperbolic Magnetism ', 'INTERIOR/NIGHT ', 'Iceberg Interactive ', 'Indefatigable ', 'Innerspace VR ', 'Investigate North ', 'Invictus ', 'Iridium Studios ', \"It's Anecdotal \", 'Jacob Antonucci', 'Jagex Games Studio ', 'Jankenteam ', 'Jutsu Games ', 'Khaeon ', \"Kiro'o Games \", 'Krams Design ', 'Kubat Software ', 'Lamplight Studios ', 'League of Geeks ', 'Lienzo ', 'Lightning Rod Games ', 'Lince Works ', 'Lost Toys ', 'LuckyHammers ', 'Lumenox ehf ', 'Lunar Great Wall Studios ', 'MadMinute Games ', 'Made by Kiddies ', 'Magnum Games ', 'Massive Development ', 'Max Inferno ', 'Maximum Games ', 'MidBoss ', 'Midway Studios - Austin ', 'Mischief ', 'Misfits Attic ', 'Mojiken Studio ', 'Mothership Entertainment ', 'MyDearest ', 'N-Fusion Interactive Entertainment Corp.', 'NExT Studios ', 'NHN Corporation ', 'NetDevil ', 'Nicolas Intoxicate ', 'Ntronium Games ', 'Overhype Studios ', 'Oxide Games ', 'Panther Games ', 'Pathos Interactive ', 'Pencil Test Studios ', 'Peter Stock ', 'Piccolo ', 'Pixel Crow ', 'Planet Moon Studios ', 'Plausible Concept ', 'Point 5 Projects  ', 'Primal Software ', 'Project Aces ', 'Project Aces  ', 'Pulse Entertainment ', 'Punch Punk Games ', 'Pure FPS ', 'RageSquid ', 'RainDance LX ', 'Rare Ltd.', 'Rayland Interactive ', 'Realtime Worlds ', 'Related Designs ', 'Resolution Games ', 'Revolution of Strategy ', 'Ritual Entertainment', 'Robot Gentleman ', 'Rogue Entertainment ', 'S&G Software ', 'Sandbox Interactive ', 'Sanzaru ', 'Schell Games', 'Shadow Tor Studios ', 'ShadowRage ', 'Shining Rock Software ', 'Shockwave Productions ', 'Sigma Team ', 'Silver Lining Studio ', 'Silvio & Gey Savarese ', 'Similis ', 'Sketchy Logic ', 'Skydance Interactive ', 'Sloclap ', 'Sobaka ', 'Spiderweb Software ', 'Spike Chunsoft ', 'Spiral House ', 'Sports Mogul ', 'Stormind Games ', 'Streko-Graphics Inc. ', 'Stunlock Studios ', 'Sunflowers Interactive ', 'System Era Softworks ', 'THE BROTHERHOOD ', 'Tale of Tales ', 'Tantalus ', 'Team Junkfish ', 'The Behemoth ', 'The Wandering Band LLC ', 'The Wandering Ben ', 'ThinkingStars ', 'Third Law Interactive ', 'Threaks ', 'Three One Zero ', 'Throw the Warped Code Out ', 'TicToc Games ', 'Tim Conkling ', 'Tindalos Interactive ', 'Tom Happ ', 'Treyarch', 'Tri Synergy ', 'Turmoil Games ', 'Twice Circled ', 'U.S. Army ', 'Ubisoft Bordeaux ', 'Ubisoft Singapore ', 'Ubisoft Sofia ', 'Unexpected ', 'Unspeakable Pixels ', 'Vagabond Dog ', 'Varsav Game Studios ', 'Vertigo Games ', 'Warsaw Film School Video Game & Film Production Studio ', 'Wayward Simulations ', 'Witch Beam ', 'WorldForge ', \"Yuke's \", 'Zeal Game Studios ', 'adamgryu ', 'bitComposer Games', 'idoz & phops ', 'inkle', 'tiger & squid ', 'ustwo '] will be ignored\n",
      "  \"unknown class(es) {0} will be ignored\".format(sorted(unknown, key=str))\n"
     ]
    },
    {
     "name": "stdout",
     "output_type": "stream",
     "text": [
      "Epoch 1/20\n",
      "239/239 [==============================] - 18s 75ms/step - loss: 61.7367 - mae: 5.9343 - val_loss: 43.3728 - val_mae: 4.8656\n",
      "Epoch 2/20\n",
      "239/239 [==============================] - 18s 76ms/step - loss: 43.6921 - mae: 5.0380 - val_loss: 34.6677 - val_mae: 4.4323\n",
      "Epoch 3/20\n",
      "239/239 [==============================] - 18s 75ms/step - loss: 41.3881 - mae: 4.8543 - val_loss: 32.8971 - val_mae: 4.3200\n",
      "Epoch 4/20\n",
      "239/239 [==============================] - 18s 76ms/step - loss: 36.4779 - mae: 4.5789 - val_loss: 30.0886 - val_mae: 4.0721\n",
      "Epoch 5/20\n",
      "239/239 [==============================] - 18s 75ms/step - loss: 33.1125 - mae: 4.3457 - val_loss: 29.4674 - val_mae: 4.0036\n",
      "Epoch 6/20\n",
      "239/239 [==============================] - 18s 75ms/step - loss: 32.8707 - mae: 4.3199 - val_loss: 26.2815 - val_mae: 3.6868\n",
      "Epoch 7/20\n",
      "239/239 [==============================] - 18s 75ms/step - loss: 31.2371 - mae: 4.1738 - val_loss: 26.3646 - val_mae: 3.7747\n",
      "Epoch 8/20\n",
      "239/239 [==============================] - 18s 75ms/step - loss: 28.7091 - mae: 4.0171 - val_loss: 24.8083 - val_mae: 3.6010\n",
      "Epoch 9/20\n",
      "239/239 [==============================] - 18s 75ms/step - loss: 28.1443 - mae: 3.9618 - val_loss: 23.7148 - val_mae: 3.5762\n",
      "Epoch 10/20\n",
      "239/239 [==============================] - 18s 75ms/step - loss: 27.5146 - mae: 3.9183 - val_loss: 24.7194 - val_mae: 3.6290\n",
      "Epoch 11/20\n",
      "239/239 [==============================] - 18s 76ms/step - loss: 26.8077 - mae: 3.8804 - val_loss: 22.9382 - val_mae: 3.5004\n",
      "Epoch 12/20\n",
      "239/239 [==============================] - 18s 75ms/step - loss: 26.1316 - mae: 3.7790 - val_loss: 22.5904 - val_mae: 3.4603\n",
      "Epoch 13/20\n",
      "239/239 [==============================] - 18s 74ms/step - loss: 25.1741 - mae: 3.7108 - val_loss: 24.0153 - val_mae: 3.5481\n",
      "Epoch 14/20\n",
      "239/239 [==============================] - 18s 75ms/step - loss: 24.6092 - mae: 3.6918 - val_loss: 22.3924 - val_mae: 3.3643\n",
      "Epoch 15/20\n",
      "239/239 [==============================] - 18s 75ms/step - loss: 24.5210 - mae: 3.6385 - val_loss: 23.6229 - val_mae: 3.5803\n",
      "Epoch 16/20\n",
      "239/239 [==============================] - 18s 75ms/step - loss: 24.1889 - mae: 3.6106 - val_loss: 23.0534 - val_mae: 3.4718\n",
      "Epoch 17/20\n",
      "239/239 [==============================] - 18s 74ms/step - loss: 23.5531 - mae: 3.5306 - val_loss: 21.5511 - val_mae: 3.4162\n",
      "Epoch 18/20\n",
      "239/239 [==============================] - 18s 74ms/step - loss: 22.7184 - mae: 3.4703 - val_loss: 25.7042 - val_mae: 3.6398\n",
      "Epoch 19/20\n",
      "239/239 [==============================] - 18s 75ms/step - loss: 23.4938 - mae: 3.5057 - val_loss: 23.7143 - val_mae: 3.5316\n",
      "Epoch 20/20\n",
      "239/239 [==============================] - 18s 75ms/step - loss: 21.5759 - mae: 3.3979 - val_loss: 23.3227 - val_mae: 3.4814\n",
      "Chunk 2/52 // 1.92% Complete // Cycle 3/3\n"
     ]
    },
    {
     "name": "stderr",
     "output_type": "stream",
     "text": [
      "y:\\ML\\Anaconda\\envs\\TF-GPU\\lib\\site-packages\\sklearn\\preprocessing\\_label.py:876: UserWarning: unknown class(es) ['Application', 'Cricket', 'Trainer'] will be ignored\n",
      "  \"unknown class(es) {0} will be ignored\".format(sorted(unknown, key=str))\n",
      "y:\\ML\\Anaconda\\envs\\TF-GPU\\lib\\site-packages\\sklearn\\preprocessing\\_label.py:876: UserWarning: unknown class(es) [' 10tons ', ' Cranberry Production ', ' Deep Silver Fishlabs ', ' Digital Eclipse ', ' EA Games ', ' Elbow Rocket ', ' FAKT Software ', ' FireFly Studios ', ' Funatics ', ' Funatics Software', ' ICEBOX Studios ', ' LLC', ' LandFall ', ' Moonbyte Studios ', ' Navarre Corp ', ' Nival ', ' Out of the Blue Games S.L. ', ' Overflow Games ', ' Phosphor Games ', ' Polar Motion ', ' RA Images ', ' Reality Twist ', ' Relentless Studios ', ' S.L. ', ' Sega', ' Slitherine Group', ' Ste Curran ', '10tons Entertainment', '369 Interactive ', 'A Crowd of Monsters ', 'Aarne \"MekaSkull\" Hunziker ', 'Access Games ', 'Action Forms Ltd. ', 'Activision ', 'Alientrap ', 'Alt Shift ', 'Amanita Design ', 'Apeiron ', 'Argonaut Games', 'Artematica ', 'Ascension Studios', 'Asylum Entertainment ', 'Atomic Games ', 'Awe Interactive ', 'Backbone Entertainment ', 'Beautiful Game Studios ', 'Behold Studios ', 'Big Time Software ', 'Bigmoon Entertainment ', 'Black Mesa Modification Team ', 'Blooming Buds Studio ', 'Blue Manchu ', 'Blue Omega ', 'BootdiskRevolution ', 'Boxed Dream ', 'Brace Yourself Games ', 'Brat Designs ', 'BreakAway Games ', 'Butterscotch Shenanigans ', 'Bytten Studio ', 'Cardboard Utopia ', 'Casus Ludi ', 'Cavia Inc. ', 'Cinemax', 'ClockStone Studio ', 'Coilworks ', 'Convoy Games ', 'Corbie Games ', 'Cranberry Studios ', 'Crazy Rocks ', 'Creative Edge Software ', 'Cygnus Entertainment ', \"D'Avekki Studios Limited \", 'DANG! ', 'DTP Entertainment', 'Darkling Room ', 'Darkworks ', 'Data Realms ', 'Deep Shadows ', 'Destineer ', 'Dimfrost ', 'Discord Games ', 'Double Stallion Games ', 'Drama Drifters ', 'Dreams Uncorporated ', 'Dreamworks Games ', 'EA Bright Light ', 'EA Pacific ', 'EasyGameStation ', 'Eden Industries ', 'Elf Games ', 'Elseware Experience ', 'Erik Svedang ', 'Expansive Worlds ', 'Explosm ', 'Eyebrow Interactive ', 'FAKT Software ', 'FAKT Software GmBH', 'FYQD-Studio ', 'Fever Pitch Studios ', 'Firaxis Games', 'Fishlabs', 'Flying Cafe for Semianimals ', 'Focus Home Interactive ', 'Fourattic ', 'Free Lives ', 'Funatics Development GmbH', 'G5 Software ', 'Gaijin Games ', 'Gaslamp Games ', 'General Interactive Co. ', 'Greg Lobanov ', 'Gust ', 'Headfirst Productions ', 'Hibernian Workshop ', 'Hothouse Creations ', 'ION LANDS ', 'Ice-Pick Lodge ', 'InGame Studios ', 'Interceptor Entertainment ', 'Interdimensional Games Inc ', 'Inti Creates ', 'Investigate North Aps ', 'Invictus ', 'Jagex Games Studio ', 'Jason Oda ', 'Jasozz Games ', 'JoyMasher ', 'Jump Over The Age ', 'Kitfox Games ', 'Kraken Unleashed ', 'Krome Studios ', 'La Plata ', 'LandFall Games', 'Lazy 8 Studios ', 'Logic Artists ', 'Long Hat House ', 'MASA Group ', 'Mad Mimic ', 'Maddy Makes Games ', 'Mages. ', 'Marvelous First Studio ', 'Maschinen-Mensch ', 'Massive Monster ', 'Matt Kap ', 'Mattel ', 'Matthias Linda ', 'Midway Studios - Austin ', 'Mighty Kingdom ', 'Mighty Rabbit Studios ', 'Mindware Studios ', 'Momentum DMT ', 'Morteshka ', 'Mythic Entertainment ', 'NExT Studios ', 'Nerial ', 'Nival Interactive', 'Nova Production ', 'Original Fire Games ', 'Out of the Blue', 'Oxeye ', 'PETOONS STUDIO SL ', 'Paper Cult ', 'PaperSeven ', 'Paragon Studios ', 'Passtech Games ', 'Petri Purho ', 'Phobia Game Studio ', 'Phoenix Online Studios ', 'Phosphor Games Studio', 'Pixel Multimedia ', 'Playwing ', 'PortaPlay ', 'Psychodev ', 'Punchers Impact ', 'Puppy Punch Productions ', 'Puuba ', 'Pyramid ', 'Quotix Software ', 'Radical Fish Games ', 'Reality Twist GmbH', 'Rebel Act Studios ', 'RedRuins Softworks ', 'Replay Studios', 'Richard Hofmeier ', 'Robi Studios ', 'Ronimo Games ', 'RuneHeads ', 'Runner Duck ', 'Sand Sailor Studio ', 'Scientifically Proven ', 'Serious Brew ', 'Sierra Entertainment ', 'Skilltree Studios ', 'Slitherine', 'Snapshot Games Inc. ', 'SomaSim ', 'Sonalysts ', 'Spike Chunsoft ', 'Spotlightor Interactive ', 'Spry Fox ', 'Stellar Jockeys ', 'Stickmen Studios ', 'Still Alive Studios ', 'Storm in a Teacup ', 'Stormcloud Creations ', 'Stunlock Studios ', 'Sumo Digital', 'Sunhead Games ', 'Sunstorm Interactive ', 'SuperScarySnakes ', 'Swing Swing Submarine ', 'Sword & Axe LLC ', 'Synetic ', 'TRAGsoft ', 'Tag of Joy ', 'Targem Games ', 'Team Reptile ', 'Teku Studios  ', 'The Gentlebros ', 'The Moonwalls ', 'The Parasight ', 'The Pixel Hunt ', 'The Wild Gentlemen ', 'Thing Trunk ', 'Three Fields Entertainment ', 'Toge Productions ', 'Torus Games ', 'Toys for Bob ', 'Triangle Studios ', 'Troglobytes Games', 'Twistplay', 'Uppercut Games Pty Ltd ', 'V7 Entertainment Inc. ', 'Various ', 'Vicarious Visions', 'Vile Monarch ', 'Vogster ', 'Wadjet Eye Games', 'Weather Factory ', 'White Paper Games ', 'XXV Productions ', 'Yippee Entertainment LTD ', 'Zeboyd Games ', 'Zipper Interactive ', 'Zoetrope Interactive ', 'osao games ', 'stillalive studios '] will be ignored\n",
      "  \"unknown class(es) {0} will be ignored\".format(sorted(unknown, key=str))\n"
     ]
    },
    {
     "name": "stdout",
     "output_type": "stream",
     "text": [
      "Epoch 1/20\n",
      "238/238 [==============================] - 18s 75ms/step - loss: 46.7267 - mae: 5.3481 - val_loss: 39.1832 - val_mae: 5.1020\n",
      "Epoch 2/20\n",
      "238/238 [==============================] - 18s 74ms/step - loss: 38.2919 - mae: 4.7988 - val_loss: 35.8132 - val_mae: 4.7866\n",
      "Epoch 3/20\n",
      "238/238 [==============================] - 18s 75ms/step - loss: 35.5318 - mae: 4.5763 - val_loss: 32.9413 - val_mae: 4.5922\n",
      "Epoch 4/20\n",
      "238/238 [==============================] - 18s 77ms/step - loss: 33.6260 - mae: 4.4382 - val_loss: 30.6110 - val_mae: 4.4064\n",
      "Epoch 5/20\n",
      "238/238 [==============================] - 18s 75ms/step - loss: 30.6918 - mae: 4.2258 - val_loss: 29.2548 - val_mae: 4.2684\n",
      "Epoch 6/20\n",
      "238/238 [==============================] - 18s 74ms/step - loss: 29.7441 - mae: 4.1213 - val_loss: 29.4390 - val_mae: 4.2845\n",
      "Epoch 7/20\n",
      "238/238 [==============================] - 18s 76ms/step - loss: 29.0369 - mae: 4.0768 - val_loss: 28.2216 - val_mae: 4.1807\n",
      "Epoch 8/20\n",
      "238/238 [==============================] - 18s 75ms/step - loss: 27.1997 - mae: 3.9495 - val_loss: 29.6168 - val_mae: 4.3535\n",
      "Epoch 9/20\n",
      "238/238 [==============================] - 18s 75ms/step - loss: 26.8229 - mae: 3.8573 - val_loss: 28.2841 - val_mae: 4.2210\n",
      "Epoch 10/20\n",
      "238/238 [==============================] - 18s 75ms/step - loss: 25.3031 - mae: 3.7562 - val_loss: 30.6242 - val_mae: 4.3932\n",
      "Epoch 11/20\n",
      "238/238 [==============================] - 18s 74ms/step - loss: 24.1944 - mae: 3.6808 - val_loss: 26.2598 - val_mae: 3.9992\n",
      "Epoch 12/20\n",
      "238/238 [==============================] - 18s 74ms/step - loss: 24.6507 - mae: 3.6798 - val_loss: 29.6813 - val_mae: 4.4124\n",
      "Epoch 13/20\n",
      "238/238 [==============================] - 18s 74ms/step - loss: 24.0786 - mae: 3.6345 - val_loss: 28.4714 - val_mae: 4.2318\n",
      "Epoch 14/20\n",
      "238/238 [==============================] - 18s 75ms/step - loss: 23.7245 - mae: 3.6198 - val_loss: 26.2058 - val_mae: 4.0182\n",
      "Epoch 15/20\n",
      "238/238 [==============================] - 18s 75ms/step - loss: 22.6887 - mae: 3.5040 - val_loss: 30.1595 - val_mae: 4.3932\n",
      "Epoch 16/20\n",
      "238/238 [==============================] - 18s 75ms/step - loss: 22.8847 - mae: 3.5241 - val_loss: 29.3532 - val_mae: 4.3225\n",
      "Epoch 17/20\n",
      "238/238 [==============================] - 18s 76ms/step - loss: 22.3976 - mae: 3.4806 - val_loss: 28.8044 - val_mae: 4.3248\n",
      "Epoch 18/20\n",
      "238/238 [==============================] - 18s 75ms/step - loss: 21.5240 - mae: 3.4116 - val_loss: 28.0580 - val_mae: 4.2181\n",
      "Epoch 19/20\n",
      "238/238 [==============================] - 18s 74ms/step - loss: 21.8021 - mae: 3.4326 - val_loss: 27.1229 - val_mae: 4.1354\n",
      "Chunk 3/52 // 3.85% Complete // Cycle 3/3\n"
     ]
    },
    {
     "name": "stderr",
     "output_type": "stream",
     "text": [
      "y:\\ML\\Anaconda\\envs\\TF-GPU\\lib\\site-packages\\sklearn\\preprocessing\\_label.py:876: UserWarning: unknown class(es) ['Text'] will be ignored\n",
      "  \"unknown class(es) {0} will be ignored\".format(sorted(unknown, key=str))\n",
      "y:\\ML\\Anaconda\\envs\\TF-GPU\\lib\\site-packages\\sklearn\\preprocessing\\_label.py:876: UserWarning: unknown class(es) [' A Jolly Corpse ', ' Alex May ', ' Capcom Vancouver ', ' Digital Leisure ', ' Dose', ' Dreadlocks ', ' Eighting ', ' Eurocom ', ' Foreign Gnomes ', ' FunHouse ', ' Kitty', ' Koei Tecmo Games ', ' Live Wire ', ' Ltd. ', ' Mobigame ', ' Rabbit & Bear Studios ', ' Red Winter Software ', ' Sky Fallen', ' and JW ', '1C:Ino-Co ', '3D Realms ', '4Head Studios ', '5-Bits Games ', '7 Studios ', '8Monkey Labs ', 'Access Games ', 'Acid Nerve ', 'Acid Wizard Studio ', 'Afterburner Studios ', 'Allgraf ', 'Amaze Entertainment ', 'Ankama Games ', 'ArachnidGames ', 'Arc System Works', 'Artematica ', 'AtomicTorch ', 'Attention To Detail ', 'Avalanche Software ', 'Barking Dog ', 'Bay 12 Games ', 'Bedlam Games ', 'Ben Esposito ', 'Biart ', 'Bippinbits ', 'Bithell Games ', 'Black Salt Games ', 'Blue Castle Games ', 'Boston Animation ', 'BreakAway Games ', 'Buka Entertainment ', 'Byterunners Game Studio ', 'CCCP ', 'COWCAT ', 'Canal+ Multimedia ', 'Cave ', 'Chaosmonger Studio ', 'Chris Nordgren', 'Chromatic Games ', 'Code Force ', 'Coin Crew Games ', 'Cosmonaut Studios ', 'Critical Studio ', 'Ctrl Alt Ninja Ltd. ', 'Cube Roots ', 'DESTINYbit ', 'DNS Development ', 'Dancing Dragon games ', 'Dark Crystal Games ', 'Digital Confectioners ', 'Digital Happiness ', 'Digital Leisure Inc.', 'Digital Lode ', 'Digitalo Studios ', 'Dimps Corporation ', 'Disney Interactive Studios ', 'DoubleBear Productions ', 'Dreadlocks Ltd', 'Dykast Lubomir ', 'Eastshade Studios ', 'Elder Games ', 'Erik Svedang ', 'Eurocom Entertainment Software', 'Fabraz ', 'Fallen Flag Studio ', 'Fictiorama Studios ', 'Fireplace Games ', 'Fishing Cactus ', 'Foregone ', 'Frima Studio ', 'Frozen line ', 'Game Grumps ', 'Gameyus Interactive ', 'Gaslamp Games ', 'Gentlymad ', 'Ghost Ship Games ', 'Haggard Games ', 'Heavy Iron Studios', 'Herobeat Studios ', 'Heuristic Park ', 'Hitbox  ', 'Holospark ', 'Honig Studios ', 'HyperSloth ', 'Ikarion ', 'Illwinter Design Group ', 'Innonics ', 'Instant Kingdom ', 'Invader Studios ', 'Jesse Makkonen ', 'KUNO INTERACTIVE ', 'KillHouse Games ', 'Layopi Games ', 'Live Wire Films', 'Ludus future ', 'MINT ROCKET ', 'Madruga Works ', 'MagicalTimeBean ', 'Mantra ', 'Massive Work Studio ', 'Matias Schmied ', 'Midgar Studio ', 'Mike Studios ', 'Mindware Studios ', 'Minor Key Games ', 'Misfits Attic ', 'Moppin ', 'Most Wanted Entertainment ', 'Motion Twin ', 'Muro Studios Ltd. ', 'NATSUME ATARI Inc.', 'Namco ', 'Namco Bandai Games ', 'Nerve Software ', 'New Blood Interactive ', 'Nfusion ', 'Nippon Ichi Software ', 'Ocelot Society ', 'Omega Force', 'Oscar Brittain ', 'Outrage Games ', 'Owlchemy Labs ', 'PD Design Studio Pte Ltd ', 'Paleo Entertainment ', 'Parallax Software ', 'Pathea Games ', 'Piranha Games ', 'Pixel Night ', 'Pixpil ', 'Plastic Reality ', 'Pocket Trap ', 'Popcannibal ', 'Positech Games ', 'Propaganda Games ', 'QCF Design ', 'ROCKFISH Games ', 'Radon Labs ', 'Rage Software ', 'RageSquid ', 'Raspina Studio ', 'Ratbag ', 'Razorworks ', 'Red Candle Games ', 'Red Thread Games ', 'Red Winter Software Limited', 'Reflections Interactive ', 'Related Designs ', 'Resolution Games ', 'Rudolf Kremers', 'Runewaker Entertainment ', 'Scavengers Studio ', 'Seaven Studio ', 'Secret Base ', 'Shaba Games ', 'Silent Grove Studios ', 'Sirius Games ', 'Sixteen Tons Entertainment ', 'Sky Fallen ', 'Snowhound Games ', 'Soldak Entertainment ', 'Sorath ', 'Sourcenext ', 'Stickmen Studios ', 'Storm in a Teacup ', 'Stormfront Studios ', 'Streko-Graphics Inc. ', 'Studio V ', 'Sundae Month ', 'Sunstorm Interactive ', 'T19 Games ', 'Team Ninja', 'Team Salvato ', 'Tendershoot', 'Terri', 'Terry Cavanagh ', 'Tesseraction Games ', 'The Chinese Room ', 'Tindalos Interactive ', 'TopWare Interactive ', 'Toukana Interactive ', 'Twisted Pixel Games ', 'Two Tribes', 'Ubisoft Montreal', 'Ultimation Inc. ', 'Ultra Ultra ', 'Un Je Ne Sais Quoi ', 'Unfold Games ', 'V1 Interactive ', 'ValuSoft ', 'Vicious Cycle ', 'White Paper Games ', 'White Rabbit Interactive ', 'Z-Axis', 'Zachtronics Industries ', 'Zoetrope Interactive ', 'Zuxxez ', 'i-illusions '] will be ignored\n",
      "  \"unknown class(es) {0} will be ignored\".format(sorted(unknown, key=str))\n"
     ]
    },
    {
     "name": "stdout",
     "output_type": "stream",
     "text": [
      "Epoch 1/20\n",
      "238/238 [==============================] - 19s 76ms/step - loss: 47.2157 - mae: 5.2563 - val_loss: 44.7053 - val_mae: 5.3922\n",
      "Epoch 2/20\n",
      "238/238 [==============================] - 18s 75ms/step - loss: 40.1803 - mae: 4.8346 - val_loss: 43.8293 - val_mae: 5.3327\n",
      "Epoch 3/20\n",
      "238/238 [==============================] - 18s 75ms/step - loss: 37.0873 - mae: 4.5803 - val_loss: 43.0383 - val_mae: 5.2567\n",
      "Epoch 4/20\n",
      "238/238 [==============================] - 18s 76ms/step - loss: 34.4539 - mae: 4.3533 - val_loss: 43.7991 - val_mae: 5.3925\n",
      "Epoch 5/20\n",
      "238/238 [==============================] - 18s 76ms/step - loss: 33.5641 - mae: 4.3302 - val_loss: 40.9871 - val_mae: 5.1679\n",
      "Epoch 6/20\n",
      "238/238 [==============================] - 18s 74ms/step - loss: 32.5758 - mae: 4.1925 - val_loss: 37.5358 - val_mae: 4.8968\n",
      "Epoch 7/20\n",
      "238/238 [==============================] - 18s 76ms/step - loss: 29.8163 - mae: 4.0190 - val_loss: 42.3436 - val_mae: 5.2775\n",
      "Epoch 8/20\n",
      "238/238 [==============================] - 18s 76ms/step - loss: 29.7238 - mae: 4.0166 - val_loss: 40.4352 - val_mae: 5.1415\n",
      "Epoch 9/20\n",
      "238/238 [==============================] - 18s 75ms/step - loss: 27.7849 - mae: 3.8915 - val_loss: 36.8972 - val_mae: 4.8899\n",
      "Epoch 10/20\n",
      "238/238 [==============================] - 18s 76ms/step - loss: 27.6253 - mae: 3.8553 - val_loss: 38.3184 - val_mae: 4.9563\n",
      "Epoch 11/20\n",
      "238/238 [==============================] - 18s 75ms/step - loss: 27.0591 - mae: 3.8251 - val_loss: 39.1951 - val_mae: 5.0532\n",
      "Epoch 12/20\n",
      "238/238 [==============================] - 18s 75ms/step - loss: 26.6586 - mae: 3.7707 - val_loss: 36.6333 - val_mae: 4.8742\n",
      "Epoch 13/20\n",
      "238/238 [==============================] - 18s 75ms/step - loss: 26.3489 - mae: 3.7265 - val_loss: 38.0212 - val_mae: 4.9517\n",
      "Epoch 14/20\n",
      "238/238 [==============================] - 18s 76ms/step - loss: 25.7388 - mae: 3.7087 - val_loss: 40.3743 - val_mae: 5.1656\n",
      "Epoch 15/20\n",
      "238/238 [==============================] - 18s 75ms/step - loss: 25.1412 - mae: 3.6277 - val_loss: 37.3590 - val_mae: 4.9630\n",
      "Epoch 16/20\n",
      "238/238 [==============================] - 18s 74ms/step - loss: 25.6028 - mae: 3.6709 - val_loss: 36.8421 - val_mae: 4.9059\n",
      "Epoch 17/20\n",
      "238/238 [==============================] - 18s 76ms/step - loss: 23.9427 - mae: 3.5431 - val_loss: 40.3556 - val_mae: 5.1987\n",
      "Chunk 4/52 // 5.77% Complete // Cycle 3/3\n"
     ]
    },
    {
     "name": "stderr",
     "output_type": "stream",
     "text": [
      "y:\\ML\\Anaconda\\envs\\TF-GPU\\lib\\site-packages\\sklearn\\preprocessing\\_label.py:876: UserWarning: unknown class(es) [' 1C:Ino-Co ', ' Acclaim Studios Manchester ', ' Ankama ', ' Atari ', ' Atari SA ', ' Black Drakkar Games ', ' Blitz Games ', ' Buried Signal ', ' Calappa Games ', ' Clover Bite ', ' Creative Business Unit III ', ' Cyan', ' EA Vancouver ', ' Endlessfluff Games ', ' Grove Street Games ', ' Gun Interactive ', ' GungHo', ' Humble Games', ' Joshua Nuernberger ', ' LLC', ' Marvelous First Studio ', ' MicroProse', ' MicroProse ', ' Mixed Realms ', ' N-Game Studios ', ' Navegante Entertainment ', ' Phosphor Games ', ' PopCap ', ' SeithCG ', ' SkyBox Labs ', ' Splash Damage', ' Team 6 Games Studio ', ' TimeGate Studios ', '10 Chambers Collective ', '17-Bit ', '2By3 Games ', '4D Rulers ', '6 Eyes Studio ', '@unepic_fran ', 'AGEOD ', 'Abrakam SA ', 'Acclaim', 'Alkemi Games ', 'Ankama Games', 'Anshar Studios ', 'Antab Studio ', 'Astro Port ', 'Atari', 'Atelier Mimina ', 'Auran ', 'Autumn Moon ', 'Awesome Games Studio ', 'Axel Fox ', 'Bandai Namco Games', 'Barking Dog ', 'Beard Envy ', 'Bedtime Digital Games ', 'Behavior Studios ', 'BetaDwarf ', 'Bits & Beasts ', 'Bonus Level Entertainment ', 'Brain Candy ', 'Brendon Chung ', 'Bright Future GmbH ', 'Bromio', 'Byte Barrel ', 'Caged Element Inc. ', 'Camel 101 ', 'Campo Santo ', 'Cat Daddy Games ', 'Cellar Door Games ', 'ChessBase ', 'Chronic Logic ', 'Claeys Brothers Arts ', 'Clever Beans ', 'Codemasters Birmingham ', 'Coffee Stain North ', 'Covenant.dev ', 'Crate Entertainment ', 'Crazy Monkey Studios ', 'Creepy Jar ', 'Cyan Worlds', 'Cyber Rhino Studios ', 'Cypron Studios ', 'Daybreak Games ', 'Dead Mage Studio ', 'Demagog Studio ', 'Devolver Digital ', 'Doinksoft ', 'DrinkBox Studios ', 'EA Sports', 'Edge Case Games ', 'Exbleative ', 'Fallen Earth', 'Fallen Leaf', 'Feral Cat Den ', 'Fishcow Studio ', 'Fishlabs ', 'Flaming Fowl Studios ', 'Fort Triumph LTD ', 'Free Lives ', 'Freebird Games ', 'Freedom LLC ', 'Funnel Entertainment', 'GalaxyTrail ', 'Gambrinous ', 'Game Arts', 'Game Arts ', 'Gamepires ', 'Gaming Minds Studios ', 'Ghost of a Tale', 'Grace Bruxner ', 'Green Lava Studios ', 'Greenheart Games ', 'Ground Shatter Ltd. ', 'Gust ', 'Harmonix Music Systems ', 'Hasbro Interactive', 'Heatwave Interactive ', 'Heavy Iron Studios ', 'Hexagon Entertainment ', 'HopFrog ', 'Hothouse Creations ', 'Humble Bundle', 'IGGYMOB ', 'Idea Factory ', 'IllFonic', 'IllFonic ', 'Image Space Incorporated ', 'Interactive Stone ', 'IronOak Games ', 'Ivy Games LLC ', 'JC Entertainment ', 'Jason Roberts', 'Johnny Dale Lonack ', 'Kaos Studios ', 'Kong Orange ', 'Lazy Bear Games ', 'Lead Pursuit ', 'Lexis Numerique ', 'Logic Artists ', 'Lucid Games ', 'Lukas Navratil ', 'Mad Orange ', 'Massive Damage', 'MediaMobsters ', 'Metamorf Studios ', 'Mixed Realms Pte Ltd', 'Mode 7 Games ', 'Monolith Productions', 'Mopeful Games ', 'Motiga ', 'Muse Games ', 'Mutant Games ', 'Nemesys ', 'Neversoft Entertainment', 'Nival Interactive', 'Nussoft', 'Object ', 'Okomotive ', 'Old Moon ', 'Old School Games ', 'Orann ', 'Owned by Gravity ', 'Paranoid Interactive ', 'Perfect World Entertainment ', 'Phil Hassey ', 'Phosfiend Systems ', 'Phosphor Games Studio', 'Pinkerton Road Studio ', 'Planet Moon Studios ', 'PortaPlay ', 'Positech Games ', 'Prideful Sloth ', 'Proper Games ', 'Pulsatrix Studios ', 'Queasy Games ', 'R8 Games ', 'Radiation Blue ', 'Razorworks ', 'Rebelmind ', 'Red 5 Studios ', 'Red Redemption ', 'Refugium Games ', 'Rewolf Software ', 'Robotality ', 'Sassybot ', 'Scott Cawthon ', 'Shiro Games ', 'Sick Puppies ', 'Sierra Entertainment ', 'Silent Dreams ', 'Silver Style ', 'Slitherine ', 'Smudged Cat Games ', 'Spaces of Play ', 'Sports Mogul ', 'StarWraith ', 'Stormfront Studios ', 'Stuck In Attic ', 'Sushee ', 'TALEROCK ', 'TIGAMES ', 'Team2Bit ', 'Team6 Game Studios', 'The Chinese Room ', 'The Fullbright Company ', 'Throughline Games ', 'Tom Francis ', 'Tri Synergy ', 'Tribute Games ', 'Trine Games ', 'Under the Stairs ', 'Video System ', 'Vile Monarch ', 'W!Games ', 'Wadjet Eye Games', 'Warner Bros. Interactive Entertainment ', 'Whalebox Studio ', 'Whole Hog Games ', 'WideScreen Games ', 'WildTangent ', 'Wizarbox ', 'WorldForge ', 'Wube Software LTD. ', 'Yukitama Creative Industries ', 'Zoink! ', 'animdude '] will be ignored\n",
      "  \"unknown class(es) {0} will be ignored\".format(sorted(unknown, key=str))\n"
     ]
    },
    {
     "name": "stdout",
     "output_type": "stream",
     "text": [
      "Epoch 1/20\n",
      "240/240 [==============================] - 19s 76ms/step - loss: 39.8784 - mae: 4.8064 - val_loss: 46.0436 - val_mae: 5.5135\n",
      "Epoch 2/20\n",
      "240/240 [==============================] - 18s 74ms/step - loss: 32.5485 - mae: 4.3354 - val_loss: 42.5834 - val_mae: 5.2622\n",
      "Epoch 3/20\n",
      "240/240 [==============================] - 18s 75ms/step - loss: 30.1101 - mae: 4.1569 - val_loss: 37.1732 - val_mae: 4.9086\n",
      "Epoch 4/20\n",
      "240/240 [==============================] - 18s 75ms/step - loss: 27.2425 - mae: 3.9668 - val_loss: 34.0475 - val_mae: 4.6636\n",
      "Epoch 5/20\n",
      "240/240 [==============================] - 18s 74ms/step - loss: 25.6522 - mae: 3.8216 - val_loss: 33.2468 - val_mae: 4.5848\n",
      "Epoch 6/20\n",
      "240/240 [==============================] - 18s 75ms/step - loss: 24.0886 - mae: 3.7147 - val_loss: 31.2254 - val_mae: 4.3790\n",
      "Epoch 7/20\n",
      "240/240 [==============================] - 18s 75ms/step - loss: 23.3981 - mae: 3.6302 - val_loss: 34.1838 - val_mae: 4.6689\n",
      "Epoch 8/20\n",
      "240/240 [==============================] - 18s 76ms/step - loss: 23.2278 - mae: 3.6127 - val_loss: 30.3875 - val_mae: 4.3680\n",
      "Epoch 9/20\n",
      "240/240 [==============================] - 18s 75ms/step - loss: 22.2071 - mae: 3.5219 - val_loss: 29.2548 - val_mae: 4.2450\n",
      "Epoch 10/20\n",
      "240/240 [==============================] - 18s 75ms/step - loss: 21.7388 - mae: 3.4514 - val_loss: 28.3905 - val_mae: 4.1921\n",
      "Epoch 11/20\n",
      "240/240 [==============================] - 18s 75ms/step - loss: 20.7234 - mae: 3.4068 - val_loss: 28.3578 - val_mae: 4.2115\n",
      "Epoch 12/20\n",
      "240/240 [==============================] - 18s 76ms/step - loss: 20.8920 - mae: 3.3778 - val_loss: 28.2107 - val_mae: 4.1916\n",
      "Epoch 13/20\n",
      "240/240 [==============================] - 18s 75ms/step - loss: 20.0235 - mae: 3.3398 - val_loss: 25.9329 - val_mae: 3.9985\n",
      "Epoch 14/20\n",
      "240/240 [==============================] - 18s 76ms/step - loss: 19.1057 - mae: 3.2698 - val_loss: 28.8908 - val_mae: 4.1912\n",
      "Epoch 15/20\n",
      "240/240 [==============================] - 18s 75ms/step - loss: 20.7570 - mae: 3.3440 - val_loss: 28.5451 - val_mae: 4.1793\n",
      "Epoch 16/20\n",
      "240/240 [==============================] - 18s 75ms/step - loss: 18.7552 - mae: 3.2346 - val_loss: 26.9080 - val_mae: 4.0515\n",
      "Epoch 17/20\n",
      "240/240 [==============================] - 18s 76ms/step - loss: 18.1244 - mae: 3.1650 - val_loss: 26.1771 - val_mae: 3.9677\n",
      "Epoch 18/20\n",
      "240/240 [==============================] - 18s 75ms/step - loss: 18.0137 - mae: 3.1431 - val_loss: 25.8818 - val_mae: 3.9770\n",
      "Epoch 19/20\n",
      "240/240 [==============================] - 18s 76ms/step - loss: 17.9569 - mae: 3.1398 - val_loss: 27.5696 - val_mae: 4.1341\n",
      "Epoch 20/20\n",
      "240/240 [==============================] - 18s 75ms/step - loss: 17.6169 - mae: 3.1147 - val_loss: 26.7466 - val_mae: 4.0269\n",
      "Chunk 5/52 // 7.69% Complete // Cycle 3/3\n"
     ]
    },
    {
     "name": "stderr",
     "output_type": "stream",
     "text": [
      "y:\\ML\\Anaconda\\envs\\TF-GPU\\lib\\site-packages\\sklearn\\preprocessing\\_label.py:876: UserWarning: unknown class(es) ['Text'] will be ignored\n",
      "  \"unknown class(es) {0} will be ignored\".format(sorted(unknown, key=str))\n",
      "y:\\ML\\Anaconda\\envs\\TF-GPU\\lib\\site-packages\\sklearn\\preprocessing\\_label.py:876: UserWarning: unknown class(es) [' 1C-Entertainment ', ' 343 Industries ', ' Atari SA ', ' Beamdog', ' Black Sea Games ', ' Bloom Technology ', ' Blueside ', ' Boss Key Productions ', ' Cing ', ' Cognosphere ', ' Crema Games ', \" DON'T NOD \", ' Davit Andreasyan ', ' Deck Nine Games ', ' Easy Trigger Games ', ' Eerie Guest ', ' Hex Entertainment ', ' Ice Cold Games ', ' Infogrames', ' Jujubee S.A. ', ' Kaiko ', ' Katuri Interactive ', ' Konjak ', ' Ltd. ', ' M2H & BlackMill Games ', ' MONKEYCRAFT Co. Ltd. ', ' Melbourne House ', ' Most Wanted Entertainment ', ' Novacore Studios ', ' Novik & Co ', ' Overhaul Games ', ' Pine Scented Software ', ' PixelHive ', ' Psyop ', ' Slitherine Group ', ' Spike Chunsoft ', ' Squad ', ' Targem Games ', ' Team Reptile ', ' Transmission Games', ' UNKNOWN GAMES ', ' Vanguard Games ', ' Virtuos ', ' Voidpoint', ' Xaviant ', '1C Entertainment', '1C-Softclub ', '343 Industries', '3D People ', '3D Realms', '3DClouds ', '4X Studios ', 'Action Squad Studios ', 'Activision ', 'Almost Human ', 'Amanita Design ', 'Appaloosa Interactive ', 'Aquiris Game Studio ', 'Arclight Creations ', 'Arkedo Studio ', 'Artifact Entertainment ', 'Artifex Mundi ', 'Artificial Mind and Movement ', 'Ascendant Studios ', 'Askiisoft ', 'Atari', 'Aterdux Entertainment ', 'Bandai Namco Games', 'Barking Dog ', 'Behold Studios ', 'Benjamin \"ThingOnItsOwn\" Hauer ', 'Benjamin Rivers ', 'Berzerk Studio ', 'Big Red Software ', 'Big Sandwich Games', 'Bishop Games ', 'Bitbox Ltd. ', 'Black Isle Studios', 'Black Matter ', 'Black Sea Studios', 'Black Sea Studios ', 'Bleakmill ', 'Blue Tongue Entertainment ', 'Blyts ', 'Boss Key', 'Bossa Studios ', 'Brain Slap Studio ', 'Brawsome ', 'Buka Entertainment', 'Bulwark Studios ', 'Burut Software ', \"ByteRockers' Games \", 'Cardboard Computer ', 'Casey Donnellan Games LLC ', 'Cat Rabbit ', 'Cauldron Ltd. ', 'ChaosForge ', 'Choice Provisions ', 'Cingular mMode', 'Clever-Plays ', 'Clifftop Games ', 'ClockStone Studio ', 'Codo Games ', 'Coffee Stain Studios', 'Conifer Games ', 'Core Design Ltd. ', 'Cradle Games ', 'CrazyBunch ', 'Creat Studios ', 'CreativeForge Games ', 'CremaGames', 'Critique Gaming ', 'Cryptozoic Entertainment', 'DONTNOD Entertainment', 'Daniel Mullins Games ', 'Dark Energy Digital ', 'Defiant Development ', 'DigiFX Interactive ', 'Digital Arrow ', 'Dingaling ', 'Dirigo Games ', 'Dreadbit ', 'E-One Studio ', 'EA Bright Light ', 'EKO Software ', 'Elastic Games ', 'Empyrean ', 'Evan Todd ', 'Fiddlesticks Games ', 'Final Form Games', 'Fluent ', 'Foam Sword ', 'Foolish Mortals Games ', 'Forge Reply ', 'Four Quarters ', 'Freebird Games ', 'Fugitive Games ', 'Fuzzyeyes Studio ', 'GFI Russia ', 'Galilea Multimedia ', 'Gamious ', 'Geeta Games ', 'Geniaware ', 'Goblinz Studio ', 'Grasshopper Manufacture ', 'Grimbart Tales ', 'Grundislav Games ', 'HD Interactive', 'HandyGames ', 'Happy Ray Games ', 'Hato Moa ', 'Hidden Layer Games ', 'Hollow Ponds ', 'Hollow Ponds and Richard Hogg ', 'IMGN.PRO ', 'IR Gurus ', 'Ice Code Games', 'Ice-Pick Lodge ', 'Iceberg Interactive', 'Impressions Games ', 'In Utero ', 'Infinite Monkeys ', 'Innerloop ', 'Joakim Sandberg', 'Joel Mcdonald ', 'Juice Games ', 'Jujubee', 'Jump Over The Age ', 'Just A Pixel ', 'Kaiko ', 'Katauri Interactive', 'Koboldgames ', 'Kuma Reality Games ', 'Kyle Thompson ', 'Kyy Games ', 'L3O Interactive ', 'Lab Zero Games ', 'Left Behind Games ', 'Lichthund ', 'Light Brick ', 'Lion Shield', 'Lo-Fi Games ', 'Love Conquers All Games ', 'Lucky Mountain Games ', 'Lucky Pause ', 'M2', 'M2H', 'MONKEYCRAFT Co. Ltd. ', 'MadCat Interactive Software ', 'Magic Design Studios ', 'Master Creating ', 'Metropolis Software ', 'Micro Application ', 'Mirage Game Studios ', 'Mission Studios ', 'Modern Dream ', 'Mojo Bones ', 'Moon Spider Studio ', 'Moonlight Games ', 'Mosaic Mask ', 'NExT Studios ', 'NVYVE Studios ', 'Namco ', 'Necrophone ', 'Nemesys ', 'Neon Studios', 'NetDevil ', 'New World Computing ', 'Nfusion ', 'Nigoro ', 'Nival Interactive', 'No Brakes Games ', 'Northway Games ', 'Novarama ', 'Nullpointer Games ', 'Numantian Games ', 'Ovosonico ', 'Palindrome Interactive ', 'Parabole ', 'Particle Systems ', 'Paul Helman ', 'Phantagram', 'Pieces Interactive ', 'PolyKnight Games ', 'Primal Software ', 'Psyop Games', 'QLOC ', 'Quantic Dream', 'Rage Software ', 'Rapid Eye Entertainment ', 'Ratbag ', 'Ratloop Games Canada ', 'Razbor Studios ', 'Ready at Dawn ', 'Red Zero Games ', 'Reflexive Entertainment ', 'Replay Games ', 'Reptile', 'Robot Loves Kitty ', 'Rocket Bear Games ', 'SEMISOFT ', 'SQUADTeam', 'Saibot Studios ', 'Sam Barlow ', 'Seaven Studio ', 'Sega AM2 ', 'Shanghai FantaBlade Network Technology Co.', 'Silverback Entertainment ', 'Sir-Tech Software Inc. ', 'Size Five Games ', 'Skrollcat Studios ', 'Skyhook Games ', 'Slitherine', 'Slitherine ', 'Sluggerfly ', 'So Romantic ', 'Soft Enterprises ', 'Somnium Games d.o.o. ', 'Spike Chunsoft Co. Ltd.', 'Squad ', 'Square Enix Montreal ', 'Stage 2 Studios ', 'Straandlooper ', 'Studio Pixel ', 'Sumo Newcastle ', 'SumomGames ', 'Superbrothers', 'Tangrin ', 'Tate Multimedia ', 'Telepaths Tree ', 'Tendershoot ', 'Terri Vellimann ', 'The Chinese Room ', 'The Odd Gentlemen ', 'Third Law Interactive ', 'Thomas van den Berg ', 'Tokyo RPG Factory ', 'Tom Francis ', 'Tomorrow Corporation ', 'TreeFortress Games ', 'True Axis ', 'Tunnel Vision Games ', 'TurtleBlaze ', 'Typhoon Studios ', 'UndeadScout ', 'Unfrozen ', 'Vanguard', 'Variable State ', 'Velan Studios ', 'Visual Concepts ', 'Vox Game Studio', 'Wales Interactive ', 'Warpzone Studios ', 'We Create Stuff ', 'Wicked Studios ', 'X1 Software ', 'Xaviant Games', 'Yakov Butuzoff ', 'Zachtronics Industries ', 'dreamfeel ', 'eBrain Studio ', 'inkle ', 'miHoYo', 'straka.studio ', 'superflat games ', 'teedoubleuGAMES ', 'tinyBuild'] will be ignored\n",
      "  \"unknown class(es) {0} will be ignored\".format(sorted(unknown, key=str))\n"
     ]
    },
    {
     "name": "stdout",
     "output_type": "stream",
     "text": [
      "Epoch 1/20\n",
      "238/238 [==============================] - 18s 74ms/step - loss: 49.3121 - mae: 5.2907 - val_loss: 49.2499 - val_mae: 5.4928\n",
      "Epoch 2/20\n",
      "238/238 [==============================] - 18s 75ms/step - loss: 39.8800 - mae: 4.7526 - val_loss: 46.8222 - val_mae: 5.4954\n",
      "Epoch 3/20\n",
      "238/238 [==============================] - 18s 75ms/step - loss: 36.8254 - mae: 4.5649 - val_loss: 42.6715 - val_mae: 5.1771\n",
      "Epoch 4/20\n",
      "238/238 [==============================] - 18s 74ms/step - loss: 34.1970 - mae: 4.3968 - val_loss: 40.8702 - val_mae: 4.9481\n",
      "Epoch 5/20\n",
      "238/238 [==============================] - 18s 75ms/step - loss: 33.3723 - mae: 4.3047 - val_loss: 42.9808 - val_mae: 5.1781\n",
      "Epoch 6/20\n",
      "238/238 [==============================] - 18s 74ms/step - loss: 32.1656 - mae: 4.2381 - val_loss: 41.7817 - val_mae: 5.1182\n",
      "Epoch 7/20\n",
      "238/238 [==============================] - 18s 74ms/step - loss: 30.8542 - mae: 4.0881 - val_loss: 40.6068 - val_mae: 4.9795\n",
      "Epoch 8/20\n",
      "238/238 [==============================] - 18s 75ms/step - loss: 30.2750 - mae: 4.0477 - val_loss: 38.5356 - val_mae: 4.8716\n",
      "Epoch 9/20\n",
      "238/238 [==============================] - 18s 75ms/step - loss: 29.5041 - mae: 4.0221 - val_loss: 37.0028 - val_mae: 4.7071\n",
      "Epoch 10/20\n",
      "238/238 [==============================] - 18s 74ms/step - loss: 28.9870 - mae: 3.9522 - val_loss: 41.1857 - val_mae: 5.0543\n",
      "Epoch 11/20\n",
      "238/238 [==============================] - 18s 75ms/step - loss: 29.0377 - mae: 3.9687 - val_loss: 37.2850 - val_mae: 4.7352\n",
      "Epoch 12/20\n",
      "238/238 [==============================] - 18s 76ms/step - loss: 27.2399 - mae: 3.8275 - val_loss: 37.2894 - val_mae: 4.7380\n",
      "Epoch 13/20\n",
      "238/238 [==============================] - 18s 75ms/step - loss: 27.5358 - mae: 3.8326 - val_loss: 39.4570 - val_mae: 4.9090\n",
      "Epoch 14/20\n",
      "238/238 [==============================] - 18s 75ms/step - loss: 26.6594 - mae: 3.7669 - val_loss: 37.8899 - val_mae: 4.8296\n",
      "Chunk 6/52 // 9.62% Complete // Cycle 3/3\n"
     ]
    },
    {
     "name": "stderr",
     "output_type": "stream",
     "text": [
      "y:\\ML\\Anaconda\\envs\\TF-GPU\\lib\\site-packages\\sklearn\\preprocessing\\_label.py:876: UserWarning: unknown class(es) [' 10tons ', ' 1C', ' Application Systems Heidelberg ', ' BeautiFun Games ', ' BlackMuffin Studio', ' Bullets ', ' Centauri Production ', ' Char & Torfi ', ' Digital Sun ', ' Dreamworks Games ', ' EA Singapore ', ' Eyeguys ', ' Fair Play Labs ', ' French-Bread ', ' Funatics ', ' Funatics Software', ' General Arcade ', ' Honor Code', ' Immersion Software & Graphics ', ' Ino-Co', ' Ministry of Broadcast Studios ', ' Monkey Moon ', ' Movie Games ', ' Muutsch', ' Now Production', ' Playsport Games Ltd ', ' Pol', ' Ravenscourt', ' Rockstar San Diego ', ' Russia ', ' Soleil', ' Soleil Ltd. ', ' Studio Fizbin ', ' StudioInkyfox ', ' Team Reptile ', ' Thomas Brush ', ' Toylogic ', ' Tribute Games Inc. ', ' VIS Games ', ' Varkian Empire ', '10tons Entertainment', '11 bit studios', '1C-Softclub ', '24 Entertainment ', '3A Games ', 'Alcachofa Soft ', 'Altari Games ', 'Amanita Design ', 'Angel Studios', 'Anim-X ', 'Animation Arts ', 'Application Systems Heidelberg Software GmbH', 'Artificial Studios', 'Arxel Tribe ', 'Asteroid Base ', 'Avalon Style ', 'BEAUTIFUN GAMES SL', 'BLOODIOUS GAMES ', 'Beautiful Glitch ', 'Big Ape Productions ', 'Bit Byterz ', 'Black Mermaid ', 'Black Pants Studio ', 'Blastmode ', 'Blazing Bit Games ', 'Blazing Griffin ', 'Blue Bottle Games ', 'Bombservice ', 'Borealys Games ', 'Broken Rules ', 'BudCat ', 'Capricia Productions ', 'Carlos Coronado ', 'Chance Agency ', 'Charybdis ', 'Cinemax', 'Coffee Powered Machine ', 'Connor Ullmann ', 'Cornfox & Bros. ', 'Crunching Koalas ', 'CyberConnect2', 'Cyberlore Studios ', 'Deep Red ', 'Deibus Studios ', 'Delphine Software International ', 'Detalion ', 'Devolver Digital ', 'Die Gute Fabrik ', 'Digital Dialect ', 'Digital Eclipse ', 'Dinosaur Polo Club ', 'Diversions Entertainment ', 'DrinkBox Studios ', 'Duckbridge ', 'EA Black Box', 'EA Black Box ', 'EA LA', 'EA Seattle ', 'Ecole', 'Eutechnyx ', 'FASA Studio ', 'Finish Line Games ', 'Fizbin', 'From Software', 'Funatics Development GmbH', 'Future Games ', 'GameSourceStudio ', 'Gazillion ', 'Geography of Robots ', 'Gojira ', 'Graceful Decay ', 'Grip Digital ', 'Guru Games ', 'Half Asleep ', 'HappyJuice Games ', 'Harebrained Schemes LLC ', 'Hidden Fields ', 'Himalaya Studios ', 'Holistic Design', 'Homeless Unicorn', 'Housemarque ', 'Humongous Entertainment ', 'Hydravision ', 'ILCA', 'Idol FX ', 'In Utero ', 'Infinitap Games ', 'Infinite Fall ', 'InterServ International ', 'Interwave Studios ', 'Inti Creates ', 'IonFX ', 'Jacob Dzwinel ', 'John Szymanski ', 'Jonas Manke', 'Joon', 'Juggler Games ', 'Just Add Water ', 'KCEJ ', 'KDV Games ', 'Keen Software House ', 'Kitfox Games ', 'Kuju Entertainment ', 'LCB Game Studio ', 'LKA ', 'Lantern Studio ', 'Le Cartel Studio ', 'Leaping Lizard Software Inc. ', 'Level 5 ', 'Lexis Numerique ', 'Limasse Five ', 'Locomalito ', 'Lorenzo Redaelli', 'Ludosity Interactive', 'Max Mraz ', 'Mayhem Studios ', 'Messhof ', 'Metronomik ', 'Minor Key Games ', 'Mithis/HD Interactive ', 'Mohawk Games ', 'Monster Games Inc. ', 'Mooneye Studios ', 'Movie Games ', 'Movie Games S.A.', 'MuHa Games ', 'MumboJumbo ', 'Muzzy Lane Software ', 'NGD Studios ', 'NUDE MAKER', 'Narcosis Team', 'Neotro Inc. ', 'Nepos Games ', 'No Code ', 'Nolla Games ', 'NotGames ', 'Nowhere Studios ', 'Ocean Drive Studio ', 'Oddworld Inhabitants ', 'Oldblood ', 'Ossian Studios ', 'Ovid Works ', 'Panic Barn Ltd ', 'Papyrus ', 'Paradox North ', 'Passtech Games ', 'Pathea Games ', 'Phosphor Games Studio', 'Picaresque Studio ', 'Pieces Interactive ', 'Pinkerton Road Studio ', 'Piranha Games ', 'Pirita Studio ', 'Player First Games ', 'Playful Corp. ', 'Playsport Games', 'Pocketwatch Games ', 'Pollux Gamelabs ', 'Polypusher Studios ', 'Press Play ', 'Presto Studios ', 'Q-Games ', 'Quicksilver Software ', 'Rage Software ', 'Rainbow Studios ', 'Raw Fury', 'Reakktor Media ', 'Red Herring Labs ', 'Red Rocket Games ', 'Related Designs ', 'Render Cube ', 'Renegade Kid ', 'Reptile', 'Rock Pocket Games ', 'Rocket Science Games ', 'Rockstar San Diego ', 'Rogue Factor ', 'Route 59 Games ', 'SMG Studio ', 'Santa Ragione ', 'Sanzaru Games ', 'Saturn+ ', 'Secret Level ', 'Serenity Forge', 'Sharkbomb Studios ', 'Shiny Shoe ', 'Shiro Games ', 'Shiver Games ', 'Sileni Studios ', 'Silver Dollar Games ', 'Silverback Studios ', 'SimTex ', 'Skeleton Crew Studio ', 'Sketchbook Games ', 'Space Dust Studios', 'Spearhead Games ', 'State of Play Games ', 'Still Running ', 'Studio Koba ', 'Sunnyside Games ', 'Supersonic Software ', 'THQ', 'TKO Software ', 'TURBOGUN ', 'Tamsoft ', 'Team Shifty ', 'Termite Games ', 'The Outsiders ', 'Thomas Moon Kang ', 'Tokyo RPG Factory ', 'Tom Hegarty ', 'TopWare Interactive ', 'Toylogic Inc.', 'Tribute Games', 'Triple Eh? Ltd ', 'Triplevision Games ', 'Triternion ', 'Turbo Tape Games ', 'Twice Circled ', 'Uber Entertainment ', 'Unigine Corp', 'Untame ', 'Upper One Games ', 'Veewo Games ', 'Vile Monarch ', 'Virtuos ', 'Visual Concepts ', 'Visual Imagination Software', 'Vlambeer ', 'Wales Interactive ', 'White Birds Productions ', 'Wild Factor ', 'William Chyr Studio LLC ', 'Wizards of the Coast ', 'Y.K. ', 'ZANDEL MEDIA ', 'Zoink! ', 'Zono Inc. ', 'machineboy ', 'roll7 ', 'tiny Build GAMES'] will be ignored\n",
      "  \"unknown class(es) {0} will be ignored\".format(sorted(unknown, key=str))\n"
     ]
    },
    {
     "name": "stdout",
     "output_type": "stream",
     "text": [
      "Epoch 1/20\n",
      "237/237 [==============================] - 18s 76ms/step - loss: 43.5776 - mae: 5.0705 - val_loss: 55.9643 - val_mae: 6.0971\n",
      "Epoch 2/20\n",
      "237/237 [==============================] - 18s 75ms/step - loss: 37.1763 - mae: 4.6456 - val_loss: 49.3957 - val_mae: 5.7132\n",
      "Epoch 3/20\n",
      "237/237 [==============================] - 18s 75ms/step - loss: 33.9413 - mae: 4.4441 - val_loss: 50.2039 - val_mae: 5.7930\n",
      "Epoch 4/20\n",
      "237/237 [==============================] - 18s 75ms/step - loss: 32.2633 - mae: 4.2787 - val_loss: 41.8744 - val_mae: 5.2041\n",
      "Epoch 5/20\n",
      "237/237 [==============================] - 18s 75ms/step - loss: 30.3944 - mae: 4.1557 - val_loss: 42.6978 - val_mae: 5.3029\n",
      "Epoch 6/20\n",
      "237/237 [==============================] - 18s 75ms/step - loss: 28.3750 - mae: 4.0067 - val_loss: 40.2116 - val_mae: 5.0783\n",
      "Epoch 7/20\n",
      "237/237 [==============================] - 18s 76ms/step - loss: 28.3335 - mae: 3.9826 - val_loss: 34.3326 - val_mae: 4.6438\n",
      "Epoch 8/20\n",
      "237/237 [==============================] - 18s 75ms/step - loss: 26.5798 - mae: 3.8604 - val_loss: 35.9016 - val_mae: 4.8121\n",
      "Epoch 9/20\n",
      "237/237 [==============================] - 18s 75ms/step - loss: 26.3031 - mae: 3.8331 - val_loss: 35.3182 - val_mae: 4.7425\n",
      "Epoch 10/20\n",
      "237/237 [==============================] - 18s 75ms/step - loss: 25.7917 - mae: 3.7699 - val_loss: 32.6247 - val_mae: 4.5256\n",
      "Epoch 11/20\n",
      "237/237 [==============================] - 18s 75ms/step - loss: 24.7426 - mae: 3.7038 - val_loss: 31.9867 - val_mae: 4.5005\n",
      "Epoch 12/20\n",
      "237/237 [==============================] - 18s 76ms/step - loss: 25.2634 - mae: 3.7032 - val_loss: 31.5147 - val_mae: 4.4208\n",
      "Epoch 13/20\n",
      "237/237 [==============================] - 18s 75ms/step - loss: 23.9630 - mae: 3.6248 - val_loss: 36.2219 - val_mae: 4.8343\n",
      "Epoch 14/20\n",
      "237/237 [==============================] - 18s 76ms/step - loss: 22.6168 - mae: 3.5221 - val_loss: 33.6829 - val_mae: 4.6299\n",
      "Epoch 15/20\n",
      "237/237 [==============================] - 18s 75ms/step - loss: 23.6941 - mae: 3.6080 - val_loss: 33.9127 - val_mae: 4.6951\n",
      "Epoch 16/20\n",
      "237/237 [==============================] - 18s 75ms/step - loss: 22.8790 - mae: 3.5665 - val_loss: 28.6050 - val_mae: 4.2018\n",
      "Epoch 17/20\n",
      "237/237 [==============================] - 18s 77ms/step - loss: 22.3974 - mae: 3.4927 - val_loss: 30.4576 - val_mae: 4.3978\n",
      "Epoch 18/20\n",
      "237/237 [==============================] - 18s 75ms/step - loss: 22.3416 - mae: 3.5096 - val_loss: 28.3101 - val_mae: 4.2515\n",
      "Epoch 19/20\n",
      "237/237 [==============================] - 18s 75ms/step - loss: 20.9113 - mae: 3.3899 - val_loss: 29.1641 - val_mae: 4.2812\n",
      "Epoch 20/20\n",
      "237/237 [==============================] - 18s 76ms/step - loss: 20.4438 - mae: 3.3350 - val_loss: 26.6822 - val_mae: 4.0670\n",
      "Chunk 7/52 // 11.54% Complete // Cycle 3/3\n"
     ]
    },
    {
     "name": "stderr",
     "output_type": "stream",
     "text": [
      "y:\\ML\\Anaconda\\envs\\TF-GPU\\lib\\site-packages\\sklearn\\preprocessing\\_label.py:876: UserWarning: unknown class(es) ['Text'] will be ignored\n",
      "  \"unknown class(es) {0} will be ignored\".format(sorted(unknown, key=str))\n",
      "y:\\ML\\Anaconda\\envs\\TF-GPU\\lib\\site-packages\\sklearn\\preprocessing\\_label.py:876: UserWarning: unknown class(es) [' AGEOD ', ' Awesome Games Studio ', ' Bigben Games ', ' Bigben Interactive', ' Bounding Box Games ', ' Double Damage Games ', ' Gaming Minds Studios ', ' Hi Corp ', ' Hopoo Games ', ' KTX Software ', ' Leikir Studio ', ' MachineGames ', ' Minority Media Inc. ', ' Monstars Inc.', ' Omen ', ' Pixel Pi Games ', ' Planetary Annihilation Inc ', ' Q-Games ', ' Resonair ', ' Sproing ', ' Stainless Steel Studios ', ' Super Awesome Hyper Dimensional Mega Team ', ' Team Ladybug ', ' WSS Playground', ' Xeen ', '2 Dawn Games ', '34BigThings ', '7 Studios ', 'Abbey Games ', 'Abrakam SA ', 'Alter Games ', 'Antimatter Games ', 'Appeal', 'Arberth Studios ', 'Atomic Motion ', 'Atomic Planet Entertainment ', 'AwesomeGamesStudio', 'Beamdog ', 'Beatnik Games ', 'Big Star Games ', 'Black Rock Studio ', 'Black Shamrock ', 'Blendo Games ', 'Buckshot Software ', 'CCR', 'Cadenza ', 'Camouflaj', 'Cellar Door Games ', 'Chasing Carrots ', 'Chucklefish', 'Clever Plays ', 'Cloudhead Games ', 'Cococucumber ', 'Continuum ', 'Core Design Ltd. ', 'Creat Studios ', 'Creative Bytes ', 'CreativeForge Games ', 'Cyberlore Studios ', 'Daniel Mullins Games ', 'Dapper Penguin Studios ', 'Dark Seas Games ', 'Denby / Raze ', 'Digixart Entertainment', 'Digixart Entertainment ', 'Disney Online ', 'Doctor Entertainment ', 'Double Damage Games', 'Double Damage Games ', 'Double Eleven', 'Double Eleven ', 'DreamCatcher Interactive ', 'Dry Cactus ', 'EasyGameStation ', 'Ed Key and David Kanaga ', 'Fabled Game ', 'Final Strike Games ', 'Finji ', 'Flashback Games ', 'Flippfly ', 'Flying Lab Software ', 'Freeform Interactive LLC ', 'Frostwood Interactive ', 'FuturLab ', 'Gabriel Interactive ', 'Galilea Multimedia ', 'Gaming Minds Studios ', 'Ghost Town Games Ltd. ', 'Grayfax Software ', 'Grinding Gear Games ', 'Hemisphere Games ', 'Homegrown Games ', 'House of Tales ', 'Housemarque', 'Housemarque ', 'ION LANDS ', 'Ice Flames ', 'Ice-Pick Lodge ', 'IllFonic ', 'Impressions Games ', 'Infamous Quests ', 'Innerloop ', 'Interceptor Entertainment ', 'Ironward ', 'IzHard ', 'Jacob Janerka ', 'Jujubee S.A. ', 'K-D Lab ', 'Kaizen Game Works ', 'Koei ', 'Kuju Entertainment ', 'Laura Shigihara ', 'Lazy Bear Games ', 'Lesta Studio ', 'Lightbulb Crew ', 'Lionbite Games ', 'Lucas Pope ', 'Ludeon Studios ', 'Lukewarm Media ', 'Mad Head Games ', 'Mages. ', 'Magiko Gaming ', 'ManaVoid Entertainment Inc. ', 'Mark Healey ', 'Master Creating ', 'Mi-Clos Studio ', 'Midway', 'Might and Delight ', 'Mighty Polygon ', 'Mike and Jason', 'Mindfield Games ', 'Mindware Studios ', 'Minority', 'Mist Land ', 'NG:DEV.TEAM', 'Naked Sky Entertainment ', 'Namco Bandai Games ', 'Nerd Monkeys ', 'Nerial ', 'Nexus Game Studio ', 'Nicolas Meyssonnier ', 'No Goblin ', 'Nodding Heads Games ', 'Now Production', 'NuClearVision ', 'Nvizzio Creations ', 'Object ', 'Old School Games ', 'Osmotic Studios ', 'Out Of The Park Developments ', 'Outrage Games ', 'Owlcat Games ', 'Owlchemy Labs ', 'Paradox Interactive', 'Pasta Games ', 'Patrick Traynor ', 'Phantom 8 ', 'Phantom Compass ', 'Phantomery Interactive ', 'Phigames ', 'Pieces Interactive ', 'Pinokl Games ', 'Pixelated Milk ', 'Plastic Piranha ', 'PolyAmorous ', 'Polygon Treehouse ', 'Polyslash ', 'Proxy Studios ', 'Puppy Games ', 'R8 Games ', 'Radon Labs ', 'RailSimulator.com ', 'Recoil Games ', 'Red Ego Games ', 'Reikon Games ', 'Revival Productions', 'RichMakeGame ', 'Rival Interactive ', 'Robot House ', 'Robotality ', 'Running Dog ', 'SEK Ost ', 'SSI ', 'Screaming Games ', 'Sector D2 ', 'Sectordub ', 'Shining Pixel Studios ', 'Slant Six ', 'Snapshot Games Inc. ', 'Sobaka ', 'SoftWarWare ', 'Softlab-NSK ', 'SomaSim ', 'SouthPeak Games ', 'Spellbind Studios ', 'Sproing Interactive Media', 'Spry Fox ', 'Stormfront Studios ', 'Stormind Games ', 'Sundae Month ', 'Super Mega Team', 'Survios ', 'Tamsoft ', 'Team Oneshot ', 'Team Pixel Pi', 'The Artistocrats ', 'The Bae Team ', 'The Behemoth ', 'The Deep End Games ', 'The Lordz Games Studio ', 'The Tiniest Shark ', 'Thomas Brush ', 'Three Rings ', 'TickTock Games ', 'Tlon Studios ', 'Tomasz Waclawek ', 'Torched Hill ', 'Torus Games ', 'Tour De Pizza ', 'Toxic Games ', 'Tribute Games ', 'Triskell Interactive ', 'Twice Different ', 'Two Tribes ', 'UBlart Montpellier ', 'UGA', 'Uber Entertainment', 'Ultra Runaway Games ', 'Vblank Entertainment Inc. ', 'Vertical Robot ', 'Videocult ', 'Visiware Studios ', 'Vladimir Kudelka ', 'Volatile Games ', 'Voracious Games ', 'Wastelands Interactive ', 'White Birds Productions ', 'Why so serious?', 'Wishfully ', 'Wizarbox ', 'Wormwood Studios ', 'YCJY Games ', 'Yanim Studio ', 'Zeboyd Games ', 'ZootFly ', 'Zordix Racing ', 'comcept ', 'nDreams ', 'neoqb ', 'niceplay games ', 'roll7 ', 'xii games '] will be ignored\n",
      "  \"unknown class(es) {0} will be ignored\".format(sorted(unknown, key=str))\n"
     ]
    },
    {
     "name": "stdout",
     "output_type": "stream",
     "text": [
      "Epoch 1/20\n",
      "238/238 [==============================] - 18s 75ms/step - loss: 47.3171 - mae: 5.1199 - val_loss: 56.0692 - val_mae: 6.0915\n",
      "Epoch 2/20\n",
      "238/238 [==============================] - 18s 74ms/step - loss: 39.2392 - mae: 4.6600 - val_loss: 54.0878 - val_mae: 6.0066\n",
      "Epoch 3/20\n",
      "238/238 [==============================] - 18s 76ms/step - loss: 36.6016 - mae: 4.4515 - val_loss: 48.9627 - val_mae: 5.5576\n",
      "Epoch 4/20\n",
      "238/238 [==============================] - 18s 75ms/step - loss: 33.0377 - mae: 4.1889 - val_loss: 47.4187 - val_mae: 5.4441\n",
      "Epoch 5/20\n",
      "238/238 [==============================] - 18s 76ms/step - loss: 33.0695 - mae: 4.1680 - val_loss: 42.9459 - val_mae: 5.0964\n",
      "Epoch 6/20\n",
      "238/238 [==============================] - 18s 75ms/step - loss: 30.9561 - mae: 4.0118 - val_loss: 39.8100 - val_mae: 4.8874\n",
      "Epoch 7/20\n",
      "238/238 [==============================] - 18s 75ms/step - loss: 29.5485 - mae: 3.9348 - val_loss: 43.7541 - val_mae: 5.2322\n",
      "Epoch 8/20\n",
      "238/238 [==============================] - 18s 75ms/step - loss: 28.4805 - mae: 3.8505 - val_loss: 41.9713 - val_mae: 5.0837\n",
      "Epoch 9/20\n",
      "238/238 [==============================] - 18s 76ms/step - loss: 27.9039 - mae: 3.8234 - val_loss: 39.4254 - val_mae: 4.9446\n",
      "Epoch 10/20\n",
      "238/238 [==============================] - 18s 75ms/step - loss: 27.5963 - mae: 3.7809 - val_loss: 42.2470 - val_mae: 5.1944\n",
      "Epoch 11/20\n",
      "238/238 [==============================] - 18s 75ms/step - loss: 27.4987 - mae: 3.7622 - val_loss: 39.4557 - val_mae: 4.9859\n",
      "Epoch 12/20\n",
      "238/238 [==============================] - 18s 75ms/step - loss: 26.2698 - mae: 3.7295 - val_loss: 38.5139 - val_mae: 4.9289\n",
      "Epoch 13/20\n",
      "238/238 [==============================] - 18s 76ms/step - loss: 25.7637 - mae: 3.6620 - val_loss: 36.8898 - val_mae: 4.8000\n",
      "Epoch 14/20\n",
      "238/238 [==============================] - 18s 75ms/step - loss: 25.3673 - mae: 3.6424 - val_loss: 40.9896 - val_mae: 5.1188\n",
      "Epoch 15/20\n",
      "238/238 [==============================] - 18s 76ms/step - loss: 25.5614 - mae: 3.6358 - val_loss: 39.6888 - val_mae: 4.9905\n",
      "Epoch 16/20\n",
      "238/238 [==============================] - 18s 75ms/step - loss: 24.1093 - mae: 3.5404 - val_loss: 40.2111 - val_mae: 5.0810\n",
      "Epoch 17/20\n",
      "238/238 [==============================] - 18s 75ms/step - loss: 24.0421 - mae: 3.4989 - val_loss: 38.9314 - val_mae: 4.9549\n",
      "Epoch 18/20\n",
      "238/238 [==============================] - 18s 76ms/step - loss: 22.9677 - mae: 3.4467 - val_loss: 37.4050 - val_mae: 4.8389\n",
      "Chunk 8/52 // 13.46% Complete // Cycle 3/3\n"
     ]
    },
    {
     "name": "stderr",
     "output_type": "stream",
     "text": [
      "y:\\ML\\Anaconda\\envs\\TF-GPU\\lib\\site-packages\\sklearn\\preprocessing\\_label.py:876: UserWarning: unknown class(es) [' Animation Arts ', ' Atlus ', ' Bitworks ', ' Black Wing Foundation ', ' Cauldron Ltd. ', ' Cliffhanger Productions ', ' Coatsink Software ', ' Dead Mage ', ' Devoured Studios ', ' EA Redwood Shores ', ' Elemental Games', ' Engine Software ', ' Factor 5 ', ' Fire Face ', ' Gamasoft ', ' Games Farm s.r.o. ', ' Infinite Interactive ', ' Introversion Software ', ' Jo-Mei Games ', ' Just Add Water', ' Kaigan Games ', ' Krome Studios ', ' Marvelous AQL ', ' Mixed Realms ', ' Mossmouth ', ' Multiverse ', ' Project Soul ', ' Red Storm Entertainment ', ' Shaba Games ', ' Studio 369 ', ' Studio Fizbin ', ' Terri Vellmann & Doseone ', ' Vlambeer ', ' d3t Ltd ', '17-Bit ', '5 Lives Studios ', '5000ft Inc. ', '5TH Cell ', 'Activision', 'Alan Hazelden & Harry Lee ', 'Amanita Design ', 'Animation Arts ', 'Artdink', 'Artifice Studio ', 'Artificer ', 'Arxel Tribe ', 'Asymmetric Publications ', 'Bandai Namco Games', 'Beau Blyth ', 'Big Robot Ltd ', 'Black Element ', 'Black Lab Games ', 'Black Lion Studios ', 'Black Rock Studio ', 'Bloodirony ', 'Broken Rules ', 'Bullfrog Productions ', 'CBE software ', 'Cadenza ', 'Cat Daddy Games ', 'Choice Provisions ', 'Chucklefish ', 'Cliffhanger Productions', 'Cracked Heads Games ', 'Crackshell ', 'Crea-ture Studios ', 'Croteam', 'DAMAGE STATE LTD ', 'DarkStar Games ', 'Dead Mage Studio', 'Deep Red ', 'Den-Yu-Sha ', 'Derek Yu', 'Detalion ', 'DoubleDutch Games ', 'Douze Dixiemes ', 'Dramatic Labs ', 'Draw Distance ', 'Ebb Software ', 'Echodog Games ', 'Edelweiss ', 'Egidijus Bachur ', 'Enigami ', 'Enlight Software', 'Escape ', 'Extend Interactive ', 'FASA Studio ', 'FLOW COMBINE ', 'Facepunch Studios ', 'Finish Line Games ', 'FishTankStudio ', 'Fizbin', 'Fizz Factor ', 'Flying Oak Games ', 'Free Radical Design ', 'Free Reign Entertainment ', 'Fusionsphere Systems', 'Fusionsphere Systems ', 'Games Farm', 'Games Farm ', 'Garage 227 ', 'Genetic Anomalies ', 'Glass Bottom Games ', 'Greylock Studio ', 'Grimlore Games ', 'HAKAMA ', 'Harebrained Schemes LLC ', 'Human Head Studios', 'IMGN.PRO ', 'Infogrames ', 'Introversion', 'Ironward ', 'Italic Pig ', 'Jesse Makkonen ', 'Jumpship ', 'Jutsu Games ', 'Kaigan Games OU', 'LGK Games ', 'MPS Labs ', 'Mad Head Games ', 'MadLightStudio ', 'Malfador Machinations ', 'Mandragora ', 'Massive Damage', 'Maxis', 'Mega Crit Games ', 'Meridian4 ', 'Meteorise ', 'Metropolis Software ', 'Might and Delight ', 'Mimimi Games ', 'MinMax Games Ltd. ', 'Mind over Matter ', 'Minds-Eye Productions ', 'Mixed Realms Pte Ltd', \"Mommy's Best Games \", 'Monomi Park ', 'Morgondag ', 'Mossmouth', 'Multiverse Games', 'Murudai ', 'Mystic Box ', 'N-Game Studios', 'Naked Sky Entertainment ', 'Nexon ', 'Night Dive Studios ', 'Nucleosys ', 'Nyamakop ', 'Okugi Studio ', 'Oovee Game Studios ', 'Owen Deery', 'Owned by Gravity ', 'Passtech Games ', 'Protocol Games ', 'Provox Games ', 'Pulsetense Games ', 'Rebellion', 'Rebelmind ', 'Red Blue Games ', 'Redlock Studio ', 'Reflexive Entertainment ', 'Reply Game Studios ', 'Retro Affect ', 'Retro Forge ', 'Right Nice Games ', 'Rotobee ', 'Runecraft ', 'Runewaker Entertainment ', 'Runner Duck ', 'SEGA Racing Studio ', 'SNK Corporation ', 'Sabotage Studio ', 'Samurai Punk ', 'Santa Ragione ', 'Scavengers Studio ', 'Seamless Entertainment', 'Shed-Works ', 'Sidhe Interactive ', 'Silver Style ', 'Ska Studios', 'Skunkape Games ', 'Skyshine Games ', 'Slitherine ', 'Sloclap ', 'Sneaky Yak Studio ', 'Solar Sail Games ', 'Something Classic Games LLC ', 'SouthPAW Games ', 'Southend Interactive ', 'Space Bullet Dynamics Corporation ', 'Sperasoft ', 'Spiral Circus ', 'Splashteam ', 'Star Gem Inc. ', 'State of Play Games ', 'Survios ', 'Swing Swing Submarine ', 'Tactical Adventures ', 'Taito Corporation ', 'Taldren ', 'Tamsoft', 'Tamsoft ', 'Team Gotham ', 'Terri Vellimann', 'Totally Games ', 'Treyarch', 'Ultimation Inc. ', 'Unicube ', 'Uprising Studios ', 'VSTEP ', 'Valkyrie Studios ', 'Vblank Entertainment Inc. ', 'Vine ', 'Vivid Games ', 'Wadjet Eye Games ', 'Wales Interactive ', 'WayForward ', 'White Birds Productions ', 'Wings Simulations ', 'Wolf Brew Games ', 'Wolfpack Studios ', 'XYLA Entertainment ', 'Youxiland', 'Ysbryd Games ', 'Zachtronics Industries ', 'Zojoi Studios ', 'iFun4all ', 'inkle ', 'rose-engine ', 'stillalive studios '] will be ignored\n",
      "  \"unknown class(es) {0} will be ignored\".format(sorted(unknown, key=str))\n"
     ]
    },
    {
     "name": "stdout",
     "output_type": "stream",
     "text": [
      "Epoch 1/20\n",
      "242/242 [==============================] - 18s 75ms/step - loss: 39.6188 - mae: 4.8359 - val_loss: 43.2624 - val_mae: 5.2488\n",
      "Epoch 2/20\n",
      "242/242 [==============================] - 18s 75ms/step - loss: 32.4680 - mae: 4.3853 - val_loss: 40.6277 - val_mae: 5.0889\n",
      "Epoch 3/20\n",
      "242/242 [==============================] - 18s 75ms/step - loss: 29.6705 - mae: 4.1268 - val_loss: 36.2663 - val_mae: 4.7913\n",
      "Epoch 4/20\n",
      "242/242 [==============================] - 18s 76ms/step - loss: 27.2235 - mae: 3.9638 - val_loss: 37.0100 - val_mae: 4.8521\n",
      "Epoch 5/20\n",
      "242/242 [==============================] - 18s 75ms/step - loss: 25.9352 - mae: 3.8275 - val_loss: 33.5922 - val_mae: 4.5629\n",
      "Epoch 6/20\n",
      "242/242 [==============================] - 18s 76ms/step - loss: 24.7427 - mae: 3.7303 - val_loss: 34.1003 - val_mae: 4.6167\n",
      "Epoch 7/20\n",
      "242/242 [==============================] - 18s 76ms/step - loss: 24.2002 - mae: 3.6759 - val_loss: 34.5716 - val_mae: 4.6102\n",
      "Epoch 8/20\n",
      "242/242 [==============================] - 18s 76ms/step - loss: 23.3831 - mae: 3.6063 - val_loss: 33.7963 - val_mae: 4.5837\n",
      "Epoch 9/20\n",
      "242/242 [==============================] - 18s 75ms/step - loss: 22.6328 - mae: 3.5321 - val_loss: 34.5955 - val_mae: 4.6045\n",
      "Epoch 10/20\n",
      "242/242 [==============================] - 18s 76ms/step - loss: 21.5396 - mae: 3.4242 - val_loss: 31.4142 - val_mae: 4.3844\n",
      "Epoch 11/20\n",
      "242/242 [==============================] - 18s 75ms/step - loss: 21.6467 - mae: 3.4660 - val_loss: 33.7927 - val_mae: 4.5026\n",
      "Epoch 12/20\n",
      "242/242 [==============================] - 18s 75ms/step - loss: 20.6994 - mae: 3.3494 - val_loss: 32.0212 - val_mae: 4.3905\n",
      "Epoch 13/20\n",
      "242/242 [==============================] - 18s 75ms/step - loss: 20.5850 - mae: 3.3575 - val_loss: 37.2573 - val_mae: 4.7310\n",
      "Epoch 14/20\n",
      "242/242 [==============================] - 18s 75ms/step - loss: 19.4795 - mae: 3.2842 - val_loss: 31.8468 - val_mae: 4.3801\n",
      "Epoch 15/20\n",
      "242/242 [==============================] - 18s 75ms/step - loss: 19.3845 - mae: 3.2328 - val_loss: 32.1708 - val_mae: 4.3928\n",
      "Chunk 9/52 // 15.38% Complete // Cycle 3/3\n"
     ]
    },
    {
     "name": "stderr",
     "output_type": "stream",
     "text": [
      "y:\\ML\\Anaconda\\envs\\TF-GPU\\lib\\site-packages\\sklearn\\preprocessing\\_label.py:876: UserWarning: unknown class(es) ['Text', 'Trainer'] will be ignored\n",
      "  \"unknown class(es) {0} will be ignored\".format(sorted(unknown, key=str))\n",
      "y:\\ML\\Anaconda\\envs\\TF-GPU\\lib\\site-packages\\sklearn\\preprocessing\\_label.py:876: UserWarning: unknown class(es) [' Awaken Realms ', ' B.B.Studio ', ' Co. LTD ', ' Deck Nine Games ', ' Digital Eclipse ', ' Dire Wolf Digital ', ' Do My Best Games ', ' Endnight Studios ', ' Florian Himsl ', ' Fullbright ', ' Furious Bee ', ' Ishtar Games Inc. ', ' King Art Games ', ' Koalabs ', ' Point Blank ', ' Quasar ', ' Question ', ' Ragequit Corporation ', ' Skookum Arts ', ' Slitherine ', ' Splendy Games ', ' Studio Fizbin ', ' Super Awesome Hyper Dimensional Mega Team ', ' Tyler Glaiel  ', ' Uppercut Games Pty Ltd ', ' XPEC Entertainment Inc. ', ' YCJY Games ', '10tons ', '3D2 Entertainment ', '4Head Studios ', 'AGO Games ', 'ARS GOETIA ', 'Abstraction Games ', 'Abyss Gameworks ', 'Act 3 Games', 'Akabaka ', 'Akella', 'Arcen Games', 'Artefacts Studio ', 'Artificial Mind and Movement ', 'Arxel Tribe ', 'Ashdar Games ', 'Attention To Detail ', 'Awaceb ', 'Awaken Realms Digital', 'Awfully Nice Studios ', 'Bad Viking ', 'Banpresto', 'Baroque Decay ', 'BattleGoat Studios ', 'Beethoven & Dinosaur ', 'Bellular Studios ', 'Big Ant Studios ', 'Big Finish Games ', 'Bkom ', 'Blackmill Games ', 'Blue 52 ', 'Blue Tongue Entertainment ', 'BonusXP ', 'Bossa Studios ', 'Braingame ', 'Brainwash Gang ', 'CCCP', 'Caligari Games ', 'Camel 101 ', 'Capy Games ', 'Chasing Rats Games ', 'Chibig ', 'Choice Provisions ', 'Cloak and Dagger Games ', 'Cockroach Inc. ', 'Color Gray Games ', 'Convict Games ', 'Cosmo D Studios ', 'Cranberry Production ', 'Crema Games ', 'Cryo Interactive ', 'Cultic Games ', 'Curve Digital ', 'Curve Studios ', 'Daedalic Studio West ', 'Dancing Dragon games ', 'Daniel Benmergui ', 'Darkling Room ', 'Davey Wreden ', 'Deconstructeam ', 'Destroyer Studios ', 'Dialogue Design ', 'Digital Sun ', 'Dimps Corporation ', 'Dragon Slumber ', 'DreamCatcher Interactive ', 'Droqen ', 'Echo Chamber Games ', 'Eden Studios ', 'Edmund McMillen', 'Ellipse Studios ', 'Embers ', 'Empty Clip Studios ', 'Enhance Games ', 'Exakt ', 'FIX Korea', 'Failbetter Games ', 'Fairyship Games ', 'Fireglow ', 'Fizbin', 'Free Lives ', 'Fury Software ', 'Future Games ', 'Galilea Multimedia ', 'Game Freak ', 'GameCo ', 'Gaming Corps AB ', 'GhostShark Games ', 'GoldKnights Studio ', 'GolemLabs ', 'Grimorio of Games ', 'Grip Games ', 'Happy Volcano ', 'Harvester Games ', 'Headup Games ', 'House of Tales ', 'IF Games ', 'IMC Games ', 'Illusion Ray Studio ', 'Image & Form ', 'Inevitable Entertainment ', 'Iron Tower Studio ', 'James Interactive ', 'Jason Rohrer ', 'Joe Richardson ', 'Johamm Tael & Mihkel Tael ', 'KING Art', 'Kamehan Studios ', 'Kite Games ', 'Konami', 'Ladyluck Digital Media ', 'Leonard Menchiari ', 'Lexis Numerique ', \"Lion's Shade \", 'Little Green Men ', 'Locomalito ', 'M2 ', 'Magic Lantern ', 'Magitech ', 'Mana Games ', 'Marvelous Inc. ', \"Mi'pu'mi Games \", 'Microids', 'Midway ', 'Mighty Yell ', 'Minds-Eye Productions ', 'Modern Storyteller ', 'Monochrome Paris ', 'Mouldy Toof Studios ', 'Mucky Foot Productions ', 'Neon Doctrine ', 'Neon Giant ', 'Nicalis ', 'Night Dive Studios ', 'No Bull Intentions ', 'No Code ', 'Noumena Productions ', 'Numinous Games ', 'Odd Bug Studio ', 'Omni Creative Group ', 'Orthogonal Games ', 'Over The Moon ', 'Owl Cave ', 'Paranoid Productions ', 'Paul Cuisset ', 'Pewter Games Studios ', 'Pillow Castle Games ', 'Pixel Titans ', 'Pixelogic ', 'Plot Twist ', 'Point Blank Games', 'PostMod Softworks ', 'Power Struggle Games ', 'Psyche Studios ', 'Punk Notion ', 'Puuba ', 'Question ', 'Questionary', 'RLR Training Inc ', 'Rain Games ', 'Random Potion Oy ', 'Rebelmind ', 'Rival Games Ltd ', 'Rusty Lake ', 'SKS Games', 'Sabotage Studio ', 'Sam Barlow', 'Serellan LLC ', 'Serenity Forge ', 'Sever ', 'Shark Punch ', 'Sierra Entertainment ', 'Sigtrap Games ', 'Skookum Arts LLC', 'SkyBox Labs ', 'SkyGoblin ', 'Sleepless Clinic ', 'Sleepy Sentry ', 'Slendy Interactive', 'Slitherine Software', 'Smoking Car Productions ', 'Spearhead Games ', 'Spooky Doorway ', 'Strangelite ', 'Strike Vector Team', 'Stubby Games ', 'Studio Seufz ', 'Summerfall Studios ', 'Super Mega Team', 'Surreal Software ', 'Swing Swing Submarine ', 'THE BROTHERHOOD ', 'Taldren ', 'Tale of Tales ', 'Tate Multimedia ', 'Team Gotham ', 'Technocrat ', 'Teotl Studios ', 'The Artistocrats ', 'The Bitmap Brothers ', 'The Collective ', 'The Fullbright Company', 'The Molasses Flood ', 'The Odd Gentlemen ', 'The Voxel Agents ', 'Third Wire ', 'Thunkd ', 'Tomas Sala ', 'Torpor Games ', 'Tribute Games ', 'Tuxedo Labs ', 'Ty Taylor and Mario Castaneda ', 'Uber Entertainment ', 'Ubisoft Annecy ', 'Uppercut Games', 'Uppercut Games Pty Ltd ', 'VRESKI ', 'ValuSoft ', 'Vertex4 ', 'Wadjet Eye Games ', 'Wales Interactive ', 'White Owls ', 'White Paper Games ', 'Wideload Games Inc. ', 'Wonderstruck Games ', 'WorldForge ', 'Wormwood Studios ', 'Xilam ', 'Xpec', 'YCJY', 'Zenimax Online Studios ', 'Zenovia ', 'Zero Sum Games ', 'Zoink! ', 'eSim Games ', 'h.a.n.d. Inc. ', 'increpare ', 'mif2000 ', 'nDreams ', 'tinyBuild'] will be ignored\n",
      "  \"unknown class(es) {0} will be ignored\".format(sorted(unknown, key=str))\n"
     ]
    },
    {
     "name": "stdout",
     "output_type": "stream",
     "text": [
      "Epoch 1/20\n",
      "236/236 [==============================] - 18s 76ms/step - loss: 43.1410 - mae: 4.9129 - val_loss: 49.9236 - val_mae: 5.5902\n",
      "Epoch 2/20\n",
      "236/236 [==============================] - 18s 75ms/step - loss: 38.7015 - mae: 4.6291 - val_loss: 55.4151 - val_mae: 6.0603\n",
      "Epoch 3/20\n",
      "236/236 [==============================] - 18s 75ms/step - loss: 36.2441 - mae: 4.4509 - val_loss: 54.2866 - val_mae: 5.9524\n",
      "Epoch 4/20\n",
      "236/236 [==============================] - 18s 75ms/step - loss: 33.5291 - mae: 4.2609 - val_loss: 50.4359 - val_mae: 5.7427\n",
      "Epoch 5/20\n",
      "236/236 [==============================] - 18s 76ms/step - loss: 32.0268 - mae: 4.1747 - val_loss: 48.0505 - val_mae: 5.5832\n",
      "Epoch 6/20\n",
      "236/236 [==============================] - 18s 75ms/step - loss: 31.7399 - mae: 4.1568 - val_loss: 44.6368 - val_mae: 5.3374\n",
      "Epoch 7/20\n",
      "236/236 [==============================] - 18s 76ms/step - loss: 30.2405 - mae: 4.0304 - val_loss: 47.8115 - val_mae: 5.5322\n",
      "Epoch 8/20\n",
      "236/236 [==============================] - 18s 76ms/step - loss: 29.2513 - mae: 3.9830 - val_loss: 46.6079 - val_mae: 5.5091\n",
      "Epoch 9/20\n",
      "236/236 [==============================] - 18s 76ms/step - loss: 28.3038 - mae: 3.8715 - val_loss: 47.5923 - val_mae: 5.5281\n",
      "Epoch 10/20\n",
      "236/236 [==============================] - 18s 76ms/step - loss: 27.4907 - mae: 3.8377 - val_loss: 48.9100 - val_mae: 5.6429\n",
      "Epoch 11/20\n",
      "236/236 [==============================] - 18s 76ms/step - loss: 27.2567 - mae: 3.7981 - val_loss: 45.4836 - val_mae: 5.4078\n",
      "Chunk 10/52 // 17.31% Complete // Cycle 3/3\n"
     ]
    },
    {
     "name": "stderr",
     "output_type": "stream",
     "text": [
      "y:\\ML\\Anaconda\\envs\\TF-GPU\\lib\\site-packages\\sklearn\\preprocessing\\_label.py:876: UserWarning: unknown class(es) ['Text'] will be ignored\n",
      "  \"unknown class(es) {0} will be ignored\".format(sorted(unknown, key=str))\n",
      "y:\\ML\\Anaconda\\envs\\TF-GPU\\lib\\site-packages\\sklearn\\preprocessing\\_label.py:876: UserWarning: unknown class(es) [' 1C', ' 2K Sports ', ' Atlantis Interactive Entertainment ', ' CINIC Games ', ' Cavalier Game Studios ', ' Cherrymochi ', ' Crenetic Studios ', ' Crows Crows Crows ', ' Drool ', ' Duality Games ', ' Hotta Studio ', ' KRAFTON Inc. ', ' Kukouri Mobile Entertainment ', ' Mercenary Technologies ', ' ONEOONE GAMES ', ' Pieces Interactive ', ' Sumo Nottingham ', ' Supergonk ', ' Team Toro ', ' Ubisoft Paris ', ' Xeen ', ' btf ', '101%', '258 Productions AB ', '2By3 Games ', '2x2 Games ', '49Games ', 'AGEOD ', 'AREA35 ', 'Acid Nerve ', 'Adeline Software ', 'Alawar Premium ', 'Alien Pixel Studios ', 'Antagonist ', 'Ares Dragonis ', 'Artdink ', 'Aspyr', 'Atlantis Interactive Entertainment\\t', 'Auran ', 'Backwoods Entertainment ', 'Battlefront.com', 'Big Robot Ltd ', 'Black Pants ', 'Blendo Games ', 'BlueGiant Interactive ', 'Brainy Studio LLC ', 'BreakAway Games ', 'Bulkhead Interactive ', 'Burut Software ', 'C.I.N.I.C. Games', 'Camel 101 ', 'Can Explode ', 'Carbon Studio ', 'Cavedog Entertainment ', 'Chaos Concept ', 'Cinemaware ', 'Click Entertainment ', 'Colibri Games ', 'ComonGames ', 'Computer Artworks ', 'Core Design Ltd. ', 'Cowardly Creations ', 'DNS Development ', 'Dan Smith Studios ', 'Davey Wreden ', 'Daydream Software ', 'Deadline Games ', 'Deconstructeam ', 'Deep Red ', 'Double Zero One Zero ', 'Draw Me A Pixel ', 'Dual Effect ', 'Duality Studio', 'Dynamix ', 'EXOR Studios ', 'Echtra Games', 'Event Horizon Software ', 'Expansive Worlds ', 'Facepalm Games ', 'Falling Squirrel ', 'Feral Interactive ', 'Fireart Games ', 'Fireproof Games ', 'Flazm ', 'Freebird Games ', 'Frog City Software ', 'Frogwares', 'GRIN', 'Galactic Cafe', 'Game-Labs ', 'Gatling Goat Studios ', 'Gato Salvaje Studio ', 'Gigawatt Studios ', 'Grasshopper Manufacture ', 'Grip Games ', 'Gun Interactive', 'Headup Games', 'High Moon Studios', 'Humanature Studios ', 'HyperBole Studios ', 'ISOMETRICORP Games ', 'Ice-Pick Lodge ', 'Iceberg Interactive', 'Iridium Studios ', 'Iron Lore Entertainment', 'Ironward ', 'KT Racing ', 'Kite Games ', 'LEAP Game Studios ', 'LKA ', 'Luis Antonio ', 'Luxoflux', 'Maddy Thorson ', 'Minority Media Inc. ', 'Modern Dream ', 'Moonlight Kids ', 'Morbidware ', 'Most Wanted Entertainment ', 'MuHa Games ', 'Naughty Dog', 'Neversoft Entertainment ', 'Nevrax ', 'Nicely Crafted ', 'Night Dive Studios ', 'Norsfell ', 'Numantian Games ', 'OhNoo ', 'One Bit Beyond ', 'OtherSide Entertainment ', 'OverBorder Studio ', 'Paintbucket Games ', 'Pixwerk ', 'Playmestudio ', 'Pocketwatch Games ', 'Point of View ', 'Prograph ', 'Propaganda Games ', 'Proxima Beta Europe B.V.', 'Puuba ', 'Puzzling Dream ', 'Rat King Entertainment ', 'Red Storm Entertainment', 'Replay Studios', 'Rogue Sun ', 'Ron Gilbert and Gary Winnick ', 'SMAC Games ', 'Shifting Tides ', 'Size Five Games ', 'Skybound LLC', 'Skydance Interactive ', 'Something We Made ', 'SpectreVision ', 'Spidersoft', 'Splashteam ', 'Spooky Squid Games ', 'Stormling Studios ', 'Streko-Graphics Inc. ', 'Stygian Software ', 'SuperPAC ', 'SuperSexySoftware ', 'Supergonk Ltd.', 'Surreal Software ', 'Survios ', 'Swordtales ', 'Terrible Posture Games ', 'The Station ', 'Timeline Computer Entertainment ', 'Tin Man Games ', 'Tragnarion Studios ', 'Trecision ', 'Trepang Studios ', 'Two Tribes ', 'TwoPM Studios ', 'Ubisoft Blue Byte ', 'Ubisoft Milan ', 'Ubisoft Singapore ', 'Urban Games ', 'Urnique Studio ', 'Vicarious Visions ', 'Vitamin G Studios ', 'Wadjet Eye Games ', 'Whatboy Games ', 'Yukon Wainczak ', 'Zombie Cow Studios ', '[bracket]games ', 'btf GmbH', 'damiansommer ', 'dietzribi ', 'drool Games', 'fragOut Studio', 'neo Software ', 'tobyfox '] will be ignored\n",
      "  \"unknown class(es) {0} will be ignored\".format(sorted(unknown, key=str))\n"
     ]
    },
    {
     "name": "stdout",
     "output_type": "stream",
     "text": [
      "Epoch 1/20\n",
      "242/242 [==============================] - 19s 76ms/step - loss: 34.2649 - mae: 4.3992 - val_loss: 41.2739 - val_mae: 5.3055\n",
      "Epoch 2/20\n",
      "242/242 [==============================] - 18s 76ms/step - loss: 30.6202 - mae: 4.1287 - val_loss: 42.6413 - val_mae: 5.3910\n",
      "Epoch 3/20\n",
      "242/242 [==============================] - 18s 76ms/step - loss: 27.8964 - mae: 3.9090 - val_loss: 38.7387 - val_mae: 5.1385\n",
      "Epoch 4/20\n",
      "242/242 [==============================] - 18s 75ms/step - loss: 26.7439 - mae: 3.7983 - val_loss: 38.9461 - val_mae: 5.1116\n",
      "Epoch 5/20\n",
      "242/242 [==============================] - 18s 76ms/step - loss: 25.7963 - mae: 3.6850 - val_loss: 38.3767 - val_mae: 5.0775\n",
      "Epoch 6/20\n",
      "242/242 [==============================] - 18s 75ms/step - loss: 24.6476 - mae: 3.6246 - val_loss: 34.7859 - val_mae: 4.8091\n",
      "Epoch 7/20\n",
      "242/242 [==============================] - 18s 75ms/step - loss: 23.9860 - mae: 3.5509 - val_loss: 33.0712 - val_mae: 4.6067\n",
      "Epoch 8/20\n",
      "242/242 [==============================] - 18s 75ms/step - loss: 22.1017 - mae: 3.4195 - val_loss: 33.7179 - val_mae: 4.6694\n",
      "Epoch 9/20\n",
      "242/242 [==============================] - 18s 75ms/step - loss: 22.5860 - mae: 3.4246 - val_loss: 32.0912 - val_mae: 4.5920\n",
      "Epoch 10/20\n",
      "242/242 [==============================] - 18s 76ms/step - loss: 22.0434 - mae: 3.3547 - val_loss: 33.0977 - val_mae: 4.6211\n",
      "Epoch 11/20\n",
      "242/242 [==============================] - 18s 75ms/step - loss: 21.2963 - mae: 3.3249 - val_loss: 35.6344 - val_mae: 4.8613\n",
      "Epoch 12/20\n",
      "242/242 [==============================] - 18s 75ms/step - loss: 20.3028 - mae: 3.2105 - val_loss: 30.4634 - val_mae: 4.4289\n",
      "Epoch 13/20\n",
      "242/242 [==============================] - 18s 76ms/step - loss: 20.0522 - mae: 3.1960 - val_loss: 31.6020 - val_mae: 4.5580\n",
      "Epoch 14/20\n",
      "242/242 [==============================] - 18s 75ms/step - loss: 19.9673 - mae: 3.1982 - val_loss: 34.4791 - val_mae: 4.7888\n",
      "Epoch 15/20\n",
      "242/242 [==============================] - 18s 74ms/step - loss: 19.4996 - mae: 3.1384 - val_loss: 31.7382 - val_mae: 4.5802\n",
      "Epoch 16/20\n",
      "242/242 [==============================] - 18s 76ms/step - loss: 19.0138 - mae: 3.0780 - val_loss: 28.7848 - val_mae: 4.3013\n",
      "Epoch 17/20\n",
      "242/242 [==============================] - 18s 75ms/step - loss: 18.3113 - mae: 3.0306 - val_loss: 30.3178 - val_mae: 4.4566\n",
      "Epoch 18/20\n",
      "242/242 [==============================] - 18s 76ms/step - loss: 18.1401 - mae: 3.0487 - val_loss: 32.2741 - val_mae: 4.5785\n",
      "Epoch 19/20\n",
      "242/242 [==============================] - 18s 75ms/step - loss: 18.0172 - mae: 3.0143 - val_loss: 31.1296 - val_mae: 4.5855\n",
      "Epoch 20/20\n",
      "242/242 [==============================] - 18s 75ms/step - loss: 17.9407 - mae: 3.0335 - val_loss: 32.0932 - val_mae: 4.6375\n",
      "Chunk 11/52 // 19.23% Complete // Cycle 3/3\n"
     ]
    },
    {
     "name": "stderr",
     "output_type": "stream",
     "text": [
      "y:\\ML\\Anaconda\\envs\\TF-GPU\\lib\\site-packages\\sklearn\\preprocessing\\_label.py:876: UserWarning: unknown class(es) [' 3DClouds ', ' Avalanche Software ', ' Behaviour Interactive ', ' Blackmill Games ', ' Cape Guy ', ' Eurocom ', ' Flashback Games ', ' Forever Entertainment ', ' Goldhawk Interactive ', ' Gone North Games ', ' In Images ', ' KADOKAWA CORPORATION ', ' Lab42 ', ' ML Enterprises ', ' Mandel ArtPlains ', ' Persha Studia ', ' Reborn Games Inc. ', ' Revistronic ', ' Soleil Ltd. ', ' Sumo Digital Academy ', ' Talawa Games ', ' Toylogic ', ' Visual Concepts ', ' comcept ', ' iNK Stories ', '110 Industries', '1P2P ', '2x2 Games ', '3000AD', '3DClouds.it', '5 Lives Studios ', 'Accidental Queens ', 'Ackkstudios ', 'Acquire ', 'Action Button Entertainment ', 'Alientrap ', 'Arcen Games', 'Asymmetric Publications ', 'Auroch Digital ', 'B-Alive ', 'Baroque Decay ', 'Behaviour Interactive Inc.', 'Black Cactus ', 'Black Lab Games ', 'Black Sea Studios ', 'Blue Manchu ', 'Bojan Brbora ', 'Brave at Night ', 'BreakAway Games ', 'Bulwark Studios ', 'Celeris ', 'Chucklefish ', 'Clifftop Games ', 'Coldwood Interactive ', 'Complex Games Inc. ', 'Cordens Interactive ', 'Cornered Rat ', 'Crazy Viking Studios ', 'Crocodile Entertainment ', 'Deadline Games ', 'Deadpan Games ', 'Deep Red ', 'Dejobaan Games ', 'Devespresso Games ', 'Different Tales ', 'Digital Spray Studios', 'Digixart Entertainment ', 'Dim Bulb Games ', 'Direct Action Games ', 'DotEmu ', 'Draw Distance ', 'Dream Execution ', 'Dumb and Fat Games ', 'EVC ', 'EXOR Studios ', 'Eden Industries ', 'Emobi Games ', 'Endless Fluff ', 'Eurocom Entertainment Software', 'FarmerGnome ', 'Fast Travel Games ', 'Fatbot Games ', 'Fatshark AB ', 'Forever Entertainment S.A.', 'Fragment Production Ltd', 'Freebird Games ', 'Funomena ', 'G5 Software ', 'GabberGames ', 'GameDesignDan ', 'Gamedust ', 'Games Farm ', 'Games Workshop ', 'Gamethunks', 'Gameyus Interactive ', 'Gasket Games ', 'Genius Slackers ', 'Ghost Pattern ', 'Giant Sparrow ', 'Glass Heart Games ', 'Gloomywood ', 'GriN Multimedia ', 'Grundislav Games ', 'Guild Software ', 'Halberd Studios ', 'Hammerfall Publishing ', 'Heuristic Park ', 'Hi-Bit Studios ', 'House House ', 'Impressions Games ', 'Innerspace VR ', 'Invictus ', \"It's Anecdotal \", 'Jacob Antonucci', 'Jagex Games Studio ', 'Jason Oda ', 'Jellyvision ', 'JoyMasher ', 'Jutsu Games ', 'KT Racing ', 'Kadokawa', 'Knuist & Perzik ', 'Kuju Entertainment ', 'Legend Entertainment ', 'Lightning Rod Games ', 'Livesay Technologies ', 'Lumenox ehf ', 'M2H', 'Magic Design Studios ', 'Masque Publishing ', 'Max Inferno ', 'Mega Cat Studios ', 'MicroProse ', 'MidBoss ', 'Misfits Attic ', 'Mojiken Studio ', 'Monokel ', 'Moonbite Games ', 'Moonshark ', 'N-Fusion Interactive Entertainment Corp.', 'Night Light Interactive ', 'Nihilistic ', 'Nine Rocks Games ', 'NoClip ', 'OSome Studio ', 'Ostrich Banditos ', 'Ota Imon Studios ', 'Outsider Games ', 'Owlchemy Labs ', 'Paradox Interactive', 'Pixelated Milk ', 'PlayMagic Ltd ', 'Playwood Project ', 'Polyslash ', 'Prideful Sloth ', 'Project Aces ', 'Project Aces  ', 'Proxy Studios ', 'Pterodon ', 'Pyrodactyl Games ', 'Ratbag ', 'Reflexive Entertainment ', 'Related Designs ', 'Replay Studios', 'Revistonic', 'Rimlight Studios ', 'Ritual Entertainment', 'Robot Gentleman ', 'Rodeo Games ', 'Rooster Teeth Games ', 'Ruud Koorevaar ', 'Ryu ga Gotoku Studios', 'Sad Owl Studios ', 'SadSquare Studio ', 'Santa Ragione ', 'Shiro Games ', 'Silver Wish Games ', 'Silvio & Gey Savarese ', 'Simogo ', 'Sir-Tech Software Inc. ', 'Sky Machine Studios ', 'Sloclap ', 'Sneaky Bastards ', 'Snowed In Studios ', 'Sobaka ', 'Spark Unlimited', 'Spike Chunsoft ', 'Steel Mantis ', 'Strange Loop Games ', 'Strategic Studies Group ', 'Strayllight Entertainment ', 'Studio Drydock Pty Ltd ', 'Studio Pixel Punk ', 'Subterranean Games ', 'Sukeban Games ', 'Sumo Digital', 'Sunflowers Interactive ', 'Super X Studios ', 'Sylum Entertainment ', 'Synetic ', 'Take-Two Interactive', 'Tasharen Entertainment ', 'Tate Multimedia ', 'Team OFK ', 'Teotl Studios', 'Terry Cavanagh ', 'The Bitmap Brothers ', 'The Lordz Games Studio', 'The Wandering Ben ', 'Theta Division ', 'Third Wave Games ', 'Third Wire ', 'Tigon ', 'Total Mayhem Games ', 'Toylogic Inc.', 'Trapdoor ', 'Treyarch', 'Triband ', 'Triple Topping Games ', 'Twisted Pixel Games ', 'Unicorn Games Studio ', 'Upstream Arcade ', 'Variable State ', 'Vile Monarch ', 'Villa Gorilla ', 'Visai Games ', 'WXP ', 'Warcave ', 'Wastelands Interactive ', 'Whale Rock Games ', 'Wide Games ', 'Winning Streak Games ', 'Witch Beam ', 'Wolcen Studio ', 'Wolfeye Studios ', 'Worldwalker Games ', 'Zeal Game Studios ', 'Zuxxez', 'adamgryu ', 'frecle ApS ', 'imaginarylab ', 'inkle', 'poncle ', 'timesymmetry '] will be ignored\n",
      "  \"unknown class(es) {0} will be ignored\".format(sorted(unknown, key=str))\n"
     ]
    },
    {
     "name": "stdout",
     "output_type": "stream",
     "text": [
      "Epoch 1/20\n",
      "234/234 [==============================] - 18s 75ms/step - loss: 38.4639 - mae: 4.6490 - val_loss: 41.1022 - val_mae: 4.9982\n",
      "Epoch 2/20\n",
      "234/234 [==============================] - 18s 75ms/step - loss: 30.0329 - mae: 4.0449 - val_loss: 34.5827 - val_mae: 4.5333\n",
      "Epoch 3/20\n",
      "234/234 [==============================] - 18s 75ms/step - loss: 29.0513 - mae: 3.9027 - val_loss: 36.3178 - val_mae: 4.6975\n",
      "Epoch 4/20\n",
      "234/234 [==============================] - 18s 75ms/step - loss: 26.9867 - mae: 3.7712 - val_loss: 35.2691 - val_mae: 4.5300\n",
      "Epoch 5/20\n",
      "234/234 [==============================] - 17s 75ms/step - loss: 25.4874 - mae: 3.5995 - val_loss: 32.9875 - val_mae: 4.4057\n",
      "Epoch 6/20\n",
      "234/234 [==============================] - 17s 75ms/step - loss: 25.9247 - mae: 3.5951 - val_loss: 35.3058 - val_mae: 4.5619\n",
      "Epoch 7/20\n",
      "234/234 [==============================] - 18s 75ms/step - loss: 24.8294 - mae: 3.5178 - val_loss: 30.9589 - val_mae: 4.2448\n",
      "Epoch 8/20\n",
      "234/234 [==============================] - 18s 75ms/step - loss: 23.5828 - mae: 3.4342 - val_loss: 32.1234 - val_mae: 4.3357\n",
      "Epoch 9/20\n",
      "234/234 [==============================] - 18s 75ms/step - loss: 23.2330 - mae: 3.4043 - val_loss: 29.0032 - val_mae: 4.1101\n",
      "Epoch 10/20\n",
      "234/234 [==============================] - 18s 75ms/step - loss: 21.5804 - mae: 3.2981 - val_loss: 31.3803 - val_mae: 4.3407\n",
      "Epoch 11/20\n",
      "234/234 [==============================] - 18s 75ms/step - loss: 21.5271 - mae: 3.2585 - val_loss: 31.9701 - val_mae: 4.3819\n",
      "Epoch 12/20\n",
      "234/234 [==============================] - 18s 75ms/step - loss: 21.8866 - mae: 3.2701 - val_loss: 32.6771 - val_mae: 4.4626\n",
      "Epoch 13/20\n",
      "234/234 [==============================] - 17s 74ms/step - loss: 21.2405 - mae: 3.2129 - val_loss: 30.2586 - val_mae: 4.2238\n",
      "Epoch 14/20\n",
      "234/234 [==============================] - 18s 75ms/step - loss: 21.4669 - mae: 3.2178 - val_loss: 33.1621 - val_mae: 4.4957\n",
      "Chunk 12/52 // 21.15% Complete // Cycle 3/3\n"
     ]
    },
    {
     "name": "stderr",
     "output_type": "stream",
     "text": [
      "y:\\ML\\Anaconda\\envs\\TF-GPU\\lib\\site-packages\\sklearn\\preprocessing\\_label.py:876: UserWarning: unknown class(es) [' Forgotten Key ', ' Innersloth ', ' Viva Media', ' bitComposer ', 'AWE Games ', 'Acclaim Studios Cheltenham ', 'Aeternum Game Studios ', 'Alientrap ', 'Analgesic Productions ', 'Anarteam ', 'Arcen Games', 'Arxel Tribe ', 'Auroch Digital ', 'Aurogon Shanghai ', 'Big Ant Studios ', 'Bit Blot ', 'Black Element ', 'Broken Rules ', 'Centauri Production ', 'Cold Iron Studios ', 'CreativeForge Games ', 'Cross-Product ', 'Daedalic Entertainment', 'Data Becker ', 'Demruth ', 'Digital Arrow ', 'Dreampainters ', 'Elden Pixels ', 'Fallen Tree Games ', 'Fiction Factory Games ', 'FreakZone ', 'Future Games', 'GUTS Department ', 'Gabe Cuzzillo ', 'Gato Salvaje Studio ', 'GlyphX Games ', 'Hazardous Software  ', 'Himalaya Studios ', 'Iceberg Interactive ', 'Indefatigable ', 'Investigate North ', 'Jagex Games Studio ', 'Jankenteam ', 'Khaeon ', 'Krams Design ', 'Kubat Software ', 'Lince Works ', 'MadMinute Games ', 'Made by Kiddies ', 'Massive Development ', 'Maximum Games ', 'Mischief ', 'MyDearest ', 'Nicolas Intoxicate ', 'Panther Games ', 'Piccolo ', 'Punch Punk Games ', 'Pure FPS ', 'RageSquid ', 'Realtime Worlds ', 'Resolution Games ', 'Revolution of Strategy ', 'Rogue Entertainment ', 'S&G Software ', 'Sandbox Interactive ', 'Schell Games', 'Sigma Team ', 'Skydance Interactive ', 'Spike Chunsoft ', 'Spiral House ', 'Tantalus ', 'The Wandering Band LLC ', 'ThinkingStars ', 'Third Law Interactive ', 'Three One Zero ', 'TicToc Games ', 'Tim Conkling ', 'Tindalos Interactive ', 'Turmoil Games ', 'U.S. Army ', 'Vagabond Dog ', 'Vertigo Games ', 'WorldForge ', \"Yuke's \", 'bitComposer Games', 'ustwo '] will be ignored\n",
      "  \"unknown class(es) {0} will be ignored\".format(sorted(unknown, key=str))\n"
     ]
    },
    {
     "name": "stdout",
     "output_type": "stream",
     "text": [
      "Epoch 1/20\n",
      "230/230 [==============================] - 18s 75ms/step - loss: 32.5620 - mae: 3.9857 - val_loss: 28.4964 - val_mae: 3.9309\n",
      "Epoch 2/20\n",
      "230/230 [==============================] - 17s 74ms/step - loss: 19.9667 - mae: 2.9220 - val_loss: 23.4427 - val_mae: 3.6069\n",
      "Epoch 3/20\n",
      "230/230 [==============================] - 17s 75ms/step - loss: 17.1031 - mae: 2.5394 - val_loss: 23.3165 - val_mae: 3.6650\n",
      "Epoch 4/20\n",
      "230/230 [==============================] - 17s 74ms/step - loss: 14.8264 - mae: 2.2531 - val_loss: 21.7127 - val_mae: 3.5530\n",
      "Epoch 5/20\n",
      "230/230 [==============================] - 17s 75ms/step - loss: 13.3643 - mae: 2.0983 - val_loss: 22.8938 - val_mae: 3.6364\n",
      "Epoch 6/20\n",
      "230/230 [==============================] - 17s 75ms/step - loss: 12.2580 - mae: 1.9654 - val_loss: 21.8231 - val_mae: 3.5273\n",
      "Epoch 7/20\n",
      "230/230 [==============================] - 17s 75ms/step - loss: 12.3301 - mae: 1.9270 - val_loss: 22.4748 - val_mae: 3.6091\n",
      "Epoch 8/20\n",
      "230/230 [==============================] - 17s 76ms/step - loss: 11.9011 - mae: 1.8704 - val_loss: 21.9572 - val_mae: 3.5306\n",
      "Epoch 9/20\n",
      "230/230 [==============================] - 17s 75ms/step - loss: 10.8739 - mae: 1.7905 - val_loss: 22.8195 - val_mae: 3.6395\n",
      "Chunk 13/52 // 23.08% Complete // Cycle 3/3\n"
     ]
    },
    {
     "name": "stderr",
     "output_type": "stream",
     "text": [
      "y:\\ML\\Anaconda\\envs\\TF-GPU\\lib\\site-packages\\sklearn\\preprocessing\\_label.py:876: UserWarning: unknown class(es) [' Atlantis Interactive Entertainment ', ' Bird Bath Games ', ' Massive Entertainment', '3D People ', 'A44 ', 'Acme Gamestudio ', 'Artisan Studios ', 'Atlantis Interactive Entertainment\\t', 'AtomTeam ', 'AurumDust ', 'BestGameEver.com ', 'Blendo Games ', 'Breaking Walls ', 'Charles University ', 'ClockStone Studio ', 'Daniel Wynne', 'Denki ', 'Digital Eclipse ', 'Edelweiss ', 'Etranges Libellules ', 'Exiin ', 'Funselektor Labs Inc. ', 'Gust ', 'Hempuli Oy ', 'INTERIOR/NIGHT ', \"Kiro'o Games \", 'League of Geeks ', 'Lienzo ', 'LuckyHammers ', 'Midway Studios - Austin ', 'Mothership Entertainment ', 'NHN Corporation ', 'NetDevil ', 'Ntronium Games ', 'Pencil Test Studios ', 'Peter Stock ', 'Piccolo ', 'Planet Moon Studios ', 'Sanzaru ', 'Sketchy Logic ', 'Spiderweb Software ', 'Streko-Graphics Inc. ', 'System Era Softworks ', 'Team Junkfish ', 'Tom Happ ', 'Ubisoft Bordeaux ', 'Ubisoft Singapore ', 'Ubisoft Sofia ', 'Unexpected ', 'Wayward Simulations ', 'Witch Beam ', 'idoz & phops '] will be ignored\n",
      "  \"unknown class(es) {0} will be ignored\".format(sorted(unknown, key=str))\n"
     ]
    },
    {
     "name": "stdout",
     "output_type": "stream",
     "text": [
      "Epoch 1/20\n",
      "213/213 [==============================] - 16s 75ms/step - loss: 15.3722 - mae: 2.5326 - val_loss: 11.1644 - val_mae: 2.6952\n",
      "Epoch 2/20\n",
      "213/213 [==============================] - 16s 76ms/step - loss: 10.2210 - mae: 1.9341 - val_loss: 9.6824 - val_mae: 2.4016\n",
      "Epoch 3/20\n",
      "213/213 [==============================] - 16s 75ms/step - loss: 9.0481 - mae: 1.7912 - val_loss: 9.4124 - val_mae: 2.4478\n",
      "Epoch 4/20\n",
      "213/213 [==============================] - 16s 75ms/step - loss: 7.9083 - mae: 1.6505 - val_loss: 8.9614 - val_mae: 2.3244\n",
      "Epoch 5/20\n",
      "213/213 [==============================] - 16s 75ms/step - loss: 7.2198 - mae: 1.5244 - val_loss: 8.6307 - val_mae: 2.3526\n",
      "Epoch 6/20\n",
      "213/213 [==============================] - 16s 75ms/step - loss: 6.7804 - mae: 1.4717 - val_loss: 8.1642 - val_mae: 2.2489\n",
      "Epoch 7/20\n",
      "213/213 [==============================] - 16s 75ms/step - loss: 6.8800 - mae: 1.4479 - val_loss: 8.2416 - val_mae: 2.2735\n",
      "Epoch 8/20\n",
      "213/213 [==============================] - 16s 76ms/step - loss: 5.8903 - mae: 1.3943 - val_loss: 7.9546 - val_mae: 2.2303\n",
      "Epoch 9/20\n",
      "213/213 [==============================] - 16s 74ms/step - loss: 5.8287 - mae: 1.3404 - val_loss: 7.6578 - val_mae: 2.1641\n",
      "Epoch 10/20\n",
      "213/213 [==============================] - 16s 76ms/step - loss: 5.2321 - mae: 1.2788 - val_loss: 7.5701 - val_mae: 2.1646\n",
      "Epoch 11/20\n",
      "213/213 [==============================] - 16s 77ms/step - loss: 5.5638 - mae: 1.2892 - val_loss: 7.9916 - val_mae: 2.2459\n",
      "Epoch 12/20\n",
      "213/213 [==============================] - 16s 76ms/step - loss: 5.4017 - mae: 1.2597 - val_loss: 7.8033 - val_mae: 2.1992\n",
      "Epoch 13/20\n",
      "213/213 [==============================] - 16s 75ms/step - loss: 5.2570 - mae: 1.2478 - val_loss: 7.5792 - val_mae: 2.1444\n",
      "Epoch 14/20\n",
      "213/213 [==============================] - 16s 75ms/step - loss: 4.7217 - mae: 1.2073 - val_loss: 8.2787 - val_mae: 2.3310\n",
      "Epoch 15/20\n",
      "213/213 [==============================] - 16s 76ms/step - loss: 4.7731 - mae: 1.1962 - val_loss: 7.4566 - val_mae: 2.1544\n",
      "Epoch 16/20\n",
      "213/213 [==============================] - 16s 76ms/step - loss: 4.9055 - mae: 1.2119 - val_loss: 8.0606 - val_mae: 2.2248\n",
      "Epoch 17/20\n",
      "213/213 [==============================] - 16s 75ms/step - loss: 4.3863 - mae: 1.1616 - val_loss: 7.9706 - val_mae: 2.2060\n",
      "Epoch 18/20\n",
      "213/213 [==============================] - 16s 75ms/step - loss: 4.9842 - mae: 1.2123 - val_loss: 8.1721 - val_mae: 2.2618\n",
      "Epoch 19/20\n",
      "213/213 [==============================] - 16s 75ms/step - loss: 4.8261 - mae: 1.1764 - val_loss: 7.5814 - val_mae: 2.1213\n",
      "Epoch 20/20\n",
      "213/213 [==============================] - 16s 76ms/step - loss: 4.4987 - mae: 1.1662 - val_loss: 7.8051 - val_mae: 2.2080\n",
      "Chunk 14/52 // 25.0% Complete // Cycle 3/3\n"
     ]
    },
    {
     "name": "stderr",
     "output_type": "stream",
     "text": [
      "y:\\ML\\Anaconda\\envs\\TF-GPU\\lib\\site-packages\\sklearn\\preprocessing\\_label.py:876: UserWarning: unknown class(es) [' Arzest', ' Balan Company ', '3000AD', 'Armature Studio ', 'Bedtime Digital Games ', 'CE-Asia ', 'Cauldron Ltd. ', 'Causal Bit Games ', 'EggNut ', 'Lost Toys ', 'Overhype Studios ', 'Pathos Interactive ', 'Plausible Concept ', 'Point 5 Projects  ', 'Pulse Entertainment ', 'Rayland Interactive ', 'Shadow Tor Studios ', 'Shining Rock Software ', 'Shockwave Productions ', 'Sports Mogul ', 'Stormind Games ', 'The Behemoth ', 'Throw the Warped Code Out ', 'Unspeakable Pixels '] will be ignored\n",
      "  \"unknown class(es) {0} will be ignored\".format(sorted(unknown, key=str))\n"
     ]
    },
    {
     "name": "stdout",
     "output_type": "stream",
     "text": [
      "Epoch 1/20\n",
      "225/225 [==============================] - 17s 75ms/step - loss: 26.4525 - mae: 3.2583 - val_loss: 18.7677 - val_mae: 3.0649\n",
      "Epoch 2/20\n",
      "225/225 [==============================] - 17s 76ms/step - loss: 10.8947 - mae: 2.0167 - val_loss: 18.0342 - val_mae: 3.0213\n",
      "Epoch 3/20\n",
      "225/225 [==============================] - 17s 76ms/step - loss: 9.1806 - mae: 1.6563 - val_loss: 18.0467 - val_mae: 2.9900\n",
      "Epoch 4/20\n",
      "225/225 [==============================] - 17s 74ms/step - loss: 6.2066 - mae: 1.3338 - val_loss: 17.1217 - val_mae: 2.8640\n",
      "Epoch 5/20\n",
      "225/225 [==============================] - 17s 75ms/step - loss: 6.9596 - mae: 1.2732 - val_loss: 16.9073 - val_mae: 2.8864\n",
      "Epoch 6/20\n",
      "225/225 [==============================] - 17s 75ms/step - loss: 6.2944 - mae: 1.1406 - val_loss: 18.4657 - val_mae: 3.1902\n",
      "Epoch 7/20\n",
      "225/225 [==============================] - 17s 75ms/step - loss: 5.6010 - mae: 1.0883 - val_loss: 18.6819 - val_mae: 3.1570\n",
      "Epoch 8/20\n",
      "225/225 [==============================] - 17s 75ms/step - loss: 5.5553 - mae: 1.0384 - val_loss: 18.5172 - val_mae: 3.1131\n",
      "Epoch 9/20\n",
      "225/225 [==============================] - 17s 75ms/step - loss: 5.8724 - mae: 1.0302 - val_loss: 19.1530 - val_mae: 3.2725\n",
      "Epoch 10/20\n",
      "225/225 [==============================] - 17s 75ms/step - loss: 4.4139 - mae: 0.8887 - val_loss: 19.5241 - val_mae: 3.4053\n",
      "Chunk 15/52 // 26.92% Complete // Cycle 3/3\n"
     ]
    },
    {
     "name": "stderr",
     "output_type": "stream",
     "text": [
      "y:\\ML\\Anaconda\\envs\\TF-GPU\\lib\\site-packages\\sklearn\\preprocessing\\_label.py:876: UserWarning: unknown class(es) [' Dlala Studios ', ' Eurocom ', 'Argonaut Games ', 'Artematica ', 'Auran ', 'Balancing Monkey Games ', 'Big Boat Interactive ', 'Black Lab Games ', 'Blackpowder Games  ', 'BumbleBeast ', 'Capy Games ', 'Cryo Interactive ', 'Digital Fusion Inc. ', 'Eidos Interactive ', 'Eurocom Entertainment Software', 'Eutechnyx ', 'GoodbyeWorld Games ', 'Gummy Cat ', 'Harebrained Schemes LLC ', 'Hiding Spot ', 'Hyperbolic Magnetism ', 'Iridium Studios ', 'Magnum Games ', 'Pixel Crow ', 'Rare Ltd.', 'ShadowRage ', 'Silver Lining Studio ', 'Similis ', 'Stunlock Studios ', 'THE BROTHERHOOD ', 'Tale of Tales ', 'Threaks ', 'Tindalos Interactive ', 'Tri Synergy ', 'Twice Circled ', 'Varsav Game Studios ', 'Warsaw Film School Video Game & Film Production Studio ', 'tiger & squid '] will be ignored\n",
      "  \"unknown class(es) {0} will be ignored\".format(sorted(unknown, key=str))\n"
     ]
    },
    {
     "name": "stdout",
     "output_type": "stream",
     "text": [
      "Epoch 1/20\n",
      "228/228 [==============================] - 17s 75ms/step - loss: 19.4246 - mae: 2.9185 - val_loss: 20.8629 - val_mae: 3.1509\n",
      "Epoch 2/20\n",
      "228/228 [==============================] - 17s 75ms/step - loss: 11.8240 - mae: 2.0644 - val_loss: 17.3075 - val_mae: 2.9769\n",
      "Epoch 3/20\n",
      "228/228 [==============================] - 17s 76ms/step - loss: 10.0433 - mae: 1.8556 - val_loss: 17.9277 - val_mae: 3.0152\n",
      "Epoch 4/20\n",
      "228/228 [==============================] - 17s 74ms/step - loss: 9.2847 - mae: 1.6975 - val_loss: 18.4540 - val_mae: 3.1650\n",
      "Epoch 5/20\n",
      "228/228 [==============================] - 17s 75ms/step - loss: 8.3663 - mae: 1.5696 - val_loss: 18.2238 - val_mae: 3.1656\n",
      "Epoch 6/20\n",
      "228/228 [==============================] - 17s 76ms/step - loss: 8.1227 - mae: 1.5273 - val_loss: 18.6031 - val_mae: 3.2076\n",
      "Epoch 7/20\n",
      "228/228 [==============================] - 17s 76ms/step - loss: 7.9370 - mae: 1.4818 - val_loss: 18.5058 - val_mae: 3.1598\n",
      "Chunk 16/52 // 28.85% Complete // Cycle 3/3\n"
     ]
    },
    {
     "name": "stderr",
     "output_type": "stream",
     "text": [
      "y:\\ML\\Anaconda\\envs\\TF-GPU\\lib\\site-packages\\sklearn\\preprocessing\\_label.py:876: UserWarning: unknown class(es) ['Cricket'] will be ignored\n",
      "  \"unknown class(es) {0} will be ignored\".format(sorted(unknown, key=str))\n",
      "y:\\ML\\Anaconda\\envs\\TF-GPU\\lib\\site-packages\\sklearn\\preprocessing\\_label.py:876: UserWarning: unknown class(es) [' Cranberry Production ', ' Digital Eclipse ', ' Nival ', ' Polar Motion ', ' S.L. ', ' Slitherine Group', '2K Games ', 'A Crowd of Monsters ', 'AGEOD ', 'Amanita Design ', 'Apeiron ', 'Atomic Games ', 'Awe Interactive ', 'Black Mesa Modification Team ', 'Blooming Buds Studio ', 'BootdiskRevolution ', 'Brat Designs ', 'Cavia Inc. ', 'ClockStone Studio ', 'Corbie Games ', 'Cranberry Studios ', 'DANG! ', 'DTP Entertainment', 'Deep Shadows ', 'Dimfrost ', 'Drama Drifters ', 'Elseware Experience ', 'Erik Svedang ', 'FYQD-Studio ', 'Free Lives ', 'Gaijin Games ', 'Gust ', 'Headfirst Productions ', 'Interceptor Entertainment ', 'Inti Creates ', 'Jagex Games Studio ', 'JoyMasher ', 'Kitfox Games ', 'Krome Studios ', 'La Plata ', 'Midway Studios - Austin ', 'Mighty Rabbit Studios ', 'Morteshka ', 'NExT Studios ', 'Nival Interactive', 'Nova Production ', 'Paper Cult ', 'PaperSeven ', 'Pixel Multimedia ', 'PortaPlay ', 'Quotix Software ', 'Rebel Act Studios ', 'RedRuins Softworks ', 'Robi Studios ', 'Runner Duck ', 'Sand Sailor Studio ', 'Scientifically Proven ', 'Slitherine', 'Stellar Jockeys ', 'Stickmen Studios ', 'Still Alive Studios ', 'Stunlock Studios ', 'SuperScarySnakes ', 'Swing Swing Submarine ', 'Targem Games ', 'Team Reptile ', 'The Moonwalls ', 'The Parasight ', 'The Pixel Hunt ', 'Thing Trunk ', 'Troglobytes Games', 'V7 Entertainment Inc. ', 'stillalive studios '] will be ignored\n",
      "  \"unknown class(es) {0} will be ignored\".format(sorted(unknown, key=str))\n"
     ]
    },
    {
     "name": "stdout",
     "output_type": "stream",
     "text": [
      "Epoch 1/20\n",
      "224/224 [==============================] - 17s 75ms/step - loss: 23.8111 - mae: 3.1906 - val_loss: 13.7846 - val_mae: 2.4869\n",
      "Epoch 2/20\n",
      "224/224 [==============================] - 17s 77ms/step - loss: 15.4352 - mae: 2.3358 - val_loss: 13.2257 - val_mae: 2.5858\n",
      "Epoch 3/20\n",
      "224/224 [==============================] - 17s 76ms/step - loss: 14.2675 - mae: 2.1459 - val_loss: 13.8444 - val_mae: 2.6880\n",
      "Epoch 4/20\n",
      "224/224 [==============================] - 17s 74ms/step - loss: 12.6947 - mae: 2.0615 - val_loss: 12.4683 - val_mae: 2.5534\n",
      "Epoch 5/20\n",
      "224/224 [==============================] - 17s 76ms/step - loss: 11.4669 - mae: 1.9188 - val_loss: 13.3262 - val_mae: 2.7667\n",
      "Epoch 6/20\n",
      "224/224 [==============================] - 17s 74ms/step - loss: 11.6436 - mae: 1.9015 - val_loss: 14.4698 - val_mae: 2.8853\n",
      "Epoch 7/20\n",
      "224/224 [==============================] - 17s 75ms/step - loss: 10.7446 - mae: 1.7935 - val_loss: 13.7568 - val_mae: 2.7332\n",
      "Epoch 8/20\n",
      "224/224 [==============================] - 17s 74ms/step - loss: 11.3106 - mae: 1.7903 - val_loss: 14.8772 - val_mae: 2.9273\n",
      "Epoch 9/20\n",
      "224/224 [==============================] - 17s 74ms/step - loss: 10.7585 - mae: 1.7330 - val_loss: 14.0246 - val_mae: 2.8300\n",
      "Chunk 17/52 // 30.77% Complete // Cycle 3/3\n"
     ]
    },
    {
     "name": "stderr",
     "output_type": "stream",
     "text": [
      "y:\\ML\\Anaconda\\envs\\TF-GPU\\lib\\site-packages\\sklearn\\preprocessing\\_label.py:876: UserWarning: unknown class(es) ['Trainer'] will be ignored\n",
      "  \"unknown class(es) {0} will be ignored\".format(sorted(unknown, key=str))\n",
      "y:\\ML\\Anaconda\\envs\\TF-GPU\\lib\\site-packages\\sklearn\\preprocessing\\_label.py:876: UserWarning: unknown class(es) [' Out of the Blue Games S.L. ', 'Action Forms Ltd. ', 'Activision ', 'Alientrap ', 'Blue Manchu ', 'Bytten Studio ', 'Expansive Worlds ', 'Hothouse Creations ', 'Ice-Pick Lodge ', 'Matt Kap ', 'Nerial ', 'Out of the Blue', 'Phobia Game Studio ', 'Richard Hofmeier ', 'Serious Brew ', 'Sierra Entertainment ', 'Spotlightor Interactive ', 'Sunhead Games ', 'Sunstorm Interactive ', 'Teku Studios  ', 'Torus Games '] will be ignored\n",
      "  \"unknown class(es) {0} will be ignored\".format(sorted(unknown, key=str))\n"
     ]
    },
    {
     "name": "stdout",
     "output_type": "stream",
     "text": [
      "Epoch 1/20\n",
      "220/220 [==============================] - 17s 75ms/step - loss: 19.0298 - mae: 2.8752 - val_loss: 19.5419 - val_mae: 3.4438\n",
      "Epoch 2/20\n",
      "220/220 [==============================] - 17s 76ms/step - loss: 8.4547 - mae: 1.7393 - val_loss: 18.0502 - val_mae: 3.3106\n",
      "Epoch 3/20\n",
      "220/220 [==============================] - 17s 75ms/step - loss: 7.4194 - mae: 1.5626 - val_loss: 18.5618 - val_mae: 3.3709\n",
      "Epoch 4/20\n",
      "220/220 [==============================] - 17s 75ms/step - loss: 5.9917 - mae: 1.3896 - val_loss: 17.9518 - val_mae: 3.2832\n",
      "Epoch 5/20\n",
      "220/220 [==============================] - 17s 75ms/step - loss: 5.4123 - mae: 1.3109 - val_loss: 18.8519 - val_mae: 3.3741\n",
      "Epoch 6/20\n",
      "220/220 [==============================] - 17s 77ms/step - loss: 5.4607 - mae: 1.2797 - val_loss: 18.9217 - val_mae: 3.4048\n",
      "Epoch 7/20\n",
      "220/220 [==============================] - 17s 76ms/step - loss: 4.9218 - mae: 1.1918 - val_loss: 19.3553 - val_mae: 3.4026\n",
      "Epoch 8/20\n",
      "220/220 [==============================] - 16s 74ms/step - loss: 4.5465 - mae: 1.1191 - val_loss: 18.2093 - val_mae: 3.3040\n",
      "Epoch 9/20\n",
      "220/220 [==============================] - 16s 75ms/step - loss: 4.4148 - mae: 1.1070 - val_loss: 19.4439 - val_mae: 3.4133\n",
      "Chunk 18/52 // 32.69% Complete // Cycle 3/3\n"
     ]
    },
    {
     "name": "stderr",
     "output_type": "stream",
     "text": [
      "y:\\ML\\Anaconda\\envs\\TF-GPU\\lib\\site-packages\\sklearn\\preprocessing\\_label.py:876: UserWarning: unknown class(es) ['Application', 'Trainer'] will be ignored\n",
      "  \"unknown class(es) {0} will be ignored\".format(sorted(unknown, key=str))\n",
      "y:\\ML\\Anaconda\\envs\\TF-GPU\\lib\\site-packages\\sklearn\\preprocessing\\_label.py:876: UserWarning: unknown class(es) [' Deep Silver Fishlabs ', ' EA Games ', ' FireFly Studios ', ' LLC', ' LandFall ', ' Navarre Corp ', ' Overflow Games ', ' Phosphor Games ', ' Reality Twist ', ' Sega', ' Ste Curran ', 'Amanita Design ', 'Argonaut Games', 'Ascension Studios', 'Atomic Games ', 'Backbone Entertainment ', 'Beautiful Game Studios ', 'Behold Studios ', 'Big Time Software ', 'Boxed Dream ', 'BreakAway Games ', 'Convoy Games ', 'Crazy Rocks ', 'Cygnus Entertainment ', 'Darkworks ', 'Data Realms ', 'Destineer ', 'Discord Games ', 'Double Stallion Games ', 'Dreamworks Games ', 'EA Pacific ', 'EasyGameStation ', 'Eden Industries ', 'Elf Games ', 'Eyebrow Interactive ', 'Fever Pitch Studios ', 'Firaxis Games', 'Fishlabs', 'Focus Home Interactive ', 'Gaslamp Games ', 'Greg Lobanov ', 'ION LANDS ', 'Interdimensional Games Inc ', 'Investigate North Aps ', 'Jason Oda ', 'Jump Over The Age ', 'LandFall Games', 'Lazy 8 Studios ', 'Logic Artists ', 'MASA Group ', 'Maddy Makes Games ', 'Mages. ', 'Matthias Linda ', 'Mighty Kingdom ', 'Mindware Studios ', 'Original Fire Games ', 'Oxeye ', 'Paragon Studios ', 'Phoenix Online Studios ', 'Phosphor Games Studio', 'Playwing ', 'Puuba ', 'Reality Twist GmbH', 'Snapshot Games Inc. ', 'SomaSim ', 'Storm in a Teacup ', 'TRAGsoft ', 'The Gentlebros ', 'The Wild Gentlemen ', 'Toge Productions ', 'Twistplay', 'Two Star Games ', 'Uppercut Games Pty Ltd ', 'Various ', 'White Paper Games ', 'Yippee Entertainment LTD ', 'Zeboyd Games ', 'Zoetrope Interactive ', 'osao games '] will be ignored\n",
      "  \"unknown class(es) {0} will be ignored\".format(sorted(unknown, key=str))\n"
     ]
    },
    {
     "name": "stdout",
     "output_type": "stream",
     "text": [
      "Epoch 1/20\n",
      "224/224 [==============================] - 17s 75ms/step - loss: 28.0036 - mae: 3.2824 - val_loss: 23.6508 - val_mae: 3.5825\n",
      "Epoch 2/20\n",
      "224/224 [==============================] - 17s 75ms/step - loss: 19.6427 - mae: 2.5893 - val_loss: 20.4428 - val_mae: 3.3065\n",
      "Epoch 3/20\n",
      "224/224 [==============================] - 17s 75ms/step - loss: 15.3808 - mae: 2.2169 - val_loss: 19.3979 - val_mae: 3.2216\n",
      "Epoch 4/20\n",
      "224/224 [==============================] - 17s 76ms/step - loss: 14.8340 - mae: 2.1445 - val_loss: 19.6150 - val_mae: 3.3006\n",
      "Epoch 5/20\n",
      "224/224 [==============================] - 17s 75ms/step - loss: 14.6975 - mae: 2.0729 - val_loss: 18.7111 - val_mae: 3.1462\n",
      "Epoch 6/20\n",
      "224/224 [==============================] - 17s 75ms/step - loss: 14.0979 - mae: 1.9810 - val_loss: 19.7534 - val_mae: 3.3289\n",
      "Epoch 7/20\n",
      "224/224 [==============================] - 17s 75ms/step - loss: 13.5328 - mae: 1.8890 - val_loss: 19.2667 - val_mae: 3.2718\n",
      "Epoch 8/20\n",
      "224/224 [==============================] - 17s 75ms/step - loss: 14.5854 - mae: 1.9343 - val_loss: 19.3670 - val_mae: 3.2355\n",
      "Epoch 9/20\n",
      "224/224 [==============================] - 17s 75ms/step - loss: 12.8821 - mae: 1.8160 - val_loss: 18.4621 - val_mae: 3.2180\n",
      "Epoch 10/20\n",
      "224/224 [==============================] - 17s 75ms/step - loss: 13.3481 - mae: 1.8397 - val_loss: 19.4558 - val_mae: 3.2727\n",
      "Epoch 11/20\n",
      "224/224 [==============================] - 17s 75ms/step - loss: 12.8606 - mae: 1.7867 - val_loss: 19.8313 - val_mae: 3.2628\n",
      "Epoch 12/20\n",
      "224/224 [==============================] - 17s 75ms/step - loss: 11.4366 - mae: 1.6773 - val_loss: 19.1933 - val_mae: 3.2807\n",
      "Epoch 13/20\n",
      "224/224 [==============================] - 17s 75ms/step - loss: 11.7678 - mae: 1.6850 - val_loss: 18.7194 - val_mae: 3.2405\n",
      "Epoch 14/20\n",
      "224/224 [==============================] - 17s 75ms/step - loss: 11.4313 - mae: 1.6369 - val_loss: 20.4805 - val_mae: 3.3411\n"
     ]
    },
    {
     "name": "stderr",
     "output_type": "stream",
     "text": [
      "distributed.utils_perf - WARNING - full garbage collections took 10% CPU time recently (threshold: 10%)\n"
     ]
    },
    {
     "name": "stdout",
     "output_type": "stream",
     "text": [
      "Chunk 19/52 // 34.62% Complete // Cycle 3/3\n"
     ]
    },
    {
     "name": "stderr",
     "output_type": "stream",
     "text": [
      "y:\\ML\\Anaconda\\envs\\TF-GPU\\lib\\site-packages\\sklearn\\preprocessing\\_label.py:876: UserWarning: unknown class(es) [' 10tons ', ' Elbow Rocket ', ' FAKT Software ', ' Funatics ', ' Funatics Software', ' Moonbyte Studios ', ' Relentless Studios ', '10tons Entertainment', '369 Interactive ', 'Aarne \"MekaSkull\" Hunziker ', 'Action Forms Ltd. ', 'Alt Shift ', 'Amanita Design ', 'Artematica ', 'Asylum Entertainment ', 'Brace Yourself Games ', 'Butterscotch Shenanigans ', 'Dreams Uncorporated ', 'EA Bright Light ', 'Explosm ', 'FAKT Software ', 'FAKT Software GmBH', 'Flying Cafe for Semianimals ', 'Fourattic ', 'Funatics Development GmbH', 'G5 Software ', 'InGame Studios ', 'Invictus ', 'Jasozz Games ', 'Kraken Unleashed ', 'Maschinen-Mensch ', 'Massive Monster ', 'Momentum DMT ', 'NExT Studios ', 'PETOONS STUDIO SL ', 'Passtech Games ', 'Petri Purho ', 'Punchers Impact ', 'Radical Fish Games ', 'Replay Studios', 'Skilltree Studios ', 'Spry Fox ', 'Sumo Digital', 'Tag of Joy ', 'Toys for Bob ', 'Triangle Studios ', 'Vicarious Visions', 'Vile Monarch ', 'Vogster ', 'Weather Factory ', 'Zipper Interactive '] will be ignored\n",
      "  \"unknown class(es) {0} will be ignored\".format(sorted(unknown, key=str))\n",
      "distributed.utils_perf - WARNING - full garbage collections took 10% CPU time recently (threshold: 10%)\n",
      "distributed.utils_perf - WARNING - full garbage collections took 10% CPU time recently (threshold: 10%)\n"
     ]
    },
    {
     "name": "stdout",
     "output_type": "stream",
     "text": [
      "Epoch 1/20\n",
      "209/209 [==============================] - 16s 76ms/step - loss: 14.1228 - mae: 2.1699 - val_loss: 11.5762 - val_mae: 2.5123\n",
      "Epoch 2/20\n",
      "209/209 [==============================] - 16s 75ms/step - loss: 7.7428 - mae: 1.4335 - val_loss: 10.9211 - val_mae: 2.4278\n",
      "Epoch 3/20\n",
      "209/209 [==============================] - 16s 76ms/step - loss: 7.3057 - mae: 1.3139 - val_loss: 10.2434 - val_mae: 2.3635\n",
      "Epoch 4/20\n",
      "209/209 [==============================] - 16s 75ms/step - loss: 7.1404 - mae: 1.2119 - val_loss: 10.7123 - val_mae: 2.4821\n",
      "Epoch 5/20\n",
      "209/209 [==============================] - 16s 75ms/step - loss: 6.6081 - mae: 1.1742 - val_loss: 10.1611 - val_mae: 2.4046\n",
      "Epoch 6/20\n",
      "209/209 [==============================] - 16s 75ms/step - loss: 7.2033 - mae: 1.1396 - val_loss: 8.8050 - val_mae: 2.3258\n",
      "Epoch 7/20\n",
      "209/209 [==============================] - 16s 75ms/step - loss: 5.9332 - mae: 1.0793 - val_loss: 9.6833 - val_mae: 2.5790\n",
      "Epoch 8/20\n",
      "209/209 [==============================] - 16s 75ms/step - loss: 6.2225 - mae: 1.0260 - val_loss: 9.5606 - val_mae: 2.5398\n",
      "Epoch 9/20\n",
      "209/209 [==============================] - 16s 75ms/step - loss: 5.6778 - mae: 0.9922 - val_loss: 9.6681 - val_mae: 2.4853\n",
      "Epoch 10/20\n",
      "209/209 [==============================] - 16s 75ms/step - loss: 5.9673 - mae: 0.9612 - val_loss: 11.3561 - val_mae: 2.7503\n",
      "Epoch 11/20\n",
      "209/209 [==============================] - 16s 74ms/step - loss: 5.9331 - mae: 0.9719 - val_loss: 11.4221 - val_mae: 2.7674\n"
     ]
    },
    {
     "name": "stderr",
     "output_type": "stream",
     "text": [
      "distributed.utils_perf - WARNING - full garbage collections took 10% CPU time recently (threshold: 10%)\n"
     ]
    },
    {
     "name": "stdout",
     "output_type": "stream",
     "text": [
      "Chunk 20/52 // 36.54% Complete // Cycle 3/3\n"
     ]
    },
    {
     "name": "stderr",
     "output_type": "stream",
     "text": [
      "y:\\ML\\Anaconda\\envs\\TF-GPU\\lib\\site-packages\\sklearn\\preprocessing\\_label.py:876: UserWarning: unknown class(es) [' ICEBOX Studios ', ' RA Images ', 'Access Games ', 'Bigmoon Entertainment ', 'Blue Omega ', 'Cinemax', 'Creative Edge Software ', \"D'Avekki Studios Limited \", 'Darkling Room ', 'Hibernian Workshop ', 'Long Hat House ', 'Mad Mimic ', 'Marvelous First Studio ', 'Mythic Entertainment ', 'Namco Bandai Games ', 'Pyramid ', 'Sonalysts ', 'Spike Chunsoft ', 'Sword & Axe LLC ', 'Three Fields Entertainment ', 'Wadjet Eye Games', 'XXV Productions '] will be ignored\n",
      "  \"unknown class(es) {0} will be ignored\".format(sorted(unknown, key=str))\n",
      "distributed.utils_perf - WARNING - full garbage collections took 10% CPU time recently (threshold: 10%)\n",
      "distributed.utils_perf - WARNING - full garbage collections took 10% CPU time recently (threshold: 10%)\n"
     ]
    },
    {
     "name": "stdout",
     "output_type": "stream",
     "text": [
      "Epoch 1/20\n",
      "203/203 [==============================] - 16s 75ms/step - loss: 8.5454 - mae: 1.2621 - val_loss: 7.0268 - val_mae: 2.3314\n",
      "Epoch 2/20\n",
      "203/203 [==============================] - 15s 75ms/step - loss: 4.3548 - mae: 0.8734 - val_loss: 6.5405 - val_mae: 2.2406\n",
      "Epoch 3/20\n",
      "203/203 [==============================] - 15s 74ms/step - loss: 3.7246 - mae: 0.7750 - val_loss: 6.5455 - val_mae: 2.3199\n",
      "Epoch 4/20\n",
      "203/203 [==============================] - 15s 75ms/step - loss: 3.1307 - mae: 0.7075 - val_loss: 6.9556 - val_mae: 2.4137\n",
      "Epoch 5/20\n",
      "203/203 [==============================] - 15s 75ms/step - loss: 2.9657 - mae: 0.6641 - val_loss: 7.5187 - val_mae: 2.4808\n",
      "Epoch 6/20\n",
      "203/203 [==============================] - 15s 75ms/step - loss: 2.8951 - mae: 0.6489 - val_loss: 7.3239 - val_mae: 2.4737\n",
      "Epoch 7/20\n",
      "203/203 [==============================] - 15s 76ms/step - loss: 3.1304 - mae: 0.6669 - val_loss: 7.7582 - val_mae: 2.5666\n"
     ]
    },
    {
     "name": "stderr",
     "output_type": "stream",
     "text": [
      "distributed.utils_perf - WARNING - full garbage collections took 11% CPU time recently (threshold: 10%)\n"
     ]
    },
    {
     "name": "stdout",
     "output_type": "stream",
     "text": [
      "Chunk 21/52 // 38.46% Complete // Cycle 3/3\n"
     ]
    },
    {
     "name": "stderr",
     "output_type": "stream",
     "text": [
      "y:\\ML\\Anaconda\\envs\\TF-GPU\\lib\\site-packages\\sklearn\\preprocessing\\_label.py:876: UserWarning: unknown class(es) [' Capcom Vancouver ', ' Koei Tecmo Games ', ' Ltd. ', ' Sky Fallen', '5-Bits Games ', '8Monkey Labs ', 'Access Games ', 'Acid Nerve ', 'Acid Wizard Studio ', 'Allgraf ', 'Biart ', 'Blue Castle Games ', 'Boston Animation ', 'CCCP ', 'COWCAT ', 'Cave ', 'DNS Development ', 'Digital Confectioners ', 'DoubleBear Productions ', 'Dykast Lubomir ', 'Fabraz ', 'Fictiorama Studios ', 'Frozen line ', 'Ghost Ship Games ', 'Haggard Games ', 'Ikarion ', 'Invader Studios ', 'KUNO INTERACTIVE ', 'Ludus future ', 'MINT ROCKET ', 'Madruga Works ', 'Most Wanted Entertainment ', 'Motion Twin ', 'Nfusion ', 'Oscar Brittain ', 'Outrage Games ', 'Parallax Software ', 'Positech Games ', 'QCF Design ', 'RageSquid ', 'Related Designs ', 'Resolution Games ', 'Scavengers Studio ', 'Silent Grove Studios ', 'Sky Fallen ', 'Snowhound Games ', 'Streko-Graphics Inc. ', 'Team Ninja', 'The Chinese Room ', 'Twisted Pixel Games ', 'Unfold Games ', 'White Rabbit Interactive ', 'Z-Axis', 'Zoetrope Interactive '] will be ignored\n",
      "  \"unknown class(es) {0} will be ignored\".format(sorted(unknown, key=str))\n",
      "distributed.utils_perf - WARNING - full garbage collections took 11% CPU time recently (threshold: 10%)\n",
      "distributed.utils_perf - WARNING - full garbage collections took 11% CPU time recently (threshold: 10%)\n"
     ]
    },
    {
     "name": "stdout",
     "output_type": "stream",
     "text": [
      "Epoch 1/20\n",
      "224/224 [==============================] - 17s 76ms/step - loss: 28.3386 - mae: 3.5640 - val_loss: 21.7527 - val_mae: 3.3724\n",
      "Epoch 2/20\n",
      "224/224 [==============================] - 17s 76ms/step - loss: 17.6705 - mae: 2.6496 - val_loss: 21.4952 - val_mae: 3.4544\n",
      "Epoch 3/20\n",
      "224/224 [==============================] - 17s 75ms/step - loss: 15.2736 - mae: 2.3786 - val_loss: 19.6373 - val_mae: 3.1788\n",
      "Epoch 4/20\n",
      "224/224 [==============================] - 17s 75ms/step - loss: 14.3918 - mae: 2.2419 - val_loss: 20.7793 - val_mae: 3.4735\n",
      "Epoch 5/20\n",
      "224/224 [==============================] - 17s 75ms/step - loss: 13.2058 - mae: 2.0836 - val_loss: 21.6245 - val_mae: 3.5569\n",
      "Epoch 6/20\n",
      "224/224 [==============================] - 17s 76ms/step - loss: 12.9345 - mae: 2.0092 - val_loss: 21.6270 - val_mae: 3.5276\n",
      "Epoch 7/20\n",
      "224/224 [==============================] - 17s 74ms/step - loss: 12.4436 - mae: 1.9771 - val_loss: 21.6008 - val_mae: 3.5178\n",
      "Epoch 8/20\n",
      "224/224 [==============================] - 17s 75ms/step - loss: 12.0357 - mae: 1.9176 - val_loss: 21.6938 - val_mae: 3.5335\n"
     ]
    },
    {
     "name": "stderr",
     "output_type": "stream",
     "text": [
      "distributed.utils_perf - WARNING - full garbage collections took 11% CPU time recently (threshold: 10%)\n"
     ]
    },
    {
     "name": "stdout",
     "output_type": "stream",
     "text": [
      "Chunk 22/52 // 40.38% Complete // Cycle 3/3\n"
     ]
    },
    {
     "name": "stderr",
     "output_type": "stream",
     "text": [
      "y:\\ML\\Anaconda\\envs\\TF-GPU\\lib\\site-packages\\sklearn\\preprocessing\\_label.py:876: UserWarning: unknown class(es) [' Dreadlocks ', 'Digitalo Studios ', 'Dreadlocks Ltd', 'Foregone ', 'Layopi Games ', 'Red Candle Games ', 'Sorath ', 'Sourcenext ', 'Ultimation Inc. '] will be ignored\n",
      "  \"unknown class(es) {0} will be ignored\".format(sorted(unknown, key=str))\n",
      "distributed.utils_perf - WARNING - full garbage collections took 11% CPU time recently (threshold: 10%)\n",
      "distributed.utils_perf - WARNING - full garbage collections took 11% CPU time recently (threshold: 10%)\n"
     ]
    },
    {
     "name": "stdout",
     "output_type": "stream",
     "text": [
      "Epoch 1/20\n",
      "231/231 [==============================] - 18s 75ms/step - loss: 14.3567 - mae: 2.2637 - val_loss: 16.4163 - val_mae: 3.3184\n",
      "Epoch 2/20\n",
      "231/231 [==============================] - 17s 74ms/step - loss: 7.2339 - mae: 1.4800 - val_loss: 16.6956 - val_mae: 3.3608\n",
      "Epoch 3/20\n",
      "231/231 [==============================] - 17s 75ms/step - loss: 6.4024 - mae: 1.2649 - val_loss: 19.6433 - val_mae: 3.6448\n",
      "Epoch 4/20\n",
      "231/231 [==============================] - 17s 75ms/step - loss: 5.6943 - mae: 1.1219 - val_loss: 15.9022 - val_mae: 3.3223\n",
      "Epoch 5/20\n",
      "231/231 [==============================] - 18s 76ms/step - loss: 4.3881 - mae: 0.9845 - val_loss: 15.5115 - val_mae: 3.3347\n",
      "Epoch 6/20\n",
      "231/231 [==============================] - 17s 75ms/step - loss: 4.3881 - mae: 0.9531 - val_loss: 15.6342 - val_mae: 3.3434\n",
      "Epoch 7/20\n",
      "231/231 [==============================] - 17s 76ms/step - loss: 4.1511 - mae: 0.9190 - val_loss: 15.3249 - val_mae: 3.3406\n",
      "Epoch 8/20\n",
      "231/231 [==============================] - 17s 75ms/step - loss: 3.9782 - mae: 0.8769 - val_loss: 15.8108 - val_mae: 3.4059\n",
      "Epoch 9/20\n",
      "231/231 [==============================] - 18s 76ms/step - loss: 3.4798 - mae: 0.8407 - val_loss: 12.6754 - val_mae: 3.0529\n",
      "Epoch 10/20\n",
      "231/231 [==============================] - 17s 75ms/step - loss: 3.6665 - mae: 0.7950 - val_loss: 13.2404 - val_mae: 3.1054\n",
      "Epoch 11/20\n",
      "231/231 [==============================] - 17s 76ms/step - loss: 3.0897 - mae: 0.7790 - val_loss: 13.0865 - val_mae: 3.0918\n",
      "Epoch 12/20\n",
      "231/231 [==============================] - 17s 76ms/step - loss: 3.1999 - mae: 0.7451 - val_loss: 11.7034 - val_mae: 2.9538\n",
      "Epoch 13/20\n",
      "231/231 [==============================] - 17s 75ms/step - loss: 2.8225 - mae: 0.7121 - val_loss: 13.0032 - val_mae: 3.1013\n",
      "Epoch 14/20\n",
      "231/231 [==============================] - 17s 75ms/step - loss: 2.7927 - mae: 0.6806 - val_loss: 14.1323 - val_mae: 3.2517\n",
      "Epoch 15/20\n",
      "231/231 [==============================] - 17s 75ms/step - loss: 2.9083 - mae: 0.6508 - val_loss: 13.1456 - val_mae: 3.1194\n",
      "Epoch 16/20\n",
      "231/231 [==============================] - 17s 75ms/step - loss: 3.4251 - mae: 0.7107 - val_loss: 14.6257 - val_mae: 3.3674\n",
      "Epoch 17/20\n",
      "231/231 [==============================] - 17s 75ms/step - loss: 2.9442 - mae: 0.6524 - val_loss: 13.7374 - val_mae: 3.2115\n"
     ]
    },
    {
     "name": "stderr",
     "output_type": "stream",
     "text": [
      "distributed.utils_perf - WARNING - full garbage collections took 10% CPU time recently (threshold: 10%)\n"
     ]
    },
    {
     "name": "stdout",
     "output_type": "stream",
     "text": [
      "Chunk 23/52 // 42.31% Complete // Cycle 3/3\n"
     ]
    },
    {
     "name": "stderr",
     "output_type": "stream",
     "text": [
      "y:\\ML\\Anaconda\\envs\\TF-GPU\\lib\\site-packages\\sklearn\\preprocessing\\_label.py:876: UserWarning: unknown class(es) [' Dose', ' Kitty', ' and JW ', 'ArachnidGames ', 'AtomicTorch ', 'DESTINYbit ', 'Frima Studio ', 'Innonics ', 'Nippon Ichi Software ', 'Piranha Games ', 'Ratbag ', 'Soldak Entertainment ', 'Sundae Month ', 'Terri', 'Terry Cavanagh ', 'V1 Interactive '] will be ignored\n",
      "  \"unknown class(es) {0} will be ignored\".format(sorted(unknown, key=str))\n",
      "distributed.utils_perf - WARNING - full garbage collections took 10% CPU time recently (threshold: 10%)\n",
      "distributed.utils_perf - WARNING - full garbage collections took 10% CPU time recently (threshold: 10%)\n"
     ]
    },
    {
     "name": "stdout",
     "output_type": "stream",
     "text": [
      "Epoch 1/20\n",
      "231/231 [==============================] - 18s 76ms/step - loss: 7.2429 - mae: 1.2345 - val_loss: 21.0256 - val_mae: 3.3076\n",
      "Epoch 2/20\n",
      "231/231 [==============================] - 17s 75ms/step - loss: 4.6958 - mae: 0.9047 - val_loss: 19.7373 - val_mae: 3.3629\n",
      "Epoch 3/20\n",
      "231/231 [==============================] - 17s 75ms/step - loss: 3.5343 - mae: 0.7710 - val_loss: 17.4019 - val_mae: 3.3049\n",
      "Epoch 4/20\n",
      "231/231 [==============================] - 17s 75ms/step - loss: 3.4128 - mae: 0.7374 - val_loss: 18.7462 - val_mae: 3.3462\n",
      "Epoch 5/20\n",
      "231/231 [==============================] - 17s 74ms/step - loss: 3.3139 - mae: 0.6995 - val_loss: 18.0316 - val_mae: 3.3859\n",
      "Epoch 6/20\n",
      "231/231 [==============================] - 17s 76ms/step - loss: 3.3762 - mae: 0.6911 - val_loss: 17.4190 - val_mae: 3.2825\n",
      "Epoch 7/20\n",
      "231/231 [==============================] - 18s 76ms/step - loss: 3.7832 - mae: 0.6995 - val_loss: 18.0611 - val_mae: 3.3655\n",
      "Epoch 8/20\n",
      "231/231 [==============================] - 17s 76ms/step - loss: 3.3213 - mae: 0.6509 - val_loss: 17.0528 - val_mae: 3.2928\n",
      "Epoch 9/20\n",
      "231/231 [==============================] - 17s 76ms/step - loss: 2.7135 - mae: 0.5881 - val_loss: 16.7687 - val_mae: 3.3047\n",
      "Epoch 10/20\n",
      "231/231 [==============================] - 18s 76ms/step - loss: 2.8197 - mae: 0.5711 - val_loss: 17.1373 - val_mae: 3.3730\n",
      "Epoch 11/20\n",
      "231/231 [==============================] - 17s 75ms/step - loss: 2.6243 - mae: 0.5860 - val_loss: 16.5945 - val_mae: 3.2591\n",
      "Epoch 12/20\n",
      "231/231 [==============================] - 17s 74ms/step - loss: 3.0359 - mae: 0.5731 - val_loss: 16.3875 - val_mae: 3.3423\n",
      "Epoch 13/20\n",
      "231/231 [==============================] - 17s 75ms/step - loss: 2.1469 - mae: 0.5510 - val_loss: 16.4545 - val_mae: 3.3716\n",
      "Epoch 14/20\n",
      "231/231 [==============================] - 17s 76ms/step - loss: 2.7160 - mae: 0.5856 - val_loss: 17.1267 - val_mae: 3.3232\n",
      "Epoch 15/20\n",
      "231/231 [==============================] - 17s 75ms/step - loss: 2.3432 - mae: 0.5254 - val_loss: 16.9317 - val_mae: 3.3218\n",
      "Epoch 16/20\n",
      "231/231 [==============================] - 17s 76ms/step - loss: 2.6196 - mae: 0.5373 - val_loss: 17.0277 - val_mae: 3.4839\n",
      "Epoch 17/20\n",
      "231/231 [==============================] - 17s 75ms/step - loss: 2.5248 - mae: 0.5565 - val_loss: 16.6392 - val_mae: 3.3178\n"
     ]
    },
    {
     "name": "stderr",
     "output_type": "stream",
     "text": [
      "distributed.utils_perf - WARNING - full garbage collections took 11% CPU time recently (threshold: 10%)\n"
     ]
    },
    {
     "name": "stdout",
     "output_type": "stream",
     "text": [
      "Chunk 24/52 // 44.23% Complete // Cycle 3/3\n"
     ]
    },
    {
     "name": "stderr",
     "output_type": "stream",
     "text": [
      "y:\\ML\\Anaconda\\envs\\TF-GPU\\lib\\site-packages\\sklearn\\preprocessing\\_label.py:876: UserWarning: unknown class(es) [' Digital Leisure ', ' Eighting ', ' Eurocom ', 'Ankama Games ', 'Arc System Works', 'Avalanche Software ', 'Barking Dog ', 'Ben Esposito ', 'Bippinbits ', 'Canal+ Multimedia ', 'Code Force ', 'Digital Leisure Inc.', 'Disney Interactive Studios ', 'Eurocom Entertainment Software', 'Heavy Iron Studios', 'Illwinter Design Group ', 'Jesse Makkonen ', 'KillHouse Games ', 'Massive Work Studio ', 'Moppin ', 'Muro Studios Ltd. ', 'Nerve Software ', 'Pocket Trap ', 'Propaganda Games ', 'Secret Base ', 'Stickmen Studios ', 'Team Salvato ', 'Toukana Interactive ', 'Un Je Ne Sais Quoi ', 'V1 Interactive '] will be ignored\n",
      "  \"unknown class(es) {0} will be ignored\".format(sorted(unknown, key=str))\n",
      "distributed.utils_perf - WARNING - full garbage collections took 10% CPU time recently (threshold: 10%)\n",
      "distributed.utils_perf - WARNING - full garbage collections took 10% CPU time recently (threshold: 10%)\n"
     ]
    },
    {
     "name": "stdout",
     "output_type": "stream",
     "text": [
      "Epoch 1/20\n",
      "212/212 [==============================] - 16s 76ms/step - loss: 10.1087 - mae: 1.7098 - val_loss: 11.1418 - val_mae: 2.5187\n",
      "Epoch 2/20\n",
      "212/212 [==============================] - 16s 75ms/step - loss: 6.9900 - mae: 1.2612 - val_loss: 8.3982 - val_mae: 2.4245\n",
      "Epoch 3/20\n",
      "212/212 [==============================] - 16s 74ms/step - loss: 5.6467 - mae: 1.1045 - val_loss: 8.6153 - val_mae: 2.4352\n",
      "Epoch 4/20\n",
      "212/212 [==============================] - 16s 76ms/step - loss: 5.4818 - mae: 1.0213 - val_loss: 9.1052 - val_mae: 2.6438\n",
      "Epoch 5/20\n",
      "212/212 [==============================] - 16s 75ms/step - loss: 5.2277 - mae: 1.0142 - val_loss: 9.0126 - val_mae: 2.6641\n",
      "Epoch 6/20\n",
      "212/212 [==============================] - 16s 74ms/step - loss: 4.8475 - mae: 0.9264 - val_loss: 9.3324 - val_mae: 2.7279\n",
      "Epoch 7/20\n",
      "212/212 [==============================] - 16s 76ms/step - loss: 4.5125 - mae: 0.9326 - val_loss: 9.1859 - val_mae: 2.6283\n"
     ]
    },
    {
     "name": "stderr",
     "output_type": "stream",
     "text": [
      "distributed.utils_perf - WARNING - full garbage collections took 11% CPU time recently (threshold: 10%)\n"
     ]
    },
    {
     "name": "stdout",
     "output_type": "stream",
     "text": [
      "Chunk 25/52 // 46.15% Complete // Cycle 3/3\n"
     ]
    },
    {
     "name": "stderr",
     "output_type": "stream",
     "text": [
      "y:\\ML\\Anaconda\\envs\\TF-GPU\\lib\\site-packages\\sklearn\\preprocessing\\_label.py:876: UserWarning: unknown class(es) [' A Jolly Corpse ', ' FunHouse ', ' Koei Tecmo Games ', ' Mobigame ', ' Rabbit & Bear Studios ', ' Red Winter Software ', '3D Realms ', '7 Studios ', 'Afterburner Studios ', 'Amaze Entertainment ', 'Artematica ', 'Bay 12 Games ', 'Bedlam Games ', 'Black Salt Games ', 'Buka Entertainment ', 'Byterunners Game Studio ', 'Critical Studio ', 'Ctrl Alt Ninja Ltd. ', 'Cube Roots ', 'Dancing Dragon games ', 'Digital Happiness ', 'Dimps Corporation ', 'Eastshade Studios ', 'Game Grumps ', 'Gaslamp Games ', 'Heuristic Park ', 'Hitbox  ', 'Holospark ', 'Honig Studios ', 'HyperSloth ', 'Instant Kingdom ', 'Midgar Studio ', 'Mike Studios ', 'Mindware Studios ', 'Misfits Attic ', 'NATSUME ATARI Inc.', 'New Blood Interactive ', 'Omega Force', 'Owlchemy Labs ', 'PD Design Studio Pte Ltd ', 'Paleo Entertainment ', 'Pixpil ', 'Plastic Reality ', 'Radon Labs ', 'Raspina Studio ', 'Red Thread Games ', 'Red Winter Software Limited', 'Reflections Interactive ', 'Runewaker Entertainment ', 'Snowbird Game Studios ', 'Soldak Entertainment ', 'Studio V ', 'Sunstorm Interactive ', 'T19 Games ', 'Tendershoot', 'TopWare Interactive ', 'Two Tribes', 'Ubisoft Montreal', 'Ultra Ultra ', 'Vicious Cycle ', 'Zuxxez '] will be ignored\n",
      "  \"unknown class(es) {0} will be ignored\".format(sorted(unknown, key=str))\n",
      "distributed.utils_perf - WARNING - full garbage collections took 11% CPU time recently (threshold: 10%)\n",
      "distributed.utils_perf - WARNING - full garbage collections took 11% CPU time recently (threshold: 10%)\n"
     ]
    },
    {
     "name": "stdout",
     "output_type": "stream",
     "text": [
      "Epoch 1/20\n",
      "232/232 [==============================] - 18s 76ms/step - loss: 21.9483 - mae: 2.8099 - val_loss: 19.6110 - val_mae: 3.6321\n",
      "Epoch 2/20\n",
      "232/232 [==============================] - 17s 75ms/step - loss: 13.2515 - mae: 1.9776 - val_loss: 17.9951 - val_mae: 3.3194\n",
      "Epoch 3/20\n",
      "232/232 [==============================] - 18s 76ms/step - loss: 10.4766 - mae: 1.7602 - val_loss: 18.8846 - val_mae: 3.4539\n",
      "Epoch 4/20\n",
      "232/232 [==============================] - 17s 75ms/step - loss: 9.2218 - mae: 1.5881 - val_loss: 18.7158 - val_mae: 3.3940\n",
      "Epoch 5/20\n",
      "232/232 [==============================] - 17s 74ms/step - loss: 9.2774 - mae: 1.5349 - val_loss: 19.0504 - val_mae: 3.4528\n",
      "Epoch 6/20\n",
      "232/232 [==============================] - 18s 76ms/step - loss: 8.1296 - mae: 1.4684 - val_loss: 17.9189 - val_mae: 3.4243\n",
      "Epoch 7/20\n",
      "232/232 [==============================] - 17s 75ms/step - loss: 7.6493 - mae: 1.4110 - val_loss: 18.6198 - val_mae: 3.4951\n",
      "Epoch 8/20\n",
      "232/232 [==============================] - 17s 75ms/step - loss: 7.4755 - mae: 1.3659 - val_loss: 18.1224 - val_mae: 3.2293\n",
      "Epoch 9/20\n",
      "232/232 [==============================] - 17s 75ms/step - loss: 7.6683 - mae: 1.3662 - val_loss: 18.0386 - val_mae: 3.2664\n",
      "Epoch 10/20\n",
      "232/232 [==============================] - 17s 74ms/step - loss: 8.1567 - mae: 1.3286 - val_loss: 17.8385 - val_mae: 3.2501\n",
      "Epoch 11/20\n",
      "232/232 [==============================] - 17s 75ms/step - loss: 6.3547 - mae: 1.2678 - val_loss: 18.0668 - val_mae: 3.2231\n",
      "Epoch 12/20\n",
      "232/232 [==============================] - 17s 74ms/step - loss: 7.0432 - mae: 1.2599 - val_loss: 17.9382 - val_mae: 3.2330\n",
      "Epoch 13/20\n",
      "232/232 [==============================] - 17s 75ms/step - loss: 7.3940 - mae: 1.2403 - val_loss: 18.4338 - val_mae: 3.2920\n",
      "Epoch 14/20\n",
      "232/232 [==============================] - 18s 76ms/step - loss: 6.7453 - mae: 1.2197 - val_loss: 17.6132 - val_mae: 3.2728\n",
      "Epoch 15/20\n",
      "232/232 [==============================] - 18s 76ms/step - loss: 6.3849 - mae: 1.1962 - val_loss: 17.6704 - val_mae: 3.2354\n",
      "Epoch 16/20\n",
      "232/232 [==============================] - 18s 76ms/step - loss: 5.4894 - mae: 1.1066 - val_loss: 17.6889 - val_mae: 3.2081\n",
      "Epoch 17/20\n",
      "232/232 [==============================] - 17s 75ms/step - loss: 6.4574 - mae: 1.1635 - val_loss: 17.8399 - val_mae: 3.2472\n",
      "Epoch 18/20\n",
      "232/232 [==============================] - 17s 75ms/step - loss: 5.6648 - mae: 1.1336 - val_loss: 19.2255 - val_mae: 3.4743\n",
      "Epoch 19/20\n",
      "232/232 [==============================] - 18s 76ms/step - loss: 6.7848 - mae: 1.1414 - val_loss: 19.5081 - val_mae: 3.4590\n"
     ]
    },
    {
     "name": "stderr",
     "output_type": "stream",
     "text": [
      "distributed.utils_perf - WARNING - full garbage collections took 10% CPU time recently (threshold: 10%)\n"
     ]
    },
    {
     "name": "stdout",
     "output_type": "stream",
     "text": [
      "Chunk 26/52 // 48.08% Complete // Cycle 3/3\n"
     ]
    },
    {
     "name": "stderr",
     "output_type": "stream",
     "text": [
      "y:\\ML\\Anaconda\\envs\\TF-GPU\\lib\\site-packages\\sklearn\\preprocessing\\_label.py:876: UserWarning: unknown class(es) ['Text'] will be ignored\n",
      "  \"unknown class(es) {0} will be ignored\".format(sorted(unknown, key=str))\n",
      "y:\\ML\\Anaconda\\envs\\TF-GPU\\lib\\site-packages\\sklearn\\preprocessing\\_label.py:876: UserWarning: unknown class(es) [' Alex May ', ' Endlessfluff Games ', ' Foreign Gnomes ', ' Humble Games', ' Live Wire ', ' MicroProse ', ' TimeGate Studios ', '1C:Ino-Co ', '4Head Studios ', 'Abrakam SA ', 'Atari', 'BreakAway Games ', 'Chaosmonger Studio ', 'Chris Nordgren', 'Codemasters Birmingham ', 'Coin Crew Games ', 'DESTINYbit ', 'Dark Crystal Games ', 'Digital Lode ', 'Elder Games ', 'Erik Svedang ', 'Exbleative ', 'Fallen Earth', 'Fallen Flag Studio ', 'Fireplace Games ', 'Fishing Cactus ', 'Gameyus Interactive ', 'Gentlymad ', 'Gust ', 'Heavy Iron Studios ', 'Herobeat Studios ', 'Humble Bundle', 'Idea Factory ', 'Image Space Incorporated ', 'Lead Pursuit ', 'Lexis Numerique ', 'Live Wire Films', 'Logic Artists ', 'Mad Orange ', 'MagicalTimeBean ', 'Mantra ', 'Matias Schmied ', 'Minor Key Games ', 'Monolith Productions', 'Nfusion ', 'Ocelot Society ', 'Pathea Games ', 'Popcannibal ', 'Queasy Games ', 'ROCKFISH Games ', 'Rage Software ', 'Razorworks ', 'Rudolf Kremers', 'Shiro Games ', 'Sixteen Tons Entertainment ', 'StarWraith ', 'Storm in a Teacup ', 'Stormfront Studios ', 'TIGAMES ', 'Tesseraction Games ', 'The Chinese Room ', 'Tindalos Interactive ', 'ValuSoft ', 'Video System ', 'White Paper Games ', 'Wube Software LTD. ', 'Zachtronics Industries ', 'i-illusions '] will be ignored\n",
      "  \"unknown class(es) {0} will be ignored\".format(sorted(unknown, key=str))\n",
      "distributed.utils_perf - WARNING - full garbage collections took 10% CPU time recently (threshold: 10%)\n",
      "distributed.utils_perf - WARNING - full garbage collections took 10% CPU time recently (threshold: 10%)\n"
     ]
    },
    {
     "name": "stdout",
     "output_type": "stream",
     "text": [
      "Epoch 1/20\n",
      "229/229 [==============================] - 18s 75ms/step - loss: 29.6990 - mae: 3.6600 - val_loss: 29.3189 - val_mae: 4.1939\n",
      "Epoch 2/20\n",
      "229/229 [==============================] - 17s 74ms/step - loss: 18.3537 - mae: 2.6858 - val_loss: 24.4980 - val_mae: 3.9157\n",
      "Epoch 3/20\n",
      "229/229 [==============================] - 17s 75ms/step - loss: 16.4907 - mae: 2.4109 - val_loss: 23.5163 - val_mae: 3.8782\n",
      "Epoch 4/20\n",
      "229/229 [==============================] - 17s 75ms/step - loss: 14.5580 - mae: 2.1997 - val_loss: 21.7091 - val_mae: 3.7253\n",
      "Epoch 5/20\n",
      "229/229 [==============================] - 17s 75ms/step - loss: 12.3673 - mae: 2.0055 - val_loss: 23.2500 - val_mae: 3.9401\n",
      "Epoch 6/20\n",
      "229/229 [==============================] - 17s 76ms/step - loss: 12.4317 - mae: 1.9500 - val_loss: 20.0821 - val_mae: 3.6206\n",
      "Epoch 7/20\n",
      "229/229 [==============================] - 17s 75ms/step - loss: 11.9318 - mae: 1.8761 - val_loss: 21.0904 - val_mae: 3.7311\n",
      "Epoch 8/20\n",
      "229/229 [==============================] - 17s 76ms/step - loss: 12.4902 - mae: 1.8565 - val_loss: 20.9596 - val_mae: 3.6951\n",
      "Epoch 9/20\n",
      "229/229 [==============================] - 17s 74ms/step - loss: 11.8127 - mae: 1.7813 - val_loss: 20.5393 - val_mae: 3.7107\n",
      "Epoch 10/20\n",
      "229/229 [==============================] - 17s 75ms/step - loss: 11.2987 - mae: 1.7499 - val_loss: 21.3586 - val_mae: 3.7499\n",
      "Epoch 11/20\n",
      "229/229 [==============================] - 17s 75ms/step - loss: 12.1546 - mae: 1.7969 - val_loss: 21.5429 - val_mae: 3.7863\n"
     ]
    },
    {
     "name": "stderr",
     "output_type": "stream",
     "text": [
      "distributed.utils_perf - WARNING - full garbage collections took 10% CPU time recently (threshold: 10%)\n"
     ]
    },
    {
     "name": "stdout",
     "output_type": "stream",
     "text": [
      "Chunk 27/52 // 50.0% Complete // Cycle 3/3\n"
     ]
    },
    {
     "name": "stderr",
     "output_type": "stream",
     "text": [
      "y:\\ML\\Anaconda\\envs\\TF-GPU\\lib\\site-packages\\sklearn\\preprocessing\\_label.py:876: UserWarning: unknown class(es) [' 1C:Ino-Co ', 'Owned by Gravity '] will be ignored\n",
      "  \"unknown class(es) {0} will be ignored\".format(sorted(unknown, key=str))\n",
      "distributed.utils_perf - WARNING - full garbage collections took 10% CPU time recently (threshold: 10%)\n",
      "distributed.utils_perf - WARNING - full garbage collections took 10% CPU time recently (threshold: 10%)\n"
     ]
    },
    {
     "name": "stdout",
     "output_type": "stream",
     "text": [
      "Epoch 1/20\n",
      "224/224 [==============================] - 17s 75ms/step - loss: 10.2408 - mae: 2.0484 - val_loss: 21.7486 - val_mae: 3.9723\n",
      "Epoch 2/20\n",
      "224/224 [==============================] - 17s 75ms/step - loss: 4.8073 - mae: 1.4186 - val_loss: 20.3543 - val_mae: 3.8679\n",
      "Epoch 3/20\n",
      "224/224 [==============================] - 17s 75ms/step - loss: 3.7771 - mae: 1.1875 - val_loss: 21.7666 - val_mae: 3.9912\n",
      "Epoch 4/20\n",
      "224/224 [==============================] - 17s 75ms/step - loss: 3.5257 - mae: 1.1142 - val_loss: 20.6187 - val_mae: 3.9240\n",
      "Epoch 5/20\n",
      "224/224 [==============================] - 17s 76ms/step - loss: 3.7012 - mae: 1.0657 - val_loss: 19.9564 - val_mae: 3.8914\n",
      "Epoch 6/20\n",
      "224/224 [==============================] - 17s 75ms/step - loss: 2.9724 - mae: 0.9586 - val_loss: 20.7664 - val_mae: 3.9185\n",
      "Epoch 7/20\n",
      "224/224 [==============================] - 17s 75ms/step - loss: 2.5627 - mae: 0.8616 - val_loss: 19.6993 - val_mae: 3.8899\n",
      "Epoch 8/20\n",
      "224/224 [==============================] - 17s 74ms/step - loss: 2.7449 - mae: 0.8618 - val_loss: 19.1953 - val_mae: 3.8424\n",
      "Epoch 9/20\n",
      "224/224 [==============================] - 17s 75ms/step - loss: 2.6036 - mae: 0.8257 - val_loss: 19.2725 - val_mae: 3.8649\n",
      "Epoch 10/20\n",
      "224/224 [==============================] - 17s 75ms/step - loss: 2.5848 - mae: 0.8231 - val_loss: 19.1414 - val_mae: 3.9290\n",
      "Epoch 11/20\n",
      "224/224 [==============================] - 17s 74ms/step - loss: 2.6008 - mae: 0.8062 - val_loss: 19.2096 - val_mae: 3.8856\n",
      "Epoch 12/20\n",
      "224/224 [==============================] - 17s 74ms/step - loss: 2.2996 - mae: 0.7482 - val_loss: 20.2449 - val_mae: 4.0640\n",
      "Epoch 13/20\n",
      "224/224 [==============================] - 17s 75ms/step - loss: 2.0558 - mae: 0.7198 - val_loss: 18.7952 - val_mae: 3.8939\n",
      "Epoch 14/20\n",
      "224/224 [==============================] - 17s 75ms/step - loss: 2.3501 - mae: 0.7200 - val_loss: 19.4311 - val_mae: 3.9587\n",
      "Epoch 15/20\n",
      "224/224 [==============================] - 17s 75ms/step - loss: 2.1738 - mae: 0.6993 - val_loss: 19.1202 - val_mae: 3.9674\n",
      "Epoch 16/20\n",
      "224/224 [==============================] - 17s 75ms/step - loss: 2.2202 - mae: 0.6962 - val_loss: 20.2460 - val_mae: 4.0569\n",
      "Epoch 17/20\n",
      "224/224 [==============================] - 17s 75ms/step - loss: 1.9666 - mae: 0.6740 - val_loss: 19.7149 - val_mae: 4.0078\n",
      "Epoch 18/20\n",
      "224/224 [==============================] - 17s 75ms/step - loss: 2.2807 - mae: 0.7335 - val_loss: 19.8267 - val_mae: 4.0010\n",
      "Chunk 28/52 // 51.92% Complete // Cycle 3/3\n"
     ]
    },
    {
     "name": "stderr",
     "output_type": "stream",
     "text": [
      "y:\\ML\\Anaconda\\envs\\TF-GPU\\lib\\site-packages\\sklearn\\preprocessing\\_label.py:876: UserWarning: unknown class(es) [' Ankama ', ' Black Drakkar Games ', ' Blitz Games ', ' Calappa Games ', ' Creative Business Unit III ', ' Cyan', ' EA Vancouver ', ' Gun Interactive ', ' Team 6 Games Studio ', '17-Bit ', '2By3 Games ', '6 Eyes Studio ', 'AGEOD ', 'Ankama Games', 'Anshar Studios ', 'Antab Studio ', 'Auran ', 'Awesome Games Studio ', 'Axel Fox ', 'Beard Envy ', 'Bedtime Digital Games ', 'BetaDwarf ', 'Bits & Beasts ', 'Bonus Level Entertainment ', 'Brain Candy ', 'Brendon Chung ', 'Bright Future GmbH ', 'Byte Barrel ', 'Campo Santo ', 'Cellar Door Games ', 'ChessBase ', 'Cyan Worlds', 'Dead Mage Studio ', 'EA Sports', 'Edge Case Games ', 'Fallen Leaf', 'Fishlabs ', 'Fort Triumph LTD ', 'Freebird Games ', 'Freedom LLC ', 'GalaxyTrail ', 'Gamepires ', 'Grace Bruxner ', 'Green Lava Studios ', 'Greenheart Games ', 'Ground Shatter Ltd. ', 'Harmonix Music Systems ', 'Hasbro Interactive', 'Hexagon Entertainment ', 'HopFrog ', 'Hothouse Creations ', 'IllFonic', 'IronOak Games ', 'JC Entertainment ', 'Kaos Studios ', 'Kong Orange ', 'Lukas Navratil ', 'MediaMobsters ', 'Mode 7 Games ', 'Mopeful Games ', 'Mutant Games ', 'Nemesys ', 'Nussoft', 'Object ', 'Okomotive ', 'Paranoid Interactive ', 'Perfect World Entertainment ', 'Phil Hassey ', 'Phosfiend Systems ', 'Pinkerton Road Studio ', 'Proper Games ', 'Pulsatrix Studios ', 'R8 Games ', 'Razorworks ', 'Red 5 Studios ', 'Red Redemption ', 'Sassybot ', 'Scott Cawthon ', 'Sierra Entertainment ', 'Spaces of Play ', 'Sports Mogul ', 'Stormfront Studios ', 'Sushee ', 'Team2Bit ', 'Team6 Game Studios', 'Throughline Games ', 'Tri Synergy ', 'Tribute Games ', 'Vile Monarch ', 'Whole Hog Games ', 'WideScreen Games ', 'WildTangent ', 'Zoink! ', 'animdude '] will be ignored\n",
      "  \"unknown class(es) {0} will be ignored\".format(sorted(unknown, key=str))\n"
     ]
    },
    {
     "name": "stdout",
     "output_type": "stream",
     "text": [
      "Epoch 1/20\n",
      "225/225 [==============================] - 18s 77ms/step - loss: 33.6234 - mae: 3.9601 - val_loss: 22.3547 - val_mae: 3.5039\n",
      "Epoch 2/20\n",
      "225/225 [==============================] - 17s 75ms/step - loss: 17.3022 - mae: 2.7487 - val_loss: 19.3962 - val_mae: 3.4408\n",
      "Epoch 3/20\n",
      "225/225 [==============================] - 17s 75ms/step - loss: 14.8963 - mae: 2.4308 - val_loss: 17.2598 - val_mae: 3.2306\n",
      "Epoch 4/20\n",
      "225/225 [==============================] - 17s 76ms/step - loss: 14.0121 - mae: 2.3024 - val_loss: 17.8572 - val_mae: 3.1945\n",
      "Epoch 5/20\n",
      "225/225 [==============================] - 17s 74ms/step - loss: 12.7957 - mae: 2.2032 - val_loss: 17.3398 - val_mae: 3.2185\n",
      "Epoch 6/20\n",
      "225/225 [==============================] - 17s 74ms/step - loss: 12.7467 - mae: 2.1442 - val_loss: 17.1125 - val_mae: 3.1383\n",
      "Epoch 7/20\n",
      "225/225 [==============================] - 17s 76ms/step - loss: 11.2053 - mae: 2.0237 - val_loss: 18.1631 - val_mae: 3.2391\n",
      "Epoch 8/20\n",
      "225/225 [==============================] - 17s 74ms/step - loss: 11.6029 - mae: 2.0147 - val_loss: 16.7944 - val_mae: 3.0380\n",
      "Epoch 9/20\n",
      "225/225 [==============================] - 17s 75ms/step - loss: 10.9275 - mae: 1.9978 - val_loss: 16.7734 - val_mae: 3.1056\n",
      "Epoch 10/20\n",
      "225/225 [==============================] - 17s 76ms/step - loss: 10.8451 - mae: 1.9157 - val_loss: 16.6612 - val_mae: 3.0898\n",
      "Epoch 11/20\n",
      "225/225 [==============================] - 17s 75ms/step - loss: 10.0726 - mae: 1.8594 - val_loss: 15.9167 - val_mae: 2.9970\n",
      "Epoch 12/20\n",
      "225/225 [==============================] - 17s 74ms/step - loss: 10.3129 - mae: 1.8535 - val_loss: 15.7648 - val_mae: 2.8704\n",
      "Epoch 13/20\n",
      "225/225 [==============================] - 17s 76ms/step - loss: 9.8418 - mae: 1.7783 - val_loss: 16.1222 - val_mae: 2.9741\n",
      "Epoch 14/20\n",
      "225/225 [==============================] - 17s 76ms/step - loss: 10.1633 - mae: 1.8352 - val_loss: 16.6126 - val_mae: 2.9672\n",
      "Epoch 15/20\n",
      "225/225 [==============================] - 17s 76ms/step - loss: 10.6711 - mae: 1.8595 - val_loss: 15.8832 - val_mae: 3.0124\n",
      "Epoch 16/20\n",
      "225/225 [==============================] - 17s 75ms/step - loss: 9.6203 - mae: 1.7757 - val_loss: 15.9417 - val_mae: 2.9543\n",
      "Epoch 17/20\n",
      "225/225 [==============================] - 17s 76ms/step - loss: 9.3113 - mae: 1.7457 - val_loss: 16.7231 - val_mae: 2.9929\n",
      "Chunk 29/52 // 53.85% Complete // Cycle 3/3\n"
     ]
    },
    {
     "name": "stderr",
     "output_type": "stream",
     "text": [
      "y:\\ML\\Anaconda\\envs\\TF-GPU\\lib\\site-packages\\sklearn\\preprocessing\\_label.py:876: UserWarning: unknown class(es) [' Acclaim Studios Manchester ', ' Atari ', ' Atari SA ', ' Buried Signal ', ' Grove Street Games ', ' Joshua Nuernberger ', ' LLC', ' Marvelous First Studio ', ' MicroProse', ' Mixed Realms ', ' Phosphor Games ', ' SeithCG ', ' Splash Damage', '4D Rulers ', '@unepic_fran ', 'Acclaim', 'AggroCrab ', 'Astro Port ', 'Atari', 'Atelier Mimina ', 'Bandai Namco Games', 'Barking Dog ', 'Behavior Studios ', 'Camel 101 ', 'Cat Daddy Games ', 'Chronic Logic ', 'Clever Beans ', 'Coffee Stain North ', 'Covenant.dev ', 'Cypron Studios ', 'Demagog Studio ', 'Devolver Digital ', 'Doinksoft ', 'Feral Cat Den ', 'Fishcow Studio ', 'Flaming Fowl Studios ', 'Free Lives ', 'Gamepires ', 'Gaming Minds Studios ', 'Ghost of a Tale', 'Hasbro Interactive', 'Heatwave Interactive ', 'IllFonic ', 'Jason Roberts', 'Lucid Games ', 'Metamorf Studios ', 'Mixed Realms Pte Ltd', 'Motiga ', 'Old Moon ', 'Old School Games ', 'Phosphor Games Studio', 'Planet Moon Studios ', 'PortaPlay ', 'Radiation Blue ', 'Sick Puppies ', 'Silver Style ', 'Smudged Cat Games ', 'Stuck In Attic ', 'Sushee ', 'The Fullbright Company ', 'Trine Games ', 'Wadjet Eye Games', 'Warner Bros. Interactive Entertainment ', 'Whalebox Studio '] will be ignored\n",
      "  \"unknown class(es) {0} will be ignored\".format(sorted(unknown, key=str))\n"
     ]
    },
    {
     "name": "stdout",
     "output_type": "stream",
     "text": [
      "Epoch 1/20\n",
      "210/210 [==============================] - 16s 75ms/step - loss: 34.9361 - mae: 3.8214 - val_loss: 20.6891 - val_mae: 3.3212\n",
      "Epoch 2/20\n",
      "210/210 [==============================] - 16s 75ms/step - loss: 17.8078 - mae: 2.4385 - val_loss: 19.7482 - val_mae: 3.2636\n",
      "Epoch 3/20\n",
      "210/210 [==============================] - 16s 75ms/step - loss: 15.5383 - mae: 2.1065 - val_loss: 19.4766 - val_mae: 3.5131\n",
      "Epoch 4/20\n",
      "210/210 [==============================] - 16s 75ms/step - loss: 14.2086 - mae: 1.9439 - val_loss: 18.5149 - val_mae: 3.5005\n",
      "Epoch 5/20\n",
      "210/210 [==============================] - 16s 75ms/step - loss: 11.5334 - mae: 1.7923 - val_loss: 17.8898 - val_mae: 3.5400\n",
      "Epoch 6/20\n",
      "210/210 [==============================] - 16s 75ms/step - loss: 12.2983 - mae: 1.7703 - val_loss: 19.8911 - val_mae: 3.6450\n",
      "Epoch 7/20\n",
      "210/210 [==============================] - 16s 75ms/step - loss: 10.6411 - mae: 1.6388 - val_loss: 17.2917 - val_mae: 3.4643\n",
      "Epoch 8/20\n",
      "210/210 [==============================] - 16s 75ms/step - loss: 10.4117 - mae: 1.5933 - val_loss: 21.7387 - val_mae: 3.9522\n",
      "Epoch 9/20\n",
      "210/210 [==============================] - 16s 75ms/step - loss: 10.3891 - mae: 1.5388 - val_loss: 20.2289 - val_mae: 3.6926\n",
      "Epoch 10/20\n",
      "210/210 [==============================] - 16s 74ms/step - loss: 10.0832 - mae: 1.5139 - val_loss: 20.2882 - val_mae: 3.8353\n",
      "Epoch 11/20\n",
      "210/210 [==============================] - 16s 75ms/step - loss: 9.4563 - mae: 1.4692 - val_loss: 20.1587 - val_mae: 3.8093\n",
      "Epoch 12/20\n",
      "210/210 [==============================] - 16s 76ms/step - loss: 9.2423 - mae: 1.4692 - val_loss: 21.0196 - val_mae: 3.8615\n",
      "Chunk 30/52 // 55.77% Complete // Cycle 3/3\n"
     ]
    },
    {
     "name": "stderr",
     "output_type": "stream",
     "text": [
      "y:\\ML\\Anaconda\\envs\\TF-GPU\\lib\\site-packages\\sklearn\\preprocessing\\_label.py:876: UserWarning: unknown class(es) [' Clover Bite ', ' Grove Street Games ', ' GungHo', ' Navegante Entertainment ', ' PopCap ', ' SkyBox Labs ', '10 Chambers Collective ', 'Bromio', 'Caged Element Inc. ', 'Claeys Brothers Arts ', 'Crate Entertainment ', 'Crazy Monkey Studios ', 'Creepy Jar ', 'Cyber Rhino Studios ', 'Daybreak Games ', 'DrinkBox Studios ', 'Funnel Entertainment', 'Gambrinous ', 'Game Arts', 'Game Arts ', 'IGGYMOB ', 'Interactive Stone ', 'Ivy Games LLC ', 'Johnny Dale Lonack ', 'Lazy Bear Games ', 'Massive Damage', 'Muse Games ', 'Neversoft Entertainment', 'Orann ', 'Positech Games ', 'Prideful Sloth ', 'Rebelmind ', 'Rewolf Software ', 'Silent Dreams ', 'TALEROCK ', 'Tom Francis ', 'W!Games ', 'Wizarbox ', 'WorldForge ', 'Yukitama Creative Industries '] will be ignored\n",
      "  \"unknown class(es) {0} will be ignored\".format(sorted(unknown, key=str))\n"
     ]
    },
    {
     "name": "stdout",
     "output_type": "stream",
     "text": [
      "Epoch 1/20\n",
      "221/221 [==============================] - 17s 74ms/step - loss: 19.6653 - mae: 3.0268 - val_loss: 20.8631 - val_mae: 3.7395\n",
      "Epoch 2/20\n",
      "221/221 [==============================] - 17s 75ms/step - loss: 12.4726 - mae: 2.3430 - val_loss: 19.7217 - val_mae: 3.6335\n",
      "Epoch 3/20\n",
      "221/221 [==============================] - 16s 75ms/step - loss: 10.4136 - mae: 1.9900 - val_loss: 19.9066 - val_mae: 3.6243\n",
      "Epoch 4/20\n",
      "221/221 [==============================] - 16s 75ms/step - loss: 9.6955 - mae: 1.8186 - val_loss: 19.2295 - val_mae: 3.5189\n",
      "Epoch 5/20\n",
      "221/221 [==============================] - 17s 75ms/step - loss: 8.3595 - mae: 1.7080 - val_loss: 19.6286 - val_mae: 3.5491\n",
      "Epoch 6/20\n",
      "221/221 [==============================] - 17s 76ms/step - loss: 8.2202 - mae: 1.6246 - val_loss: 19.2079 - val_mae: 3.5740\n",
      "Epoch 7/20\n",
      "221/221 [==============================] - 17s 76ms/step - loss: 8.2496 - mae: 1.6140 - val_loss: 19.2778 - val_mae: 3.6158\n",
      "Epoch 8/20\n",
      "221/221 [==============================] - 17s 76ms/step - loss: 7.7511 - mae: 1.5527 - val_loss: 20.5357 - val_mae: 3.8030\n",
      "Epoch 9/20\n",
      "221/221 [==============================] - 16s 75ms/step - loss: 7.9914 - mae: 1.5492 - val_loss: 21.3058 - val_mae: 3.9453\n",
      "Epoch 10/20\n",
      "221/221 [==============================] - 17s 75ms/step - loss: 7.5261 - mae: 1.4809 - val_loss: 22.5210 - val_mae: 4.1045\n",
      "Epoch 11/20\n",
      "221/221 [==============================] - 16s 75ms/step - loss: 7.6225 - mae: 1.4565 - val_loss: 23.2288 - val_mae: 4.1618\n",
      "Chunk 31/52 // 57.69% Complete // Cycle 3/3\n"
     ]
    },
    {
     "name": "stderr",
     "output_type": "stream",
     "text": [
      "y:\\ML\\Anaconda\\envs\\TF-GPU\\lib\\site-packages\\sklearn\\preprocessing\\_label.py:876: UserWarning: unknown class(es) [' 343 Industries ', ' Atari SA ', ' Cognosphere ', \" DON'T NOD \", ' Eerie Guest ', ' Hex Entertainment ', ' Ice Cold Games ', ' Novik & Co ', ' Psyop ', ' Targem Games ', ' Transmission Games', ' Vanguard Games ', ' Virtuos ', '343 Industries', '3D People ', 'Amanita Design ', 'Aquiris Game Studio ', 'Arclight Creations ', 'Arkedo Studio ', 'Atari', 'Barking Dog ', 'Benjamin \"ThingOnItsOwn\" Hauer ', 'Benjamin Rivers ', 'Big Sandwich Games', 'Black Matter ', 'Brain Slap Studio ', 'Buka Entertainment', 'Burut Software ', 'Cat Rabbit ', 'Choice Provisions ', 'Cradle Games ', 'CreativeForge Games ', 'Cryptozoic Entertainment', 'DONTNOD Entertainment', 'Defiant Development ', 'DigiFX Interactive ', 'E-One Studio ', 'EA Bright Light ', 'GFI Russia ', 'Hato Moa ', 'IR Gurus ', 'Ice Code Games', 'Joel Mcdonald ', 'Lucky Pause ', 'Magic Design Studios ', 'Moon Spider Studio ', 'Mosaic Mask ', 'New World Computing ', 'Nival Interactive', 'Paul Helman ', 'Psyop Games', 'Quantic Dream', 'Red Zero Games ', 'Robotality ', 'Saibot Studios ', 'Sam Barlow ', 'Sega AM2 ', 'Silverback Entertainment ', 'Skrollcat Studios ', 'Sluggerfly ', 'Soft Enterprises ', 'Square Enix Montreal ', 'Straandlooper ', 'Sumo Newcastle ', 'Terri Vellimann ', 'Tom Francis ', 'Vanguard', 'Warpzone Studios ', 'inkle ', 'miHoYo', 'tinyBuild'] will be ignored\n",
      "  \"unknown class(es) {0} will be ignored\".format(sorted(unknown, key=str))\n"
     ]
    },
    {
     "name": "stdout",
     "output_type": "stream",
     "text": [
      "Epoch 1/20\n",
      "216/216 [==============================] - 17s 75ms/step - loss: 29.8718 - mae: 3.4087 - val_loss: 22.1404 - val_mae: 3.5874\n",
      "Epoch 2/20\n",
      "216/216 [==============================] - 16s 75ms/step - loss: 21.3447 - mae: 2.6107 - val_loss: 18.9223 - val_mae: 3.4341\n",
      "Epoch 3/20\n",
      "216/216 [==============================] - 16s 74ms/step - loss: 17.3223 - mae: 2.3883 - val_loss: 17.8625 - val_mae: 3.4014\n",
      "Epoch 4/20\n",
      "216/216 [==============================] - 16s 75ms/step - loss: 12.9652 - mae: 2.0786 - val_loss: 18.8712 - val_mae: 3.4075\n",
      "Epoch 5/20\n",
      "216/216 [==============================] - 16s 75ms/step - loss: 13.1134 - mae: 2.0287 - val_loss: 19.9964 - val_mae: 3.6616\n",
      "Epoch 6/20\n",
      "216/216 [==============================] - 16s 75ms/step - loss: 12.4661 - mae: 1.9249 - val_loss: 20.8547 - val_mae: 3.6994\n",
      "Epoch 7/20\n",
      "216/216 [==============================] - 16s 75ms/step - loss: 11.6239 - mae: 1.8522 - val_loss: 21.1479 - val_mae: 3.6942\n",
      "Epoch 8/20\n",
      "216/216 [==============================] - 16s 75ms/step - loss: 11.6201 - mae: 1.8167 - val_loss: 20.7469 - val_mae: 3.6947\n",
      "Chunk 32/52 // 59.62% Complete // Cycle 3/3\n"
     ]
    },
    {
     "name": "stderr",
     "output_type": "stream",
     "text": [
      "y:\\ML\\Anaconda\\envs\\TF-GPU\\lib\\site-packages\\sklearn\\preprocessing\\_label.py:876: UserWarning: unknown class(es) [' 1C-Entertainment ', ' Beamdog', ' Bloom Technology ', ' Blueside ', ' Crema Games ', ' Davit Andreasyan ', ' Easy Trigger Games ', ' Katuri Interactive ', ' Konjak ', ' Ltd. ', ' M2H & BlackMill Games ', ' Most Wanted Entertainment ', ' Overhaul Games ', ' Pine Scented Software ', ' PixelHive ', ' Spike Chunsoft ', ' Squad ', ' Voidpoint', '1C Entertainment', '1C-Softclub ', '3D Realms', '4X Studios ', 'Action Squad Studios ', 'Appaloosa Interactive ', 'Artifact Entertainment ', 'Artifex Mundi ', 'Artificial Mind and Movement ', 'Ascendant Studios ', 'Askiisoft ', 'Berzerk Studio ', 'Big Red Software ', 'Black Isle Studios', 'Bleakmill ', 'Blue Tongue Entertainment ', 'Blyts ', 'Bossa Studios ', 'Brawsome ', 'Bulwark Studios ', \"ByteRockers' Games \", 'Cardboard Box Entertainment ', 'Cardboard Computer ', 'Casey Donnellan Games LLC ', 'ChaosForge ', 'Clifftop Games ', 'Coffee Stain Studios', 'Conifer Games ', 'CremaGames', 'Critique Gaming ', 'Daniel Mullins Games ', 'Dark Energy Digital ', 'Digital Arrow ', 'Dirigo Games ', 'Dreadbit ', 'EKO Software ', 'Empyrean ', 'Fiddlesticks Games ', 'Final Form Games', 'Foolish Mortals Games ', 'Forge Reply ', 'Freebird Games ', 'Fugitive Games ', 'Fuzzyeyes Studio ', 'Galilea Multimedia ', 'Grasshopper Manufacture ', 'Grimbart Tales ', 'HD Interactive', 'HandyGames ', 'Happy Ray Games ', 'Hidden Layer Games ', 'Hollow Ponds and Richard Hogg ', 'IMGN.PRO ', 'Iceberg Interactive', 'In Utero ', 'Innerloop ', 'Joakim Sandberg', 'Juice Games ', 'Jump Over The Age ', 'Kaiko ', 'Katauri Interactive', 'Koboldgames ', 'Kyle Thompson ', 'L3O Interactive ', 'Lab Zero Games ', 'Lion Shield', 'Lo-Fi Games ', 'Lucky Mountain Games ', 'M2H', 'MONKEYCRAFT Co. Ltd. ', 'Metropolis Software ', 'Micro Application ', 'Mission Studios ', 'Mojo Bones ', 'Moonlight Games ', 'NExT Studios ', 'Namco ', 'Necrophone ', 'Nemesys ', 'No Brakes Games ', 'Northway Games ', 'Nullpointer Games ', 'Palindrome Interactive ', 'Particle Systems ', 'Phantagram', 'PolyKnight Games ', 'Primal Software ', 'QLOC ', 'Rage Software ', 'Rocket Bear Games ', 'SQUADTeam', 'Sam Barlow ', 'Shanghai FantaBlade Network Technology Co.', 'Sir-Tech Software Inc. ', 'So Romantic ', 'Somnium Games d.o.o. ', 'Spike Chunsoft Co. Ltd.', 'Squad ', 'Studio Pixel ', 'SumomGames ', 'Superbrothers', 'Tate Multimedia ', 'Telepaths Tree ', 'Tendershoot ', 'The Odd Gentlemen ', 'Tokyo RPG Factory ', 'Tomorrow Corporation ', 'TreeFortress Games ', 'True Axis ', 'Typhoon Studios ', 'UndeadScout ', 'Unfrozen ', 'Vox Game Studio', 'We Create Stuff ', 'Wicked Studios ', 'X1 Software ', 'Zachtronics Industries ', 'dreamfeel '] will be ignored\n",
      "  \"unknown class(es) {0} will be ignored\".format(sorted(unknown, key=str))\n"
     ]
    },
    {
     "name": "stdout",
     "output_type": "stream",
     "text": [
      "Epoch 1/20\n",
      "225/225 [==============================] - 17s 75ms/step - loss: 33.9008 - mae: 3.9780 - val_loss: 44.4977 - val_mae: 5.1482\n",
      "Epoch 2/20\n",
      "225/225 [==============================] - 17s 76ms/step - loss: 21.9055 - mae: 2.9362 - val_loss: 41.1806 - val_mae: 4.9848\n",
      "Epoch 3/20\n",
      "225/225 [==============================] - 17s 76ms/step - loss: 17.0096 - mae: 2.5372 - val_loss: 41.4501 - val_mae: 4.9521\n",
      "Epoch 4/20\n",
      "225/225 [==============================] - 17s 75ms/step - loss: 15.7536 - mae: 2.3880 - val_loss: 40.4416 - val_mae: 4.7867\n",
      "Epoch 5/20\n",
      "225/225 [==============================] - 17s 75ms/step - loss: 14.3362 - mae: 2.3014 - val_loss: 40.5585 - val_mae: 4.8503\n",
      "Epoch 6/20\n",
      "225/225 [==============================] - 17s 74ms/step - loss: 13.3912 - mae: 2.1644 - val_loss: 44.2765 - val_mae: 5.0123\n",
      "Epoch 7/20\n",
      "225/225 [==============================] - 17s 75ms/step - loss: 12.8562 - mae: 2.1500 - val_loss: 42.7159 - val_mae: 4.9673\n",
      "Epoch 8/20\n",
      "225/225 [==============================] - 17s 75ms/step - loss: 11.5440 - mae: 2.0288 - val_loss: 41.8378 - val_mae: 4.8715\n",
      "Epoch 9/20\n",
      "225/225 [==============================] - 17s 75ms/step - loss: 11.8330 - mae: 2.0305 - val_loss: 44.4592 - val_mae: 5.0945\n",
      "Chunk 33/52 // 61.54% Complete // Cycle 3/3\n"
     ]
    },
    {
     "name": "stderr",
     "output_type": "stream",
     "text": [
      "y:\\ML\\Anaconda\\envs\\TF-GPU\\lib\\site-packages\\sklearn\\preprocessing\\_label.py:876: UserWarning: unknown class(es) ['Text'] will be ignored\n",
      "  \"unknown class(es) {0} will be ignored\".format(sorted(unknown, key=str))\n",
      "y:\\ML\\Anaconda\\envs\\TF-GPU\\lib\\site-packages\\sklearn\\preprocessing\\_label.py:876: UserWarning: unknown class(es) [' Black Sea Games ', ' Boss Key Productions ', ' Deck Nine Games ', ' Infogrames', ' Jujubee S.A. ', ' Kaiko ', ' MONKEYCRAFT Co. Ltd. ', ' Melbourne House ', ' Movie Games ', ' Novacore Studios ', ' Slitherine Group ', ' Team Reptile ', ' UNKNOWN GAMES ', ' Xaviant ', 'Activision ', 'Almost Human ', 'Altari Games ', 'Amanita Design ', 'Animation Arts ', 'Asteroid Base ', 'Atari', 'Aterdux Entertainment ', 'BLOODIOUS GAMES ', 'Bandai Namco Games', 'Behold Studios ', 'Bishop Games ', 'Bitbox Ltd. ', 'Black Sea Studios', 'Black Sea Studios ', 'Boss Key', 'BudCat ', 'Cauldron Ltd. ', 'Clever-Plays ', 'ClockStone Studio ', 'Codo Games ', 'Core Design Ltd. ', 'CrazyBunch ', 'DONTNOD Entertainment', 'Dingaling ', 'Duckbridge ', 'Elastic Games ', 'Evan Todd ', 'Foam Sword ', 'Four Quarters ', 'Gamious ', 'Geeta Games ', 'Geniaware ', 'Goblinz Studio ', 'Grundislav Games ', 'HappyJuice Games ', 'Hollow Ponds ', 'Ice-Pick Lodge ', 'Impressions Games ', 'Infinite Monkeys ', 'Jujubee', 'Just A Pixel ', 'KDV Games ', 'Kuma Reality Games ', 'Kyy Games ', 'Lantern Studio ', 'Left Behind Games ', 'Lichthund ', 'Light Brick ', 'Love Conquers All Games ', 'M2', 'Master Creating ', 'Mirage Game Studios ', 'Modern Dream ', 'Mooneye Studios ', 'Movie Games ', 'Movie Games S.A.', 'Neon Studios', 'NetDevil ', 'Nfusion ', 'Nigoro ', 'Numantian Games ', 'Ocean Drive Studio ', 'Ovosonico ', 'Parabole ', 'Pieces Interactive ', 'Playful Corp. ', 'Pollux Gamelabs ', 'Rapid Eye Entertainment ', 'Ratbag ', 'Ratloop Games Canada ', 'Razbor Studios ', 'Ready at Dawn ', 'Reflexive Entertainment ', 'Replay Games ', 'Reptile', 'Robot Loves Kitty ', 'SEMISOFT ', 'Shiver Games ', 'Silverback Studios ', 'Size Five Games ', 'Sketchbook Games ', 'Skyhook Games ', 'Slitherine', 'Slitherine ', 'Stage 2 Studios ', 'State of Play Games ', 'Tangrin ', 'The Chinese Room ', 'Third Law Interactive ', 'Thomas van den Berg ', 'Tokyo RPG Factory ', 'Tomorrow Corporation ', 'Triple Eh? Ltd ', 'Triplevision Games ', 'Tunnel Vision Games ', 'TurtleBlaze ', 'Variable State ', 'Velan Studios ', 'Visual Concepts ', 'Vlambeer ', 'Wild Factor ', 'Xaviant Games', 'Yakov Butuzoff ', 'Zoink! ', 'eBrain Studio ', 'straka.studio ', 'superflat games '] will be ignored\n",
      "  \"unknown class(es) {0} will be ignored\".format(sorted(unknown, key=str))\n"
     ]
    },
    {
     "name": "stdout",
     "output_type": "stream",
     "text": [
      "Epoch 1/20\n",
      "220/220 [==============================] - 17s 75ms/step - loss: 27.6959 - mae: 3.2501 - val_loss: 25.4531 - val_mae: 3.4803\n",
      "Epoch 2/20\n",
      "220/220 [==============================] - 16s 75ms/step - loss: 19.8238 - mae: 2.6268 - val_loss: 21.5634 - val_mae: 3.3695\n",
      "Epoch 3/20\n",
      "220/220 [==============================] - 16s 75ms/step - loss: 16.7211 - mae: 2.3258 - val_loss: 21.6964 - val_mae: 3.4119\n",
      "Epoch 4/20\n",
      "220/220 [==============================] - 17s 75ms/step - loss: 15.2302 - mae: 2.1613 - val_loss: 20.0252 - val_mae: 3.3883\n",
      "Epoch 5/20\n",
      "220/220 [==============================] - 17s 75ms/step - loss: 14.0090 - mae: 2.0296 - val_loss: 19.8792 - val_mae: 3.3860\n",
      "Epoch 6/20\n",
      "220/220 [==============================] - 16s 75ms/step - loss: 14.3024 - mae: 2.0393 - val_loss: 22.3663 - val_mae: 3.5855\n",
      "Epoch 7/20\n",
      "220/220 [==============================] - 16s 74ms/step - loss: 13.3630 - mae: 1.9652 - val_loss: 20.0454 - val_mae: 3.5108\n",
      "Epoch 8/20\n",
      "220/220 [==============================] - 17s 75ms/step - loss: 12.7118 - mae: 1.8822 - val_loss: 20.9359 - val_mae: 3.5994\n",
      "Epoch 9/20\n",
      "220/220 [==============================] - 17s 75ms/step - loss: 12.9794 - mae: 1.8845 - val_loss: 21.2874 - val_mae: 3.7220\n",
      "Epoch 10/20\n",
      "220/220 [==============================] - 16s 75ms/step - loss: 12.7061 - mae: 1.8437 - val_loss: 21.0960 - val_mae: 3.6437\n"
     ]
    },
    {
     "name": "stderr",
     "output_type": "stream",
     "text": [
      "distributed.utils_perf - WARNING - full garbage collections took 10% CPU time recently (threshold: 10%)\n"
     ]
    },
    {
     "name": "stdout",
     "output_type": "stream",
     "text": [
      "Chunk 34/52 // 63.46% Complete // Cycle 3/3\n"
     ]
    },
    {
     "name": "stderr",
     "output_type": "stream",
     "text": [
      "y:\\ML\\Anaconda\\envs\\TF-GPU\\lib\\site-packages\\sklearn\\preprocessing\\_label.py:876: UserWarning: unknown class(es) [' Ino-Co', 'Anim-X ', 'Borealys Games ', 'Charybdis ', 'Cyberlore Studios ', 'FASA Studio ', 'Finish Line Games ', 'GameSourceStudio ', 'Gazillion ', 'Graceful Decay ', 'Guru Games ', 'Himalaya Studios ', 'Holistic Design', 'InterServ International ', 'LKA ', 'Leaping Lizard Software Inc. ', 'Locomalito ', 'MuHa Games ', 'Muzzy Lane Software ', 'NGD Studios ', 'Oldblood ', 'Paradox North ', 'Passtech Games ', 'Pieces Interactive ', 'Piranha Games ', 'Press Play ', 'Quicksilver Software ', 'Sanzaru Games ', 'Secret Level ', 'Sileni Studios ', 'SimTex ', 'Wales Interactive ', 'William Chyr Studio LLC ', 'Wizards of the Coast '] will be ignored\n",
      "  \"unknown class(es) {0} will be ignored\".format(sorted(unknown, key=str))\n",
      "distributed.utils_perf - WARNING - full garbage collections took 10% CPU time recently (threshold: 10%)\n",
      "distributed.utils_perf - WARNING - full garbage collections took 10% CPU time recently (threshold: 10%)\n"
     ]
    },
    {
     "name": "stdout",
     "output_type": "stream",
     "text": [
      "Epoch 1/20\n",
      "227/227 [==============================] - 17s 75ms/step - loss: 35.6117 - mae: 3.8747 - val_loss: 24.5848 - val_mae: 4.3025\n",
      "Epoch 2/20\n",
      "227/227 [==============================] - 17s 75ms/step - loss: 21.7727 - mae: 2.7058 - val_loss: 19.1840 - val_mae: 3.9779\n",
      "Epoch 3/20\n",
      "227/227 [==============================] - 17s 75ms/step - loss: 14.7415 - mae: 2.0915 - val_loss: 17.3693 - val_mae: 3.8169\n",
      "Epoch 4/20\n",
      "227/227 [==============================] - 17s 75ms/step - loss: 12.2193 - mae: 1.8431 - val_loss: 19.1401 - val_mae: 4.0038\n",
      "Epoch 5/20\n",
      "227/227 [==============================] - 17s 75ms/step - loss: 12.4021 - mae: 1.7876 - val_loss: 18.4762 - val_mae: 3.9291\n",
      "Epoch 6/20\n",
      "227/227 [==============================] - 17s 75ms/step - loss: 11.9650 - mae: 1.7537 - val_loss: 19.4195 - val_mae: 4.0846\n",
      "Epoch 7/20\n",
      "227/227 [==============================] - 17s 76ms/step - loss: 11.6729 - mae: 1.6581 - val_loss: 19.1205 - val_mae: 3.9814\n",
      "Epoch 8/20\n",
      "227/227 [==============================] - 17s 75ms/step - loss: 10.0081 - mae: 1.5851 - val_loss: 19.3944 - val_mae: 4.0410\n"
     ]
    },
    {
     "name": "stderr",
     "output_type": "stream",
     "text": [
      "distributed.utils_perf - WARNING - full garbage collections took 10% CPU time recently (threshold: 10%)\n"
     ]
    },
    {
     "name": "stdout",
     "output_type": "stream",
     "text": [
      "Chunk 35/52 // 65.38% Complete // Cycle 3/3\n"
     ]
    },
    {
     "name": "stderr",
     "output_type": "stream",
     "text": [
      "y:\\ML\\Anaconda\\envs\\TF-GPU\\lib\\site-packages\\sklearn\\preprocessing\\_label.py:876: UserWarning: unknown class(es) [' 1C', ' Bullets ', ' Centauri Production ', ' Dreamworks Games ', ' Eyeguys ', ' French-Bread ', ' General Arcade ', ' Ministry of Broadcast Studios ', ' Now Production', ' Rockstar San Diego ', ' Studio Fizbin ', ' Team Reptile ', ' Tribute Games Inc. ', '1C-Softclub ', 'Angel Studios', 'Bit Byterz ', 'Blastmode ', 'Bombservice ', 'Carlos Coronado ', 'Cinemax', 'Devolver Digital ', 'Digital Dialect ', 'Digital Eclipse ', 'Dinosaur Polo Club ', 'EA LA', 'Ecole', 'Fizbin', 'From Software', 'Half Asleep ', 'Homeless Unicorn', 'Inti Creates ', 'IonFX ', 'Jacob Dzwinel ', 'KCEJ ', 'Keen Software House ', 'Kuju Entertainment ', 'Lorenzo Redaelli', 'Piranha Games ', 'Red Rocket Games ', 'Render Cube ', 'Reptile', 'Rockstar San Diego ', 'Saturn+ ', 'Supersonic Software ', 'THQ', 'TKO Software ', 'The Outsiders ', 'Tribute Games', 'Twice Circled ', 'Virtuos ', 'Zono Inc. '] will be ignored\n",
      "  \"unknown class(es) {0} will be ignored\".format(sorted(unknown, key=str))\n",
      "distributed.utils_perf - WARNING - full garbage collections took 10% CPU time recently (threshold: 10%)\n",
      "distributed.utils_perf - WARNING - full garbage collections took 10% CPU time recently (threshold: 10%)\n"
     ]
    },
    {
     "name": "stdout",
     "output_type": "stream",
     "text": [
      "Epoch 1/20\n",
      "210/210 [==============================] - 16s 75ms/step - loss: 20.5333 - mae: 2.9882 - val_loss: 12.7797 - val_mae: 2.6671\n",
      "Epoch 2/20\n",
      "210/210 [==============================] - 16s 75ms/step - loss: 12.3726 - mae: 2.0681 - val_loss: 13.6125 - val_mae: 2.9359\n",
      "Epoch 3/20\n",
      "210/210 [==============================] - 16s 75ms/step - loss: 11.7457 - mae: 1.8685 - val_loss: 13.9167 - val_mae: 3.0145\n",
      "Epoch 4/20\n",
      "210/210 [==============================] - 16s 75ms/step - loss: 11.0834 - mae: 1.7671 - val_loss: 13.9481 - val_mae: 3.0620\n",
      "Epoch 5/20\n",
      "210/210 [==============================] - 16s 74ms/step - loss: 9.8920 - mae: 1.6458 - val_loss: 14.3489 - val_mae: 3.0955\n",
      "Epoch 6/20\n",
      "210/210 [==============================] - 16s 76ms/step - loss: 10.0196 - mae: 1.5949 - val_loss: 14.9842 - val_mae: 3.1920\n"
     ]
    },
    {
     "name": "stderr",
     "output_type": "stream",
     "text": [
      "distributed.utils_perf - WARNING - full garbage collections took 11% CPU time recently (threshold: 10%)\n"
     ]
    },
    {
     "name": "stdout",
     "output_type": "stream",
     "text": [
      "Chunk 36/52 // 67.31% Complete // Cycle 3/3\n"
     ]
    },
    {
     "name": "stderr",
     "output_type": "stream",
     "text": [
      "y:\\ML\\Anaconda\\envs\\TF-GPU\\lib\\site-packages\\sklearn\\preprocessing\\_label.py:876: UserWarning: unknown class(es) [' 10tons ', ' Application Systems Heidelberg ', ' Awesome Games Studio ', ' BeautiFun Games ', ' BlackMuffin Studio', ' Char & Torfi ', ' Digital Sun ', ' EA Singapore ', ' Fair Play Labs ', ' Funatics ', ' Funatics Software', ' Honor Code', ' Immersion Software & Graphics ', ' Monkey Moon ', ' Muutsch', ' Playsport Games Ltd ', ' Pol', ' Russia ', ' Soleil', ' Soleil Ltd. ', ' StudioInkyfox ', ' Thomas Brush ', ' Toylogic ', ' Varkian Empire ', '10tons Entertainment', '11 bit studios', '24 Entertainment ', '3A Games ', 'Alcachofa Soft ', 'Application Systems Heidelberg Software GmbH', 'Artificial Studios', 'Arxel Tribe ', 'Avalon Style ', 'AwesomeGamesStudio', 'BEAUTIFUN GAMES SL', 'Beautiful Glitch ', 'Big Ape Productions ', 'Black Mermaid ', 'Black Pants Studio ', 'Blazing Bit Games ', 'Blazing Griffin ', 'Blue Bottle Games ', 'Broken Rules ', 'Capricia Productions ', 'Chance Agency ', 'Coffee Powered Machine ', 'Connor Ullmann ', 'Cornfox & Bros. ', 'Crunching Koalas ', 'CyberConnect2', 'Deep Red ', 'Delphine Software International ', 'Detalion ', 'Die Gute Fabrik ', 'Diversions Entertainment ', 'DrinkBox Studios ', 'EA Black Box', 'EA Seattle ', 'Eutechnyx ', 'Funatics Development GmbH', 'Future Games ', 'Geography of Robots ', 'Gojira ', 'Grip Digital ', 'Harebrained Schemes LLC ', 'Hidden Fields ', 'Housemarque ', 'Humongous Entertainment ', 'Hydravision ', 'ILCA', 'Idol FX ', 'In Utero ', 'Infinitap Games ', 'Infinite Fall ', 'Interwave Studios ', 'John Szymanski ', 'Jonas Manke', 'Joon', 'Juggler Games ', 'Just Add Water ', 'Kitfox Games ', 'Kuju Entertainment ', 'LCB Game Studio ', 'Le Cartel Studio ', 'Level 5 ', 'Lexis Numerique ', 'Limasse Five ', 'Ludosity Interactive', 'Max Mraz ', 'Mayhem Studios ', 'Messhof ', 'Metronomik ', 'Mithis/HD Interactive ', 'Mohawk Games ', 'Monster Games Inc. ', 'NUDE MAKER', 'Narcosis Team', 'Neotro Inc. ', 'Nepos Games ', 'No Code ', 'Nolla Games ', 'NotGames ', 'Nowhere Studios ', 'Oddworld Inhabitants ', 'Ossian Studios ', 'Panic Barn Ltd ', 'Papyrus ', 'Pathea Games ', 'Phosphor Games Studio', 'Picaresque Studio ', 'Pinkerton Road Studio ', 'Player First Games ', 'Playsport Games', 'Pocketwatch Games ', 'Polypusher Studios ', 'Presto Studios ', 'Rage Software ', 'Rainbow Studios ', 'Raw Fury', 'Red Herring Labs ', 'Related Designs ', 'Renegade Kid ', 'Rock Pocket Games ', 'Rocket Science Games ', 'Rogue Factor ', 'Route 59 Games ', 'SMG Studio ', 'Santa Ragione ', 'Screaming Games ', 'Serenity Forge', 'Sharkbomb Studios ', 'Shiny Shoe ', 'Shiro Games ', 'Silver Dollar Games ', 'Skeleton Crew Studio ', 'Space Dust Studios', 'Spearhead Games ', 'Still Running ', 'Studio Koba ', 'Sunnyside Games ', 'Tamsoft ', 'Team Oneshot ', 'Team Shifty ', 'Termite Games ', 'Thomas Moon Kang ', 'Tom Hegarty ', 'TopWare Interactive ', 'Toylogic Inc.', 'Triternion ', 'Turbo Tape Games ', 'Uber Entertainment ', 'Unigine Corp', 'Untame ', 'Upper One Games ', 'Veewo Games ', 'Vile Monarch ', 'Visual Concepts ', 'Vlambeer ', 'White Birds Productions ', 'Y.K. ', 'ZANDEL MEDIA ', 'roll7 ', 'tiny Build GAMES'] will be ignored\n",
      "  \"unknown class(es) {0} will be ignored\".format(sorted(unknown, key=str))\n",
      "distributed.utils_perf - WARNING - full garbage collections took 11% CPU time recently (threshold: 10%)\n",
      "distributed.utils_perf - WARNING - full garbage collections took 11% CPU time recently (threshold: 10%)\n"
     ]
    },
    {
     "name": "stdout",
     "output_type": "stream",
     "text": [
      "Epoch 1/20\n",
      "220/220 [==============================] - 17s 76ms/step - loss: 32.5812 - mae: 3.9796 - val_loss: 25.5909 - val_mae: 4.0706\n",
      "Epoch 2/20\n",
      "220/220 [==============================] - 17s 76ms/step - loss: 21.0565 - mae: 3.0454 - val_loss: 22.6819 - val_mae: 3.9490\n",
      "Epoch 3/20\n",
      "220/220 [==============================] - 17s 75ms/step - loss: 18.5657 - mae: 2.7329 - val_loss: 21.0256 - val_mae: 3.7920\n",
      "Epoch 4/20\n",
      "220/220 [==============================] - 16s 75ms/step - loss: 17.0939 - mae: 2.5434 - val_loss: 21.8550 - val_mae: 3.9491\n",
      "Epoch 5/20\n",
      "220/220 [==============================] - 17s 75ms/step - loss: 15.2799 - mae: 2.4171 - val_loss: 21.6834 - val_mae: 3.9578\n",
      "Epoch 6/20\n",
      "220/220 [==============================] - 17s 76ms/step - loss: 14.0288 - mae: 2.3347 - val_loss: 21.4159 - val_mae: 3.9558\n",
      "Epoch 7/20\n",
      "220/220 [==============================] - 17s 75ms/step - loss: 14.0241 - mae: 2.2767 - val_loss: 22.4589 - val_mae: 4.0789\n",
      "Epoch 8/20\n",
      "220/220 [==============================] - 16s 75ms/step - loss: 13.6083 - mae: 2.2219 - val_loss: 22.3457 - val_mae: 4.0945\n"
     ]
    },
    {
     "name": "stderr",
     "output_type": "stream",
     "text": [
      "distributed.utils_perf - WARNING - full garbage collections took 11% CPU time recently (threshold: 10%)\n"
     ]
    },
    {
     "name": "stdout",
     "output_type": "stream",
     "text": [
      "Chunk 37/52 // 69.23% Complete // Cycle 3/3\n"
     ]
    },
    {
     "name": "stderr",
     "output_type": "stream",
     "text": [
      "y:\\ML\\Anaconda\\envs\\TF-GPU\\lib\\site-packages\\sklearn\\preprocessing\\_label.py:876: UserWarning: unknown class(es) [' Bigben Games ', ' Bigben Interactive', ' Minority Media Inc. ', ' Sproing ', ' Xeen ', 'Alter Games ', 'Appeal', 'Black Shamrock ', 'Clever Plays ', 'Continuum ', 'Finji ', 'Flashback Games ', 'Galilea Multimedia ', 'Gaming Minds Studios ', 'Ghost Town Games Ltd. ', 'Grayfax Software ', 'Grinding Gear Games ', 'Hemisphere Games ', 'Homegrown Games ', 'House of Tales ', 'Housemarque', 'Ice-Pick Lodge ', 'IzHard ', 'Jacob Janerka ', 'Kaizen Game Works ', 'Lesta Studio ', 'Lightbulb Crew ', 'Lucas Pope ', 'Mad Head Games ', 'Mi-Clos Studio ', 'Mindfield Games ', 'Mindware Studios ', 'Minority', 'Mist Land ', 'Namco Bandai Games ', 'Nerd Monkeys ', 'Nerial ', 'Now Production', 'Osmotic Studios ', 'Out Of The Park Developments ', 'Owlcat Games ', 'Patrick Traynor ', 'Phantom 8 ', 'Phantomery Interactive ', 'Pinokl Games ', 'PolyAmorous ', 'Proxy Studios ', 'R8 Games ', 'Revival Productions', 'Robotality ', 'SEK Ost ', 'SSI ', 'Shining Pixel Studios ', 'Sproing Interactive Media', 'The Artistocrats ', 'The Lordz Games Studio ', 'Tribute Games ', 'Ultra Runaway Games ', 'White Birds Productions ', 'Zordix Racing '] will be ignored\n",
      "  \"unknown class(es) {0} will be ignored\".format(sorted(unknown, key=str))\n",
      "distributed.utils_perf - WARNING - full garbage collections took 11% CPU time recently (threshold: 10%)\n",
      "distributed.utils_perf - WARNING - full garbage collections took 11% CPU time recently (threshold: 10%)\n"
     ]
    },
    {
     "name": "stdout",
     "output_type": "stream",
     "text": [
      "Epoch 1/20\n",
      "223/223 [==============================] - 17s 76ms/step - loss: 22.8246 - mae: 2.7896 - val_loss: 15.3771 - val_mae: 3.1833\n",
      "Epoch 2/20\n",
      "223/223 [==============================] - 17s 75ms/step - loss: 12.2810 - mae: 1.8345 - val_loss: 13.7651 - val_mae: 3.0562\n",
      "Epoch 3/20\n",
      "223/223 [==============================] - 17s 75ms/step - loss: 10.3677 - mae: 1.6500 - val_loss: 12.9798 - val_mae: 2.9552\n",
      "Epoch 4/20\n",
      "223/223 [==============================] - 17s 74ms/step - loss: 8.7810 - mae: 1.5210 - val_loss: 13.0498 - val_mae: 2.9809\n",
      "Epoch 5/20\n",
      "223/223 [==============================] - 17s 76ms/step - loss: 8.4216 - mae: 1.4431 - val_loss: 12.8434 - val_mae: 2.9180\n",
      "Epoch 6/20\n",
      "223/223 [==============================] - 17s 75ms/step - loss: 7.2532 - mae: 1.3445 - val_loss: 13.4376 - val_mae: 2.9345\n",
      "Epoch 7/20\n",
      "223/223 [==============================] - 17s 75ms/step - loss: 6.7448 - mae: 1.2768 - val_loss: 13.5880 - val_mae: 2.9641\n",
      "Epoch 8/20\n",
      "223/223 [==============================] - 17s 74ms/step - loss: 7.3045 - mae: 1.3032 - val_loss: 13.3983 - val_mae: 2.9677\n",
      "Epoch 9/20\n",
      "223/223 [==============================] - 17s 75ms/step - loss: 7.1238 - mae: 1.2968 - val_loss: 14.0688 - val_mae: 3.0582\n",
      "Epoch 10/20\n",
      "223/223 [==============================] - 17s 75ms/step - loss: 7.4043 - mae: 1.2578 - val_loss: 14.6255 - val_mae: 3.0981\n"
     ]
    },
    {
     "name": "stderr",
     "output_type": "stream",
     "text": [
      "distributed.utils_perf - WARNING - full garbage collections took 12% CPU time recently (threshold: 10%)\n"
     ]
    },
    {
     "name": "stdout",
     "output_type": "stream",
     "text": [
      "Chunk 38/52 // 71.15% Complete // Cycle 3/3\n"
     ]
    },
    {
     "name": "stderr",
     "output_type": "stream",
     "text": [
      "y:\\ML\\Anaconda\\envs\\TF-GPU\\lib\\site-packages\\sklearn\\preprocessing\\_label.py:876: UserWarning: unknown class(es) [' AGEOD ', ' Gaming Minds Studios ', ' Planetary Annihilation Inc ', ' Q-Games ', '7 Studios ', 'Adrian Lazar ', 'Beamdog ', 'Beatnik Games ', 'Chasing Carrots ', 'Cloudhead Games ', 'CreativeForge Games ', 'Cyberlore Studios ', 'Daniel Mullins Games ', 'Disney Online ', 'Double Eleven', 'Double Eleven ', 'Dry Cactus ', 'Fabled Game ', 'Flying Lab Software ', 'FuturLab ', 'Gaming Minds Studios ', 'ION LANDS ', 'IllFonic ', 'Impressions Games ', 'K-D Lab ', 'Lukewarm Media ', 'Mages. ', 'Might and Delight ', 'Object ', 'Paradox Interactive', 'Pasta Games ', 'Polyslash ', 'RichMakeGame ', 'Running Dog ', 'Sectordub ', 'Snapshot Games Inc. ', 'SoftWarWare ', 'Stormfront Studios ', 'The Behemoth ', 'The Deep End Games ', 'Thomas Brush ', 'Tlon Studios ', 'Torus Games ', 'Tour De Pizza ', 'Triskell Interactive ', 'Uber Entertainment', 'Visiware Studios ', 'Voracious Games ', 'Wastelands Interactive ', 'Wishfully ', 'Wormwood Studios ', 'YCJY Games ', 'Zeboyd Games ', 'ZootFly ', 'nDreams ', 'niceplay games '] will be ignored\n",
      "  \"unknown class(es) {0} will be ignored\".format(sorted(unknown, key=str))\n",
      "distributed.utils_perf - WARNING - full garbage collections took 12% CPU time recently (threshold: 10%)\n",
      "distributed.utils_perf - WARNING - full garbage collections took 12% CPU time recently (threshold: 10%)\n"
     ]
    },
    {
     "name": "stdout",
     "output_type": "stream",
     "text": [
      "Epoch 1/20\n",
      "230/230 [==============================] - 17s 74ms/step - loss: 24.6300 - mae: 3.1891 - val_loss: 22.0203 - val_mae: 3.6615\n",
      "Epoch 2/20\n",
      "230/230 [==============================] - 17s 75ms/step - loss: 16.3065 - mae: 2.3956 - val_loss: 23.1552 - val_mae: 4.1078\n",
      "Epoch 3/20\n",
      "230/230 [==============================] - 17s 75ms/step - loss: 13.1561 - mae: 2.0935 - val_loss: 25.2169 - val_mae: 4.2717\n",
      "Epoch 4/20\n",
      "230/230 [==============================] - 18s 76ms/step - loss: 12.7129 - mae: 1.9600 - val_loss: 23.6516 - val_mae: 4.1222\n",
      "Epoch 5/20\n",
      "230/230 [==============================] - 18s 77ms/step - loss: 11.3909 - mae: 1.8440 - val_loss: 24.3570 - val_mae: 4.2831\n",
      "Epoch 6/20\n",
      "230/230 [==============================] - 17s 75ms/step - loss: 10.1496 - mae: 1.7412 - val_loss: 25.3667 - val_mae: 4.3578\n"
     ]
    },
    {
     "name": "stderr",
     "output_type": "stream",
     "text": [
      "distributed.utils_perf - WARNING - full garbage collections took 13% CPU time recently (threshold: 10%)\n"
     ]
    },
    {
     "name": "stdout",
     "output_type": "stream",
     "text": [
      "Chunk 39/52 // 73.08% Complete // Cycle 3/3\n"
     ]
    },
    {
     "name": "stderr",
     "output_type": "stream",
     "text": [
      "y:\\ML\\Anaconda\\envs\\TF-GPU\\lib\\site-packages\\sklearn\\preprocessing\\_label.py:876: UserWarning: unknown class(es) ['Text'] will be ignored\n",
      "  \"unknown class(es) {0} will be ignored\".format(sorted(unknown, key=str))\n",
      "y:\\ML\\Anaconda\\envs\\TF-GPU\\lib\\site-packages\\sklearn\\preprocessing\\_label.py:876: UserWarning: unknown class(es) [' Bounding Box Games ', ' Double Damage Games ', ' Hi Corp ', ' KTX Software ', ' MachineGames ', ' Pixel Pi Games ', ' Team Ladybug ', ' WSS Playground', '2 Dawn Games ', '34BigThings ', 'Abbey Games ', 'Atomic Motion ', 'Big Star Games ', 'Black Rock Studio ', 'Blendo Games ', 'Buckshot Software ', 'Camouflaj', 'Cococucumber ', 'Core Design Ltd. ', 'Creat Studios ', 'Doctor Entertainment ', 'Double Damage Games', 'Double Damage Games ', 'EasyGameStation ', 'Ed Key and David Kanaga ', 'Flippfly ', 'Flying Lab Software ', 'Freeform Interactive LLC ', 'Frostwood Interactive ', 'Gaming Minds Studios ', 'Ice Flames ', 'Infamous Quests ', 'Innerloop ', 'Interceptor Entertainment ', 'Ironward ', 'Jujubee S.A. ', 'Kuju Entertainment ', 'Laura Shigihara ', 'Lazy Bear Games ', 'Lionbite Games ', 'ManaVoid Entertainment Inc. ', 'Mark Healey ', 'Mighty Polygon ', 'Mike and Jason', 'NG:DEV.TEAM', 'Nerial ', 'Nexus Game Studio ', 'Nicolas Meyssonnier ', 'Nodding Heads Games ', 'NuClearVision ', 'Old School Games ', 'Outrage Games ', 'Phigames ', 'Pixelated Milk ', 'Plastic Piranha ', 'Radon Labs ', 'RailSimulator.com ', 'Rival Interactive ', 'Sector D2 ', 'Sobaka ', 'SomaSim ', 'Stormind Games ', 'Sundae Month ', 'Survios ', 'Team Pixel Pi', 'The Bae Team ', 'The Tiniest Shark ', 'Three Rings ', 'Toxic Games ', 'UBlart Montpellier ', 'Vertical Robot ', 'Videocult ', 'Vladimir Kudelka ', 'Volatile Games ', 'Why so serious?', 'Wizarbox ', 'Yanim Studio ', 'comcept '] will be ignored\n",
      "  \"unknown class(es) {0} will be ignored\".format(sorted(unknown, key=str))\n",
      "distributed.utils_perf - WARNING - full garbage collections took 13% CPU time recently (threshold: 10%)\n",
      "distributed.utils_perf - WARNING - full garbage collections took 13% CPU time recently (threshold: 10%)\n"
     ]
    },
    {
     "name": "stdout",
     "output_type": "stream",
     "text": [
      "Epoch 1/20\n",
      "212/212 [==============================] - 16s 76ms/step - loss: 25.1665 - mae: 3.1962 - val_loss: 29.1156 - val_mae: 4.5137\n",
      "Epoch 2/20\n",
      "212/212 [==============================] - 16s 76ms/step - loss: 15.2051 - mae: 2.2440 - val_loss: 29.7459 - val_mae: 4.6551\n",
      "Epoch 3/20\n",
      "212/212 [==============================] - 16s 75ms/step - loss: 13.3275 - mae: 1.9869 - val_loss: 26.2534 - val_mae: 4.4084\n",
      "Epoch 4/20\n",
      "212/212 [==============================] - 16s 76ms/step - loss: 11.6227 - mae: 1.8212 - val_loss: 28.3653 - val_mae: 4.5833\n",
      "Epoch 5/20\n",
      "212/212 [==============================] - 16s 75ms/step - loss: 12.5396 - mae: 1.8707 - val_loss: 30.1338 - val_mae: 4.6949\n",
      "Epoch 6/20\n",
      "212/212 [==============================] - 16s 75ms/step - loss: 11.1821 - mae: 1.7568 - val_loss: 28.0232 - val_mae: 4.5332\n",
      "Epoch 7/20\n",
      "212/212 [==============================] - 16s 75ms/step - loss: 9.8511 - mae: 1.6383 - val_loss: 28.4914 - val_mae: 4.5753\n",
      "Epoch 8/20\n",
      "212/212 [==============================] - 16s 76ms/step - loss: 9.8571 - mae: 1.6059 - val_loss: 28.8597 - val_mae: 4.6029\n"
     ]
    },
    {
     "name": "stderr",
     "output_type": "stream",
     "text": [
      "distributed.utils_perf - WARNING - full garbage collections took 14% CPU time recently (threshold: 10%)\n"
     ]
    },
    {
     "name": "stdout",
     "output_type": "stream",
     "text": [
      "Chunk 40/52 // 75.0% Complete // Cycle 3/3\n"
     ]
    },
    {
     "name": "stderr",
     "output_type": "stream",
     "text": [
      "y:\\ML\\Anaconda\\envs\\TF-GPU\\lib\\site-packages\\sklearn\\preprocessing\\_label.py:876: UserWarning: unknown class(es) [' Animation Arts ', ' Devoured Studios ', ' Engine Software ', ' Gamasoft ', ' Hopoo Games ', ' Introversion Software ', ' Jo-Mei Games ', ' Leikir Studio ', ' Mixed Realms ', ' Monstars Inc.', ' Omen ', ' Resonair ', ' Stainless Steel Studios ', ' Studio 369 ', ' Studio Fizbin ', ' Super Awesome Hyper Dimensional Mega Team ', '5 Lives Studios ', '5TH Cell ', 'Abbey Games ', 'Abrakam SA ', 'Amanita Design ', 'Animation Arts ', 'Antimatter Games ', 'Arberth Studios ', 'Artifice Studio ', 'Atomic Planet Entertainment ', 'Beau Blyth ', 'Broken Rules ', 'CCR', 'Cadenza ', 'Cellar Door Games ', 'Chucklefish', 'Creative Bytes ', 'DAMAGE STATE LTD ', 'Dapper Penguin Studios ', 'Dark Seas Games ', 'Denby / Raze ', 'Digixart Entertainment', 'Digixart Entertainment ', 'DreamCatcher Interactive ', 'Ebb Software ', 'Edelweiss ', 'Egidijus Bachur ', 'Facepunch Studios ', 'Final Strike Games ', 'Fizbin', 'Flying Oak Games ', 'Free Radical Design ', 'Fusionsphere Systems', 'Fusionsphere Systems ', 'Gabriel Interactive ', 'HAKAMA ', 'Housemarque ', 'Human Head Studios', 'Introversion', 'Italic Pig ', 'Jutsu Games ', 'Koei ', 'LGK Games ', 'Lucas Pope ', 'Ludeon Studios ', 'Mad Head Games ', 'Master Creating ', 'Midway', 'Mixed Realms Pte Ltd', 'Morgondag ', 'Mystic Box ', 'Naked Sky Entertainment ', 'No Goblin ', 'Nucleosys ', 'Nvizzio Creations ', 'Owlchemy Labs ', 'Phantom Compass ', 'Polygon Treehouse ', 'Puppy Games ', 'Recoil Games ', 'Red Ego Games ', 'Reikon Games ', 'Robot House ', 'Runewaker Entertainment ', 'SNK Corporation ', 'Sabotage Studio ', 'Samurai Punk ', 'Santa Ragione ', 'Scavengers Studio ', 'Shed-Works ', 'Ska Studios', 'Skunkape Games ', 'Slant Six ', 'Softlab-NSK ', 'SouthPeak Games ', 'Southend Interactive ', 'Spellbind Studios ', 'Sperasoft ', 'Spry Fox ', 'Super Mega Team', 'Swing Swing Submarine ', 'TickTock Games ', 'Tomasz Waclawek ', 'Torched Hill ', 'Totally Games ', 'Twice Different ', 'Two Tribes ', 'UGA', 'Uprising Studios ', 'Vblank Entertainment Inc. ', 'XYLA Entertainment ', 'Youxiland', 'neoqb ', 'roll7 ', 'xii games '] will be ignored\n",
      "  \"unknown class(es) {0} will be ignored\".format(sorted(unknown, key=str))\n",
      "distributed.utils_perf - WARNING - full garbage collections took 14% CPU time recently (threshold: 10%)\n",
      "distributed.utils_perf - WARNING - full garbage collections took 14% CPU time recently (threshold: 10%)\n"
     ]
    },
    {
     "name": "stdout",
     "output_type": "stream",
     "text": [
      "Epoch 1/20\n",
      "221/221 [==============================] - 17s 75ms/step - loss: 33.0319 - mae: 4.0650 - val_loss: 37.0904 - val_mae: 4.8942\n",
      "Epoch 2/20\n",
      "221/221 [==============================] - 17s 75ms/step - loss: 24.0244 - mae: 3.2778 - val_loss: 36.7961 - val_mae: 4.9765\n",
      "Epoch 3/20\n",
      "221/221 [==============================] - 17s 76ms/step - loss: 22.2961 - mae: 3.0634 - val_loss: 35.7502 - val_mae: 4.9348\n",
      "Epoch 4/20\n",
      "221/221 [==============================] - 16s 74ms/step - loss: 20.5753 - mae: 2.8999 - val_loss: 31.3040 - val_mae: 4.5709\n",
      "Epoch 5/20\n",
      "221/221 [==============================] - 16s 75ms/step - loss: 19.2461 - mae: 2.8002 - val_loss: 31.2819 - val_mae: 4.6357\n",
      "Epoch 6/20\n",
      "221/221 [==============================] - 17s 76ms/step - loss: 18.3206 - mae: 2.7063 - val_loss: 30.6603 - val_mae: 4.5753\n",
      "Epoch 7/20\n",
      "221/221 [==============================] - 16s 74ms/step - loss: 16.2133 - mae: 2.5568 - val_loss: 28.6680 - val_mae: 4.4096\n",
      "Epoch 8/20\n",
      "221/221 [==============================] - 17s 75ms/step - loss: 16.2290 - mae: 2.4619 - val_loss: 30.4364 - val_mae: 4.6224\n",
      "Epoch 9/20\n",
      "221/221 [==============================] - 16s 75ms/step - loss: 15.5905 - mae: 2.4283 - val_loss: 30.6411 - val_mae: 4.6657\n",
      "Epoch 10/20\n",
      "221/221 [==============================] - 17s 75ms/step - loss: 14.8920 - mae: 2.3869 - val_loss: 30.2122 - val_mae: 4.6357\n",
      "Epoch 11/20\n",
      "221/221 [==============================] - 17s 75ms/step - loss: 15.0014 - mae: 2.3599 - val_loss: 31.4796 - val_mae: 4.7185\n",
      "Epoch 12/20\n",
      "221/221 [==============================] - 17s 75ms/step - loss: 14.5838 - mae: 2.3138 - val_loss: 30.7373 - val_mae: 4.7211\n"
     ]
    },
    {
     "name": "stderr",
     "output_type": "stream",
     "text": [
      "distributed.utils_perf - WARNING - full garbage collections took 14% CPU time recently (threshold: 10%)\n"
     ]
    },
    {
     "name": "stdout",
     "output_type": "stream",
     "text": [
      "Chunk 41/52 // 76.92% Complete // Cycle 3/3\n"
     ]
    },
    {
     "name": "stderr",
     "output_type": "stream",
     "text": [
      "y:\\ML\\Anaconda\\envs\\TF-GPU\\lib\\site-packages\\sklearn\\preprocessing\\_label.py:876: UserWarning: unknown class(es) [' Cliffhanger Productions ', ' Dead Mage ', ' Games Farm s.r.o. ', ' Infinite Interactive ', ' Kaigan Games ', ' Marvelous AQL ', ' Multiverse ', ' Terri Vellmann & Doseone ', ' Vlambeer ', ' d3t Ltd ', 'Artificer ', 'Arxel Tribe ', 'Asymmetric Publications ', 'Big Robot Ltd ', 'Black Element ', 'Black Lion Studios ', 'Bloodirony ', 'Cliffhanger Productions', 'Cracked Heads Games ', 'Crackshell ', 'Crea-ture Studios ', 'Croteam', 'DarkStar Games ', 'Dead Mage Studio', 'Den-Yu-Sha ', 'Detalion ', 'Douze Dixiemes ', 'Draw Distance ', 'Echodog Games ', 'Enigami ', 'Enlight Software', 'FASA Studio ', 'Finish Line Games ', 'FishTankStudio ', 'Free Reign Entertainment ', 'Games Farm', 'Games Farm ', 'Garage 227 ', 'Glass Bottom Games ', 'Greylock Studio ', 'Harebrained Schemes LLC ', 'IMGN.PRO ', 'Jesse Makkonen ', 'Kaigan Games OU', 'MPS Labs ', 'MadLightStudio ', 'Mandragora ', 'Mega Crit Games ', 'Meteorise ', 'Might and Delight ', 'Mimimi Games ', 'Minds-Eye Productions ', \"Mommy's Best Games \", 'Monomi Park ', 'Multiverse Games', 'Nexon ', 'Night Dive Studios ', 'Okugi Studio ', 'Redlock Studio ', 'Right Nice Games ', 'Rotobee ', 'Runecraft ', 'SEGA Racing Studio ', 'Sidhe Interactive ', 'Skyshine Games ', 'Sloclap ', 'Something Classic Games LLC ', 'SouthPAW Games ', 'Space Bullet Dynamics Corporation ', 'Spiral Circus ', 'Tamsoft', 'Tamsoft ', 'Terri Vellimann', 'Ultimation Inc. ', 'Unicube ', 'VSTEP ', 'Valkyrie Studios ', 'Vblank Entertainment Inc. ', 'Vine ', 'Wadjet Eye Games ', 'WayForward ', 'White Birds Productions ', 'Wolf Brew Games ', 'Wolfpack Studios ', 'Ysbryd Games ', 'Zojoi Studios ', 'iFun4all ', 'rose-engine '] will be ignored\n",
      "  \"unknown class(es) {0} will be ignored\".format(sorted(unknown, key=str))\n",
      "distributed.utils_perf - WARNING - full garbage collections took 14% CPU time recently (threshold: 10%)\n",
      "distributed.utils_perf - WARNING - full garbage collections took 14% CPU time recently (threshold: 10%)\n"
     ]
    },
    {
     "name": "stdout",
     "output_type": "stream",
     "text": [
      "Epoch 1/20\n",
      "232/232 [==============================] - 18s 75ms/step - loss: 19.2978 - mae: 2.9465 - val_loss: 30.0747 - val_mae: 4.8817\n",
      "Epoch 2/20\n",
      "232/232 [==============================] - 17s 74ms/step - loss: 12.6124 - mae: 2.2048 - val_loss: 28.8003 - val_mae: 4.8467\n",
      "Epoch 3/20\n",
      "232/232 [==============================] - 17s 75ms/step - loss: 10.9530 - mae: 1.9771 - val_loss: 27.3222 - val_mae: 4.7079\n",
      "Epoch 4/20\n",
      "232/232 [==============================] - 17s 74ms/step - loss: 10.1471 - mae: 1.8667 - val_loss: 27.3078 - val_mae: 4.7360\n",
      "Epoch 5/20\n",
      "232/232 [==============================] - 17s 75ms/step - loss: 10.1085 - mae: 1.8383 - val_loss: 25.8705 - val_mae: 4.6073\n",
      "Epoch 6/20\n",
      "232/232 [==============================] - 17s 75ms/step - loss: 9.5576 - mae: 1.8252 - val_loss: 24.4904 - val_mae: 4.4801\n",
      "Epoch 7/20\n",
      "232/232 [==============================] - 17s 75ms/step - loss: 8.7304 - mae: 1.7150 - val_loss: 24.6768 - val_mae: 4.5684\n",
      "Epoch 8/20\n",
      "232/232 [==============================] - 17s 75ms/step - loss: 9.0083 - mae: 1.7027 - val_loss: 24.4667 - val_mae: 4.4956\n",
      "Epoch 9/20\n",
      "232/232 [==============================] - 17s 75ms/step - loss: 8.6911 - mae: 1.6399 - val_loss: 26.1105 - val_mae: 4.6887\n",
      "Epoch 10/20\n",
      "232/232 [==============================] - 17s 75ms/step - loss: 7.5517 - mae: 1.5264 - val_loss: 26.6166 - val_mae: 4.7181\n",
      "Epoch 11/20\n",
      "232/232 [==============================] - 17s 75ms/step - loss: 7.9944 - mae: 1.5607 - val_loss: 23.7924 - val_mae: 4.4289\n",
      "Epoch 12/20\n",
      "232/232 [==============================] - 18s 76ms/step - loss: 8.2199 - mae: 1.5678 - val_loss: 25.2020 - val_mae: 4.6060\n",
      "Epoch 13/20\n",
      "232/232 [==============================] - 17s 75ms/step - loss: 7.7293 - mae: 1.5195 - val_loss: 26.0114 - val_mae: 4.6853\n",
      "Epoch 14/20\n",
      "232/232 [==============================] - 18s 76ms/step - loss: 7.6209 - mae: 1.5345 - val_loss: 24.9019 - val_mae: 4.6004\n",
      "Epoch 15/20\n",
      "232/232 [==============================] - 17s 75ms/step - loss: 7.1628 - mae: 1.4625 - val_loss: 24.9639 - val_mae: 4.5982\n",
      "Epoch 16/20\n",
      "232/232 [==============================] - 18s 76ms/step - loss: 7.3508 - mae: 1.4708 - val_loss: 24.3167 - val_mae: 4.5275\n"
     ]
    },
    {
     "name": "stderr",
     "output_type": "stream",
     "text": [
      "distributed.utils_perf - WARNING - full garbage collections took 13% CPU time recently (threshold: 10%)\n"
     ]
    },
    {
     "name": "stdout",
     "output_type": "stream",
     "text": [
      "Chunk 42/52 // 78.85% Complete // Cycle 3/3\n"
     ]
    },
    {
     "name": "stderr",
     "output_type": "stream",
     "text": [
      "y:\\ML\\Anaconda\\envs\\TF-GPU\\lib\\site-packages\\sklearn\\preprocessing\\_label.py:876: UserWarning: unknown class(es) [' Atlus ', ' Bitworks ', ' Black Wing Foundation ', ' Cauldron Ltd. ', ' Coatsink Software ', ' EA Redwood Shores ', ' Elemental Games', ' Factor 5 ', ' Fire Face ', ' Just Add Water', ' Krome Studios ', ' Mossmouth ', ' Project Soul ', ' Red Storm Entertainment ', ' Shaba Games ', ' Terri Vellmann & Doseone ', '17-Bit ', '5000ft Inc. ', 'Activision', 'Alan Hazelden & Harry Lee ', 'Artdink', 'Bandai Namco Games', 'Black Lab Games ', 'Black Rock Studio ', 'CBE software ', 'Cadenza ', 'Cat Daddy Games ', 'Deep Red ', 'Derek Yu', 'DoubleDutch Games ', 'Dramatic Labs ', 'Escape ', 'Extend Interactive ', 'Fizz Factor ', 'Grimlore Games ', 'Infogrames ', 'Ironward ', 'Jumpship ', 'Malfador Machinations ', 'Massive Damage', 'Maxis', 'Meridian4 ', 'Metropolis Software ', 'MinMax Games Ltd. ', 'Mind over Matter ', 'Mossmouth', 'Murudai ', 'N-Game Studios', 'Naked Sky Entertainment ', 'Oovee Game Studios ', 'Owen Deery', 'Owned by Gravity ', 'Panic Barn Ltd ', 'Passtech Games ', 'Protocol Games ', 'Provox Games ', 'Pulsetense Games ', 'Rebellion', 'Rebelmind ', 'Reflexive Entertainment ', 'Reply Game Studios ', 'Retro Affect ', 'Retro Forge ', 'Runner Duck ', 'Seamless Entertainment', 'Silver Style ', 'Slitherine ', 'Sneaky Yak Studio ', 'Splashteam ', 'Star Gem Inc. ', 'State of Play Games ', 'Survios ', 'Tactical Adventures ', 'Taldren ', 'Terri Vellimann', 'Totally Games ', 'Treyarch', 'Vivid Games ', 'Wales Interactive ', 'Wings Simulations ', 'Zachtronics Industries ', 'inkle ', 'stillalive studios '] will be ignored\n",
      "  \"unknown class(es) {0} will be ignored\".format(sorted(unknown, key=str))\n",
      "distributed.utils_perf - WARNING - full garbage collections took 13% CPU time recently (threshold: 10%)\n",
      "distributed.utils_perf - WARNING - full garbage collections took 13% CPU time recently (threshold: 10%)\n"
     ]
    },
    {
     "name": "stdout",
     "output_type": "stream",
     "text": [
      "Epoch 1/20\n",
      "224/224 [==============================] - 17s 75ms/step - loss: 27.5981 - mae: 3.5350 - val_loss: 25.7792 - val_mae: 4.2076\n",
      "Epoch 2/20\n",
      "224/224 [==============================] - 17s 74ms/step - loss: 14.8145 - mae: 2.3671 - val_loss: 24.9857 - val_mae: 4.1819\n",
      "Epoch 3/20\n",
      "224/224 [==============================] - 17s 76ms/step - loss: 12.7001 - mae: 2.0906 - val_loss: 26.4603 - val_mae: 4.3409\n",
      "Epoch 4/20\n",
      "224/224 [==============================] - 17s 75ms/step - loss: 11.7286 - mae: 1.9806 - val_loss: 26.6314 - val_mae: 4.3557\n",
      "Epoch 5/20\n",
      "224/224 [==============================] - 17s 77ms/step - loss: 11.6051 - mae: 1.9062 - val_loss: 25.2558 - val_mae: 4.2393\n",
      "Epoch 6/20\n",
      "224/224 [==============================] - 17s 75ms/step - loss: 10.9519 - mae: 1.8507 - val_loss: 25.8657 - val_mae: 4.3077\n",
      "Epoch 7/20\n",
      "224/224 [==============================] - 17s 75ms/step - loss: 9.9978 - mae: 1.7652 - val_loss: 25.9334 - val_mae: 4.2573\n"
     ]
    },
    {
     "name": "stderr",
     "output_type": "stream",
     "text": [
      "distributed.utils_perf - WARNING - full garbage collections took 13% CPU time recently (threshold: 10%)\n"
     ]
    },
    {
     "name": "stdout",
     "output_type": "stream",
     "text": [
      "Chunk 43/52 // 80.77% Complete // Cycle 3/3\n"
     ]
    },
    {
     "name": "stderr",
     "output_type": "stream",
     "text": [
      "y:\\ML\\Anaconda\\envs\\TF-GPU\\lib\\site-packages\\sklearn\\preprocessing\\_label.py:876: UserWarning: unknown class(es) ['Text'] will be ignored\n",
      "  \"unknown class(es) {0} will be ignored\".format(sorted(unknown, key=str))\n",
      "y:\\ML\\Anaconda\\envs\\TF-GPU\\lib\\site-packages\\sklearn\\preprocessing\\_label.py:876: UserWarning: unknown class(es) [' Awaken Realms ', ' B.B.Studio ', ' Co. LTD ', ' Fullbright ', ' Koalabs ', ' Point Blank ', ' Quasar ', ' Ragequit Corporation ', ' Uppercut Games Pty Ltd ', 'Akabaka ', 'Akella', 'Ashdar Games ', 'Attention To Detail ', 'Awaceb ', 'Awaken Realms Digital', 'Bad Viking ', 'Banpresto', 'BattleGoat Studios ', 'Bkom ', 'Blackmill Games ', 'Blue 52 ', 'Blue Tongue Entertainment ', 'Bossa Studios ', 'Camel 101 ', 'Capy Games ', 'Chasing Rats Games ', 'Chibig ', 'Chucklefish ', 'Cosmo D Studios ', 'Cultic Games ', 'Curve Digital ', 'Curve Studios ', 'Dancing Dragon games ', 'Daniel Benmergui ', 'Destroyer Studios ', 'Dialogue Design ', 'Dimps Corporation ', 'Droqen ', 'Echo Chamber Games ', 'Ellipse Studios ', 'Embers ', 'Empty Clip Studios ', 'Exakt ', 'FIX Korea', 'Failbetter Games ', 'Fireglow ', 'Fury Software ', 'GameCo ', 'GolemLabs ', 'IMC Games ', 'Image & Form ', 'Kamehan Studios ', 'Kite Games ', 'Little Green Men ', 'M2 ', 'Magic Lantern ', 'Marvelous Inc. ', 'Microids', 'Midway ', 'Minds-Eye Productions ', 'Monochrome Paris ', 'Mucky Foot Productions ', 'Night Dive Studios ', 'No Bull Intentions ', 'No Code ', 'Odd Bug Studio ', 'Paul Cuisset ', 'Pillow Castle Games ', 'Pixel Titans ', 'Point Blank Games', 'Psyche Studios ', 'RLR Training Inc ', 'Serellan LLC ', 'Sierra Entertainment ', 'Sigtrap Games ', 'SkyBox Labs ', 'Sleepless Clinic ', 'Sleepy Sentry ', 'Spearhead Games ', 'Strangelite ', 'Strike Vector Team', 'Summerfall Studios ', 'THE BROTHERHOOD ', 'Taldren ', 'Tale of Tales ', 'Tate Multimedia ', 'The Artistocrats ', 'The Bitmap Brothers ', 'The Fullbright Company', 'Third Wire ', 'Torpor Games ', 'Uber Entertainment ', 'Ubisoft Annecy ', 'Uppercut Games', 'Uppercut Games Pty Ltd ', 'Vertex4 ', 'Wideload Games Inc. ', 'Wormwood Studios ', 'Xilam ', 'Zenovia ', 'Zero Sum Games ', 'Zoink! ', 'eSim Games ', 'increpare '] will be ignored\n",
      "  \"unknown class(es) {0} will be ignored\".format(sorted(unknown, key=str))\n",
      "distributed.utils_perf - WARNING - full garbage collections took 13% CPU time recently (threshold: 10%)\n",
      "distributed.utils_perf - WARNING - full garbage collections took 13% CPU time recently (threshold: 10%)\n"
     ]
    },
    {
     "name": "stdout",
     "output_type": "stream",
     "text": [
      "Epoch 1/20\n",
      "231/231 [==============================] - 18s 76ms/step - loss: 36.7232 - mae: 3.9405 - val_loss: 33.5209 - val_mae: 4.2860\n",
      "Epoch 2/20\n",
      "231/231 [==============================] - 17s 75ms/step - loss: 25.0671 - mae: 2.9813 - val_loss: 33.6443 - val_mae: 4.5508\n",
      "Epoch 3/20\n",
      "231/231 [==============================] - 17s 75ms/step - loss: 22.4687 - mae: 2.7267 - val_loss: 31.1129 - val_mae: 4.3959\n",
      "Epoch 4/20\n",
      "231/231 [==============================] - 17s 75ms/step - loss: 20.3309 - mae: 2.5144 - val_loss: 29.2041 - val_mae: 4.2758\n",
      "Epoch 5/20\n",
      "231/231 [==============================] - 17s 75ms/step - loss: 19.2865 - mae: 2.3888 - val_loss: 31.5644 - val_mae: 4.5659\n",
      "Epoch 6/20\n",
      "231/231 [==============================] - 17s 75ms/step - loss: 17.4763 - mae: 2.2818 - val_loss: 30.1307 - val_mae: 4.4290\n",
      "Epoch 7/20\n",
      "231/231 [==============================] - 17s 75ms/step - loss: 16.1450 - mae: 2.1785 - val_loss: 29.9209 - val_mae: 4.4830\n",
      "Epoch 8/20\n",
      "231/231 [==============================] - 17s 75ms/step - loss: 16.6382 - mae: 2.1950 - val_loss: 29.0418 - val_mae: 4.4428\n",
      "Epoch 9/20\n",
      "231/231 [==============================] - 17s 75ms/step - loss: 15.7233 - mae: 2.1194 - val_loss: 27.5784 - val_mae: 4.2683\n",
      "Epoch 10/20\n",
      "231/231 [==============================] - 17s 75ms/step - loss: 15.1846 - mae: 2.0526 - val_loss: 25.7934 - val_mae: 4.0667\n",
      "Epoch 11/20\n",
      "231/231 [==============================] - 17s 75ms/step - loss: 14.8736 - mae: 2.0140 - val_loss: 26.6370 - val_mae: 4.2123\n",
      "Epoch 12/20\n",
      "231/231 [==============================] - 17s 74ms/step - loss: 14.8125 - mae: 1.9977 - val_loss: 24.5934 - val_mae: 4.0313\n",
      "Epoch 13/20\n",
      "231/231 [==============================] - 17s 75ms/step - loss: 14.4547 - mae: 1.9942 - val_loss: 25.0371 - val_mae: 4.0891\n",
      "Epoch 14/20\n",
      "231/231 [==============================] - 17s 74ms/step - loss: 14.8555 - mae: 2.0334 - val_loss: 24.1718 - val_mae: 4.0128\n",
      "Epoch 15/20\n",
      "231/231 [==============================] - 17s 74ms/step - loss: 14.4634 - mae: 1.9762 - val_loss: 24.3567 - val_mae: 4.0766\n",
      "Epoch 16/20\n",
      "231/231 [==============================] - 17s 75ms/step - loss: 12.9123 - mae: 1.9068 - val_loss: 25.2820 - val_mae: 4.1938\n",
      "Epoch 17/20\n",
      "231/231 [==============================] - 18s 76ms/step - loss: 13.7394 - mae: 1.9589 - val_loss: 25.5562 - val_mae: 4.1816\n",
      "Epoch 18/20\n",
      "231/231 [==============================] - 17s 74ms/step - loss: 12.9818 - mae: 1.8746 - val_loss: 26.0515 - val_mae: 4.2829\n",
      "Epoch 19/20\n",
      "231/231 [==============================] - 17s 75ms/step - loss: 14.6377 - mae: 1.9545 - val_loss: 25.5339 - val_mae: 4.2342\n"
     ]
    },
    {
     "name": "stderr",
     "output_type": "stream",
     "text": [
      "distributed.utils_perf - WARNING - full garbage collections took 12% CPU time recently (threshold: 10%)\n"
     ]
    },
    {
     "name": "stdout",
     "output_type": "stream",
     "text": [
      "Chunk 44/52 // 82.69% Complete // Cycle 3/3\n"
     ]
    },
    {
     "name": "stderr",
     "output_type": "stream",
     "text": [
      "y:\\ML\\Anaconda\\envs\\TF-GPU\\lib\\site-packages\\sklearn\\preprocessing\\_label.py:876: UserWarning: unknown class(es) ['Text', 'Trainer'] will be ignored\n",
      "  \"unknown class(es) {0} will be ignored\".format(sorted(unknown, key=str))\n",
      "y:\\ML\\Anaconda\\envs\\TF-GPU\\lib\\site-packages\\sklearn\\preprocessing\\_label.py:876: UserWarning: unknown class(es) [' Digital Eclipse ', ' Florian Himsl ', ' Furious Bee ', ' King Art Games ', ' Lancarse ', ' Splendy Games ', ' YCJY Games ', '3D2 Entertainment ', 'AGO Games ', 'ARS GOETIA ', 'Abstraction Games ', 'Artefacts Studio ', 'Awfully Nice Studios ', 'Baroque Decay ', 'Beethoven & Dinosaur ', 'Big Ant Studios ', 'Big Finish Games ', 'BonusXP ', 'Bossa Studios ', 'Choice Provisions ', 'Cockroach Inc. ', 'Color Gray Games ', 'Crema Games ', 'Cryo Interactive ', 'Davey Wreden ', 'Deconstructeam ', 'Dragon Slumber ', 'DreamCatcher Interactive ', 'Eden Studios ', 'Edmund McMillen', 'Enhance Games ', 'Fairyship Games ', 'Free Lives ', 'Future Games ', 'Galilea Multimedia ', 'Game Freak ', 'Gaming Corps AB ', 'Harvester Games ', 'Illusion Ray Studio ', 'Iron Tower Studio ', 'Jason Rohrer ', 'Johamm Tael & Mihkel Tael ', 'KING Art', 'Konami', 'Ladyluck Digital Media ', \"Lion's Shade \", 'Mighty Yell ', 'Neon Giant ', 'Nicalis ', 'Noumena Productions ', 'Numinous Games ', 'Owl Cave ', 'Question ', 'Rain Games ', 'Random Potion Oy ', 'Rebelmind ', 'Rival Games Ltd ', 'Sam Barlow', 'Slendy Interactive', 'Spooky Doorway ', 'Swing Swing Submarine ', 'Technocrat ', 'Teotl Studios ', 'The Collective ', 'Tribute Games ', 'Tuxedo Labs ', 'Ty Taylor and Mario Castaneda ', 'Wadjet Eye Games ', 'Wales Interactive ', 'YCJY', 'Zenimax Online Studios ', 'h.a.n.d. Inc. ', 'nDreams '] will be ignored\n",
      "  \"unknown class(es) {0} will be ignored\".format(sorted(unknown, key=str))\n",
      "distributed.utils_perf - WARNING - full garbage collections took 12% CPU time recently (threshold: 10%)\n",
      "distributed.utils_perf - WARNING - full garbage collections took 12% CPU time recently (threshold: 10%)\n"
     ]
    },
    {
     "name": "stdout",
     "output_type": "stream",
     "text": [
      "Epoch 1/20\n",
      "232/232 [==============================] - 18s 74ms/step - loss: 19.6868 - mae: 2.5734 - val_loss: 25.9656 - val_mae: 4.1618\n",
      "Epoch 2/20\n",
      "232/232 [==============================] - 17s 75ms/step - loss: 15.1316 - mae: 2.1272 - val_loss: 21.0465 - val_mae: 3.8646\n",
      "Epoch 3/20\n",
      "232/232 [==============================] - 17s 75ms/step - loss: 12.4818 - mae: 1.9146 - val_loss: 19.1036 - val_mae: 3.5840\n",
      "Epoch 4/20\n",
      "232/232 [==============================] - 17s 74ms/step - loss: 10.9982 - mae: 1.7585 - val_loss: 19.1950 - val_mae: 3.4897\n",
      "Epoch 5/20\n",
      "232/232 [==============================] - 17s 75ms/step - loss: 11.2082 - mae: 1.7162 - val_loss: 18.0320 - val_mae: 3.4581\n",
      "Epoch 6/20\n",
      "232/232 [==============================] - 17s 75ms/step - loss: 10.2809 - mae: 1.6324 - val_loss: 17.9460 - val_mae: 3.4389\n",
      "Epoch 7/20\n",
      "232/232 [==============================] - 17s 74ms/step - loss: 10.0984 - mae: 1.6063 - val_loss: 17.8454 - val_mae: 3.3970\n",
      "Epoch 8/20\n",
      "232/232 [==============================] - 17s 75ms/step - loss: 10.2925 - mae: 1.5720 - val_loss: 17.8974 - val_mae: 3.4940\n",
      "Epoch 9/20\n",
      "232/232 [==============================] - 17s 74ms/step - loss: 10.0513 - mae: 1.5462 - val_loss: 17.1194 - val_mae: 3.4073\n",
      "Epoch 10/20\n",
      "232/232 [==============================] - 17s 74ms/step - loss: 9.2805 - mae: 1.4999 - val_loss: 19.1242 - val_mae: 3.6761\n",
      "Epoch 11/20\n",
      "232/232 [==============================] - 17s 75ms/step - loss: 9.9823 - mae: 1.5328 - val_loss: 17.7810 - val_mae: 3.4195\n",
      "Epoch 12/20\n",
      "232/232 [==============================] - 17s 74ms/step - loss: 9.0218 - mae: 1.4813 - val_loss: 20.1303 - val_mae: 3.7701\n",
      "Epoch 13/20\n",
      "232/232 [==============================] - 17s 75ms/step - loss: 8.8654 - mae: 1.4395 - val_loss: 20.5641 - val_mae: 3.7561\n",
      "Epoch 14/20\n",
      "232/232 [==============================] - 17s 75ms/step - loss: 9.1335 - mae: 1.4513 - val_loss: 19.0399 - val_mae: 3.6350\n"
     ]
    },
    {
     "name": "stderr",
     "output_type": "stream",
     "text": [
      "distributed.utils_perf - WARNING - full garbage collections took 12% CPU time recently (threshold: 10%)\n"
     ]
    },
    {
     "name": "stdout",
     "output_type": "stream",
     "text": [
      "Chunk 45/52 // 84.62% Complete // Cycle 3/3\n"
     ]
    },
    {
     "name": "stderr",
     "output_type": "stream",
     "text": [
      "y:\\ML\\Anaconda\\envs\\TF-GPU\\lib\\site-packages\\sklearn\\preprocessing\\_label.py:876: UserWarning: unknown class(es) ['Text'] will be ignored\n",
      "  \"unknown class(es) {0} will be ignored\".format(sorted(unknown, key=str))\n",
      "y:\\ML\\Anaconda\\envs\\TF-GPU\\lib\\site-packages\\sklearn\\preprocessing\\_label.py:876: UserWarning: unknown class(es) [' Cavalier Game Studios ', ' Crows Crows Crows ', ' Deck Nine Games ', ' Dire Wolf Digital ', ' Do My Best Games ', ' Endnight Studios ', ' Ishtar Games Inc. ', ' ONEOONE GAMES ', ' Question ', ' Skookum Arts ', ' Slitherine ', ' Studio Fizbin ', ' Sumo Nottingham ', ' Super Awesome Hyper Dimensional Mega Team ', ' Tyler Glaiel  ', '101%', '4Head Studios ', 'Act 3 Games', 'Arcen Games', 'Ares Dragonis ', 'Arxel Tribe ', 'Bellular Studios ', 'Big Robot Ltd ', 'Braingame ', 'Brainwash Gang ', 'Bulkhead Interactive ', 'CCCP', 'Caligari Games ', 'Cloak and Dagger Games ', 'Colibri Games ', 'Computer Artworks ', 'Daedalic Studio West ', 'Dan Smith Studios ', 'Darkling Room ', 'Davey Wreden ', 'Deconstructeam ', 'Digital Sun ', 'EXOR Studios ', 'Edmund McMillen', 'Facepalm Games ', 'Fireproof Games ', 'Fizbin', 'Frogwares', 'Galactic Cafe', 'GoldKnights Studio ', 'Grasshopper Manufacture ', 'Grip Games ', 'Gun Interactive', 'Headup Games ', 'House of Tales ', 'IF Games ', 'Image & Form ', 'Inevitable Entertainment ', 'Ironward ', 'James Interactive ', 'Joe Richardson ', 'LKA ', 'Leonard Menchiari ', 'Lexis Numerique ', 'Mana Games ', \"Mi'pu'mi Games \", 'Modern Storyteller ', 'Morbidware ', 'Mouldy Toof Studios ', 'Neon Doctrine ', 'Nevrax ', 'Omni Creative Group ', 'One Bit Beyond ', 'Orthogonal Games ', 'Over The Moon ', 'Pewter Games Studios ', 'Pixelogic ', 'Playmestudio ', 'Plot Twist ', 'Point of View ', 'PostMod Softworks ', 'Power Struggle Games ', 'Puuba ', 'Questionary', 'Rusty Lake ', 'SKS Games', 'Sabotage Studio ', 'Serenity Forge ', 'Sever ', 'Shark Punch ', 'Shifting Tides ', 'Size Five Games ', 'Skookum Arts LLC', 'SkyGoblin ', 'Slitherine Software', 'Smoking Car Productions ', 'Spidersoft', 'Streko-Graphics Inc. ', 'Stubby Games ', 'Studio Seufz ', 'Super Mega Team', 'SuperSexySoftware ', 'Surreal Software ', 'Tale of Tales ', 'Team Gotham ', 'The Molasses Flood ', 'The Odd Gentlemen ', 'The Station ', 'The Voxel Agents ', 'Thunkd ', 'Tomas Sala ', 'Tragnarion Studios ', 'TwoPM Studios ', 'Ubisoft Blue Byte ', 'VRESKI ', 'ValuSoft ', 'White Owls ', 'White Paper Games ', 'Wonderstruck Games ', 'mif2000 ', 'neo Software ', 'tinyBuild'] will be ignored\n",
      "  \"unknown class(es) {0} will be ignored\".format(sorted(unknown, key=str))\n",
      "distributed.utils_perf - WARNING - full garbage collections took 12% CPU time recently (threshold: 10%)\n",
      "distributed.utils_perf - WARNING - full garbage collections took 12% CPU time recently (threshold: 10%)\n"
     ]
    },
    {
     "name": "stdout",
     "output_type": "stream",
     "text": [
      "Epoch 1/20\n",
      "224/224 [==============================] - 17s 75ms/step - loss: 27.9383 - mae: 3.5252 - val_loss: 27.7506 - val_mae: 4.3756\n",
      "Epoch 2/20\n",
      "224/224 [==============================] - 17s 76ms/step - loss: 19.7992 - mae: 2.8451 - val_loss: 26.7181 - val_mae: 4.3161\n",
      "Epoch 3/20\n",
      "224/224 [==============================] - 17s 76ms/step - loss: 16.8220 - mae: 2.5221 - val_loss: 24.7054 - val_mae: 4.1354\n",
      "Epoch 4/20\n",
      "224/224 [==============================] - 17s 76ms/step - loss: 15.1877 - mae: 2.3423 - val_loss: 24.6510 - val_mae: 4.2231\n",
      "Epoch 5/20\n",
      "224/224 [==============================] - 17s 75ms/step - loss: 14.2452 - mae: 2.2282 - val_loss: 24.3171 - val_mae: 4.1944\n",
      "Epoch 6/20\n",
      "224/224 [==============================] - 17s 75ms/step - loss: 12.7596 - mae: 2.1195 - val_loss: 23.7292 - val_mae: 4.1496\n",
      "Epoch 7/20\n",
      "224/224 [==============================] - 17s 75ms/step - loss: 12.9526 - mae: 2.1023 - val_loss: 23.5204 - val_mae: 4.1490\n",
      "Epoch 8/20\n",
      "224/224 [==============================] - 17s 75ms/step - loss: 11.7735 - mae: 1.9957 - val_loss: 23.7775 - val_mae: 4.1609\n",
      "Epoch 9/20\n",
      "224/224 [==============================] - 17s 75ms/step - loss: 11.4216 - mae: 1.9740 - val_loss: 24.7179 - val_mae: 4.2188\n",
      "Epoch 10/20\n",
      "224/224 [==============================] - 17s 75ms/step - loss: 11.8340 - mae: 1.9642 - val_loss: 24.3752 - val_mae: 4.2318\n",
      "Epoch 11/20\n",
      "224/224 [==============================] - 17s 74ms/step - loss: 10.5645 - mae: 1.8490 - val_loss: 24.0732 - val_mae: 4.1852\n",
      "Epoch 12/20\n",
      "224/224 [==============================] - 17s 74ms/step - loss: 10.2644 - mae: 1.8272 - val_loss: 23.7674 - val_mae: 4.1616\n"
     ]
    },
    {
     "name": "stderr",
     "output_type": "stream",
     "text": [
      "distributed.utils_perf - WARNING - full garbage collections took 11% CPU time recently (threshold: 10%)\n"
     ]
    },
    {
     "name": "stdout",
     "output_type": "stream",
     "text": [
      "Chunk 46/52 // 86.54% Complete // Cycle 3/3\n"
     ]
    },
    {
     "name": "stderr",
     "output_type": "stream",
     "text": [
      "y:\\ML\\Anaconda\\envs\\TF-GPU\\lib\\site-packages\\sklearn\\preprocessing\\_label.py:876: UserWarning: unknown class(es) ['Text'] will be ignored\n",
      "  \"unknown class(es) {0} will be ignored\".format(sorted(unknown, key=str))\n",
      "y:\\ML\\Anaconda\\envs\\TF-GPU\\lib\\site-packages\\sklearn\\preprocessing\\_label.py:876: UserWarning: unknown class(es) [' 1C', ' CINIC Games ', ' Drool ', ' KRAFTON Inc. ', ' Kukouri Mobile Entertainment ', 'AREA35 ', 'Adeline Software ', 'Alawar Premium ', 'Antagonist ', 'Battlefront.com', 'Black Pants ', 'Blendo Games ', 'Bulkhead Interactive ', 'C.I.N.I.C. Games', 'Camel 101 ', 'Can Explode ', 'Carbon Studio ', 'Click Entertainment ', 'ComonGames ', 'Double Zero One Zero ', 'Draw Me A Pixel ', 'Expansive Worlds ', 'Falling Squirrel ', 'Flazm ', 'Gato Salvaje Studio ', 'HyperBole Studios ', 'Ice-Pick Lodge ', 'Iceberg Interactive', 'Iridium Studios ', 'Kite Games ', 'Minority Media Inc. ', 'Modern Dream ', 'Moonlight Kids ', 'Most Wanted Entertainment ', 'MuHa Games ', 'Numantian Games ', 'OverBorder Studio ', 'Paintbucket Games ', 'Puuba ', 'Puzzling Dream ', 'Rogue Sun ', 'Ron Gilbert and Gary Winnick ', 'Skybound LLC', 'Skydance Interactive ', 'Splashteam ', 'Spooky Squid Games ', 'SuperPAC ', 'Tin Man Games ', 'Trecision ', 'Urnique Studio ', 'Zombie Cow Studios ', '[bracket]games ', 'damiansommer ', 'drool Games', 'fragOut Studio'] will be ignored\n",
      "  \"unknown class(es) {0} will be ignored\".format(sorted(unknown, key=str))\n",
      "distributed.utils_perf - WARNING - full garbage collections took 11% CPU time recently (threshold: 10%)\n",
      "distributed.utils_perf - WARNING - full garbage collections took 11% CPU time recently (threshold: 10%)\n"
     ]
    },
    {
     "name": "stdout",
     "output_type": "stream",
     "text": [
      "Epoch 1/20\n",
      "222/222 [==============================] - 17s 76ms/step - loss: 16.1320 - mae: 2.5843 - val_loss: 21.1386 - val_mae: 4.0051\n",
      "Epoch 2/20\n",
      "222/222 [==============================] - 17s 75ms/step - loss: 9.9306 - mae: 1.8763 - val_loss: 19.8302 - val_mae: 3.8989\n",
      "Epoch 3/20\n",
      "222/222 [==============================] - 17s 75ms/step - loss: 8.5437 - mae: 1.7058 - val_loss: 19.0635 - val_mae: 3.8544\n",
      "Epoch 4/20\n",
      "222/222 [==============================] - 17s 75ms/step - loss: 8.3644 - mae: 1.6331 - val_loss: 18.3553 - val_mae: 3.8199\n",
      "Epoch 5/20\n",
      "222/222 [==============================] - 17s 76ms/step - loss: 7.9201 - mae: 1.5853 - val_loss: 20.7854 - val_mae: 4.0813\n",
      "Epoch 6/20\n",
      "222/222 [==============================] - 17s 75ms/step - loss: 7.3765 - mae: 1.4796 - val_loss: 20.0710 - val_mae: 3.9932\n",
      "Epoch 7/20\n",
      "222/222 [==============================] - 17s 75ms/step - loss: 7.3048 - mae: 1.4669 - val_loss: 19.2516 - val_mae: 3.9257\n",
      "Epoch 8/20\n",
      "222/222 [==============================] - 16s 74ms/step - loss: 6.7104 - mae: 1.4279 - val_loss: 20.7046 - val_mae: 4.1077\n",
      "Epoch 9/20\n",
      "222/222 [==============================] - 17s 75ms/step - loss: 7.0376 - mae: 1.4155 - val_loss: 19.9139 - val_mae: 3.9907\n"
     ]
    },
    {
     "name": "stderr",
     "output_type": "stream",
     "text": [
      "distributed.utils_perf - WARNING - full garbage collections took 11% CPU time recently (threshold: 10%)\n"
     ]
    },
    {
     "name": "stdout",
     "output_type": "stream",
     "text": [
      "Chunk 47/52 // 88.46% Complete // Cycle 3/3\n"
     ]
    },
    {
     "name": "stderr",
     "output_type": "stream",
     "text": [
      "y:\\ML\\Anaconda\\envs\\TF-GPU\\lib\\site-packages\\sklearn\\preprocessing\\_label.py:876: UserWarning: unknown class(es) [' 2K Sports ', ' Cherrymochi ', ' Pieces Interactive ', ' Ubisoft Paris ', '49Games ', 'AGEOD ', 'Acid Nerve ', 'Aspyr', 'Cavedog Entertainment ', 'Cinemaware ', 'Core Design Ltd. ', 'Deadline Games ', 'Dual Effect ', 'Echtra Games', 'Fireart Games ', 'Freebird Games ', 'GRIN', 'Humanature Studios ', 'Iron Lore Entertainment', 'Neversoft Entertainment ', 'OhNoo ', 'Pocketwatch Games ', 'Red Storm Entertainment', 'SMAC Games ', 'Something We Made ', 'Swordtales ', 'Two Tribes ', 'Ubisoft Milan ', 'Ubisoft Singapore ', 'Vicarious Visions ', 'dietzribi '] will be ignored\n",
      "  \"unknown class(es) {0} will be ignored\".format(sorted(unknown, key=str))\n",
      "distributed.utils_perf - WARNING - full garbage collections took 11% CPU time recently (threshold: 10%)\n",
      "distributed.utils_perf - WARNING - full garbage collections took 11% CPU time recently (threshold: 10%)\n"
     ]
    },
    {
     "name": "stdout",
     "output_type": "stream",
     "text": [
      "Epoch 1/20\n",
      "228/228 [==============================] - 18s 76ms/step - loss: 16.7067 - mae: 2.5491 - val_loss: 26.3823 - val_mae: 4.5168\n",
      "Epoch 2/20\n",
      "228/228 [==============================] - 17s 75ms/step - loss: 9.7593 - mae: 1.7831 - val_loss: 25.5018 - val_mae: 4.4929\n",
      "Epoch 3/20\n",
      "228/228 [==============================] - 17s 75ms/step - loss: 9.1409 - mae: 1.6284 - val_loss: 24.8497 - val_mae: 4.4926\n",
      "Epoch 4/20\n",
      "228/228 [==============================] - 17s 75ms/step - loss: 8.3322 - mae: 1.5274 - val_loss: 23.1912 - val_mae: 4.3106\n",
      "Epoch 5/20\n",
      "228/228 [==============================] - 17s 75ms/step - loss: 7.6964 - mae: 1.4253 - val_loss: 25.2420 - val_mae: 4.5300\n",
      "Epoch 6/20\n",
      "228/228 [==============================] - 17s 76ms/step - loss: 7.3477 - mae: 1.3440 - val_loss: 23.6795 - val_mae: 4.3775\n",
      "Epoch 7/20\n",
      "228/228 [==============================] - 17s 74ms/step - loss: 7.9265 - mae: 1.3533 - val_loss: 24.0878 - val_mae: 4.4688\n",
      "Epoch 8/20\n",
      "228/228 [==============================] - 17s 75ms/step - loss: 6.9833 - mae: 1.2675 - val_loss: 22.3909 - val_mae: 4.2904\n",
      "Epoch 9/20\n",
      "228/228 [==============================] - 17s 75ms/step - loss: 6.7409 - mae: 1.2389 - val_loss: 23.6418 - val_mae: 4.4512\n",
      "Epoch 10/20\n",
      "228/228 [==============================] - 17s 75ms/step - loss: 6.7887 - mae: 1.2129 - val_loss: 22.1744 - val_mae: 4.2669\n",
      "Epoch 11/20\n",
      "228/228 [==============================] - 17s 76ms/step - loss: 7.0071 - mae: 1.2589 - val_loss: 22.9714 - val_mae: 4.3606\n",
      "Epoch 12/20\n",
      "228/228 [==============================] - 17s 75ms/step - loss: 6.9556 - mae: 1.2146 - val_loss: 22.7423 - val_mae: 4.3153\n",
      "Epoch 13/20\n",
      "228/228 [==============================] - 17s 75ms/step - loss: 6.9074 - mae: 1.2295 - val_loss: 22.9746 - val_mae: 4.3415\n",
      "Epoch 14/20\n",
      "228/228 [==============================] - 17s 75ms/step - loss: 6.1878 - mae: 1.1780 - val_loss: 23.1638 - val_mae: 4.3710\n",
      "Epoch 15/20\n",
      "228/228 [==============================] - 17s 75ms/step - loss: 6.3643 - mae: 1.2006 - val_loss: 23.2074 - val_mae: 4.3531\n"
     ]
    },
    {
     "name": "stderr",
     "output_type": "stream",
     "text": [
      "distributed.utils_perf - WARNING - full garbage collections took 11% CPU time recently (threshold: 10%)\n"
     ]
    },
    {
     "name": "stdout",
     "output_type": "stream",
     "text": [
      "Chunk 48/52 // 90.38% Complete // Cycle 3/3\n"
     ]
    },
    {
     "name": "stderr",
     "output_type": "stream",
     "text": [
      "y:\\ML\\Anaconda\\envs\\TF-GPU\\lib\\site-packages\\sklearn\\preprocessing\\_label.py:876: UserWarning: unknown class(es) [' Blackmill Games ', ' Crenetic Studios ', ' Duality Games ', ' Eurocom ', ' Forever Entertainment ', ' Hotta Studio ', ' ML Enterprises ', ' Mercenary Technologies ', ' Reborn Games Inc. ', ' Revistronic ', ' Soleil Ltd. ', ' Supergonk ', ' Talawa Games ', ' Team Toro ', ' Xeen ', ' btf ', '110 Industries', '258 Productions AB ', '2By3 Games ', '2x2 Games ', '3000AD', 'Action Button Entertainment ', 'Alien Pixel Studios ', 'Artdink ', 'Auran ', 'Backwoods Entertainment ', 'Blue Manchu ', 'BlueGiant Interactive ', 'Brainy Studio LLC ', 'BreakAway Games ', 'Burut Software ', 'Celeris ', 'Chaos Concept ', 'Coldwood Interactive ', 'Cordens Interactive ', 'Cowardly Creations ', 'Crazy Viking Studios ', 'DNS Development ', 'Daydream Software ', 'Deep Red ', 'Devespresso Games ', 'Draw Distance ', 'Duality Studio', 'Dumb and Fat Games ', 'Dynamix ', 'Endless Fluff ', 'Eurocom Entertainment Software', 'Event Horizon Software ', 'Fatbot Games ', 'Feral Interactive ', 'Forever Entertainment S.A.', 'Fragment Production Ltd', 'Frog City Software ', 'Game-Labs ', 'Games Farm ', 'Gatling Goat Studios ', 'Gigawatt Studios ', 'Glass Heart Games ', 'Guild Software ', 'Headup Games', 'High Moon Studios', 'House House ', 'ISOMETRICORP Games ', 'JoyMasher ', 'KT Racing ', 'LEAP Game Studios ', 'Legend Entertainment ', 'Luis Antonio ', 'Luxoflux', 'M2H', 'Maddy Thorson ', 'Magic Design Studios ', 'Naughty Dog', 'Night Dive Studios ', 'Nihilistic ', 'Norsfell ', 'OhNoo ', 'OtherSide Entertainment ', 'Outsider Games ', 'Owlchemy Labs ', 'Pixwerk ', 'Propaganda Games ', 'Proxima Beta Europe B.V.', 'Pterodon ', 'Pyrodactyl Games ', 'Rat King Entertainment ', 'Replay Studios', 'Revistonic', 'Rooster Teeth Games ', 'Sad Owl Studios ', 'SadSquare Studio ', 'SpectreVision ', 'Steel Mantis ', 'Stormling Studios ', 'Strange Loop Games ', 'Studio Pixel Punk ', 'Stygian Software ', 'Subterranean Games ', 'Sukeban Games ', 'Supergonk Ltd.', 'Tate Multimedia ', 'Teotl Studios', 'Terrible Posture Games ', 'Terry Cavanagh ', 'Theta Division ', 'Trepang Studios ', 'Urban Games ', 'Variable State ', 'Visai Games ', 'Wadjet Eye Games ', 'Whatboy Games ', 'Witch Beam ', 'Yukon Wainczak ', 'btf GmbH', 'poncle ', 'timesymmetry ', 'tobyfox '] will be ignored\n",
      "  \"unknown class(es) {0} will be ignored\".format(sorted(unknown, key=str))\n",
      "distributed.utils_perf - WARNING - full garbage collections took 11% CPU time recently (threshold: 10%)\n",
      "distributed.utils_perf - WARNING - full garbage collections took 11% CPU time recently (threshold: 10%)\n"
     ]
    },
    {
     "name": "stdout",
     "output_type": "stream",
     "text": [
      "Epoch 1/20\n",
      "224/224 [==============================] - 17s 76ms/step - loss: 22.6322 - mae: 3.1955 - val_loss: 21.5113 - val_mae: 3.6889\n",
      "Epoch 2/20\n",
      "224/224 [==============================] - 17s 74ms/step - loss: 14.1165 - mae: 2.3093 - val_loss: 20.1020 - val_mae: 3.6335\n",
      "Epoch 3/20\n",
      "224/224 [==============================] - 17s 75ms/step - loss: 12.8833 - mae: 2.1305 - val_loss: 19.1845 - val_mae: 3.5368\n",
      "Epoch 4/20\n",
      "224/224 [==============================] - 17s 74ms/step - loss: 11.3583 - mae: 1.9853 - val_loss: 19.5579 - val_mae: 3.6663\n",
      "Epoch 5/20\n",
      "224/224 [==============================] - 17s 76ms/step - loss: 10.0630 - mae: 1.8348 - val_loss: 18.3981 - val_mae: 3.5391\n",
      "Epoch 6/20\n",
      "224/224 [==============================] - 17s 75ms/step - loss: 9.7915 - mae: 1.7739 - val_loss: 18.5192 - val_mae: 3.5421\n",
      "Epoch 7/20\n",
      "224/224 [==============================] - 17s 76ms/step - loss: 9.7677 - mae: 1.7643 - val_loss: 18.5580 - val_mae: 3.5539\n",
      "Epoch 8/20\n",
      "224/224 [==============================] - 17s 75ms/step - loss: 9.7307 - mae: 1.7624 - val_loss: 18.6710 - val_mae: 3.5342\n",
      "Epoch 9/20\n",
      "224/224 [==============================] - 17s 75ms/step - loss: 9.9699 - mae: 1.7781 - val_loss: 18.8870 - val_mae: 3.6580\n",
      "Epoch 10/20\n",
      "224/224 [==============================] - 17s 76ms/step - loss: 8.5325 - mae: 1.6398 - val_loss: 18.1730 - val_mae: 3.5869\n",
      "Epoch 11/20\n",
      "224/224 [==============================] - 17s 74ms/step - loss: 8.7801 - mae: 1.6508 - val_loss: 17.9467 - val_mae: 3.5152\n",
      "Epoch 12/20\n",
      "224/224 [==============================] - 17s 75ms/step - loss: 9.1583 - mae: 1.6865 - val_loss: 18.6621 - val_mae: 3.6417\n",
      "Epoch 13/20\n",
      "224/224 [==============================] - 17s 75ms/step - loss: 8.8846 - mae: 1.6305 - val_loss: 18.3814 - val_mae: 3.5919\n",
      "Epoch 14/20\n",
      "224/224 [==============================] - 17s 75ms/step - loss: 8.6045 - mae: 1.6267 - val_loss: 16.8215 - val_mae: 3.3594\n",
      "Epoch 15/20\n",
      "224/224 [==============================] - 17s 75ms/step - loss: 8.1011 - mae: 1.5546 - val_loss: 16.8590 - val_mae: 3.4128\n",
      "Epoch 16/20\n",
      "224/224 [==============================] - 17s 76ms/step - loss: 8.2572 - mae: 1.5169 - val_loss: 18.7793 - val_mae: 3.6771\n",
      "Epoch 17/20\n",
      "224/224 [==============================] - 17s 75ms/step - loss: 8.1269 - mae: 1.5403 - val_loss: 18.4969 - val_mae: 3.5347\n",
      "Epoch 18/20\n",
      "224/224 [==============================] - 17s 75ms/step - loss: 8.9481 - mae: 1.5821 - val_loss: 17.9562 - val_mae: 3.5038\n",
      "Epoch 19/20\n",
      "224/224 [==============================] - 17s 75ms/step - loss: 7.9630 - mae: 1.5167 - val_loss: 18.1496 - val_mae: 3.5576\n"
     ]
    },
    {
     "name": "stderr",
     "output_type": "stream",
     "text": [
      "distributed.utils_perf - WARNING - full garbage collections took 10% CPU time recently (threshold: 10%)\n"
     ]
    },
    {
     "name": "stdout",
     "output_type": "stream",
     "text": [
      "Chunk 49/52 // 92.31% Complete // Cycle 3/3\n"
     ]
    },
    {
     "name": "stderr",
     "output_type": "stream",
     "text": [
      "y:\\ML\\Anaconda\\envs\\TF-GPU\\lib\\site-packages\\sklearn\\preprocessing\\_label.py:876: UserWarning: unknown class(es) ['Dream Execution ', 'Fatshark AB ', 'GabberGames ', 'Third Wave Games '] will be ignored\n",
      "  \"unknown class(es) {0} will be ignored\".format(sorted(unknown, key=str))\n",
      "distributed.utils_perf - WARNING - full garbage collections took 10% CPU time recently (threshold: 10%)\n",
      "distributed.utils_perf - WARNING - full garbage collections took 10% CPU time recently (threshold: 10%)\n"
     ]
    },
    {
     "name": "stdout",
     "output_type": "stream",
     "text": [
      "Epoch 1/20\n",
      "212/212 [==============================] - 16s 75ms/step - loss: 8.9052 - mae: 1.8546 - val_loss: 8.8109 - val_mae: 2.8842\n",
      "Epoch 2/20\n",
      "212/212 [==============================] - 16s 75ms/step - loss: 2.3625 - mae: 0.9744 - val_loss: 8.9329 - val_mae: 2.8676\n",
      "Epoch 3/20\n",
      "212/212 [==============================] - 16s 75ms/step - loss: 1.6655 - mae: 0.7555 - val_loss: 9.2493 - val_mae: 2.9094\n",
      "Epoch 4/20\n",
      "212/212 [==============================] - 16s 75ms/step - loss: 1.2670 - mae: 0.6554 - val_loss: 8.9738 - val_mae: 2.8534\n",
      "Epoch 5/20\n",
      "212/212 [==============================] - 16s 75ms/step - loss: 1.0560 - mae: 0.6082 - val_loss: 9.4138 - val_mae: 2.9300\n",
      "Epoch 6/20\n",
      "212/212 [==============================] - 16s 74ms/step - loss: 1.1389 - mae: 0.5665 - val_loss: 9.4899 - val_mae: 2.9491\n"
     ]
    },
    {
     "name": "stderr",
     "output_type": "stream",
     "text": [
      "distributed.utils_perf - WARNING - full garbage collections took 10% CPU time recently (threshold: 10%)\n"
     ]
    },
    {
     "name": "stdout",
     "output_type": "stream",
     "text": [
      "Chunk 50/52 // 94.23% Complete // Cycle 3/3\n"
     ]
    },
    {
     "name": "stderr",
     "output_type": "stream",
     "text": [
      "y:\\ML\\Anaconda\\envs\\TF-GPU\\lib\\site-packages\\sklearn\\preprocessing\\_label.py:876: UserWarning: unknown class(es) [' Behaviour Interactive ', ' Flashback Games ', ' Toylogic ', 'Auroch Digital ', 'Behaviour Interactive Inc.', 'Black Cactus ', 'Black Lab Games ', 'Bulwark Studios ', 'Chucklefish ', 'Complex Games Inc. ', 'Games Workshop ', 'Gasket Games ', 'Hammerfall Publishing ', 'Kuju Entertainment ', 'Paradox Interactive', 'Pixelated Milk ', 'Playwood Project ', 'Proxy Studios ', 'Rodeo Games ', 'Shiro Games ', 'Strategic Studies Group ', 'Strayllight Entertainment ', 'The Lordz Games Studio', 'Toylogic Inc.', 'Trapdoor '] will be ignored\n",
      "  \"unknown class(es) {0} will be ignored\".format(sorted(unknown, key=str))\n",
      "distributed.utils_perf - WARNING - full garbage collections took 10% CPU time recently (threshold: 10%)\n",
      "distributed.utils_perf - WARNING - full garbage collections took 10% CPU time recently (threshold: 10%)\n"
     ]
    },
    {
     "name": "stdout",
     "output_type": "stream",
     "text": [
      "Epoch 1/20\n",
      "213/213 [==============================] - 16s 75ms/step - loss: 11.8192 - mae: 2.2654 - val_loss: 13.3182 - val_mae: 3.1682\n",
      "Epoch 2/20\n",
      "213/213 [==============================] - 16s 75ms/step - loss: 6.7087 - mae: 1.5127 - val_loss: 12.9854 - val_mae: 3.1416\n",
      "Epoch 3/20\n",
      "213/213 [==============================] - 16s 75ms/step - loss: 6.4037 - mae: 1.4053 - val_loss: 13.2909 - val_mae: 3.1960\n",
      "Epoch 4/20\n",
      "213/213 [==============================] - 16s 77ms/step - loss: 5.6969 - mae: 1.2829 - val_loss: 13.1800 - val_mae: 3.1838\n",
      "Epoch 5/20\n",
      "213/213 [==============================] - 16s 75ms/step - loss: 5.6326 - mae: 1.2513 - val_loss: 12.8804 - val_mae: 3.1139\n",
      "Epoch 6/20\n",
      "213/213 [==============================] - 16s 75ms/step - loss: 5.3647 - mae: 1.2003 - val_loss: 13.6590 - val_mae: 3.2159\n",
      "Epoch 7/20\n",
      "213/213 [==============================] - 16s 76ms/step - loss: 4.5298 - mae: 1.1314 - val_loss: 12.6755 - val_mae: 3.0611\n",
      "Epoch 8/20\n",
      "213/213 [==============================] - 16s 74ms/step - loss: 4.4561 - mae: 1.0650 - val_loss: 12.9150 - val_mae: 3.1034\n",
      "Epoch 9/20\n",
      "213/213 [==============================] - 16s 76ms/step - loss: 4.6596 - mae: 1.0728 - val_loss: 12.6473 - val_mae: 3.1064\n",
      "Epoch 10/20\n",
      "213/213 [==============================] - 16s 75ms/step - loss: 4.4395 - mae: 1.0418 - val_loss: 13.7242 - val_mae: 3.1738\n",
      "Epoch 11/20\n",
      "213/213 [==============================] - 16s 75ms/step - loss: 4.3980 - mae: 1.0011 - val_loss: 13.1953 - val_mae: 3.1283\n",
      "Epoch 12/20\n",
      "213/213 [==============================] - 16s 75ms/step - loss: 4.1656 - mae: 0.9768 - val_loss: 13.0279 - val_mae: 3.1631\n",
      "Epoch 13/20\n",
      "213/213 [==============================] - 16s 74ms/step - loss: 4.5006 - mae: 1.0007 - val_loss: 12.9450 - val_mae: 3.1690\n",
      "Epoch 14/20\n",
      "213/213 [==============================] - 16s 75ms/step - loss: 3.9948 - mae: 0.9509 - val_loss: 13.3504 - val_mae: 3.1554\n"
     ]
    },
    {
     "name": "stderr",
     "output_type": "stream",
     "text": [
      "distributed.utils_perf - WARNING - full garbage collections took 10% CPU time recently (threshold: 10%)\n"
     ]
    },
    {
     "name": "stdout",
     "output_type": "stream",
     "text": [
      "Chunk 51/52 // 96.15% Complete // Cycle 3/3\n"
     ]
    },
    {
     "name": "stderr",
     "output_type": "stream",
     "text": [
      "y:\\ML\\Anaconda\\envs\\TF-GPU\\lib\\site-packages\\sklearn\\preprocessing\\_label.py:876: UserWarning: unknown class(es) [' In Images ', ' Persha Studia ', ' Visual Concepts ', '5 Lives Studios ', 'Alientrap ', 'Asymmetric Publications ', 'B-Alive ', 'Clifftop Games ', 'Cornered Rat ', 'Deadline Games ', 'Deadpan Games ', 'Different Tales ', 'Dim Bulb Games ', 'Direct Action Games ', 'DotEmu ', 'EVC ', 'Eden Industries ', 'Fast Travel Games ', 'Funomena ', 'G5 Software ', 'Gameyus Interactive ', 'Genius Slackers ', 'Ghost Pattern ', 'Giant Sparrow ', 'GriN Multimedia ', 'Heuristic Park ', 'KT Racing ', 'Knuist & Perzik ', 'Masque Publishing ', 'Mega Cat Studios ', 'Mojiken Studio ', 'Monokel ', 'Moonshark ', 'Night Light Interactive ', 'Nine Rocks Games ', 'OSome Studio ', 'Ostrich Banditos ', 'Ota Imon Studios ', 'Polyslash ', 'Ratbag ', 'Santa Ragione ', 'Silver Wish Games ', 'Sir-Tech Software Inc. ', 'Sneaky Bastards ', 'Snowed In Studios ', 'Studio Drydock Pty Ltd ', 'Synetic ', 'Take-Two Interactive', 'Tasharen Entertainment ', 'The Bitmap Brothers ', 'Third Wire ', 'Tigon ', 'Total Mayhem Games ', 'Triband ', 'Triple Topping Games ', 'Twisted Pixel Games ', 'Upstream Arcade ', 'Vile Monarch ', 'Wastelands Interactive ', 'Whale Rock Games ', 'Wide Games ', 'Winning Streak Games ', 'Wolcen Studio ', 'Wolfeye Studios ', 'Worldwalker Games ', 'Zuxxez', 'imaginarylab '] will be ignored\n",
      "  \"unknown class(es) {0} will be ignored\".format(sorted(unknown, key=str))\n",
      "distributed.utils_perf - WARNING - full garbage collections took 10% CPU time recently (threshold: 10%)\n",
      "distributed.utils_perf - WARNING - full garbage collections took 10% CPU time recently (threshold: 10%)\n"
     ]
    },
    {
     "name": "stdout",
     "output_type": "stream",
     "text": [
      "Epoch 1/20\n",
      "228/228 [==============================] - 17s 75ms/step - loss: 22.3174 - mae: 3.0354 - val_loss: 22.6371 - val_mae: 3.8165\n",
      "Epoch 2/20\n",
      "228/228 [==============================] - 17s 75ms/step - loss: 15.2918 - mae: 2.3999 - val_loss: 24.0463 - val_mae: 4.0801\n",
      "Epoch 3/20\n",
      "228/228 [==============================] - 17s 75ms/step - loss: 12.2950 - mae: 2.0961 - val_loss: 23.2835 - val_mae: 3.9970\n",
      "Epoch 4/20\n",
      "228/228 [==============================] - 17s 75ms/step - loss: 11.2509 - mae: 1.9793 - val_loss: 23.6823 - val_mae: 4.0594\n",
      "Epoch 5/20\n",
      "228/228 [==============================] - 17s 75ms/step - loss: 9.9033 - mae: 1.8182 - val_loss: 21.9559 - val_mae: 3.9548\n",
      "Epoch 6/20\n",
      "228/228 [==============================] - 17s 74ms/step - loss: 9.5943 - mae: 1.7453 - val_loss: 20.5055 - val_mae: 3.8025\n",
      "Epoch 7/20\n",
      "228/228 [==============================] - 17s 76ms/step - loss: 8.7207 - mae: 1.6818 - val_loss: 20.5078 - val_mae: 3.7649\n",
      "Epoch 8/20\n",
      "228/228 [==============================] - 17s 76ms/step - loss: 8.5750 - mae: 1.6594 - val_loss: 20.6700 - val_mae: 3.7633\n",
      "Epoch 9/20\n",
      "228/228 [==============================] - 17s 76ms/step - loss: 7.8274 - mae: 1.5857 - val_loss: 21.0575 - val_mae: 3.8426\n",
      "Epoch 10/20\n",
      "228/228 [==============================] - 17s 75ms/step - loss: 8.5363 - mae: 1.5661 - val_loss: 20.4247 - val_mae: 3.7606\n",
      "Epoch 11/20\n",
      "228/228 [==============================] - 17s 75ms/step - loss: 7.6365 - mae: 1.5008 - val_loss: 19.9959 - val_mae: 3.7267\n",
      "Epoch 12/20\n",
      "228/228 [==============================] - 17s 75ms/step - loss: 7.5133 - mae: 1.4718 - val_loss: 20.0376 - val_mae: 3.6803\n",
      "Epoch 13/20\n",
      "228/228 [==============================] - 17s 75ms/step - loss: 6.9132 - mae: 1.4521 - val_loss: 21.4893 - val_mae: 3.8922\n",
      "Epoch 14/20\n",
      "228/228 [==============================] - 17s 75ms/step - loss: 6.9977 - mae: 1.4109 - val_loss: 20.9061 - val_mae: 3.8047\n",
      "Epoch 15/20\n",
      "228/228 [==============================] - 17s 75ms/step - loss: 8.2897 - mae: 1.4730 - val_loss: 19.6361 - val_mae: 3.6546\n",
      "Epoch 16/20\n",
      "228/228 [==============================] - 17s 75ms/step - loss: 6.3739 - mae: 1.3101 - val_loss: 20.9019 - val_mae: 3.7969\n",
      "Epoch 17/20\n",
      "228/228 [==============================] - 17s 76ms/step - loss: 7.3894 - mae: 1.4180 - val_loss: 18.8232 - val_mae: 3.6230\n",
      "Epoch 18/20\n",
      "228/228 [==============================] - 17s 75ms/step - loss: 7.2392 - mae: 1.3421 - val_loss: 20.9615 - val_mae: 3.7933\n",
      "Epoch 19/20\n",
      "228/228 [==============================] - 17s 76ms/step - loss: 6.5918 - mae: 1.3276 - val_loss: 21.8955 - val_mae: 3.9147\n",
      "Epoch 20/20\n",
      "228/228 [==============================] - 17s 75ms/step - loss: 6.6713 - mae: 1.3483 - val_loss: 21.5161 - val_mae: 3.8124\n"
     ]
    },
    {
     "name": "stderr",
     "output_type": "stream",
     "text": [
      "distributed.utils_perf - WARNING - full garbage collections took 10% CPU time recently (threshold: 10%)\n"
     ]
    },
    {
     "name": "stdout",
     "output_type": "stream",
     "text": [
      "Chunk 52/52 // 98.08% Complete // Cycle 3/3\n"
     ]
    },
    {
     "name": "stderr",
     "output_type": "stream",
     "text": [
      "y:\\ML\\Anaconda\\envs\\TF-GPU\\lib\\site-packages\\sklearn\\preprocessing\\_label.py:876: UserWarning: unknown class(es) [' Goldhawk Interactive ', ' KADOKAWA CORPORATION ', ' Lab42 ', ' Mandel ArtPlains ', ' Sumo Digital Academy ', ' comcept ', '1P2P ', 'Ackkstudios ', 'Baroque Decay ', 'Brave at Night ', 'Crocodile Entertainment ', 'Digital Spray Studios', 'EXOR Studios ', 'Gamedust ', 'Gamethunks', 'Impressions Games ', 'Jellyvision ', 'Kadokawa', 'Livesay Technologies ', 'MicroProse ', 'Moonbite Games ', 'NoClip ', 'PlayMagic Ltd ', 'Prideful Sloth ', 'Rimlight Studios ', 'Ruud Koorevaar ', 'Ryu ga Gotoku Studios', 'Simogo ', 'Spark Unlimited', 'Spike Chunsoft ', 'Sumo Digital', 'Unicorn Games Studio ', 'Villa Gorilla ', 'WXP ', 'frecle ApS '] will be ignored\n",
      "  \"unknown class(es) {0} will be ignored\".format(sorted(unknown, key=str))\n",
      "distributed.utils_perf - WARNING - full garbage collections took 10% CPU time recently (threshold: 10%)\n",
      "distributed.utils_perf - WARNING - full garbage collections took 10% CPU time recently (threshold: 10%)\n"
     ]
    },
    {
     "name": "stdout",
     "output_type": "stream",
     "text": [
      "Epoch 1/20\n",
      "77/77 [==============================] - 6s 77ms/step - loss: 29.6564 - mae: 3.4187 - val_loss: 40.0114 - val_mae: 5.3970\n",
      "Epoch 2/20\n",
      "77/77 [==============================] - 6s 76ms/step - loss: 17.3319 - mae: 2.4767 - val_loss: 33.7028 - val_mae: 4.9802\n",
      "Epoch 3/20\n",
      "77/77 [==============================] - 6s 76ms/step - loss: 16.8575 - mae: 2.3113 - val_loss: 34.1649 - val_mae: 4.9958\n",
      "Epoch 4/20\n",
      "77/77 [==============================] - 6s 75ms/step - loss: 13.6008 - mae: 2.0189 - val_loss: 32.6427 - val_mae: 5.0028\n",
      "Epoch 5/20\n",
      "77/77 [==============================] - 6s 75ms/step - loss: 11.8931 - mae: 1.8864 - val_loss: 32.0052 - val_mae: 4.9696\n",
      "Epoch 6/20\n",
      "77/77 [==============================] - 6s 75ms/step - loss: 11.2721 - mae: 1.8535 - val_loss: 32.8839 - val_mae: 5.0433\n",
      "Epoch 7/20\n",
      "77/77 [==============================] - 6s 74ms/step - loss: 11.2571 - mae: 1.7990 - val_loss: 31.6614 - val_mae: 4.9345\n",
      "Epoch 8/20\n",
      "77/77 [==============================] - 6s 76ms/step - loss: 10.9282 - mae: 1.6513 - val_loss: 33.7027 - val_mae: 5.1120\n",
      "Epoch 9/20\n",
      "77/77 [==============================] - 6s 79ms/step - loss: 10.3531 - mae: 1.5944 - val_loss: 33.3432 - val_mae: 5.0971\n",
      "Epoch 10/20\n",
      "77/77 [==============================] - 6s 76ms/step - loss: 9.7614 - mae: 1.6083 - val_loss: 33.3211 - val_mae: 5.0960\n",
      "Epoch 11/20\n",
      "77/77 [==============================] - 6s 77ms/step - loss: 10.0851 - mae: 1.5404 - val_loss: 33.0616 - val_mae: 5.1094\n",
      "Epoch 12/20\n",
      "77/77 [==============================] - 6s 75ms/step - loss: 9.4254 - mae: 1.5209 - val_loss: 32.2088 - val_mae: 5.0677\n"
     ]
    }
   ],
   "source": [
    "trainingCycles = 3\n",
    "for trainingCycle in range(trainingCycles):\n",
    "    chunkLoopCount = int(np.ceil(mcEntryCount / rootChunkSize))\n",
    "    for rootChunkLoopCounter in range(chunkLoopCount):\n",
    "        gc.collect()\n",
    "        print(f\"Chunk {rootChunkLoopCounter + 1}/{chunkLoopCount} // {np.round((rootChunkLoopCounter / chunkLoopCount) * 100, 2)}% Complete // Cycle {trainingCycle + 1}/{trainingCycles}\")\n",
    "        if rootChunkLoopCounter != 0:\n",
    "            mcDataChunk = PreprocessData(daskdf.from_pandas(pd.read_csv(mcPath, names = mcHeaders, chunksize = rootChunkSize, skiprows = rootChunkSize * rootChunkLoopCounter, low_memory = False).get_chunk(rootChunkSize), npartitions = chunkCount), uniqueLabels)\n",
    "        else:\n",
    "            mcDataChunk = PreprocessData(daskdf.from_pandas(pd.read_csv(mcPath, chunksize = rootChunkSize, low_memory = False).get_chunk(rootChunkSize), npartitions = chunkCount), uniqueLabels)\n",
    "        mcMod = FinalPreprocessAndTrain(mcDataChunk, langPro, mcMod, mcTokenizer, maxSeqLen, mcScaler)\n",
    "        mcMod.save(\"intermediate/MetacriticReviewModel_chunkCheckpoint.keras\")\n",
    "    mcMod.save(\"intermediate/MetacriticReviewModel_cycleCheckpoint.keras\")\n",
    "mcMod.save(\"MetacriticReviewModel.keras\")\n",
    "SaveModVars()"
   ]
  },
  {
   "cell_type": "markdown",
   "metadata": {},
   "source": [
    "E. Data Summary and Implications\n",
    "- The data analysis revealed significant relationships between pre-release and early-release information and the overall user ratings. The model showed decent predictive performance, with reasonable values for MSE, MAE, and R2 that suggest that although the model has room for improvement, it can provide useful predictions. One limitation of the analysis is that it relies on historical data, some of which is somewhat dated now, so it may not fully capture evolving trends in the video game industry. It is recommended that the model be further refined, so that game developers and publishers can use the model to optimize pre-release and early-release strategies, such as improving initial reviews and targeting popular genres and platforms, to enhance overall user reception.\n",
    "- Future studies could include social media sentiment analysis to capture more real-time and dynamic user opinions.\n",
    "- Additionally, expanding the dataset to include more recent games and additional platforms could improve the model's relevance and accuracy."
   ]
  },
  {
   "cell_type": "code",
   "execution_count": 22,
   "metadata": {},
   "outputs": [
    {
     "name": "stderr",
     "output_type": "stream",
     "text": [
      "y:\\ML\\Anaconda\\envs\\TF-GPU\\lib\\site-packages\\sklearn\\preprocessing\\_label.py:876: UserWarning: unknown class(es) ['Text'] will be ignored\n",
      "  \"unknown class(es) {0} will be ignored\".format(sorted(unknown, key=str))\n",
      "y:\\ML\\Anaconda\\envs\\TF-GPU\\lib\\site-packages\\sklearn\\preprocessing\\_label.py:876: UserWarning: unknown class(es) [' 1C', ' 343 Industries ', ' Acclaim Studios Manchester ', ' Animation Arts ', ' Application Systems Heidelberg ', ' Atari SA ', ' B.B.Studio ', ' Behaviour Interactive ', ' Bigben Games ', ' Bigben Interactive', ' Bitworks ', ' Capcom Vancouver ', ' Cape Guy ', ' Cauldron Ltd. ', ' Cherrymochi ', ' Cognosphere ', ' Creative Business Unit III ', ' Crows Crows Crows ', ' Deep Silver Fishlabs ', ' Devoured Studios ', ' Digital Sun ', ' Dlala Studios ', ' Do My Best Games ', ' Dose', ' EA Singapore ', ' EA Vancouver ', ' Elbow Rocket ', ' Elemental Games', ' Endnight Studios ', ' Eurocom ', ' Flashback Games ', ' Florian Himsl ', ' Fullbright ', ' FunHouse ', ' Funatics ', ' Funatics Software', ' Furious Bee ', ' Gaming Minds Studios ', ' Goldhawk Interactive ', ' Gone North Games ', ' Grove Street Games ', ' Hopoo Games ', ' Hotta Studio ', ' Infinite Interactive ', ' Introversion Software ', ' Joshua Nuernberger ', ' King Art Games ', ' Kitty', ' Koalabs ', ' Koei Tecmo Games ', ' LandFall ', ' M2H & BlackMill Games ', ' Mercenary Technologies ', ' MicroProse', ' Ministry of Broadcast Studios ', ' Minority Media Inc. ', ' Mixed Realms ', ' Movie Games ', ' Novacore Studios ', ' ONEOONE GAMES ', ' Omen ', ' Out of the Blue Games S.L. ', ' Point Blank ', ' Project Soul ', ' Rabbit & Bear Studios ', ' Rockstar San Diego ', ' Sega', ' Sky Fallen', ' Spike Chunsoft ', ' Splash Damage', ' Squad ', ' Talawa Games ', ' Team 6 Games Studio ', ' TimeGate Studios ', ' Ubisoft Paris ', ' Vlambeer ', ' Voidpoint', ' Xaviant ', ' and JW ', '101%', '11 bit studios', '17-Bit ', '1C-Softclub ', '1C:Ino-Co ', '258 Productions AB ', '3D Realms', '3D Realms ', '4X Studios ', '5 Lives Studios ', '7 Studios ', '8Monkey Labs ', 'A44 ', 'AWE Games ', 'Abbey Games ', 'Access Games ', 'Accidental Queens ', 'Acclaim', 'Acid Nerve ', 'Acid Wizard Studio ', 'Acme Gamestudio ', 'Action Squad Studios ', 'Activision', 'Akabaka ', 'Alientrap ', 'Almost Human ', 'Alt Shift ', 'Alter Games ', 'Amanita Design ', 'Angel Studios', 'Anim-X ', 'Anshar Studios ', 'Appeal', 'Application Systems Heidelberg Software GmbH', 'Artifice Studio ', 'Artificer ', 'Artisan Studios ', 'Arxel Tribe ', 'Ascendant Studios ', 'Askiisoft ', 'Atari', 'Aterdux Entertainment ', 'AtomTeam ', 'Auran ', 'Auroch Digital ', 'Awfully Nice Studios ', 'Balancing Monkey Games ', 'Bandai Namco Games', 'Banpresto', 'Battlefront.com', 'Beethoven & Dinosaur ', 'Behaviour Interactive Inc.', 'BestGameEver.com ', 'Biart ', 'Big Robot Ltd ', 'Big Star Games ', 'Big Time Software ', 'Bit Blot ', 'Bkom ', 'Black Cactus ', 'Black Element ', 'Black Matter ', 'Black Mesa Modification Team ', 'Black Pants ', 'Black Rock Studio ', 'Black Salt Games ', 'Black Sea Studios ', 'Blackpowder Games  ', 'Blendo Games ', 'Blue Castle Games ', 'Blue Manchu ', 'Blue Omega ', 'Bossa Studios ', 'Boxed Dream ', 'Brace Yourself Games ', 'Brat Designs ', 'Brave at Night ', 'Breaking Walls ', 'Broken Rules ', 'Buckshot Software ', 'BudCat ', 'Bullfrog Productions ', 'Bulwark Studios ', 'Byte Barrel ', 'CBE software ', 'CCCP ', 'CCR', 'Caged Element Inc. ', 'Camel 101 ', 'Campo Santo ', 'Capricia Productions ', 'Cardboard Computer ', 'Carlos Coronado ', 'Casey Donnellan Games LLC ', 'Causal Bit Games ', 'Cavedog Entertainment ', 'Cellar Door Games ', 'Chaos Concept ', 'Chaosmonger Studio ', 'Chasing Carrots ', 'Chronic Logic ', 'Chucklefish', 'Chucklefish ', 'Cinemaware ', 'Codemasters Birmingham ', 'Cold Iron Studios ', 'Coldwood Interactive ', 'Colibri Games ', 'ComonGames ', 'Complex Games Inc. ', 'Continuum ', 'Convoy Games ', 'Core Design Ltd. ', 'Cornered Rat ', 'Crate Entertainment ', 'Creative Bytes ', 'CreativeForge Games ', 'Croteam', 'Curve Studios ', 'Cyberlore Studios ', 'DNS Development ', 'Daedalic Studio West ', 'Dancing Dragon games ', 'Daniel Mullins Games ', 'Dark Energy Digital ', 'Dark Seas Games ', 'Data Becker ', 'Davey Wreden ', 'Dead Mage Studio ', 'Defiant Development ', 'Dejobaan Games ', 'Demagog Studio ', 'Demruth ', 'Denki ', 'Destineer ', 'Destroyer Studios ', 'Devespresso Games ', 'Die Gute Fabrik ', 'Digital Arrow ', 'Digital Confectioners ', 'Digital Eclipse ', 'Digital Sun ', 'Digitalo Studios ', 'Digixart Entertainment', 'Dim Bulb Games ', 'Dinosaur Polo Club ', 'Disney Interactive Studios ', 'Disney Online ', 'Draw Distance ', 'Draw Me A Pixel ', 'Dreadbit ', 'Dreams Uncorporated ', 'DrinkBox Studios ', 'Dynamix ', 'EA Black Box', 'EA Pacific ', 'EA Sports', 'EKO Software ', 'Ebb Software ', 'Eden Industries ', 'Eden Studios ', 'Edmund McMillen', 'Elastic Games ', 'Embers ', 'Enhance Games ', 'Enigami ', 'Enlight Software', 'Eurocom Entertainment Software', 'Event Horizon Software ', 'Exbleative ', 'FAKT Software ', 'Facepunch Studios ', 'Fatshark AB ', 'Feral Cat Den ', 'Fiddlesticks Games ', 'Final Strike Games ', 'Fireglow ', 'Fireplace Games ', 'Fishing Cactus ', 'Fishlabs', 'Fizz Factor ', 'Flaming Fowl Studios ', 'Flashback Games ', 'Flippfly ', 'Fluent ', 'Flying Lab Software ', 'Fort Triumph LTD ', 'Four Quarters ', 'Free Lives ', 'Freebird Games ', 'Freeform Interactive LLC ', 'Frog City Software ', 'Funatics Development GmbH', 'Fusionsphere Systems', 'Future Games ', 'G5 Software ', 'GRIN', 'Galactic Cafe', 'Game Grumps ', 'Gamepires ', 'Gamethunks', 'Gaming Minds Studios ', 'Gatling Goat Studios ', 'Gazillion ', 'Genius Slackers ', 'Geography of Robots ', 'Ghost Pattern ', 'Ghost Ship Games ', 'Giant Sparrow ', 'GlyphX Games ', 'GolemLabs ', 'Greenheart Games ', 'Greg Lobanov ', 'Greylock Studio ', 'GriN Multimedia ', 'Grinding Gear Games ', 'Grip Digital ', 'Grip Games ', 'HandyGames ', 'Harebrained Schemes LLC ', 'Harvester Games ', 'Hato Moa ', 'Heatwave Interactive ', 'Herobeat Studios ', 'Hibernian Workshop ', 'High Moon Studios', 'Himalaya Studios ', 'Homeless Unicorn', 'HopFrog ', 'House House ', 'House of Tales ', 'Housemarque ', 'Hydravision ', 'IF Games ', 'IMC Games ', 'ION LANDS ', 'IR Gurus ', 'ISOMETRICORP Games ', 'Ice-Pick Lodge ', 'Illusion Ray Studio ', 'In Utero ', 'InGame Studios ', 'Infinite Fall ', 'Innerloop ', 'Innerspace VR ', 'Interceptor Entertainment ', 'Interwave Studios ', 'Inti Creates ', 'Introversion', 'Investigate North ', 'Iron Tower Studio ', 'Jacob Antonucci', 'Jacob Dzwinel ', 'Jagex Games Studio ', 'Jesse Makkonen ', 'Joe Richardson ', 'JoyMasher ', 'Juice Games ', 'Jump Over The Age ', 'K-D Lab ', 'KCEJ ', 'KDV Games ', 'KING Art', 'KT Racing ', 'Kaos Studios ', 'Keen Software House ', \"Kiro'o Games \", 'Kitfox Games ', 'Koboldgames ', 'Kuju Entertainment ', 'LEAP Game Studios ', 'LKA ', 'LandFall Games', 'Lazy Bear Games ', 'Le Cartel Studio ', 'Leaping Lizard Software Inc. ', 'Legend Entertainment ', 'Level 5 ', 'Lexis Numerique ', 'Lienzo ', 'Lightbulb Crew ', 'Lightning Rod Games ', 'Limasse Five ', 'Lince Works ', 'Lionbite Games ', 'Little Green Men ', 'Lo-Fi Games ', 'Logic Artists ', 'Lucas Pope ', 'Ludeon Studios ', 'Luis Antonio ', 'Luxoflux', 'M2H', 'MINT ROCKET ', 'MONKEYCRAFT Co. Ltd. ', 'Mad Head Games ', 'Maddy Makes Games ', 'Magic Lantern ', 'Magnum Games ', 'Mandragora ', 'Massive Development ', 'Massive Monster ', 'Massive Work Studio ', 'Matthias Linda ', 'Mega Crit Games ', 'Metamorf Studios ', 'Metropolis Software ', 'Microids', 'MidBoss ', 'Might and Delight ', 'Mighty Polygon ', 'Minds-Eye Productions ', 'Mindware Studios ', 'Minority', 'Misfits Attic ', 'Mixed Realms Pte Ltd', 'Mode 7 Games ', 'Modern Storyteller ', 'Monolith Productions', 'Monomi Park ', 'Moon Spider Studio ', 'Moonlight Games ', 'Moonlight Kids ', 'Moonshark ', 'Mopeful Games ', 'Morteshka ', 'Mossmouth', 'Mothership Entertainment ', 'Motion Twin ', 'Mouldy Toof Studios ', 'Movie Games S.A.', 'Muro Studios Ltd. ', 'Muse Games ', 'Mystic Box ', 'Mythic Entertainment ', 'NATSUME ATARI Inc.', 'NExT Studios ', 'NGD Studios ', 'NVYVE Studios ', 'Naked Sky Entertainment ', 'Namco Bandai Games ', 'Naughty Dog', 'Necrophone ', 'Nemesys ', 'Neon Doctrine ', 'Neon Giant ', 'Nerial ', 'NetDevil ', 'Neversoft Entertainment', 'Neversoft Entertainment ', 'New Blood Interactive ', 'New World Computing ', 'Nicalis ', 'Nicolas Intoxicate ', 'Nihilistic ', 'Nine Rocks Games ', 'Northway Games ', 'NotGames ', 'Nvizzio Creations ', 'OhNoo ', 'Okomotive ', 'Old Moon ', 'Omega Force', 'One Bit Beyond ', 'Osmotic Studios ', 'Ostrich Banditos ', 'Out Of The Park Developments ', 'Out of the Blue', 'Outrage Games ', 'OverBorder Studio ', 'Ovosonico ', 'Owlcat Games ', 'Owlchemy Labs ', 'Owned by Gravity ', 'Panic Barn Ltd ', 'Parabole ', 'Paradox Interactive', 'Paradox North ', 'Paragon Studios ', 'Pathea Games ', 'Pencil Test Studios ', 'Perfect World Entertainment ', 'Phobia Game Studio ', 'Phosphor Games Studio', 'Pieces Interactive ', 'Pinkerton Road Studio ', 'Pinokl Games ', 'Piranha Games ', 'Pixel Crow ', 'Pixelated Milk ', 'Planet Moon Studios ', 'Plastic Piranha ', 'PlayMagic Ltd ', 'Plot Twist ', 'Pocketwatch Games ', 'Point Blank Games', 'Pollux Gamelabs ', 'PolyKnight Games ', 'Polygon Treehouse ', 'Polyslash ', 'Positech Games ', 'Press Play ', 'Prideful Sloth ', 'Proxima Beta Europe B.V.', 'Pterodon ', 'Punch Punk Games ', 'Puuba ', 'QLOC ', 'ROCKFISH Games ', 'Radical Fish Games ', 'Radon Labs ', 'Rare Ltd.', 'Rayland Interactive ', 'Ready at Dawn ', 'Red Candle Games ', 'Red Ego Games ', 'Red Redemption ', 'Red Thread Games ', 'RedRuins Softworks ', 'Reflections Interactive ', 'Reply Game Studios ', 'Resolution Games ', 'Revival Productions', 'Rewolf Software ', 'Robot House ', 'Robot Loves Kitty ', 'Rogue Factor ', 'Rogue Sun ', 'Ron Gilbert and Gary Winnick ', 'Rotobee ', 'S&G Software ', 'SKS Games', 'SQUADTeam', 'SSI ', 'Sabotage Studio ', 'Sam Barlow', 'Sam Barlow ', 'Sandbox Interactive ', 'Sanzaru ', 'Sassybot ', 'Scott Cawthon ', 'Secret Level ', 'Sector D2 ', 'Sega AM2 ', 'Serious Brew ', 'Sever ', 'Shed-Works ', 'Shining Rock Software ', 'Shiny Shoe ', 'Shiro Games ', 'Shiver Games ', 'Sierra Entertainment ', 'Silent Dreams ', 'Silver Style ', 'SimTex ', 'Ska Studios', 'Skrollcat Studios ', 'Sky Fallen ', 'Skydance Interactive ', 'Skyshine Games ', 'Sloclap ', 'Snapshot Games Inc. ', 'Snowbird Game Studios ', 'Snowhound Games ', 'SomaSim ', 'Something Classic Games LLC ', 'Something We Made ', 'Sorath ', 'Sourcenext ', 'SouthPeak Games ', 'Spaces of Play ', 'Spearhead Games ', 'Spellbind Studios ', 'Spike Chunsoft ', 'Spike Chunsoft Co. Ltd.', 'Spry Fox ', 'Stormfront Studios ', 'Strangelite ', 'Strayllight Entertainment ', 'Studio Drydock Pty Ltd ', 'Studio Pixel ', 'Stunlock Studios ', 'Stygian Software ', 'Sukeban Games ', 'Sumo Digital', 'Supersonic Software ', 'Surreal Software ', 'Swordtales ', 'System Era Softworks ', 'Tactical Adventures ', 'Tag of Joy ', 'Taito Corporation ', 'Taldren ', 'Tale of Tales ', 'Targem Games ', 'Tasharen Entertainment ', 'Team Gotham ', 'Team Ninja', 'Team Reptile ', 'Team Salvato ', 'Team6 Game Studios', 'Teku Studios  ', 'Teotl Studios', 'Terri', 'Terry Cavanagh ', 'The Behemoth ', 'The Chinese Room ', 'The Collective ', 'The Fullbright Company', 'The Fullbright Company ', 'The Lordz Games Studio', 'The Outsiders ', 'The Parasight ', 'The Tiniest Shark ', 'The Wandering Band LLC ', 'The Wild Gentlemen ', 'Thing Trunk ', 'ThinkingStars ', 'Third Law Interactive ', 'Threaks ', 'Three Fields Entertainment ', 'Timeline Computer Entertainment ', 'Tindalos Interactive ', 'Toge Productions ', 'Tom Francis ', 'Tom Happ ', 'Tomasz Waclawek ', 'Tomorrow Corporation ', 'Torpor Games ', 'Totally Games ', 'Tour De Pizza ', 'Toxic Games ', 'Trepang Studios ', 'Tribute Games ', 'Trine Games ', 'Twisted Pixel Games ', 'UBlart Montpellier ', 'Ubisoft Blue Byte ', 'Ubisoft Bordeaux ', 'Ubisoft Milan ', 'Ubisoft Montreal', 'Ubisoft Singapore ', 'Ubisoft Sofia ', 'Ultimation Inc. ', 'Ultra Runaway Games ', 'Unicube ', 'Untame ', 'Uprising Studios ', 'Urban Games ', 'Vanguard', 'Variable State ', 'Vblank Entertainment Inc. ', 'Veewo Games ', 'Velan Studios ', 'Visiware Studios ', 'Vitamin G Studios ', 'Vlambeer ', 'Voracious Games ', 'Wadjet Eye Games', 'Wadjet Eye Games ', 'White Rabbit Interactive ', 'Wideload Games Inc. ', 'Wishfully ', 'Wizards of the Coast ', 'Wolcen Studio ', 'Wonderstruck Games ', 'WorldForge ', 'Worldwalker Games ', 'Wube Software LTD. ', 'X1 Software ', 'XXV Productions ', 'Xaviant Games', 'Zeboyd Games ', 'Zero Sum Games ', 'Zoink! ', 'animdude ', 'comcept ', 'damiansommer ', 'inkle', 'miHoYo', 'roll7 ', 'rose-engine ', 'superflat games ', 'tinyBuild', 'tobyfox ', 'xii games '] will be ignored\n",
      "  \"unknown class(es) {0} will be ignored\".format(sorted(unknown, key=str))\n",
      "distributed.utils_perf - WARNING - full garbage collections took 10% CPU time recently (threshold: 10%)\n",
      "distributed.utils_perf - WARNING - full garbage collections took 10% CPU time recently (threshold: 10%)\n"
     ]
    },
    {
     "name": "stdout",
     "output_type": "stream",
     "text": [
      "Evaluation -- MSE: 119.35368347167969, MAE: 8.38284683227539, R2: 0.1009657202754819\n"
     ]
    }
   ],
   "source": [
    "mcMSE, mcMAE, mcR2 = EvaluateMCModel(mcMod, mcScaler, mcTokenizer, maxSeqLen, uniqueLabels)\n",
    "print(f\"Evaluation -- MSE: {mcMSE}, MAE: {mcMAE}, R2: {mcR2}\")"
   ]
  },
  {
   "cell_type": "code",
   "execution_count": 24,
   "metadata": {},
   "outputs": [
    {
     "name": "stderr",
     "output_type": "stream",
     "text": [
      "y:\\ML\\Anaconda\\envs\\TF-GPU\\lib\\site-packages\\sklearn\\preprocessing\\_label.py:876: UserWarning: unknown class(es) ['Nintendo'] will be ignored\n",
      "  \"unknown class(es) {0} will be ignored\".format(sorted(unknown, key=str))\n",
      "distributed.utils_perf - WARNING - full garbage collections took 12% CPU time recently (threshold: 10%)\n",
      "distributed.utils_perf - WARNING - full garbage collections took 12% CPU time recently (threshold: 10%)\n"
     ]
    },
    {
     "name": "stdout",
     "output_type": "stream",
     "text": [
      "Predicted Metascore: 75.68212127685547\n"
     ]
    }
   ],
   "source": [
    "inData = {\n",
    "    \"Game Release Date\": \"27-Feb-25\",\n",
    "    \"Game Developer\": \"Nintendo\",\n",
    "    \"Genre\": \"Genre(s):Miscellaneous,Puzzle,Action,Platformer\",\n",
    "    \"Platforms\": \"PlayStation5,Switch,PC\",\n",
    "    \"Product Rating\": \"T\",\n",
    "    \"Overall Metascore\": 80,\n",
    "    \"Overall User Rating\": \"8.5\",\n",
    "    \"Rating Given By The Reviewer\": \"8\",\n",
    "    \"Review Text\": \"The open-world gameplay is makes this platformer highly enjoyable.\"\n",
    "}\n",
    "mcPred = PredictMetascore(mcMod, mcTokenizer, mcScaler, maxSeqLen, inData)\n",
    "print(f\"Predicted Metascore: {mcPred[0][0]}\")"
   ]
  }
 ],
 "metadata": {
  "kernelspec": {
   "display_name": "Python 3 (ipykernel)",
   "language": "python",
   "name": "python3"
  },
  "language_info": {
   "codemirror_mode": {
    "name": "ipython",
    "version": 3
   },
   "file_extension": ".py",
   "mimetype": "text/x-python",
   "name": "python",
   "nbconvert_exporter": "python",
   "pygments_lexer": "ipython3",
   "version": "3.11.7"
  }
 },
 "nbformat": 4,
 "nbformat_minor": 4
}
